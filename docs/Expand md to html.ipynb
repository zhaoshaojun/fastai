{
 "cells": [
  {
   "cell_type": "code",
   "execution_count": 1,
   "metadata": {
    "collapsed": true
   },
   "outputs": [],
   "source": [
    "import sys\n",
    "import re"
   ]
  },
  {
   "cell_type": "code",
   "execution_count": 2,
   "metadata": {
    "collapsed": true
   },
   "outputs": [],
   "source": [
    "f = open(\"transforms.md\", \"r\")\n",
    "contents = f.read()"
   ]
  },
  {
   "cell_type": "code",
   "execution_count": 23,
   "metadata": {
    "collapsed": true
   },
   "outputs": [],
   "source": [
    "t = \"hello {{method Jeremy}} there {{method close}}\""
   ]
  },
  {
   "cell_type": "code",
   "execution_count": 28,
   "metadata": {
    "collapsed": true
   },
   "outputs": [],
   "source": [
    "def do_method(ps): return str(ps)"
   ]
  },
  {
   "cell_type": "code",
   "execution_count": 29,
   "metadata": {
    "collapsed": true
   },
   "outputs": [],
   "source": [
    "fn_lu = {'class': sub_class,\n",
    "         'arguments': sub_arguments,\n",
    "         'arg': sub_arg,\n",
    "         'xref': sub_xref,\n",
    "         'methods', sub_methods\n",
    "         'method': sub_method}"
   ]
  },
  {
   "cell_type": "code",
   "execution_count": null,
   "metadata": {
    "collapsed": true
   },
   "outputs": [],
   "source": [
    "def sub_methods():\n",
    "    \"\"\"<h3 class=\"methods\">Methods</h3>\n",
    "\n",
    "        <ul class=\"methodlist\">\"\"\"\n"
   ]
  },
  {
   "cell_type": "code",
   "execution_count": null,
   "metadata": {
    "collapsed": true
   },
   "outputs": [],
   "source": [
    "def sub_method():\n",
    "    ''<li id=\"Transform-set_state\" class=\"method\">'\n"
   ]
  },
  {
   "cell_type": "code",
   "execution_count": 30,
   "metadata": {
    "collapsed": true
   },
   "outputs": [],
   "source": [
    "def do_tmpl(s):\n",
    "    inner = s.group(1)\n",
    "    fn_name,*params = inner.split(' ')\n",
    "    fn = fn_lu[fn_name]\n",
    "    return fn(params)"
   ]
  },
  {
   "cell_type": "code",
   "execution_count": 31,
   "metadata": {
    "collapsed": false
   },
   "outputs": [
    {
     "data": {
      "text/plain": [
       "\"hello ['Jeremy'] there ['close']\""
      ]
     },
     "execution_count": 31,
     "metadata": {},
     "output_type": "execute_result"
    }
   ],
   "source": [
    "re.sub(r\"{{(.*?)}}\", do_tmpl, t)"
   ]
  },
  {
   "cell_type": "code",
   "execution_count": null,
   "metadata": {
    "code_folding": [],
    "collapsed": true
   },
   "outputs": [],
   "source": [
    "def expand(filename):\n",
    "\n",
    "    f = open(filename, \"r\")\n",
    "    contents = f.read()\n",
    "\n",
    "    regex_inside = r\"\\{\\{(.*?)\\}\\}\"\n",
    "    regex_outside = r\"(^|\\}\\})(.*?)(\\{\\{|$)\"\n",
    "\n",
    "    within = re.finditer(regex_inside, contents, re.MULTILINE | re.DOTALL)\n",
    "    outside = re.finditer(regex_outside, contents, re.MULTILINE | re.DOTALL) \n",
    "\n",
    "    for matchNum, match in enumerate(within):\n",
    "        for groupNum in range(0, len(match.groups())):\n",
    "            group = match.group(1)\n",
    "            if group.startswith(\"class\"):\n",
    "                classname = re.search(r\" (.*?),\", group).groups()[0]\n",
    "                params = re.search(r\",(.*)\", group).groups()[0]\n",
    "                print('<h2 id=\"' + classname + '\" class=\"class\">Class: ' + classname + '(<span class=\"params\">' + params + '</span></h2>')\n",
    "\n",
    "            print (match.group(1))\n",
    "\n"
   ]
  }
 ],
 "metadata": {
  "anaconda-cloud": {},
  "kernelspec": {
   "display_name": "Python [conda root]",
   "language": "python",
   "name": "conda-root-py"
  },
  "language_info": {
   "codemirror_mode": {
    "name": "ipython",
    "version": 3
   },
   "file_extension": ".py",
   "mimetype": "text/x-python",
   "name": "python",
   "nbconvert_exporter": "python",
   "pygments_lexer": "ipython3",
   "version": "3.5.2"
  }
 },
 "nbformat": 4,
 "nbformat_minor": 2
}
