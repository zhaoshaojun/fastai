{
 "cells": [
  {
   "cell_type": "code",
   "execution_count": 139,
   "metadata": {},
   "outputs": [],
   "source": [
    "import pandas as pd"
   ]
  },
  {
   "cell_type": "code",
   "execution_count": 206,
   "metadata": {},
   "outputs": [],
   "source": [
    "df1 = pd.read_csv(\n",
    "    # 'acc-reg-small.txt', sep='\\t', header=None, \n",
    "    'acc-3-3.txt.backup.more', sep='\\t', header=None, \n",
    "    names=[\n",
    "        'index',\n",
    "        'lr',\n",
    "        'wd',\n",
    "        'train-loss', \n",
    "        'eval-loss', \n",
    "        'train-acc', \n",
    "        'eval-acc',\n",
    "        'nb-acc',\n",
    "        'lr-acc',\n",
    "        'lr-acc2'\n",
    "    ],\n",
    ")"
   ]
  },
  {
   "cell_type": "code",
   "execution_count": 207,
   "metadata": {},
   "outputs": [
    {
     "data": {
      "text/plain": [
       "(913, 10)"
      ]
     },
     "execution_count": 207,
     "metadata": {},
     "output_type": "execute_result"
    }
   ],
   "source": [
    "df1.shape"
   ]
  },
  {
   "cell_type": "code",
   "execution_count": null,
   "metadata": {},
   "outputs": [],
   "source": []
  },
  {
   "cell_type": "code",
   "execution_count": 208,
   "metadata": {},
   "outputs": [],
   "source": [
    "df2 = pd.read_csv(\n",
    "    'acc-3-2.txt', sep='\\t', header=None, \n",
    "    names=[\n",
    "        'index',\n",
    "        'lr',\n",
    "        'wd',\n",
    "        'train-loss', \n",
    "        'eval-loss', \n",
    "        'train-acc', \n",
    "        'eval-acc',\n",
    "        'nb-acc',\n",
    "        'lr-acc',\n",
    "        'lr-acc2'\n",
    "    ],\n",
    ")"
   ]
  },
  {
   "cell_type": "code",
   "execution_count": 209,
   "metadata": {},
   "outputs": [
    {
     "data": {
      "text/plain": [
       "(915, 10)"
      ]
     },
     "execution_count": 209,
     "metadata": {},
     "output_type": "execute_result"
    }
   ],
   "source": [
    "df2.shape"
   ]
  },
  {
   "cell_type": "code",
   "execution_count": 210,
   "metadata": {},
   "outputs": [],
   "source": [
    "df3 = pd.read_csv(\n",
    "    'acc.txt', sep='\\t', header=None, \n",
    "    names=[\n",
    "        'index',\n",
    "        'lr',\n",
    "        'wd',\n",
    "        'train-loss', \n",
    "        'eval-loss', \n",
    "        'train-acc', \n",
    "        'eval-acc',\n",
    "        'nb-acc',\n",
    "        'lr-acc',\n",
    "        'lr-acc2'\n",
    "    ],\n",
    ")"
   ]
  },
  {
   "cell_type": "code",
   "execution_count": 211,
   "metadata": {},
   "outputs": [
    {
     "data": {
      "text/plain": [
       "(234, 10)"
      ]
     },
     "execution_count": 211,
     "metadata": {},
     "output_type": "execute_result"
    }
   ],
   "source": [
    "df3.shape"
   ]
  },
  {
   "cell_type": "code",
   "execution_count": 212,
   "metadata": {},
   "outputs": [
    {
     "data": {
      "text/html": [
       "<div>\n",
       "<style scoped>\n",
       "    .dataframe tbody tr th:only-of-type {\n",
       "        vertical-align: middle;\n",
       "    }\n",
       "\n",
       "    .dataframe tbody tr th {\n",
       "        vertical-align: top;\n",
       "    }\n",
       "\n",
       "    .dataframe thead th {\n",
       "        text-align: right;\n",
       "    }\n",
       "</style>\n",
       "<table border=\"1\" class=\"dataframe\">\n",
       "  <thead>\n",
       "    <tr style=\"text-align: right;\">\n",
       "      <th></th>\n",
       "      <th>index</th>\n",
       "      <th>lr</th>\n",
       "      <th>wd</th>\n",
       "      <th>train-loss</th>\n",
       "      <th>eval-loss</th>\n",
       "      <th>train-acc</th>\n",
       "      <th>eval-acc</th>\n",
       "      <th>nb-acc</th>\n",
       "      <th>lr-acc</th>\n",
       "      <th>lr-acc2</th>\n",
       "    </tr>\n",
       "  </thead>\n",
       "  <tbody>\n",
       "    <tr>\n",
       "      <td>0</td>\n",
       "      <td>0</td>\n",
       "      <td>0.001</td>\n",
       "      <td>0.001</td>\n",
       "      <td>41.352402</td>\n",
       "      <td>42.018631</td>\n",
       "      <td>0.939844</td>\n",
       "      <td>0.832812</td>\n",
       "      <td>0.832812</td>\n",
       "      <td>0.845313</td>\n",
       "      <td>0.860938</td>\n",
       "    </tr>\n",
       "    <tr>\n",
       "      <td>1</td>\n",
       "      <td>1</td>\n",
       "      <td>0.001</td>\n",
       "      <td>0.001</td>\n",
       "      <td>39.248333</td>\n",
       "      <td>39.875019</td>\n",
       "      <td>0.950234</td>\n",
       "      <td>0.837109</td>\n",
       "      <td>0.832812</td>\n",
       "      <td>0.845313</td>\n",
       "      <td>0.860938</td>\n",
       "    </tr>\n",
       "    <tr>\n",
       "      <td>2</td>\n",
       "      <td>2</td>\n",
       "      <td>0.001</td>\n",
       "      <td>0.001</td>\n",
       "      <td>37.280060</td>\n",
       "      <td>37.894218</td>\n",
       "      <td>0.953516</td>\n",
       "      <td>0.842969</td>\n",
       "      <td>0.832812</td>\n",
       "      <td>0.845313</td>\n",
       "      <td>0.860938</td>\n",
       "    </tr>\n",
       "    <tr>\n",
       "      <td>3</td>\n",
       "      <td>3</td>\n",
       "      <td>0.001</td>\n",
       "      <td>0.001</td>\n",
       "      <td>35.410908</td>\n",
       "      <td>36.011497</td>\n",
       "      <td>0.956484</td>\n",
       "      <td>0.844141</td>\n",
       "      <td>0.832812</td>\n",
       "      <td>0.845313</td>\n",
       "      <td>0.860938</td>\n",
       "    </tr>\n",
       "    <tr>\n",
       "      <td>4</td>\n",
       "      <td>4</td>\n",
       "      <td>0.001</td>\n",
       "      <td>0.001</td>\n",
       "      <td>33.637447</td>\n",
       "      <td>34.224354</td>\n",
       "      <td>0.958750</td>\n",
       "      <td>0.846094</td>\n",
       "      <td>0.832812</td>\n",
       "      <td>0.845313</td>\n",
       "      <td>0.860938</td>\n",
       "    </tr>\n",
       "  </tbody>\n",
       "</table>\n",
       "</div>"
      ],
      "text/plain": [
       "   index     lr     wd  train-loss  eval-loss  train-acc  eval-acc    nb-acc  \\\n",
       "0      0  0.001  0.001   41.352402  42.018631   0.939844  0.832812  0.832812   \n",
       "1      1  0.001  0.001   39.248333  39.875019   0.950234  0.837109  0.832812   \n",
       "2      2  0.001  0.001   37.280060  37.894218   0.953516  0.842969  0.832812   \n",
       "3      3  0.001  0.001   35.410908  36.011497   0.956484  0.844141  0.832812   \n",
       "4      4  0.001  0.001   33.637447  34.224354   0.958750  0.846094  0.832812   \n",
       "\n",
       "     lr-acc   lr-acc2  \n",
       "0  0.845313  0.860938  \n",
       "1  0.845313  0.860938  \n",
       "2  0.845313  0.860938  \n",
       "3  0.845313  0.860938  \n",
       "4  0.845313  0.860938  "
      ]
     },
     "execution_count": 212,
     "metadata": {},
     "output_type": "execute_result"
    }
   ],
   "source": [
    "df1.head()"
   ]
  },
  {
   "cell_type": "code",
   "execution_count": 213,
   "metadata": {},
   "outputs": [
    {
     "data": {
      "text/html": [
       "<div>\n",
       "<style scoped>\n",
       "    .dataframe tbody tr th:only-of-type {\n",
       "        vertical-align: middle;\n",
       "    }\n",
       "\n",
       "    .dataframe tbody tr th {\n",
       "        vertical-align: top;\n",
       "    }\n",
       "\n",
       "    .dataframe thead th {\n",
       "        text-align: right;\n",
       "    }\n",
       "</style>\n",
       "<table border=\"1\" class=\"dataframe\">\n",
       "  <thead>\n",
       "    <tr style=\"text-align: right;\">\n",
       "      <th></th>\n",
       "      <th>index</th>\n",
       "      <th>lr</th>\n",
       "      <th>wd</th>\n",
       "      <th>train-loss</th>\n",
       "      <th>eval-loss</th>\n",
       "      <th>train-acc</th>\n",
       "      <th>eval-acc</th>\n",
       "      <th>nb-acc</th>\n",
       "      <th>lr-acc</th>\n",
       "      <th>lr-acc2</th>\n",
       "    </tr>\n",
       "  </thead>\n",
       "  <tbody>\n",
       "    <tr>\n",
       "      <td>0</td>\n",
       "      <td>0</td>\n",
       "      <td>0.001</td>\n",
       "      <td>0.01</td>\n",
       "      <td>411.297607</td>\n",
       "      <td>411.963867</td>\n",
       "      <td>0.939844</td>\n",
       "      <td>0.832812</td>\n",
       "      <td>0.832812</td>\n",
       "      <td>0.845313</td>\n",
       "      <td>0.860938</td>\n",
       "    </tr>\n",
       "    <tr>\n",
       "      <td>1</td>\n",
       "      <td>1</td>\n",
       "      <td>0.001</td>\n",
       "      <td>0.01</td>\n",
       "      <td>246.490723</td>\n",
       "      <td>247.037994</td>\n",
       "      <td>0.950859</td>\n",
       "      <td>0.837109</td>\n",
       "      <td>0.832812</td>\n",
       "      <td>0.845313</td>\n",
       "      <td>0.860938</td>\n",
       "    </tr>\n",
       "    <tr>\n",
       "      <td>2</td>\n",
       "      <td>2</td>\n",
       "      <td>0.001</td>\n",
       "      <td>0.01</td>\n",
       "      <td>147.739288</td>\n",
       "      <td>148.195190</td>\n",
       "      <td>0.955469</td>\n",
       "      <td>0.844922</td>\n",
       "      <td>0.832812</td>\n",
       "      <td>0.845313</td>\n",
       "      <td>0.860938</td>\n",
       "    </tr>\n",
       "    <tr>\n",
       "      <td>3</td>\n",
       "      <td>3</td>\n",
       "      <td>0.001</td>\n",
       "      <td>0.01</td>\n",
       "      <td>88.567604</td>\n",
       "      <td>88.942726</td>\n",
       "      <td>0.959844</td>\n",
       "      <td>0.846094</td>\n",
       "      <td>0.832812</td>\n",
       "      <td>0.845313</td>\n",
       "      <td>0.860938</td>\n",
       "    </tr>\n",
       "    <tr>\n",
       "      <td>4</td>\n",
       "      <td>4</td>\n",
       "      <td>0.001</td>\n",
       "      <td>0.01</td>\n",
       "      <td>53.119186</td>\n",
       "      <td>53.433167</td>\n",
       "      <td>0.964141</td>\n",
       "      <td>0.850391</td>\n",
       "      <td>0.832812</td>\n",
       "      <td>0.845313</td>\n",
       "      <td>0.860938</td>\n",
       "    </tr>\n",
       "  </tbody>\n",
       "</table>\n",
       "</div>"
      ],
      "text/plain": [
       "   index     lr    wd  train-loss   eval-loss  train-acc  eval-acc    nb-acc  \\\n",
       "0      0  0.001  0.01  411.297607  411.963867   0.939844  0.832812  0.832812   \n",
       "1      1  0.001  0.01  246.490723  247.037994   0.950859  0.837109  0.832812   \n",
       "2      2  0.001  0.01  147.739288  148.195190   0.955469  0.844922  0.832812   \n",
       "3      3  0.001  0.01   88.567604   88.942726   0.959844  0.846094  0.832812   \n",
       "4      4  0.001  0.01   53.119186   53.433167   0.964141  0.850391  0.832812   \n",
       "\n",
       "     lr-acc   lr-acc2  \n",
       "0  0.845313  0.860938  \n",
       "1  0.845313  0.860938  \n",
       "2  0.845313  0.860938  \n",
       "3  0.845313  0.860938  \n",
       "4  0.845313  0.860938  "
      ]
     },
     "execution_count": 213,
     "metadata": {},
     "output_type": "execute_result"
    }
   ],
   "source": [
    "df2.head()"
   ]
  },
  {
   "cell_type": "code",
   "execution_count": 214,
   "metadata": {},
   "outputs": [
    {
     "data": {
      "text/html": [
       "<div>\n",
       "<style scoped>\n",
       "    .dataframe tbody tr th:only-of-type {\n",
       "        vertical-align: middle;\n",
       "    }\n",
       "\n",
       "    .dataframe tbody tr th {\n",
       "        vertical-align: top;\n",
       "    }\n",
       "\n",
       "    .dataframe thead th {\n",
       "        text-align: right;\n",
       "    }\n",
       "</style>\n",
       "<table border=\"1\" class=\"dataframe\">\n",
       "  <thead>\n",
       "    <tr style=\"text-align: right;\">\n",
       "      <th></th>\n",
       "      <th>index</th>\n",
       "      <th>lr</th>\n",
       "      <th>wd</th>\n",
       "      <th>train-loss</th>\n",
       "      <th>eval-loss</th>\n",
       "      <th>train-acc</th>\n",
       "      <th>eval-acc</th>\n",
       "      <th>nb-acc</th>\n",
       "      <th>lr-acc</th>\n",
       "      <th>lr-acc2</th>\n",
       "    </tr>\n",
       "  </thead>\n",
       "  <tbody>\n",
       "    <tr>\n",
       "      <td>0</td>\n",
       "      <td>0</td>\n",
       "      <td>0.001</td>\n",
       "      <td>1.000000e-08</td>\n",
       "      <td>0.24778</td>\n",
       "      <td>0.914014</td>\n",
       "      <td>0.939844</td>\n",
       "      <td>0.832812</td>\n",
       "      <td>0.832812</td>\n",
       "      <td>0.845313</td>\n",
       "      <td>0.860938</td>\n",
       "    </tr>\n",
       "    <tr>\n",
       "      <td>1</td>\n",
       "      <td>1</td>\n",
       "      <td>0.001</td>\n",
       "      <td>1.000000e-08</td>\n",
       "      <td>0.24778</td>\n",
       "      <td>0.914014</td>\n",
       "      <td>0.939844</td>\n",
       "      <td>0.832812</td>\n",
       "      <td>0.832812</td>\n",
       "      <td>0.845313</td>\n",
       "      <td>0.860938</td>\n",
       "    </tr>\n",
       "    <tr>\n",
       "      <td>2</td>\n",
       "      <td>2</td>\n",
       "      <td>0.001</td>\n",
       "      <td>1.000000e-08</td>\n",
       "      <td>0.24778</td>\n",
       "      <td>0.914014</td>\n",
       "      <td>0.939844</td>\n",
       "      <td>0.832812</td>\n",
       "      <td>0.832812</td>\n",
       "      <td>0.845313</td>\n",
       "      <td>0.860938</td>\n",
       "    </tr>\n",
       "    <tr>\n",
       "      <td>3</td>\n",
       "      <td>3</td>\n",
       "      <td>0.001</td>\n",
       "      <td>1.000000e-08</td>\n",
       "      <td>0.24778</td>\n",
       "      <td>0.914014</td>\n",
       "      <td>0.939844</td>\n",
       "      <td>0.832812</td>\n",
       "      <td>0.832812</td>\n",
       "      <td>0.845313</td>\n",
       "      <td>0.860938</td>\n",
       "    </tr>\n",
       "    <tr>\n",
       "      <td>4</td>\n",
       "      <td>4</td>\n",
       "      <td>0.001</td>\n",
       "      <td>1.000000e-08</td>\n",
       "      <td>0.24778</td>\n",
       "      <td>0.914014</td>\n",
       "      <td>0.939844</td>\n",
       "      <td>0.832812</td>\n",
       "      <td>0.832812</td>\n",
       "      <td>0.845313</td>\n",
       "      <td>0.860938</td>\n",
       "    </tr>\n",
       "  </tbody>\n",
       "</table>\n",
       "</div>"
      ],
      "text/plain": [
       "   index     lr            wd  train-loss  eval-loss  train-acc  eval-acc  \\\n",
       "0      0  0.001  1.000000e-08     0.24778   0.914014   0.939844  0.832812   \n",
       "1      1  0.001  1.000000e-08     0.24778   0.914014   0.939844  0.832812   \n",
       "2      2  0.001  1.000000e-08     0.24778   0.914014   0.939844  0.832812   \n",
       "3      3  0.001  1.000000e-08     0.24778   0.914014   0.939844  0.832812   \n",
       "4      4  0.001  1.000000e-08     0.24778   0.914014   0.939844  0.832812   \n",
       "\n",
       "     nb-acc    lr-acc   lr-acc2  \n",
       "0  0.832812  0.845313  0.860938  \n",
       "1  0.832812  0.845313  0.860938  \n",
       "2  0.832812  0.845313  0.860938  \n",
       "3  0.832812  0.845313  0.860938  \n",
       "4  0.832812  0.845313  0.860938  "
      ]
     },
     "execution_count": 214,
     "metadata": {},
     "output_type": "execute_result"
    }
   ],
   "source": [
    "df3.head()"
   ]
  },
  {
   "cell_type": "code",
   "execution_count": 215,
   "metadata": {},
   "outputs": [
    {
     "data": {
      "text/plain": [
       "<matplotlib.axes._subplots.AxesSubplot at 0x126d4e6d8>"
      ]
     },
     "execution_count": 215,
     "metadata": {},
     "output_type": "execute_result"
    },
    {
     "data": {
      "image/png": "[encoded data removed]",
      "text/plain": [
       "<Figure size 432x288 with 1 Axes>"
      ]
     },
     "metadata": {
      "needs_background": "light"
     },
     "output_type": "display_data"
    }
   ],
   "source": [
    "df1[['lr-acc', 'lr-acc2', 'eval-acc', 'nb-acc']].plot()"
   ]
  },
  {
   "cell_type": "code",
   "execution_count": 216,
   "metadata": {},
   "outputs": [
    {
     "data": {
      "text/plain": [
       "<matplotlib.axes._subplots.AxesSubplot at 0x126fd8550>"
      ]
     },
     "execution_count": 216,
     "metadata": {},
     "output_type": "execute_result"
    },
    {
     "data": {
      "image/png": "[encoded data removed]",
      "text/plain": [
       "<Figure size 432x288 with 1 Axes>"
      ]
     },
     "metadata": {
      "needs_background": "light"
     },
     "output_type": "display_data"
    }
   ],
   "source": [
    "df2[['lr-acc', 'lr-acc2', 'eval-acc', 'nb-acc']].plot()"
   ]
  },
  {
   "cell_type": "code",
   "execution_count": 217,
   "metadata": {},
   "outputs": [
    {
     "data": {
      "text/plain": [
       "<matplotlib.axes._subplots.AxesSubplot at 0x1344ee898>"
      ]
     },
     "execution_count": 217,
     "metadata": {},
     "output_type": "execute_result"
    },
    {
     "data": {
      "image/png": "[encoded data removed]",
      "text/plain": [
       "<Figure size 432x288 with 1 Axes>"
      ]
     },
     "metadata": {
      "needs_background": "light"
     },
     "output_type": "display_data"
    }
   ],
   "source": [
    "df3[['lr-acc', 'lr-acc2', 'eval-acc', 'nb-acc']].plot()"
   ]
  },
  {
   "cell_type": "code",
   "execution_count": null,
   "metadata": {},
   "outputs": [],
   "source": []
  },
  {
   "cell_type": "code",
   "execution_count": 218,
   "metadata": {},
   "outputs": [
    {
     "data": {
      "text/plain": [
       "<matplotlib.axes._subplots.AxesSubplot at 0x13459c3c8>"
      ]
     },
     "execution_count": 218,
     "metadata": {},
     "output_type": "execute_result"
    },
    {
     "data": {
      "image/png": "[encoded data removed]",
      "text/plain": [
       "<Figure size 432x288 with 1 Axes>"
      ]
     },
     "metadata": {
      "needs_background": "light"
     },
     "output_type": "display_data"
    }
   ],
   "source": [
    "df3[['eval-loss', 'train-loss']].plot()"
   ]
  },
  {
   "cell_type": "code",
   "execution_count": 219,
   "metadata": {},
   "outputs": [],
   "source": [
    "df4 = pd.merge(df1, df3, on='index')\n",
    "df4 = df4.drop('index',axis=1)"
   ]
  },
  {
   "cell_type": "code",
   "execution_count": 220,
   "metadata": {},
   "outputs": [
    {
     "data": {
      "text/plain": [
       "Index(['lr_x', 'wd_x', 'train-loss_x', 'eval-loss_x', 'train-acc_x',\n",
       "       'eval-acc_x', 'nb-acc_x', 'lr-acc_x', 'lr-acc2_x', 'lr_y', 'wd_y',\n",
       "       'train-loss_y', 'eval-loss_y', 'train-acc_y', 'eval-acc_y', 'nb-acc_y',\n",
       "       'lr-acc_y', 'lr-acc2_y'],\n",
       "      dtype='object')"
      ]
     },
     "execution_count": 220,
     "metadata": {},
     "output_type": "execute_result"
    }
   ],
   "source": [
    "df4.columns"
   ]
  },
  {
   "cell_type": "code",
   "execution_count": 221,
   "metadata": {},
   "outputs": [],
   "source": [
    "df5 = df4[[\n",
    "    'train-acc_x', 'train-acc_y', \n",
    "    'eval-acc_x', 'eval-acc_y',\n",
    "    'lr-acc_x', 'lr-acc_y',\n",
    "    'lr-acc2_x', 'lr-acc2_y',\n",
    "    'nb-acc_x', 'nb-acc_y',\n",
    "]]\n",
    "df6 = df4[[\n",
    "    'eval-loss_x', 'eval-loss_y',\n",
    "    'train-loss_x', 'train-loss_y',\n",
    "]]"
   ]
  },
  {
   "cell_type": "code",
   "execution_count": 222,
   "metadata": {},
   "outputs": [
    {
     "data": {
      "text/html": [
       "<div>\n",
       "<style scoped>\n",
       "    .dataframe tbody tr th:only-of-type {\n",
       "        vertical-align: middle;\n",
       "    }\n",
       "\n",
       "    .dataframe tbody tr th {\n",
       "        vertical-align: top;\n",
       "    }\n",
       "\n",
       "    .dataframe thead th {\n",
       "        text-align: right;\n",
       "    }\n",
       "</style>\n",
       "<table border=\"1\" class=\"dataframe\">\n",
       "  <thead>\n",
       "    <tr style=\"text-align: right;\">\n",
       "      <th></th>\n",
       "      <th>train-acc_x</th>\n",
       "      <th>train-acc_y</th>\n",
       "      <th>eval-acc_x</th>\n",
       "      <th>eval-acc_y</th>\n",
       "      <th>lr-acc_x</th>\n",
       "      <th>lr-acc_y</th>\n",
       "      <th>lr-acc2_x</th>\n",
       "      <th>lr-acc2_y</th>\n",
       "      <th>nb-acc_x</th>\n",
       "      <th>nb-acc_y</th>\n",
       "    </tr>\n",
       "  </thead>\n",
       "  <tbody>\n",
       "    <tr>\n",
       "      <td>0</td>\n",
       "      <td>0.939844</td>\n",
       "      <td>0.939844</td>\n",
       "      <td>0.832812</td>\n",
       "      <td>0.832812</td>\n",
       "      <td>0.845313</td>\n",
       "      <td>0.845313</td>\n",
       "      <td>0.860938</td>\n",
       "      <td>0.860938</td>\n",
       "      <td>0.832812</td>\n",
       "      <td>0.832812</td>\n",
       "    </tr>\n",
       "    <tr>\n",
       "      <td>1</td>\n",
       "      <td>0.950234</td>\n",
       "      <td>0.939844</td>\n",
       "      <td>0.837109</td>\n",
       "      <td>0.832812</td>\n",
       "      <td>0.845313</td>\n",
       "      <td>0.845313</td>\n",
       "      <td>0.860938</td>\n",
       "      <td>0.860938</td>\n",
       "      <td>0.832812</td>\n",
       "      <td>0.832812</td>\n",
       "    </tr>\n",
       "    <tr>\n",
       "      <td>2</td>\n",
       "      <td>0.953516</td>\n",
       "      <td>0.939844</td>\n",
       "      <td>0.842969</td>\n",
       "      <td>0.832812</td>\n",
       "      <td>0.845313</td>\n",
       "      <td>0.845313</td>\n",
       "      <td>0.860938</td>\n",
       "      <td>0.860938</td>\n",
       "      <td>0.832812</td>\n",
       "      <td>0.832812</td>\n",
       "    </tr>\n",
       "    <tr>\n",
       "      <td>3</td>\n",
       "      <td>0.956484</td>\n",
       "      <td>0.939844</td>\n",
       "      <td>0.844141</td>\n",
       "      <td>0.832812</td>\n",
       "      <td>0.845313</td>\n",
       "      <td>0.845313</td>\n",
       "      <td>0.860938</td>\n",
       "      <td>0.860938</td>\n",
       "      <td>0.832812</td>\n",
       "      <td>0.832812</td>\n",
       "    </tr>\n",
       "    <tr>\n",
       "      <td>4</td>\n",
       "      <td>0.958750</td>\n",
       "      <td>0.939844</td>\n",
       "      <td>0.846094</td>\n",
       "      <td>0.832812</td>\n",
       "      <td>0.845313</td>\n",
       "      <td>0.845313</td>\n",
       "      <td>0.860938</td>\n",
       "      <td>0.860938</td>\n",
       "      <td>0.832812</td>\n",
       "      <td>0.832812</td>\n",
       "    </tr>\n",
       "  </tbody>\n",
       "</table>\n",
       "</div>"
      ],
      "text/plain": [
       "   train-acc_x  train-acc_y  eval-acc_x  eval-acc_y  lr-acc_x  lr-acc_y  \\\n",
       "0     0.939844     0.939844    0.832812    0.832812  0.845313  0.845313   \n",
       "1     0.950234     0.939844    0.837109    0.832812  0.845313  0.845313   \n",
       "2     0.953516     0.939844    0.842969    0.832812  0.845313  0.845313   \n",
       "3     0.956484     0.939844    0.844141    0.832812  0.845313  0.845313   \n",
       "4     0.958750     0.939844    0.846094    0.832812  0.845313  0.845313   \n",
       "\n",
       "   lr-acc2_x  lr-acc2_y  nb-acc_x  nb-acc_y  \n",
       "0   0.860938   0.860938  0.832812  0.832812  \n",
       "1   0.860938   0.860938  0.832812  0.832812  \n",
       "2   0.860938   0.860938  0.832812  0.832812  \n",
       "3   0.860938   0.860938  0.832812  0.832812  \n",
       "4   0.860938   0.860938  0.832812  0.832812  "
      ]
     },
     "execution_count": 222,
     "metadata": {},
     "output_type": "execute_result"
    }
   ],
   "source": [
    "df5.head()"
   ]
  },
  {
   "cell_type": "code",
   "execution_count": 223,
   "metadata": {},
   "outputs": [
    {
     "data": {
      "text/plain": [
       "<matplotlib.axes._subplots.AxesSubplot at 0x126529748>"
      ]
     },
     "execution_count": 223,
     "metadata": {},
     "output_type": "execute_result"
    },
    {
     "data": {
      "image/png": "[encoded data removed]",
      "text/plain": [
       "<Figure size 576x504 with 1 Axes>"
      ]
     },
     "metadata": {
      "needs_background": "light"
     },
     "output_type": "display_data"
    }
   ],
   "source": [
    "df5.plot(figsize=(8,7))"
   ]
  },
  {
   "cell_type": "code",
   "execution_count": 224,
   "metadata": {},
   "outputs": [
    {
     "data": {
      "text/html": [
       "<div>\n",
       "<style scoped>\n",
       "    .dataframe tbody tr th:only-of-type {\n",
       "        vertical-align: middle;\n",
       "    }\n",
       "\n",
       "    .dataframe tbody tr th {\n",
       "        vertical-align: top;\n",
       "    }\n",
       "\n",
       "    .dataframe thead th {\n",
       "        text-align: right;\n",
       "    }\n",
       "</style>\n",
       "<table border=\"1\" class=\"dataframe\">\n",
       "  <thead>\n",
       "    <tr style=\"text-align: right;\">\n",
       "      <th></th>\n",
       "      <th>eval-loss_x</th>\n",
       "      <th>eval-loss_y</th>\n",
       "      <th>train-loss_x</th>\n",
       "      <th>train-loss_y</th>\n",
       "    </tr>\n",
       "  </thead>\n",
       "  <tbody>\n",
       "    <tr>\n",
       "      <td>0</td>\n",
       "      <td>42.018631</td>\n",
       "      <td>0.914014</td>\n",
       "      <td>41.352402</td>\n",
       "      <td>0.24778</td>\n",
       "    </tr>\n",
       "    <tr>\n",
       "      <td>1</td>\n",
       "      <td>39.875019</td>\n",
       "      <td>0.914014</td>\n",
       "      <td>39.248333</td>\n",
       "      <td>0.24778</td>\n",
       "    </tr>\n",
       "    <tr>\n",
       "      <td>2</td>\n",
       "      <td>37.894218</td>\n",
       "      <td>0.914014</td>\n",
       "      <td>37.280060</td>\n",
       "      <td>0.24778</td>\n",
       "    </tr>\n",
       "    <tr>\n",
       "      <td>3</td>\n",
       "      <td>36.011497</td>\n",
       "      <td>0.914014</td>\n",
       "      <td>35.410908</td>\n",
       "      <td>0.24778</td>\n",
       "    </tr>\n",
       "    <tr>\n",
       "      <td>4</td>\n",
       "      <td>34.224354</td>\n",
       "      <td>0.914014</td>\n",
       "      <td>33.637447</td>\n",
       "      <td>0.24778</td>\n",
       "    </tr>\n",
       "    <tr>\n",
       "      <td>...</td>\n",
       "      <td>...</td>\n",
       "      <td>...</td>\n",
       "      <td>...</td>\n",
       "      <td>...</td>\n",
       "    </tr>\n",
       "    <tr>\n",
       "      <td>229</td>\n",
       "      <td>23.928219</td>\n",
       "      <td>0.914014</td>\n",
       "      <td>23.427525</td>\n",
       "      <td>0.24778</td>\n",
       "    </tr>\n",
       "    <tr>\n",
       "      <td>230</td>\n",
       "      <td>23.928173</td>\n",
       "      <td>0.914014</td>\n",
       "      <td>23.427488</td>\n",
       "      <td>0.24778</td>\n",
       "    </tr>\n",
       "    <tr>\n",
       "      <td>231</td>\n",
       "      <td>23.928122</td>\n",
       "      <td>0.914014</td>\n",
       "      <td>23.427444</td>\n",
       "      <td>0.24778</td>\n",
       "    </tr>\n",
       "    <tr>\n",
       "      <td>232</td>\n",
       "      <td>23.928076</td>\n",
       "      <td>0.914014</td>\n",
       "      <td>23.427410</td>\n",
       "      <td>0.24778</td>\n",
       "    </tr>\n",
       "    <tr>\n",
       "      <td>233</td>\n",
       "      <td>23.928028</td>\n",
       "      <td>0.914014</td>\n",
       "      <td>23.427374</td>\n",
       "      <td>0.24778</td>\n",
       "    </tr>\n",
       "  </tbody>\n",
       "</table>\n",
       "<p>234 rows × 4 columns</p>\n",
       "</div>"
      ],
      "text/plain": [
       "     eval-loss_x  eval-loss_y  train-loss_x  train-loss_y\n",
       "0      42.018631     0.914014     41.352402       0.24778\n",
       "1      39.875019     0.914014     39.248333       0.24778\n",
       "2      37.894218     0.914014     37.280060       0.24778\n",
       "3      36.011497     0.914014     35.410908       0.24778\n",
       "4      34.224354     0.914014     33.637447       0.24778\n",
       "..           ...          ...           ...           ...\n",
       "229    23.928219     0.914014     23.427525       0.24778\n",
       "230    23.928173     0.914014     23.427488       0.24778\n",
       "231    23.928122     0.914014     23.427444       0.24778\n",
       "232    23.928076     0.914014     23.427410       0.24778\n",
       "233    23.928028     0.914014     23.427374       0.24778\n",
       "\n",
       "[234 rows x 4 columns]"
      ]
     },
     "execution_count": 224,
     "metadata": {},
     "output_type": "execute_result"
    }
   ],
   "source": [
    "df6"
   ]
  },
  {
   "cell_type": "code",
   "execution_count": 225,
   "metadata": {},
   "outputs": [],
   "source": [
    "# df7 = df6[:5]\n",
    "df7 = df6"
   ]
  },
  {
   "cell_type": "code",
   "execution_count": 226,
   "metadata": {},
   "outputs": [
    {
     "data": {
      "text/plain": [
       "<matplotlib.axes._subplots.AxesSubplot at 0x1346669e8>"
      ]
     },
     "execution_count": 226,
     "metadata": {},
     "output_type": "execute_result"
    },
    {
     "data": {
      "image/png": "[encoded data removed]",
      "text/plain": [
       "<Figure size 576x504 with 1 Axes>"
      ]
     },
     "metadata": {
      "needs_background": "light"
     },
     "output_type": "display_data"
    }
   ],
   "source": [
    "df7.plot(figsize=(8,7))"
   ]
  },
  {
   "cell_type": "code",
   "execution_count": 227,
   "metadata": {},
   "outputs": [
    {
     "data": {
      "text/plain": [
       "<matplotlib.axes._subplots.AxesSubplot at 0x1348e20b8>"
      ]
     },
     "execution_count": 227,
     "metadata": {},
     "output_type": "execute_result"
    },
    {
     "data": {
      "image/png": "[encoded data removed]",
      "text/plain": [
       "<Figure size 576x504 with 1 Axes>"
      ]
     },
     "metadata": {
      "needs_background": "light"
     },
     "output_type": "display_data"
    }
   ],
   "source": [
    "df7[['eval-loss_x', 'train-loss_x']].plot(logy=False, figsize=(8,7))"
   ]
  },
  {
   "cell_type": "code",
   "execution_count": 228,
   "metadata": {},
   "outputs": [
    {
     "data": {
      "text/plain": [
       "<matplotlib.axes._subplots.AxesSubplot at 0x134a04e10>"
      ]
     },
     "execution_count": 228,
     "metadata": {},
     "output_type": "execute_result"
    },
    {
     "data": {
      "image/png": "[encoded data removed]",
      "text/plain": [
       "<Figure size 576x504 with 1 Axes>"
      ]
     },
     "metadata": {
      "needs_background": "light"
     },
     "output_type": "display_data"
    }
   ],
   "source": [
    "df7[['eval-loss_y', 'train-loss_y']].plot(logy=False, figsize=(8,7))"
   ]
  },
  {
   "cell_type": "code",
   "execution_count": null,
   "metadata": {},
   "outputs": [],
   "source": []
  },
  {
   "cell_type": "code",
   "execution_count": 204,
   "metadata": {},
   "outputs": [
    {
     "data": {
      "text/plain": [
       "1.25"
      ]
     },
     "execution_count": 204,
     "metadata": {},
     "output_type": "execute_result"
    }
   ],
   "source": [
    "import numpy as np\n",
    "import torch\n",
    "a = []\n",
    "a.append(torch.Tensor([1]))\n",
    "a.append(torch.Tensor([1.5]))\n",
    "np.mean(a)"
   ]
  },
  {
   "cell_type": "code",
   "execution_count": null,
   "metadata": {},
   "outputs": [],
   "source": []
  }
 ],
 "metadata": {
  "kernelspec": {
   "display_name": "Python 3",
   "language": "python",
   "name": "python3"
  },
  "language_info": {
   "codemirror_mode": {
    "name": "ipython",
    "version": 3
   },
   "file_extension": ".py",
   "mimetype": "text/x-python",
   "name": "python",
   "nbconvert_exporter": "python",
   "pygments_lexer": "ipython3",
   "version": "3.6.9"
  }
 },
 "nbformat": 4,
 "nbformat_minor": 2
}
