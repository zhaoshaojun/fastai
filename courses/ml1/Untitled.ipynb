{
 "cells": [
  {
   "cell_type": "code",
   "execution_count": 874,
   "metadata": {},
   "outputs": [],
   "source": [
    "import pandas as pd"
   ]
  },
  {
   "cell_type": "code",
   "execution_count": 875,
   "metadata": {},
   "outputs": [],
   "source": [
    "names = [\n",
    "    'index', \n",
    "    'lr',\n",
    "    'wd',\n",
    "    'train-loss', \n",
    "    'eval-loss', \n",
    "    'train-acc', \n",
    "    'eval-acc',\n",
    "    'nb-acc',\n",
    "    'lr-acc',\n",
    "    'lr-acc2',\n",
    "]"
   ]
  },
  {
   "cell_type": "code",
   "execution_count": 876,
   "metadata": {},
   "outputs": [
    {
     "data": {
      "text/plain": [
       "(913, 10)"
      ]
     },
     "execution_count": 876,
     "metadata": {},
     "output_type": "execute_result"
    }
   ],
   "source": [
    "df1 = pd.read_csv(\n",
    "    # 'acc-reg-small.txt', sep='\\t', header=None, \n",
    "    'acc-3-3.txt.backup.more', sep='\\t', header=None, \n",
    "    names = names,\n",
    ")\n",
    "df1.shape"
   ]
  },
  {
   "cell_type": "code",
   "execution_count": 877,
   "metadata": {},
   "outputs": [
    {
     "data": {
      "text/plain": [
       "(915, 10)"
      ]
     },
     "execution_count": 877,
     "metadata": {},
     "output_type": "execute_result"
    }
   ],
   "source": [
    "df2 = pd.read_csv(\n",
    "    'acc-3-2.txt', sep='\\t', header=None, \n",
    "    names = names,\n",
    ")\n",
    "df2.shape"
   ]
  },
  {
   "cell_type": "code",
   "execution_count": 878,
   "metadata": {},
   "outputs": [
    {
     "data": {
      "text/plain": [
       "(46, 10)"
      ]
     },
     "execution_count": 878,
     "metadata": {},
     "output_type": "execute_result"
    }
   ],
   "source": [
    "df3 = pd.read_csv(\n",
    "    'acc.txt', sep='\\t', header=None, \n",
    "    names = names\n",
    ")\n",
    "df3.shape"
   ]
  },
  {
   "cell_type": "code",
   "execution_count": 879,
   "metadata": {},
   "outputs": [
    {
     "data": {
      "text/html": [
       "<div>\n",
       "<style scoped>\n",
       "    .dataframe tbody tr th:only-of-type {\n",
       "        vertical-align: middle;\n",
       "    }\n",
       "\n",
       "    .dataframe tbody tr th {\n",
       "        vertical-align: top;\n",
       "    }\n",
       "\n",
       "    .dataframe thead th {\n",
       "        text-align: right;\n",
       "    }\n",
       "</style>\n",
       "<table border=\"1\" class=\"dataframe\">\n",
       "  <thead>\n",
       "    <tr style=\"text-align: right;\">\n",
       "      <th></th>\n",
       "      <th>index</th>\n",
       "      <th>lr</th>\n",
       "      <th>wd</th>\n",
       "      <th>train-loss</th>\n",
       "      <th>eval-loss</th>\n",
       "      <th>train-acc</th>\n",
       "      <th>eval-acc</th>\n",
       "      <th>nb-acc</th>\n",
       "      <th>lr-acc</th>\n",
       "      <th>lr-acc2</th>\n",
       "    </tr>\n",
       "  </thead>\n",
       "  <tbody>\n",
       "    <tr>\n",
       "      <td>0</td>\n",
       "      <td>0</td>\n",
       "      <td>0.001</td>\n",
       "      <td>0.001</td>\n",
       "      <td>41.352402</td>\n",
       "      <td>42.018631</td>\n",
       "      <td>0.939844</td>\n",
       "      <td>0.832812</td>\n",
       "      <td>0.832812</td>\n",
       "      <td>0.845313</td>\n",
       "      <td>0.860938</td>\n",
       "    </tr>\n",
       "    <tr>\n",
       "      <td>1</td>\n",
       "      <td>1</td>\n",
       "      <td>0.001</td>\n",
       "      <td>0.001</td>\n",
       "      <td>39.248333</td>\n",
       "      <td>39.875019</td>\n",
       "      <td>0.950234</td>\n",
       "      <td>0.837109</td>\n",
       "      <td>0.832812</td>\n",
       "      <td>0.845313</td>\n",
       "      <td>0.860938</td>\n",
       "    </tr>\n",
       "    <tr>\n",
       "      <td>2</td>\n",
       "      <td>2</td>\n",
       "      <td>0.001</td>\n",
       "      <td>0.001</td>\n",
       "      <td>37.280060</td>\n",
       "      <td>37.894218</td>\n",
       "      <td>0.953516</td>\n",
       "      <td>0.842969</td>\n",
       "      <td>0.832812</td>\n",
       "      <td>0.845313</td>\n",
       "      <td>0.860938</td>\n",
       "    </tr>\n",
       "    <tr>\n",
       "      <td>3</td>\n",
       "      <td>3</td>\n",
       "      <td>0.001</td>\n",
       "      <td>0.001</td>\n",
       "      <td>35.410908</td>\n",
       "      <td>36.011497</td>\n",
       "      <td>0.956484</td>\n",
       "      <td>0.844141</td>\n",
       "      <td>0.832812</td>\n",
       "      <td>0.845313</td>\n",
       "      <td>0.860938</td>\n",
       "    </tr>\n",
       "    <tr>\n",
       "      <td>4</td>\n",
       "      <td>4</td>\n",
       "      <td>0.001</td>\n",
       "      <td>0.001</td>\n",
       "      <td>33.637447</td>\n",
       "      <td>34.224354</td>\n",
       "      <td>0.958750</td>\n",
       "      <td>0.846094</td>\n",
       "      <td>0.832812</td>\n",
       "      <td>0.845313</td>\n",
       "      <td>0.860938</td>\n",
       "    </tr>\n",
       "  </tbody>\n",
       "</table>\n",
       "</div>"
      ],
      "text/plain": [
       "   index     lr     wd  train-loss  eval-loss  train-acc  eval-acc    nb-acc  \\\n",
       "0      0  0.001  0.001   41.352402  42.018631   0.939844  0.832812  0.832812   \n",
       "1      1  0.001  0.001   39.248333  39.875019   0.950234  0.837109  0.832812   \n",
       "2      2  0.001  0.001   37.280060  37.894218   0.953516  0.842969  0.832812   \n",
       "3      3  0.001  0.001   35.410908  36.011497   0.956484  0.844141  0.832812   \n",
       "4      4  0.001  0.001   33.637447  34.224354   0.958750  0.846094  0.832812   \n",
       "\n",
       "     lr-acc   lr-acc2  \n",
       "0  0.845313  0.860938  \n",
       "1  0.845313  0.860938  \n",
       "2  0.845313  0.860938  \n",
       "3  0.845313  0.860938  \n",
       "4  0.845313  0.860938  "
      ]
     },
     "execution_count": 879,
     "metadata": {},
     "output_type": "execute_result"
    }
   ],
   "source": [
    "df1.head()"
   ]
  },
  {
   "cell_type": "code",
   "execution_count": 880,
   "metadata": {},
   "outputs": [
    {
     "data": {
      "text/html": [
       "<div>\n",
       "<style scoped>\n",
       "    .dataframe tbody tr th:only-of-type {\n",
       "        vertical-align: middle;\n",
       "    }\n",
       "\n",
       "    .dataframe tbody tr th {\n",
       "        vertical-align: top;\n",
       "    }\n",
       "\n",
       "    .dataframe thead th {\n",
       "        text-align: right;\n",
       "    }\n",
       "</style>\n",
       "<table border=\"1\" class=\"dataframe\">\n",
       "  <thead>\n",
       "    <tr style=\"text-align: right;\">\n",
       "      <th></th>\n",
       "      <th>index</th>\n",
       "      <th>lr</th>\n",
       "      <th>wd</th>\n",
       "      <th>train-loss</th>\n",
       "      <th>eval-loss</th>\n",
       "      <th>train-acc</th>\n",
       "      <th>eval-acc</th>\n",
       "      <th>nb-acc</th>\n",
       "      <th>lr-acc</th>\n",
       "      <th>lr-acc2</th>\n",
       "    </tr>\n",
       "  </thead>\n",
       "  <tbody>\n",
       "    <tr>\n",
       "      <td>0</td>\n",
       "      <td>0</td>\n",
       "      <td>0.001</td>\n",
       "      <td>0.01</td>\n",
       "      <td>411.297607</td>\n",
       "      <td>411.963867</td>\n",
       "      <td>0.939844</td>\n",
       "      <td>0.832812</td>\n",
       "      <td>0.832812</td>\n",
       "      <td>0.845313</td>\n",
       "      <td>0.860938</td>\n",
       "    </tr>\n",
       "    <tr>\n",
       "      <td>1</td>\n",
       "      <td>1</td>\n",
       "      <td>0.001</td>\n",
       "      <td>0.01</td>\n",
       "      <td>246.490723</td>\n",
       "      <td>247.037994</td>\n",
       "      <td>0.950859</td>\n",
       "      <td>0.837109</td>\n",
       "      <td>0.832812</td>\n",
       "      <td>0.845313</td>\n",
       "      <td>0.860938</td>\n",
       "    </tr>\n",
       "    <tr>\n",
       "      <td>2</td>\n",
       "      <td>2</td>\n",
       "      <td>0.001</td>\n",
       "      <td>0.01</td>\n",
       "      <td>147.739288</td>\n",
       "      <td>148.195190</td>\n",
       "      <td>0.955469</td>\n",
       "      <td>0.844922</td>\n",
       "      <td>0.832812</td>\n",
       "      <td>0.845313</td>\n",
       "      <td>0.860938</td>\n",
       "    </tr>\n",
       "    <tr>\n",
       "      <td>3</td>\n",
       "      <td>3</td>\n",
       "      <td>0.001</td>\n",
       "      <td>0.01</td>\n",
       "      <td>88.567604</td>\n",
       "      <td>88.942726</td>\n",
       "      <td>0.959844</td>\n",
       "      <td>0.846094</td>\n",
       "      <td>0.832812</td>\n",
       "      <td>0.845313</td>\n",
       "      <td>0.860938</td>\n",
       "    </tr>\n",
       "    <tr>\n",
       "      <td>4</td>\n",
       "      <td>4</td>\n",
       "      <td>0.001</td>\n",
       "      <td>0.01</td>\n",
       "      <td>53.119186</td>\n",
       "      <td>53.433167</td>\n",
       "      <td>0.964141</td>\n",
       "      <td>0.850391</td>\n",
       "      <td>0.832812</td>\n",
       "      <td>0.845313</td>\n",
       "      <td>0.860938</td>\n",
       "    </tr>\n",
       "  </tbody>\n",
       "</table>\n",
       "</div>"
      ],
      "text/plain": [
       "   index     lr    wd  train-loss   eval-loss  train-acc  eval-acc    nb-acc  \\\n",
       "0      0  0.001  0.01  411.297607  411.963867   0.939844  0.832812  0.832812   \n",
       "1      1  0.001  0.01  246.490723  247.037994   0.950859  0.837109  0.832812   \n",
       "2      2  0.001  0.01  147.739288  148.195190   0.955469  0.844922  0.832812   \n",
       "3      3  0.001  0.01   88.567604   88.942726   0.959844  0.846094  0.832812   \n",
       "4      4  0.001  0.01   53.119186   53.433167   0.964141  0.850391  0.832812   \n",
       "\n",
       "     lr-acc   lr-acc2  \n",
       "0  0.845313  0.860938  \n",
       "1  0.845313  0.860938  \n",
       "2  0.845313  0.860938  \n",
       "3  0.845313  0.860938  \n",
       "4  0.845313  0.860938  "
      ]
     },
     "execution_count": 880,
     "metadata": {},
     "output_type": "execute_result"
    }
   ],
   "source": [
    "df2.head()"
   ]
  },
  {
   "cell_type": "code",
   "execution_count": 881,
   "metadata": {},
   "outputs": [
    {
     "data": {
      "text/html": [
       "<div>\n",
       "<style scoped>\n",
       "    .dataframe tbody tr th:only-of-type {\n",
       "        vertical-align: middle;\n",
       "    }\n",
       "\n",
       "    .dataframe tbody tr th {\n",
       "        vertical-align: top;\n",
       "    }\n",
       "\n",
       "    .dataframe thead th {\n",
       "        text-align: right;\n",
       "    }\n",
       "</style>\n",
       "<table border=\"1\" class=\"dataframe\">\n",
       "  <thead>\n",
       "    <tr style=\"text-align: right;\">\n",
       "      <th></th>\n",
       "      <th>index</th>\n",
       "      <th>lr</th>\n",
       "      <th>wd</th>\n",
       "      <th>train-loss</th>\n",
       "      <th>eval-loss</th>\n",
       "      <th>train-acc</th>\n",
       "      <th>eval-acc</th>\n",
       "      <th>nb-acc</th>\n",
       "      <th>lr-acc</th>\n",
       "      <th>lr-acc2</th>\n",
       "    </tr>\n",
       "  </thead>\n",
       "  <tbody>\n",
       "    <tr>\n",
       "      <td>0</td>\n",
       "      <td>0.01</td>\n",
       "      <td>0.001</td>\n",
       "      <td>8</td>\n",
       "      <td>41.352402</td>\n",
       "      <td>42.018631</td>\n",
       "      <td>0.939844</td>\n",
       "      <td>0.832812</td>\n",
       "      <td>0.832812</td>\n",
       "      <td>0.845313</td>\n",
       "      <td>0.860938</td>\n",
       "    </tr>\n",
       "    <tr>\n",
       "      <td>1</td>\n",
       "      <td>0.01</td>\n",
       "      <td>0.001</td>\n",
       "      <td>8</td>\n",
       "      <td>38.748486</td>\n",
       "      <td>39.371925</td>\n",
       "      <td>0.951484</td>\n",
       "      <td>0.836719</td>\n",
       "      <td>0.832812</td>\n",
       "      <td>0.845313</td>\n",
       "      <td>0.860938</td>\n",
       "    </tr>\n",
       "    <tr>\n",
       "      <td>2</td>\n",
       "      <td>0.01</td>\n",
       "      <td>0.001</td>\n",
       "      <td>8</td>\n",
       "      <td>36.334930</td>\n",
       "      <td>36.942482</td>\n",
       "      <td>0.954766</td>\n",
       "      <td>0.843359</td>\n",
       "      <td>0.832812</td>\n",
       "      <td>0.845313</td>\n",
       "      <td>0.860938</td>\n",
       "    </tr>\n",
       "    <tr>\n",
       "      <td>3</td>\n",
       "      <td>0.01</td>\n",
       "      <td>0.001</td>\n",
       "      <td>8</td>\n",
       "      <td>34.074291</td>\n",
       "      <td>34.664845</td>\n",
       "      <td>0.958359</td>\n",
       "      <td>0.845313</td>\n",
       "      <td>0.832812</td>\n",
       "      <td>0.845313</td>\n",
       "      <td>0.860938</td>\n",
       "    </tr>\n",
       "    <tr>\n",
       "      <td>4</td>\n",
       "      <td>0.01</td>\n",
       "      <td>0.001</td>\n",
       "      <td>8</td>\n",
       "      <td>31.956640</td>\n",
       "      <td>32.530403</td>\n",
       "      <td>0.961250</td>\n",
       "      <td>0.846484</td>\n",
       "      <td>0.832812</td>\n",
       "      <td>0.845313</td>\n",
       "      <td>0.860938</td>\n",
       "    </tr>\n",
       "  </tbody>\n",
       "</table>\n",
       "</div>"
      ],
      "text/plain": [
       "   index     lr  wd  train-loss  eval-loss  train-acc  eval-acc    nb-acc  \\\n",
       "0   0.01  0.001   8   41.352402  42.018631   0.939844  0.832812  0.832812   \n",
       "1   0.01  0.001   8   38.748486  39.371925   0.951484  0.836719  0.832812   \n",
       "2   0.01  0.001   8   36.334930  36.942482   0.954766  0.843359  0.832812   \n",
       "3   0.01  0.001   8   34.074291  34.664845   0.958359  0.845313  0.832812   \n",
       "4   0.01  0.001   8   31.956640  32.530403   0.961250  0.846484  0.832812   \n",
       "\n",
       "     lr-acc   lr-acc2  \n",
       "0  0.845313  0.860938  \n",
       "1  0.845313  0.860938  \n",
       "2  0.845313  0.860938  \n",
       "3  0.845313  0.860938  \n",
       "4  0.845313  0.860938  "
      ]
     },
     "execution_count": 881,
     "metadata": {},
     "output_type": "execute_result"
    }
   ],
   "source": [
    "df3.head()"
   ]
  },
  {
   "cell_type": "code",
   "execution_count": 882,
   "metadata": {},
   "outputs": [
    {
     "data": {
      "text/plain": [
       "<matplotlib.axes._subplots.AxesSubplot at 0x140a966a0>"
      ]
     },
     "execution_count": 882,
     "metadata": {},
     "output_type": "execute_result"
    },
    {
     "data": {
      "image/png": "[encoded data removed]",
      "text/plain": [
       "<Figure size 432x288 with 1 Axes>"
      ]
     },
     "metadata": {
      "needs_background": "light"
     },
     "output_type": "display_data"
    }
   ],
   "source": [
    "df1[[\n",
    "    'lr-acc', 'lr-acc2', 'eval-acc', 'nb-acc'\n",
    "]][:df3.shape[0]].plot()"
   ]
  },
  {
   "cell_type": "code",
   "execution_count": 883,
   "metadata": {},
   "outputs": [
    {
     "data": {
      "text/plain": [
       "<matplotlib.axes._subplots.AxesSubplot at 0x14029c550>"
      ]
     },
     "execution_count": 883,
     "metadata": {},
     "output_type": "execute_result"
    },
    {
     "data": {
      "image/png": "[encoded data removed]",
      "text/plain": [
       "<Figure size 432x288 with 1 Axes>"
      ]
     },
     "metadata": {
      "needs_background": "light"
     },
     "output_type": "display_data"
    }
   ],
   "source": [
    "df2[[\n",
    "    'lr-acc', 'lr-acc2', 'eval-acc', 'nb-acc'\n",
    "]][:df3.shape[0]].plot()"
   ]
  },
  {
   "cell_type": "code",
   "execution_count": 884,
   "metadata": {},
   "outputs": [
    {
     "data": {
      "text/plain": [
       "<matplotlib.axes._subplots.AxesSubplot at 0x140d39710>"
      ]
     },
     "execution_count": 884,
     "metadata": {},
     "output_type": "execute_result"
    },
    {
     "data": {
      "image/png": "[encoded data removed]",
      "text/plain": [
       "<Figure size 432x288 with 1 Axes>"
      ]
     },
     "metadata": {
      "needs_background": "light"
     },
     "output_type": "display_data"
    }
   ],
   "source": [
    "df3[[\n",
    "    'lr-acc', 'lr-acc2', 'eval-acc', 'nb-acc'\n",
    "]][:df3.shape[0]].plot()"
   ]
  },
  {
   "cell_type": "code",
   "execution_count": 885,
   "metadata": {},
   "outputs": [
    {
     "ename": "AssertionError",
     "evalue": "",
     "output_type": "error",
     "traceback": [
      "\u001b[0;31m---------------------------------------------------------------------------\u001b[0m",
      "\u001b[0;31mAssertionError\u001b[0m                            Traceback (most recent call last)",
      "\u001b[0;32m<ipython-input-885-a871fdc9ebee>\u001b[0m in \u001b[0;36m<module>\u001b[0;34m\u001b[0m\n\u001b[0;32m----> 1\u001b[0;31m \u001b[0;32massert\u001b[0m \u001b[0;32mFalse\u001b[0m\u001b[0;34m\u001b[0m\u001b[0;34m\u001b[0m\u001b[0m\n\u001b[0m",
      "\u001b[0;31mAssertionError\u001b[0m: "
     ]
    }
   ],
   "source": [
    "assert False"
   ]
  },
  {
   "cell_type": "code",
   "execution_count": null,
   "metadata": {},
   "outputs": [],
   "source": [
    "df3[['eval-loss', 'train-loss']].plot()"
   ]
  },
  {
   "cell_type": "code",
   "execution_count": null,
   "metadata": {},
   "outputs": [],
   "source": [
    "df4 = pd.merge(df1, df3, on='index')\n",
    "df4 = df4.drop('index',axis=1)"
   ]
  },
  {
   "cell_type": "code",
   "execution_count": null,
   "metadata": {},
   "outputs": [],
   "source": [
    "df4.columns"
   ]
  },
  {
   "cell_type": "code",
   "execution_count": null,
   "metadata": {},
   "outputs": [],
   "source": [
    "df5 = df4[[\n",
    "    'train-acc_x', 'train-acc_y', \n",
    "    'eval-acc_x', 'eval-acc_y',\n",
    "    'lr-acc_x', 'lr-acc_y',\n",
    "    'lr-acc2_x', 'lr-acc2_y',\n",
    "    'nb-acc_x', 'nb-acc_y',\n",
    "]]\n",
    "df6 = df4[[\n",
    "    'eval-loss_x', 'eval-loss_y',\n",
    "    'train-loss_x', 'train-loss_y',\n",
    "]]"
   ]
  },
  {
   "cell_type": "code",
   "execution_count": null,
   "metadata": {},
   "outputs": [],
   "source": [
    "df5.head()"
   ]
  },
  {
   "cell_type": "code",
   "execution_count": null,
   "metadata": {},
   "outputs": [],
   "source": [
    "df5.plot(figsize=(8,7))"
   ]
  },
  {
   "cell_type": "code",
   "execution_count": null,
   "metadata": {},
   "outputs": [],
   "source": [
    "df6"
   ]
  },
  {
   "cell_type": "code",
   "execution_count": null,
   "metadata": {},
   "outputs": [],
   "source": [
    "# df7 = df6[:5]\n",
    "df7 = df6"
   ]
  },
  {
   "cell_type": "code",
   "execution_count": null,
   "metadata": {},
   "outputs": [],
   "source": [
    "df7.plot(figsize=(8,7))"
   ]
  },
  {
   "cell_type": "code",
   "execution_count": null,
   "metadata": {},
   "outputs": [],
   "source": [
    "df7[['eval-loss_x', 'train-loss_x']].plot(logy=False, figsize=(8,7))"
   ]
  },
  {
   "cell_type": "code",
   "execution_count": null,
   "metadata": {},
   "outputs": [],
   "source": [
    "df7[['eval-loss_y', 'train-loss_y']].plot(logy=False, figsize=(8,7))"
   ]
  },
  {
   "cell_type": "code",
   "execution_count": null,
   "metadata": {},
   "outputs": [],
   "source": []
  },
  {
   "cell_type": "code",
   "execution_count": null,
   "metadata": {},
   "outputs": [],
   "source": [
    "import numpy as np\n",
    "import torch\n",
    "a = []\n",
    "a.append(torch.Tensor([1]))\n",
    "a.append(torch.Tensor([1.5]))\n",
    "np.mean(a)"
   ]
  },
  {
   "cell_type": "code",
   "execution_count": null,
   "metadata": {},
   "outputs": [],
   "source": []
  }
 ],
 "metadata": {
  "kernelspec": {
   "display_name": "Python 3",
   "language": "python",
   "name": "python3"
  },
  "language_info": {
   "codemirror_mode": {
    "name": "ipython",
    "version": 3
   },
   "file_extension": ".py",
   "mimetype": "text/x-python",
   "name": "python",
   "nbconvert_exporter": "python",
   "pygments_lexer": "ipython3",
   "version": "3.6.9"
  }
 },
 "nbformat": 4,
 "nbformat_minor": 2
}
