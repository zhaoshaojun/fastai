{
 "cells": [
  {
   "cell_type": "markdown",
   "metadata": {},
   "source": [
    "## Imports"
   ]
  },
  {
   "cell_type": "code",
   "execution_count": 1,
   "metadata": {},
   "outputs": [],
   "source": [
    "%load_ext autoreload\n",
    "%autoreload 2\n",
    "\n",
    "%matplotlib inline"
   ]
  },
  {
   "cell_type": "code",
   "execution_count": 2,
   "metadata": {},
   "outputs": [],
   "source": [
    "from fastai.imports import *\n",
    "from fastai.structured import *\n",
    "\n",
    "from sklearn.ensemble import RandomForestRegressor, RandomForestClassifier\n",
    "from IPython.display import display\n",
    "\n",
    "from sklearn import metrics"
   ]
  },
  {
   "cell_type": "code",
   "execution_count": 3,
   "metadata": {},
   "outputs": [],
   "source": [
    "PATH = \"data/bulldozers/\""
   ]
  },
  {
   "cell_type": "code",
   "execution_count": 4,
   "metadata": {},
   "outputs": [
    {
     "name": "stdout",
     "output_type": "stream",
     "text": [
      "Train.csv\r\n"
     ]
    }
   ],
   "source": [
    "!ls {PATH}"
   ]
  },
  {
   "cell_type": "markdown",
   "metadata": {},
   "source": [
    "## The data"
   ]
  },
  {
   "cell_type": "markdown",
   "metadata": {},
   "source": [
    "## (a) reading csv, specify dates"
   ]
  },
  {
   "cell_type": "code",
   "execution_count": 5,
   "metadata": {},
   "outputs": [],
   "source": [
    "df_raw = pd.read_csv(f'{PATH}Train.csv', low_memory=False,\n",
    "                     parse_dates=[\"saledate\"])"
   ]
  },
  {
   "cell_type": "code",
   "execution_count": 6,
   "metadata": {},
   "outputs": [],
   "source": [
    "df_raw.SalePrice = np.log(df_raw.SalePrice)"
   ]
  },
  {
   "cell_type": "markdown",
   "metadata": {},
   "source": [
    "### before processing"
   ]
  },
  {
   "cell_type": "code",
   "execution_count": 7,
   "metadata": {},
   "outputs": [
    {
     "name": "stdout",
     "output_type": "stream",
     "text": [
      "something went wrong: could not convert string to float: 'Low'\n"
     ]
    }
   ],
   "source": [
    "try:\n",
    "    m = RandomForestRegressor(n_estimators=10, n_jobs=-1)\n",
    "    # The following code is supposed to fail due to string values in the input data\n",
    "    m.fit(df_raw.drop('SalePrice', axis=1), df_raw.SalePrice)\n",
    "    assert False\n",
    "except Exception as e:\n",
    "    print(f\"something went wrong: {e}\")"
   ]
  },
  {
   "cell_type": "markdown",
   "metadata": {},
   "source": [
    "This dataset contains a mix of **continuous** and **categorical** variables.\n",
    "\n",
    "The following method extracts particular date fields from a complete datetime for the purpose of constructing categoricals.  You should always consider this feature extraction step when working with date-time. Without expanding your date-time into these additional fields, you can't capture any trend/cyclical behavior as a function of time at any of these granularities."
   ]
  },
  {
   "cell_type": "markdown",
   "metadata": {},
   "source": [
    "## (b) processing dates"
   ]
  },
  {
   "cell_type": "code",
   "execution_count": 8,
   "metadata": {},
   "outputs": [
    {
     "data": {
      "text/plain": [
       "0    2006\n",
       "1    2004\n",
       "2    2004\n",
       "3    2011\n",
       "4    2009\n",
       "Name: saleYear, dtype: int64"
      ]
     },
     "execution_count": 8,
     "metadata": {},
     "output_type": "execute_result"
    }
   ],
   "source": [
    "add_datepart(df_raw, 'saledate')\n",
    "df_raw.saleYear.head()"
   ]
  },
  {
   "cell_type": "markdown",
   "metadata": {},
   "source": [
    "The categorical variables are currently stored as strings, which is inefficient, and doesn't provide the numeric coding required for a random forest. Therefore we call `train_cats` to convert strings to pandas categories."
   ]
  },
  {
   "cell_type": "markdown",
   "metadata": {},
   "source": [
    "## (c) change string object to categorical"
   ]
  },
  {
   "cell_type": "code",
   "execution_count": 9,
   "metadata": {},
   "outputs": [],
   "source": [
    "train_cats(df_raw)"
   ]
  },
  {
   "cell_type": "markdown",
   "metadata": {},
   "source": [
    "We can specify the order to use for categorical variables if we wish:"
   ]
  },
  {
   "cell_type": "code",
   "execution_count": 10,
   "metadata": {},
   "outputs": [
    {
     "data": {
      "text/plain": [
       "Index(['High', 'Low', 'Medium'], dtype='object')"
      ]
     },
     "execution_count": 10,
     "metadata": {},
     "output_type": "execute_result"
    }
   ],
   "source": [
    "df_raw.UsageBand.cat.categories"
   ]
  },
  {
   "cell_type": "code",
   "execution_count": 11,
   "metadata": {},
   "outputs": [],
   "source": [
    "df_raw.UsageBand.cat.set_categories(['High', 'Medium', 'Low'], ordered=True, inplace=True)"
   ]
  },
  {
   "cell_type": "markdown",
   "metadata": {},
   "source": [
    "Normally, pandas will continue displaying the text categories, while treating them as numerical data internally. Optionally, we can replace the text categories with numbers, which will make this variable non-categorical, like so:."
   ]
  },
  {
   "cell_type": "code",
   "execution_count": 12,
   "metadata": {},
   "outputs": [],
   "source": [
    "df_raw.UsageBand = df_raw.UsageBand.cat.codes + 1"
   ]
  },
  {
   "cell_type": "markdown",
   "metadata": {},
   "source": [
    "We're still not quite done - for instance we have lots of missing values, which we can't pass directly to a random forest."
   ]
  },
  {
   "cell_type": "markdown",
   "metadata": {},
   "source": [
    "But let's save this file for now, since it's already in format can we be stored and accessed efficiently."
   ]
  },
  {
   "cell_type": "code",
   "execution_count": 13,
   "metadata": {},
   "outputs": [],
   "source": [
    "os.makedirs('tmp', exist_ok=True)\n",
    "df_raw.to_feather('tmp/bulldozers-raw')"
   ]
  },
  {
   "cell_type": "code",
   "execution_count": 14,
   "metadata": {},
   "outputs": [
    {
     "name": "stdout",
     "output_type": "stream",
     "text": [
      "-rw-r--r--  1 shaojun  110156316    66M Dec 27 16:50 tmp/bulldozers-raw\r\n"
     ]
    }
   ],
   "source": [
    "!ls -lrth tmp/bulldozers-raw"
   ]
  },
  {
   "cell_type": "markdown",
   "metadata": {},
   "source": [
    "## (d) change everything to numbers"
   ]
  },
  {
   "cell_type": "markdown",
   "metadata": {},
   "source": [
    "In the future we can simply read it from this fast format."
   ]
  },
  {
   "cell_type": "code",
   "execution_count": 15,
   "metadata": {},
   "outputs": [],
   "source": [
    "import feather\n",
    "df_raw = feather.read_dataframe('tmp/bulldozers-raw')"
   ]
  },
  {
   "cell_type": "markdown",
   "metadata": {},
   "source": [
    "We'll replace categories with their numeric codes, handle missing continuous values, and split the dependent variable into a separate variable."
   ]
  },
  {
   "cell_type": "code",
   "execution_count": 16,
   "metadata": {},
   "outputs": [],
   "source": [
    "df, y, nas = proc_df(df_raw, 'SalePrice')"
   ]
  },
  {
   "cell_type": "code",
   "execution_count": 17,
   "metadata": {},
   "outputs": [
    {
     "data": {
      "text/plain": [
       "{'auctioneerID': 2.0, 'MachineHoursCurrentMeter': 0.0}"
      ]
     },
     "execution_count": 17,
     "metadata": {},
     "output_type": "execute_result"
    }
   ],
   "source": [
    "nas"
   ]
  },
  {
   "cell_type": "markdown",
   "metadata": {},
   "source": [
    "## Random Forests"
   ]
  },
  {
   "cell_type": "markdown",
   "metadata": {},
   "source": [
    "## overfit"
   ]
  },
  {
   "cell_type": "markdown",
   "metadata": {},
   "source": [
    "We now have something we can pass to a random forest!"
   ]
  },
  {
   "cell_type": "code",
   "execution_count": 18,
   "metadata": {},
   "outputs": [
    {
     "data": {
      "text/plain": [
       "0.9830475239888581"
      ]
     },
     "execution_count": 18,
     "metadata": {},
     "output_type": "execute_result"
    }
   ],
   "source": [
    "m = RandomForestRegressor(n_estimators=10, n_jobs=-1)\n",
    "m.fit(df, y)\n",
    "m.score(df,y)"
   ]
  },
  {
   "cell_type": "markdown",
   "metadata": {},
   "source": [
    "Wow, an r^2 of 0.98 - that's great, right? Well, perhaps not...\n",
    "\n",
    "Possibly **the most important idea** in machine learning is that of having separate training & validation data sets. As motivation, suppose you don't divide up your data, but instead use all of it.  And suppose you have lots of parameters:\n",
    "\n",
    "<img src=\"images/overfitting2.png\" alt=\"\" style=\"width: 70%\"/>\n",
    "<center>\n",
    "[Underfitting and Overfitting](https://datascience.stackexchange.com/questions/361/when-is-a-model-underfitted)\n",
    "</center>\n",
    "\n",
    "The error for the pictured data points is lowest for the model on the far right (the blue curve passes through the red points almost perfectly), yet it's not the best choice.  Why is that?  If you were to gather some new data points, they most likely would not be on that curve in the graph on the right, but would be closer to the curve in the middle graph.\n",
    "\n",
    "This illustrates how using all our data can lead to **overfitting**. A validation set helps diagnose this problem."
   ]
  },
  {
   "cell_type": "code",
   "execution_count": 19,
   "metadata": {},
   "outputs": [
    {
     "data": {
      "text/plain": [
       "((389125, 66), (389125,), (12000, 66))"
      ]
     },
     "execution_count": 19,
     "metadata": {},
     "output_type": "execute_result"
    }
   ],
   "source": [
    "def split_vals(a,n): return a[:n].copy(), a[n:].copy()\n",
    "\n",
    "n_valid = 12000  # same as Kaggle's test set size\n",
    "n_trn = len(df)-n_valid\n",
    "# raw_train, raw_valid = split_vals(df_raw, n_trn)\n",
    "X_train, X_valid = split_vals(df, n_trn)\n",
    "y_train, y_valid = split_vals(y, n_trn)\n",
    "\n",
    "X_train.shape, y_train.shape, X_valid.shape"
   ]
  },
  {
   "cell_type": "markdown",
   "metadata": {},
   "source": [
    "## Base model"
   ]
  },
  {
   "cell_type": "markdown",
   "metadata": {},
   "source": [
    "Let's try our model again, this time with separate training and validation sets."
   ]
  },
  {
   "cell_type": "code",
   "execution_count": 20,
   "metadata": {},
   "outputs": [],
   "source": [
    "def rmse(x,y): return math.sqrt(((x-y)**2).mean())\n",
    "\n",
    "def get_scores(m, config=None):\n",
    "    res = {\n",
    "        'config':[config],\n",
    "        'rmse_train': [rmse(m.predict(X_train), y_train)],\n",
    "        'rmse_dev': [rmse(m.predict(X_valid), y_valid)],\n",
    "        'r^2_train': [m.score(X_train, y_train)],\n",
    "        'r^2_dev': [m.score(X_valid, y_valid)],\n",
    "        'oob': [None],\n",
    "        'n_trees':[m.n_estimators],\n",
    "        'train_size': [len(y_train)],\n",
    "        'dev_size': [len(y_valid)],\n",
    "    }\n",
    "    if hasattr(m, 'oob_score_'): res['oob'][0] = m.oob_score_\n",
    "    return pd.DataFrame(res)"
   ]
  },
  {
   "cell_type": "code",
   "execution_count": 21,
   "metadata": {
    "scrolled": true
   },
   "outputs": [
    {
     "name": "stdout",
     "output_type": "stream",
     "text": [
      "CPU times: user 1min 16s, sys: 606 ms, total: 1min 17s\n",
      "Wall time: 9.07 s\n"
     ]
    },
    {
     "data": {
      "text/plain": [
       "RandomForestRegressor(bootstrap=True, criterion='mse', max_depth=None,\n",
       "                      max_features='auto', max_leaf_nodes=None,\n",
       "                      min_impurity_decrease=0.0, min_impurity_split=None,\n",
       "                      min_samples_leaf=1, min_samples_split=2,\n",
       "                      min_weight_fraction_leaf=0.0, n_estimators=10, n_jobs=-1,\n",
       "                      oob_score=False, random_state=None, verbose=0,\n",
       "                      warm_start=False)"
      ]
     },
     "execution_count": 21,
     "metadata": {},
     "output_type": "execute_result"
    }
   ],
   "source": [
    "m = RandomForestRegressor(n_estimators=10, n_jobs=-1)\n",
    "%time m.fit(X_train, y_train)"
   ]
  },
  {
   "cell_type": "code",
   "execution_count": 22,
   "metadata": {},
   "outputs": [
    {
     "data": {
      "text/html": [
       "<div>\n",
       "<style scoped>\n",
       "    .dataframe tbody tr th:only-of-type {\n",
       "        vertical-align: middle;\n",
       "    }\n",
       "\n",
       "    .dataframe tbody tr th {\n",
       "        vertical-align: top;\n",
       "    }\n",
       "\n",
       "    .dataframe thead th {\n",
       "        text-align: right;\n",
       "    }\n",
       "</style>\n",
       "<table border=\"1\" class=\"dataframe\">\n",
       "  <thead>\n",
       "    <tr style=\"text-align: right;\">\n",
       "      <th></th>\n",
       "      <th>config</th>\n",
       "      <th>rmse_train</th>\n",
       "      <th>rmse_dev</th>\n",
       "      <th>r^2_train</th>\n",
       "      <th>r^2_dev</th>\n",
       "      <th>oob</th>\n",
       "      <th>n_trees</th>\n",
       "      <th>train_size</th>\n",
       "      <th>dev_size</th>\n",
       "    </tr>\n",
       "  </thead>\n",
       "  <tbody>\n",
       "    <tr>\n",
       "      <td>0</td>\n",
       "      <td>baseline-slow</td>\n",
       "      <td>0.090486</td>\n",
       "      <td>0.251034</td>\n",
       "      <td>0.982888</td>\n",
       "      <td>0.887459</td>\n",
       "      <td>None</td>\n",
       "      <td>10</td>\n",
       "      <td>389125</td>\n",
       "      <td>12000</td>\n",
       "    </tr>\n",
       "  </tbody>\n",
       "</table>\n",
       "</div>"
      ],
      "text/plain": [
       "          config  rmse_train  rmse_dev  r^2_train   r^2_dev   oob  n_trees  \\\n",
       "0  baseline-slow    0.090486  0.251034   0.982888  0.887459  None       10   \n",
       "\n",
       "   train_size  dev_size  \n",
       "0      389125     12000  "
      ]
     },
     "execution_count": 22,
     "metadata": {},
     "output_type": "execute_result"
    }
   ],
   "source": [
    "results = get_scores(m, 'baseline-slow')\n",
    "results"
   ]
  },
  {
   "cell_type": "markdown",
   "metadata": {},
   "source": [
    "An r^2 in the high-80's isn't bad at all (and the RMSLE puts us around rank 100 of 470 on the Kaggle leaderboard), even thought we care overfitting badly by looking at the validation set score."
   ]
  },
  {
   "cell_type": "markdown",
   "metadata": {},
   "source": [
    "## Speeding things up"
   ]
  },
  {
   "cell_type": "code",
   "execution_count": 23,
   "metadata": {},
   "outputs": [
    {
     "data": {
      "text/plain": [
       "{'auctioneerID': 2.0, 'MachineHoursCurrentMeter': 0.0}"
      ]
     },
     "execution_count": 23,
     "metadata": {},
     "output_type": "execute_result"
    }
   ],
   "source": [
    "nas"
   ]
  },
  {
   "cell_type": "code",
   "execution_count": 24,
   "metadata": {},
   "outputs": [],
   "source": [
    "df_trn, y_trn, nas = proc_df(df_raw, 'SalePrice', subset=30000, na_dict=nas)\n",
    "X_train, _ = split_vals(df_trn, 20000)\n",
    "y_train, _ = split_vals(y_trn, 20000)"
   ]
  },
  {
   "cell_type": "code",
   "execution_count": 25,
   "metadata": {},
   "outputs": [
    {
     "data": {
      "text/plain": [
       "{'auctioneerID': 2.0, 'MachineHoursCurrentMeter': 0.0}"
      ]
     },
     "execution_count": 25,
     "metadata": {},
     "output_type": "execute_result"
    }
   ],
   "source": [
    "nas"
   ]
  },
  {
   "cell_type": "code",
   "execution_count": 26,
   "metadata": {},
   "outputs": [
    {
     "name": "stdout",
     "output_type": "stream",
     "text": [
      "CPU times: user 2.96 s, sys: 33 ms, total: 2.99 s\n",
      "Wall time: 377 ms\n"
     ]
    },
    {
     "data": {
      "text/plain": [
       "RandomForestRegressor(bootstrap=True, criterion='mse', max_depth=None,\n",
       "                      max_features='auto', max_leaf_nodes=None,\n",
       "                      min_impurity_decrease=0.0, min_impurity_split=None,\n",
       "                      min_samples_leaf=1, min_samples_split=2,\n",
       "                      min_weight_fraction_leaf=0.0, n_estimators=10, n_jobs=-1,\n",
       "                      oob_score=False, random_state=None, verbose=0,\n",
       "                      warm_start=False)"
      ]
     },
     "execution_count": 26,
     "metadata": {},
     "output_type": "execute_result"
    }
   ],
   "source": [
    "m = RandomForestRegressor(n_estimators=10, n_jobs=-1)\n",
    "%time m.fit(X_train, y_train)"
   ]
  },
  {
   "cell_type": "code",
   "execution_count": 27,
   "metadata": {},
   "outputs": [
    {
     "data": {
      "text/html": [
       "<div>\n",
       "<style scoped>\n",
       "    .dataframe tbody tr th:only-of-type {\n",
       "        vertical-align: middle;\n",
       "    }\n",
       "\n",
       "    .dataframe tbody tr th {\n",
       "        vertical-align: top;\n",
       "    }\n",
       "\n",
       "    .dataframe thead th {\n",
       "        text-align: right;\n",
       "    }\n",
       "</style>\n",
       "<table border=\"1\" class=\"dataframe\">\n",
       "  <thead>\n",
       "    <tr style=\"text-align: right;\">\n",
       "      <th></th>\n",
       "      <th>config</th>\n",
       "      <th>rmse_train</th>\n",
       "      <th>rmse_dev</th>\n",
       "      <th>r^2_train</th>\n",
       "      <th>r^2_dev</th>\n",
       "      <th>oob</th>\n",
       "      <th>n_trees</th>\n",
       "      <th>train_size</th>\n",
       "      <th>dev_size</th>\n",
       "    </tr>\n",
       "  </thead>\n",
       "  <tbody>\n",
       "    <tr>\n",
       "      <td>0</td>\n",
       "      <td>speedup</td>\n",
       "      <td>0.112626</td>\n",
       "      <td>0.349117</td>\n",
       "      <td>0.972761</td>\n",
       "      <td>0.782334</td>\n",
       "      <td>None</td>\n",
       "      <td>10</td>\n",
       "      <td>20000</td>\n",
       "      <td>12000</td>\n",
       "    </tr>\n",
       "  </tbody>\n",
       "</table>\n",
       "</div>"
      ],
      "text/plain": [
       "    config  rmse_train  rmse_dev  r^2_train   r^2_dev   oob  n_trees  \\\n",
       "0  speedup    0.112626  0.349117   0.972761  0.782334  None       10   \n",
       "\n",
       "   train_size  dev_size  \n",
       "0       20000     12000  "
      ]
     },
     "execution_count": 27,
     "metadata": {},
     "output_type": "execute_result"
    }
   ],
   "source": [
    "tmp = get_scores(m, 'speedup')\n",
    "tmp"
   ]
  },
  {
   "cell_type": "code",
   "execution_count": 28,
   "metadata": {},
   "outputs": [
    {
     "data": {
      "text/html": [
       "<div>\n",
       "<style scoped>\n",
       "    .dataframe tbody tr th:only-of-type {\n",
       "        vertical-align: middle;\n",
       "    }\n",
       "\n",
       "    .dataframe tbody tr th {\n",
       "        vertical-align: top;\n",
       "    }\n",
       "\n",
       "    .dataframe thead th {\n",
       "        text-align: right;\n",
       "    }\n",
       "</style>\n",
       "<table border=\"1\" class=\"dataframe\">\n",
       "  <thead>\n",
       "    <tr style=\"text-align: right;\">\n",
       "      <th></th>\n",
       "      <th>config</th>\n",
       "      <th>rmse_train</th>\n",
       "      <th>rmse_dev</th>\n",
       "      <th>r^2_train</th>\n",
       "      <th>r^2_dev</th>\n",
       "      <th>oob</th>\n",
       "      <th>n_trees</th>\n",
       "      <th>train_size</th>\n",
       "      <th>dev_size</th>\n",
       "    </tr>\n",
       "  </thead>\n",
       "  <tbody>\n",
       "    <tr>\n",
       "      <td>0</td>\n",
       "      <td>baseline-slow</td>\n",
       "      <td>0.090486</td>\n",
       "      <td>0.251034</td>\n",
       "      <td>0.982888</td>\n",
       "      <td>0.887459</td>\n",
       "      <td>None</td>\n",
       "      <td>10</td>\n",
       "      <td>389125</td>\n",
       "      <td>12000</td>\n",
       "    </tr>\n",
       "    <tr>\n",
       "      <td>0</td>\n",
       "      <td>speedup</td>\n",
       "      <td>0.112626</td>\n",
       "      <td>0.349117</td>\n",
       "      <td>0.972761</td>\n",
       "      <td>0.782334</td>\n",
       "      <td>None</td>\n",
       "      <td>10</td>\n",
       "      <td>20000</td>\n",
       "      <td>12000</td>\n",
       "    </tr>\n",
       "  </tbody>\n",
       "</table>\n",
       "</div>"
      ],
      "text/plain": [
       "          config  rmse_train  rmse_dev  r^2_train   r^2_dev   oob  n_trees  \\\n",
       "0  baseline-slow    0.090486  0.251034   0.982888  0.887459  None       10   \n",
       "0        speedup    0.112626  0.349117   0.972761  0.782334  None       10   \n",
       "\n",
       "   train_size  dev_size  \n",
       "0      389125     12000  \n",
       "0       20000     12000  "
      ]
     },
     "execution_count": 28,
     "metadata": {},
     "output_type": "execute_result"
    }
   ],
   "source": [
    "results = pd.concat([tmp, results])\n",
    "results[::-1]"
   ]
  },
  {
   "cell_type": "code",
   "execution_count": 29,
   "metadata": {},
   "outputs": [
    {
     "data": {
      "image/png": "[encoded data removed]",
      "text/plain": [
       "<Figure size 576x432 with 4 Axes>"
      ]
     },
     "metadata": {
      "needs_background": "light"
     },
     "output_type": "display_data"
    }
   ],
   "source": [
    "cols = results.columns[:5]\n",
    "results[cols].plot.barh(\n",
    "    x='config',\n",
    "    subplots=True,\n",
    "    # rot=0,\n",
    "    ylim=(0,1),\n",
    "    # title=['']*4,\n",
    "    legend=False,\n",
    "    figsize=(8,3*results.shape[0])\n",
    ");"
   ]
  },
  {
   "cell_type": "markdown",
   "metadata": {},
   "source": [
    "## Single tree"
   ]
  },
  {
   "cell_type": "code",
   "execution_count": 30,
   "metadata": {},
   "outputs": [
    {
     "data": {
      "text/plain": [
       "RandomForestRegressor(bootstrap=False, criterion='mse', max_depth=3,\n",
       "                      max_features='auto', max_leaf_nodes=None,\n",
       "                      min_impurity_decrease=0.0, min_impurity_split=None,\n",
       "                      min_samples_leaf=1, min_samples_split=2,\n",
       "                      min_weight_fraction_leaf=0.0, n_estimators=1, n_jobs=-1,\n",
       "                      oob_score=False, random_state=None, verbose=0,\n",
       "                      warm_start=False)"
      ]
     },
     "execution_count": 30,
     "metadata": {},
     "output_type": "execute_result"
    }
   ],
   "source": [
    "m = RandomForestRegressor(n_estimators=1, max_depth=3, bootstrap=False, n_jobs=-1)\n",
    "m.fit(X_train, y_train)"
   ]
  },
  {
   "cell_type": "code",
   "execution_count": 31,
   "metadata": {},
   "outputs": [
    {
     "data": {
      "text/html": [
       "<div>\n",
       "<style scoped>\n",
       "    .dataframe tbody tr th:only-of-type {\n",
       "        vertical-align: middle;\n",
       "    }\n",
       "\n",
       "    .dataframe tbody tr th {\n",
       "        vertical-align: top;\n",
       "    }\n",
       "\n",
       "    .dataframe thead th {\n",
       "        text-align: right;\n",
       "    }\n",
       "</style>\n",
       "<table border=\"1\" class=\"dataframe\">\n",
       "  <thead>\n",
       "    <tr style=\"text-align: right;\">\n",
       "      <th></th>\n",
       "      <th>config</th>\n",
       "      <th>rmse_train</th>\n",
       "      <th>rmse_dev</th>\n",
       "      <th>r^2_train</th>\n",
       "      <th>r^2_dev</th>\n",
       "      <th>oob</th>\n",
       "      <th>n_trees</th>\n",
       "      <th>train_size</th>\n",
       "      <th>dev_size</th>\n",
       "    </tr>\n",
       "  </thead>\n",
       "  <tbody>\n",
       "    <tr>\n",
       "      <td>0</td>\n",
       "      <td>single tree</td>\n",
       "      <td>0.522425</td>\n",
       "      <td>0.583432</td>\n",
       "      <td>0.413925</td>\n",
       "      <td>0.392105</td>\n",
       "      <td>None</td>\n",
       "      <td>1</td>\n",
       "      <td>20000</td>\n",
       "      <td>12000</td>\n",
       "    </tr>\n",
       "  </tbody>\n",
       "</table>\n",
       "</div>"
      ],
      "text/plain": [
       "        config  rmse_train  rmse_dev  r^2_train   r^2_dev   oob  n_trees  \\\n",
       "0  single tree    0.522425  0.583432   0.413925  0.392105  None        1   \n",
       "\n",
       "   train_size  dev_size  \n",
       "0       20000     12000  "
      ]
     },
     "execution_count": 31,
     "metadata": {},
     "output_type": "execute_result"
    }
   ],
   "source": [
    "tmp = get_scores(m, 'single tree')\n",
    "tmp"
   ]
  },
  {
   "cell_type": "code",
   "execution_count": 32,
   "metadata": {},
   "outputs": [
    {
     "data": {
      "text/html": [
       "<div>\n",
       "<style scoped>\n",
       "    .dataframe tbody tr th:only-of-type {\n",
       "        vertical-align: middle;\n",
       "    }\n",
       "\n",
       "    .dataframe tbody tr th {\n",
       "        vertical-align: top;\n",
       "    }\n",
       "\n",
       "    .dataframe thead th {\n",
       "        text-align: right;\n",
       "    }\n",
       "</style>\n",
       "<table border=\"1\" class=\"dataframe\">\n",
       "  <thead>\n",
       "    <tr style=\"text-align: right;\">\n",
       "      <th></th>\n",
       "      <th>config</th>\n",
       "      <th>rmse_train</th>\n",
       "      <th>rmse_dev</th>\n",
       "      <th>r^2_train</th>\n",
       "      <th>r^2_dev</th>\n",
       "      <th>oob</th>\n",
       "      <th>n_trees</th>\n",
       "      <th>train_size</th>\n",
       "      <th>dev_size</th>\n",
       "    </tr>\n",
       "  </thead>\n",
       "  <tbody>\n",
       "    <tr>\n",
       "      <td>0</td>\n",
       "      <td>baseline-slow</td>\n",
       "      <td>0.090486</td>\n",
       "      <td>0.251034</td>\n",
       "      <td>0.982888</td>\n",
       "      <td>0.887459</td>\n",
       "      <td>None</td>\n",
       "      <td>10</td>\n",
       "      <td>389125</td>\n",
       "      <td>12000</td>\n",
       "    </tr>\n",
       "    <tr>\n",
       "      <td>0</td>\n",
       "      <td>speedup</td>\n",
       "      <td>0.112626</td>\n",
       "      <td>0.349117</td>\n",
       "      <td>0.972761</td>\n",
       "      <td>0.782334</td>\n",
       "      <td>None</td>\n",
       "      <td>10</td>\n",
       "      <td>20000</td>\n",
       "      <td>12000</td>\n",
       "    </tr>\n",
       "    <tr>\n",
       "      <td>0</td>\n",
       "      <td>single tree</td>\n",
       "      <td>0.522425</td>\n",
       "      <td>0.583432</td>\n",
       "      <td>0.413925</td>\n",
       "      <td>0.392105</td>\n",
       "      <td>None</td>\n",
       "      <td>1</td>\n",
       "      <td>20000</td>\n",
       "      <td>12000</td>\n",
       "    </tr>\n",
       "  </tbody>\n",
       "</table>\n",
       "</div>"
      ],
      "text/plain": [
       "          config  rmse_train  rmse_dev  r^2_train   r^2_dev   oob  n_trees  \\\n",
       "0  baseline-slow    0.090486  0.251034   0.982888  0.887459  None       10   \n",
       "0        speedup    0.112626  0.349117   0.972761  0.782334  None       10   \n",
       "0    single tree    0.522425  0.583432   0.413925  0.392105  None        1   \n",
       "\n",
       "   train_size  dev_size  \n",
       "0      389125     12000  \n",
       "0       20000     12000  \n",
       "0       20000     12000  "
      ]
     },
     "execution_count": 32,
     "metadata": {},
     "output_type": "execute_result"
    }
   ],
   "source": [
    "results = pd.concat([tmp, results])\n",
    "results[::-1]"
   ]
  },
  {
   "cell_type": "code",
   "execution_count": 33,
   "metadata": {},
   "outputs": [
    {
     "data": {
      "image/png": "[encoded data removed]",
      "text/plain": [
       "<Figure size 576x648 with 4 Axes>"
      ]
     },
     "metadata": {
      "needs_background": "light"
     },
     "output_type": "display_data"
    }
   ],
   "source": [
    "cols = results.columns[:5]\n",
    "results[cols].plot.barh(\n",
    "    x='config',\n",
    "    subplots=True,\n",
    "    # rot=0,\n",
    "    ylim=(0,1),\n",
    "    # title=['']*4,\n",
    "    legend=False,\n",
    "    figsize=(8,3*results.shape[0])\n",
    ");"
   ]
  },
  {
   "cell_type": "markdown",
   "metadata": {},
   "source": [
    "Let's see what happens if we create a bigger tree."
   ]
  },
  {
   "cell_type": "code",
   "execution_count": 34,
   "metadata": {},
   "outputs": [
    {
     "data": {
      "text/plain": [
       "RandomForestRegressor(bootstrap=False, criterion='mse', max_depth=None,\n",
       "                      max_features='auto', max_leaf_nodes=None,\n",
       "                      min_impurity_decrease=0.0, min_impurity_split=None,\n",
       "                      min_samples_leaf=1, min_samples_split=2,\n",
       "                      min_weight_fraction_leaf=0.0, n_estimators=1, n_jobs=-1,\n",
       "                      oob_score=False, random_state=None, verbose=0,\n",
       "                      warm_start=False)"
      ]
     },
     "execution_count": 34,
     "metadata": {},
     "output_type": "execute_result"
    }
   ],
   "source": [
    "m = RandomForestRegressor(n_estimators=1, bootstrap=False, n_jobs=-1)\n",
    "m.fit(X_train, y_train)"
   ]
  },
  {
   "cell_type": "code",
   "execution_count": 35,
   "metadata": {},
   "outputs": [
    {
     "data": {
      "text/html": [
       "<div>\n",
       "<style scoped>\n",
       "    .dataframe tbody tr th:only-of-type {\n",
       "        vertical-align: middle;\n",
       "    }\n",
       "\n",
       "    .dataframe tbody tr th {\n",
       "        vertical-align: top;\n",
       "    }\n",
       "\n",
       "    .dataframe thead th {\n",
       "        text-align: right;\n",
       "    }\n",
       "</style>\n",
       "<table border=\"1\" class=\"dataframe\">\n",
       "  <thead>\n",
       "    <tr style=\"text-align: right;\">\n",
       "      <th></th>\n",
       "      <th>config</th>\n",
       "      <th>rmse_train</th>\n",
       "      <th>rmse_dev</th>\n",
       "      <th>r^2_train</th>\n",
       "      <th>r^2_dev</th>\n",
       "      <th>oob</th>\n",
       "      <th>n_trees</th>\n",
       "      <th>train_size</th>\n",
       "      <th>dev_size</th>\n",
       "    </tr>\n",
       "  </thead>\n",
       "  <tbody>\n",
       "    <tr>\n",
       "      <td>0</td>\n",
       "      <td>single deep tree</td>\n",
       "      <td>7.215596e-17</td>\n",
       "      <td>0.4693</td>\n",
       "      <td>1.0</td>\n",
       "      <td>0.606677</td>\n",
       "      <td>None</td>\n",
       "      <td>1</td>\n",
       "      <td>20000</td>\n",
       "      <td>12000</td>\n",
       "    </tr>\n",
       "  </tbody>\n",
       "</table>\n",
       "</div>"
      ],
      "text/plain": [
       "             config    rmse_train  rmse_dev  r^2_train   r^2_dev   oob  \\\n",
       "0  single deep tree  7.215596e-17    0.4693        1.0  0.606677  None   \n",
       "\n",
       "   n_trees  train_size  dev_size  \n",
       "0        1       20000     12000  "
      ]
     },
     "execution_count": 35,
     "metadata": {},
     "output_type": "execute_result"
    }
   ],
   "source": [
    "tmp = get_scores(m, 'single deep tree')\n",
    "tmp"
   ]
  },
  {
   "cell_type": "code",
   "execution_count": 36,
   "metadata": {},
   "outputs": [
    {
     "data": {
      "text/html": [
       "<div>\n",
       "<style scoped>\n",
       "    .dataframe tbody tr th:only-of-type {\n",
       "        vertical-align: middle;\n",
       "    }\n",
       "\n",
       "    .dataframe tbody tr th {\n",
       "        vertical-align: top;\n",
       "    }\n",
       "\n",
       "    .dataframe thead th {\n",
       "        text-align: right;\n",
       "    }\n",
       "</style>\n",
       "<table border=\"1\" class=\"dataframe\">\n",
       "  <thead>\n",
       "    <tr style=\"text-align: right;\">\n",
       "      <th></th>\n",
       "      <th>config</th>\n",
       "      <th>rmse_train</th>\n",
       "      <th>rmse_dev</th>\n",
       "      <th>r^2_train</th>\n",
       "      <th>r^2_dev</th>\n",
       "      <th>oob</th>\n",
       "      <th>n_trees</th>\n",
       "      <th>train_size</th>\n",
       "      <th>dev_size</th>\n",
       "    </tr>\n",
       "  </thead>\n",
       "  <tbody>\n",
       "    <tr>\n",
       "      <td>0</td>\n",
       "      <td>baseline-slow</td>\n",
       "      <td>9.048555e-02</td>\n",
       "      <td>0.251034</td>\n",
       "      <td>0.982888</td>\n",
       "      <td>0.887459</td>\n",
       "      <td>None</td>\n",
       "      <td>10</td>\n",
       "      <td>389125</td>\n",
       "      <td>12000</td>\n",
       "    </tr>\n",
       "    <tr>\n",
       "      <td>0</td>\n",
       "      <td>speedup</td>\n",
       "      <td>1.126264e-01</td>\n",
       "      <td>0.349117</td>\n",
       "      <td>0.972761</td>\n",
       "      <td>0.782334</td>\n",
       "      <td>None</td>\n",
       "      <td>10</td>\n",
       "      <td>20000</td>\n",
       "      <td>12000</td>\n",
       "    </tr>\n",
       "    <tr>\n",
       "      <td>0</td>\n",
       "      <td>single tree</td>\n",
       "      <td>5.224254e-01</td>\n",
       "      <td>0.583432</td>\n",
       "      <td>0.413925</td>\n",
       "      <td>0.392105</td>\n",
       "      <td>None</td>\n",
       "      <td>1</td>\n",
       "      <td>20000</td>\n",
       "      <td>12000</td>\n",
       "    </tr>\n",
       "    <tr>\n",
       "      <td>0</td>\n",
       "      <td>single deep tree</td>\n",
       "      <td>7.215596e-17</td>\n",
       "      <td>0.469300</td>\n",
       "      <td>1.000000</td>\n",
       "      <td>0.606677</td>\n",
       "      <td>None</td>\n",
       "      <td>1</td>\n",
       "      <td>20000</td>\n",
       "      <td>12000</td>\n",
       "    </tr>\n",
       "  </tbody>\n",
       "</table>\n",
       "</div>"
      ],
      "text/plain": [
       "             config    rmse_train  rmse_dev  r^2_train   r^2_dev   oob  \\\n",
       "0     baseline-slow  9.048555e-02  0.251034   0.982888  0.887459  None   \n",
       "0           speedup  1.126264e-01  0.349117   0.972761  0.782334  None   \n",
       "0       single tree  5.224254e-01  0.583432   0.413925  0.392105  None   \n",
       "0  single deep tree  7.215596e-17  0.469300   1.000000  0.606677  None   \n",
       "\n",
       "   n_trees  train_size  dev_size  \n",
       "0       10      389125     12000  \n",
       "0       10       20000     12000  \n",
       "0        1       20000     12000  \n",
       "0        1       20000     12000  "
      ]
     },
     "execution_count": 36,
     "metadata": {},
     "output_type": "execute_result"
    }
   ],
   "source": [
    "results = pd.concat([tmp, results])\n",
    "results[::-1]"
   ]
  },
  {
   "cell_type": "code",
   "execution_count": 37,
   "metadata": {},
   "outputs": [
    {
     "data": {
      "image/png": "[encoded data removed]",
      "text/plain": [
       "<Figure size 576x864 with 4 Axes>"
      ]
     },
     "metadata": {
      "needs_background": "light"
     },
     "output_type": "display_data"
    }
   ],
   "source": [
    "cols = results.columns[:5]\n",
    "results[cols].plot.barh(\n",
    "    x='config',\n",
    "    subplots=True,\n",
    "    # rot=0,\n",
    "    ylim=(0,1),\n",
    "    # title=['']*4,\n",
    "    legend=False,\n",
    "    figsize=(8,3*results.shape[0])\n",
    ");"
   ]
  },
  {
   "cell_type": "markdown",
   "metadata": {},
   "source": [
    "The training set result looks great! But the validation set is worse than our original model. This is why we need to use *bagging* of multiple trees to get more generalizable results."
   ]
  },
  {
   "cell_type": "markdown",
   "metadata": {},
   "source": [
    "## Bagging"
   ]
  },
  {
   "cell_type": "markdown",
   "metadata": {},
   "source": [
    "### Intro to bagging"
   ]
  },
  {
   "cell_type": "markdown",
   "metadata": {},
   "source": [
    "To learn about bagging in random forests, let's start with our basic model again."
   ]
  },
  {
   "cell_type": "code",
   "execution_count": 38,
   "metadata": {},
   "outputs": [
    {
     "data": {
      "text/plain": [
       "RandomForestRegressor(bootstrap=True, criterion='mse', max_depth=None,\n",
       "                      max_features='auto', max_leaf_nodes=None,\n",
       "                      min_impurity_decrease=0.0, min_impurity_split=None,\n",
       "                      min_samples_leaf=1, min_samples_split=2,\n",
       "                      min_weight_fraction_leaf=0.0, n_estimators=10, n_jobs=-1,\n",
       "                      oob_score=False, random_state=None, verbose=0,\n",
       "                      warm_start=False)"
      ]
     },
     "execution_count": 38,
     "metadata": {},
     "output_type": "execute_result"
    }
   ],
   "source": [
    "m = RandomForestRegressor(n_estimators=10, n_jobs=-1)\n",
    "m.fit(X_train, y_train)"
   ]
  },
  {
   "cell_type": "code",
   "execution_count": 39,
   "metadata": {},
   "outputs": [
    {
     "data": {
      "text/html": [
       "<div>\n",
       "<style scoped>\n",
       "    .dataframe tbody tr th:only-of-type {\n",
       "        vertical-align: middle;\n",
       "    }\n",
       "\n",
       "    .dataframe tbody tr th {\n",
       "        vertical-align: top;\n",
       "    }\n",
       "\n",
       "    .dataframe thead th {\n",
       "        text-align: right;\n",
       "    }\n",
       "</style>\n",
       "<table border=\"1\" class=\"dataframe\">\n",
       "  <thead>\n",
       "    <tr style=\"text-align: right;\">\n",
       "      <th></th>\n",
       "      <th>config</th>\n",
       "      <th>rmse_train</th>\n",
       "      <th>rmse_dev</th>\n",
       "      <th>r^2_train</th>\n",
       "      <th>r^2_dev</th>\n",
       "      <th>oob</th>\n",
       "      <th>n_trees</th>\n",
       "      <th>train_size</th>\n",
       "      <th>dev_size</th>\n",
       "    </tr>\n",
       "  </thead>\n",
       "  <tbody>\n",
       "    <tr>\n",
       "      <td>0</td>\n",
       "      <td>baseline-fast</td>\n",
       "      <td>0.113374</td>\n",
       "      <td>0.345853</td>\n",
       "      <td>0.972398</td>\n",
       "      <td>0.786385</td>\n",
       "      <td>None</td>\n",
       "      <td>10</td>\n",
       "      <td>20000</td>\n",
       "      <td>12000</td>\n",
       "    </tr>\n",
       "  </tbody>\n",
       "</table>\n",
       "</div>"
      ],
      "text/plain": [
       "          config  rmse_train  rmse_dev  r^2_train   r^2_dev   oob  n_trees  \\\n",
       "0  baseline-fast    0.113374  0.345853   0.972398  0.786385  None       10   \n",
       "\n",
       "   train_size  dev_size  \n",
       "0       20000     12000  "
      ]
     },
     "execution_count": 39,
     "metadata": {},
     "output_type": "execute_result"
    }
   ],
   "source": [
    "tmp = get_scores(m, 'baseline-fast')\n",
    "tmp"
   ]
  },
  {
   "cell_type": "code",
   "execution_count": 40,
   "metadata": {},
   "outputs": [
    {
     "data": {
      "text/html": [
       "<div>\n",
       "<style scoped>\n",
       "    .dataframe tbody tr th:only-of-type {\n",
       "        vertical-align: middle;\n",
       "    }\n",
       "\n",
       "    .dataframe tbody tr th {\n",
       "        vertical-align: top;\n",
       "    }\n",
       "\n",
       "    .dataframe thead th {\n",
       "        text-align: right;\n",
       "    }\n",
       "</style>\n",
       "<table border=\"1\" class=\"dataframe\">\n",
       "  <thead>\n",
       "    <tr style=\"text-align: right;\">\n",
       "      <th></th>\n",
       "      <th>config</th>\n",
       "      <th>rmse_train</th>\n",
       "      <th>rmse_dev</th>\n",
       "      <th>r^2_train</th>\n",
       "      <th>r^2_dev</th>\n",
       "      <th>oob</th>\n",
       "      <th>n_trees</th>\n",
       "      <th>train_size</th>\n",
       "      <th>dev_size</th>\n",
       "    </tr>\n",
       "  </thead>\n",
       "  <tbody>\n",
       "    <tr>\n",
       "      <td>0</td>\n",
       "      <td>baseline-slow</td>\n",
       "      <td>9.048555e-02</td>\n",
       "      <td>0.251034</td>\n",
       "      <td>0.982888</td>\n",
       "      <td>0.887459</td>\n",
       "      <td>None</td>\n",
       "      <td>10</td>\n",
       "      <td>389125</td>\n",
       "      <td>12000</td>\n",
       "    </tr>\n",
       "    <tr>\n",
       "      <td>0</td>\n",
       "      <td>speedup</td>\n",
       "      <td>1.126264e-01</td>\n",
       "      <td>0.349117</td>\n",
       "      <td>0.972761</td>\n",
       "      <td>0.782334</td>\n",
       "      <td>None</td>\n",
       "      <td>10</td>\n",
       "      <td>20000</td>\n",
       "      <td>12000</td>\n",
       "    </tr>\n",
       "    <tr>\n",
       "      <td>0</td>\n",
       "      <td>single tree</td>\n",
       "      <td>5.224254e-01</td>\n",
       "      <td>0.583432</td>\n",
       "      <td>0.413925</td>\n",
       "      <td>0.392105</td>\n",
       "      <td>None</td>\n",
       "      <td>1</td>\n",
       "      <td>20000</td>\n",
       "      <td>12000</td>\n",
       "    </tr>\n",
       "    <tr>\n",
       "      <td>0</td>\n",
       "      <td>single deep tree</td>\n",
       "      <td>7.215596e-17</td>\n",
       "      <td>0.469300</td>\n",
       "      <td>1.000000</td>\n",
       "      <td>0.606677</td>\n",
       "      <td>None</td>\n",
       "      <td>1</td>\n",
       "      <td>20000</td>\n",
       "      <td>12000</td>\n",
       "    </tr>\n",
       "    <tr>\n",
       "      <td>0</td>\n",
       "      <td>baseline-fast</td>\n",
       "      <td>1.133743e-01</td>\n",
       "      <td>0.345853</td>\n",
       "      <td>0.972398</td>\n",
       "      <td>0.786385</td>\n",
       "      <td>None</td>\n",
       "      <td>10</td>\n",
       "      <td>20000</td>\n",
       "      <td>12000</td>\n",
       "    </tr>\n",
       "  </tbody>\n",
       "</table>\n",
       "</div>"
      ],
      "text/plain": [
       "             config    rmse_train  rmse_dev  r^2_train   r^2_dev   oob  \\\n",
       "0     baseline-slow  9.048555e-02  0.251034   0.982888  0.887459  None   \n",
       "0           speedup  1.126264e-01  0.349117   0.972761  0.782334  None   \n",
       "0       single tree  5.224254e-01  0.583432   0.413925  0.392105  None   \n",
       "0  single deep tree  7.215596e-17  0.469300   1.000000  0.606677  None   \n",
       "0     baseline-fast  1.133743e-01  0.345853   0.972398  0.786385  None   \n",
       "\n",
       "   n_trees  train_size  dev_size  \n",
       "0       10      389125     12000  \n",
       "0       10       20000     12000  \n",
       "0        1       20000     12000  \n",
       "0        1       20000     12000  \n",
       "0       10       20000     12000  "
      ]
     },
     "execution_count": 40,
     "metadata": {},
     "output_type": "execute_result"
    }
   ],
   "source": [
    "results = pd.concat([tmp, results])\n",
    "results[::-1]"
   ]
  },
  {
   "cell_type": "code",
   "execution_count": 41,
   "metadata": {},
   "outputs": [
    {
     "data": {
      "image/png": "[encoded data removed]",
      "text/plain": [
       "<Figure size 576x1080 with 4 Axes>"
      ]
     },
     "metadata": {
      "needs_background": "light"
     },
     "output_type": "display_data"
    }
   ],
   "source": [
    "cols = results.columns[:5]\n",
    "results[cols].plot.barh(\n",
    "    x='config',\n",
    "    subplots=True,\n",
    "    # rot=0,\n",
    "    ylim=(0,1),\n",
    "    # title=['']*4,\n",
    "    legend=False,\n",
    "    figsize=(8,3*results.shape[0])\n",
    ");"
   ]
  },
  {
   "cell_type": "markdown",
   "metadata": {},
   "source": [
    "We'll grab the predictions for each individual tree, and look at one example."
   ]
  },
  {
   "cell_type": "code",
   "execution_count": 42,
   "metadata": {},
   "outputs": [
    {
     "data": {
      "text/plain": [
       "(array([9.23503, 8.92266, 9.21034, 9.04782, 8.92266, 9.15905, 9.04782, 9.15905, 9.51044, 8.92266]),\n",
       " 9.113753025967656,\n",
       " 9.104979856318357)"
      ]
     },
     "execution_count": 42,
     "metadata": {},
     "output_type": "execute_result"
    }
   ],
   "source": [
    "preds = np.stack([t.predict(X_valid) for t in m.estimators_])\n",
    "preds[:,0], np.mean(preds[:,0]), y_valid[0]"
   ]
  },
  {
   "cell_type": "code",
   "execution_count": 43,
   "metadata": {},
   "outputs": [
    {
     "data": {
      "text/plain": [
       "(10, 12000)"
      ]
     },
     "execution_count": 43,
     "metadata": {},
     "output_type": "execute_result"
    }
   ],
   "source": [
    "preds.shape"
   ]
  },
  {
   "cell_type": "code",
   "execution_count": 44,
   "metadata": {},
   "outputs": [
    {
     "data": {
      "image/png": "[encoded data removed]",
      "text/plain": [
       "<Figure size 432x288 with 1 Axes>"
      ]
     },
     "metadata": {
      "needs_background": "light"
     },
     "output_type": "display_data"
    }
   ],
   "source": [
    "plt.plot([metrics.r2_score(y_valid, np.mean(preds[:i+1], axis=0)) for i in range(10)]);"
   ]
  },
  {
   "cell_type": "markdown",
   "metadata": {},
   "source": [
    "The shape of this curve suggests that adding more trees isn't going to help us much. Let's check. (Compare this to our original model on a sample)"
   ]
  },
  {
   "cell_type": "code",
   "execution_count": 45,
   "metadata": {},
   "outputs": [
    {
     "data": {
      "text/html": [
       "<div>\n",
       "<style scoped>\n",
       "    .dataframe tbody tr th:only-of-type {\n",
       "        vertical-align: middle;\n",
       "    }\n",
       "\n",
       "    .dataframe tbody tr th {\n",
       "        vertical-align: top;\n",
       "    }\n",
       "\n",
       "    .dataframe thead th {\n",
       "        text-align: right;\n",
       "    }\n",
       "</style>\n",
       "<table border=\"1\" class=\"dataframe\">\n",
       "  <thead>\n",
       "    <tr style=\"text-align: right;\">\n",
       "      <th></th>\n",
       "      <th>config</th>\n",
       "      <th>rmse_train</th>\n",
       "      <th>rmse_dev</th>\n",
       "      <th>r^2_train</th>\n",
       "      <th>r^2_dev</th>\n",
       "      <th>oob</th>\n",
       "      <th>n_trees</th>\n",
       "      <th>train_size</th>\n",
       "      <th>dev_size</th>\n",
       "    </tr>\n",
       "  </thead>\n",
       "  <tbody>\n",
       "    <tr>\n",
       "      <td>0</td>\n",
       "      <td></td>\n",
       "      <td>0.103901</td>\n",
       "      <td>0.336189</td>\n",
       "      <td>0.976819</td>\n",
       "      <td>0.798157</td>\n",
       "      <td>None</td>\n",
       "      <td>20</td>\n",
       "      <td>20000</td>\n",
       "      <td>12000</td>\n",
       "    </tr>\n",
       "  </tbody>\n",
       "</table>\n",
       "</div>"
      ],
      "text/plain": [
       "  config  rmse_train  rmse_dev  r^2_train   r^2_dev   oob  n_trees  \\\n",
       "0           0.103901  0.336189   0.976819  0.798157  None       20   \n",
       "\n",
       "   train_size  dev_size  \n",
       "0       20000     12000  "
      ]
     },
     "execution_count": 45,
     "metadata": {},
     "output_type": "execute_result"
    }
   ],
   "source": [
    "m = RandomForestRegressor(n_estimators=20, n_jobs=-1)\n",
    "m.fit(X_train, y_train)\n",
    "get_scores(m, \"\")"
   ]
  },
  {
   "cell_type": "code",
   "execution_count": 46,
   "metadata": {},
   "outputs": [
    {
     "data": {
      "text/html": [
       "<div>\n",
       "<style scoped>\n",
       "    .dataframe tbody tr th:only-of-type {\n",
       "        vertical-align: middle;\n",
       "    }\n",
       "\n",
       "    .dataframe tbody tr th {\n",
       "        vertical-align: top;\n",
       "    }\n",
       "\n",
       "    .dataframe thead th {\n",
       "        text-align: right;\n",
       "    }\n",
       "</style>\n",
       "<table border=\"1\" class=\"dataframe\">\n",
       "  <thead>\n",
       "    <tr style=\"text-align: right;\">\n",
       "      <th></th>\n",
       "      <th>config</th>\n",
       "      <th>rmse_train</th>\n",
       "      <th>rmse_dev</th>\n",
       "      <th>r^2_train</th>\n",
       "      <th>r^2_dev</th>\n",
       "      <th>oob</th>\n",
       "      <th>n_trees</th>\n",
       "      <th>train_size</th>\n",
       "      <th>dev_size</th>\n",
       "    </tr>\n",
       "  </thead>\n",
       "  <tbody>\n",
       "    <tr>\n",
       "      <td>0</td>\n",
       "      <td></td>\n",
       "      <td>0.098108</td>\n",
       "      <td>0.33959</td>\n",
       "      <td>0.979331</td>\n",
       "      <td>0.794052</td>\n",
       "      <td>None</td>\n",
       "      <td>40</td>\n",
       "      <td>20000</td>\n",
       "      <td>12000</td>\n",
       "    </tr>\n",
       "  </tbody>\n",
       "</table>\n",
       "</div>"
      ],
      "text/plain": [
       "  config  rmse_train  rmse_dev  r^2_train   r^2_dev   oob  n_trees  \\\n",
       "0           0.098108   0.33959   0.979331  0.794052  None       40   \n",
       "\n",
       "   train_size  dev_size  \n",
       "0       20000     12000  "
      ]
     },
     "execution_count": 46,
     "metadata": {},
     "output_type": "execute_result"
    }
   ],
   "source": [
    "m = RandomForestRegressor(n_estimators=40, n_jobs=-1)\n",
    "m.fit(X_train, y_train)\n",
    "get_scores(m, \"\")"
   ]
  },
  {
   "cell_type": "code",
   "execution_count": 47,
   "metadata": {},
   "outputs": [
    {
     "data": {
      "text/plain": [
       "RandomForestRegressor(bootstrap=True, criterion='mse', max_depth=None,\n",
       "                      max_features='auto', max_leaf_nodes=None,\n",
       "                      min_impurity_decrease=0.0, min_impurity_split=None,\n",
       "                      min_samples_leaf=1, min_samples_split=2,\n",
       "                      min_weight_fraction_leaf=0.0, n_estimators=80, n_jobs=-1,\n",
       "                      oob_score=False, random_state=None, verbose=0,\n",
       "                      warm_start=False)"
      ]
     },
     "execution_count": 47,
     "metadata": {},
     "output_type": "execute_result"
    }
   ],
   "source": [
    "m = RandomForestRegressor(n_estimators=80, n_jobs=-1)\n",
    "m.fit(X_train, y_train)"
   ]
  },
  {
   "cell_type": "code",
   "execution_count": 48,
   "metadata": {},
   "outputs": [
    {
     "data": {
      "text/html": [
       "<div>\n",
       "<style scoped>\n",
       "    .dataframe tbody tr th:only-of-type {\n",
       "        vertical-align: middle;\n",
       "    }\n",
       "\n",
       "    .dataframe tbody tr th {\n",
       "        vertical-align: top;\n",
       "    }\n",
       "\n",
       "    .dataframe thead th {\n",
       "        text-align: right;\n",
       "    }\n",
       "</style>\n",
       "<table border=\"1\" class=\"dataframe\">\n",
       "  <thead>\n",
       "    <tr style=\"text-align: right;\">\n",
       "      <th></th>\n",
       "      <th>config</th>\n",
       "      <th>rmse_train</th>\n",
       "      <th>rmse_dev</th>\n",
       "      <th>r^2_train</th>\n",
       "      <th>r^2_dev</th>\n",
       "      <th>oob</th>\n",
       "      <th>n_trees</th>\n",
       "      <th>train_size</th>\n",
       "      <th>dev_size</th>\n",
       "    </tr>\n",
       "  </thead>\n",
       "  <tbody>\n",
       "    <tr>\n",
       "      <td>0</td>\n",
       "      <td>baseline-fast-80</td>\n",
       "      <td>0.094694</td>\n",
       "      <td>0.33656</td>\n",
       "      <td>0.980745</td>\n",
       "      <td>0.79771</td>\n",
       "      <td>None</td>\n",
       "      <td>80</td>\n",
       "      <td>20000</td>\n",
       "      <td>12000</td>\n",
       "    </tr>\n",
       "  </tbody>\n",
       "</table>\n",
       "</div>"
      ],
      "text/plain": [
       "             config  rmse_train  rmse_dev  r^2_train  r^2_dev   oob  n_trees  \\\n",
       "0  baseline-fast-80    0.094694   0.33656   0.980745  0.79771  None       80   \n",
       "\n",
       "   train_size  dev_size  \n",
       "0       20000     12000  "
      ]
     },
     "execution_count": 48,
     "metadata": {},
     "output_type": "execute_result"
    }
   ],
   "source": [
    "tmp = get_scores(m, \"baseline-fast-80\")\n",
    "tmp"
   ]
  },
  {
   "cell_type": "code",
   "execution_count": 49,
   "metadata": {},
   "outputs": [
    {
     "data": {
      "text/html": [
       "<div>\n",
       "<style scoped>\n",
       "    .dataframe tbody tr th:only-of-type {\n",
       "        vertical-align: middle;\n",
       "    }\n",
       "\n",
       "    .dataframe tbody tr th {\n",
       "        vertical-align: top;\n",
       "    }\n",
       "\n",
       "    .dataframe thead th {\n",
       "        text-align: right;\n",
       "    }\n",
       "</style>\n",
       "<table border=\"1\" class=\"dataframe\">\n",
       "  <thead>\n",
       "    <tr style=\"text-align: right;\">\n",
       "      <th></th>\n",
       "      <th>config</th>\n",
       "      <th>rmse_train</th>\n",
       "      <th>rmse_dev</th>\n",
       "      <th>r^2_train</th>\n",
       "      <th>r^2_dev</th>\n",
       "      <th>oob</th>\n",
       "      <th>n_trees</th>\n",
       "      <th>train_size</th>\n",
       "      <th>dev_size</th>\n",
       "    </tr>\n",
       "  </thead>\n",
       "  <tbody>\n",
       "    <tr>\n",
       "      <td>0</td>\n",
       "      <td>baseline-slow</td>\n",
       "      <td>9.048555e-02</td>\n",
       "      <td>0.251034</td>\n",
       "      <td>0.982888</td>\n",
       "      <td>0.887459</td>\n",
       "      <td>None</td>\n",
       "      <td>10</td>\n",
       "      <td>389125</td>\n",
       "      <td>12000</td>\n",
       "    </tr>\n",
       "    <tr>\n",
       "      <td>0</td>\n",
       "      <td>speedup</td>\n",
       "      <td>1.126264e-01</td>\n",
       "      <td>0.349117</td>\n",
       "      <td>0.972761</td>\n",
       "      <td>0.782334</td>\n",
       "      <td>None</td>\n",
       "      <td>10</td>\n",
       "      <td>20000</td>\n",
       "      <td>12000</td>\n",
       "    </tr>\n",
       "    <tr>\n",
       "      <td>0</td>\n",
       "      <td>single tree</td>\n",
       "      <td>5.224254e-01</td>\n",
       "      <td>0.583432</td>\n",
       "      <td>0.413925</td>\n",
       "      <td>0.392105</td>\n",
       "      <td>None</td>\n",
       "      <td>1</td>\n",
       "      <td>20000</td>\n",
       "      <td>12000</td>\n",
       "    </tr>\n",
       "    <tr>\n",
       "      <td>0</td>\n",
       "      <td>single deep tree</td>\n",
       "      <td>7.215596e-17</td>\n",
       "      <td>0.469300</td>\n",
       "      <td>1.000000</td>\n",
       "      <td>0.606677</td>\n",
       "      <td>None</td>\n",
       "      <td>1</td>\n",
       "      <td>20000</td>\n",
       "      <td>12000</td>\n",
       "    </tr>\n",
       "    <tr>\n",
       "      <td>0</td>\n",
       "      <td>baseline-fast</td>\n",
       "      <td>1.133743e-01</td>\n",
       "      <td>0.345853</td>\n",
       "      <td>0.972398</td>\n",
       "      <td>0.786385</td>\n",
       "      <td>None</td>\n",
       "      <td>10</td>\n",
       "      <td>20000</td>\n",
       "      <td>12000</td>\n",
       "    </tr>\n",
       "    <tr>\n",
       "      <td>0</td>\n",
       "      <td>baseline-fast-80</td>\n",
       "      <td>9.469417e-02</td>\n",
       "      <td>0.336560</td>\n",
       "      <td>0.980745</td>\n",
       "      <td>0.797710</td>\n",
       "      <td>None</td>\n",
       "      <td>80</td>\n",
       "      <td>20000</td>\n",
       "      <td>12000</td>\n",
       "    </tr>\n",
       "  </tbody>\n",
       "</table>\n",
       "</div>"
      ],
      "text/plain": [
       "             config    rmse_train  rmse_dev  r^2_train   r^2_dev   oob  \\\n",
       "0     baseline-slow  9.048555e-02  0.251034   0.982888  0.887459  None   \n",
       "0           speedup  1.126264e-01  0.349117   0.972761  0.782334  None   \n",
       "0       single tree  5.224254e-01  0.583432   0.413925  0.392105  None   \n",
       "0  single deep tree  7.215596e-17  0.469300   1.000000  0.606677  None   \n",
       "0     baseline-fast  1.133743e-01  0.345853   0.972398  0.786385  None   \n",
       "0  baseline-fast-80  9.469417e-02  0.336560   0.980745  0.797710  None   \n",
       "\n",
       "   n_trees  train_size  dev_size  \n",
       "0       10      389125     12000  \n",
       "0       10       20000     12000  \n",
       "0        1       20000     12000  \n",
       "0        1       20000     12000  \n",
       "0       10       20000     12000  \n",
       "0       80       20000     12000  "
      ]
     },
     "execution_count": 49,
     "metadata": {},
     "output_type": "execute_result"
    }
   ],
   "source": [
    "results = pd.concat([tmp, results])\n",
    "results[::-1]"
   ]
  },
  {
   "cell_type": "code",
   "execution_count": 50,
   "metadata": {},
   "outputs": [
    {
     "data": {
      "image/png": "[encoded data removed]",
      "text/plain": [
       "<Figure size 576x1296 with 4 Axes>"
      ]
     },
     "metadata": {
      "needs_background": "light"
     },
     "output_type": "display_data"
    }
   ],
   "source": [
    "cols = results.columns[:5]\n",
    "results[cols].plot.barh(\n",
    "    x='config',\n",
    "    subplots=True,\n",
    "    # rot=45,\n",
    "    ylim=(0,1),\n",
    "    # title=['']*4,\n",
    "    legend=False,\n",
    "    figsize=(8,3*results.shape[0])\n",
    ");"
   ]
  },
  {
   "cell_type": "markdown",
   "metadata": {},
   "source": [
    "### Out-of-bag (OOB) score"
   ]
  },
  {
   "cell_type": "markdown",
   "metadata": {},
   "source": [
    "Is our validation set worse than our training set because we're over-fitting, or because the validation set is for a different time period, or a bit of both? With the existing information we've shown, we can't tell. However, random forests have a very clever trick called *out-of-bag (OOB) error* which can handle this (and more!)\n",
    "\n",
    "The idea is to calculate error on the training set, but only include the trees in the calculation of a row's error where that row was *not* included in training that tree. This allows us to see whether the model is over-fitting, without needing a separate validation set.\n",
    "\n",
    "This also has the benefit of allowing us to see whether our model generalizes, even if we only have a small amount of data so want to avoid separating some out to create a validation set.\n",
    "\n",
    "This is as simple as adding one more parameter to our model constructor. We print the OOB error last in our `print_score` function below."
   ]
  },
  {
   "cell_type": "code",
   "execution_count": 51,
   "metadata": {},
   "outputs": [
    {
     "data": {
      "text/plain": [
       "RandomForestRegressor(bootstrap=True, criterion='mse', max_depth=None,\n",
       "                      max_features='auto', max_leaf_nodes=None,\n",
       "                      min_impurity_decrease=0.0, min_impurity_split=None,\n",
       "                      min_samples_leaf=1, min_samples_split=2,\n",
       "                      min_weight_fraction_leaf=0.0, n_estimators=40, n_jobs=-1,\n",
       "                      oob_score=True, random_state=None, verbose=0,\n",
       "                      warm_start=False)"
      ]
     },
     "execution_count": 51,
     "metadata": {},
     "output_type": "execute_result"
    }
   ],
   "source": [
    "m = RandomForestRegressor(n_estimators=40, n_jobs=-1, oob_score=True)\n",
    "m.fit(X_train, y_train)"
   ]
  },
  {
   "cell_type": "code",
   "execution_count": 52,
   "metadata": {},
   "outputs": [
    {
     "data": {
      "text/html": [
       "<div>\n",
       "<style scoped>\n",
       "    .dataframe tbody tr th:only-of-type {\n",
       "        vertical-align: middle;\n",
       "    }\n",
       "\n",
       "    .dataframe tbody tr th {\n",
       "        vertical-align: top;\n",
       "    }\n",
       "\n",
       "    .dataframe thead th {\n",
       "        text-align: right;\n",
       "    }\n",
       "</style>\n",
       "<table border=\"1\" class=\"dataframe\">\n",
       "  <thead>\n",
       "    <tr style=\"text-align: right;\">\n",
       "      <th></th>\n",
       "      <th>config</th>\n",
       "      <th>rmse_train</th>\n",
       "      <th>rmse_dev</th>\n",
       "      <th>r^2_train</th>\n",
       "      <th>r^2_dev</th>\n",
       "      <th>oob</th>\n",
       "      <th>n_trees</th>\n",
       "      <th>train_size</th>\n",
       "      <th>dev_size</th>\n",
       "    </tr>\n",
       "  </thead>\n",
       "  <tbody>\n",
       "    <tr>\n",
       "      <td>0</td>\n",
       "      <td>baseline-fast-40-oob</td>\n",
       "      <td>0.097967</td>\n",
       "      <td>0.341377</td>\n",
       "      <td>0.979391</td>\n",
       "      <td>0.791879</td>\n",
       "      <td>0.852806</td>\n",
       "      <td>40</td>\n",
       "      <td>20000</td>\n",
       "      <td>12000</td>\n",
       "    </tr>\n",
       "  </tbody>\n",
       "</table>\n",
       "</div>"
      ],
      "text/plain": [
       "                 config  rmse_train  rmse_dev  r^2_train   r^2_dev       oob  \\\n",
       "0  baseline-fast-40-oob    0.097967  0.341377   0.979391  0.791879  0.852806   \n",
       "\n",
       "   n_trees  train_size  dev_size  \n",
       "0       40       20000     12000  "
      ]
     },
     "execution_count": 52,
     "metadata": {},
     "output_type": "execute_result"
    }
   ],
   "source": [
    "tmp = get_scores(m, \"baseline-fast-40-oob\")\n",
    "tmp"
   ]
  },
  {
   "cell_type": "code",
   "execution_count": 53,
   "metadata": {},
   "outputs": [
    {
     "data": {
      "text/html": [
       "<div>\n",
       "<style scoped>\n",
       "    .dataframe tbody tr th:only-of-type {\n",
       "        vertical-align: middle;\n",
       "    }\n",
       "\n",
       "    .dataframe tbody tr th {\n",
       "        vertical-align: top;\n",
       "    }\n",
       "\n",
       "    .dataframe thead th {\n",
       "        text-align: right;\n",
       "    }\n",
       "</style>\n",
       "<table border=\"1\" class=\"dataframe\">\n",
       "  <thead>\n",
       "    <tr style=\"text-align: right;\">\n",
       "      <th></th>\n",
       "      <th>config</th>\n",
       "      <th>rmse_train</th>\n",
       "      <th>rmse_dev</th>\n",
       "      <th>r^2_train</th>\n",
       "      <th>r^2_dev</th>\n",
       "      <th>oob</th>\n",
       "      <th>n_trees</th>\n",
       "      <th>train_size</th>\n",
       "      <th>dev_size</th>\n",
       "    </tr>\n",
       "  </thead>\n",
       "  <tbody>\n",
       "    <tr>\n",
       "      <td>0</td>\n",
       "      <td>baseline-slow</td>\n",
       "      <td>9.048555e-02</td>\n",
       "      <td>0.251034</td>\n",
       "      <td>0.982888</td>\n",
       "      <td>0.887459</td>\n",
       "      <td>None</td>\n",
       "      <td>10</td>\n",
       "      <td>389125</td>\n",
       "      <td>12000</td>\n",
       "    </tr>\n",
       "    <tr>\n",
       "      <td>0</td>\n",
       "      <td>speedup</td>\n",
       "      <td>1.126264e-01</td>\n",
       "      <td>0.349117</td>\n",
       "      <td>0.972761</td>\n",
       "      <td>0.782334</td>\n",
       "      <td>None</td>\n",
       "      <td>10</td>\n",
       "      <td>20000</td>\n",
       "      <td>12000</td>\n",
       "    </tr>\n",
       "    <tr>\n",
       "      <td>0</td>\n",
       "      <td>single tree</td>\n",
       "      <td>5.224254e-01</td>\n",
       "      <td>0.583432</td>\n",
       "      <td>0.413925</td>\n",
       "      <td>0.392105</td>\n",
       "      <td>None</td>\n",
       "      <td>1</td>\n",
       "      <td>20000</td>\n",
       "      <td>12000</td>\n",
       "    </tr>\n",
       "    <tr>\n",
       "      <td>0</td>\n",
       "      <td>single deep tree</td>\n",
       "      <td>7.215596e-17</td>\n",
       "      <td>0.469300</td>\n",
       "      <td>1.000000</td>\n",
       "      <td>0.606677</td>\n",
       "      <td>None</td>\n",
       "      <td>1</td>\n",
       "      <td>20000</td>\n",
       "      <td>12000</td>\n",
       "    </tr>\n",
       "    <tr>\n",
       "      <td>0</td>\n",
       "      <td>baseline-fast</td>\n",
       "      <td>1.133743e-01</td>\n",
       "      <td>0.345853</td>\n",
       "      <td>0.972398</td>\n",
       "      <td>0.786385</td>\n",
       "      <td>None</td>\n",
       "      <td>10</td>\n",
       "      <td>20000</td>\n",
       "      <td>12000</td>\n",
       "    </tr>\n",
       "    <tr>\n",
       "      <td>0</td>\n",
       "      <td>baseline-fast-80</td>\n",
       "      <td>9.469417e-02</td>\n",
       "      <td>0.336560</td>\n",
       "      <td>0.980745</td>\n",
       "      <td>0.797710</td>\n",
       "      <td>None</td>\n",
       "      <td>80</td>\n",
       "      <td>20000</td>\n",
       "      <td>12000</td>\n",
       "    </tr>\n",
       "    <tr>\n",
       "      <td>0</td>\n",
       "      <td>baseline-fast-40-oob</td>\n",
       "      <td>9.796651e-02</td>\n",
       "      <td>0.341377</td>\n",
       "      <td>0.979391</td>\n",
       "      <td>0.791879</td>\n",
       "      <td>0.852806</td>\n",
       "      <td>40</td>\n",
       "      <td>20000</td>\n",
       "      <td>12000</td>\n",
       "    </tr>\n",
       "  </tbody>\n",
       "</table>\n",
       "</div>"
      ],
      "text/plain": [
       "                 config    rmse_train  rmse_dev  r^2_train   r^2_dev  \\\n",
       "0         baseline-slow  9.048555e-02  0.251034   0.982888  0.887459   \n",
       "0               speedup  1.126264e-01  0.349117   0.972761  0.782334   \n",
       "0           single tree  5.224254e-01  0.583432   0.413925  0.392105   \n",
       "0      single deep tree  7.215596e-17  0.469300   1.000000  0.606677   \n",
       "0         baseline-fast  1.133743e-01  0.345853   0.972398  0.786385   \n",
       "0      baseline-fast-80  9.469417e-02  0.336560   0.980745  0.797710   \n",
       "0  baseline-fast-40-oob  9.796651e-02  0.341377   0.979391  0.791879   \n",
       "\n",
       "        oob  n_trees  train_size  dev_size  \n",
       "0      None       10      389125     12000  \n",
       "0      None       10       20000     12000  \n",
       "0      None        1       20000     12000  \n",
       "0      None        1       20000     12000  \n",
       "0      None       10       20000     12000  \n",
       "0      None       80       20000     12000  \n",
       "0  0.852806       40       20000     12000  "
      ]
     },
     "execution_count": 53,
     "metadata": {},
     "output_type": "execute_result"
    }
   ],
   "source": [
    "results = pd.concat([tmp, results])\n",
    "results[::-1]"
   ]
  },
  {
   "cell_type": "markdown",
   "metadata": {},
   "source": [
    "This shows that our validation set time difference is making an impact, as is model over-fitting."
   ]
  },
  {
   "cell_type": "markdown",
   "metadata": {},
   "source": [
    "## Reducing over-fitting"
   ]
  },
  {
   "cell_type": "markdown",
   "metadata": {},
   "source": [
    "### Subsampling"
   ]
  },
  {
   "cell_type": "markdown",
   "metadata": {},
   "source": [
    "It turns out that one of the easiest ways to avoid over-fitting is also one of the best ways to speed up analysis: *subsampling*. Let's return to using our full dataset, so that we can demonstrate the impact of this technique."
   ]
  },
  {
   "cell_type": "code",
   "execution_count": 54,
   "metadata": {},
   "outputs": [],
   "source": [
    "df_trn, y_trn, nas = proc_df(df_raw, 'SalePrice')\n",
    "X_train, X_valid = split_vals(df_trn, n_trn)\n",
    "y_train, y_valid = split_vals(y_trn, n_trn)"
   ]
  },
  {
   "cell_type": "markdown",
   "metadata": {},
   "source": [
    "The basic idea is this: rather than limit the total amount of data that our model can access, let's instead limit it to a *different* random subset per tree. That way, given enough trees, the model can still see *all* the data, but for each individual tree it'll be just as fast as if we had cut down our dataset as before."
   ]
  },
  {
   "cell_type": "code",
   "execution_count": 55,
   "metadata": {},
   "outputs": [],
   "source": [
    "set_rf_samples(20000)"
   ]
  },
  {
   "cell_type": "code",
   "execution_count": 56,
   "metadata": {},
   "outputs": [
    {
     "name": "stdout",
     "output_type": "stream",
     "text": [
      "CPU times: user 8.43 s, sys: 348 ms, total: 8.78 s\n",
      "Wall time: 2.95 s\n"
     ]
    },
    {
     "data": {
      "text/plain": [
       "RandomForestRegressor(bootstrap=True, criterion='mse', max_depth=None,\n",
       "                      max_features='auto', max_leaf_nodes=None,\n",
       "                      min_impurity_decrease=0.0, min_impurity_split=None,\n",
       "                      min_samples_leaf=1, min_samples_split=2,\n",
       "                      min_weight_fraction_leaf=0.0, n_estimators=10, n_jobs=-1,\n",
       "                      oob_score=True, random_state=None, verbose=0,\n",
       "                      warm_start=False)"
      ]
     },
     "execution_count": 56,
     "metadata": {},
     "output_type": "execute_result"
    }
   ],
   "source": [
    "m = RandomForestRegressor(n_estimators=10, n_jobs=-1, oob_score=True)\n",
    "%time m.fit(X_train, y_train)"
   ]
  },
  {
   "cell_type": "code",
   "execution_count": 57,
   "metadata": {},
   "outputs": [
    {
     "data": {
      "text/html": [
       "<div>\n",
       "<style scoped>\n",
       "    .dataframe tbody tr th:only-of-type {\n",
       "        vertical-align: middle;\n",
       "    }\n",
       "\n",
       "    .dataframe tbody tr th {\n",
       "        vertical-align: top;\n",
       "    }\n",
       "\n",
       "    .dataframe thead th {\n",
       "        text-align: right;\n",
       "    }\n",
       "</style>\n",
       "<table border=\"1\" class=\"dataframe\">\n",
       "  <thead>\n",
       "    <tr style=\"text-align: right;\">\n",
       "      <th></th>\n",
       "      <th>config</th>\n",
       "      <th>rmse_train</th>\n",
       "      <th>rmse_dev</th>\n",
       "      <th>r^2_train</th>\n",
       "      <th>r^2_dev</th>\n",
       "      <th>oob</th>\n",
       "      <th>n_trees</th>\n",
       "      <th>train_size</th>\n",
       "      <th>dev_size</th>\n",
       "    </tr>\n",
       "  </thead>\n",
       "  <tbody>\n",
       "    <tr>\n",
       "      <td>0</td>\n",
       "      <td>baseline-subsample-10</td>\n",
       "      <td>0.240923</td>\n",
       "      <td>0.28264</td>\n",
       "      <td>0.878692</td>\n",
       "      <td>0.857335</td>\n",
       "      <td>0.866089</td>\n",
       "      <td>10</td>\n",
       "      <td>389125</td>\n",
       "      <td>12000</td>\n",
       "    </tr>\n",
       "  </tbody>\n",
       "</table>\n",
       "</div>"
      ],
      "text/plain": [
       "                  config  rmse_train  rmse_dev  r^2_train   r^2_dev       oob  \\\n",
       "0  baseline-subsample-10    0.240923   0.28264   0.878692  0.857335  0.866089   \n",
       "\n",
       "   n_trees  train_size  dev_size  \n",
       "0       10      389125     12000  "
      ]
     },
     "execution_count": 57,
     "metadata": {},
     "output_type": "execute_result"
    }
   ],
   "source": [
    "tmp = get_scores(m, \"baseline-subsample-10\")\n",
    "tmp"
   ]
  },
  {
   "cell_type": "code",
   "execution_count": 58,
   "metadata": {},
   "outputs": [
    {
     "data": {
      "text/html": [
       "<div>\n",
       "<style scoped>\n",
       "    .dataframe tbody tr th:only-of-type {\n",
       "        vertical-align: middle;\n",
       "    }\n",
       "\n",
       "    .dataframe tbody tr th {\n",
       "        vertical-align: top;\n",
       "    }\n",
       "\n",
       "    .dataframe thead th {\n",
       "        text-align: right;\n",
       "    }\n",
       "</style>\n",
       "<table border=\"1\" class=\"dataframe\">\n",
       "  <thead>\n",
       "    <tr style=\"text-align: right;\">\n",
       "      <th></th>\n",
       "      <th>config</th>\n",
       "      <th>rmse_train</th>\n",
       "      <th>rmse_dev</th>\n",
       "      <th>r^2_train</th>\n",
       "      <th>r^2_dev</th>\n",
       "      <th>oob</th>\n",
       "      <th>n_trees</th>\n",
       "      <th>train_size</th>\n",
       "      <th>dev_size</th>\n",
       "    </tr>\n",
       "  </thead>\n",
       "  <tbody>\n",
       "    <tr>\n",
       "      <td>0</td>\n",
       "      <td>baseline-slow</td>\n",
       "      <td>9.048555e-02</td>\n",
       "      <td>0.251034</td>\n",
       "      <td>0.982888</td>\n",
       "      <td>0.887459</td>\n",
       "      <td>None</td>\n",
       "      <td>10</td>\n",
       "      <td>389125</td>\n",
       "      <td>12000</td>\n",
       "    </tr>\n",
       "    <tr>\n",
       "      <td>0</td>\n",
       "      <td>speedup</td>\n",
       "      <td>1.126264e-01</td>\n",
       "      <td>0.349117</td>\n",
       "      <td>0.972761</td>\n",
       "      <td>0.782334</td>\n",
       "      <td>None</td>\n",
       "      <td>10</td>\n",
       "      <td>20000</td>\n",
       "      <td>12000</td>\n",
       "    </tr>\n",
       "    <tr>\n",
       "      <td>0</td>\n",
       "      <td>single tree</td>\n",
       "      <td>5.224254e-01</td>\n",
       "      <td>0.583432</td>\n",
       "      <td>0.413925</td>\n",
       "      <td>0.392105</td>\n",
       "      <td>None</td>\n",
       "      <td>1</td>\n",
       "      <td>20000</td>\n",
       "      <td>12000</td>\n",
       "    </tr>\n",
       "    <tr>\n",
       "      <td>0</td>\n",
       "      <td>single deep tree</td>\n",
       "      <td>7.215596e-17</td>\n",
       "      <td>0.469300</td>\n",
       "      <td>1.000000</td>\n",
       "      <td>0.606677</td>\n",
       "      <td>None</td>\n",
       "      <td>1</td>\n",
       "      <td>20000</td>\n",
       "      <td>12000</td>\n",
       "    </tr>\n",
       "    <tr>\n",
       "      <td>0</td>\n",
       "      <td>baseline-fast</td>\n",
       "      <td>1.133743e-01</td>\n",
       "      <td>0.345853</td>\n",
       "      <td>0.972398</td>\n",
       "      <td>0.786385</td>\n",
       "      <td>None</td>\n",
       "      <td>10</td>\n",
       "      <td>20000</td>\n",
       "      <td>12000</td>\n",
       "    </tr>\n",
       "    <tr>\n",
       "      <td>0</td>\n",
       "      <td>baseline-fast-80</td>\n",
       "      <td>9.469417e-02</td>\n",
       "      <td>0.336560</td>\n",
       "      <td>0.980745</td>\n",
       "      <td>0.797710</td>\n",
       "      <td>None</td>\n",
       "      <td>80</td>\n",
       "      <td>20000</td>\n",
       "      <td>12000</td>\n",
       "    </tr>\n",
       "    <tr>\n",
       "      <td>0</td>\n",
       "      <td>baseline-fast-40-oob</td>\n",
       "      <td>9.796651e-02</td>\n",
       "      <td>0.341377</td>\n",
       "      <td>0.979391</td>\n",
       "      <td>0.791879</td>\n",
       "      <td>0.852806</td>\n",
       "      <td>40</td>\n",
       "      <td>20000</td>\n",
       "      <td>12000</td>\n",
       "    </tr>\n",
       "    <tr>\n",
       "      <td>0</td>\n",
       "      <td>baseline-subsample-10</td>\n",
       "      <td>2.409226e-01</td>\n",
       "      <td>0.282640</td>\n",
       "      <td>0.878692</td>\n",
       "      <td>0.857335</td>\n",
       "      <td>0.866089</td>\n",
       "      <td>10</td>\n",
       "      <td>389125</td>\n",
       "      <td>12000</td>\n",
       "    </tr>\n",
       "  </tbody>\n",
       "</table>\n",
       "</div>"
      ],
      "text/plain": [
       "                  config    rmse_train  rmse_dev  r^2_train   r^2_dev  \\\n",
       "0          baseline-slow  9.048555e-02  0.251034   0.982888  0.887459   \n",
       "0                speedup  1.126264e-01  0.349117   0.972761  0.782334   \n",
       "0            single tree  5.224254e-01  0.583432   0.413925  0.392105   \n",
       "0       single deep tree  7.215596e-17  0.469300   1.000000  0.606677   \n",
       "0          baseline-fast  1.133743e-01  0.345853   0.972398  0.786385   \n",
       "0       baseline-fast-80  9.469417e-02  0.336560   0.980745  0.797710   \n",
       "0   baseline-fast-40-oob  9.796651e-02  0.341377   0.979391  0.791879   \n",
       "0  baseline-subsample-10  2.409226e-01  0.282640   0.878692  0.857335   \n",
       "\n",
       "        oob  n_trees  train_size  dev_size  \n",
       "0      None       10      389125     12000  \n",
       "0      None       10       20000     12000  \n",
       "0      None        1       20000     12000  \n",
       "0      None        1       20000     12000  \n",
       "0      None       10       20000     12000  \n",
       "0      None       80       20000     12000  \n",
       "0  0.852806       40       20000     12000  \n",
       "0  0.866089       10      389125     12000  "
      ]
     },
     "execution_count": 58,
     "metadata": {},
     "output_type": "execute_result"
    }
   ],
   "source": [
    "results = pd.concat([tmp, results])\n",
    "results[::-1]"
   ]
  },
  {
   "cell_type": "code",
   "execution_count": 59,
   "metadata": {},
   "outputs": [
    {
     "data": {
      "image/png": "[encoded data removed]",
      "text/plain": [
       "<Figure size 576x1728 with 4 Axes>"
      ]
     },
     "metadata": {
      "needs_background": "light"
     },
     "output_type": "display_data"
    }
   ],
   "source": [
    "cols = results.columns[:5]\n",
    "results[cols].plot.barh(\n",
    "    x='config',\n",
    "    subplots=True,\n",
    "    # rot=45,\n",
    "    ylim=(0,1),\n",
    "    # title=['']*4,\n",
    "    legend=False,\n",
    "    figsize=(8,3*results.shape[0])\n",
    ");"
   ]
  },
  {
   "cell_type": "markdown",
   "metadata": {},
   "source": [
    "Since each additional tree allows the model to see more data, this approach can make additional trees more useful."
   ]
  },
  {
   "cell_type": "code",
   "execution_count": 60,
   "metadata": {},
   "outputs": [
    {
     "data": {
      "text/plain": [
       "RandomForestRegressor(bootstrap=True, criterion='mse', max_depth=None,\n",
       "                      max_features='auto', max_leaf_nodes=None,\n",
       "                      min_impurity_decrease=0.0, min_impurity_split=None,\n",
       "                      min_samples_leaf=1, min_samples_split=2,\n",
       "                      min_weight_fraction_leaf=0.0, n_estimators=40, n_jobs=-1,\n",
       "                      oob_score=True, random_state=None, verbose=0,\n",
       "                      warm_start=False)"
      ]
     },
     "execution_count": 60,
     "metadata": {},
     "output_type": "execute_result"
    }
   ],
   "source": [
    "m = RandomForestRegressor(n_estimators=40, n_jobs=-1, oob_score=True)\n",
    "m.fit(X_train, y_train)"
   ]
  },
  {
   "cell_type": "code",
   "execution_count": 61,
   "metadata": {},
   "outputs": [
    {
     "data": {
      "text/html": [
       "<div>\n",
       "<style scoped>\n",
       "    .dataframe tbody tr th:only-of-type {\n",
       "        vertical-align: middle;\n",
       "    }\n",
       "\n",
       "    .dataframe tbody tr th {\n",
       "        vertical-align: top;\n",
       "    }\n",
       "\n",
       "    .dataframe thead th {\n",
       "        text-align: right;\n",
       "    }\n",
       "</style>\n",
       "<table border=\"1\" class=\"dataframe\">\n",
       "  <thead>\n",
       "    <tr style=\"text-align: right;\">\n",
       "      <th></th>\n",
       "      <th>config</th>\n",
       "      <th>rmse_train</th>\n",
       "      <th>rmse_dev</th>\n",
       "      <th>r^2_train</th>\n",
       "      <th>r^2_dev</th>\n",
       "      <th>oob</th>\n",
       "      <th>n_trees</th>\n",
       "      <th>train_size</th>\n",
       "      <th>dev_size</th>\n",
       "    </tr>\n",
       "  </thead>\n",
       "  <tbody>\n",
       "    <tr>\n",
       "      <td>0</td>\n",
       "      <td>baseline-subsample-40</td>\n",
       "      <td>0.227823</td>\n",
       "      <td>0.261694</td>\n",
       "      <td>0.891525</td>\n",
       "      <td>0.877697</td>\n",
       "      <td>0.879926</td>\n",
       "      <td>40</td>\n",
       "      <td>389125</td>\n",
       "      <td>12000</td>\n",
       "    </tr>\n",
       "  </tbody>\n",
       "</table>\n",
       "</div>"
      ],
      "text/plain": [
       "                  config  rmse_train  rmse_dev  r^2_train   r^2_dev       oob  \\\n",
       "0  baseline-subsample-40    0.227823  0.261694   0.891525  0.877697  0.879926   \n",
       "\n",
       "   n_trees  train_size  dev_size  \n",
       "0       40      389125     12000  "
      ]
     },
     "execution_count": 61,
     "metadata": {},
     "output_type": "execute_result"
    }
   ],
   "source": [
    "tmp = get_scores(m, \"baseline-subsample-40\")\n",
    "tmp"
   ]
  },
  {
   "cell_type": "code",
   "execution_count": 62,
   "metadata": {},
   "outputs": [
    {
     "data": {
      "text/html": [
       "<div>\n",
       "<style scoped>\n",
       "    .dataframe tbody tr th:only-of-type {\n",
       "        vertical-align: middle;\n",
       "    }\n",
       "\n",
       "    .dataframe tbody tr th {\n",
       "        vertical-align: top;\n",
       "    }\n",
       "\n",
       "    .dataframe thead th {\n",
       "        text-align: right;\n",
       "    }\n",
       "</style>\n",
       "<table border=\"1\" class=\"dataframe\">\n",
       "  <thead>\n",
       "    <tr style=\"text-align: right;\">\n",
       "      <th></th>\n",
       "      <th>config</th>\n",
       "      <th>rmse_train</th>\n",
       "      <th>rmse_dev</th>\n",
       "      <th>r^2_train</th>\n",
       "      <th>r^2_dev</th>\n",
       "      <th>oob</th>\n",
       "      <th>n_trees</th>\n",
       "      <th>train_size</th>\n",
       "      <th>dev_size</th>\n",
       "    </tr>\n",
       "  </thead>\n",
       "  <tbody>\n",
       "    <tr>\n",
       "      <td>0</td>\n",
       "      <td>baseline-slow</td>\n",
       "      <td>9.048555e-02</td>\n",
       "      <td>0.251034</td>\n",
       "      <td>0.982888</td>\n",
       "      <td>0.887459</td>\n",
       "      <td>None</td>\n",
       "      <td>10</td>\n",
       "      <td>389125</td>\n",
       "      <td>12000</td>\n",
       "    </tr>\n",
       "    <tr>\n",
       "      <td>0</td>\n",
       "      <td>speedup</td>\n",
       "      <td>1.126264e-01</td>\n",
       "      <td>0.349117</td>\n",
       "      <td>0.972761</td>\n",
       "      <td>0.782334</td>\n",
       "      <td>None</td>\n",
       "      <td>10</td>\n",
       "      <td>20000</td>\n",
       "      <td>12000</td>\n",
       "    </tr>\n",
       "    <tr>\n",
       "      <td>0</td>\n",
       "      <td>single tree</td>\n",
       "      <td>5.224254e-01</td>\n",
       "      <td>0.583432</td>\n",
       "      <td>0.413925</td>\n",
       "      <td>0.392105</td>\n",
       "      <td>None</td>\n",
       "      <td>1</td>\n",
       "      <td>20000</td>\n",
       "      <td>12000</td>\n",
       "    </tr>\n",
       "    <tr>\n",
       "      <td>0</td>\n",
       "      <td>single deep tree</td>\n",
       "      <td>7.215596e-17</td>\n",
       "      <td>0.469300</td>\n",
       "      <td>1.000000</td>\n",
       "      <td>0.606677</td>\n",
       "      <td>None</td>\n",
       "      <td>1</td>\n",
       "      <td>20000</td>\n",
       "      <td>12000</td>\n",
       "    </tr>\n",
       "    <tr>\n",
       "      <td>0</td>\n",
       "      <td>baseline-fast</td>\n",
       "      <td>1.133743e-01</td>\n",
       "      <td>0.345853</td>\n",
       "      <td>0.972398</td>\n",
       "      <td>0.786385</td>\n",
       "      <td>None</td>\n",
       "      <td>10</td>\n",
       "      <td>20000</td>\n",
       "      <td>12000</td>\n",
       "    </tr>\n",
       "    <tr>\n",
       "      <td>0</td>\n",
       "      <td>baseline-fast-80</td>\n",
       "      <td>9.469417e-02</td>\n",
       "      <td>0.336560</td>\n",
       "      <td>0.980745</td>\n",
       "      <td>0.797710</td>\n",
       "      <td>None</td>\n",
       "      <td>80</td>\n",
       "      <td>20000</td>\n",
       "      <td>12000</td>\n",
       "    </tr>\n",
       "    <tr>\n",
       "      <td>0</td>\n",
       "      <td>baseline-fast-40-oob</td>\n",
       "      <td>9.796651e-02</td>\n",
       "      <td>0.341377</td>\n",
       "      <td>0.979391</td>\n",
       "      <td>0.791879</td>\n",
       "      <td>0.852806</td>\n",
       "      <td>40</td>\n",
       "      <td>20000</td>\n",
       "      <td>12000</td>\n",
       "    </tr>\n",
       "    <tr>\n",
       "      <td>0</td>\n",
       "      <td>baseline-subsample-10</td>\n",
       "      <td>2.409226e-01</td>\n",
       "      <td>0.282640</td>\n",
       "      <td>0.878692</td>\n",
       "      <td>0.857335</td>\n",
       "      <td>0.866089</td>\n",
       "      <td>10</td>\n",
       "      <td>389125</td>\n",
       "      <td>12000</td>\n",
       "    </tr>\n",
       "    <tr>\n",
       "      <td>0</td>\n",
       "      <td>baseline-subsample-40</td>\n",
       "      <td>2.278227e-01</td>\n",
       "      <td>0.261694</td>\n",
       "      <td>0.891525</td>\n",
       "      <td>0.877697</td>\n",
       "      <td>0.879926</td>\n",
       "      <td>40</td>\n",
       "      <td>389125</td>\n",
       "      <td>12000</td>\n",
       "    </tr>\n",
       "  </tbody>\n",
       "</table>\n",
       "</div>"
      ],
      "text/plain": [
       "                  config    rmse_train  rmse_dev  r^2_train   r^2_dev  \\\n",
       "0          baseline-slow  9.048555e-02  0.251034   0.982888  0.887459   \n",
       "0                speedup  1.126264e-01  0.349117   0.972761  0.782334   \n",
       "0            single tree  5.224254e-01  0.583432   0.413925  0.392105   \n",
       "0       single deep tree  7.215596e-17  0.469300   1.000000  0.606677   \n",
       "0          baseline-fast  1.133743e-01  0.345853   0.972398  0.786385   \n",
       "0       baseline-fast-80  9.469417e-02  0.336560   0.980745  0.797710   \n",
       "0   baseline-fast-40-oob  9.796651e-02  0.341377   0.979391  0.791879   \n",
       "0  baseline-subsample-10  2.409226e-01  0.282640   0.878692  0.857335   \n",
       "0  baseline-subsample-40  2.278227e-01  0.261694   0.891525  0.877697   \n",
       "\n",
       "        oob  n_trees  train_size  dev_size  \n",
       "0      None       10      389125     12000  \n",
       "0      None       10       20000     12000  \n",
       "0      None        1       20000     12000  \n",
       "0      None        1       20000     12000  \n",
       "0      None       10       20000     12000  \n",
       "0      None       80       20000     12000  \n",
       "0  0.852806       40       20000     12000  \n",
       "0  0.866089       10      389125     12000  \n",
       "0  0.879926       40      389125     12000  "
      ]
     },
     "execution_count": 62,
     "metadata": {},
     "output_type": "execute_result"
    }
   ],
   "source": [
    "results = pd.concat([tmp, results])\n",
    "results[::-1]"
   ]
  },
  {
   "cell_type": "code",
   "execution_count": 63,
   "metadata": {},
   "outputs": [
    {
     "data": {
      "image/png": "[encoded data removed]",
      "text/plain": [
       "<Figure size 576x1944 with 5 Axes>"
      ]
     },
     "metadata": {
      "needs_background": "light"
     },
     "output_type": "display_data"
    }
   ],
   "source": [
    "cols = results.columns[:6]\n",
    "results[cols].plot.barh(\n",
    "    x='config',\n",
    "    subplots=True,\n",
    "    # rot=45,\n",
    "    ylim=(0,1),\n",
    "    # title=['']*4,\n",
    "    legend=False,\n",
    "    figsize=(8,3*results.shape[0])\n",
    ");"
   ]
  },
  {
   "cell_type": "markdown",
   "metadata": {},
   "source": [
    "### Tree building parameters"
   ]
  },
  {
   "cell_type": "markdown",
   "metadata": {},
   "source": [
    "We revert to using a full bootstrap sample in order to show the impact of other over-fitting avoidance methods."
   ]
  },
  {
   "cell_type": "code",
   "execution_count": 64,
   "metadata": {},
   "outputs": [],
   "source": [
    "reset_rf_samples()"
   ]
  },
  {
   "cell_type": "markdown",
   "metadata": {},
   "source": [
    "Let's get a baseline for this full set to compare to."
   ]
  },
  {
   "cell_type": "code",
   "execution_count": 65,
   "metadata": {},
   "outputs": [],
   "source": [
    "def dectree_max_depth(tree):\n",
    "    children_left = tree.children_left\n",
    "    children_right = tree.children_right\n",
    "\n",
    "    def walk(node_id):\n",
    "        if (children_left[node_id] != children_right[node_id]):\n",
    "            left_max = 1 + walk(children_left[node_id])\n",
    "            right_max = 1 + walk(children_right[node_id])\n",
    "            return max(left_max, right_max)\n",
    "        else: # leaf\n",
    "            return 1\n",
    "\n",
    "    root_node_id = 0\n",
    "    return walk(root_node_id)"
   ]
  },
  {
   "cell_type": "code",
   "execution_count": 66,
   "metadata": {},
   "outputs": [
    {
     "data": {
      "text/plain": [
       "RandomForestRegressor(bootstrap=True, criterion='mse', max_depth=None,\n",
       "                      max_features='auto', max_leaf_nodes=None,\n",
       "                      min_impurity_decrease=0.0, min_impurity_split=None,\n",
       "                      min_samples_leaf=1, min_samples_split=2,\n",
       "                      min_weight_fraction_leaf=0.0, n_estimators=40, n_jobs=-1,\n",
       "                      oob_score=True, random_state=None, verbose=0,\n",
       "                      warm_start=False)"
      ]
     },
     "execution_count": 66,
     "metadata": {},
     "output_type": "execute_result"
    }
   ],
   "source": [
    "m = RandomForestRegressor(n_estimators=40, n_jobs=-1, oob_score=True)\n",
    "m.fit(X_train, y_train)"
   ]
  },
  {
   "cell_type": "code",
   "execution_count": 67,
   "metadata": {},
   "outputs": [
    {
     "data": {
      "text/html": [
       "<div>\n",
       "<style scoped>\n",
       "    .dataframe tbody tr th:only-of-type {\n",
       "        vertical-align: middle;\n",
       "    }\n",
       "\n",
       "    .dataframe tbody tr th {\n",
       "        vertical-align: top;\n",
       "    }\n",
       "\n",
       "    .dataframe thead th {\n",
       "        text-align: right;\n",
       "    }\n",
       "</style>\n",
       "<table border=\"1\" class=\"dataframe\">\n",
       "  <thead>\n",
       "    <tr style=\"text-align: right;\">\n",
       "      <th></th>\n",
       "      <th>config</th>\n",
       "      <th>rmse_train</th>\n",
       "      <th>rmse_dev</th>\n",
       "      <th>r^2_train</th>\n",
       "      <th>r^2_dev</th>\n",
       "      <th>oob</th>\n",
       "      <th>n_trees</th>\n",
       "      <th>train_size</th>\n",
       "      <th>dev_size</th>\n",
       "    </tr>\n",
       "  </thead>\n",
       "  <tbody>\n",
       "    <tr>\n",
       "      <td>0</td>\n",
       "      <td>baseline-slow</td>\n",
       "      <td>0.078359</td>\n",
       "      <td>0.236651</td>\n",
       "      <td>0.987168</td>\n",
       "      <td>0.899985</td>\n",
       "      <td>0.908498</td>\n",
       "      <td>40</td>\n",
       "      <td>389125</td>\n",
       "      <td>12000</td>\n",
       "    </tr>\n",
       "  </tbody>\n",
       "</table>\n",
       "</div>"
      ],
      "text/plain": [
       "          config  rmse_train  rmse_dev  r^2_train   r^2_dev       oob  \\\n",
       "0  baseline-slow    0.078359  0.236651   0.987168  0.899985  0.908498   \n",
       "\n",
       "   n_trees  train_size  dev_size  \n",
       "0       40      389125     12000  "
      ]
     },
     "execution_count": 67,
     "metadata": {},
     "output_type": "execute_result"
    }
   ],
   "source": [
    "tmp = get_scores(m, 'baseline-slow')\n",
    "tmp"
   ]
  },
  {
   "cell_type": "code",
   "execution_count": 68,
   "metadata": {},
   "outputs": [
    {
     "data": {
      "text/html": [
       "<div>\n",
       "<style scoped>\n",
       "    .dataframe tbody tr th:only-of-type {\n",
       "        vertical-align: middle;\n",
       "    }\n",
       "\n",
       "    .dataframe tbody tr th {\n",
       "        vertical-align: top;\n",
       "    }\n",
       "\n",
       "    .dataframe thead th {\n",
       "        text-align: right;\n",
       "    }\n",
       "</style>\n",
       "<table border=\"1\" class=\"dataframe\">\n",
       "  <thead>\n",
       "    <tr style=\"text-align: right;\">\n",
       "      <th></th>\n",
       "      <th>config</th>\n",
       "      <th>rmse_train</th>\n",
       "      <th>rmse_dev</th>\n",
       "      <th>r^2_train</th>\n",
       "      <th>r^2_dev</th>\n",
       "      <th>oob</th>\n",
       "      <th>n_trees</th>\n",
       "      <th>train_size</th>\n",
       "      <th>dev_size</th>\n",
       "    </tr>\n",
       "  </thead>\n",
       "  <tbody>\n",
       "    <tr>\n",
       "      <td>0</td>\n",
       "      <td>baseline-slow</td>\n",
       "      <td>9.048555e-02</td>\n",
       "      <td>0.251034</td>\n",
       "      <td>0.982888</td>\n",
       "      <td>0.887459</td>\n",
       "      <td>None</td>\n",
       "      <td>10</td>\n",
       "      <td>389125</td>\n",
       "      <td>12000</td>\n",
       "    </tr>\n",
       "    <tr>\n",
       "      <td>0</td>\n",
       "      <td>speedup</td>\n",
       "      <td>1.126264e-01</td>\n",
       "      <td>0.349117</td>\n",
       "      <td>0.972761</td>\n",
       "      <td>0.782334</td>\n",
       "      <td>None</td>\n",
       "      <td>10</td>\n",
       "      <td>20000</td>\n",
       "      <td>12000</td>\n",
       "    </tr>\n",
       "    <tr>\n",
       "      <td>0</td>\n",
       "      <td>single tree</td>\n",
       "      <td>5.224254e-01</td>\n",
       "      <td>0.583432</td>\n",
       "      <td>0.413925</td>\n",
       "      <td>0.392105</td>\n",
       "      <td>None</td>\n",
       "      <td>1</td>\n",
       "      <td>20000</td>\n",
       "      <td>12000</td>\n",
       "    </tr>\n",
       "    <tr>\n",
       "      <td>0</td>\n",
       "      <td>single deep tree</td>\n",
       "      <td>7.215596e-17</td>\n",
       "      <td>0.469300</td>\n",
       "      <td>1.000000</td>\n",
       "      <td>0.606677</td>\n",
       "      <td>None</td>\n",
       "      <td>1</td>\n",
       "      <td>20000</td>\n",
       "      <td>12000</td>\n",
       "    </tr>\n",
       "    <tr>\n",
       "      <td>0</td>\n",
       "      <td>baseline-fast</td>\n",
       "      <td>1.133743e-01</td>\n",
       "      <td>0.345853</td>\n",
       "      <td>0.972398</td>\n",
       "      <td>0.786385</td>\n",
       "      <td>None</td>\n",
       "      <td>10</td>\n",
       "      <td>20000</td>\n",
       "      <td>12000</td>\n",
       "    </tr>\n",
       "    <tr>\n",
       "      <td>0</td>\n",
       "      <td>baseline-fast-80</td>\n",
       "      <td>9.469417e-02</td>\n",
       "      <td>0.336560</td>\n",
       "      <td>0.980745</td>\n",
       "      <td>0.797710</td>\n",
       "      <td>None</td>\n",
       "      <td>80</td>\n",
       "      <td>20000</td>\n",
       "      <td>12000</td>\n",
       "    </tr>\n",
       "    <tr>\n",
       "      <td>0</td>\n",
       "      <td>baseline-fast-40-oob</td>\n",
       "      <td>9.796651e-02</td>\n",
       "      <td>0.341377</td>\n",
       "      <td>0.979391</td>\n",
       "      <td>0.791879</td>\n",
       "      <td>0.852806</td>\n",
       "      <td>40</td>\n",
       "      <td>20000</td>\n",
       "      <td>12000</td>\n",
       "    </tr>\n",
       "    <tr>\n",
       "      <td>0</td>\n",
       "      <td>baseline-subsample-10</td>\n",
       "      <td>2.409226e-01</td>\n",
       "      <td>0.282640</td>\n",
       "      <td>0.878692</td>\n",
       "      <td>0.857335</td>\n",
       "      <td>0.866089</td>\n",
       "      <td>10</td>\n",
       "      <td>389125</td>\n",
       "      <td>12000</td>\n",
       "    </tr>\n",
       "    <tr>\n",
       "      <td>0</td>\n",
       "      <td>baseline-subsample-40</td>\n",
       "      <td>2.278227e-01</td>\n",
       "      <td>0.261694</td>\n",
       "      <td>0.891525</td>\n",
       "      <td>0.877697</td>\n",
       "      <td>0.879926</td>\n",
       "      <td>40</td>\n",
       "      <td>389125</td>\n",
       "      <td>12000</td>\n",
       "    </tr>\n",
       "    <tr>\n",
       "      <td>0</td>\n",
       "      <td>baseline-slow</td>\n",
       "      <td>7.835854e-02</td>\n",
       "      <td>0.236651</td>\n",
       "      <td>0.987168</td>\n",
       "      <td>0.899985</td>\n",
       "      <td>0.908498</td>\n",
       "      <td>40</td>\n",
       "      <td>389125</td>\n",
       "      <td>12000</td>\n",
       "    </tr>\n",
       "  </tbody>\n",
       "</table>\n",
       "</div>"
      ],
      "text/plain": [
       "                  config    rmse_train  rmse_dev  r^2_train   r^2_dev  \\\n",
       "0          baseline-slow  9.048555e-02  0.251034   0.982888  0.887459   \n",
       "0                speedup  1.126264e-01  0.349117   0.972761  0.782334   \n",
       "0            single tree  5.224254e-01  0.583432   0.413925  0.392105   \n",
       "0       single deep tree  7.215596e-17  0.469300   1.000000  0.606677   \n",
       "0          baseline-fast  1.133743e-01  0.345853   0.972398  0.786385   \n",
       "0       baseline-fast-80  9.469417e-02  0.336560   0.980745  0.797710   \n",
       "0   baseline-fast-40-oob  9.796651e-02  0.341377   0.979391  0.791879   \n",
       "0  baseline-subsample-10  2.409226e-01  0.282640   0.878692  0.857335   \n",
       "0  baseline-subsample-40  2.278227e-01  0.261694   0.891525  0.877697   \n",
       "0          baseline-slow  7.835854e-02  0.236651   0.987168  0.899985   \n",
       "\n",
       "        oob  n_trees  train_size  dev_size  \n",
       "0      None       10      389125     12000  \n",
       "0      None       10       20000     12000  \n",
       "0      None        1       20000     12000  \n",
       "0      None        1       20000     12000  \n",
       "0      None       10       20000     12000  \n",
       "0      None       80       20000     12000  \n",
       "0  0.852806       40       20000     12000  \n",
       "0  0.866089       10      389125     12000  \n",
       "0  0.879926       40      389125     12000  \n",
       "0  0.908498       40      389125     12000  "
      ]
     },
     "execution_count": 68,
     "metadata": {},
     "output_type": "execute_result"
    }
   ],
   "source": [
    "results = pd.concat([tmp, results])\n",
    "results[::-1]"
   ]
  },
  {
   "cell_type": "code",
   "execution_count": 69,
   "metadata": {},
   "outputs": [
    {
     "data": {
      "image/png": "[encoded data removed]",
      "text/plain": [
       "<Figure size 576x2160 with 5 Axes>"
      ]
     },
     "metadata": {
      "needs_background": "light"
     },
     "output_type": "display_data"
    }
   ],
   "source": [
    "cols = results.columns[:6]\n",
    "results[cols].plot.barh(\n",
    "    x='config',\n",
    "    subplots=True,\n",
    "    # rot=45,\n",
    "    ylim=(0,1),\n",
    "    # title=['']*4,\n",
    "    legend=False,\n",
    "    figsize=(8,3*results.shape[0])\n",
    ");"
   ]
  },
  {
   "cell_type": "code",
   "execution_count": 70,
   "metadata": {},
   "outputs": [],
   "source": [
    "t=m.estimators_[0].tree_"
   ]
  },
  {
   "cell_type": "code",
   "execution_count": 71,
   "metadata": {},
   "outputs": [
    {
     "data": {
      "text/plain": [
       "47"
      ]
     },
     "execution_count": 71,
     "metadata": {},
     "output_type": "execute_result"
    }
   ],
   "source": [
    "dectree_max_depth(t)"
   ]
  },
  {
   "cell_type": "markdown",
   "metadata": {},
   "source": [
    "Another way to reduce over-fitting is to grow our trees less deeply. We do this by specifying (with `min_samples_leaf`) that we require some minimum number of rows in every leaf node. This has two benefits:\n",
    "\n",
    "- There are less decision rules for each leaf node; simpler models should generalize better\n",
    "- The predictions are made by averaging more rows in the leaf node, resulting in less volatility"
   ]
  },
  {
   "cell_type": "code",
   "execution_count": 72,
   "metadata": {},
   "outputs": [
    {
     "data": {
      "text/plain": [
       "RandomForestRegressor(bootstrap=True, criterion='mse', max_depth=None,\n",
       "                      max_features='auto', max_leaf_nodes=None,\n",
       "                      min_impurity_decrease=0.0, min_impurity_split=None,\n",
       "                      min_samples_leaf=5, min_samples_split=2,\n",
       "                      min_weight_fraction_leaf=0.0, n_estimators=40, n_jobs=-1,\n",
       "                      oob_score=True, random_state=None, verbose=0,\n",
       "                      warm_start=False)"
      ]
     },
     "execution_count": 72,
     "metadata": {},
     "output_type": "execute_result"
    }
   ],
   "source": [
    "m = RandomForestRegressor(n_estimators=40, min_samples_leaf=5, n_jobs=-1, oob_score=True)\n",
    "m.fit(X_train, y_train)"
   ]
  },
  {
   "cell_type": "code",
   "execution_count": 73,
   "metadata": {},
   "outputs": [
    {
     "data": {
      "text/html": [
       "<div>\n",
       "<style scoped>\n",
       "    .dataframe tbody tr th:only-of-type {\n",
       "        vertical-align: middle;\n",
       "    }\n",
       "\n",
       "    .dataframe tbody tr th {\n",
       "        vertical-align: top;\n",
       "    }\n",
       "\n",
       "    .dataframe thead th {\n",
       "        text-align: right;\n",
       "    }\n",
       "</style>\n",
       "<table border=\"1\" class=\"dataframe\">\n",
       "  <thead>\n",
       "    <tr style=\"text-align: right;\">\n",
       "      <th></th>\n",
       "      <th>config</th>\n",
       "      <th>rmse_train</th>\n",
       "      <th>rmse_dev</th>\n",
       "      <th>r^2_train</th>\n",
       "      <th>r^2_dev</th>\n",
       "      <th>oob</th>\n",
       "      <th>n_trees</th>\n",
       "      <th>train_size</th>\n",
       "      <th>dev_size</th>\n",
       "    </tr>\n",
       "  </thead>\n",
       "  <tbody>\n",
       "    <tr>\n",
       "      <td>0</td>\n",
       "      <td>baseline-slow-tuning</td>\n",
       "      <td>0.140895</td>\n",
       "      <td>0.234351</td>\n",
       "      <td>0.958512</td>\n",
       "      <td>0.90192</td>\n",
       "      <td>0.906674</td>\n",
       "      <td>40</td>\n",
       "      <td>389125</td>\n",
       "      <td>12000</td>\n",
       "    </tr>\n",
       "  </tbody>\n",
       "</table>\n",
       "</div>"
      ],
      "text/plain": [
       "                 config  rmse_train  rmse_dev  r^2_train  r^2_dev       oob  \\\n",
       "0  baseline-slow-tuning    0.140895  0.234351   0.958512  0.90192  0.906674   \n",
       "\n",
       "   n_trees  train_size  dev_size  \n",
       "0       40      389125     12000  "
      ]
     },
     "execution_count": 73,
     "metadata": {},
     "output_type": "execute_result"
    }
   ],
   "source": [
    "tmp = get_scores(m, 'baseline-slow-tuning')\n",
    "tmp"
   ]
  },
  {
   "cell_type": "code",
   "execution_count": 74,
   "metadata": {},
   "outputs": [],
   "source": [
    "t=m.estimators_[0].tree_"
   ]
  },
  {
   "cell_type": "code",
   "execution_count": 75,
   "metadata": {},
   "outputs": [
    {
     "data": {
      "text/plain": [
       "40"
      ]
     },
     "execution_count": 75,
     "metadata": {},
     "output_type": "execute_result"
    }
   ],
   "source": [
    "dectree_max_depth(t)"
   ]
  },
  {
   "cell_type": "code",
   "execution_count": 76,
   "metadata": {},
   "outputs": [
    {
     "data": {
      "text/plain": [
       "RandomForestRegressor(bootstrap=True, criterion='mse', max_depth=None,\n",
       "                      max_features='auto', max_leaf_nodes=None,\n",
       "                      min_impurity_decrease=0.0, min_impurity_split=None,\n",
       "                      min_samples_leaf=3, min_samples_split=2,\n",
       "                      min_weight_fraction_leaf=0.0, n_estimators=40, n_jobs=-1,\n",
       "                      oob_score=True, random_state=None, verbose=0,\n",
       "                      warm_start=False)"
      ]
     },
     "execution_count": 76,
     "metadata": {},
     "output_type": "execute_result"
    }
   ],
   "source": [
    "m = RandomForestRegressor(n_estimators=40, min_samples_leaf=3, n_jobs=-1, oob_score=True)\n",
    "m.fit(X_train, y_train)"
   ]
  },
  {
   "cell_type": "code",
   "execution_count": 77,
   "metadata": {},
   "outputs": [
    {
     "data": {
      "text/html": [
       "<div>\n",
       "<style scoped>\n",
       "    .dataframe tbody tr th:only-of-type {\n",
       "        vertical-align: middle;\n",
       "    }\n",
       "\n",
       "    .dataframe tbody tr th {\n",
       "        vertical-align: top;\n",
       "    }\n",
       "\n",
       "    .dataframe thead th {\n",
       "        text-align: right;\n",
       "    }\n",
       "</style>\n",
       "<table border=\"1\" class=\"dataframe\">\n",
       "  <thead>\n",
       "    <tr style=\"text-align: right;\">\n",
       "      <th></th>\n",
       "      <th>config</th>\n",
       "      <th>rmse_train</th>\n",
       "      <th>rmse_dev</th>\n",
       "      <th>r^2_train</th>\n",
       "      <th>r^2_dev</th>\n",
       "      <th>oob</th>\n",
       "      <th>n_trees</th>\n",
       "      <th>train_size</th>\n",
       "      <th>dev_size</th>\n",
       "    </tr>\n",
       "  </thead>\n",
       "  <tbody>\n",
       "    <tr>\n",
       "      <td>0</td>\n",
       "      <td>baseline-slow-tuning</td>\n",
       "      <td>0.115092</td>\n",
       "      <td>0.234241</td>\n",
       "      <td>0.972316</td>\n",
       "      <td>0.902012</td>\n",
       "      <td>0.908396</td>\n",
       "      <td>40</td>\n",
       "      <td>389125</td>\n",
       "      <td>12000</td>\n",
       "    </tr>\n",
       "  </tbody>\n",
       "</table>\n",
       "</div>"
      ],
      "text/plain": [
       "                 config  rmse_train  rmse_dev  r^2_train   r^2_dev       oob  \\\n",
       "0  baseline-slow-tuning    0.115092  0.234241   0.972316  0.902012  0.908396   \n",
       "\n",
       "   n_trees  train_size  dev_size  \n",
       "0       40      389125     12000  "
      ]
     },
     "execution_count": 77,
     "metadata": {},
     "output_type": "execute_result"
    }
   ],
   "source": [
    "tmp = get_scores(m, 'baseline-slow-tuning')\n",
    "tmp"
   ]
  },
  {
   "cell_type": "markdown",
   "metadata": {},
   "source": [
    "We can also increase the amount of variation amongst the trees by not only use a sample of rows for each tree, but to also using a sample of *columns* for each *split*. We do this by specifying `max_features`, which is the proportion of features to randomly select from at each split."
   ]
  },
  {
   "cell_type": "markdown",
   "metadata": {},
   "source": [
    "- None\n",
    "- 0.5\n",
    "- 'sqrt'"
   ]
  },
  {
   "cell_type": "markdown",
   "metadata": {},
   "source": [
    "- 1, 3, 5, 10, 25, 100"
   ]
  },
  {
   "cell_type": "code",
   "execution_count": 78,
   "metadata": {},
   "outputs": [
    {
     "data": {
      "text/plain": [
       "RandomForestRegressor(bootstrap=True, criterion='mse', max_depth=None,\n",
       "                      max_features=0.5, max_leaf_nodes=None,\n",
       "                      min_impurity_decrease=0.0, min_impurity_split=None,\n",
       "                      min_samples_leaf=3, min_samples_split=2,\n",
       "                      min_weight_fraction_leaf=0.0, n_estimators=40, n_jobs=-1,\n",
       "                      oob_score=True, random_state=None, verbose=0,\n",
       "                      warm_start=False)"
      ]
     },
     "execution_count": 78,
     "metadata": {},
     "output_type": "execute_result"
    }
   ],
   "source": [
    "m = RandomForestRegressor(n_estimators=40, min_samples_leaf=3, max_features=0.5, n_jobs=-1, oob_score=True)\n",
    "m.fit(X_train, y_train)"
   ]
  },
  {
   "cell_type": "code",
   "execution_count": 79,
   "metadata": {},
   "outputs": [
    {
     "data": {
      "text/html": [
       "<div>\n",
       "<style scoped>\n",
       "    .dataframe tbody tr th:only-of-type {\n",
       "        vertical-align: middle;\n",
       "    }\n",
       "\n",
       "    .dataframe tbody tr th {\n",
       "        vertical-align: top;\n",
       "    }\n",
       "\n",
       "    .dataframe thead th {\n",
       "        text-align: right;\n",
       "    }\n",
       "</style>\n",
       "<table border=\"1\" class=\"dataframe\">\n",
       "  <thead>\n",
       "    <tr style=\"text-align: right;\">\n",
       "      <th></th>\n",
       "      <th>config</th>\n",
       "      <th>rmse_train</th>\n",
       "      <th>rmse_dev</th>\n",
       "      <th>r^2_train</th>\n",
       "      <th>r^2_dev</th>\n",
       "      <th>oob</th>\n",
       "      <th>n_trees</th>\n",
       "      <th>train_size</th>\n",
       "      <th>dev_size</th>\n",
       "    </tr>\n",
       "  </thead>\n",
       "  <tbody>\n",
       "    <tr>\n",
       "      <td>0</td>\n",
       "      <td>baseline-slow-tuning</td>\n",
       "      <td>0.119075</td>\n",
       "      <td>0.228595</td>\n",
       "      <td>0.970367</td>\n",
       "      <td>0.906679</td>\n",
       "      <td>0.911819</td>\n",
       "      <td>40</td>\n",
       "      <td>389125</td>\n",
       "      <td>12000</td>\n",
       "    </tr>\n",
       "  </tbody>\n",
       "</table>\n",
       "</div>"
      ],
      "text/plain": [
       "                 config  rmse_train  rmse_dev  r^2_train   r^2_dev       oob  \\\n",
       "0  baseline-slow-tuning    0.119075  0.228595   0.970367  0.906679  0.911819   \n",
       "\n",
       "   n_trees  train_size  dev_size  \n",
       "0       40      389125     12000  "
      ]
     },
     "execution_count": 79,
     "metadata": {},
     "output_type": "execute_result"
    }
   ],
   "source": [
    "tmp = get_scores(m, 'baseline-slow-tuning')\n",
    "tmp"
   ]
  },
  {
   "cell_type": "code",
   "execution_count": 80,
   "metadata": {},
   "outputs": [
    {
     "data": {
      "text/html": [
       "<div>\n",
       "<style scoped>\n",
       "    .dataframe tbody tr th:only-of-type {\n",
       "        vertical-align: middle;\n",
       "    }\n",
       "\n",
       "    .dataframe tbody tr th {\n",
       "        vertical-align: top;\n",
       "    }\n",
       "\n",
       "    .dataframe thead th {\n",
       "        text-align: right;\n",
       "    }\n",
       "</style>\n",
       "<table border=\"1\" class=\"dataframe\">\n",
       "  <thead>\n",
       "    <tr style=\"text-align: right;\">\n",
       "      <th></th>\n",
       "      <th>config</th>\n",
       "      <th>rmse_train</th>\n",
       "      <th>rmse_dev</th>\n",
       "      <th>r^2_train</th>\n",
       "      <th>r^2_dev</th>\n",
       "      <th>oob</th>\n",
       "      <th>n_trees</th>\n",
       "      <th>train_size</th>\n",
       "      <th>dev_size</th>\n",
       "    </tr>\n",
       "  </thead>\n",
       "  <tbody>\n",
       "    <tr>\n",
       "      <td>0</td>\n",
       "      <td>baseline-slow</td>\n",
       "      <td>9.048555e-02</td>\n",
       "      <td>0.251034</td>\n",
       "      <td>0.982888</td>\n",
       "      <td>0.887459</td>\n",
       "      <td>None</td>\n",
       "      <td>10</td>\n",
       "      <td>389125</td>\n",
       "      <td>12000</td>\n",
       "    </tr>\n",
       "    <tr>\n",
       "      <td>0</td>\n",
       "      <td>speedup</td>\n",
       "      <td>1.126264e-01</td>\n",
       "      <td>0.349117</td>\n",
       "      <td>0.972761</td>\n",
       "      <td>0.782334</td>\n",
       "      <td>None</td>\n",
       "      <td>10</td>\n",
       "      <td>20000</td>\n",
       "      <td>12000</td>\n",
       "    </tr>\n",
       "    <tr>\n",
       "      <td>0</td>\n",
       "      <td>single tree</td>\n",
       "      <td>5.224254e-01</td>\n",
       "      <td>0.583432</td>\n",
       "      <td>0.413925</td>\n",
       "      <td>0.392105</td>\n",
       "      <td>None</td>\n",
       "      <td>1</td>\n",
       "      <td>20000</td>\n",
       "      <td>12000</td>\n",
       "    </tr>\n",
       "    <tr>\n",
       "      <td>0</td>\n",
       "      <td>single deep tree</td>\n",
       "      <td>7.215596e-17</td>\n",
       "      <td>0.469300</td>\n",
       "      <td>1.000000</td>\n",
       "      <td>0.606677</td>\n",
       "      <td>None</td>\n",
       "      <td>1</td>\n",
       "      <td>20000</td>\n",
       "      <td>12000</td>\n",
       "    </tr>\n",
       "    <tr>\n",
       "      <td>0</td>\n",
       "      <td>baseline-fast</td>\n",
       "      <td>1.133743e-01</td>\n",
       "      <td>0.345853</td>\n",
       "      <td>0.972398</td>\n",
       "      <td>0.786385</td>\n",
       "      <td>None</td>\n",
       "      <td>10</td>\n",
       "      <td>20000</td>\n",
       "      <td>12000</td>\n",
       "    </tr>\n",
       "    <tr>\n",
       "      <td>0</td>\n",
       "      <td>baseline-fast-80</td>\n",
       "      <td>9.469417e-02</td>\n",
       "      <td>0.336560</td>\n",
       "      <td>0.980745</td>\n",
       "      <td>0.797710</td>\n",
       "      <td>None</td>\n",
       "      <td>80</td>\n",
       "      <td>20000</td>\n",
       "      <td>12000</td>\n",
       "    </tr>\n",
       "    <tr>\n",
       "      <td>0</td>\n",
       "      <td>baseline-fast-40-oob</td>\n",
       "      <td>9.796651e-02</td>\n",
       "      <td>0.341377</td>\n",
       "      <td>0.979391</td>\n",
       "      <td>0.791879</td>\n",
       "      <td>0.852806</td>\n",
       "      <td>40</td>\n",
       "      <td>20000</td>\n",
       "      <td>12000</td>\n",
       "    </tr>\n",
       "    <tr>\n",
       "      <td>0</td>\n",
       "      <td>baseline-subsample-10</td>\n",
       "      <td>2.409226e-01</td>\n",
       "      <td>0.282640</td>\n",
       "      <td>0.878692</td>\n",
       "      <td>0.857335</td>\n",
       "      <td>0.866089</td>\n",
       "      <td>10</td>\n",
       "      <td>389125</td>\n",
       "      <td>12000</td>\n",
       "    </tr>\n",
       "    <tr>\n",
       "      <td>0</td>\n",
       "      <td>baseline-subsample-40</td>\n",
       "      <td>2.278227e-01</td>\n",
       "      <td>0.261694</td>\n",
       "      <td>0.891525</td>\n",
       "      <td>0.877697</td>\n",
       "      <td>0.879926</td>\n",
       "      <td>40</td>\n",
       "      <td>389125</td>\n",
       "      <td>12000</td>\n",
       "    </tr>\n",
       "    <tr>\n",
       "      <td>0</td>\n",
       "      <td>baseline-slow</td>\n",
       "      <td>7.835854e-02</td>\n",
       "      <td>0.236651</td>\n",
       "      <td>0.987168</td>\n",
       "      <td>0.899985</td>\n",
       "      <td>0.908498</td>\n",
       "      <td>40</td>\n",
       "      <td>389125</td>\n",
       "      <td>12000</td>\n",
       "    </tr>\n",
       "    <tr>\n",
       "      <td>0</td>\n",
       "      <td>baseline-slow-tuning</td>\n",
       "      <td>1.190752e-01</td>\n",
       "      <td>0.228595</td>\n",
       "      <td>0.970367</td>\n",
       "      <td>0.906679</td>\n",
       "      <td>0.911819</td>\n",
       "      <td>40</td>\n",
       "      <td>389125</td>\n",
       "      <td>12000</td>\n",
       "    </tr>\n",
       "  </tbody>\n",
       "</table>\n",
       "</div>"
      ],
      "text/plain": [
       "                  config    rmse_train  rmse_dev  r^2_train   r^2_dev  \\\n",
       "0          baseline-slow  9.048555e-02  0.251034   0.982888  0.887459   \n",
       "0                speedup  1.126264e-01  0.349117   0.972761  0.782334   \n",
       "0            single tree  5.224254e-01  0.583432   0.413925  0.392105   \n",
       "0       single deep tree  7.215596e-17  0.469300   1.000000  0.606677   \n",
       "0          baseline-fast  1.133743e-01  0.345853   0.972398  0.786385   \n",
       "0       baseline-fast-80  9.469417e-02  0.336560   0.980745  0.797710   \n",
       "0   baseline-fast-40-oob  9.796651e-02  0.341377   0.979391  0.791879   \n",
       "0  baseline-subsample-10  2.409226e-01  0.282640   0.878692  0.857335   \n",
       "0  baseline-subsample-40  2.278227e-01  0.261694   0.891525  0.877697   \n",
       "0          baseline-slow  7.835854e-02  0.236651   0.987168  0.899985   \n",
       "0   baseline-slow-tuning  1.190752e-01  0.228595   0.970367  0.906679   \n",
       "\n",
       "        oob  n_trees  train_size  dev_size  \n",
       "0      None       10      389125     12000  \n",
       "0      None       10       20000     12000  \n",
       "0      None        1       20000     12000  \n",
       "0      None        1       20000     12000  \n",
       "0      None       10       20000     12000  \n",
       "0      None       80       20000     12000  \n",
       "0  0.852806       40       20000     12000  \n",
       "0  0.866089       10      389125     12000  \n",
       "0  0.879926       40      389125     12000  \n",
       "0  0.908498       40      389125     12000  \n",
       "0  0.911819       40      389125     12000  "
      ]
     },
     "execution_count": 80,
     "metadata": {},
     "output_type": "execute_result"
    }
   ],
   "source": [
    "results = pd.concat([tmp, results])\n",
    "results[::-1]"
   ]
  },
  {
   "cell_type": "code",
   "execution_count": 81,
   "metadata": {
    "scrolled": false
   },
   "outputs": [
    {
     "data": {
      "image/png": "[encoded data removed]",
      "text/plain": [
       "<Figure size 576x2376 with 5 Axes>"
      ]
     },
     "metadata": {
      "needs_background": "light"
     },
     "output_type": "display_data"
    }
   ],
   "source": [
    "cols = results.columns[:6]\n",
    "results[cols].plot.barh(\n",
    "    x='config',\n",
    "    subplots=True,\n",
    "    # rot=90,\n",
    "    # ylim=(0,1),\n",
    "    # title=['']*4,\n",
    "    legend=False,\n",
    "    figsize=(8,3*results.shape[0])\n",
    ");"
   ]
  },
  {
   "cell_type": "markdown",
   "metadata": {},
   "source": [
    "We can't compare our results directly with the Kaggle competition, since it used a different validation set (and we can no longer to submit to this competition) - but we can at least see that we're getting similar results to the winners based on the dataset we have.\n",
    "\n",
    "The sklearn docs [show an example](http://scikit-learn.org/stable/auto_examples/ensemble/plot_ensemble_oob.html) of different `max_features` methods with increasing numbers of trees - as you see, using a subset of features on each split requires using more trees, but results in better models:\n",
    "![sklearn max_features chart](http://scikit-learn.org/stable/_images/sphx_glr_plot_ensemble_oob_001.png)"
   ]
  }
 ],
 "metadata": {
  "jupytext": {
   "cell_metadata_filter": "-all",
   "formats": "ipynb,py:light",
   "notebook_metadata_filter": "-all"
  },
  "kernelspec": {
   "display_name": "Python 3",
   "language": "python",
   "name": "python3"
  },
  "language_info": {
   "codemirror_mode": {
    "name": "ipython",
    "version": 3
   },
   "file_extension": ".py",
   "mimetype": "text/x-python",
   "name": "python",
   "nbconvert_exporter": "python",
   "pygments_lexer": "ipython3",
   "version": "3.6.9"
  }
 },
 "nbformat": 4,
 "nbformat_minor": 2
}
