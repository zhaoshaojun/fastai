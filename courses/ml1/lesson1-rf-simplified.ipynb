{
 "cells": [
  {
   "cell_type": "markdown",
   "metadata": {},
   "source": [
    "## Imports"
   ]
  },
  {
   "cell_type": "code",
   "execution_count": 1,
   "metadata": {},
   "outputs": [],
   "source": [
    "%load_ext autoreload\n",
    "%autoreload 2\n",
    "\n",
    "%matplotlib inline"
   ]
  },
  {
   "cell_type": "code",
   "execution_count": 2,
   "metadata": {},
   "outputs": [
    {
     "name": "stderr",
     "output_type": "stream",
     "text": [
      "/Users/shaojun/opt/anaconda3/lib/python3.6/site-packages/sklearn/utils/deprecation.py:144: FutureWarning: The sklearn.ensemble.forest module is  deprecated in version 0.22 and will be removed in version 0.24. The corresponding classes / functions should instead be imported from sklearn.ensemble. Anything that cannot be imported from sklearn.ensemble is now part of the private API.\n",
      "  warnings.warn(message, FutureWarning)\n"
     ]
    }
   ],
   "source": [
    "from fastai.imports import *\n",
    "from fastai.structured import *\n",
    "\n",
    "from sklearn.ensemble import RandomForestRegressor, RandomForestClassifier\n",
    "from IPython.display import display\n",
    "\n",
    "from sklearn import metrics"
   ]
  },
  {
   "cell_type": "code",
   "execution_count": 3,
   "metadata": {},
   "outputs": [],
   "source": [
    "PATH = \"data/bulldozers/\""
   ]
  },
  {
   "cell_type": "code",
   "execution_count": 4,
   "metadata": {},
   "outputs": [
    {
     "name": "stdout",
     "output_type": "stream",
     "text": [
      "Train.csv\r\n"
     ]
    }
   ],
   "source": [
    "!ls {PATH}"
   ]
  },
  {
   "cell_type": "markdown",
   "metadata": {},
   "source": [
    "## The data"
   ]
  },
  {
   "cell_type": "markdown",
   "metadata": {},
   "source": [
    "## (a) reading csv, specify dates"
   ]
  },
  {
   "cell_type": "code",
   "execution_count": 5,
   "metadata": {},
   "outputs": [],
   "source": [
    "df_raw = pd.read_csv(f'{PATH}Train.csv', low_memory=False,\n",
    "                     parse_dates=[\"saledate\"])"
   ]
  },
  {
   "cell_type": "code",
   "execution_count": 6,
   "metadata": {},
   "outputs": [],
   "source": [
    "df_raw.SalePrice = np.log(df_raw.SalePrice)"
   ]
  },
  {
   "cell_type": "markdown",
   "metadata": {},
   "source": [
    "### before processing"
   ]
  },
  {
   "cell_type": "code",
   "execution_count": 7,
   "metadata": {},
   "outputs": [
    {
     "name": "stdout",
     "output_type": "stream",
     "text": [
      "something went wrong: could not convert string to float: 'Low'\n"
     ]
    }
   ],
   "source": [
    "try:\n",
    "    m = RandomForestRegressor(n_estimators=10, n_jobs=-1)\n",
    "    # The following code is supposed to fail due to string values in the input data\n",
    "    m.fit(df_raw.drop('SalePrice', axis=1), df_raw.SalePrice)\n",
    "    assert False\n",
    "except Exception as e:\n",
    "    print(f\"something went wrong: {e}\")"
   ]
  },
  {
   "cell_type": "markdown",
   "metadata": {},
   "source": [
    "This dataset contains a mix of **continuous** and **categorical** variables.\n",
    "\n",
    "The following method extracts particular date fields from a complete datetime for the purpose of constructing categoricals.  You should always consider this feature extraction step when working with date-time. Without expanding your date-time into these additional fields, you can't capture any trend/cyclical behavior as a function of time at any of these granularities."
   ]
  },
  {
   "cell_type": "markdown",
   "metadata": {},
   "source": [
    "## (b) processing dates"
   ]
  },
  {
   "cell_type": "code",
   "execution_count": 8,
   "metadata": {},
   "outputs": [
    {
     "data": {
      "text/plain": [
       "0    2006\n",
       "1    2004\n",
       "2    2004\n",
       "3    2011\n",
       "4    2009\n",
       "Name: saleYear, dtype: int64"
      ]
     },
     "execution_count": 8,
     "metadata": {},
     "output_type": "execute_result"
    }
   ],
   "source": [
    "add_datepart(df_raw, 'saledate')\n",
    "df_raw.saleYear.head()"
   ]
  },
  {
   "cell_type": "markdown",
   "metadata": {},
   "source": [
    "The categorical variables are currently stored as strings, which is inefficient, and doesn't provide the numeric coding required for a random forest. Therefore we call `train_cats` to convert strings to pandas categories."
   ]
  },
  {
   "cell_type": "markdown",
   "metadata": {},
   "source": [
    "## (c) change string object to categorical"
   ]
  },
  {
   "cell_type": "code",
   "execution_count": 9,
   "metadata": {},
   "outputs": [],
   "source": [
    "train_cats(df_raw)"
   ]
  },
  {
   "cell_type": "markdown",
   "metadata": {},
   "source": [
    "We can specify the order to use for categorical variables if we wish:"
   ]
  },
  {
   "cell_type": "code",
   "execution_count": 10,
   "metadata": {},
   "outputs": [
    {
     "data": {
      "text/plain": [
       "Index(['High', 'Low', 'Medium'], dtype='object')"
      ]
     },
     "execution_count": 10,
     "metadata": {},
     "output_type": "execute_result"
    }
   ],
   "source": [
    "df_raw.UsageBand.cat.categories"
   ]
  },
  {
   "cell_type": "code",
   "execution_count": 11,
   "metadata": {},
   "outputs": [],
   "source": [
    "df_raw.UsageBand.cat.set_categories(['High', 'Medium', 'Low'], ordered=True, inplace=True)"
   ]
  },
  {
   "cell_type": "markdown",
   "metadata": {},
   "source": [
    "Normally, pandas will continue displaying the text categories, while treating them as numerical data internally. Optionally, we can replace the text categories with numbers, which will make this variable non-categorical, like so:."
   ]
  },
  {
   "cell_type": "code",
   "execution_count": 12,
   "metadata": {},
   "outputs": [],
   "source": [
    "# df_raw.UsageBand = df_raw.UsageBand.cat.codes + 1"
   ]
  },
  {
   "cell_type": "markdown",
   "metadata": {},
   "source": [
    "We're still not quite done - for instance we have lots of missing values, which we can't pass directly to a random forest."
   ]
  },
  {
   "cell_type": "markdown",
   "metadata": {},
   "source": [
    "But let's save this file for now, since it's already in format can we be stored and accessed efficiently."
   ]
  },
  {
   "cell_type": "code",
   "execution_count": 13,
   "metadata": {},
   "outputs": [],
   "source": [
    "os.makedirs('tmp', exist_ok=True)\n",
    "df_raw.to_feather('tmp/bulldozers-raw')"
   ]
  },
  {
   "cell_type": "code",
   "execution_count": 14,
   "metadata": {},
   "outputs": [
    {
     "name": "stdout",
     "output_type": "stream",
     "text": [
      "-rw-r--r--  1 shaojun  110156316    67M Dec 28 19:15 tmp/bulldozers-raw\r\n"
     ]
    }
   ],
   "source": [
    "!ls -lrth tmp/bulldozers-raw"
   ]
  },
  {
   "cell_type": "markdown",
   "metadata": {},
   "source": [
    "## (d) change everything to numbers"
   ]
  },
  {
   "cell_type": "markdown",
   "metadata": {},
   "source": [
    "In the future we can simply read it from this fast format."
   ]
  },
  {
   "cell_type": "code",
   "execution_count": 15,
   "metadata": {},
   "outputs": [],
   "source": [
    "import feather\n",
    "df_raw = feather.read_dataframe('tmp/bulldozers-raw')"
   ]
  },
  {
   "cell_type": "markdown",
   "metadata": {},
   "source": [
    "We'll replace categories with their numeric codes, handle missing continuous values, and split the dependent variable into a separate variable."
   ]
  },
  {
   "cell_type": "code",
   "execution_count": 16,
   "metadata": {},
   "outputs": [],
   "source": [
    "df, y, nas = proc_df(df_raw, 'SalePrice')"
   ]
  },
  {
   "cell_type": "code",
   "execution_count": 17,
   "metadata": {},
   "outputs": [
    {
     "data": {
      "text/plain": [
       "{'auctioneerID': 2.0, 'MachineHoursCurrentMeter': 0.0}"
      ]
     },
     "execution_count": 17,
     "metadata": {},
     "output_type": "execute_result"
    }
   ],
   "source": [
    "nas"
   ]
  },
  {
   "cell_type": "markdown",
   "metadata": {},
   "source": [
    "## Random Forests"
   ]
  },
  {
   "cell_type": "markdown",
   "metadata": {},
   "source": [
    "## overfit"
   ]
  },
  {
   "cell_type": "markdown",
   "metadata": {},
   "source": [
    "We now have something we can pass to a random forest!"
   ]
  },
  {
   "cell_type": "code",
   "execution_count": 18,
   "metadata": {},
   "outputs": [
    {
     "data": {
      "text/plain": [
       "0.9830337237882019"
      ]
     },
     "execution_count": 18,
     "metadata": {},
     "output_type": "execute_result"
    }
   ],
   "source": [
    "m = RandomForestRegressor(n_estimators=10, n_jobs=-1)\n",
    "m.fit(df, y)\n",
    "m.score(df,y)"
   ]
  },
  {
   "cell_type": "markdown",
   "metadata": {},
   "source": [
    "Wow, an r^2 of 0.98 - that's great, right? Well, perhaps not...\n",
    "\n",
    "Possibly **the most important idea** in machine learning is that of having separate training & validation data sets. As motivation, suppose you don't divide up your data, but instead use all of it.  And suppose you have lots of parameters:\n",
    "\n",
    "<img src=\"images/overfitting2.png\" alt=\"\" style=\"width: 70%\"/>\n",
    "<center>\n",
    "[Underfitting and Overfitting](https://datascience.stackexchange.com/questions/361/when-is-a-model-underfitted)\n",
    "</center>\n",
    "\n",
    "The error for the pictured data points is lowest for the model on the far right (the blue curve passes through the red points almost perfectly), yet it's not the best choice.  Why is that?  If you were to gather some new data points, they most likely would not be on that curve in the graph on the right, but would be closer to the curve in the middle graph.\n",
    "\n",
    "This illustrates how using all our data can lead to **overfitting**. A validation set helps diagnose this problem."
   ]
  },
  {
   "cell_type": "code",
   "execution_count": 19,
   "metadata": {},
   "outputs": [
    {
     "data": {
      "text/plain": [
       "((389125, 66), (389125,), (12000, 66))"
      ]
     },
     "execution_count": 19,
     "metadata": {},
     "output_type": "execute_result"
    }
   ],
   "source": [
    "def split_vals(a,n): return a[:n].copy(), a[n:].copy()\n",
    "\n",
    "n_valid = 12000  # same as Kaggle's test set size\n",
    "n_trn = len(df)-n_valid\n",
    "# raw_train, raw_valid = split_vals(df_raw, n_trn)\n",
    "X_train, X_valid = split_vals(df, n_trn)\n",
    "y_train, y_valid = split_vals(y, n_trn)\n",
    "\n",
    "X_train.shape, y_train.shape, X_valid.shape"
   ]
  },
  {
   "cell_type": "markdown",
   "metadata": {},
   "source": [
    "## Base model"
   ]
  },
  {
   "cell_type": "markdown",
   "metadata": {},
   "source": [
    "Let's try our model again, this time with separate training and validation sets."
   ]
  },
  {
   "cell_type": "code",
   "execution_count": 20,
   "metadata": {},
   "outputs": [],
   "source": [
    "def rmse(x,y): return math.sqrt(((x-y)**2).mean())\n",
    "\n",
    "def get_scores(m, config=None):\n",
    "    res = {\n",
    "        'config':[config],\n",
    "        'rmse_train': [rmse(m.predict(X_train), y_train)],\n",
    "        'rmse_dev': [rmse(m.predict(X_valid), y_valid)],\n",
    "        'r2_train': [m.score(X_train, y_train)],\n",
    "        'r2_dev': [m.score(X_valid, y_valid)],\n",
    "        'r2_oob': [None],\n",
    "        'n_trees':[m.n_estimators],\n",
    "        'train_size': [len(y_train)],\n",
    "        'dev_size': [len(y_valid)],\n",
    "    }\n",
    "    if hasattr(m, 'oob_score_'): \n",
    "        if m.oob_score_ > 0:\n",
    "            res['r2_oob'][0] = m.oob_score_\n",
    "    return pd.DataFrame(res)"
   ]
  },
  {
   "cell_type": "code",
   "execution_count": 21,
   "metadata": {
    "scrolled": true
   },
   "outputs": [
    {
     "name": "stdout",
     "output_type": "stream",
     "text": [
      "CPU times: user 1min 21s, sys: 637 ms, total: 1min 21s\n",
      "Wall time: 9.76 s\n"
     ]
    },
    {
     "data": {
      "text/plain": [
       "RandomForestRegressor(bootstrap=True, ccp_alpha=0.0, criterion='mse',\n",
       "                      max_depth=None, max_features='auto', max_leaf_nodes=None,\n",
       "                      max_samples=None, min_impurity_decrease=0.0,\n",
       "                      min_impurity_split=None, min_samples_leaf=1,\n",
       "                      min_samples_split=2, min_weight_fraction_leaf=0.0,\n",
       "                      n_estimators=10, n_jobs=-1, oob_score=False,\n",
       "                      random_state=None, verbose=0, warm_start=False)"
      ]
     },
     "execution_count": 21,
     "metadata": {},
     "output_type": "execute_result"
    }
   ],
   "source": [
    "m = RandomForestRegressor(n_estimators=10, n_jobs=-1)\n",
    "%time m.fit(X_train, y_train)"
   ]
  },
  {
   "cell_type": "code",
   "execution_count": 22,
   "metadata": {},
   "outputs": [
    {
     "data": {
      "text/html": [
       "<div>\n",
       "<style scoped>\n",
       "    .dataframe tbody tr th:only-of-type {\n",
       "        vertical-align: middle;\n",
       "    }\n",
       "\n",
       "    .dataframe tbody tr th {\n",
       "        vertical-align: top;\n",
       "    }\n",
       "\n",
       "    .dataframe thead th {\n",
       "        text-align: right;\n",
       "    }\n",
       "</style>\n",
       "<table border=\"1\" class=\"dataframe\">\n",
       "  <thead>\n",
       "    <tr style=\"text-align: right;\">\n",
       "      <th></th>\n",
       "      <th>config</th>\n",
       "      <th>rmse_train</th>\n",
       "      <th>rmse_dev</th>\n",
       "      <th>r2_train</th>\n",
       "      <th>r2_dev</th>\n",
       "      <th>r2_oob</th>\n",
       "      <th>n_trees</th>\n",
       "      <th>train_size</th>\n",
       "      <th>dev_size</th>\n",
       "    </tr>\n",
       "  </thead>\n",
       "  <tbody>\n",
       "    <tr>\n",
       "      <td>0</td>\n",
       "      <td>baseline-slow</td>\n",
       "      <td>0.090836</td>\n",
       "      <td>0.250835</td>\n",
       "      <td>0.982755</td>\n",
       "      <td>0.887636</td>\n",
       "      <td>None</td>\n",
       "      <td>10</td>\n",
       "      <td>389125</td>\n",
       "      <td>12000</td>\n",
       "    </tr>\n",
       "  </tbody>\n",
       "</table>\n",
       "</div>"
      ],
      "text/plain": [
       "          config  rmse_train  rmse_dev  r2_train    r2_dev r2_oob  n_trees  \\\n",
       "0  baseline-slow    0.090836  0.250835  0.982755  0.887636   None       10   \n",
       "\n",
       "   train_size  dev_size  \n",
       "0      389125     12000  "
      ]
     },
     "execution_count": 22,
     "metadata": {},
     "output_type": "execute_result"
    }
   ],
   "source": [
    "results = get_scores(m, 'baseline-slow')\n",
    "results"
   ]
  },
  {
   "cell_type": "markdown",
   "metadata": {},
   "source": [
    "An r^2 in the high-80's isn't bad at all (and the RMSLE puts us around rank 100 of 470 on the Kaggle leaderboard), even thought we care overfitting badly by looking at the validation set score."
   ]
  },
  {
   "cell_type": "markdown",
   "metadata": {},
   "source": [
    "## Speeding things up"
   ]
  },
  {
   "cell_type": "code",
   "execution_count": 23,
   "metadata": {},
   "outputs": [
    {
     "data": {
      "text/plain": [
       "{'auctioneerID': 2.0, 'MachineHoursCurrentMeter': 0.0}"
      ]
     },
     "execution_count": 23,
     "metadata": {},
     "output_type": "execute_result"
    }
   ],
   "source": [
    "nas"
   ]
  },
  {
   "cell_type": "code",
   "execution_count": 24,
   "metadata": {},
   "outputs": [],
   "source": [
    "df_trn, y_trn, nas = proc_df(df_raw, 'SalePrice', subset=30000, na_dict=nas)\n",
    "X_train, _ = split_vals(df_trn, 20000)\n",
    "y_train, _ = split_vals(y_trn, 20000)"
   ]
  },
  {
   "cell_type": "code",
   "execution_count": 25,
   "metadata": {},
   "outputs": [
    {
     "data": {
      "text/plain": [
       "{'auctioneerID': 2.0, 'MachineHoursCurrentMeter': 0.0}"
      ]
     },
     "execution_count": 25,
     "metadata": {},
     "output_type": "execute_result"
    }
   ],
   "source": [
    "nas"
   ]
  },
  {
   "cell_type": "code",
   "execution_count": 26,
   "metadata": {},
   "outputs": [
    {
     "name": "stdout",
     "output_type": "stream",
     "text": [
      "CPU times: user 3.03 s, sys: 34 ms, total: 3.07 s\n",
      "Wall time: 373 ms\n"
     ]
    },
    {
     "data": {
      "text/plain": [
       "RandomForestRegressor(bootstrap=True, ccp_alpha=0.0, criterion='mse',\n",
       "                      max_depth=None, max_features='auto', max_leaf_nodes=None,\n",
       "                      max_samples=None, min_impurity_decrease=0.0,\n",
       "                      min_impurity_split=None, min_samples_leaf=1,\n",
       "                      min_samples_split=2, min_weight_fraction_leaf=0.0,\n",
       "                      n_estimators=10, n_jobs=-1, oob_score=False,\n",
       "                      random_state=None, verbose=0, warm_start=False)"
      ]
     },
     "execution_count": 26,
     "metadata": {},
     "output_type": "execute_result"
    }
   ],
   "source": [
    "m = RandomForestRegressor(n_estimators=10, n_jobs=-1)\n",
    "%time m.fit(X_train, y_train)"
   ]
  },
  {
   "cell_type": "code",
   "execution_count": 27,
   "metadata": {},
   "outputs": [
    {
     "data": {
      "text/html": [
       "<div>\n",
       "<style scoped>\n",
       "    .dataframe tbody tr th:only-of-type {\n",
       "        vertical-align: middle;\n",
       "    }\n",
       "\n",
       "    .dataframe tbody tr th {\n",
       "        vertical-align: top;\n",
       "    }\n",
       "\n",
       "    .dataframe thead th {\n",
       "        text-align: right;\n",
       "    }\n",
       "</style>\n",
       "<table border=\"1\" class=\"dataframe\">\n",
       "  <thead>\n",
       "    <tr style=\"text-align: right;\">\n",
       "      <th></th>\n",
       "      <th>config</th>\n",
       "      <th>rmse_train</th>\n",
       "      <th>rmse_dev</th>\n",
       "      <th>r2_train</th>\n",
       "      <th>r2_dev</th>\n",
       "      <th>r2_oob</th>\n",
       "      <th>n_trees</th>\n",
       "      <th>train_size</th>\n",
       "      <th>dev_size</th>\n",
       "    </tr>\n",
       "  </thead>\n",
       "  <tbody>\n",
       "    <tr>\n",
       "      <td>0</td>\n",
       "      <td>speedup</td>\n",
       "      <td>0.111354</td>\n",
       "      <td>0.360487</td>\n",
       "      <td>0.973082</td>\n",
       "      <td>0.767926</td>\n",
       "      <td>None</td>\n",
       "      <td>10</td>\n",
       "      <td>20000</td>\n",
       "      <td>12000</td>\n",
       "    </tr>\n",
       "  </tbody>\n",
       "</table>\n",
       "</div>"
      ],
      "text/plain": [
       "    config  rmse_train  rmse_dev  r2_train    r2_dev r2_oob  n_trees  \\\n",
       "0  speedup    0.111354  0.360487  0.973082  0.767926   None       10   \n",
       "\n",
       "   train_size  dev_size  \n",
       "0       20000     12000  "
      ]
     },
     "execution_count": 27,
     "metadata": {},
     "output_type": "execute_result"
    }
   ],
   "source": [
    "tmp = get_scores(m, 'speedup')\n",
    "tmp"
   ]
  },
  {
   "cell_type": "code",
   "execution_count": 28,
   "metadata": {},
   "outputs": [
    {
     "data": {
      "text/html": [
       "<div>\n",
       "<style scoped>\n",
       "    .dataframe tbody tr th:only-of-type {\n",
       "        vertical-align: middle;\n",
       "    }\n",
       "\n",
       "    .dataframe tbody tr th {\n",
       "        vertical-align: top;\n",
       "    }\n",
       "\n",
       "    .dataframe thead th {\n",
       "        text-align: right;\n",
       "    }\n",
       "</style>\n",
       "<table border=\"1\" class=\"dataframe\">\n",
       "  <thead>\n",
       "    <tr style=\"text-align: right;\">\n",
       "      <th></th>\n",
       "      <th>config</th>\n",
       "      <th>rmse_train</th>\n",
       "      <th>rmse_dev</th>\n",
       "      <th>r2_train</th>\n",
       "      <th>r2_dev</th>\n",
       "      <th>r2_oob</th>\n",
       "      <th>n_trees</th>\n",
       "      <th>train_size</th>\n",
       "      <th>dev_size</th>\n",
       "    </tr>\n",
       "  </thead>\n",
       "  <tbody>\n",
       "    <tr>\n",
       "      <td>0</td>\n",
       "      <td>baseline-slow</td>\n",
       "      <td>0.090836</td>\n",
       "      <td>0.250835</td>\n",
       "      <td>0.982755</td>\n",
       "      <td>0.887636</td>\n",
       "      <td>None</td>\n",
       "      <td>10</td>\n",
       "      <td>389125</td>\n",
       "      <td>12000</td>\n",
       "    </tr>\n",
       "    <tr>\n",
       "      <td>0</td>\n",
       "      <td>speedup</td>\n",
       "      <td>0.111354</td>\n",
       "      <td>0.360487</td>\n",
       "      <td>0.973082</td>\n",
       "      <td>0.767926</td>\n",
       "      <td>None</td>\n",
       "      <td>10</td>\n",
       "      <td>20000</td>\n",
       "      <td>12000</td>\n",
       "    </tr>\n",
       "  </tbody>\n",
       "</table>\n",
       "</div>"
      ],
      "text/plain": [
       "          config  rmse_train  rmse_dev  r2_train    r2_dev r2_oob  n_trees  \\\n",
       "0  baseline-slow    0.090836  0.250835  0.982755  0.887636   None       10   \n",
       "0        speedup    0.111354  0.360487  0.973082  0.767926   None       10   \n",
       "\n",
       "   train_size  dev_size  \n",
       "0      389125     12000  \n",
       "0       20000     12000  "
      ]
     },
     "execution_count": 28,
     "metadata": {},
     "output_type": "execute_result"
    }
   ],
   "source": [
    "results = pd.concat([tmp, results])\n",
    "results[::-1]"
   ]
  },
  {
   "cell_type": "code",
   "execution_count": 29,
   "metadata": {},
   "outputs": [
    {
     "data": {
      "image/png": "[encoded data removed]",
      "text/plain": [
       "<Figure size 576x432 with 4 Axes>"
      ]
     },
     "metadata": {
      "needs_background": "light"
     },
     "output_type": "display_data"
    }
   ],
   "source": [
    "cols = results.columns[:5]\n",
    "results[cols].plot.barh(\n",
    "    x='config',\n",
    "    subplots=True,\n",
    "    # rot=0,\n",
    "    ylim=(0,1),\n",
    "    # title=['']*4,\n",
    "    legend=False,\n",
    "    figsize=(8,3*results.shape[0])\n",
    ");"
   ]
  },
  {
   "cell_type": "markdown",
   "metadata": {},
   "source": [
    "## Single tree"
   ]
  },
  {
   "cell_type": "code",
   "execution_count": 30,
   "metadata": {},
   "outputs": [
    {
     "data": {
      "text/plain": [
       "RandomForestRegressor(bootstrap=False, ccp_alpha=0.0, criterion='mse',\n",
       "                      max_depth=3, max_features='auto', max_leaf_nodes=None,\n",
       "                      max_samples=None, min_impurity_decrease=0.0,\n",
       "                      min_impurity_split=None, min_samples_leaf=1,\n",
       "                      min_samples_split=2, min_weight_fraction_leaf=0.0,\n",
       "                      n_estimators=1, n_jobs=-1, oob_score=False,\n",
       "                      random_state=None, verbose=0, warm_start=False)"
      ]
     },
     "execution_count": 30,
     "metadata": {},
     "output_type": "execute_result"
    }
   ],
   "source": [
    "m = RandomForestRegressor(n_estimators=1, max_depth=3, bootstrap=False, n_jobs=-1)\n",
    "m.fit(X_train, y_train)"
   ]
  },
  {
   "cell_type": "code",
   "execution_count": 31,
   "metadata": {},
   "outputs": [
    {
     "data": {
      "text/html": [
       "<div>\n",
       "<style scoped>\n",
       "    .dataframe tbody tr th:only-of-type {\n",
       "        vertical-align: middle;\n",
       "    }\n",
       "\n",
       "    .dataframe tbody tr th {\n",
       "        vertical-align: top;\n",
       "    }\n",
       "\n",
       "    .dataframe thead th {\n",
       "        text-align: right;\n",
       "    }\n",
       "</style>\n",
       "<table border=\"1\" class=\"dataframe\">\n",
       "  <thead>\n",
       "    <tr style=\"text-align: right;\">\n",
       "      <th></th>\n",
       "      <th>config</th>\n",
       "      <th>rmse_train</th>\n",
       "      <th>rmse_dev</th>\n",
       "      <th>r2_train</th>\n",
       "      <th>r2_dev</th>\n",
       "      <th>r2_oob</th>\n",
       "      <th>n_trees</th>\n",
       "      <th>train_size</th>\n",
       "      <th>dev_size</th>\n",
       "    </tr>\n",
       "  </thead>\n",
       "  <tbody>\n",
       "    <tr>\n",
       "      <td>0</td>\n",
       "      <td>single tree</td>\n",
       "      <td>0.523713</td>\n",
       "      <td>0.58076</td>\n",
       "      <td>0.404598</td>\n",
       "      <td>0.397661</td>\n",
       "      <td>None</td>\n",
       "      <td>1</td>\n",
       "      <td>20000</td>\n",
       "      <td>12000</td>\n",
       "    </tr>\n",
       "  </tbody>\n",
       "</table>\n",
       "</div>"
      ],
      "text/plain": [
       "        config  rmse_train  rmse_dev  r2_train    r2_dev r2_oob  n_trees  \\\n",
       "0  single tree    0.523713   0.58076  0.404598  0.397661   None        1   \n",
       "\n",
       "   train_size  dev_size  \n",
       "0       20000     12000  "
      ]
     },
     "execution_count": 31,
     "metadata": {},
     "output_type": "execute_result"
    }
   ],
   "source": [
    "tmp = get_scores(m, 'single tree')\n",
    "tmp"
   ]
  },
  {
   "cell_type": "code",
   "execution_count": 32,
   "metadata": {},
   "outputs": [
    {
     "data": {
      "text/html": [
       "<div>\n",
       "<style scoped>\n",
       "    .dataframe tbody tr th:only-of-type {\n",
       "        vertical-align: middle;\n",
       "    }\n",
       "\n",
       "    .dataframe tbody tr th {\n",
       "        vertical-align: top;\n",
       "    }\n",
       "\n",
       "    .dataframe thead th {\n",
       "        text-align: right;\n",
       "    }\n",
       "</style>\n",
       "<table border=\"1\" class=\"dataframe\">\n",
       "  <thead>\n",
       "    <tr style=\"text-align: right;\">\n",
       "      <th></th>\n",
       "      <th>config</th>\n",
       "      <th>rmse_train</th>\n",
       "      <th>rmse_dev</th>\n",
       "      <th>r2_train</th>\n",
       "      <th>r2_dev</th>\n",
       "      <th>r2_oob</th>\n",
       "      <th>n_trees</th>\n",
       "      <th>train_size</th>\n",
       "      <th>dev_size</th>\n",
       "    </tr>\n",
       "  </thead>\n",
       "  <tbody>\n",
       "    <tr>\n",
       "      <td>0</td>\n",
       "      <td>baseline-slow</td>\n",
       "      <td>0.090836</td>\n",
       "      <td>0.250835</td>\n",
       "      <td>0.982755</td>\n",
       "      <td>0.887636</td>\n",
       "      <td>None</td>\n",
       "      <td>10</td>\n",
       "      <td>389125</td>\n",
       "      <td>12000</td>\n",
       "    </tr>\n",
       "    <tr>\n",
       "      <td>0</td>\n",
       "      <td>speedup</td>\n",
       "      <td>0.111354</td>\n",
       "      <td>0.360487</td>\n",
       "      <td>0.973082</td>\n",
       "      <td>0.767926</td>\n",
       "      <td>None</td>\n",
       "      <td>10</td>\n",
       "      <td>20000</td>\n",
       "      <td>12000</td>\n",
       "    </tr>\n",
       "    <tr>\n",
       "      <td>0</td>\n",
       "      <td>single tree</td>\n",
       "      <td>0.523713</td>\n",
       "      <td>0.580760</td>\n",
       "      <td>0.404598</td>\n",
       "      <td>0.397661</td>\n",
       "      <td>None</td>\n",
       "      <td>1</td>\n",
       "      <td>20000</td>\n",
       "      <td>12000</td>\n",
       "    </tr>\n",
       "  </tbody>\n",
       "</table>\n",
       "</div>"
      ],
      "text/plain": [
       "          config  rmse_train  rmse_dev  r2_train    r2_dev r2_oob  n_trees  \\\n",
       "0  baseline-slow    0.090836  0.250835  0.982755  0.887636   None       10   \n",
       "0        speedup    0.111354  0.360487  0.973082  0.767926   None       10   \n",
       "0    single tree    0.523713  0.580760  0.404598  0.397661   None        1   \n",
       "\n",
       "   train_size  dev_size  \n",
       "0      389125     12000  \n",
       "0       20000     12000  \n",
       "0       20000     12000  "
      ]
     },
     "execution_count": 32,
     "metadata": {},
     "output_type": "execute_result"
    }
   ],
   "source": [
    "results = pd.concat([tmp, results])\n",
    "results[::-1]"
   ]
  },
  {
   "cell_type": "code",
   "execution_count": 33,
   "metadata": {},
   "outputs": [
    {
     "data": {
      "image/png": "[encoded data removed]",
      "text/plain": [
       "<Figure size 576x648 with 4 Axes>"
      ]
     },
     "metadata": {
      "needs_background": "light"
     },
     "output_type": "display_data"
    }
   ],
   "source": [
    "cols = results.columns[:5]\n",
    "results[cols].plot.barh(\n",
    "    x='config',\n",
    "    subplots=True,\n",
    "    # rot=0,\n",
    "    ylim=(0,1),\n",
    "    # title=['']*4,\n",
    "    legend=False,\n",
    "    figsize=(8,3*results.shape[0])\n",
    ");"
   ]
  },
  {
   "cell_type": "markdown",
   "metadata": {},
   "source": [
    "Let's see what happens if we create a bigger tree."
   ]
  },
  {
   "cell_type": "code",
   "execution_count": 34,
   "metadata": {},
   "outputs": [
    {
     "data": {
      "text/plain": [
       "RandomForestRegressor(bootstrap=False, ccp_alpha=0.0, criterion='mse',\n",
       "                      max_depth=None, max_features='auto', max_leaf_nodes=None,\n",
       "                      max_samples=None, min_impurity_decrease=0.0,\n",
       "                      min_impurity_split=None, min_samples_leaf=1,\n",
       "                      min_samples_split=2, min_weight_fraction_leaf=0.0,\n",
       "                      n_estimators=1, n_jobs=-1, oob_score=False,\n",
       "                      random_state=None, verbose=0, warm_start=False)"
      ]
     },
     "execution_count": 34,
     "metadata": {},
     "output_type": "execute_result"
    }
   ],
   "source": [
    "m = RandomForestRegressor(n_estimators=1, bootstrap=False, n_jobs=-1)\n",
    "m.fit(X_train, y_train)"
   ]
  },
  {
   "cell_type": "code",
   "execution_count": 35,
   "metadata": {},
   "outputs": [
    {
     "data": {
      "text/html": [
       "<div>\n",
       "<style scoped>\n",
       "    .dataframe tbody tr th:only-of-type {\n",
       "        vertical-align: middle;\n",
       "    }\n",
       "\n",
       "    .dataframe tbody tr th {\n",
       "        vertical-align: top;\n",
       "    }\n",
       "\n",
       "    .dataframe thead th {\n",
       "        text-align: right;\n",
       "    }\n",
       "</style>\n",
       "<table border=\"1\" class=\"dataframe\">\n",
       "  <thead>\n",
       "    <tr style=\"text-align: right;\">\n",
       "      <th></th>\n",
       "      <th>config</th>\n",
       "      <th>rmse_train</th>\n",
       "      <th>rmse_dev</th>\n",
       "      <th>r2_train</th>\n",
       "      <th>r2_dev</th>\n",
       "      <th>r2_oob</th>\n",
       "      <th>n_trees</th>\n",
       "      <th>train_size</th>\n",
       "      <th>dev_size</th>\n",
       "    </tr>\n",
       "  </thead>\n",
       "  <tbody>\n",
       "    <tr>\n",
       "      <td>0</td>\n",
       "      <td>single deep tree</td>\n",
       "      <td>4.351168e-17</td>\n",
       "      <td>0.505234</td>\n",
       "      <td>1.0</td>\n",
       "      <td>0.544138</td>\n",
       "      <td>None</td>\n",
       "      <td>1</td>\n",
       "      <td>20000</td>\n",
       "      <td>12000</td>\n",
       "    </tr>\n",
       "  </tbody>\n",
       "</table>\n",
       "</div>"
      ],
      "text/plain": [
       "             config    rmse_train  rmse_dev  r2_train    r2_dev r2_oob  \\\n",
       "0  single deep tree  4.351168e-17  0.505234       1.0  0.544138   None   \n",
       "\n",
       "   n_trees  train_size  dev_size  \n",
       "0        1       20000     12000  "
      ]
     },
     "execution_count": 35,
     "metadata": {},
     "output_type": "execute_result"
    }
   ],
   "source": [
    "tmp = get_scores(m, 'single deep tree')\n",
    "tmp"
   ]
  },
  {
   "cell_type": "code",
   "execution_count": 36,
   "metadata": {},
   "outputs": [
    {
     "data": {
      "text/html": [
       "<div>\n",
       "<style scoped>\n",
       "    .dataframe tbody tr th:only-of-type {\n",
       "        vertical-align: middle;\n",
       "    }\n",
       "\n",
       "    .dataframe tbody tr th {\n",
       "        vertical-align: top;\n",
       "    }\n",
       "\n",
       "    .dataframe thead th {\n",
       "        text-align: right;\n",
       "    }\n",
       "</style>\n",
       "<table border=\"1\" class=\"dataframe\">\n",
       "  <thead>\n",
       "    <tr style=\"text-align: right;\">\n",
       "      <th></th>\n",
       "      <th>config</th>\n",
       "      <th>rmse_train</th>\n",
       "      <th>rmse_dev</th>\n",
       "      <th>r2_train</th>\n",
       "      <th>r2_dev</th>\n",
       "      <th>r2_oob</th>\n",
       "      <th>n_trees</th>\n",
       "      <th>train_size</th>\n",
       "      <th>dev_size</th>\n",
       "    </tr>\n",
       "  </thead>\n",
       "  <tbody>\n",
       "    <tr>\n",
       "      <td>0</td>\n",
       "      <td>baseline-slow</td>\n",
       "      <td>9.083630e-02</td>\n",
       "      <td>0.250835</td>\n",
       "      <td>0.982755</td>\n",
       "      <td>0.887636</td>\n",
       "      <td>None</td>\n",
       "      <td>10</td>\n",
       "      <td>389125</td>\n",
       "      <td>12000</td>\n",
       "    </tr>\n",
       "    <tr>\n",
       "      <td>0</td>\n",
       "      <td>speedup</td>\n",
       "      <td>1.113544e-01</td>\n",
       "      <td>0.360487</td>\n",
       "      <td>0.973082</td>\n",
       "      <td>0.767926</td>\n",
       "      <td>None</td>\n",
       "      <td>10</td>\n",
       "      <td>20000</td>\n",
       "      <td>12000</td>\n",
       "    </tr>\n",
       "    <tr>\n",
       "      <td>0</td>\n",
       "      <td>single tree</td>\n",
       "      <td>5.237125e-01</td>\n",
       "      <td>0.580760</td>\n",
       "      <td>0.404598</td>\n",
       "      <td>0.397661</td>\n",
       "      <td>None</td>\n",
       "      <td>1</td>\n",
       "      <td>20000</td>\n",
       "      <td>12000</td>\n",
       "    </tr>\n",
       "    <tr>\n",
       "      <td>0</td>\n",
       "      <td>single deep tree</td>\n",
       "      <td>4.351168e-17</td>\n",
       "      <td>0.505234</td>\n",
       "      <td>1.000000</td>\n",
       "      <td>0.544138</td>\n",
       "      <td>None</td>\n",
       "      <td>1</td>\n",
       "      <td>20000</td>\n",
       "      <td>12000</td>\n",
       "    </tr>\n",
       "  </tbody>\n",
       "</table>\n",
       "</div>"
      ],
      "text/plain": [
       "             config    rmse_train  rmse_dev  r2_train    r2_dev r2_oob  \\\n",
       "0     baseline-slow  9.083630e-02  0.250835  0.982755  0.887636   None   \n",
       "0           speedup  1.113544e-01  0.360487  0.973082  0.767926   None   \n",
       "0       single tree  5.237125e-01  0.580760  0.404598  0.397661   None   \n",
       "0  single deep tree  4.351168e-17  0.505234  1.000000  0.544138   None   \n",
       "\n",
       "   n_trees  train_size  dev_size  \n",
       "0       10      389125     12000  \n",
       "0       10       20000     12000  \n",
       "0        1       20000     12000  \n",
       "0        1       20000     12000  "
      ]
     },
     "execution_count": 36,
     "metadata": {},
     "output_type": "execute_result"
    }
   ],
   "source": [
    "results = pd.concat([tmp, results])\n",
    "results[::-1]"
   ]
  },
  {
   "cell_type": "code",
   "execution_count": 37,
   "metadata": {},
   "outputs": [
    {
     "data": {
      "image/png": "[encoded data removed]",
      "text/plain": [
       "<Figure size 576x864 with 4 Axes>"
      ]
     },
     "metadata": {
      "needs_background": "light"
     },
     "output_type": "display_data"
    }
   ],
   "source": [
    "cols = results.columns[:5]\n",
    "results[cols].plot.barh(\n",
    "    x='config',\n",
    "    subplots=True,\n",
    "    # rot=0,\n",
    "    ylim=(0,1),\n",
    "    # title=['']*4,\n",
    "    legend=False,\n",
    "    figsize=(8,3*results.shape[0])\n",
    ");"
   ]
  },
  {
   "cell_type": "markdown",
   "metadata": {},
   "source": [
    "The training set result looks great! But the validation set is worse than our original model. This is why we need to use *bagging* of multiple trees to get more generalizable results."
   ]
  },
  {
   "cell_type": "markdown",
   "metadata": {},
   "source": [
    "## Bagging"
   ]
  },
  {
   "cell_type": "markdown",
   "metadata": {},
   "source": [
    "### Intro to bagging"
   ]
  },
  {
   "cell_type": "markdown",
   "metadata": {},
   "source": [
    "To learn about bagging in random forests, let's start with our basic model again."
   ]
  },
  {
   "cell_type": "code",
   "execution_count": 38,
   "metadata": {},
   "outputs": [
    {
     "data": {
      "text/plain": [
       "RandomForestRegressor(bootstrap=True, ccp_alpha=0.0, criterion='mse',\n",
       "                      max_depth=None, max_features='auto', max_leaf_nodes=None,\n",
       "                      max_samples=None, min_impurity_decrease=0.0,\n",
       "                      min_impurity_split=None, min_samples_leaf=1,\n",
       "                      min_samples_split=2, min_weight_fraction_leaf=0.0,\n",
       "                      n_estimators=10, n_jobs=-1, oob_score=False,\n",
       "                      random_state=None, verbose=0, warm_start=False)"
      ]
     },
     "execution_count": 38,
     "metadata": {},
     "output_type": "execute_result"
    }
   ],
   "source": [
    "m = RandomForestRegressor(n_estimators=10, n_jobs=-1)\n",
    "m.fit(X_train, y_train)"
   ]
  },
  {
   "cell_type": "code",
   "execution_count": 39,
   "metadata": {},
   "outputs": [
    {
     "data": {
      "text/html": [
       "<div>\n",
       "<style scoped>\n",
       "    .dataframe tbody tr th:only-of-type {\n",
       "        vertical-align: middle;\n",
       "    }\n",
       "\n",
       "    .dataframe tbody tr th {\n",
       "        vertical-align: top;\n",
       "    }\n",
       "\n",
       "    .dataframe thead th {\n",
       "        text-align: right;\n",
       "    }\n",
       "</style>\n",
       "<table border=\"1\" class=\"dataframe\">\n",
       "  <thead>\n",
       "    <tr style=\"text-align: right;\">\n",
       "      <th></th>\n",
       "      <th>config</th>\n",
       "      <th>rmse_train</th>\n",
       "      <th>rmse_dev</th>\n",
       "      <th>r2_train</th>\n",
       "      <th>r2_dev</th>\n",
       "      <th>r2_oob</th>\n",
       "      <th>n_trees</th>\n",
       "      <th>train_size</th>\n",
       "      <th>dev_size</th>\n",
       "    </tr>\n",
       "  </thead>\n",
       "  <tbody>\n",
       "    <tr>\n",
       "      <td>0</td>\n",
       "      <td>baseline-fast</td>\n",
       "      <td>0.110845</td>\n",
       "      <td>0.356813</td>\n",
       "      <td>0.973328</td>\n",
       "      <td>0.772632</td>\n",
       "      <td>None</td>\n",
       "      <td>10</td>\n",
       "      <td>20000</td>\n",
       "      <td>12000</td>\n",
       "    </tr>\n",
       "  </tbody>\n",
       "</table>\n",
       "</div>"
      ],
      "text/plain": [
       "          config  rmse_train  rmse_dev  r2_train    r2_dev r2_oob  n_trees  \\\n",
       "0  baseline-fast    0.110845  0.356813  0.973328  0.772632   None       10   \n",
       "\n",
       "   train_size  dev_size  \n",
       "0       20000     12000  "
      ]
     },
     "execution_count": 39,
     "metadata": {},
     "output_type": "execute_result"
    }
   ],
   "source": [
    "tmp = get_scores(m, 'baseline-fast')\n",
    "tmp"
   ]
  },
  {
   "cell_type": "code",
   "execution_count": 40,
   "metadata": {},
   "outputs": [
    {
     "data": {
      "text/html": [
       "<div>\n",
       "<style scoped>\n",
       "    .dataframe tbody tr th:only-of-type {\n",
       "        vertical-align: middle;\n",
       "    }\n",
       "\n",
       "    .dataframe tbody tr th {\n",
       "        vertical-align: top;\n",
       "    }\n",
       "\n",
       "    .dataframe thead th {\n",
       "        text-align: right;\n",
       "    }\n",
       "</style>\n",
       "<table border=\"1\" class=\"dataframe\">\n",
       "  <thead>\n",
       "    <tr style=\"text-align: right;\">\n",
       "      <th></th>\n",
       "      <th>config</th>\n",
       "      <th>rmse_train</th>\n",
       "      <th>rmse_dev</th>\n",
       "      <th>r2_train</th>\n",
       "      <th>r2_dev</th>\n",
       "      <th>r2_oob</th>\n",
       "      <th>n_trees</th>\n",
       "      <th>train_size</th>\n",
       "      <th>dev_size</th>\n",
       "    </tr>\n",
       "  </thead>\n",
       "  <tbody>\n",
       "    <tr>\n",
       "      <td>0</td>\n",
       "      <td>baseline-slow</td>\n",
       "      <td>9.083630e-02</td>\n",
       "      <td>0.250835</td>\n",
       "      <td>0.982755</td>\n",
       "      <td>0.887636</td>\n",
       "      <td>None</td>\n",
       "      <td>10</td>\n",
       "      <td>389125</td>\n",
       "      <td>12000</td>\n",
       "    </tr>\n",
       "    <tr>\n",
       "      <td>0</td>\n",
       "      <td>speedup</td>\n",
       "      <td>1.113544e-01</td>\n",
       "      <td>0.360487</td>\n",
       "      <td>0.973082</td>\n",
       "      <td>0.767926</td>\n",
       "      <td>None</td>\n",
       "      <td>10</td>\n",
       "      <td>20000</td>\n",
       "      <td>12000</td>\n",
       "    </tr>\n",
       "    <tr>\n",
       "      <td>0</td>\n",
       "      <td>single tree</td>\n",
       "      <td>5.237125e-01</td>\n",
       "      <td>0.580760</td>\n",
       "      <td>0.404598</td>\n",
       "      <td>0.397661</td>\n",
       "      <td>None</td>\n",
       "      <td>1</td>\n",
       "      <td>20000</td>\n",
       "      <td>12000</td>\n",
       "    </tr>\n",
       "    <tr>\n",
       "      <td>0</td>\n",
       "      <td>single deep tree</td>\n",
       "      <td>4.351168e-17</td>\n",
       "      <td>0.505234</td>\n",
       "      <td>1.000000</td>\n",
       "      <td>0.544138</td>\n",
       "      <td>None</td>\n",
       "      <td>1</td>\n",
       "      <td>20000</td>\n",
       "      <td>12000</td>\n",
       "    </tr>\n",
       "    <tr>\n",
       "      <td>0</td>\n",
       "      <td>baseline-fast</td>\n",
       "      <td>1.108445e-01</td>\n",
       "      <td>0.356813</td>\n",
       "      <td>0.973328</td>\n",
       "      <td>0.772632</td>\n",
       "      <td>None</td>\n",
       "      <td>10</td>\n",
       "      <td>20000</td>\n",
       "      <td>12000</td>\n",
       "    </tr>\n",
       "  </tbody>\n",
       "</table>\n",
       "</div>"
      ],
      "text/plain": [
       "             config    rmse_train  rmse_dev  r2_train    r2_dev r2_oob  \\\n",
       "0     baseline-slow  9.083630e-02  0.250835  0.982755  0.887636   None   \n",
       "0           speedup  1.113544e-01  0.360487  0.973082  0.767926   None   \n",
       "0       single tree  5.237125e-01  0.580760  0.404598  0.397661   None   \n",
       "0  single deep tree  4.351168e-17  0.505234  1.000000  0.544138   None   \n",
       "0     baseline-fast  1.108445e-01  0.356813  0.973328  0.772632   None   \n",
       "\n",
       "   n_trees  train_size  dev_size  \n",
       "0       10      389125     12000  \n",
       "0       10       20000     12000  \n",
       "0        1       20000     12000  \n",
       "0        1       20000     12000  \n",
       "0       10       20000     12000  "
      ]
     },
     "execution_count": 40,
     "metadata": {},
     "output_type": "execute_result"
    }
   ],
   "source": [
    "results = pd.concat([tmp, results])\n",
    "results[::-1]"
   ]
  },
  {
   "cell_type": "code",
   "execution_count": 41,
   "metadata": {},
   "outputs": [
    {
     "data": {
      "image/png": "[encoded data removed]",
      "text/plain": [
       "<Figure size 576x1080 with 4 Axes>"
      ]
     },
     "metadata": {
      "needs_background": "light"
     },
     "output_type": "display_data"
    }
   ],
   "source": [
    "cols = results.columns[:5]\n",
    "results[cols].plot.barh(\n",
    "    x='config',\n",
    "    subplots=True,\n",
    "    # rot=0,\n",
    "    ylim=(0,1),\n",
    "    # title=['']*4,\n",
    "    legend=False,\n",
    "    figsize=(8,3*results.shape[0])\n",
    ");"
   ]
  },
  {
   "cell_type": "markdown",
   "metadata": {},
   "source": [
    "We'll grab the predictions for each individual tree, and look at one example."
   ]
  },
  {
   "cell_type": "code",
   "execution_count": 42,
   "metadata": {},
   "outputs": [
    {
     "data": {
      "text/plain": [
       "(array([9.30565, 9.21034, 9.10498, 9.3501 , 9.21034, 9.21034, 9.04782, 9.10498, 9.82553, 9.25913]),\n",
       " 9.262921168438755,\n",
       " 9.104979856318357)"
      ]
     },
     "execution_count": 42,
     "metadata": {},
     "output_type": "execute_result"
    }
   ],
   "source": [
    "preds = np.stack([t.predict(X_valid) for t in m.estimators_])\n",
    "preds[:,0], np.mean(preds[:,0]), y_valid[0]"
   ]
  },
  {
   "cell_type": "code",
   "execution_count": 43,
   "metadata": {},
   "outputs": [
    {
     "data": {
      "text/plain": [
       "(10, 12000)"
      ]
     },
     "execution_count": 43,
     "metadata": {},
     "output_type": "execute_result"
    }
   ],
   "source": [
    "preds.shape"
   ]
  },
  {
   "cell_type": "code",
   "execution_count": 44,
   "metadata": {},
   "outputs": [
    {
     "data": {
      "image/png": "[encoded data removed]",
      "text/plain": [
       "<Figure size 432x288 with 1 Axes>"
      ]
     },
     "metadata": {
      "needs_background": "light"
     },
     "output_type": "display_data"
    }
   ],
   "source": [
    "plt.plot([metrics.r2_score(y_valid, np.mean(preds[:i+1], axis=0)) for i in range(10)]);"
   ]
  },
  {
   "cell_type": "markdown",
   "metadata": {},
   "source": [
    "The shape of this curve suggests that adding more trees isn't going to help us much. Let's check. (Compare this to our original model on a sample)"
   ]
  },
  {
   "cell_type": "code",
   "execution_count": 45,
   "metadata": {},
   "outputs": [
    {
     "data": {
      "text/html": [
       "<div>\n",
       "<style scoped>\n",
       "    .dataframe tbody tr th:only-of-type {\n",
       "        vertical-align: middle;\n",
       "    }\n",
       "\n",
       "    .dataframe tbody tr th {\n",
       "        vertical-align: top;\n",
       "    }\n",
       "\n",
       "    .dataframe thead th {\n",
       "        text-align: right;\n",
       "    }\n",
       "</style>\n",
       "<table border=\"1\" class=\"dataframe\">\n",
       "  <thead>\n",
       "    <tr style=\"text-align: right;\">\n",
       "      <th></th>\n",
       "      <th>config</th>\n",
       "      <th>rmse_train</th>\n",
       "      <th>rmse_dev</th>\n",
       "      <th>r2_train</th>\n",
       "      <th>r2_dev</th>\n",
       "      <th>r2_oob</th>\n",
       "      <th>n_trees</th>\n",
       "      <th>train_size</th>\n",
       "      <th>dev_size</th>\n",
       "    </tr>\n",
       "  </thead>\n",
       "  <tbody>\n",
       "    <tr>\n",
       "      <td>0</td>\n",
       "      <td></td>\n",
       "      <td>0.101298</td>\n",
       "      <td>0.337389</td>\n",
       "      <td>0.977725</td>\n",
       "      <td>0.796713</td>\n",
       "      <td>None</td>\n",
       "      <td>20</td>\n",
       "      <td>20000</td>\n",
       "      <td>12000</td>\n",
       "    </tr>\n",
       "  </tbody>\n",
       "</table>\n",
       "</div>"
      ],
      "text/plain": [
       "  config  rmse_train  rmse_dev  r2_train    r2_dev r2_oob  n_trees  \\\n",
       "0           0.101298  0.337389  0.977725  0.796713   None       20   \n",
       "\n",
       "   train_size  dev_size  \n",
       "0       20000     12000  "
      ]
     },
     "execution_count": 45,
     "metadata": {},
     "output_type": "execute_result"
    }
   ],
   "source": [
    "m = RandomForestRegressor(n_estimators=20, n_jobs=-1)\n",
    "m.fit(X_train, y_train)\n",
    "get_scores(m, \"\")"
   ]
  },
  {
   "cell_type": "code",
   "execution_count": 46,
   "metadata": {},
   "outputs": [
    {
     "data": {
      "text/html": [
       "<div>\n",
       "<style scoped>\n",
       "    .dataframe tbody tr th:only-of-type {\n",
       "        vertical-align: middle;\n",
       "    }\n",
       "\n",
       "    .dataframe tbody tr th {\n",
       "        vertical-align: top;\n",
       "    }\n",
       "\n",
       "    .dataframe thead th {\n",
       "        text-align: right;\n",
       "    }\n",
       "</style>\n",
       "<table border=\"1\" class=\"dataframe\">\n",
       "  <thead>\n",
       "    <tr style=\"text-align: right;\">\n",
       "      <th></th>\n",
       "      <th>config</th>\n",
       "      <th>rmse_train</th>\n",
       "      <th>rmse_dev</th>\n",
       "      <th>r2_train</th>\n",
       "      <th>r2_dev</th>\n",
       "      <th>r2_oob</th>\n",
       "      <th>n_trees</th>\n",
       "      <th>train_size</th>\n",
       "      <th>dev_size</th>\n",
       "    </tr>\n",
       "  </thead>\n",
       "  <tbody>\n",
       "    <tr>\n",
       "      <td>0</td>\n",
       "      <td></td>\n",
       "      <td>0.096985</td>\n",
       "      <td>0.335088</td>\n",
       "      <td>0.979581</td>\n",
       "      <td>0.799476</td>\n",
       "      <td>None</td>\n",
       "      <td>40</td>\n",
       "      <td>20000</td>\n",
       "      <td>12000</td>\n",
       "    </tr>\n",
       "  </tbody>\n",
       "</table>\n",
       "</div>"
      ],
      "text/plain": [
       "  config  rmse_train  rmse_dev  r2_train    r2_dev r2_oob  n_trees  \\\n",
       "0           0.096985  0.335088  0.979581  0.799476   None       40   \n",
       "\n",
       "   train_size  dev_size  \n",
       "0       20000     12000  "
      ]
     },
     "execution_count": 46,
     "metadata": {},
     "output_type": "execute_result"
    }
   ],
   "source": [
    "m = RandomForestRegressor(n_estimators=40, n_jobs=-1)\n",
    "m.fit(X_train, y_train)\n",
    "get_scores(m, \"\")"
   ]
  },
  {
   "cell_type": "code",
   "execution_count": 47,
   "metadata": {},
   "outputs": [
    {
     "data": {
      "text/plain": [
       "RandomForestRegressor(bootstrap=True, ccp_alpha=0.0, criterion='mse',\n",
       "                      max_depth=None, max_features='auto', max_leaf_nodes=None,\n",
       "                      max_samples=None, min_impurity_decrease=0.0,\n",
       "                      min_impurity_split=None, min_samples_leaf=1,\n",
       "                      min_samples_split=2, min_weight_fraction_leaf=0.0,\n",
       "                      n_estimators=80, n_jobs=-1, oob_score=False,\n",
       "                      random_state=None, verbose=0, warm_start=False)"
      ]
     },
     "execution_count": 47,
     "metadata": {},
     "output_type": "execute_result"
    }
   ],
   "source": [
    "m = RandomForestRegressor(n_estimators=80, n_jobs=-1)\n",
    "m.fit(X_train, y_train)"
   ]
  },
  {
   "cell_type": "code",
   "execution_count": 48,
   "metadata": {},
   "outputs": [
    {
     "data": {
      "text/html": [
       "<div>\n",
       "<style scoped>\n",
       "    .dataframe tbody tr th:only-of-type {\n",
       "        vertical-align: middle;\n",
       "    }\n",
       "\n",
       "    .dataframe tbody tr th {\n",
       "        vertical-align: top;\n",
       "    }\n",
       "\n",
       "    .dataframe thead th {\n",
       "        text-align: right;\n",
       "    }\n",
       "</style>\n",
       "<table border=\"1\" class=\"dataframe\">\n",
       "  <thead>\n",
       "    <tr style=\"text-align: right;\">\n",
       "      <th></th>\n",
       "      <th>config</th>\n",
       "      <th>rmse_train</th>\n",
       "      <th>rmse_dev</th>\n",
       "      <th>r2_train</th>\n",
       "      <th>r2_dev</th>\n",
       "      <th>r2_oob</th>\n",
       "      <th>n_trees</th>\n",
       "      <th>train_size</th>\n",
       "      <th>dev_size</th>\n",
       "    </tr>\n",
       "  </thead>\n",
       "  <tbody>\n",
       "    <tr>\n",
       "      <td>0</td>\n",
       "      <td>baseline-fast-80</td>\n",
       "      <td>0.094509</td>\n",
       "      <td>0.3413</td>\n",
       "      <td>0.98061</td>\n",
       "      <td>0.791973</td>\n",
       "      <td>None</td>\n",
       "      <td>80</td>\n",
       "      <td>20000</td>\n",
       "      <td>12000</td>\n",
       "    </tr>\n",
       "  </tbody>\n",
       "</table>\n",
       "</div>"
      ],
      "text/plain": [
       "             config  rmse_train  rmse_dev  r2_train    r2_dev r2_oob  n_trees  \\\n",
       "0  baseline-fast-80    0.094509    0.3413   0.98061  0.791973   None       80   \n",
       "\n",
       "   train_size  dev_size  \n",
       "0       20000     12000  "
      ]
     },
     "execution_count": 48,
     "metadata": {},
     "output_type": "execute_result"
    }
   ],
   "source": [
    "tmp = get_scores(m, \"baseline-fast-80\")\n",
    "tmp"
   ]
  },
  {
   "cell_type": "code",
   "execution_count": 49,
   "metadata": {},
   "outputs": [
    {
     "data": {
      "text/html": [
       "<div>\n",
       "<style scoped>\n",
       "    .dataframe tbody tr th:only-of-type {\n",
       "        vertical-align: middle;\n",
       "    }\n",
       "\n",
       "    .dataframe tbody tr th {\n",
       "        vertical-align: top;\n",
       "    }\n",
       "\n",
       "    .dataframe thead th {\n",
       "        text-align: right;\n",
       "    }\n",
       "</style>\n",
       "<table border=\"1\" class=\"dataframe\">\n",
       "  <thead>\n",
       "    <tr style=\"text-align: right;\">\n",
       "      <th></th>\n",
       "      <th>config</th>\n",
       "      <th>rmse_train</th>\n",
       "      <th>rmse_dev</th>\n",
       "      <th>r2_train</th>\n",
       "      <th>r2_dev</th>\n",
       "      <th>r2_oob</th>\n",
       "      <th>n_trees</th>\n",
       "      <th>train_size</th>\n",
       "      <th>dev_size</th>\n",
       "    </tr>\n",
       "  </thead>\n",
       "  <tbody>\n",
       "    <tr>\n",
       "      <td>0</td>\n",
       "      <td>baseline-slow</td>\n",
       "      <td>9.083630e-02</td>\n",
       "      <td>0.250835</td>\n",
       "      <td>0.982755</td>\n",
       "      <td>0.887636</td>\n",
       "      <td>None</td>\n",
       "      <td>10</td>\n",
       "      <td>389125</td>\n",
       "      <td>12000</td>\n",
       "    </tr>\n",
       "    <tr>\n",
       "      <td>0</td>\n",
       "      <td>speedup</td>\n",
       "      <td>1.113544e-01</td>\n",
       "      <td>0.360487</td>\n",
       "      <td>0.973082</td>\n",
       "      <td>0.767926</td>\n",
       "      <td>None</td>\n",
       "      <td>10</td>\n",
       "      <td>20000</td>\n",
       "      <td>12000</td>\n",
       "    </tr>\n",
       "    <tr>\n",
       "      <td>0</td>\n",
       "      <td>single tree</td>\n",
       "      <td>5.237125e-01</td>\n",
       "      <td>0.580760</td>\n",
       "      <td>0.404598</td>\n",
       "      <td>0.397661</td>\n",
       "      <td>None</td>\n",
       "      <td>1</td>\n",
       "      <td>20000</td>\n",
       "      <td>12000</td>\n",
       "    </tr>\n",
       "    <tr>\n",
       "      <td>0</td>\n",
       "      <td>single deep tree</td>\n",
       "      <td>4.351168e-17</td>\n",
       "      <td>0.505234</td>\n",
       "      <td>1.000000</td>\n",
       "      <td>0.544138</td>\n",
       "      <td>None</td>\n",
       "      <td>1</td>\n",
       "      <td>20000</td>\n",
       "      <td>12000</td>\n",
       "    </tr>\n",
       "    <tr>\n",
       "      <td>0</td>\n",
       "      <td>baseline-fast</td>\n",
       "      <td>1.108445e-01</td>\n",
       "      <td>0.356813</td>\n",
       "      <td>0.973328</td>\n",
       "      <td>0.772632</td>\n",
       "      <td>None</td>\n",
       "      <td>10</td>\n",
       "      <td>20000</td>\n",
       "      <td>12000</td>\n",
       "    </tr>\n",
       "    <tr>\n",
       "      <td>0</td>\n",
       "      <td>baseline-fast-80</td>\n",
       "      <td>9.450899e-02</td>\n",
       "      <td>0.341300</td>\n",
       "      <td>0.980610</td>\n",
       "      <td>0.791973</td>\n",
       "      <td>None</td>\n",
       "      <td>80</td>\n",
       "      <td>20000</td>\n",
       "      <td>12000</td>\n",
       "    </tr>\n",
       "  </tbody>\n",
       "</table>\n",
       "</div>"
      ],
      "text/plain": [
       "             config    rmse_train  rmse_dev  r2_train    r2_dev r2_oob  \\\n",
       "0     baseline-slow  9.083630e-02  0.250835  0.982755  0.887636   None   \n",
       "0           speedup  1.113544e-01  0.360487  0.973082  0.767926   None   \n",
       "0       single tree  5.237125e-01  0.580760  0.404598  0.397661   None   \n",
       "0  single deep tree  4.351168e-17  0.505234  1.000000  0.544138   None   \n",
       "0     baseline-fast  1.108445e-01  0.356813  0.973328  0.772632   None   \n",
       "0  baseline-fast-80  9.450899e-02  0.341300  0.980610  0.791973   None   \n",
       "\n",
       "   n_trees  train_size  dev_size  \n",
       "0       10      389125     12000  \n",
       "0       10       20000     12000  \n",
       "0        1       20000     12000  \n",
       "0        1       20000     12000  \n",
       "0       10       20000     12000  \n",
       "0       80       20000     12000  "
      ]
     },
     "execution_count": 49,
     "metadata": {},
     "output_type": "execute_result"
    }
   ],
   "source": [
    "results = pd.concat([tmp, results])\n",
    "results[::-1]"
   ]
  },
  {
   "cell_type": "code",
   "execution_count": 50,
   "metadata": {},
   "outputs": [
    {
     "data": {
      "image/png": "[encoded data removed]",
      "text/plain": [
       "<Figure size 576x1296 with 4 Axes>"
      ]
     },
     "metadata": {
      "needs_background": "light"
     },
     "output_type": "display_data"
    }
   ],
   "source": [
    "cols = results.columns[:5]\n",
    "results[cols].plot.barh(\n",
    "    x='config',\n",
    "    subplots=True,\n",
    "    # rot=45,\n",
    "    ylim=(0,1),\n",
    "    # title=['']*4,\n",
    "    legend=False,\n",
    "    figsize=(8,3*results.shape[0])\n",
    ");"
   ]
  },
  {
   "cell_type": "markdown",
   "metadata": {},
   "source": [
    "### Out-of-bag (OOB) score"
   ]
  },
  {
   "cell_type": "markdown",
   "metadata": {},
   "source": [
    "Is our validation set worse than our training set because we're over-fitting, or because the validation set is for a different time period, or a bit of both? With the existing information we've shown, we can't tell. However, random forests have a very clever trick called *out-of-bag (OOB) error* which can handle this (and more!)\n",
    "\n",
    "The idea is to calculate error on the training set, but only include the trees in the calculation of a row's error where that row was *not* included in training that tree. This allows us to see whether the model is over-fitting, without needing a separate validation set.\n",
    "\n",
    "This also has the benefit of allowing us to see whether our model generalizes, even if we only have a small amount of data so want to avoid separating some out to create a validation set.\n",
    "\n",
    "This is as simple as adding one more parameter to our model constructor. We print the OOB error last in our `print_score` function below."
   ]
  },
  {
   "cell_type": "code",
   "execution_count": 51,
   "metadata": {},
   "outputs": [
    {
     "data": {
      "text/plain": [
       "RandomForestRegressor(bootstrap=True, ccp_alpha=0.0, criterion='mse',\n",
       "                      max_depth=None, max_features='auto', max_leaf_nodes=None,\n",
       "                      max_samples=None, min_impurity_decrease=0.0,\n",
       "                      min_impurity_split=None, min_samples_leaf=1,\n",
       "                      min_samples_split=2, min_weight_fraction_leaf=0.0,\n",
       "                      n_estimators=40, n_jobs=-1, oob_score=True,\n",
       "                      random_state=None, verbose=0, warm_start=False)"
      ]
     },
     "execution_count": 51,
     "metadata": {},
     "output_type": "execute_result"
    }
   ],
   "source": [
    "m = RandomForestRegressor(n_estimators=40, n_jobs=-1, oob_score=True)\n",
    "m.fit(X_train, y_train)"
   ]
  },
  {
   "cell_type": "code",
   "execution_count": 52,
   "metadata": {},
   "outputs": [
    {
     "data": {
      "text/html": [
       "<div>\n",
       "<style scoped>\n",
       "    .dataframe tbody tr th:only-of-type {\n",
       "        vertical-align: middle;\n",
       "    }\n",
       "\n",
       "    .dataframe tbody tr th {\n",
       "        vertical-align: top;\n",
       "    }\n",
       "\n",
       "    .dataframe thead th {\n",
       "        text-align: right;\n",
       "    }\n",
       "</style>\n",
       "<table border=\"1\" class=\"dataframe\">\n",
       "  <thead>\n",
       "    <tr style=\"text-align: right;\">\n",
       "      <th></th>\n",
       "      <th>config</th>\n",
       "      <th>rmse_train</th>\n",
       "      <th>rmse_dev</th>\n",
       "      <th>r2_train</th>\n",
       "      <th>r2_dev</th>\n",
       "      <th>r2_oob</th>\n",
       "      <th>n_trees</th>\n",
       "      <th>train_size</th>\n",
       "      <th>dev_size</th>\n",
       "    </tr>\n",
       "  </thead>\n",
       "  <tbody>\n",
       "    <tr>\n",
       "      <td>0</td>\n",
       "      <td>baseline-fast-40-oob</td>\n",
       "      <td>0.097262</td>\n",
       "      <td>0.340374</td>\n",
       "      <td>0.979464</td>\n",
       "      <td>0.7931</td>\n",
       "      <td>0.853302</td>\n",
       "      <td>40</td>\n",
       "      <td>20000</td>\n",
       "      <td>12000</td>\n",
       "    </tr>\n",
       "  </tbody>\n",
       "</table>\n",
       "</div>"
      ],
      "text/plain": [
       "                 config  rmse_train  rmse_dev  r2_train  r2_dev    r2_oob  \\\n",
       "0  baseline-fast-40-oob    0.097262  0.340374  0.979464  0.7931  0.853302   \n",
       "\n",
       "   n_trees  train_size  dev_size  \n",
       "0       40       20000     12000  "
      ]
     },
     "execution_count": 52,
     "metadata": {},
     "output_type": "execute_result"
    }
   ],
   "source": [
    "tmp = get_scores(m, \"baseline-fast-40-oob\")\n",
    "tmp"
   ]
  },
  {
   "cell_type": "code",
   "execution_count": 53,
   "metadata": {},
   "outputs": [
    {
     "data": {
      "text/html": [
       "<div>\n",
       "<style scoped>\n",
       "    .dataframe tbody tr th:only-of-type {\n",
       "        vertical-align: middle;\n",
       "    }\n",
       "\n",
       "    .dataframe tbody tr th {\n",
       "        vertical-align: top;\n",
       "    }\n",
       "\n",
       "    .dataframe thead th {\n",
       "        text-align: right;\n",
       "    }\n",
       "</style>\n",
       "<table border=\"1\" class=\"dataframe\">\n",
       "  <thead>\n",
       "    <tr style=\"text-align: right;\">\n",
       "      <th></th>\n",
       "      <th>config</th>\n",
       "      <th>rmse_train</th>\n",
       "      <th>rmse_dev</th>\n",
       "      <th>r2_train</th>\n",
       "      <th>r2_dev</th>\n",
       "      <th>r2_oob</th>\n",
       "      <th>n_trees</th>\n",
       "      <th>train_size</th>\n",
       "      <th>dev_size</th>\n",
       "    </tr>\n",
       "  </thead>\n",
       "  <tbody>\n",
       "    <tr>\n",
       "      <td>0</td>\n",
       "      <td>baseline-slow</td>\n",
       "      <td>9.083630e-02</td>\n",
       "      <td>0.250835</td>\n",
       "      <td>0.982755</td>\n",
       "      <td>0.887636</td>\n",
       "      <td>None</td>\n",
       "      <td>10</td>\n",
       "      <td>389125</td>\n",
       "      <td>12000</td>\n",
       "    </tr>\n",
       "    <tr>\n",
       "      <td>0</td>\n",
       "      <td>speedup</td>\n",
       "      <td>1.113544e-01</td>\n",
       "      <td>0.360487</td>\n",
       "      <td>0.973082</td>\n",
       "      <td>0.767926</td>\n",
       "      <td>None</td>\n",
       "      <td>10</td>\n",
       "      <td>20000</td>\n",
       "      <td>12000</td>\n",
       "    </tr>\n",
       "    <tr>\n",
       "      <td>0</td>\n",
       "      <td>single tree</td>\n",
       "      <td>5.237125e-01</td>\n",
       "      <td>0.580760</td>\n",
       "      <td>0.404598</td>\n",
       "      <td>0.397661</td>\n",
       "      <td>None</td>\n",
       "      <td>1</td>\n",
       "      <td>20000</td>\n",
       "      <td>12000</td>\n",
       "    </tr>\n",
       "    <tr>\n",
       "      <td>0</td>\n",
       "      <td>single deep tree</td>\n",
       "      <td>4.351168e-17</td>\n",
       "      <td>0.505234</td>\n",
       "      <td>1.000000</td>\n",
       "      <td>0.544138</td>\n",
       "      <td>None</td>\n",
       "      <td>1</td>\n",
       "      <td>20000</td>\n",
       "      <td>12000</td>\n",
       "    </tr>\n",
       "    <tr>\n",
       "      <td>0</td>\n",
       "      <td>baseline-fast</td>\n",
       "      <td>1.108445e-01</td>\n",
       "      <td>0.356813</td>\n",
       "      <td>0.973328</td>\n",
       "      <td>0.772632</td>\n",
       "      <td>None</td>\n",
       "      <td>10</td>\n",
       "      <td>20000</td>\n",
       "      <td>12000</td>\n",
       "    </tr>\n",
       "    <tr>\n",
       "      <td>0</td>\n",
       "      <td>baseline-fast-80</td>\n",
       "      <td>9.450899e-02</td>\n",
       "      <td>0.341300</td>\n",
       "      <td>0.980610</td>\n",
       "      <td>0.791973</td>\n",
       "      <td>None</td>\n",
       "      <td>80</td>\n",
       "      <td>20000</td>\n",
       "      <td>12000</td>\n",
       "    </tr>\n",
       "    <tr>\n",
       "      <td>0</td>\n",
       "      <td>baseline-fast-40-oob</td>\n",
       "      <td>9.726234e-02</td>\n",
       "      <td>0.340374</td>\n",
       "      <td>0.979464</td>\n",
       "      <td>0.793100</td>\n",
       "      <td>0.853302</td>\n",
       "      <td>40</td>\n",
       "      <td>20000</td>\n",
       "      <td>12000</td>\n",
       "    </tr>\n",
       "  </tbody>\n",
       "</table>\n",
       "</div>"
      ],
      "text/plain": [
       "                 config    rmse_train  rmse_dev  r2_train    r2_dev    r2_oob  \\\n",
       "0         baseline-slow  9.083630e-02  0.250835  0.982755  0.887636      None   \n",
       "0               speedup  1.113544e-01  0.360487  0.973082  0.767926      None   \n",
       "0           single tree  5.237125e-01  0.580760  0.404598  0.397661      None   \n",
       "0      single deep tree  4.351168e-17  0.505234  1.000000  0.544138      None   \n",
       "0         baseline-fast  1.108445e-01  0.356813  0.973328  0.772632      None   \n",
       "0      baseline-fast-80  9.450899e-02  0.341300  0.980610  0.791973      None   \n",
       "0  baseline-fast-40-oob  9.726234e-02  0.340374  0.979464  0.793100  0.853302   \n",
       "\n",
       "   n_trees  train_size  dev_size  \n",
       "0       10      389125     12000  \n",
       "0       10       20000     12000  \n",
       "0        1       20000     12000  \n",
       "0        1       20000     12000  \n",
       "0       10       20000     12000  \n",
       "0       80       20000     12000  \n",
       "0       40       20000     12000  "
      ]
     },
     "execution_count": 53,
     "metadata": {},
     "output_type": "execute_result"
    }
   ],
   "source": [
    "results = pd.concat([tmp, results])\n",
    "results[::-1]"
   ]
  },
  {
   "cell_type": "markdown",
   "metadata": {},
   "source": [
    "This shows that our validation set time difference is making an impact, as is model over-fitting."
   ]
  },
  {
   "cell_type": "markdown",
   "metadata": {},
   "source": [
    "## Reducing over-fitting"
   ]
  },
  {
   "cell_type": "markdown",
   "metadata": {},
   "source": [
    "### Subsampling"
   ]
  },
  {
   "cell_type": "markdown",
   "metadata": {},
   "source": [
    "It turns out that one of the easiest ways to avoid over-fitting is also one of the best ways to speed up analysis: *subsampling*. Let's return to using our full dataset, so that we can demonstrate the impact of this technique."
   ]
  },
  {
   "cell_type": "code",
   "execution_count": 54,
   "metadata": {},
   "outputs": [],
   "source": [
    "df_trn, y_trn, nas = proc_df(df_raw, 'SalePrice')\n",
    "X_train, X_valid = split_vals(df_trn, n_trn)\n",
    "y_train, y_valid = split_vals(y_trn, n_trn)"
   ]
  },
  {
   "cell_type": "markdown",
   "metadata": {},
   "source": [
    "The basic idea is this: rather than limit the total amount of data that our model can access, let's instead limit it to a *different* random subset per tree. That way, given enough trees, the model can still see *all* the data, but for each individual tree it'll be just as fast as if we had cut down our dataset as before."
   ]
  },
  {
   "cell_type": "code",
   "execution_count": 55,
   "metadata": {},
   "outputs": [],
   "source": [
    "set_rf_samples(20000)"
   ]
  },
  {
   "cell_type": "code",
   "execution_count": 56,
   "metadata": {},
   "outputs": [
    {
     "name": "stdout",
     "output_type": "stream",
     "text": [
      "CPU times: user 1min 19s, sys: 735 ms, total: 1min 20s\n",
      "Wall time: 10.3 s\n"
     ]
    },
    {
     "name": "stderr",
     "output_type": "stream",
     "text": [
      "/Users/shaojun/opt/anaconda3/lib/python3.6/site-packages/sklearn/ensemble/_forest.py:815: UserWarning: Some inputs do not have OOB scores. This probably means too few trees were used to compute any reliable oob estimates.\n",
      "  warn(\"Some inputs do not have OOB scores. \"\n"
     ]
    },
    {
     "data": {
      "text/plain": [
       "RandomForestRegressor(bootstrap=True, ccp_alpha=0.0, criterion='mse',\n",
       "                      max_depth=None, max_features='auto', max_leaf_nodes=None,\n",
       "                      max_samples=None, min_impurity_decrease=0.0,\n",
       "                      min_impurity_split=None, min_samples_leaf=1,\n",
       "                      min_samples_split=2, min_weight_fraction_leaf=0.0,\n",
       "                      n_estimators=10, n_jobs=-1, oob_score=True,\n",
       "                      random_state=None, verbose=0, warm_start=False)"
      ]
     },
     "execution_count": 56,
     "metadata": {},
     "output_type": "execute_result"
    }
   ],
   "source": [
    "m = RandomForestRegressor(n_estimators=10, n_jobs=-1, oob_score=True)\n",
    "%time m.fit(X_train, y_train)"
   ]
  },
  {
   "cell_type": "code",
   "execution_count": 57,
   "metadata": {},
   "outputs": [
    {
     "data": {
      "text/html": [
       "<div>\n",
       "<style scoped>\n",
       "    .dataframe tbody tr th:only-of-type {\n",
       "        vertical-align: middle;\n",
       "    }\n",
       "\n",
       "    .dataframe tbody tr th {\n",
       "        vertical-align: top;\n",
       "    }\n",
       "\n",
       "    .dataframe thead th {\n",
       "        text-align: right;\n",
       "    }\n",
       "</style>\n",
       "<table border=\"1\" class=\"dataframe\">\n",
       "  <thead>\n",
       "    <tr style=\"text-align: right;\">\n",
       "      <th></th>\n",
       "      <th>config</th>\n",
       "      <th>rmse_train</th>\n",
       "      <th>rmse_dev</th>\n",
       "      <th>r2_train</th>\n",
       "      <th>r2_dev</th>\n",
       "      <th>r2_oob</th>\n",
       "      <th>n_trees</th>\n",
       "      <th>train_size</th>\n",
       "      <th>dev_size</th>\n",
       "    </tr>\n",
       "  </thead>\n",
       "  <tbody>\n",
       "    <tr>\n",
       "      <td>0</td>\n",
       "      <td>baseline-subsample-10</td>\n",
       "      <td>0.090672</td>\n",
       "      <td>0.250642</td>\n",
       "      <td>0.982818</td>\n",
       "      <td>0.887809</td>\n",
       "      <td>None</td>\n",
       "      <td>10</td>\n",
       "      <td>389125</td>\n",
       "      <td>12000</td>\n",
       "    </tr>\n",
       "  </tbody>\n",
       "</table>\n",
       "</div>"
      ],
      "text/plain": [
       "                  config  rmse_train  rmse_dev  r2_train    r2_dev r2_oob  \\\n",
       "0  baseline-subsample-10    0.090672  0.250642  0.982818  0.887809   None   \n",
       "\n",
       "   n_trees  train_size  dev_size  \n",
       "0       10      389125     12000  "
      ]
     },
     "execution_count": 57,
     "metadata": {},
     "output_type": "execute_result"
    }
   ],
   "source": [
    "tmp = get_scores(m, \"baseline-subsample-10\")\n",
    "tmp"
   ]
  },
  {
   "cell_type": "code",
   "execution_count": 58,
   "metadata": {},
   "outputs": [
    {
     "data": {
      "text/html": [
       "<div>\n",
       "<style scoped>\n",
       "    .dataframe tbody tr th:only-of-type {\n",
       "        vertical-align: middle;\n",
       "    }\n",
       "\n",
       "    .dataframe tbody tr th {\n",
       "        vertical-align: top;\n",
       "    }\n",
       "\n",
       "    .dataframe thead th {\n",
       "        text-align: right;\n",
       "    }\n",
       "</style>\n",
       "<table border=\"1\" class=\"dataframe\">\n",
       "  <thead>\n",
       "    <tr style=\"text-align: right;\">\n",
       "      <th></th>\n",
       "      <th>config</th>\n",
       "      <th>rmse_train</th>\n",
       "      <th>rmse_dev</th>\n",
       "      <th>r2_train</th>\n",
       "      <th>r2_dev</th>\n",
       "      <th>r2_oob</th>\n",
       "      <th>n_trees</th>\n",
       "      <th>train_size</th>\n",
       "      <th>dev_size</th>\n",
       "    </tr>\n",
       "  </thead>\n",
       "  <tbody>\n",
       "    <tr>\n",
       "      <td>0</td>\n",
       "      <td>baseline-slow</td>\n",
       "      <td>9.083630e-02</td>\n",
       "      <td>0.250835</td>\n",
       "      <td>0.982755</td>\n",
       "      <td>0.887636</td>\n",
       "      <td>None</td>\n",
       "      <td>10</td>\n",
       "      <td>389125</td>\n",
       "      <td>12000</td>\n",
       "    </tr>\n",
       "    <tr>\n",
       "      <td>0</td>\n",
       "      <td>speedup</td>\n",
       "      <td>1.113544e-01</td>\n",
       "      <td>0.360487</td>\n",
       "      <td>0.973082</td>\n",
       "      <td>0.767926</td>\n",
       "      <td>None</td>\n",
       "      <td>10</td>\n",
       "      <td>20000</td>\n",
       "      <td>12000</td>\n",
       "    </tr>\n",
       "    <tr>\n",
       "      <td>0</td>\n",
       "      <td>single tree</td>\n",
       "      <td>5.237125e-01</td>\n",
       "      <td>0.580760</td>\n",
       "      <td>0.404598</td>\n",
       "      <td>0.397661</td>\n",
       "      <td>None</td>\n",
       "      <td>1</td>\n",
       "      <td>20000</td>\n",
       "      <td>12000</td>\n",
       "    </tr>\n",
       "    <tr>\n",
       "      <td>0</td>\n",
       "      <td>single deep tree</td>\n",
       "      <td>4.351168e-17</td>\n",
       "      <td>0.505234</td>\n",
       "      <td>1.000000</td>\n",
       "      <td>0.544138</td>\n",
       "      <td>None</td>\n",
       "      <td>1</td>\n",
       "      <td>20000</td>\n",
       "      <td>12000</td>\n",
       "    </tr>\n",
       "    <tr>\n",
       "      <td>0</td>\n",
       "      <td>baseline-fast</td>\n",
       "      <td>1.108445e-01</td>\n",
       "      <td>0.356813</td>\n",
       "      <td>0.973328</td>\n",
       "      <td>0.772632</td>\n",
       "      <td>None</td>\n",
       "      <td>10</td>\n",
       "      <td>20000</td>\n",
       "      <td>12000</td>\n",
       "    </tr>\n",
       "    <tr>\n",
       "      <td>0</td>\n",
       "      <td>baseline-fast-80</td>\n",
       "      <td>9.450899e-02</td>\n",
       "      <td>0.341300</td>\n",
       "      <td>0.980610</td>\n",
       "      <td>0.791973</td>\n",
       "      <td>None</td>\n",
       "      <td>80</td>\n",
       "      <td>20000</td>\n",
       "      <td>12000</td>\n",
       "    </tr>\n",
       "    <tr>\n",
       "      <td>0</td>\n",
       "      <td>baseline-fast-40-oob</td>\n",
       "      <td>9.726234e-02</td>\n",
       "      <td>0.340374</td>\n",
       "      <td>0.979464</td>\n",
       "      <td>0.793100</td>\n",
       "      <td>0.853302</td>\n",
       "      <td>40</td>\n",
       "      <td>20000</td>\n",
       "      <td>12000</td>\n",
       "    </tr>\n",
       "    <tr>\n",
       "      <td>0</td>\n",
       "      <td>baseline-subsample-10</td>\n",
       "      <td>9.067175e-02</td>\n",
       "      <td>0.250642</td>\n",
       "      <td>0.982818</td>\n",
       "      <td>0.887809</td>\n",
       "      <td>None</td>\n",
       "      <td>10</td>\n",
       "      <td>389125</td>\n",
       "      <td>12000</td>\n",
       "    </tr>\n",
       "  </tbody>\n",
       "</table>\n",
       "</div>"
      ],
      "text/plain": [
       "                  config    rmse_train  rmse_dev  r2_train    r2_dev  \\\n",
       "0          baseline-slow  9.083630e-02  0.250835  0.982755  0.887636   \n",
       "0                speedup  1.113544e-01  0.360487  0.973082  0.767926   \n",
       "0            single tree  5.237125e-01  0.580760  0.404598  0.397661   \n",
       "0       single deep tree  4.351168e-17  0.505234  1.000000  0.544138   \n",
       "0          baseline-fast  1.108445e-01  0.356813  0.973328  0.772632   \n",
       "0       baseline-fast-80  9.450899e-02  0.341300  0.980610  0.791973   \n",
       "0   baseline-fast-40-oob  9.726234e-02  0.340374  0.979464  0.793100   \n",
       "0  baseline-subsample-10  9.067175e-02  0.250642  0.982818  0.887809   \n",
       "\n",
       "     r2_oob  n_trees  train_size  dev_size  \n",
       "0      None       10      389125     12000  \n",
       "0      None       10       20000     12000  \n",
       "0      None        1       20000     12000  \n",
       "0      None        1       20000     12000  \n",
       "0      None       10       20000     12000  \n",
       "0      None       80       20000     12000  \n",
       "0  0.853302       40       20000     12000  \n",
       "0      None       10      389125     12000  "
      ]
     },
     "execution_count": 58,
     "metadata": {},
     "output_type": "execute_result"
    }
   ],
   "source": [
    "results = pd.concat([tmp, results])\n",
    "results[::-1]"
   ]
  },
  {
   "cell_type": "code",
   "execution_count": 59,
   "metadata": {},
   "outputs": [
    {
     "data": {
      "image/png": "[encoded data removed]",
      "text/plain": [
       "<Figure size 576x1728 with 4 Axes>"
      ]
     },
     "metadata": {
      "needs_background": "light"
     },
     "output_type": "display_data"
    }
   ],
   "source": [
    "cols = results.columns[:5]\n",
    "results[cols].plot.barh(\n",
    "    x='config',\n",
    "    subplots=True,\n",
    "    # rot=45,\n",
    "    ylim=(0,1),\n",
    "    # title=['']*4,\n",
    "    legend=False,\n",
    "    figsize=(8,3*results.shape[0])\n",
    ");"
   ]
  },
  {
   "cell_type": "markdown",
   "metadata": {},
   "source": [
    "Since each additional tree allows the model to see more data, this approach can make additional trees more useful."
   ]
  },
  {
   "cell_type": "code",
   "execution_count": 60,
   "metadata": {},
   "outputs": [
    {
     "data": {
      "text/plain": [
       "RandomForestRegressor(bootstrap=True, ccp_alpha=0.0, criterion='mse',\n",
       "                      max_depth=None, max_features='auto', max_leaf_nodes=None,\n",
       "                      max_samples=None, min_impurity_decrease=0.0,\n",
       "                      min_impurity_split=None, min_samples_leaf=1,\n",
       "                      min_samples_split=2, min_weight_fraction_leaf=0.0,\n",
       "                      n_estimators=40, n_jobs=-1, oob_score=True,\n",
       "                      random_state=None, verbose=0, warm_start=False)"
      ]
     },
     "execution_count": 60,
     "metadata": {},
     "output_type": "execute_result"
    }
   ],
   "source": [
    "m = RandomForestRegressor(n_estimators=40, n_jobs=-1, oob_score=True)\n",
    "m.fit(X_train, y_train)"
   ]
  },
  {
   "cell_type": "code",
   "execution_count": 61,
   "metadata": {},
   "outputs": [
    {
     "data": {
      "text/html": [
       "<div>\n",
       "<style scoped>\n",
       "    .dataframe tbody tr th:only-of-type {\n",
       "        vertical-align: middle;\n",
       "    }\n",
       "\n",
       "    .dataframe tbody tr th {\n",
       "        vertical-align: top;\n",
       "    }\n",
       "\n",
       "    .dataframe thead th {\n",
       "        text-align: right;\n",
       "    }\n",
       "</style>\n",
       "<table border=\"1\" class=\"dataframe\">\n",
       "  <thead>\n",
       "    <tr style=\"text-align: right;\">\n",
       "      <th></th>\n",
       "      <th>config</th>\n",
       "      <th>rmse_train</th>\n",
       "      <th>rmse_dev</th>\n",
       "      <th>r2_train</th>\n",
       "      <th>r2_dev</th>\n",
       "      <th>r2_oob</th>\n",
       "      <th>n_trees</th>\n",
       "      <th>train_size</th>\n",
       "      <th>dev_size</th>\n",
       "    </tr>\n",
       "  </thead>\n",
       "  <tbody>\n",
       "    <tr>\n",
       "      <td>0</td>\n",
       "      <td>baseline-subsample-40</td>\n",
       "      <td>0.078468</td>\n",
       "      <td>0.237733</td>\n",
       "      <td>0.987132</td>\n",
       "      <td>0.899068</td>\n",
       "      <td>0.90811</td>\n",
       "      <td>40</td>\n",
       "      <td>389125</td>\n",
       "      <td>12000</td>\n",
       "    </tr>\n",
       "  </tbody>\n",
       "</table>\n",
       "</div>"
      ],
      "text/plain": [
       "                  config  rmse_train  rmse_dev  r2_train    r2_dev   r2_oob  \\\n",
       "0  baseline-subsample-40    0.078468  0.237733  0.987132  0.899068  0.90811   \n",
       "\n",
       "   n_trees  train_size  dev_size  \n",
       "0       40      389125     12000  "
      ]
     },
     "execution_count": 61,
     "metadata": {},
     "output_type": "execute_result"
    }
   ],
   "source": [
    "tmp = get_scores(m, \"baseline-subsample-40\")\n",
    "tmp"
   ]
  },
  {
   "cell_type": "code",
   "execution_count": 62,
   "metadata": {},
   "outputs": [
    {
     "data": {
      "text/html": [
       "<div>\n",
       "<style scoped>\n",
       "    .dataframe tbody tr th:only-of-type {\n",
       "        vertical-align: middle;\n",
       "    }\n",
       "\n",
       "    .dataframe tbody tr th {\n",
       "        vertical-align: top;\n",
       "    }\n",
       "\n",
       "    .dataframe thead th {\n",
       "        text-align: right;\n",
       "    }\n",
       "</style>\n",
       "<table border=\"1\" class=\"dataframe\">\n",
       "  <thead>\n",
       "    <tr style=\"text-align: right;\">\n",
       "      <th></th>\n",
       "      <th>config</th>\n",
       "      <th>rmse_train</th>\n",
       "      <th>rmse_dev</th>\n",
       "      <th>r2_train</th>\n",
       "      <th>r2_dev</th>\n",
       "      <th>r2_oob</th>\n",
       "      <th>n_trees</th>\n",
       "      <th>train_size</th>\n",
       "      <th>dev_size</th>\n",
       "    </tr>\n",
       "  </thead>\n",
       "  <tbody>\n",
       "    <tr>\n",
       "      <td>0</td>\n",
       "      <td>baseline-slow</td>\n",
       "      <td>9.083630e-02</td>\n",
       "      <td>0.250835</td>\n",
       "      <td>0.982755</td>\n",
       "      <td>0.887636</td>\n",
       "      <td>None</td>\n",
       "      <td>10</td>\n",
       "      <td>389125</td>\n",
       "      <td>12000</td>\n",
       "    </tr>\n",
       "    <tr>\n",
       "      <td>0</td>\n",
       "      <td>speedup</td>\n",
       "      <td>1.113544e-01</td>\n",
       "      <td>0.360487</td>\n",
       "      <td>0.973082</td>\n",
       "      <td>0.767926</td>\n",
       "      <td>None</td>\n",
       "      <td>10</td>\n",
       "      <td>20000</td>\n",
       "      <td>12000</td>\n",
       "    </tr>\n",
       "    <tr>\n",
       "      <td>0</td>\n",
       "      <td>single tree</td>\n",
       "      <td>5.237125e-01</td>\n",
       "      <td>0.580760</td>\n",
       "      <td>0.404598</td>\n",
       "      <td>0.397661</td>\n",
       "      <td>None</td>\n",
       "      <td>1</td>\n",
       "      <td>20000</td>\n",
       "      <td>12000</td>\n",
       "    </tr>\n",
       "    <tr>\n",
       "      <td>0</td>\n",
       "      <td>single deep tree</td>\n",
       "      <td>4.351168e-17</td>\n",
       "      <td>0.505234</td>\n",
       "      <td>1.000000</td>\n",
       "      <td>0.544138</td>\n",
       "      <td>None</td>\n",
       "      <td>1</td>\n",
       "      <td>20000</td>\n",
       "      <td>12000</td>\n",
       "    </tr>\n",
       "    <tr>\n",
       "      <td>0</td>\n",
       "      <td>baseline-fast</td>\n",
       "      <td>1.108445e-01</td>\n",
       "      <td>0.356813</td>\n",
       "      <td>0.973328</td>\n",
       "      <td>0.772632</td>\n",
       "      <td>None</td>\n",
       "      <td>10</td>\n",
       "      <td>20000</td>\n",
       "      <td>12000</td>\n",
       "    </tr>\n",
       "    <tr>\n",
       "      <td>0</td>\n",
       "      <td>baseline-fast-80</td>\n",
       "      <td>9.450899e-02</td>\n",
       "      <td>0.341300</td>\n",
       "      <td>0.980610</td>\n",
       "      <td>0.791973</td>\n",
       "      <td>None</td>\n",
       "      <td>80</td>\n",
       "      <td>20000</td>\n",
       "      <td>12000</td>\n",
       "    </tr>\n",
       "    <tr>\n",
       "      <td>0</td>\n",
       "      <td>baseline-fast-40-oob</td>\n",
       "      <td>9.726234e-02</td>\n",
       "      <td>0.340374</td>\n",
       "      <td>0.979464</td>\n",
       "      <td>0.793100</td>\n",
       "      <td>0.853302</td>\n",
       "      <td>40</td>\n",
       "      <td>20000</td>\n",
       "      <td>12000</td>\n",
       "    </tr>\n",
       "    <tr>\n",
       "      <td>0</td>\n",
       "      <td>baseline-subsample-10</td>\n",
       "      <td>9.067175e-02</td>\n",
       "      <td>0.250642</td>\n",
       "      <td>0.982818</td>\n",
       "      <td>0.887809</td>\n",
       "      <td>None</td>\n",
       "      <td>10</td>\n",
       "      <td>389125</td>\n",
       "      <td>12000</td>\n",
       "    </tr>\n",
       "    <tr>\n",
       "      <td>0</td>\n",
       "      <td>baseline-subsample-40</td>\n",
       "      <td>7.846834e-02</td>\n",
       "      <td>0.237733</td>\n",
       "      <td>0.987132</td>\n",
       "      <td>0.899068</td>\n",
       "      <td>0.90811</td>\n",
       "      <td>40</td>\n",
       "      <td>389125</td>\n",
       "      <td>12000</td>\n",
       "    </tr>\n",
       "  </tbody>\n",
       "</table>\n",
       "</div>"
      ],
      "text/plain": [
       "                  config    rmse_train  rmse_dev  r2_train    r2_dev  \\\n",
       "0          baseline-slow  9.083630e-02  0.250835  0.982755  0.887636   \n",
       "0                speedup  1.113544e-01  0.360487  0.973082  0.767926   \n",
       "0            single tree  5.237125e-01  0.580760  0.404598  0.397661   \n",
       "0       single deep tree  4.351168e-17  0.505234  1.000000  0.544138   \n",
       "0          baseline-fast  1.108445e-01  0.356813  0.973328  0.772632   \n",
       "0       baseline-fast-80  9.450899e-02  0.341300  0.980610  0.791973   \n",
       "0   baseline-fast-40-oob  9.726234e-02  0.340374  0.979464  0.793100   \n",
       "0  baseline-subsample-10  9.067175e-02  0.250642  0.982818  0.887809   \n",
       "0  baseline-subsample-40  7.846834e-02  0.237733  0.987132  0.899068   \n",
       "\n",
       "     r2_oob  n_trees  train_size  dev_size  \n",
       "0      None       10      389125     12000  \n",
       "0      None       10       20000     12000  \n",
       "0      None        1       20000     12000  \n",
       "0      None        1       20000     12000  \n",
       "0      None       10       20000     12000  \n",
       "0      None       80       20000     12000  \n",
       "0  0.853302       40       20000     12000  \n",
       "0      None       10      389125     12000  \n",
       "0   0.90811       40      389125     12000  "
      ]
     },
     "execution_count": 62,
     "metadata": {},
     "output_type": "execute_result"
    }
   ],
   "source": [
    "results = pd.concat([tmp, results])\n",
    "results[::-1]"
   ]
  },
  {
   "cell_type": "code",
   "execution_count": 63,
   "metadata": {},
   "outputs": [
    {
     "data": {
      "image/png": "[encoded data removed]",
      "text/plain": [
       "<Figure size 576x1944 with 5 Axes>"
      ]
     },
     "metadata": {
      "needs_background": "light"
     },
     "output_type": "display_data"
    }
   ],
   "source": [
    "cols = results.columns[:6]\n",
    "results[cols].plot.barh(\n",
    "    x='config',\n",
    "    subplots=True,\n",
    "    # rot=45,\n",
    "    ylim=(0,1),\n",
    "    # title=['']*4,\n",
    "    legend=False,\n",
    "    figsize=(8,3*results.shape[0])\n",
    ");"
   ]
  },
  {
   "cell_type": "markdown",
   "metadata": {},
   "source": [
    "### Tree building parameters"
   ]
  },
  {
   "cell_type": "markdown",
   "metadata": {},
   "source": [
    "We revert to using a full bootstrap sample in order to show the impact of other over-fitting avoidance methods."
   ]
  },
  {
   "cell_type": "code",
   "execution_count": 64,
   "metadata": {},
   "outputs": [],
   "source": [
    "reset_rf_samples()"
   ]
  },
  {
   "cell_type": "markdown",
   "metadata": {},
   "source": [
    "Let's get a baseline for this full set to compare to."
   ]
  },
  {
   "cell_type": "code",
   "execution_count": 65,
   "metadata": {},
   "outputs": [],
   "source": [
    "def dectree_max_depth(tree):\n",
    "    children_left = tree.children_left\n",
    "    children_right = tree.children_right\n",
    "\n",
    "    def walk(node_id):\n",
    "        if (children_left[node_id] != children_right[node_id]):\n",
    "            left_max = 1 + walk(children_left[node_id])\n",
    "            right_max = 1 + walk(children_right[node_id])\n",
    "            return max(left_max, right_max)\n",
    "        else: # leaf\n",
    "            return 1\n",
    "\n",
    "    root_node_id = 0\n",
    "    return walk(root_node_id)"
   ]
  },
  {
   "cell_type": "code",
   "execution_count": 66,
   "metadata": {},
   "outputs": [
    {
     "data": {
      "text/plain": [
       "RandomForestRegressor(bootstrap=True, ccp_alpha=0.0, criterion='mse',\n",
       "                      max_depth=None, max_features='auto', max_leaf_nodes=None,\n",
       "                      max_samples=None, min_impurity_decrease=0.0,\n",
       "                      min_impurity_split=None, min_samples_leaf=1,\n",
       "                      min_samples_split=2, min_weight_fraction_leaf=0.0,\n",
       "                      n_estimators=40, n_jobs=-1, oob_score=True,\n",
       "                      random_state=None, verbose=0, warm_start=False)"
      ]
     },
     "execution_count": 66,
     "metadata": {},
     "output_type": "execute_result"
    }
   ],
   "source": [
    "m = RandomForestRegressor(n_estimators=40, n_jobs=-1, oob_score=True)\n",
    "m.fit(X_train, y_train)"
   ]
  },
  {
   "cell_type": "code",
   "execution_count": 67,
   "metadata": {},
   "outputs": [
    {
     "data": {
      "text/html": [
       "<div>\n",
       "<style scoped>\n",
       "    .dataframe tbody tr th:only-of-type {\n",
       "        vertical-align: middle;\n",
       "    }\n",
       "\n",
       "    .dataframe tbody tr th {\n",
       "        vertical-align: top;\n",
       "    }\n",
       "\n",
       "    .dataframe thead th {\n",
       "        text-align: right;\n",
       "    }\n",
       "</style>\n",
       "<table border=\"1\" class=\"dataframe\">\n",
       "  <thead>\n",
       "    <tr style=\"text-align: right;\">\n",
       "      <th></th>\n",
       "      <th>config</th>\n",
       "      <th>rmse_train</th>\n",
       "      <th>rmse_dev</th>\n",
       "      <th>r2_train</th>\n",
       "      <th>r2_dev</th>\n",
       "      <th>r2_oob</th>\n",
       "      <th>n_trees</th>\n",
       "      <th>train_size</th>\n",
       "      <th>dev_size</th>\n",
       "    </tr>\n",
       "  </thead>\n",
       "  <tbody>\n",
       "    <tr>\n",
       "      <td>0</td>\n",
       "      <td>baseline-slow-40</td>\n",
       "      <td>0.078259</td>\n",
       "      <td>0.236638</td>\n",
       "      <td>0.9872</td>\n",
       "      <td>0.899996</td>\n",
       "      <td>0.908607</td>\n",
       "      <td>40</td>\n",
       "      <td>389125</td>\n",
       "      <td>12000</td>\n",
       "    </tr>\n",
       "  </tbody>\n",
       "</table>\n",
       "</div>"
      ],
      "text/plain": [
       "             config  rmse_train  rmse_dev  r2_train    r2_dev    r2_oob  \\\n",
       "0  baseline-slow-40    0.078259  0.236638    0.9872  0.899996  0.908607   \n",
       "\n",
       "   n_trees  train_size  dev_size  \n",
       "0       40      389125     12000  "
      ]
     },
     "execution_count": 67,
     "metadata": {},
     "output_type": "execute_result"
    }
   ],
   "source": [
    "tmp = get_scores(m, 'baseline-slow-40')\n",
    "tmp"
   ]
  },
  {
   "cell_type": "code",
   "execution_count": 68,
   "metadata": {},
   "outputs": [
    {
     "data": {
      "text/html": [
       "<div>\n",
       "<style scoped>\n",
       "    .dataframe tbody tr th:only-of-type {\n",
       "        vertical-align: middle;\n",
       "    }\n",
       "\n",
       "    .dataframe tbody tr th {\n",
       "        vertical-align: top;\n",
       "    }\n",
       "\n",
       "    .dataframe thead th {\n",
       "        text-align: right;\n",
       "    }\n",
       "</style>\n",
       "<table border=\"1\" class=\"dataframe\">\n",
       "  <thead>\n",
       "    <tr style=\"text-align: right;\">\n",
       "      <th></th>\n",
       "      <th>config</th>\n",
       "      <th>rmse_train</th>\n",
       "      <th>rmse_dev</th>\n",
       "      <th>r2_train</th>\n",
       "      <th>r2_dev</th>\n",
       "      <th>r2_oob</th>\n",
       "      <th>n_trees</th>\n",
       "      <th>train_size</th>\n",
       "      <th>dev_size</th>\n",
       "    </tr>\n",
       "  </thead>\n",
       "  <tbody>\n",
       "    <tr>\n",
       "      <td>0</td>\n",
       "      <td>baseline-slow</td>\n",
       "      <td>9.083630e-02</td>\n",
       "      <td>0.250835</td>\n",
       "      <td>0.982755</td>\n",
       "      <td>0.887636</td>\n",
       "      <td>None</td>\n",
       "      <td>10</td>\n",
       "      <td>389125</td>\n",
       "      <td>12000</td>\n",
       "    </tr>\n",
       "    <tr>\n",
       "      <td>0</td>\n",
       "      <td>speedup</td>\n",
       "      <td>1.113544e-01</td>\n",
       "      <td>0.360487</td>\n",
       "      <td>0.973082</td>\n",
       "      <td>0.767926</td>\n",
       "      <td>None</td>\n",
       "      <td>10</td>\n",
       "      <td>20000</td>\n",
       "      <td>12000</td>\n",
       "    </tr>\n",
       "    <tr>\n",
       "      <td>0</td>\n",
       "      <td>single tree</td>\n",
       "      <td>5.237125e-01</td>\n",
       "      <td>0.580760</td>\n",
       "      <td>0.404598</td>\n",
       "      <td>0.397661</td>\n",
       "      <td>None</td>\n",
       "      <td>1</td>\n",
       "      <td>20000</td>\n",
       "      <td>12000</td>\n",
       "    </tr>\n",
       "    <tr>\n",
       "      <td>0</td>\n",
       "      <td>single deep tree</td>\n",
       "      <td>4.351168e-17</td>\n",
       "      <td>0.505234</td>\n",
       "      <td>1.000000</td>\n",
       "      <td>0.544138</td>\n",
       "      <td>None</td>\n",
       "      <td>1</td>\n",
       "      <td>20000</td>\n",
       "      <td>12000</td>\n",
       "    </tr>\n",
       "    <tr>\n",
       "      <td>0</td>\n",
       "      <td>baseline-fast</td>\n",
       "      <td>1.108445e-01</td>\n",
       "      <td>0.356813</td>\n",
       "      <td>0.973328</td>\n",
       "      <td>0.772632</td>\n",
       "      <td>None</td>\n",
       "      <td>10</td>\n",
       "      <td>20000</td>\n",
       "      <td>12000</td>\n",
       "    </tr>\n",
       "    <tr>\n",
       "      <td>0</td>\n",
       "      <td>baseline-fast-80</td>\n",
       "      <td>9.450899e-02</td>\n",
       "      <td>0.341300</td>\n",
       "      <td>0.980610</td>\n",
       "      <td>0.791973</td>\n",
       "      <td>None</td>\n",
       "      <td>80</td>\n",
       "      <td>20000</td>\n",
       "      <td>12000</td>\n",
       "    </tr>\n",
       "    <tr>\n",
       "      <td>0</td>\n",
       "      <td>baseline-fast-40-oob</td>\n",
       "      <td>9.726234e-02</td>\n",
       "      <td>0.340374</td>\n",
       "      <td>0.979464</td>\n",
       "      <td>0.793100</td>\n",
       "      <td>0.853302</td>\n",
       "      <td>40</td>\n",
       "      <td>20000</td>\n",
       "      <td>12000</td>\n",
       "    </tr>\n",
       "    <tr>\n",
       "      <td>0</td>\n",
       "      <td>baseline-subsample-10</td>\n",
       "      <td>9.067175e-02</td>\n",
       "      <td>0.250642</td>\n",
       "      <td>0.982818</td>\n",
       "      <td>0.887809</td>\n",
       "      <td>None</td>\n",
       "      <td>10</td>\n",
       "      <td>389125</td>\n",
       "      <td>12000</td>\n",
       "    </tr>\n",
       "    <tr>\n",
       "      <td>0</td>\n",
       "      <td>baseline-subsample-40</td>\n",
       "      <td>7.846834e-02</td>\n",
       "      <td>0.237733</td>\n",
       "      <td>0.987132</td>\n",
       "      <td>0.899068</td>\n",
       "      <td>0.90811</td>\n",
       "      <td>40</td>\n",
       "      <td>389125</td>\n",
       "      <td>12000</td>\n",
       "    </tr>\n",
       "    <tr>\n",
       "      <td>0</td>\n",
       "      <td>baseline-slow-40</td>\n",
       "      <td>7.825889e-02</td>\n",
       "      <td>0.236638</td>\n",
       "      <td>0.987200</td>\n",
       "      <td>0.899996</td>\n",
       "      <td>0.908607</td>\n",
       "      <td>40</td>\n",
       "      <td>389125</td>\n",
       "      <td>12000</td>\n",
       "    </tr>\n",
       "  </tbody>\n",
       "</table>\n",
       "</div>"
      ],
      "text/plain": [
       "                  config    rmse_train  rmse_dev  r2_train    r2_dev  \\\n",
       "0          baseline-slow  9.083630e-02  0.250835  0.982755  0.887636   \n",
       "0                speedup  1.113544e-01  0.360487  0.973082  0.767926   \n",
       "0            single tree  5.237125e-01  0.580760  0.404598  0.397661   \n",
       "0       single deep tree  4.351168e-17  0.505234  1.000000  0.544138   \n",
       "0          baseline-fast  1.108445e-01  0.356813  0.973328  0.772632   \n",
       "0       baseline-fast-80  9.450899e-02  0.341300  0.980610  0.791973   \n",
       "0   baseline-fast-40-oob  9.726234e-02  0.340374  0.979464  0.793100   \n",
       "0  baseline-subsample-10  9.067175e-02  0.250642  0.982818  0.887809   \n",
       "0  baseline-subsample-40  7.846834e-02  0.237733  0.987132  0.899068   \n",
       "0       baseline-slow-40  7.825889e-02  0.236638  0.987200  0.899996   \n",
       "\n",
       "     r2_oob  n_trees  train_size  dev_size  \n",
       "0      None       10      389125     12000  \n",
       "0      None       10       20000     12000  \n",
       "0      None        1       20000     12000  \n",
       "0      None        1       20000     12000  \n",
       "0      None       10       20000     12000  \n",
       "0      None       80       20000     12000  \n",
       "0  0.853302       40       20000     12000  \n",
       "0      None       10      389125     12000  \n",
       "0   0.90811       40      389125     12000  \n",
       "0  0.908607       40      389125     12000  "
      ]
     },
     "execution_count": 68,
     "metadata": {},
     "output_type": "execute_result"
    }
   ],
   "source": [
    "results = pd.concat([tmp, results])\n",
    "results[::-1]"
   ]
  },
  {
   "cell_type": "code",
   "execution_count": 69,
   "metadata": {},
   "outputs": [
    {
     "data": {
      "image/png": "[encoded data removed]",
      "text/plain": [
       "<Figure size 576x2160 with 5 Axes>"
      ]
     },
     "metadata": {
      "needs_background": "light"
     },
     "output_type": "display_data"
    }
   ],
   "source": [
    "cols = results.columns[:6]\n",
    "results[cols].plot.barh(\n",
    "    x='config',\n",
    "    subplots=True,\n",
    "    # rot=45,\n",
    "    ylim=(0,1),\n",
    "    # title=['']*4,\n",
    "    legend=False,\n",
    "    figsize=(8,3*results.shape[0])\n",
    ");"
   ]
  },
  {
   "cell_type": "code",
   "execution_count": 70,
   "metadata": {},
   "outputs": [],
   "source": [
    "t=m.estimators_[0].tree_"
   ]
  },
  {
   "cell_type": "code",
   "execution_count": 71,
   "metadata": {},
   "outputs": [
    {
     "data": {
      "text/plain": [
       "48"
      ]
     },
     "execution_count": 71,
     "metadata": {},
     "output_type": "execute_result"
    }
   ],
   "source": [
    "dectree_max_depth(t)"
   ]
  },
  {
   "cell_type": "markdown",
   "metadata": {},
   "source": [
    "Another way to reduce over-fitting is to grow our trees less deeply. We do this by specifying (with `min_samples_leaf`) that we require some minimum number of rows in every leaf node. This has two benefits:\n",
    "\n",
    "- There are less decision rules for each leaf node; simpler models should generalize better\n",
    "- The predictions are made by averaging more rows in the leaf node, resulting in less volatility"
   ]
  },
  {
   "cell_type": "code",
   "execution_count": 72,
   "metadata": {},
   "outputs": [
    {
     "data": {
      "text/plain": [
       "RandomForestRegressor(bootstrap=True, ccp_alpha=0.0, criterion='mse',\n",
       "                      max_depth=None, max_features='auto', max_leaf_nodes=None,\n",
       "                      max_samples=None, min_impurity_decrease=0.0,\n",
       "                      min_impurity_split=None, min_samples_leaf=5,\n",
       "                      min_samples_split=2, min_weight_fraction_leaf=0.0,\n",
       "                      n_estimators=40, n_jobs=-1, oob_score=True,\n",
       "                      random_state=None, verbose=0, warm_start=False)"
      ]
     },
     "execution_count": 72,
     "metadata": {},
     "output_type": "execute_result"
    }
   ],
   "source": [
    "m = RandomForestRegressor(n_estimators=40, min_samples_leaf=5, n_jobs=-1, oob_score=True)\n",
    "m.fit(X_train, y_train)"
   ]
  },
  {
   "cell_type": "code",
   "execution_count": 73,
   "metadata": {},
   "outputs": [
    {
     "data": {
      "text/html": [
       "<div>\n",
       "<style scoped>\n",
       "    .dataframe tbody tr th:only-of-type {\n",
       "        vertical-align: middle;\n",
       "    }\n",
       "\n",
       "    .dataframe tbody tr th {\n",
       "        vertical-align: top;\n",
       "    }\n",
       "\n",
       "    .dataframe thead th {\n",
       "        text-align: right;\n",
       "    }\n",
       "</style>\n",
       "<table border=\"1\" class=\"dataframe\">\n",
       "  <thead>\n",
       "    <tr style=\"text-align: right;\">\n",
       "      <th></th>\n",
       "      <th>config</th>\n",
       "      <th>rmse_train</th>\n",
       "      <th>rmse_dev</th>\n",
       "      <th>r2_train</th>\n",
       "      <th>r2_dev</th>\n",
       "      <th>r2_oob</th>\n",
       "      <th>n_trees</th>\n",
       "      <th>train_size</th>\n",
       "      <th>dev_size</th>\n",
       "    </tr>\n",
       "  </thead>\n",
       "  <tbody>\n",
       "    <tr>\n",
       "      <td>0</td>\n",
       "      <td>baseline-slow-tuning</td>\n",
       "      <td>0.140757</td>\n",
       "      <td>0.234665</td>\n",
       "      <td>0.958593</td>\n",
       "      <td>0.901657</td>\n",
       "      <td>0.906946</td>\n",
       "      <td>40</td>\n",
       "      <td>389125</td>\n",
       "      <td>12000</td>\n",
       "    </tr>\n",
       "  </tbody>\n",
       "</table>\n",
       "</div>"
      ],
      "text/plain": [
       "                 config  rmse_train  rmse_dev  r2_train    r2_dev    r2_oob  \\\n",
       "0  baseline-slow-tuning    0.140757  0.234665  0.958593  0.901657  0.906946   \n",
       "\n",
       "   n_trees  train_size  dev_size  \n",
       "0       40      389125     12000  "
      ]
     },
     "execution_count": 73,
     "metadata": {},
     "output_type": "execute_result"
    }
   ],
   "source": [
    "tmp = get_scores(m, 'baseline-slow-tuning')\n",
    "tmp"
   ]
  },
  {
   "cell_type": "code",
   "execution_count": 74,
   "metadata": {},
   "outputs": [],
   "source": [
    "t=m.estimators_[0].tree_"
   ]
  },
  {
   "cell_type": "code",
   "execution_count": 75,
   "metadata": {},
   "outputs": [
    {
     "data": {
      "text/plain": [
       "35"
      ]
     },
     "execution_count": 75,
     "metadata": {},
     "output_type": "execute_result"
    }
   ],
   "source": [
    "dectree_max_depth(t)"
   ]
  },
  {
   "cell_type": "code",
   "execution_count": 76,
   "metadata": {},
   "outputs": [
    {
     "data": {
      "text/plain": [
       "RandomForestRegressor(bootstrap=True, ccp_alpha=0.0, criterion='mse',\n",
       "                      max_depth=None, max_features='auto', max_leaf_nodes=None,\n",
       "                      max_samples=None, min_impurity_decrease=0.0,\n",
       "                      min_impurity_split=None, min_samples_leaf=3,\n",
       "                      min_samples_split=2, min_weight_fraction_leaf=0.0,\n",
       "                      n_estimators=40, n_jobs=-1, oob_score=True,\n",
       "                      random_state=None, verbose=0, warm_start=False)"
      ]
     },
     "execution_count": 76,
     "metadata": {},
     "output_type": "execute_result"
    }
   ],
   "source": [
    "m = RandomForestRegressor(n_estimators=40, min_samples_leaf=3, n_jobs=-1, oob_score=True)\n",
    "m.fit(X_train, y_train)"
   ]
  },
  {
   "cell_type": "code",
   "execution_count": 77,
   "metadata": {},
   "outputs": [
    {
     "data": {
      "text/html": [
       "<div>\n",
       "<style scoped>\n",
       "    .dataframe tbody tr th:only-of-type {\n",
       "        vertical-align: middle;\n",
       "    }\n",
       "\n",
       "    .dataframe tbody tr th {\n",
       "        vertical-align: top;\n",
       "    }\n",
       "\n",
       "    .dataframe thead th {\n",
       "        text-align: right;\n",
       "    }\n",
       "</style>\n",
       "<table border=\"1\" class=\"dataframe\">\n",
       "  <thead>\n",
       "    <tr style=\"text-align: right;\">\n",
       "      <th></th>\n",
       "      <th>config</th>\n",
       "      <th>rmse_train</th>\n",
       "      <th>rmse_dev</th>\n",
       "      <th>r2_train</th>\n",
       "      <th>r2_dev</th>\n",
       "      <th>r2_oob</th>\n",
       "      <th>n_trees</th>\n",
       "      <th>train_size</th>\n",
       "      <th>dev_size</th>\n",
       "    </tr>\n",
       "  </thead>\n",
       "  <tbody>\n",
       "    <tr>\n",
       "      <td>0</td>\n",
       "      <td>baseline-slow-tuning</td>\n",
       "      <td>0.114985</td>\n",
       "      <td>0.235244</td>\n",
       "      <td>0.972367</td>\n",
       "      <td>0.901171</td>\n",
       "      <td>0.908501</td>\n",
       "      <td>40</td>\n",
       "      <td>389125</td>\n",
       "      <td>12000</td>\n",
       "    </tr>\n",
       "  </tbody>\n",
       "</table>\n",
       "</div>"
      ],
      "text/plain": [
       "                 config  rmse_train  rmse_dev  r2_train    r2_dev    r2_oob  \\\n",
       "0  baseline-slow-tuning    0.114985  0.235244  0.972367  0.901171  0.908501   \n",
       "\n",
       "   n_trees  train_size  dev_size  \n",
       "0       40      389125     12000  "
      ]
     },
     "execution_count": 77,
     "metadata": {},
     "output_type": "execute_result"
    }
   ],
   "source": [
    "tmp = get_scores(m, 'baseline-slow-tuning')\n",
    "tmp"
   ]
  },
  {
   "cell_type": "markdown",
   "metadata": {},
   "source": [
    "We can also increase the amount of variation amongst the trees by not only use a sample of rows for each tree, but to also using a sample of *columns* for each *split*. We do this by specifying `max_features`, which is the proportion of features to randomly select from at each split."
   ]
  },
  {
   "cell_type": "markdown",
   "metadata": {},
   "source": [
    "- None\n",
    "- 0.5\n",
    "- 'sqrt'"
   ]
  },
  {
   "cell_type": "markdown",
   "metadata": {},
   "source": [
    "- 1, 3, 5, 10, 25, 100"
   ]
  },
  {
   "cell_type": "code",
   "execution_count": 78,
   "metadata": {},
   "outputs": [
    {
     "data": {
      "text/plain": [
       "RandomForestRegressor(bootstrap=True, ccp_alpha=0.0, criterion='mse',\n",
       "                      max_depth=None, max_features=0.5, max_leaf_nodes=None,\n",
       "                      max_samples=None, min_impurity_decrease=0.0,\n",
       "                      min_impurity_split=None, min_samples_leaf=3,\n",
       "                      min_samples_split=2, min_weight_fraction_leaf=0.0,\n",
       "                      n_estimators=40, n_jobs=-1, oob_score=True,\n",
       "                      random_state=None, verbose=0, warm_start=False)"
      ]
     },
     "execution_count": 78,
     "metadata": {},
     "output_type": "execute_result"
    }
   ],
   "source": [
    "m = RandomForestRegressor(n_estimators=40, min_samples_leaf=3, max_features=0.5, n_jobs=-1, oob_score=True)\n",
    "m.fit(X_train, y_train)"
   ]
  },
  {
   "cell_type": "code",
   "execution_count": 79,
   "metadata": {},
   "outputs": [
    {
     "data": {
      "text/html": [
       "<div>\n",
       "<style scoped>\n",
       "    .dataframe tbody tr th:only-of-type {\n",
       "        vertical-align: middle;\n",
       "    }\n",
       "\n",
       "    .dataframe tbody tr th {\n",
       "        vertical-align: top;\n",
       "    }\n",
       "\n",
       "    .dataframe thead th {\n",
       "        text-align: right;\n",
       "    }\n",
       "</style>\n",
       "<table border=\"1\" class=\"dataframe\">\n",
       "  <thead>\n",
       "    <tr style=\"text-align: right;\">\n",
       "      <th></th>\n",
       "      <th>config</th>\n",
       "      <th>rmse_train</th>\n",
       "      <th>rmse_dev</th>\n",
       "      <th>r2_train</th>\n",
       "      <th>r2_dev</th>\n",
       "      <th>r2_oob</th>\n",
       "      <th>n_trees</th>\n",
       "      <th>train_size</th>\n",
       "      <th>dev_size</th>\n",
       "    </tr>\n",
       "  </thead>\n",
       "  <tbody>\n",
       "    <tr>\n",
       "      <td>0</td>\n",
       "      <td>baseline-slow-tuning</td>\n",
       "      <td>0.11908</td>\n",
       "      <td>0.226794</td>\n",
       "      <td>0.970364</td>\n",
       "      <td>0.908143</td>\n",
       "      <td>0.911875</td>\n",
       "      <td>40</td>\n",
       "      <td>389125</td>\n",
       "      <td>12000</td>\n",
       "    </tr>\n",
       "  </tbody>\n",
       "</table>\n",
       "</div>"
      ],
      "text/plain": [
       "                 config  rmse_train  rmse_dev  r2_train    r2_dev    r2_oob  \\\n",
       "0  baseline-slow-tuning     0.11908  0.226794  0.970364  0.908143  0.911875   \n",
       "\n",
       "   n_trees  train_size  dev_size  \n",
       "0       40      389125     12000  "
      ]
     },
     "execution_count": 79,
     "metadata": {},
     "output_type": "execute_result"
    }
   ],
   "source": [
    "tmp = get_scores(m, 'baseline-slow-tuning')\n",
    "tmp"
   ]
  },
  {
   "cell_type": "code",
   "execution_count": 80,
   "metadata": {},
   "outputs": [
    {
     "data": {
      "text/html": [
       "<div>\n",
       "<style scoped>\n",
       "    .dataframe tbody tr th:only-of-type {\n",
       "        vertical-align: middle;\n",
       "    }\n",
       "\n",
       "    .dataframe tbody tr th {\n",
       "        vertical-align: top;\n",
       "    }\n",
       "\n",
       "    .dataframe thead th {\n",
       "        text-align: right;\n",
       "    }\n",
       "</style>\n",
       "<table border=\"1\" class=\"dataframe\">\n",
       "  <thead>\n",
       "    <tr style=\"text-align: right;\">\n",
       "      <th></th>\n",
       "      <th>config</th>\n",
       "      <th>rmse_train</th>\n",
       "      <th>rmse_dev</th>\n",
       "      <th>r2_train</th>\n",
       "      <th>r2_dev</th>\n",
       "      <th>r2_oob</th>\n",
       "      <th>n_trees</th>\n",
       "      <th>train_size</th>\n",
       "      <th>dev_size</th>\n",
       "    </tr>\n",
       "  </thead>\n",
       "  <tbody>\n",
       "    <tr>\n",
       "      <td>0</td>\n",
       "      <td>baseline-slow</td>\n",
       "      <td>9.083630e-02</td>\n",
       "      <td>0.250835</td>\n",
       "      <td>0.982755</td>\n",
       "      <td>0.887636</td>\n",
       "      <td>None</td>\n",
       "      <td>10</td>\n",
       "      <td>389125</td>\n",
       "      <td>12000</td>\n",
       "    </tr>\n",
       "    <tr>\n",
       "      <td>0</td>\n",
       "      <td>speedup</td>\n",
       "      <td>1.113544e-01</td>\n",
       "      <td>0.360487</td>\n",
       "      <td>0.973082</td>\n",
       "      <td>0.767926</td>\n",
       "      <td>None</td>\n",
       "      <td>10</td>\n",
       "      <td>20000</td>\n",
       "      <td>12000</td>\n",
       "    </tr>\n",
       "    <tr>\n",
       "      <td>0</td>\n",
       "      <td>single tree</td>\n",
       "      <td>5.237125e-01</td>\n",
       "      <td>0.580760</td>\n",
       "      <td>0.404598</td>\n",
       "      <td>0.397661</td>\n",
       "      <td>None</td>\n",
       "      <td>1</td>\n",
       "      <td>20000</td>\n",
       "      <td>12000</td>\n",
       "    </tr>\n",
       "    <tr>\n",
       "      <td>0</td>\n",
       "      <td>single deep tree</td>\n",
       "      <td>4.351168e-17</td>\n",
       "      <td>0.505234</td>\n",
       "      <td>1.000000</td>\n",
       "      <td>0.544138</td>\n",
       "      <td>None</td>\n",
       "      <td>1</td>\n",
       "      <td>20000</td>\n",
       "      <td>12000</td>\n",
       "    </tr>\n",
       "    <tr>\n",
       "      <td>0</td>\n",
       "      <td>baseline-fast</td>\n",
       "      <td>1.108445e-01</td>\n",
       "      <td>0.356813</td>\n",
       "      <td>0.973328</td>\n",
       "      <td>0.772632</td>\n",
       "      <td>None</td>\n",
       "      <td>10</td>\n",
       "      <td>20000</td>\n",
       "      <td>12000</td>\n",
       "    </tr>\n",
       "    <tr>\n",
       "      <td>0</td>\n",
       "      <td>baseline-fast-80</td>\n",
       "      <td>9.450899e-02</td>\n",
       "      <td>0.341300</td>\n",
       "      <td>0.980610</td>\n",
       "      <td>0.791973</td>\n",
       "      <td>None</td>\n",
       "      <td>80</td>\n",
       "      <td>20000</td>\n",
       "      <td>12000</td>\n",
       "    </tr>\n",
       "    <tr>\n",
       "      <td>0</td>\n",
       "      <td>baseline-fast-40-oob</td>\n",
       "      <td>9.726234e-02</td>\n",
       "      <td>0.340374</td>\n",
       "      <td>0.979464</td>\n",
       "      <td>0.793100</td>\n",
       "      <td>0.853302</td>\n",
       "      <td>40</td>\n",
       "      <td>20000</td>\n",
       "      <td>12000</td>\n",
       "    </tr>\n",
       "    <tr>\n",
       "      <td>0</td>\n",
       "      <td>baseline-subsample-10</td>\n",
       "      <td>9.067175e-02</td>\n",
       "      <td>0.250642</td>\n",
       "      <td>0.982818</td>\n",
       "      <td>0.887809</td>\n",
       "      <td>None</td>\n",
       "      <td>10</td>\n",
       "      <td>389125</td>\n",
       "      <td>12000</td>\n",
       "    </tr>\n",
       "    <tr>\n",
       "      <td>0</td>\n",
       "      <td>baseline-subsample-40</td>\n",
       "      <td>7.846834e-02</td>\n",
       "      <td>0.237733</td>\n",
       "      <td>0.987132</td>\n",
       "      <td>0.899068</td>\n",
       "      <td>0.90811</td>\n",
       "      <td>40</td>\n",
       "      <td>389125</td>\n",
       "      <td>12000</td>\n",
       "    </tr>\n",
       "    <tr>\n",
       "      <td>0</td>\n",
       "      <td>baseline-slow-40</td>\n",
       "      <td>7.825889e-02</td>\n",
       "      <td>0.236638</td>\n",
       "      <td>0.987200</td>\n",
       "      <td>0.899996</td>\n",
       "      <td>0.908607</td>\n",
       "      <td>40</td>\n",
       "      <td>389125</td>\n",
       "      <td>12000</td>\n",
       "    </tr>\n",
       "    <tr>\n",
       "      <td>0</td>\n",
       "      <td>baseline-slow-tuning</td>\n",
       "      <td>1.190803e-01</td>\n",
       "      <td>0.226794</td>\n",
       "      <td>0.970364</td>\n",
       "      <td>0.908143</td>\n",
       "      <td>0.911875</td>\n",
       "      <td>40</td>\n",
       "      <td>389125</td>\n",
       "      <td>12000</td>\n",
       "    </tr>\n",
       "  </tbody>\n",
       "</table>\n",
       "</div>"
      ],
      "text/plain": [
       "                  config    rmse_train  rmse_dev  r2_train    r2_dev  \\\n",
       "0          baseline-slow  9.083630e-02  0.250835  0.982755  0.887636   \n",
       "0                speedup  1.113544e-01  0.360487  0.973082  0.767926   \n",
       "0            single tree  5.237125e-01  0.580760  0.404598  0.397661   \n",
       "0       single deep tree  4.351168e-17  0.505234  1.000000  0.544138   \n",
       "0          baseline-fast  1.108445e-01  0.356813  0.973328  0.772632   \n",
       "0       baseline-fast-80  9.450899e-02  0.341300  0.980610  0.791973   \n",
       "0   baseline-fast-40-oob  9.726234e-02  0.340374  0.979464  0.793100   \n",
       "0  baseline-subsample-10  9.067175e-02  0.250642  0.982818  0.887809   \n",
       "0  baseline-subsample-40  7.846834e-02  0.237733  0.987132  0.899068   \n",
       "0       baseline-slow-40  7.825889e-02  0.236638  0.987200  0.899996   \n",
       "0   baseline-slow-tuning  1.190803e-01  0.226794  0.970364  0.908143   \n",
       "\n",
       "     r2_oob  n_trees  train_size  dev_size  \n",
       "0      None       10      389125     12000  \n",
       "0      None       10       20000     12000  \n",
       "0      None        1       20000     12000  \n",
       "0      None        1       20000     12000  \n",
       "0      None       10       20000     12000  \n",
       "0      None       80       20000     12000  \n",
       "0  0.853302       40       20000     12000  \n",
       "0      None       10      389125     12000  \n",
       "0   0.90811       40      389125     12000  \n",
       "0  0.908607       40      389125     12000  \n",
       "0  0.911875       40      389125     12000  "
      ]
     },
     "execution_count": 80,
     "metadata": {},
     "output_type": "execute_result"
    }
   ],
   "source": [
    "results = pd.concat([tmp, results])\n",
    "results[::-1]"
   ]
  },
  {
   "cell_type": "code",
   "execution_count": 81,
   "metadata": {
    "scrolled": false
   },
   "outputs": [
    {
     "data": {
      "image/png": "[encoded data removed]",
      "text/plain": [
       "<Figure size 576x2376 with 5 Axes>"
      ]
     },
     "metadata": {
      "needs_background": "light"
     },
     "output_type": "display_data"
    }
   ],
   "source": [
    "cols = results.columns[:6]\n",
    "results[cols].plot.barh(\n",
    "    x='config',\n",
    "    subplots=True,\n",
    "    # rot=90,\n",
    "    # ylim=(0,1),\n",
    "    # title=['']*4,\n",
    "    legend=False,\n",
    "    figsize=(8,3*results.shape[0])\n",
    ");"
   ]
  },
  {
   "cell_type": "markdown",
   "metadata": {},
   "source": [
    "We can't compare our results directly with the Kaggle competition, since it used a different validation set (and we can no longer to submit to this competition) - but we can at least see that we're getting similar results to the winners based on the dataset we have.\n",
    "\n",
    "The sklearn docs [show an example](http://scikit-learn.org/stable/auto_examples/ensemble/plot_ensemble_oob.html) of different `max_features` methods with increasing numbers of trees - as you see, using a subset of features on each split requires using more trees, but results in better models:\n",
    "![sklearn max_features chart](http://scikit-learn.org/stable/_images/sphx_glr_plot_ensemble_oob_001.png)"
   ]
  }
 ],
 "metadata": {
  "jupytext": {
   "cell_metadata_filter": "-all",
   "formats": "ipynb,py:light",
   "notebook_metadata_filter": "-all"
  },
  "kernelspec": {
   "display_name": "Python 3",
   "language": "python",
   "name": "python3"
  },
  "language_info": {
   "codemirror_mode": {
    "name": "ipython",
    "version": 3
   },
   "file_extension": ".py",
   "mimetype": "text/x-python",
   "name": "python",
   "nbconvert_exporter": "python",
   "pygments_lexer": "ipython3",
   "version": "3.6.9"
  }
 },
 "nbformat": 4,
 "nbformat_minor": 2
}
