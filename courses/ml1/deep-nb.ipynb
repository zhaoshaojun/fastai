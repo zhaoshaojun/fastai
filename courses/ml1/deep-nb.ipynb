{
 "cells": [
  {
   "cell_type": "code",
   "execution_count": 974,
   "metadata": {},
   "outputs": [],
   "source": [
    "%reload_ext autoreload\n",
    "%autoreload 2\n",
    "%matplotlib inline\n",
    "\n",
    "from fastai.nlp import *\n",
    "from sklearn.linear_model import LogisticRegression"
   ]
  },
  {
   "cell_type": "markdown",
   "metadata": {},
   "source": [
    "## create dataset"
   ]
  },
  {
   "cell_type": "code",
   "execution_count": 2,
   "metadata": {},
   "outputs": [],
   "source": [
    "PATH='data/aclImdb/'\n",
    "names = ['neg','pos']\n",
    "names1 = ['neg', 'pos_']\n",
    "names2 = ['neg_', 'pos']"
   ]
  },
  {
   "cell_type": "code",
   "execution_count": 3,
   "metadata": {},
   "outputs": [
    {
     "name": "stdout",
     "output_type": "stream",
     "text": [
      "labeledBow.feat \u001b[34mpos\u001b[m\u001b[m             unsupBow.feat   urls_pos.txt\r\n",
      "\u001b[34mneg\u001b[m\u001b[m             \u001b[34munsup\u001b[m\u001b[m           urls_neg.txt    urls_unsup.txt\r\n"
     ]
    }
   ],
   "source": [
    "! ls {PATH}train"
   ]
  },
  {
   "cell_type": "code",
   "execution_count": 4,
   "metadata": {},
   "outputs": [],
   "source": [
    "trn1,trn1_y = texts_labels_from_folders(f'{PATH}train',names1)\n",
    "val1,val1_y = texts_labels_from_folders(f'{PATH}test',names1)"
   ]
  },
  {
   "cell_type": "code",
   "execution_count": 5,
   "metadata": {},
   "outputs": [],
   "source": [
    "trn2,trn2_y = texts_labels_from_folders(f'{PATH}train',names2)\n",
    "val2,val2_y = texts_labels_from_folders(f'{PATH}test',names2)"
   ]
  },
  {
   "cell_type": "code",
   "execution_count": 6,
   "metadata": {},
   "outputs": [
    {
     "data": {
      "text/plain": [
       "(12500, 12500, 12500, 12500)"
      ]
     },
     "execution_count": 6,
     "metadata": {},
     "output_type": "execute_result"
    }
   ],
   "source": [
    "len(trn1), len(trn1_y), len(trn2), len(trn2_y)"
   ]
  },
  {
   "cell_type": "code",
   "execution_count": 7,
   "metadata": {},
   "outputs": [
    {
     "data": {
      "text/plain": [
       "True"
      ]
     },
     "execution_count": 7,
     "metadata": {},
     "output_type": "execute_result"
    }
   ],
   "source": [
    "assert (trn1_y==0).all()\n",
    "(trn1_y==0).all()"
   ]
  },
  {
   "cell_type": "code",
   "execution_count": 8,
   "metadata": {},
   "outputs": [
    {
     "data": {
      "text/plain": [
       "True"
      ]
     },
     "execution_count": 8,
     "metadata": {},
     "output_type": "execute_result"
    }
   ],
   "source": [
    "assert (trn1_y==0).all()\n",
    "(val1_y==0).all()"
   ]
  },
  {
   "cell_type": "code",
   "execution_count": 9,
   "metadata": {},
   "outputs": [
    {
     "data": {
      "text/plain": [
       "True"
      ]
     },
     "execution_count": 9,
     "metadata": {},
     "output_type": "execute_result"
    }
   ],
   "source": [
    "assert (trn2_y==1).all()\n",
    "(trn2_y==1).all()"
   ]
  },
  {
   "cell_type": "code",
   "execution_count": 10,
   "metadata": {},
   "outputs": [
    {
     "data": {
      "text/plain": [
       "True"
      ]
     },
     "execution_count": 10,
     "metadata": {},
     "output_type": "execute_result"
    }
   ],
   "source": [
    "assert (val2_y==1).all()\n",
    "(val2_y==1).all()"
   ]
  },
  {
   "cell_type": "code",
   "execution_count": 11,
   "metadata": {},
   "outputs": [],
   "source": [
    "def sample_util(data, label, n):\n",
    "    assert len(data) == label.shape[0]\n",
    "    idx = np.random.choice(range(len(data)),n)\n",
    "    data_new = [data[i] for i in idx]\n",
    "    label_new = label[idx]\n",
    "    return data_new, label_new"
   ]
  },
  {
   "cell_type": "code",
   "execution_count": 12,
   "metadata": {},
   "outputs": [],
   "source": [
    "def sample(data1, label1, data2, label2, n):\n",
    "    t1, t2 = sample_util(data1, label1, n)\n",
    "    t3, t4 = sample_util(data2, label2, n)\n",
    "    data = t1 + t3\n",
    "    label = np.concatenate((t2, t4))\n",
    "    return data, label"
   ]
  },
  {
   "cell_type": "code",
   "execution_count": 1172,
   "metadata": {},
   "outputs": [],
   "source": [
    "# trn, trn_y = sample(trn1, trn1_y, trn2, trn2_y, 64*10)\n",
    "# val, val_y = sample(val1, val1_y, val2, val2_y, 64*20)"
   ]
  },
  {
   "cell_type": "code",
   "execution_count": 1173,
   "metadata": {},
   "outputs": [],
   "source": [
    "trn,trn_y = texts_labels_from_folders(f'{PATH}train',names)\n",
    "val,val_y = texts_labels_from_folders(f'{PATH}test',names)"
   ]
  },
  {
   "cell_type": "markdown",
   "metadata": {},
   "source": [
    "## create vectors and vocab"
   ]
  },
  {
   "cell_type": "code",
   "execution_count": 1174,
   "metadata": {},
   "outputs": [],
   "source": [
    "veczr = CountVectorizer(tokenizer=tokenize)"
   ]
  },
  {
   "cell_type": "code",
   "execution_count": 1175,
   "metadata": {},
   "outputs": [],
   "source": [
    "trn_term_doc = veczr.fit_transform(trn)"
   ]
  },
  {
   "cell_type": "code",
   "execution_count": 1176,
   "metadata": {},
   "outputs": [],
   "source": [
    "val_term_doc = veczr.transform(val)"
   ]
  },
  {
   "cell_type": "code",
   "execution_count": 1177,
   "metadata": {},
   "outputs": [
    {
     "data": {
      "text/plain": [
       "['aussie', 'aussies', 'austen', 'austeniana', 'austens']"
      ]
     },
     "execution_count": 1177,
     "metadata": {},
     "output_type": "execute_result"
    }
   ],
   "source": [
    "vocab = veczr.get_feature_names(); vocab[5000:5005]"
   ]
  },
  {
   "cell_type": "code",
   "execution_count": 1178,
   "metadata": {},
   "outputs": [
    {
     "data": {
      "text/plain": [
       "['\\x08\\x08\\x08\\x08a', '\\x10own', '!', '\"', '#']"
      ]
     },
     "execution_count": 1178,
     "metadata": {},
     "output_type": "execute_result"
    }
   ],
   "source": [
    "vocab[:5]"
   ]
  },
  {
   "cell_type": "code",
   "execution_count": 1179,
   "metadata": {},
   "outputs": [
    {
     "data": {
      "text/plain": [
       "75132"
      ]
     },
     "execution_count": 1179,
     "metadata": {},
     "output_type": "execute_result"
    }
   ],
   "source": [
    "len(vocab)"
   ]
  },
  {
   "cell_type": "code",
   "execution_count": 1180,
   "metadata": {},
   "outputs": [],
   "source": [
    "trn_term_doc = trn_term_doc.sign()"
   ]
  },
  {
   "cell_type": "code",
   "execution_count": 1181,
   "metadata": {},
   "outputs": [],
   "source": [
    "val_term_doc = val_term_doc.sign()"
   ]
  },
  {
   "cell_type": "markdown",
   "metadata": {},
   "source": [
    "## Naive Bayes"
   ]
  },
  {
   "cell_type": "markdown",
   "metadata": {},
   "source": [
    "We define the **log-count ratio** $r$ for each word $f$:\n",
    "\n",
    "$r = \\log \\frac{\\text{ratio of feature $f$ in positive documents}}{\\text{ratio of feature $f$ in negative documents}}$\n",
    "\n",
    "where ratio of feature $f$ in positive documents is the number of times a positive document has a feature divided by the number of positive documents."
   ]
  },
  {
   "cell_type": "code",
   "execution_count": 1182,
   "metadata": {},
   "outputs": [],
   "source": [
    "def pr(y_i):\n",
    "    p = x[y==y_i].sum(0)\n",
    "    return p+1"
   ]
  },
  {
   "cell_type": "code",
   "execution_count": 1183,
   "metadata": {},
   "outputs": [],
   "source": [
    "x=trn_term_doc\n",
    "y=trn_y\n",
    "\n",
    "p = pr(1)/pr(1).sum()\n",
    "q = pr(0)/pr(0).sum()\n",
    "r = np.log(p/q)\n",
    "b = np.log((y==1).mean() / (y==0).mean())"
   ]
  },
  {
   "cell_type": "code",
   "execution_count": 1184,
   "metadata": {},
   "outputs": [
    {
     "data": {
      "text/plain": [
       "(25000, 75132)"
      ]
     },
     "execution_count": 1184,
     "metadata": {},
     "output_type": "execute_result"
    }
   ],
   "source": [
    "val_term_doc.shape"
   ]
  },
  {
   "cell_type": "code",
   "execution_count": 1185,
   "metadata": {},
   "outputs": [
    {
     "data": {
      "text/plain": [
       "75132"
      ]
     },
     "execution_count": 1185,
     "metadata": {},
     "output_type": "execute_result"
    }
   ],
   "source": [
    "val_term_doc.shape[1]"
   ]
  },
  {
   "cell_type": "code",
   "execution_count": 1186,
   "metadata": {},
   "outputs": [
    {
     "data": {
      "text/plain": [
       "(25000, 75132)"
      ]
     },
     "execution_count": 1186,
     "metadata": {},
     "output_type": "execute_result"
    }
   ],
   "source": [
    "x.shape"
   ]
  },
  {
   "cell_type": "code",
   "execution_count": 1187,
   "metadata": {},
   "outputs": [
    {
     "data": {
      "text/plain": [
       "(1, 75132)"
      ]
     },
     "execution_count": 1187,
     "metadata": {},
     "output_type": "execute_result"
    }
   ],
   "source": [
    "r.shape"
   ]
  },
  {
   "cell_type": "code",
   "execution_count": 1188,
   "metadata": {},
   "outputs": [
    {
     "data": {
      "text/plain": [
       "(25000, 1)"
      ]
     },
     "execution_count": 1188,
     "metadata": {},
     "output_type": "execute_result"
    }
   ],
   "source": [
    "(val_term_doc @ r.T).shape"
   ]
  },
  {
   "cell_type": "code",
   "execution_count": 1189,
   "metadata": {},
   "outputs": [
    {
     "data": {
      "text/plain": [
       "matrix([[-5.25616],\n",
       "        [-3.41848],\n",
       "        [ 0.42768],\n",
       "        ...,\n",
       "        [68.81967],\n",
       "        [ 4.6196 ],\n",
       "        [ 3.74532]])"
      ]
     },
     "execution_count": 1189,
     "metadata": {},
     "output_type": "execute_result"
    }
   ],
   "source": [
    "val_term_doc @ r.T"
   ]
  },
  {
   "cell_type": "code",
   "execution_count": 1190,
   "metadata": {},
   "outputs": [
    {
     "data": {
      "text/plain": [
       "array([0, 0, 0, ..., 1, 1, 1])"
      ]
     },
     "execution_count": 1190,
     "metadata": {},
     "output_type": "execute_result"
    }
   ],
   "source": [
    "val_y"
   ]
  },
  {
   "cell_type": "code",
   "execution_count": 1191,
   "metadata": {},
   "outputs": [
    {
     "data": {
      "text/plain": [
       "0.82844"
      ]
     },
     "execution_count": 1191,
     "metadata": {},
     "output_type": "execute_result"
    }
   ],
   "source": [
    "pre_preds = val_term_doc @ r.T + b\n",
    "preds = pre_preds.T>0\n",
    "(preds==val_y).mean()"
   ]
  },
  {
   "cell_type": "code",
   "execution_count": 1192,
   "metadata": {},
   "outputs": [],
   "source": [
    "pre_preds = val_term_doc @ np.stack([np.log(p), np.log(q)]).T + b"
   ]
  },
  {
   "cell_type": "code",
   "execution_count": 1193,
   "metadata": {},
   "outputs": [
    {
     "data": {
      "text/plain": [
       "matrix([[ -617.48225,  -612.22609],\n",
       "        [ -549.41436,  -545.99589],\n",
       "        [-1036.89288, -1037.32056],\n",
       "        ...,\n",
       "        [-4026.31409, -4095.13376],\n",
       "        [ -633.7084 ,  -638.328  ],\n",
       "        [ -508.107  ,  -511.85232]])"
      ]
     },
     "execution_count": 1193,
     "metadata": {},
     "output_type": "execute_result"
    }
   ],
   "source": [
    "pre_preds"
   ]
  },
  {
   "cell_type": "code",
   "execution_count": 1194,
   "metadata": {},
   "outputs": [
    {
     "data": {
      "text/plain": [
       "0.82844"
      ]
     },
     "execution_count": 1194,
     "metadata": {},
     "output_type": "execute_result"
    }
   ],
   "source": [
    "preds = pre_preds.T[0] > pre_preds.T[1]\n",
    "(preds==val_y).mean()"
   ]
  },
  {
   "cell_type": "code",
   "execution_count": 2335,
   "metadata": {},
   "outputs": [
    {
     "data": {
      "text/plain": [
       "scipy.sparse.csr.csr_matrix"
      ]
     },
     "execution_count": 2335,
     "metadata": {},
     "output_type": "execute_result"
    }
   ],
   "source": [
    "type(val_term_doc)"
   ]
  },
  {
   "cell_type": "code",
   "execution_count": 2336,
   "metadata": {},
   "outputs": [
    {
     "data": {
      "text/plain": [
       "<1x75132 sparse matrix of type '<class 'numpy.int64'>'\n",
       "\twith 83 stored elements in Compressed Sparse Row format>"
      ]
     },
     "execution_count": 2336,
     "metadata": {},
     "output_type": "execute_result"
    }
   ],
   "source": [
    "val_term_doc[0]"
   ]
  },
  {
   "cell_type": "code",
   "execution_count": 2339,
   "metadata": {},
   "outputs": [],
   "source": [
    "xx = val_term_doc[0]"
   ]
  },
  {
   "cell_type": "code",
   "execution_count": 2345,
   "metadata": {},
   "outputs": [
    {
     "data": {
      "text/plain": [
       "['&',\n",
       " \"'\",\n",
       " ',',\n",
       " '-',\n",
       " '.',\n",
       " '/',\n",
       " 'a',\n",
       " 'accents',\n",
       " 'actors',\n",
       " 'alan',\n",
       " 'and',\n",
       " 'as',\n",
       " 'been',\n",
       " 'but',\n",
       " 'by',\n",
       " 'cluttered',\n",
       " 'could',\n",
       " 'detective',\n",
       " 'emma',\n",
       " 'entertain',\n",
       " 'entertaining',\n",
       " 'fact',\n",
       " 'film',\n",
       " 'flick',\n",
       " 'for',\n",
       " 'gets',\n",
       " 'give',\n",
       " 'good',\n",
       " 'hal',\n",
       " 'have',\n",
       " 'holbrook',\n",
       " 'if',\n",
       " 'impression',\n",
       " 'in',\n",
       " 'is',\n",
       " 'it',\n",
       " 'kidnappers',\n",
       " 'matter',\n",
       " 'more',\n",
       " 'mostly',\n",
       " 'movie',\n",
       " 'muddles',\n",
       " 'new',\n",
       " 'no',\n",
       " 'not',\n",
       " 'nothing',\n",
       " 'off',\n",
       " 'one',\n",
       " 'orleans',\n",
       " 'performances',\n",
       " 'plot',\n",
       " 'potential',\n",
       " 'pulled',\n",
       " 'rather',\n",
       " 'really',\n",
       " 'rickman',\n",
       " 's',\n",
       " 'scene',\n",
       " 'scenes',\n",
       " 'seeing',\n",
       " 'seems',\n",
       " 'shows',\n",
       " 'southern',\n",
       " 'subplot',\n",
       " 'than',\n",
       " 'that',\n",
       " 'the',\n",
       " 'their',\n",
       " 'these',\n",
       " 'things',\n",
       " 'this',\n",
       " 'thompson',\n",
       " 'three',\n",
       " 'to',\n",
       " 'uninteresting',\n",
       " 'us',\n",
       " 'view',\n",
       " 'was',\n",
       " 'watching',\n",
       " 'well',\n",
       " 'what',\n",
       " 'with',\n",
       " 'worth']"
      ]
     },
     "execution_count": 2345,
     "metadata": {},
     "output_type": "execute_result"
    }
   ],
   "source": [
    "[vocab[index] for index, i in enumerate(xx.toarray()[0]) if i > 0]"
   ]
  },
  {
   "cell_type": "markdown",
   "metadata": {},
   "source": [
    "## Logistic regression (sklearn)"
   ]
  },
  {
   "cell_type": "markdown",
   "metadata": {},
   "source": [
    "Here is how we can fit logistic regression where the features are the unigrams."
   ]
  },
  {
   "cell_type": "code",
   "execution_count": null,
   "metadata": {},
   "outputs": [],
   "source": [
    "LogisticRegression"
   ]
  },
  {
   "cell_type": "code",
   "execution_count": null,
   "metadata": {},
   "outputs": [],
   "source": [
    "m = LogisticRegression(C=1e8, dual=False, max_iter=1000)\n",
    "m.fit(x, y)\n",
    "preds = m.predict(val_term_doc)\n",
    "(preds==val_y).mean()"
   ]
  },
  {
   "cell_type": "markdown",
   "metadata": {},
   "source": [
    "...and the regularized version"
   ]
  },
  {
   "cell_type": "code",
   "execution_count": null,
   "metadata": {},
   "outputs": [],
   "source": [
    "m = LogisticRegression(C=0.1, dual=False, max_iter=1000)\n",
    "m.fit(x, y)\n",
    "preds = m.predict(val_term_doc)\n",
    "(preds==val_y).mean()"
   ]
  },
  {
   "cell_type": "markdown",
   "metadata": {},
   "source": [
    "## Logistic regression (PyTorch)"
   ]
  },
  {
   "cell_type": "code",
   "execution_count": 1195,
   "metadata": {},
   "outputs": [],
   "source": [
    "from fastai.metrics import *\n",
    "from fastai.model import *\n",
    "from fastai.dataset import *\n",
    "from fastai.nlp import *\n",
    "\n",
    "import torch.nn as nn"
   ]
  },
  {
   "cell_type": "code",
   "execution_count": 2332,
   "metadata": {},
   "outputs": [],
   "source": [
    "class MySimpleNB(nn.Module):\n",
    "    def __init__(self, nf, ny):\n",
    "        super().__init__()\n",
    "        self.w = nn.Embedding(nf, ny)\n",
    "        # self.w = nn.Embedding(nf+1, ny)\n",
    "        # self.w.weight.data.uniform_(-1, 1)\n",
    "        self.w.weight.data = torch.FloatTensor(r.tolist()[0])\n",
    "        self.w.weight.data = self.w.weight.data.reshape(-1, 1)\n",
    "        # self.r = nn.Embedding(nf, ny)\n",
    "        \n",
    "    def forward(self, feat_idx):\n",
    "        # self.w.weight.data[0] = 0\n",
    "        idx = feat_idx - 1\n",
    "        idx2 = [a for a in idx if a >= 0]\n",
    "        idx3 = np.array(idx2)\n",
    "        v = self.w(V(idx3))\n",
    "        # r = self.r(feat_idx)\n",
    "        # x = ((w+self.w_adj)*r/self.r_adj).sum(1)\n",
    "        # x = w*r\n",
    "        x = v.sum(1)\n",
    "        # return F.softmax(x)\n",
    "        # return x.reshape(1, -1)\n",
    "        return x"
   ]
  },
  {
   "cell_type": "code",
   "execution_count": 2330,
   "metadata": {},
   "outputs": [],
   "source": [
    "def binary_loss(pred, y):\n",
    "    # y2 = torch.max(y,axis=1)[0]\n",
    "    y2 = np.argmax(y)\n",
    "    p = torch.exp(pred) / (1+torch.exp(pred))\n",
    "    result = torch.mean(-(y2 * torch.log(p) + (1-y2)*torch.log(1-p)))\n",
    "    # return result.reshape(1, -1)\n",
    "    return result"
   ]
  },
  {
   "cell_type": "code",
   "execution_count": 2305,
   "metadata": {},
   "outputs": [
    {
     "data": {
      "text/plain": [
       "(1, 75132)"
      ]
     },
     "execution_count": 2305,
     "metadata": {},
     "output_type": "execute_result"
    }
   ],
   "source": [
    "r.shape"
   ]
  },
  {
   "cell_type": "code",
   "execution_count": null,
   "metadata": {},
   "outputs": [],
   "source": []
  },
  {
   "cell_type": "code",
   "execution_count": 2301,
   "metadata": {},
   "outputs": [
    {
     "data": {
      "text/plain": [
       "75132"
      ]
     },
     "execution_count": 2301,
     "metadata": {},
     "output_type": "execute_result"
    }
   ],
   "source": [
    "len(vocab)"
   ]
  },
  {
   "cell_type": "code",
   "execution_count": 2296,
   "metadata": {},
   "outputs": [],
   "source": [
    "net3 = MySimpleNB(len(vocab), 1)"
   ]
  },
  {
   "cell_type": "code",
   "execution_count": 2297,
   "metadata": {},
   "outputs": [
    {
     "data": {
      "text/plain": [
       "torch.Size([75132, 1])"
      ]
     },
     "execution_count": 2297,
     "metadata": {},
     "output_type": "execute_result"
    }
   ],
   "source": [
    "net2.w.weight.data.shape"
   ]
  },
  {
   "cell_type": "code",
   "execution_count": 2225,
   "metadata": {},
   "outputs": [
    {
     "data": {
      "text/plain": [
       "(1, 75132)"
      ]
     },
     "execution_count": 2225,
     "metadata": {},
     "output_type": "execute_result"
    }
   ],
   "source": [
    "r.shape"
   ]
  },
  {
   "cell_type": "code",
   "execution_count": 2226,
   "metadata": {},
   "outputs": [],
   "source": [
    "xx = torch.FloatTensor([0] + r.tolist()[0]).reshape(-1, 1)"
   ]
  },
  {
   "cell_type": "code",
   "execution_count": 2227,
   "metadata": {},
   "outputs": [
    {
     "data": {
      "text/plain": [
       "torch.Size([75133, 1])"
      ]
     },
     "execution_count": 2227,
     "metadata": {},
     "output_type": "execute_result"
    }
   ],
   "source": [
    "xx.shape"
   ]
  },
  {
   "cell_type": "code",
   "execution_count": 2228,
   "metadata": {},
   "outputs": [
    {
     "data": {
      "text/plain": [
       "(array([64760, 65310, 66442, 66459, 66496, 66555, 66685, 66822, 67028, 67253, 67489, 68750, 69789, 72338,\n",
       "        72480, 72746, 72897, 73767, 73992, 74479]),\n",
       " array([1, 1, 1, 1, 1, 1, 1, 1, 1, 1, 1, 1, 1, 1, 1, 1, 1, 1, 1, 1]),\n",
       " 20,\n",
       " array([1., 0.], dtype=float32))"
      ]
     },
     "execution_count": 2228,
     "metadata": {},
     "output_type": "execute_result"
    }
   ],
   "source": [
    "t"
   ]
  },
  {
   "cell_type": "code",
   "execution_count": 2229,
   "metadata": {},
   "outputs": [
    {
     "name": "stdout",
     "output_type": "stream",
     "text": [
      "surprisingly\n",
      "t\n",
      "that\n",
      "the\n",
      "them\n",
      "there\n",
      "this\n",
      "through\n",
      "tilly\n",
      "to\n",
      "top\n",
      "turned\n",
      "unger\n",
      "was\n",
      "way\n",
      "were\n",
      "when\n",
      "work\n",
      "written\n",
      "you\n"
     ]
    }
   ],
   "source": [
    "for xx in t[0]:\n",
    "    print(vocab[xx-1])"
   ]
  },
  {
   "cell_type": "code",
   "execution_count": 2230,
   "metadata": {},
   "outputs": [
    {
     "data": {
      "text/plain": [
       "Embedding(75132, 1)"
      ]
     },
     "execution_count": 2230,
     "metadata": {},
     "output_type": "execute_result"
    }
   ],
   "source": [
    "net3.w"
   ]
  },
  {
   "cell_type": "code",
   "execution_count": 2231,
   "metadata": {},
   "outputs": [
    {
     "data": {
      "text/plain": [
       "tensor([0.6904])"
      ]
     },
     "execution_count": 2231,
     "metadata": {},
     "output_type": "execute_result"
    }
   ],
   "source": [
    "net3.w.weight.data[0]"
   ]
  },
  {
   "cell_type": "code",
   "execution_count": 2232,
   "metadata": {},
   "outputs": [
    {
     "data": {
      "text/plain": [
       "torch.Size([75132, 1])"
      ]
     },
     "execution_count": 2232,
     "metadata": {},
     "output_type": "execute_result"
    }
   ],
   "source": [
    "net3.w.weight.data.shape"
   ]
  },
  {
   "cell_type": "code",
   "execution_count": null,
   "metadata": {},
   "outputs": [],
   "source": []
  },
  {
   "cell_type": "code",
   "execution_count": 2233,
   "metadata": {},
   "outputs": [],
   "source": [
    "embedding = nn.Embedding(10, 1)"
   ]
  },
  {
   "cell_type": "code",
   "execution_count": 2234,
   "metadata": {},
   "outputs": [],
   "source": [
    "input = torch.LongTensor([[1,2,4,0],[4,3,2,9]])"
   ]
  },
  {
   "cell_type": "code",
   "execution_count": 2235,
   "metadata": {},
   "outputs": [
    {
     "data": {
      "text/plain": [
       "tensor([[[-0.3559],\n",
       "         [-0.1087],\n",
       "         [ 1.4720],\n",
       "         [-1.3244]],\n",
       "\n",
       "        [[ 1.4720],\n",
       "         [ 0.3285],\n",
       "         [-0.1087],\n",
       "         [-0.5361]]], grad_fn=<EmbeddingBackward>)"
      ]
     },
     "execution_count": 2235,
     "metadata": {},
     "output_type": "execute_result"
    }
   ],
   "source": [
    "embedding(input)"
   ]
  },
  {
   "cell_type": "code",
   "execution_count": 2236,
   "metadata": {},
   "outputs": [
    {
     "data": {
      "text/plain": [
       "tensor([[-0.3169],\n",
       "        [ 1.1557]], grad_fn=<SumBackward1>)"
      ]
     },
     "execution_count": 2236,
     "metadata": {},
     "output_type": "execute_result"
    }
   ],
   "source": [
    "embedding(input).sum(1)"
   ]
  },
  {
   "cell_type": "code",
   "execution_count": null,
   "metadata": {},
   "outputs": [],
   "source": []
  },
  {
   "cell_type": "code",
   "execution_count": 2237,
   "metadata": {},
   "outputs": [
    {
     "data": {
      "text/plain": [
       "75132"
      ]
     },
     "execution_count": 2237,
     "metadata": {},
     "output_type": "execute_result"
    }
   ],
   "source": [
    "sl=val_term_doc.shape[1]\n",
    "sl"
   ]
  },
  {
   "cell_type": "code",
   "execution_count": 2421,
   "metadata": {},
   "outputs": [],
   "source": [
    "sl=val_term_doc.shape[1]\n",
    "md = TextClassifierData.from_bow(\n",
    "    trn_term_doc, trn_y,\n",
    "    val_term_doc, val_y,\n",
    "    100,\n",
    ")"
   ]
  },
  {
   "cell_type": "code",
   "execution_count": 2422,
   "metadata": {},
   "outputs": [],
   "source": [
    "# ??TextClassifierData.from_bow"
   ]
  },
  {
   "cell_type": "code",
   "execution_count": 2348,
   "metadata": {},
   "outputs": [
    {
     "data": {
      "text/plain": [
       "(25000, 75132)"
      ]
     },
     "execution_count": 2348,
     "metadata": {},
     "output_type": "execute_result"
    }
   ],
   "source": [
    "trn_term_doc.shape"
   ]
  },
  {
   "cell_type": "code",
   "execution_count": 2349,
   "metadata": {},
   "outputs": [],
   "source": [
    "i=0"
   ]
  },
  {
   "cell_type": "code",
   "execution_count": 2350,
   "metadata": {},
   "outputs": [],
   "source": [
    "net4 = MySimpleNB(len(vocab), 1)\n",
    "# loss = nn.NLLLoss()\n",
    "# loss = torch.nn.CrossEntropyLoss()\n",
    "loss = binary_loss\n",
    "lr = 1e-2\n",
    "losses=[]"
   ]
  },
  {
   "cell_type": "code",
   "execution_count": 2351,
   "metadata": {},
   "outputs": [
    {
     "data": {
      "text/plain": [
       "Parameter containing:\n",
       "tensor([[ 0.6904],\n",
       "        [-0.6959],\n",
       "        [-0.0575],\n",
       "        ...,\n",
       "        [ 0.6904],\n",
       "        [-0.0028],\n",
       "        [-0.6959]], requires_grad=True)"
      ]
     },
     "execution_count": 2351,
     "metadata": {},
     "output_type": "execute_result"
    }
   ],
   "source": [
    "net4.w.weight"
   ]
  },
  {
   "cell_type": "code",
   "execution_count": 2352,
   "metadata": {},
   "outputs": [],
   "source": [
    "ii=2"
   ]
  },
  {
   "cell_type": "code",
   "execution_count": 2353,
   "metadata": {},
   "outputs": [],
   "source": [
    "t = md.trn_ds[ii]\n",
    "ii = ii + 1\n",
    "xt, _a, _b, yt = t"
   ]
  },
  {
   "cell_type": "code",
   "execution_count": 2354,
   "metadata": {},
   "outputs": [
    {
     "data": {
      "text/plain": [
       "(array([    0,     0,     0,     0,     0,     0,     0,     0,     0,     0,     0,     0,     0,     0,\n",
       "            0,     0,     0,     0,     0,     0,     0,     0,     0,     0,     0,     0,     0,     0,\n",
       "            0,     0,     0,     0,     0,     0,     0,     0,     0,     0,     0,     0,     0,     0,\n",
       "            0,     0,     0,     0,     0,     0,     0,     0,     0,     0,     0,     0,     0,     0,\n",
       "            0,     0,     0,     0,     0,     0,     0,     0,     0,     0,     0,     0,     0,     0,\n",
       "            0,     0,     0,     0,     0,     0,     0,     0,     0,     0,     0,     0,     0,     0,\n",
       "            0,     0,     0,     0,     0,     0,     0,     0,     0,     0,     0,     0,     0,     0,\n",
       "            0,     0,     0,     0,     0,     3,     9,    14,    16,  1051,  1610,  2420,  2620,  2727,\n",
       "         2853,  3055,  3124,  3220,  3478,  4722,  5222,  6179,  7457,  7608,  9855, 11613, 16117, 16844,\n",
       "        16909, 18298, 18573, 18634, 19322, 19417, 26189, 27959, 27977, 28082, 28242, 29840, 30017, 30136,\n",
       "        30229, 30523, 30689, 32392, 32548, 33037, 34617, 34717, 35215, 35480, 36054, 36953, 40470, 41400,\n",
       "        41482, 43471, 44203, 45507, 46118, 46869, 47003, 47484, 47505, 47615, 47688, 48127, 48662, 49043,\n",
       "        49321, 50397, 51099, 51519, 53846, 56898, 57050, 58069, 58354, 58412, 60590, 64230, 64760, 65310,\n",
       "        66442, 66459, 66496, 66555, 66685, 66822, 67028, 67253, 67489, 68750, 69789, 72338, 72480, 72746,\n",
       "        72897, 73767, 73992, 74479]),\n",
       " array([0, 0, 0, 0, 0, 0, 0, 0, 0, 0, 0, 0, 0, 0, 0, 0, 0, 0, 0, 0, 0, 0, 0, 0, 0, 0, 0, 0, 0, 0, 0, 0, 0, 0,\n",
       "        0, 0, 0, 0, 0, 0, 0, 0, 0, 0, 0, 0, 0, 0, 0, 0, 0, 0, 0, 0, 0, 0, 0, 0, 0, 0, 0, 0, 0, 0, 0, 0, 0, 0,\n",
       "        0, 0, 0, 0, 0, 0, 0, 0, 0, 0, 0, 0, 0, 0, 0, 0, 0, 0, 0, 0, 0, 0, 0, 0, 0, 0, 0, 0, 0, 0, 0, 0, 0, 0,\n",
       "        0, 1, 1, 1, 1, 1, 1, 1, 1, 1, 1, 1, 1, 1, 1, 1, 1, 1, 1, 1, 1, 1, 1, 1, 1, 1, 1, 1, 1, 1, 1, 1, 1, 1,\n",
       "        1, 1, 1, 1, 1, 1, 1, 1, 1, 1, 1, 1, 1, 1, 1, 1, 1, 1, 1, 1, 1, 1, 1, 1, 1, 1, 1, 1, 1, 1, 1, 1, 1, 1,\n",
       "        1, 1, 1, 1, 1, 1, 1, 1, 1, 1, 1, 1, 1, 1, 1, 1, 1, 1, 1, 1, 1, 1, 1, 1, 1, 1, 1, 1, 1, 1]),\n",
       " 97,\n",
       " array([1., 0.], dtype=float32))"
      ]
     },
     "execution_count": 2354,
     "metadata": {},
     "output_type": "execute_result"
    }
   ],
   "source": [
    "t"
   ]
  },
  {
   "cell_type": "code",
   "execution_count": 2355,
   "metadata": {},
   "outputs": [
    {
     "data": {
      "text/plain": [
       "((200,), 75132)"
      ]
     },
     "execution_count": 2355,
     "metadata": {},
     "output_type": "execute_result"
    }
   ],
   "source": [
    "xt.shape, len(vocab)"
   ]
  },
  {
   "cell_type": "code",
   "execution_count": 2356,
   "metadata": {},
   "outputs": [
    {
     "data": {
      "text/plain": [
       "(200,)"
      ]
     },
     "execution_count": 2356,
     "metadata": {},
     "output_type": "execute_result"
    }
   ],
   "source": [
    "xt.shape"
   ]
  },
  {
   "cell_type": "code",
   "execution_count": 2359,
   "metadata": {},
   "outputs": [],
   "source": [
    "xt = xt.reshape(1, 200)"
   ]
  },
  {
   "cell_type": "code",
   "execution_count": 2360,
   "metadata": {},
   "outputs": [
    {
     "data": {
      "text/plain": [
       "(1, 200)"
      ]
     },
     "execution_count": 2360,
     "metadata": {},
     "output_type": "execute_result"
    }
   ],
   "source": [
    "xt.shape"
   ]
  },
  {
   "cell_type": "code",
   "execution_count": 2361,
   "metadata": {},
   "outputs": [
    {
     "data": {
      "text/plain": [
       "('diagnoses', 75132)"
      ]
     },
     "execution_count": 2361,
     "metadata": {},
     "output_type": "execute_result"
    }
   ],
   "source": [
    "vocab[18178], len(vocab)"
   ]
  },
  {
   "cell_type": "code",
   "execution_count": 2362,
   "metadata": {},
   "outputs": [
    {
     "data": {
      "text/plain": [
       "array([0, 0, 0, 0, 0, 0, 0, 0, 0, 0, 0, 0, 0, 0, 0, 0, 0, 0, 0, 0, 0, 0, 0, 0, 0, 0, 0, 0, 0, 0, 0, 0, 0, 0,\n",
       "       0, 0, 0, 0, 0, 0, 0, 0, 0, 0, 0, 0, 0, 0, 0, 0, 0, 0, 0, 0, 0, 0, 0, 0, 0, 0, 0, 0, 0, 0, 0, 0, 0, 0,\n",
       "       0, 0, 0, 0, 0, 0, 0, 0, 0, 0, 0, 0, 0, 0, 0, 0, 0, 0, 0, 0, 0, 0, 0, 0, 0, 0, 0, 0, 0, 0, 0, 0, 0, 0,\n",
       "       0, 1, 1, 1, 1, 1, 1, 1, 1, 1, 1, 1, 1, 1, 1, 1, 1, 1, 1, 1, 1, 1, 1, 1, 1, 1, 1, 1, 1, 1, 1, 1, 1, 1,\n",
       "       1, 1, 1, 1, 1, 1, 1, 1, 1, 1, 1, 1, 1, 1, 1, 1, 1, 1, 1, 1, 1, 1, 1, 1, 1, 1, 1, 1, 1, 1, 1, 1, 1, 1,\n",
       "       1, 1, 1, 1, 1, 1, 1, 1, 1, 1, 1, 1, 1, 1, 1, 1, 1, 1, 1, 1, 1, 1, 1, 1, 1, 1, 1, 1, 1, 1])"
      ]
     },
     "execution_count": 2362,
     "metadata": {},
     "output_type": "execute_result"
    }
   ],
   "source": [
    "_a"
   ]
  },
  {
   "cell_type": "code",
   "execution_count": 2363,
   "metadata": {},
   "outputs": [
    {
     "data": {
      "text/plain": [
       "97"
      ]
     },
     "execution_count": 2363,
     "metadata": {},
     "output_type": "execute_result"
    }
   ],
   "source": [
    "_a.sum()"
   ]
  },
  {
   "cell_type": "code",
   "execution_count": 2364,
   "metadata": {},
   "outputs": [
    {
     "data": {
      "text/plain": [
       "97"
      ]
     },
     "execution_count": 2364,
     "metadata": {},
     "output_type": "execute_result"
    }
   ],
   "source": [
    "_b"
   ]
  },
  {
   "cell_type": "code",
   "execution_count": 2365,
   "metadata": {},
   "outputs": [
    {
     "data": {
      "text/plain": [
       "array([1., 0.], dtype=float32)"
      ]
     },
     "execution_count": 2365,
     "metadata": {},
     "output_type": "execute_result"
    }
   ],
   "source": [
    "yt"
   ]
  },
  {
   "cell_type": "code",
   "execution_count": 2366,
   "metadata": {},
   "outputs": [
    {
     "data": {
      "text/plain": [
       "(array([ 3220,  3478,  3669,  3808,  4091,  4432,  4722,  5370,  5406,  6305,  6520,  7013,  7230,  7326,\n",
       "         7608,  7965,  8026,  8485,  8573,  8697,  9007,  9855,  9937, 10255, 10334, 10380, 10458, 10566,\n",
       "        10870, 10931, 11666, 11777, 11783, 11788, 12021, 15045, 15123, 15126, 15343, 16560, 17158, 17869,\n",
       "        18298, 19351, 19389, 19417, 19849, 20580, 20690, 20717, 21765, 21790, 22719, 22738, 22882, 23125,\n",
       "        23947, 24625, 25361, 25458, 25578, 26106, 26189, 27330, 27582, 27977, 28068, 28399, 29252, 29387,\n",
       "        29791, 29803, 29809, 30136, 30149, 30229, 30665, 31121, 31885, 32222, 32392, 32548, 32804, 32936,\n",
       "        33037, 34617, 34677, 34717, 35822, 36290, 36742, 36953, 38725, 39099, 39403, 40878, 41400, 41885,\n",
       "        41895, 43025, 43892, 44203, 44220, 44304, 44626, 44705, 45055, 45496, 45509, 46118, 46220, 46750,\n",
       "        46769, 46783, 46829, 46869, 46987, 47003, 47031, 47216, 47482, 47524, 48815, 50669, 50732, 51422,\n",
       "        51486, 51882, 52569, 53875, 53937, 54777, 54981, 55816, 55925, 56164, 56730, 57050, 57972, 58715,\n",
       "        59130, 59204, 59376, 59532, 59952, 60279, 61493, 61730, 61751, 61760, 61826, 62284, 62551, 63342,\n",
       "        63388, 63496, 63503, 64704, 64961, 65310, 65465, 65499, 66270, 66442, 66459, 66487, 66496, 66555,\n",
       "        66577, 66597, 66653, 66685, 66725, 66742, 67067, 67253, 67452, 67711, 68279, 68541, 68543, 68900,\n",
       "        69092, 70464, 71058, 71297, 72507, 72699, 72897, 73049, 73113, 73176, 73489, 73512, 73852, 73866,\n",
       "        73982, 74301, 74479, 74540]),\n",
       " array([1, 1, 1, 1, 1, 1, 1, 1, 1, 1, 1, 1, 1, 1, 1, 1, 1, 1, 1, 1, 1, 1, 1, 1, 1, 1, 1, 1, 1, 1, 1, 1, 1, 1,\n",
       "        1, 1, 1, 1, 1, 1, 1, 1, 1, 1, 1, 1, 1, 1, 1, 1, 1, 1, 1, 1, 1, 1, 1, 1, 1, 1, 1, 1, 1, 1, 1, 1, 1, 1,\n",
       "        1, 1, 1, 1, 1, 1, 1, 1, 1, 1, 1, 1, 1, 1, 1, 1, 1, 1, 1, 1, 1, 1, 1, 1, 1, 1, 1, 1, 1, 1, 1, 1, 1, 1,\n",
       "        1, 1, 1, 1, 1, 1, 1, 1, 1, 1, 1, 1, 1, 1, 1, 1, 1, 1, 1, 1, 1, 1, 1, 1, 1, 1, 1, 1, 1, 1, 1, 1, 1, 1,\n",
       "        1, 1, 1, 1, 1, 1, 1, 1, 1, 1, 1, 1, 1, 1, 1, 1, 1, 1, 1, 1, 1, 1, 1, 1, 1, 1, 1, 1, 1, 1, 1, 1, 1, 1,\n",
       "        1, 1, 1, 1, 1, 1, 1, 1, 1, 1, 1, 1, 1, 1, 1, 1, 1, 1, 1, 1, 1, 1, 1, 1, 1, 1, 1, 1, 1, 1]),\n",
       " 200,\n",
       " array([1., 0.], dtype=float32))"
      ]
     },
     "execution_count": 2366,
     "metadata": {},
     "output_type": "execute_result"
    }
   ],
   "source": [
    "md.trn_ds[ii]"
   ]
  },
  {
   "cell_type": "code",
   "execution_count": 2367,
   "metadata": {},
   "outputs": [
    {
     "data": {
      "text/plain": [
       "(1, 200)"
      ]
     },
     "execution_count": 2367,
     "metadata": {},
     "output_type": "execute_result"
    }
   ],
   "source": [
    "xt.shape"
   ]
  },
  {
   "cell_type": "code",
   "execution_count": 2368,
   "metadata": {
    "scrolled": false
   },
   "outputs": [
    {
     "name": "stdout",
     "output_type": "stream",
     "text": [
      "!\n",
      "'\n",
      ",\n",
      ".\n",
      "a\n",
      "actors\n",
      "alan\n",
      "all\n",
      "almost\n",
      "always\n",
      "among\n",
      "amusing\n",
      "and\n",
      "annoying\n",
      "at\n",
      "away\n",
      "bates\n",
      "bit\n",
      "blame\n",
      "but\n",
      "characters\n",
      "cute\n",
      "deborah\n",
      "decent\n",
      "didn\n",
      "director\n",
      "disappoint\n",
      "do\n",
      "does\n",
      "from\n",
      "goes\n",
      "going\n",
      "good\n",
      "gotta\n",
      "hard\n",
      "has\n",
      "have\n",
      "he\n",
      "hell\n",
      "here\n",
      "i\n",
      "if\n",
      "in\n",
      "is\n",
      "it\n",
      "jennifer\n",
      "john\n",
      "kara\n",
      "know\n",
      "make\n",
      "material\n",
      "matthew\n",
      "modine\n",
      "movie\n",
      "neville\n",
      "not\n",
      "ok\n",
      "one\n",
      "others\n",
      "ouch\n",
      "outrageous\n",
      "over\n",
      "painful\n",
      "parts\n",
      "pedestrian\n",
      "performances\n",
      "played\n",
      "possible\n",
      "premise\n",
      "re\n",
      "run\n",
      "s\n",
      "schlock\n",
      "screaming\n",
      "script\n",
      "sit\n",
      "such\n",
      "surprisingly\n",
      "t\n",
      "that\n",
      "the\n",
      "them\n",
      "there\n",
      "this\n",
      "through\n",
      "tilly\n",
      "to\n",
      "top\n",
      "turned\n",
      "unger\n",
      "was\n",
      "way\n",
      "were\n",
      "when\n",
      "work\n",
      "written\n",
      "you\n"
     ]
    }
   ],
   "source": [
    "for index, idx in enumerate(to_np(xt[0])):\n",
    "    if idx:\n",
    "        print(vocab[idx-1])"
   ]
  },
  {
   "cell_type": "code",
   "execution_count": 2369,
   "metadata": {},
   "outputs": [
    {
     "data": {
      "text/plain": [
       "('\\x08\\x08\\x08\\x08a', 75132)"
      ]
     },
     "execution_count": 2369,
     "metadata": {},
     "output_type": "execute_result"
    }
   ],
   "source": [
    "vocab[0], len(vocab)"
   ]
  },
  {
   "cell_type": "code",
   "execution_count": 2370,
   "metadata": {},
   "outputs": [
    {
     "data": {
      "text/plain": [
       "array([[    0,     0,     0,     0,     0,     0,     0,     0,     0,     0,     0,     0,     0,     0,\n",
       "            0,     0,     0,     0,     0,     0,     0,     0,     0,     0,     0,     0,     0,     0,\n",
       "            0,     0,     0,     0,     0,     0,     0,     0,     0,     0,     0,     0,     0,     0,\n",
       "            0,     0,     0,     0,     0,     0,     0,     0,     0,     0,     0,     0,     0,     0,\n",
       "            0,     0,     0,     0,     0,     0,     0,     0,     0,     0,     0,     0,     0,     0,\n",
       "            0,     0,     0,     0,     0,     0,     0,     0,     0,     0,     0,     0,     0,     0,\n",
       "            0,     0,     0,     0,     0,     0,     0,     0,     0,     0,     0,     0,     0,     0,\n",
       "            0,     0,     0,     0,     0,     3,     9,    14,    16,  1051,  1610,  2420,  2620,  2727,\n",
       "         2853,  3055,  3124,  3220,  3478,  4722,  5222,  6179,  7457,  7608,  9855, 11613, 16117, 16844,\n",
       "        16909, 18298, 18573, 18634, 19322, 19417, 26189, 27959, 27977, 28082, 28242, 29840, 30017, 30136,\n",
       "        30229, 30523, 30689, 32392, 32548, 33037, 34617, 34717, 35215, 35480, 36054, 36953, 40470, 41400,\n",
       "        41482, 43471, 44203, 45507, 46118, 46869, 47003, 47484, 47505, 47615, 47688, 48127, 48662, 49043,\n",
       "        49321, 50397, 51099, 51519, 53846, 56898, 57050, 58069, 58354, 58412, 60590, 64230, 64760, 65310,\n",
       "        66442, 66459, 66496, 66555, 66685, 66822, 67028, 67253, 67489, 68750, 69789, 72338, 72480, 72746,\n",
       "        72897, 73767, 73992, 74479]])"
      ]
     },
     "execution_count": 2370,
     "metadata": {},
     "output_type": "execute_result"
    }
   ],
   "source": [
    "xt"
   ]
  },
  {
   "cell_type": "code",
   "execution_count": 2371,
   "metadata": {},
   "outputs": [
    {
     "data": {
      "text/plain": [
       "tensor(55.0210, grad_fn=<SumBackward0>)"
      ]
     },
     "execution_count": 2371,
     "metadata": {},
     "output_type": "execute_result"
    }
   ],
   "source": [
    "net4.w(V(xt)).sum()"
   ]
  },
  {
   "cell_type": "code",
   "execution_count": 2372,
   "metadata": {},
   "outputs": [
    {
     "data": {
      "text/plain": [
       "(1, 200)"
      ]
     },
     "execution_count": 2372,
     "metadata": {},
     "output_type": "execute_result"
    }
   ],
   "source": [
    "xt.shape"
   ]
  },
  {
   "cell_type": "code",
   "execution_count": 2377,
   "metadata": {},
   "outputs": [
    {
     "data": {
      "text/plain": [
       "(1, 200)"
      ]
     },
     "execution_count": 2377,
     "metadata": {},
     "output_type": "execute_result"
    }
   ],
   "source": [
    "xt.shape"
   ]
  },
  {
   "cell_type": "code",
   "execution_count": 2378,
   "metadata": {},
   "outputs": [
    {
     "name": "stdout",
     "output_type": "stream",
     "text": [
      "tensor([-5.7479e-02, -4.1577e-02, -9.9442e-03, -3.4373e-03, -5.4424e-03,\n",
      "        -1.7379e-01,  4.3313e-01, -1.8541e-02, -1.2916e-03,  5.5653e-01,\n",
      "         4.7712e-01, -1.1129e-02,  8.4602e-03, -1.2968e+00, -8.2108e-02,\n",
      "        -1.1287e-01,  5.4082e-01,  2.6922e-01, -1.1351e+00, -5.3193e-02,\n",
      "        -1.9695e-02,  1.0134e-01, -3.6570e-01, -8.8736e-01, -4.2275e-01,\n",
      "        -1.2697e-01,  7.9732e-01, -2.4320e-01,  5.2103e-02,  2.9463e-02,\n",
      "        -4.4487e-02, -2.5613e-01, -1.9596e-02, -4.2846e-01, -6.5210e-02,\n",
      "         1.1156e-01, -1.2319e-01,  6.2853e-02, -6.1823e-01, -1.2425e-01,\n",
      "        -7.9586e-02, -1.9558e-01,  1.2358e-02,  2.1014e-02, -1.2308e-02,\n",
      "        -1.3063e-01,  4.5022e-01, -1.2068e+00, -1.2334e-01, -3.1028e-01,\n",
      "        -2.9966e-01,  2.5392e-01, -2.5411e-01, -1.6408e-01,  1.2500e+00,\n",
      "        -1.1374e-01, -7.6541e-01,  1.3722e-02,  3.2920e-01, -1.1014e+00,\n",
      "         1.0075e-01, -8.0419e-02, -1.0222e+00,  1.6660e-01, -1.1755e+00,\n",
      "         7.0972e-01,  3.5182e-01, -2.4431e-01, -7.7228e-01, -2.7973e-01,\n",
      "        -1.8411e-01,  2.0526e-03, -8.7826e-01, -1.1126e+00, -7.2862e-01,\n",
      "        -5.4179e-01, -1.3730e-02,  6.7001e-01, -2.3746e-01, -4.7475e-02,\n",
      "        -5.2959e-03, -8.2466e-02, -1.9813e-01, -4.2640e-02, -1.0398e-01,\n",
      "        -8.2947e-01, -2.2475e-02,  2.5345e-01, -2.4302e-01,  7.8566e-01,\n",
      "        -1.1636e-01,  1.0788e-02, -2.1525e-01,  5.7212e-02,  1.0245e-01,\n",
      "        -5.4720e-02, -7.2953e-02], grad_fn=<SumBackward1>)\n"
     ]
    }
   ],
   "source": [
    "y_pred = net4(V(xt[0]))\n",
    "print(y_pred)\n",
    "l = binary_loss(y_pred, yt)"
   ]
  },
  {
   "cell_type": "code",
   "execution_count": 2379,
   "metadata": {},
   "outputs": [
    {
     "data": {
      "text/plain": [
       "tensor([-5.7479e-02, -4.1577e-02, -9.9442e-03, -3.4373e-03, -5.4424e-03,\n",
       "        -1.7379e-01,  4.3313e-01, -1.8541e-02, -1.2916e-03,  5.5653e-01,\n",
       "         4.7712e-01, -1.1129e-02,  8.4602e-03, -1.2968e+00, -8.2108e-02,\n",
       "        -1.1287e-01,  5.4082e-01,  2.6922e-01, -1.1351e+00, -5.3193e-02,\n",
       "        -1.9695e-02,  1.0134e-01, -3.6570e-01, -8.8736e-01, -4.2275e-01,\n",
       "        -1.2697e-01,  7.9732e-01, -2.4320e-01,  5.2103e-02,  2.9463e-02,\n",
       "        -4.4487e-02, -2.5613e-01, -1.9596e-02, -4.2846e-01, -6.5210e-02,\n",
       "         1.1156e-01, -1.2319e-01,  6.2853e-02, -6.1823e-01, -1.2425e-01,\n",
       "        -7.9586e-02, -1.9558e-01,  1.2358e-02,  2.1014e-02, -1.2308e-02,\n",
       "        -1.3063e-01,  4.5022e-01, -1.2068e+00, -1.2334e-01, -3.1028e-01,\n",
       "        -2.9966e-01,  2.5392e-01, -2.5411e-01, -1.6408e-01,  1.2500e+00,\n",
       "        -1.1374e-01, -7.6541e-01,  1.3722e-02,  3.2920e-01, -1.1014e+00,\n",
       "         1.0075e-01, -8.0419e-02, -1.0222e+00,  1.6660e-01, -1.1755e+00,\n",
       "         7.0972e-01,  3.5182e-01, -2.4431e-01, -7.7228e-01, -2.7973e-01,\n",
       "        -1.8411e-01,  2.0526e-03, -8.7826e-01, -1.1126e+00, -7.2862e-01,\n",
       "        -5.4179e-01, -1.3730e-02,  6.7001e-01, -2.3746e-01, -4.7475e-02,\n",
       "        -5.2959e-03, -8.2466e-02, -1.9813e-01, -4.2640e-02, -1.0398e-01,\n",
       "        -8.2947e-01, -2.2475e-02,  2.5345e-01, -2.4302e-01,  7.8566e-01,\n",
       "        -1.1636e-01,  1.0788e-02, -2.1525e-01,  5.7212e-02,  1.0245e-01,\n",
       "        -5.4720e-02, -7.2953e-02], grad_fn=<SumBackward1>)"
      ]
     },
     "execution_count": 2379,
     "metadata": {},
     "output_type": "execute_result"
    }
   ],
   "source": [
    "y_pred"
   ]
  },
  {
   "cell_type": "code",
   "execution_count": 2380,
   "metadata": {},
   "outputs": [
    {
     "name": "stdout",
     "output_type": "stream",
     "text": [
      "None\n"
     ]
    }
   ],
   "source": [
    "print(net4.w.weight.grad)"
   ]
  },
  {
   "cell_type": "code",
   "execution_count": 2381,
   "metadata": {},
   "outputs": [
    {
     "data": {
      "text/plain": [
       "torch.Size([])"
      ]
     },
     "execution_count": 2381,
     "metadata": {},
     "output_type": "execute_result"
    }
   ],
   "source": [
    "l.shape"
   ]
  },
  {
   "cell_type": "code",
   "execution_count": 2382,
   "metadata": {},
   "outputs": [],
   "source": [
    "l.backward()"
   ]
  },
  {
   "cell_type": "code",
   "execution_count": 2383,
   "metadata": {},
   "outputs": [
    {
     "data": {
      "text/plain": [
       "((200,),\n",
       " array([0, 0, 0, 0, 0, 0, 0, 0, 0, 0, 0, 0, 0, 0, 0, 0, 0, 0, 0, 0, 0, 0, 0, 0, 0, 0, 0, 0, 0, 0, 0, 0, 0, 0,\n",
       "        0, 0, 0, 0, 0, 0, 0, 0, 0, 0, 0, 0, 0, 0, 0, 0, 0, 0, 0, 0, 0, 0, 0, 0, 0, 0, 0, 0, 0, 0, 0, 0, 0, 0,\n",
       "        0, 0, 0, 0, 0, 0, 0, 0, 0, 0, 0, 0, 0, 0, 0, 0, 0, 0, 0, 0, 0, 0, 0, 0, 0, 0, 0, 0, 0, 0, 0, 0, 0, 0,\n",
       "        0, 1, 1, 1, 1, 1, 1, 1, 1, 1, 1, 1, 1, 1, 1, 1, 1, 1, 1, 1, 1, 1, 1, 1, 1, 1, 1, 1, 1, 1, 1, 1, 1, 1,\n",
       "        1, 1, 1, 1, 1, 1, 1, 1, 1, 1, 1, 1, 1, 1, 1, 1, 1, 1, 1, 1, 1, 1, 1, 1, 1, 1, 1, 1, 1, 1, 1, 1, 1, 1,\n",
       "        1, 1, 1, 1, 1, 1, 1, 1, 1, 1, 1, 1, 1, 1, 1, 1, 1, 1, 1, 1, 1, 1, 1, 1, 1, 1, 1, 1, 1, 1]))"
      ]
     },
     "execution_count": 2383,
     "metadata": {},
     "output_type": "execute_result"
    }
   ],
   "source": [
    "_a.shape, _a"
   ]
  },
  {
   "cell_type": "code",
   "execution_count": 2384,
   "metadata": {},
   "outputs": [
    {
     "name": "stdout",
     "output_type": "stream",
     "text": [
      "2 tensor(0.0050) tensor([-0.0575])\n",
      "8 tensor(0.0050) tensor([-0.0416])\n",
      "13 tensor(0.0051) tensor([-0.0099])\n",
      "15 tensor(0.0051) tensor([-0.0034])\n",
      "1050 tensor(0.0051) tensor([-0.0054])\n",
      "1609 tensor(0.0047) tensor([-0.1738])\n",
      "2419 tensor(0.0063) tensor([0.4331])\n",
      "2619 tensor(0.0051) tensor([-0.0185])\n",
      "2726 tensor(0.0052) tensor([-0.0013])\n",
      "2852 tensor(0.0066) tensor([0.5565])\n",
      "3054 tensor(0.0064) tensor([0.4771])\n",
      "3123 tensor(0.0051) tensor([-0.0111])\n",
      "3219 tensor(0.0052) tensor([0.0085])\n",
      "3477 tensor(0.0022) tensor([-1.2968])\n",
      "4721 tensor(0.0049) tensor([-0.0821])\n",
      "5221 tensor(0.0049) tensor([-0.1129])\n",
      "6178 tensor(0.0065) tensor([0.5408])\n",
      "7456 tensor(0.0058) tensor([0.2692])\n",
      "7607 tensor(0.0025) tensor([-1.1351])\n",
      "9854 tensor(0.0050) tensor([-0.0532])\n",
      "11612 tensor(0.0051) tensor([-0.0197])\n",
      "16116 tensor(0.0054) tensor([0.1013])\n",
      "16843 tensor(0.0042) tensor([-0.3657])\n",
      "16908 tensor(0.0030) tensor([-0.8874])\n",
      "18297 tensor(0.0041) tensor([-0.4228])\n",
      "18572 tensor(0.0048) tensor([-0.1270])\n",
      "18633 tensor(0.0071) tensor([0.7973])\n",
      "19321 tensor(0.0045) tensor([-0.2432])\n",
      "19416 tensor(0.0053) tensor([0.0521])\n",
      "26188 tensor(0.0052) tensor([0.0295])\n",
      "27958 tensor(0.0050) tensor([-0.0445])\n",
      "27976 tensor(0.0045) tensor([-0.2561])\n",
      "28081 tensor(0.0051) tensor([-0.0196])\n",
      "28241 tensor(0.0041) tensor([-0.4285])\n",
      "29839 tensor(0.0050) tensor([-0.0652])\n",
      "30016 tensor(0.0054) tensor([0.1116])\n",
      "30135 tensor(0.0048) tensor([-0.1232])\n",
      "30228 tensor(0.0053) tensor([0.0629])\n",
      "30522 tensor(0.0036) tensor([-0.6182])\n",
      "30688 tensor(0.0048) tensor([-0.1243])\n",
      "32391 tensor(0.0049) tensor([-0.0796])\n",
      "32547 tensor(0.0047) tensor([-0.1956])\n",
      "33036 tensor(0.0052) tensor([0.0124])\n",
      "34616 tensor(0.0052) tensor([0.0210])\n",
      "34716 tensor(0.0051) tensor([-0.0123])\n",
      "35214 tensor(0.0048) tensor([-0.1306])\n",
      "35479 tensor(0.0063) tensor([0.4502])\n",
      "36053 tensor(0.0024) tensor([-1.2068])\n",
      "36952 tensor(0.0048) tensor([-0.1233])\n",
      "40469 tensor(0.0044) tensor([-0.3103])\n",
      "41399 tensor(0.0044) tensor([-0.2997])\n",
      "41481 tensor(0.0058) tensor([0.2539])\n",
      "43470 tensor(0.0045) tensor([-0.2541])\n",
      "44202 tensor(0.0047) tensor([-0.1641])\n",
      "45506 tensor(0.0080) tensor([1.2500])\n",
      "46117 tensor(0.0049) tensor([-0.1137])\n",
      "46868 tensor(0.0033) tensor([-0.7654])\n",
      "47002 tensor(0.0052) tensor([0.0137])\n",
      "47483 tensor(0.0060) tensor([0.3292])\n",
      "47504 tensor(0.0026) tensor([-1.1014])\n",
      "47614 tensor(0.0054) tensor([0.1007])\n",
      "47687 tensor(0.0049) tensor([-0.0804])\n",
      "48126 tensor(0.0027) tensor([-1.0222])\n",
      "48661 tensor(0.0056) tensor([0.1666])\n",
      "49042 tensor(0.0024) tensor([-1.1755])\n",
      "49320 tensor(0.0069) tensor([0.7097])\n",
      "50396 tensor(0.0061) tensor([0.3518])\n",
      "51098 tensor(0.0045) tensor([-0.2443])\n",
      "51518 tensor(0.0033) tensor([-0.7723])\n",
      "53845 tensor(0.0044) tensor([-0.2797])\n",
      "56897 tensor(0.0047) tensor([-0.1841])\n",
      "57049 tensor(0.0052) tensor([0.0021])\n",
      "58068 tensor(0.0030) tensor([-0.8783])\n",
      "58353 tensor(0.0026) tensor([-1.1126])\n",
      "58411 tensor(0.0034) tensor([-0.7286])\n",
      "60589 tensor(0.0038) tensor([-0.5418])\n",
      "64229 tensor(0.0051) tensor([-0.0137])\n",
      "64759 tensor(0.0068) tensor([0.6700])\n",
      "65309 tensor(0.0045) tensor([-0.2375])\n",
      "66441 tensor(0.0050) tensor([-0.0475])\n",
      "66458 tensor(0.0051) tensor([-0.0053])\n",
      "66495 tensor(0.0049) tensor([-0.0825])\n",
      "66554 tensor(0.0046) tensor([-0.1981])\n",
      "66684 tensor(0.0050) tensor([-0.0426])\n",
      "66821 tensor(0.0049) tensor([-0.1040])\n",
      "67027 tensor(0.0031) tensor([-0.8295])\n",
      "67252 tensor(0.0051) tensor([-0.0225])\n",
      "67488 tensor(0.0058) tensor([0.2535])\n",
      "68749 tensor(0.0045) tensor([-0.2430])\n",
      "69788 tensor(0.0071) tensor([0.7857])\n",
      "72337 tensor(0.0049) tensor([-0.1164])\n",
      "72479 tensor(0.0052) tensor([0.0108])\n",
      "72745 tensor(0.0046) tensor([-0.2153])\n",
      "72896 tensor(0.0053) tensor([0.0572])\n",
      "73766 tensor(0.0054) tensor([0.1024])\n",
      "73991 tensor(0.0050) tensor([-0.0547])\n",
      "74478 tensor(0.0050) tensor([-0.0730])\n"
     ]
    }
   ],
   "source": [
    "for idx, i in enumerate(net4.w.weight.grad.data):\n",
    "    for j in i:\n",
    "        if j != 0:\n",
    "            print(idx, j, net4.w.weight.data[idx])"
   ]
  },
  {
   "cell_type": "code",
   "execution_count": null,
   "metadata": {},
   "outputs": [],
   "source": []
  },
  {
   "cell_type": "code",
   "execution_count": 2385,
   "metadata": {},
   "outputs": [],
   "source": [
    "net4.w.weight.data -= net4.w.weight.grad.data * lr"
   ]
  },
  {
   "cell_type": "code",
   "execution_count": 2386,
   "metadata": {},
   "outputs": [
    {
     "data": {
      "text/plain": [
       "0.01"
      ]
     },
     "execution_count": 2386,
     "metadata": {},
     "output_type": "execute_result"
    }
   ],
   "source": [
    "lr"
   ]
  },
  {
   "cell_type": "code",
   "execution_count": 2387,
   "metadata": {},
   "outputs": [
    {
     "data": {
      "text/plain": [
       "tensor([[ 0.6904],\n",
       "        [-0.6959],\n",
       "        [-0.0575],\n",
       "        ...,\n",
       "        [ 0.6904],\n",
       "        [-0.0028],\n",
       "        [-0.6959]])"
      ]
     },
     "execution_count": 2387,
     "metadata": {},
     "output_type": "execute_result"
    }
   ],
   "source": [
    "net4.w.weight.data"
   ]
  },
  {
   "cell_type": "code",
   "execution_count": 2388,
   "metadata": {},
   "outputs": [
    {
     "data": {
      "text/plain": [
       "tensor([[0.0000],\n",
       "        [0.0000],\n",
       "        [0.0050],\n",
       "        ...,\n",
       "        [0.0000],\n",
       "        [0.0000],\n",
       "        [0.0000]])"
      ]
     },
     "execution_count": 2388,
     "metadata": {},
     "output_type": "execute_result"
    }
   ],
   "source": [
    "net4.w.weight.grad.data"
   ]
  },
  {
   "cell_type": "code",
   "execution_count": 2389,
   "metadata": {},
   "outputs": [
    {
     "name": "stdout",
     "output_type": "stream",
     "text": [
      "tensor(0.0050)\n",
      "tensor(0.0050)\n",
      "tensor(0.0051)\n",
      "tensor(0.0051)\n",
      "tensor(0.0051)\n",
      "tensor(0.0047)\n",
      "tensor(0.0063)\n",
      "tensor(0.0051)\n",
      "tensor(0.0052)\n",
      "tensor(0.0066)\n",
      "tensor(0.0064)\n",
      "tensor(0.0051)\n",
      "tensor(0.0052)\n",
      "tensor(0.0022)\n",
      "tensor(0.0049)\n",
      "tensor(0.0049)\n",
      "tensor(0.0065)\n",
      "tensor(0.0058)\n",
      "tensor(0.0025)\n",
      "tensor(0.0050)\n",
      "tensor(0.0051)\n",
      "tensor(0.0054)\n",
      "tensor(0.0042)\n",
      "tensor(0.0030)\n",
      "tensor(0.0041)\n",
      "tensor(0.0048)\n",
      "tensor(0.0071)\n",
      "tensor(0.0045)\n",
      "tensor(0.0053)\n",
      "tensor(0.0052)\n",
      "tensor(0.0050)\n",
      "tensor(0.0045)\n",
      "tensor(0.0051)\n",
      "tensor(0.0041)\n",
      "tensor(0.0050)\n",
      "tensor(0.0054)\n",
      "tensor(0.0048)\n",
      "tensor(0.0053)\n",
      "tensor(0.0036)\n",
      "tensor(0.0048)\n",
      "tensor(0.0049)\n",
      "tensor(0.0047)\n",
      "tensor(0.0052)\n",
      "tensor(0.0052)\n",
      "tensor(0.0051)\n",
      "tensor(0.0048)\n",
      "tensor(0.0063)\n",
      "tensor(0.0024)\n",
      "tensor(0.0048)\n",
      "tensor(0.0044)\n",
      "tensor(0.0044)\n",
      "tensor(0.0058)\n",
      "tensor(0.0045)\n",
      "tensor(0.0047)\n",
      "tensor(0.0080)\n",
      "tensor(0.0049)\n",
      "tensor(0.0033)\n",
      "tensor(0.0052)\n",
      "tensor(0.0060)\n",
      "tensor(0.0026)\n",
      "tensor(0.0054)\n",
      "tensor(0.0049)\n",
      "tensor(0.0027)\n",
      "tensor(0.0056)\n",
      "tensor(0.0024)\n",
      "tensor(0.0069)\n",
      "tensor(0.0061)\n",
      "tensor(0.0045)\n",
      "tensor(0.0033)\n",
      "tensor(0.0044)\n",
      "tensor(0.0047)\n",
      "tensor(0.0052)\n",
      "tensor(0.0030)\n",
      "tensor(0.0026)\n",
      "tensor(0.0034)\n",
      "tensor(0.0038)\n",
      "tensor(0.0051)\n",
      "tensor(0.0068)\n",
      "tensor(0.0045)\n",
      "tensor(0.0050)\n",
      "tensor(0.0051)\n",
      "tensor(0.0049)\n",
      "tensor(0.0046)\n",
      "tensor(0.0050)\n",
      "tensor(0.0049)\n",
      "tensor(0.0031)\n",
      "tensor(0.0051)\n",
      "tensor(0.0058)\n",
      "tensor(0.0045)\n",
      "tensor(0.0071)\n",
      "tensor(0.0049)\n",
      "tensor(0.0052)\n",
      "tensor(0.0046)\n",
      "tensor(0.0053)\n",
      "tensor(0.0054)\n",
      "tensor(0.0050)\n",
      "tensor(0.0050)\n"
     ]
    }
   ],
   "source": [
    "for i in net4.w.weight.grad.data:\n",
    "    for j in i:\n",
    "        if j != 0:\n",
    "            print(j)"
   ]
  },
  {
   "cell_type": "code",
   "execution_count": 2390,
   "metadata": {},
   "outputs": [
    {
     "data": {
      "text/plain": [
       "tensor([[0.],\n",
       "        [0.],\n",
       "        [0.],\n",
       "        ...,\n",
       "        [0.],\n",
       "        [0.],\n",
       "        [0.]])"
      ]
     },
     "execution_count": 2390,
     "metadata": {},
     "output_type": "execute_result"
    }
   ],
   "source": [
    "net4.w.weight.grad.data.zero_()"
   ]
  },
  {
   "cell_type": "code",
   "execution_count": null,
   "metadata": {},
   "outputs": [],
   "source": []
  },
  {
   "cell_type": "code",
   "execution_count": 2391,
   "metadata": {},
   "outputs": [],
   "source": [
    "from datetime import datetime"
   ]
  },
  {
   "cell_type": "code",
   "execution_count": 2392,
   "metadata": {},
   "outputs": [
    {
     "data": {
      "text/plain": [
       "25000"
      ]
     },
     "execution_count": 2392,
     "metadata": {},
     "output_type": "execute_result"
    }
   ],
   "source": [
    "len(md.trn_ds)"
   ]
  },
  {
   "cell_type": "code",
   "execution_count": 2393,
   "metadata": {},
   "outputs": [],
   "source": [
    "a1, a2, a3, a4 = md.trn_ds[0]"
   ]
  },
  {
   "cell_type": "code",
   "execution_count": 2394,
   "metadata": {},
   "outputs": [
    {
     "data": {
      "text/plain": [
       "array([    0,     0,     0,     0,     0,     0,     0,     0,     0,     0,     0,     0,     0,     0,\n",
       "           0,     0,     0,     0,     0,     0,     0,     0,     0,     0,     0,     0,     0,     0,\n",
       "           0,     0,     0,     0,     0,     0,     0,     0,     0,     0,     0,     0,     0,     0,\n",
       "           0,     0,     0,     0,     0,     0,     0,     0,     0,     0,     0,     0,     0,     0,\n",
       "           0,     0,     0,     0,     0,     0,     0,     0,     0,     0,     0,     0,     0,     0,\n",
       "           0,     0,     0,     0,     0,     0,     0,     0,     0,     0,     0,     0,     0,     0,\n",
       "           0,     0,     0,     0,     0,     0,     0,     0,     0,     0,     0,     0,     0,     0,\n",
       "           0,     0,     0,     0,     0,     0,     0,     0,     0,     0,     0,     0,     0,     0,\n",
       "           0,     0,     0,     0,     0,     0,     0,     0,     0,     0,     0,     0,     0,     0,\n",
       "           0,     0,     0,     0,     0,     0,     0,     0,     0,     0,     0,     0,     0,     0,\n",
       "           0,     0,     0,     0,     0,     0,     0,     0,     0,     0,     0,     0,     0,     0,\n",
       "           0,     0,     0,     9,    14,    16,    17,  1040,  1042,  1051,  3220,  3815,  4927,  6305,\n",
       "        7013,  8697,  8776, 10931, 15445, 24541, 24771, 25594, 26189, 28082, 34717, 40650, 46097, 46750,\n",
       "       46987, 47003, 57050, 59331, 61968, 61970, 63123, 63342, 65485, 66459, 66555, 66685, 67253, 69419,\n",
       "       72932, 73146, 73489, 73783])"
      ]
     },
     "execution_count": 2394,
     "metadata": {},
     "output_type": "execute_result"
    }
   ],
   "source": [
    "a1"
   ]
  },
  {
   "cell_type": "code",
   "execution_count": 2395,
   "metadata": {},
   "outputs": [
    {
     "data": {
      "text/plain": [
       "array([0, 0, 0, 0, 0, 0, 0, 0, 0, 0, 0, 0, 0, 0, 0, 0, 0, 0, 0, 0, 0, 0, 0, 0, 0, 0, 0, 0, 0, 0, 0, 0, 0, 0,\n",
       "       0, 0, 0, 0, 0, 0, 0, 0, 0, 0, 0, 0, 0, 0, 0, 0, 0, 0, 0, 0, 0, 0, 0, 0, 0, 0, 0, 0, 0, 0, 0, 0, 0, 0,\n",
       "       0, 0, 0, 0, 0, 0, 0, 0, 0, 0, 0, 0, 0, 0, 0, 0, 0, 0, 0, 0, 0, 0, 0, 0, 0, 0, 0, 0, 0, 0, 0, 0, 0, 0,\n",
       "       0, 0, 0, 0, 0, 0, 0, 0, 0, 0, 0, 0, 0, 0, 0, 0, 0, 0, 0, 0, 0, 0, 0, 0, 0, 0, 0, 0, 0, 0, 0, 0, 0, 0,\n",
       "       0, 0, 0, 0, 0, 0, 0, 0, 0, 0, 0, 0, 0, 0, 0, 0, 0, 0, 0, 0, 0, 1, 1, 1, 1, 1, 1, 1, 1, 1, 1, 1, 1, 1,\n",
       "       1, 1, 1, 1, 1, 1, 1, 1, 1, 1, 1, 1, 1, 1, 1, 1, 1, 1, 1, 1, 1, 1, 1, 1, 1, 1, 1, 1, 1, 1])"
      ]
     },
     "execution_count": 2395,
     "metadata": {},
     "output_type": "execute_result"
    }
   ],
   "source": [
    "a2"
   ]
  },
  {
   "cell_type": "code",
   "execution_count": 2396,
   "metadata": {},
   "outputs": [
    {
     "data": {
      "text/plain": [
       "43"
      ]
     },
     "execution_count": 2396,
     "metadata": {},
     "output_type": "execute_result"
    }
   ],
   "source": [
    "a3"
   ]
  },
  {
   "cell_type": "code",
   "execution_count": 2397,
   "metadata": {},
   "outputs": [
    {
     "data": {
      "text/plain": [
       "(array([1., 0.], dtype=float32), 0)"
      ]
     },
     "execution_count": 2397,
     "metadata": {},
     "output_type": "execute_result"
    }
   ],
   "source": [
    "a4, np.argmax(a4)"
   ]
  },
  {
   "cell_type": "code",
   "execution_count": 2398,
   "metadata": {},
   "outputs": [
    {
     "data": {
      "text/plain": [
       "tensor(1.)"
      ]
     },
     "execution_count": 2398,
     "metadata": {},
     "output_type": "execute_result"
    }
   ],
   "source": [
    "torch.max(V(a4))"
   ]
  },
  {
   "cell_type": "code",
   "execution_count": 2399,
   "metadata": {},
   "outputs": [
    {
     "data": {
      "text/plain": [
       "tensor(0.7510, grad_fn=<MeanBackward0>)"
      ]
     },
     "execution_count": 2399,
     "metadata": {},
     "output_type": "execute_result"
    }
   ],
   "source": [
    "loss(net4(V(a1)), V(a4))"
   ]
  },
  {
   "cell_type": "code",
   "execution_count": 2400,
   "metadata": {},
   "outputs": [
    {
     "data": {
      "text/plain": [
       "tensor([-0.0416, -0.0100, -0.0035, -0.0461, -0.0515, -0.0512, -0.0055,  0.0084,\n",
       "         0.2876, -0.1038, -0.1112,  0.5915, -0.0508,  0.3737,  0.2350, -0.0028,\n",
       "         0.0321,  0.8845,  0.3313,  0.0294, -0.0196, -0.0124,  0.2772, -0.6425,\n",
       "        -0.0039, -0.0378,  0.0137,  0.0020,  0.2349,  0.1294, -0.5241,  0.7996,\n",
       "         0.2971,  0.0267, -0.0053, -0.1982, -0.0427, -0.0225,  0.0592, -0.0718,\n",
       "         1.0470,  0.0216,  0.2935], grad_fn=<SumBackward1>)"
      ]
     },
     "execution_count": 2400,
     "metadata": {},
     "output_type": "execute_result"
    }
   ],
   "source": [
    "net4(V(a1))"
   ]
  },
  {
   "cell_type": "code",
   "execution_count": 2401,
   "metadata": {},
   "outputs": [],
   "source": [
    "def score2(x, y):\n",
    "    y_pred = to_np(net2(V(x)))\n",
    "    return np.sum(y_pred.argmax(axis=1) == to_np(y).argmax(axis=1))/len(y_pred)"
   ]
  },
  {
   "cell_type": "code",
   "execution_count": 2411,
   "metadata": {},
   "outputs": [],
   "source": [
    "def score(x, y):\n",
    "    # print(f'x={x}, y={y}')\n",
    "    y_pred = to_np(net2(V(x))).sum() >= 0\n",
    "    # print(f'y_pred={y_pred}')\n",
    "    y2 = np.argmax(y)\n",
    "    # print(f'y2={y2}')\n",
    "    return np.sum(y_pred == y2)"
   ]
  },
  {
   "cell_type": "code",
   "execution_count": null,
   "metadata": {},
   "outputs": [],
   "source": []
  },
  {
   "cell_type": "code",
   "execution_count": 2412,
   "metadata": {},
   "outputs": [],
   "source": [
    "from tqdm import notebook"
   ]
  },
  {
   "cell_type": "code",
   "execution_count": 2413,
   "metadata": {},
   "outputs": [
    {
     "data": {
      "text/plain": [
       "datetime.datetime(2020, 1, 5, 0, 51, 11, 27199)"
      ]
     },
     "execution_count": 2413,
     "metadata": {},
     "output_type": "execute_result"
    }
   ],
   "source": [
    "datetime.now()"
   ]
  },
  {
   "cell_type": "code",
   "execution_count": 2408,
   "metadata": {},
   "outputs": [],
   "source": [
    "net2 = MySimpleNB(len(vocab), 1)\n",
    "# loss = nn.NLLLoss()\n",
    "# loss = torch.nn.CrossEntropyLoss()\n",
    "loss = binary_loss\n",
    "# lr = 1e-0\n",
    "lr = 1e-3\n",
    "train_list = []\n",
    "val_list = []\n",
    "loss_list = []"
   ]
  },
  {
   "cell_type": "code",
   "execution_count": 2423,
   "metadata": {},
   "outputs": [
    {
     "name": "stdout",
     "output_type": "stream",
     "text": [
      "100%|██████████| 25000/25000 [00:26<00:00, 927.21it/s]\n"
     ]
    },
    {
     "data": {
      "text/plain": [
       "0.82072"
      ]
     },
     "execution_count": 2423,
     "metadata": {},
     "output_type": "execute_result"
    }
   ],
   "source": [
    "val_scores = []\n",
    "for t in tqdm(md.val_ds, total=len(md.val_ds)):\n",
    "    x, _a, _b, y = t\n",
    "    val_scores.append(score(x,y))\n",
    "np.mean(to_np(val_scores))"
   ]
  },
  {
   "cell_type": "code",
   "execution_count": null,
   "metadata": {
    "scrolled": false
   },
   "outputs": [
    {
     "name": "stdout",
     "output_type": "stream",
     "text": [
      "lr=0.001\n",
      "\n",
      "epoch: 0\n",
      "time: 2020-01-05 01:06:50.722346\n",
      "100%|██████████| 25000/25000 [00:42<00:00, 582.28it/s]\n",
      "100%|██████████| 25000/25000 [00:30<00:00, 829.15it/s]\n",
      "100%|██████████| 25000/25000 [00:26<00:00, 937.68it/s]\n",
      "epoch=0, score=0.6637813448905945\n",
      "epoch=0, score=0.82116\n",
      "\n",
      "epoch: 1\n",
      "time: 2020-01-05 01:08:30.588419\n",
      "100%|██████████| 25000/25000 [00:41<00:00, 597.01it/s]\n",
      "100%|██████████| 25000/25000 [00:29<00:00, 845.80it/s]\n",
      "100%|██████████| 25000/25000 [00:26<00:00, 957.53it/s]\n",
      "epoch=1, score=0.663774311542511\n",
      "epoch=1, score=0.822\n",
      "\n",
      "epoch: 2\n",
      "time: 2020-01-05 01:10:08.714540\n",
      "100%|██████████| 25000/25000 [00:42<00:00, 591.97it/s]\n",
      " 92%|█████████▏| 22969/25000 [00:27<00:02, 860.80it/s]"
     ]
    }
   ],
   "source": [
    "print(f'lr={lr}')\n",
    "for epoch in range(10):\n",
    "    print('')\n",
    "    print('epoch:', epoch)\n",
    "    print('time:', datetime.now())\n",
    "    loss_list = [0]\n",
    "    for index, t in tqdm(enumerate(md.trn_ds), total=len(md.trn_ds)):\n",
    "        xt, _a, _b, yt = t\n",
    "        y_pred = net2(V(xt))\n",
    "        l = loss(y_pred, V(yt))\n",
    "        # l = loss(yt, y_pred)\n",
    "        loss_list.append(l)\n",
    "        # print(f'{index}, {l}, {datetime.now().time()}')\n",
    "\n",
    "        # Backward pass: \n",
    "        # compute gradient of the loss with respect to \n",
    "        # model parameters\n",
    "        l.backward()\n",
    "        net2.w.weight.data -= net2.w.weight.grad.data * lr\n",
    "        # net2.b.data -= net2.b.grad.data * lr\n",
    "        \n",
    "        net2.w.weight.grad.data.zero_()\n",
    "        # net2.b.grad.data.zero_()   \n",
    "\n",
    "    if epoch % 1 == 0:\n",
    "        train_scores = []\n",
    "        for t in tqdm(md.trn_ds, total=len(md.trn_ds)):\n",
    "            x, _a, _b, y = t\n",
    "            train_scores.append(loss(net2(V(x)), V(y)))\n",
    "        l2 = np.mean(to_np(train_scores))\n",
    "        train_list.append(l2)\n",
    "        \n",
    "        val_scores = []\n",
    "        for t in tqdm(md.val_ds, total=len(md.val_ds)):\n",
    "            x, _a, _b, y = t\n",
    "            val_scores.append(score(x,y))\n",
    "        l3 = np.mean(to_np(val_scores))\n",
    "        val_list.append(l3)\n",
    "\n",
    "        # print(f'epoch={epoch}, score={np.mean(val_scores)}')\n",
    "        print(f'epoch={epoch}, score={l2}')\n",
    "        print(f'epoch={epoch}, score={l3}')"
   ]
  },
  {
   "cell_type": "code",
   "execution_count": 2073,
   "metadata": {},
   "outputs": [],
   "source": [
    "import matplotlib.pyplot as plt\n",
    "import pandas as pd"
   ]
  },
  {
   "cell_type": "code",
   "execution_count": 2074,
   "metadata": {},
   "outputs": [],
   "source": [
    "df = pd.DataFrame({'train':train_list, 'valid':val_list})"
   ]
  },
  {
   "cell_type": "code",
   "execution_count": 2075,
   "metadata": {},
   "outputs": [
    {
     "data": {
      "text/plain": [
       "array([<matplotlib.axes._subplots.AxesSubplot object at 0x1a4639dfd0>,\n",
       "       <matplotlib.axes._subplots.AxesSubplot object at 0x1a51c2b0f0>], dtype=object)"
      ]
     },
     "execution_count": 2075,
     "metadata": {},
     "output_type": "execute_result"
    },
    {
     "data": {
      "image/png": "[encoded data removed]",
      "text/plain": [
       "<Figure size 432x288 with 2 Axes>"
      ]
     },
     "metadata": {
      "needs_background": "light"
     },
     "output_type": "display_data"
    }
   ],
   "source": [
    "df.plot(subplots=True)"
   ]
  },
  {
   "cell_type": "code",
   "execution_count": 2076,
   "metadata": {},
   "outputs": [
    {
     "data": {
      "text/plain": [
       "[<matplotlib.lines.Line2D at 0x1a44857358>]"
      ]
     },
     "execution_count": 2076,
     "metadata": {},
     "output_type": "execute_result"
    },
    {
     "data": {
      "image/png": "[encoded data removed]",
      "text/plain": [
       "<Figure size 432x288 with 1 Axes>"
      ]
     },
     "metadata": {
      "needs_background": "light"
     },
     "output_type": "display_data"
    }
   ],
   "source": [
    "plt.plot(loss_list)"
   ]
  },
  {
   "cell_type": "markdown",
   "metadata": {},
   "source": [
    "## Deep NB"
   ]
  },
  {
   "cell_type": "code",
   "execution_count": null,
   "metadata": {},
   "outputs": [],
   "source": []
  }
 ],
 "metadata": {
  "jupytext": {
   "cell_metadata_filter": "-all",
   "formats": "ipynb,py:light",
   "notebook_metadata_filter": "-all"
  },
  "kernelspec": {
   "display_name": "Python 3",
   "language": "python",
   "name": "python3"
  },
  "language_info": {
   "codemirror_mode": {
    "name": "ipython",
    "version": 3
   },
   "file_extension": ".py",
   "mimetype": "text/x-python",
   "name": "python",
   "nbconvert_exporter": "python",
   "pygments_lexer": "ipython3",
   "version": "3.6.9"
  }
 },
 "nbformat": 4,
 "nbformat_minor": 2
}
