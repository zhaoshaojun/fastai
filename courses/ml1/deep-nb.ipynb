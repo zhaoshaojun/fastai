{
 "cells": [
  {
   "cell_type": "code",
   "execution_count": 1,
   "metadata": {},
   "outputs": [],
   "source": [
    "%reload_ext autoreload\n",
    "%autoreload 2\n",
    "%matplotlib inline\n",
    "\n",
    "from fastai.nlp import *\n",
    "from sklearn.linear_model import LogisticRegression"
   ]
  },
  {
   "cell_type": "markdown",
   "metadata": {
    "heading_collapsed": true
   },
   "source": [
    "## create dataset"
   ]
  },
  {
   "cell_type": "code",
   "execution_count": 2,
   "metadata": {
    "hidden": true
   },
   "outputs": [],
   "source": [
    "PATH='data/aclImdb/'\n",
    "names = ['neg','pos']\n",
    "names1 = ['neg', 'pos_']\n",
    "names2 = ['neg_', 'pos']"
   ]
  },
  {
   "cell_type": "code",
   "execution_count": 3,
   "metadata": {
    "hidden": true
   },
   "outputs": [
    {
     "name": "stdout",
     "output_type": "stream",
     "text": [
      "labeledBow.feat \u001b[34mpos\u001b[m\u001b[m             unsupBow.feat   urls_pos.txt\r\n",
      "\u001b[34mneg\u001b[m\u001b[m             \u001b[34munsup\u001b[m\u001b[m           urls_neg.txt    urls_unsup.txt\r\n"
     ]
    }
   ],
   "source": [
    "! ls {PATH}train"
   ]
  },
  {
   "cell_type": "code",
   "execution_count": 4,
   "metadata": {
    "hidden": true
   },
   "outputs": [],
   "source": [
    "trn1,trn1_y = texts_labels_from_folders(f'{PATH}train',names1)\n",
    "val1,val1_y = texts_labels_from_folders(f'{PATH}test',names1)"
   ]
  },
  {
   "cell_type": "code",
   "execution_count": 5,
   "metadata": {
    "hidden": true
   },
   "outputs": [],
   "source": [
    "trn2,trn2_y = texts_labels_from_folders(f'{PATH}train',names2)\n",
    "val2,val2_y = texts_labels_from_folders(f'{PATH}test',names2)"
   ]
  },
  {
   "cell_type": "code",
   "execution_count": 6,
   "metadata": {
    "hidden": true
   },
   "outputs": [
    {
     "data": {
      "text/plain": [
       "(12500, 12500, 12500, 12500)"
      ]
     },
     "execution_count": 6,
     "metadata": {},
     "output_type": "execute_result"
    }
   ],
   "source": [
    "len(trn1), len(trn1_y), len(trn2), len(trn2_y)"
   ]
  },
  {
   "cell_type": "code",
   "execution_count": 7,
   "metadata": {
    "hidden": true
   },
   "outputs": [
    {
     "data": {
      "text/plain": [
       "True"
      ]
     },
     "execution_count": 7,
     "metadata": {},
     "output_type": "execute_result"
    }
   ],
   "source": [
    "assert (trn1_y==0).all()\n",
    "(trn1_y==0).all()"
   ]
  },
  {
   "cell_type": "code",
   "execution_count": 8,
   "metadata": {
    "hidden": true
   },
   "outputs": [
    {
     "data": {
      "text/plain": [
       "True"
      ]
     },
     "execution_count": 8,
     "metadata": {},
     "output_type": "execute_result"
    }
   ],
   "source": [
    "assert (trn1_y==0).all()\n",
    "(val1_y==0).all()"
   ]
  },
  {
   "cell_type": "code",
   "execution_count": 9,
   "metadata": {
    "hidden": true
   },
   "outputs": [
    {
     "data": {
      "text/plain": [
       "True"
      ]
     },
     "execution_count": 9,
     "metadata": {},
     "output_type": "execute_result"
    }
   ],
   "source": [
    "assert (trn2_y==1).all()\n",
    "(trn2_y==1).all()"
   ]
  },
  {
   "cell_type": "code",
   "execution_count": 10,
   "metadata": {
    "hidden": true
   },
   "outputs": [
    {
     "data": {
      "text/plain": [
       "True"
      ]
     },
     "execution_count": 10,
     "metadata": {},
     "output_type": "execute_result"
    }
   ],
   "source": [
    "assert (val2_y==1).all()\n",
    "(val2_y==1).all()"
   ]
  },
  {
   "cell_type": "code",
   "execution_count": 11,
   "metadata": {
    "hidden": true
   },
   "outputs": [],
   "source": [
    "def sample_util(data, label, n):\n",
    "    assert len(data) == label.shape[0]\n",
    "    idx = np.random.choice(range(len(data)),n)\n",
    "    data_new = [data[i] for i in idx]\n",
    "    label_new = label[idx]\n",
    "    return data_new, label_new"
   ]
  },
  {
   "cell_type": "code",
   "execution_count": 12,
   "metadata": {
    "hidden": true
   },
   "outputs": [],
   "source": [
    "def sample(data1, label1, data2, label2, n):\n",
    "    t1, t2 = sample_util(data1, label1, n)\n",
    "    t3, t4 = sample_util(data2, label2, n)\n",
    "    data = t1 + t3\n",
    "    label = np.concatenate((t2, t4))\n",
    "    return data, label"
   ]
  },
  {
   "cell_type": "code",
   "execution_count": 13,
   "metadata": {
    "hidden": true
   },
   "outputs": [],
   "source": [
    "trn, trn_y = sample(trn1, trn1_y, trn2, trn2_y, 64*10)\n",
    "val, val_y = sample(val1, val1_y, val2, val2_y, 64*20)"
   ]
  },
  {
   "cell_type": "code",
   "execution_count": 14,
   "metadata": {
    "hidden": true
   },
   "outputs": [],
   "source": [
    "# trn,trn_y = texts_labels_from_folders(f'{PATH}train',names)\n",
    "# val,val_y = texts_labels_from_folders(f'{PATH}test',names)"
   ]
  },
  {
   "cell_type": "markdown",
   "metadata": {
    "heading_collapsed": true
   },
   "source": [
    "## create vectors and vocab"
   ]
  },
  {
   "cell_type": "code",
   "execution_count": 15,
   "metadata": {
    "hidden": true
   },
   "outputs": [],
   "source": [
    "veczr = CountVectorizer(tokenizer=tokenize)"
   ]
  },
  {
   "cell_type": "code",
   "execution_count": 16,
   "metadata": {
    "hidden": true
   },
   "outputs": [],
   "source": [
    "trn_term_doc = veczr.fit_transform(trn)"
   ]
  },
  {
   "cell_type": "code",
   "execution_count": 17,
   "metadata": {
    "hidden": true
   },
   "outputs": [],
   "source": [
    "val_term_doc = veczr.transform(val)"
   ]
  },
  {
   "cell_type": "code",
   "execution_count": 18,
   "metadata": {
    "hidden": true
   },
   "outputs": [
    {
     "data": {
      "text/plain": [
       "['develops', 'devgan', 'deviates', 'device', 'devices']"
      ]
     },
     "execution_count": 18,
     "metadata": {},
     "output_type": "execute_result"
    }
   ],
   "source": [
    "vocab = veczr.get_feature_names(); vocab[5000:5005]"
   ]
  },
  {
   "cell_type": "code",
   "execution_count": 19,
   "metadata": {
    "hidden": true
   },
   "outputs": [
    {
     "data": {
      "text/plain": [
       "['!', '\"', '#', '$', '%']"
      ]
     },
     "execution_count": 19,
     "metadata": {},
     "output_type": "execute_result"
    }
   ],
   "source": [
    "vocab[:5]"
   ]
  },
  {
   "cell_type": "code",
   "execution_count": 20,
   "metadata": {
    "hidden": true
   },
   "outputs": [
    {
     "data": {
      "text/plain": [
       "20133"
      ]
     },
     "execution_count": 20,
     "metadata": {},
     "output_type": "execute_result"
    }
   ],
   "source": [
    "len(vocab)"
   ]
  },
  {
   "cell_type": "code",
   "execution_count": 21,
   "metadata": {
    "hidden": true
   },
   "outputs": [],
   "source": [
    "trn_term_doc = trn_term_doc.sign()"
   ]
  },
  {
   "cell_type": "code",
   "execution_count": 22,
   "metadata": {
    "hidden": true
   },
   "outputs": [],
   "source": [
    "val_term_doc = val_term_doc.sign()"
   ]
  },
  {
   "cell_type": "markdown",
   "metadata": {},
   "source": [
    "## Naive Bayes"
   ]
  },
  {
   "cell_type": "markdown",
   "metadata": {},
   "source": [
    "We define the **log-count ratio** $r$ for each word $f$:\n",
    "\n",
    "$r = \\log \\frac{\\text{ratio of feature $f$ in positive documents}}{\\text{ratio of feature $f$ in negative documents}}$\n",
    "\n",
    "where ratio of feature $f$ in positive documents is the number of times a positive document has a feature divided by the number of positive documents."
   ]
  },
  {
   "cell_type": "code",
   "execution_count": 178,
   "metadata": {},
   "outputs": [],
   "source": [
    "def pr(y_i):\n",
    "    p = x[y==y_i].sum(0)\n",
    "    return p+1"
   ]
  },
  {
   "cell_type": "code",
   "execution_count": 179,
   "metadata": {},
   "outputs": [],
   "source": [
    "x=trn_term_doc\n",
    "y=trn_y\n",
    "\n",
    "p = pr(1)/pr(1).sum()\n",
    "q = pr(0)/pr(0).sum()\n",
    "r = np.log(p/q)\n",
    "b = np.log((y==1).mean() / (y==0).mean())"
   ]
  },
  {
   "cell_type": "code",
   "execution_count": 180,
   "metadata": {},
   "outputs": [
    {
     "data": {
      "text/plain": [
       "(2560, 20133)"
      ]
     },
     "execution_count": 180,
     "metadata": {},
     "output_type": "execute_result"
    }
   ],
   "source": [
    "val_term_doc.shape"
   ]
  },
  {
   "cell_type": "code",
   "execution_count": 181,
   "metadata": {},
   "outputs": [
    {
     "data": {
      "text/plain": [
       "20133"
      ]
     },
     "execution_count": 181,
     "metadata": {},
     "output_type": "execute_result"
    }
   ],
   "source": [
    "val_term_doc.shape[1]"
   ]
  },
  {
   "cell_type": "code",
   "execution_count": 182,
   "metadata": {},
   "outputs": [
    {
     "data": {
      "text/plain": [
       "(1280, 20133)"
      ]
     },
     "execution_count": 182,
     "metadata": {},
     "output_type": "execute_result"
    }
   ],
   "source": [
    "x.shape"
   ]
  },
  {
   "cell_type": "code",
   "execution_count": 183,
   "metadata": {},
   "outputs": [
    {
     "data": {
      "text/plain": [
       "(1, 20133)"
      ]
     },
     "execution_count": 183,
     "metadata": {},
     "output_type": "execute_result"
    }
   ],
   "source": [
    "r.shape"
   ]
  },
  {
   "cell_type": "code",
   "execution_count": 184,
   "metadata": {},
   "outputs": [
    {
     "data": {
      "text/plain": [
       "0.0"
      ]
     },
     "execution_count": 184,
     "metadata": {},
     "output_type": "execute_result"
    }
   ],
   "source": [
    "b"
   ]
  },
  {
   "cell_type": "code",
   "execution_count": 185,
   "metadata": {},
   "outputs": [
    {
     "data": {
      "text/plain": [
       "<2560x20133 sparse matrix of type '<class 'numpy.int64'>'\n",
       "\twith 362160 stored elements in Compressed Sparse Row format>"
      ]
     },
     "execution_count": 185,
     "metadata": {},
     "output_type": "execute_result"
    }
   ],
   "source": [
    "val_term_doc"
   ]
  },
  {
   "cell_type": "code",
   "execution_count": 29,
   "metadata": {},
   "outputs": [
    {
     "data": {
      "text/plain": [
       "(2560, 1)"
      ]
     },
     "execution_count": 29,
     "metadata": {},
     "output_type": "execute_result"
    }
   ],
   "source": [
    "(val_term_doc @ r.T).shape"
   ]
  },
  {
   "cell_type": "code",
   "execution_count": 30,
   "metadata": {},
   "outputs": [
    {
     "data": {
      "text/plain": [
       "matrix([[ -2.10261],\n",
       "        [-10.25514],\n",
       "        [-14.34487],\n",
       "        ...,\n",
       "        [  0.62989],\n",
       "        [ 12.3097 ],\n",
       "        [ 16.51772]])"
      ]
     },
     "execution_count": 30,
     "metadata": {},
     "output_type": "execute_result"
    }
   ],
   "source": [
    "val_term_doc @ r.T"
   ]
  },
  {
   "cell_type": "code",
   "execution_count": 31,
   "metadata": {},
   "outputs": [
    {
     "data": {
      "text/plain": [
       "array([0, 0, 0, ..., 1, 1, 1])"
      ]
     },
     "execution_count": 31,
     "metadata": {},
     "output_type": "execute_result"
    }
   ],
   "source": [
    "val_y"
   ]
  },
  {
   "cell_type": "code",
   "execution_count": 32,
   "metadata": {},
   "outputs": [
    {
     "data": {
      "text/plain": [
       "0.796875"
      ]
     },
     "execution_count": 32,
     "metadata": {},
     "output_type": "execute_result"
    }
   ],
   "source": [
    "pre_preds = val_term_doc @ r.T + b\n",
    "preds = pre_preds.T>0\n",
    "(preds==val_y).mean()"
   ]
  },
  {
   "cell_type": "code",
   "execution_count": 33,
   "metadata": {},
   "outputs": [],
   "source": [
    "pre_preds = val_term_doc @ np.stack([np.log(p), np.log(q)]).T + b"
   ]
  },
  {
   "cell_type": "code",
   "execution_count": 34,
   "metadata": {},
   "outputs": [
    {
     "data": {
      "text/plain": [
       "matrix([[ -392.34239,  -390.23978],\n",
       "        [ -569.22569,  -558.97055],\n",
       "        [-1240.87963, -1226.53476],\n",
       "        ...,\n",
       "        [ -786.44062,  -787.07052],\n",
       "        [-1047.79872, -1060.10842],\n",
       "        [-1306.4478 , -1322.96552]])"
      ]
     },
     "execution_count": 34,
     "metadata": {},
     "output_type": "execute_result"
    }
   ],
   "source": [
    "pre_preds"
   ]
  },
  {
   "cell_type": "code",
   "execution_count": 35,
   "metadata": {},
   "outputs": [
    {
     "data": {
      "text/plain": [
       "0.796875"
      ]
     },
     "execution_count": 35,
     "metadata": {},
     "output_type": "execute_result"
    }
   ],
   "source": [
    "preds = pre_preds.T[0] > pre_preds.T[1]\n",
    "(preds==val_y).mean()"
   ]
  },
  {
   "cell_type": "code",
   "execution_count": 36,
   "metadata": {},
   "outputs": [
    {
     "data": {
      "text/plain": [
       "scipy.sparse.csr.csr_matrix"
      ]
     },
     "execution_count": 36,
     "metadata": {},
     "output_type": "execute_result"
    }
   ],
   "source": [
    "type(val_term_doc)"
   ]
  },
  {
   "cell_type": "code",
   "execution_count": 37,
   "metadata": {},
   "outputs": [
    {
     "data": {
      "text/plain": [
       "<1x20133 sparse matrix of type '<class 'numpy.int64'>'\n",
       "\twith 53 stored elements in Compressed Sparse Row format>"
      ]
     },
     "execution_count": 37,
     "metadata": {},
     "output_type": "execute_result"
    }
   ],
   "source": [
    "val_term_doc[0]"
   ]
  },
  {
   "cell_type": "code",
   "execution_count": 38,
   "metadata": {},
   "outputs": [],
   "source": [
    "xx = val_term_doc[0]"
   ]
  },
  {
   "cell_type": "code",
   "execution_count": 39,
   "metadata": {},
   "outputs": [
    {
     "data": {
      "text/plain": [
       "(1, 20133)"
      ]
     },
     "execution_count": 39,
     "metadata": {},
     "output_type": "execute_result"
    }
   ],
   "source": [
    "xx.toarray().shape"
   ]
  },
  {
   "cell_type": "code",
   "execution_count": 40,
   "metadata": {},
   "outputs": [
    {
     "data": {
      "text/plain": [
       "[\"'\",\n",
       " ',',\n",
       " '.',\n",
       " 'a',\n",
       " 'actor',\n",
       " 'andrew',\n",
       " 'bad',\n",
       " 'been',\n",
       " 'casting',\n",
       " 'circuit',\n",
       " 'feel',\n",
       " 'festival',\n",
       " 'film',\n",
       " 'for',\n",
       " 'getting',\n",
       " 'glad',\n",
       " 'good',\n",
       " 'has',\n",
       " 'he',\n",
       " 'him',\n",
       " 'i',\n",
       " 'is',\n",
       " 'it',\n",
       " 'job',\n",
       " 'last',\n",
       " 'lately',\n",
       " 'like',\n",
       " 'looks',\n",
       " 'maybe',\n",
       " 'mccarthy',\n",
       " 'minute',\n",
       " 'not',\n",
       " 'obvious',\n",
       " 'on',\n",
       " 'picked',\n",
       " 'poorly',\n",
       " 'role',\n",
       " 'roles',\n",
       " 'rush',\n",
       " 's',\n",
       " 'shall',\n",
       " 'shot',\n",
       " 'stage',\n",
       " 'stay',\n",
       " 'the',\n",
       " 'this',\n",
       " 'up',\n",
       " 'very',\n",
       " 'was',\n",
       " 'weak',\n",
       " 'who',\n",
       " 'writing',\n",
       " 'yet']"
      ]
     },
     "execution_count": 40,
     "metadata": {},
     "output_type": "execute_result"
    }
   ],
   "source": [
    "[vocab[index] for index, i in enumerate(xx.toarray()[0]) if i > 0]"
   ]
  },
  {
   "cell_type": "code",
   "execution_count": 41,
   "metadata": {
    "scrolled": false
   },
   "outputs": [
    {
     "data": {
      "text/plain": [
       "53"
      ]
     },
     "execution_count": 41,
     "metadata": {},
     "output_type": "execute_result"
    }
   ],
   "source": [
    "total = 0\n",
    "for index, i in enumerate(xx.toarray()[0]):\n",
    "    if i:\n",
    "        total += 1\n",
    "total"
   ]
  },
  {
   "cell_type": "markdown",
   "metadata": {},
   "source": [
    "## Logistic regression (sklearn)"
   ]
  },
  {
   "cell_type": "markdown",
   "metadata": {},
   "source": [
    "Here is how we can fit logistic regression where the features are the unigrams."
   ]
  },
  {
   "cell_type": "code",
   "execution_count": 42,
   "metadata": {},
   "outputs": [
    {
     "data": {
      "text/plain": [
       "sklearn.linear_model._logistic.LogisticRegression"
      ]
     },
     "execution_count": 42,
     "metadata": {},
     "output_type": "execute_result"
    }
   ],
   "source": [
    "LogisticRegression"
   ]
  },
  {
   "cell_type": "code",
   "execution_count": 43,
   "metadata": {},
   "outputs": [
    {
     "data": {
      "text/plain": [
       "0.821875"
      ]
     },
     "execution_count": 43,
     "metadata": {},
     "output_type": "execute_result"
    }
   ],
   "source": [
    "m = LogisticRegression(C=1e8, dual=False, max_iter=1000)\n",
    "m.fit(x, y)\n",
    "preds = m.predict(val_term_doc)\n",
    "(preds==val_y).mean()"
   ]
  },
  {
   "cell_type": "markdown",
   "metadata": {},
   "source": [
    "...and the regularized version"
   ]
  },
  {
   "cell_type": "code",
   "execution_count": 44,
   "metadata": {},
   "outputs": [
    {
     "data": {
      "text/plain": [
       "0.821875"
      ]
     },
     "execution_count": 44,
     "metadata": {},
     "output_type": "execute_result"
    }
   ],
   "source": [
    "m = LogisticRegression(C=1.0, dual=False, max_iter=1000)\n",
    "m.fit(x, y)\n",
    "preds = m.predict(val_term_doc)\n",
    "(preds==val_y).mean()"
   ]
  },
  {
   "cell_type": "markdown",
   "metadata": {},
   "source": [
    "## Logistic regression (PyTorch)"
   ]
  },
  {
   "cell_type": "code",
   "execution_count": 293,
   "metadata": {},
   "outputs": [
    {
     "data": {
      "text/plain": [
       "(numpy.matrix, (1, 20133))"
      ]
     },
     "execution_count": 293,
     "metadata": {},
     "output_type": "execute_result"
    }
   ],
   "source": [
    "type(r), r.shape"
   ]
  },
  {
   "cell_type": "code",
   "execution_count": 298,
   "metadata": {},
   "outputs": [
    {
     "data": {
      "text/plain": [
       "tensor([[-0.2214],\n",
       "        [-0.0593],\n",
       "        [-0.1898],\n",
       "        ...,\n",
       "        [-0.7288],\n",
       "        [-0.7288],\n",
       "        [-0.7288]])"
      ]
     },
     "execution_count": 298,
     "metadata": {},
     "output_type": "execute_result"
    }
   ],
   "source": [
    "FloatTensor(r)[0].reshape(-1,1)"
   ]
  },
  {
   "cell_type": "code",
   "execution_count": 301,
   "metadata": {},
   "outputs": [
    {
     "data": {
      "text/plain": [
       "array([    0,     5,    11,    13,    14,   283,   285,   286,   292,   449,   758,   928,  1860,  2141,\n",
       "        2357,  2504,  2670,  2930,  4182,  5371,  6317,  6858,  7741,  7878,  7921,  7985,  8061,  8141,\n",
       "        8193,  8456,  8526,  8684,  8721,  9284,  9577,  9603, 10020, 10897, 11879, 12025, 12331, 12484,\n",
       "       12532, 12563, 12634, 12715, 13189, 13257, 13494, 13502, 14492, 15455, 16112, 16968, 17955, 17963,\n",
       "       18023, 18184, 18244, 18412, 18977, 19017, 19188, 19668, 19673, 19724, 19795, 19888, 20033],\n",
       "      dtype=int32)"
      ]
     },
     "execution_count": 301,
     "metadata": {},
     "output_type": "execute_result"
    }
   ],
   "source": [
    "trn_term_doc[0].nonzero()[1]"
   ]
  },
  {
   "cell_type": "code",
   "execution_count": 328,
   "metadata": {},
   "outputs": [],
   "source": [
    "class SimpleNB2(nn.Module):\n",
    "    def __init__(self, nf, ny):\n",
    "        super().__init__()\n",
    "        self.w = nn.Embedding(nf, ny)\n",
    "        # self.w = nn.Embedding(nf+1, ny)\n",
    "        # self.w.weight.data.uniform_(-1, 1)\n",
    "        self.w.weight.data = torch.FloatTensor(r)[0].reshape(-1,1)\n",
    "        # self.r = nn.Embedding(nf, ny)\n",
    "        \n",
    "    def forward(self, feat_idx):\n",
    "        idx = feat_idx.nonzero()[1]\n",
    "        v = self.w(V(idx))\n",
    "        x = v.sum()\n",
    "        return x"
   ]
  },
  {
   "cell_type": "code",
   "execution_count": 329,
   "metadata": {},
   "outputs": [],
   "source": [
    "net_a = SimpleNB2(len(vocab),1)"
   ]
  },
  {
   "cell_type": "code",
   "execution_count": 330,
   "metadata": {},
   "outputs": [
    {
     "data": {
      "text/plain": [
       "array([    0,     5,    11,    13,    14,   283,   285,   286,   292,   449,   758,   928,  1860,  2141,\n",
       "        2357,  2504,  2670,  2930,  4182,  5371,  6317,  6858,  7741,  7878,  7921,  7985,  8061,  8141,\n",
       "        8193,  8456,  8526,  8684,  8721,  9284,  9577,  9603, 10020, 10897, 11879, 12025, 12331, 12484,\n",
       "       12532, 12563, 12634, 12715, 13189, 13257, 13494, 13502, 14492, 15455, 16112, 16968, 17955, 17963,\n",
       "       18023, 18184, 18244, 18412, 18977, 19017, 19188, 19668, 19673, 19724, 19795, 19888, 20033],\n",
       "      dtype=int32)"
      ]
     },
     "execution_count": 330,
     "metadata": {},
     "output_type": "execute_result"
    }
   ],
   "source": [
    "idx = trn_term_doc[0].nonzero()[1]\n",
    "idx"
   ]
  },
  {
   "cell_type": "code",
   "execution_count": 331,
   "metadata": {},
   "outputs": [
    {
     "data": {
      "text/plain": [
       "tensor(-12.5095, grad_fn=<SumBackward0>)"
      ]
     },
     "execution_count": 331,
     "metadata": {},
     "output_type": "execute_result"
    }
   ],
   "source": [
    "net_a.w(V(idx)).sum()"
   ]
  },
  {
   "cell_type": "code",
   "execution_count": 332,
   "metadata": {},
   "outputs": [
    {
     "data": {
      "text/plain": [
       "tensor(-12.5095, grad_fn=<SumBackward0>)"
      ]
     },
     "execution_count": 332,
     "metadata": {},
     "output_type": "execute_result"
    }
   ],
   "source": [
    "net_a(trn_term_doc[0])"
   ]
  },
  {
   "cell_type": "markdown",
   "metadata": {},
   "source": [
    "## Logistic regression (Fastai)"
   ]
  },
  {
   "cell_type": "code",
   "execution_count": 45,
   "metadata": {},
   "outputs": [],
   "source": [
    "from fastai.metrics import *\n",
    "from fastai.model import *\n",
    "from fastai.dataset import *\n",
    "from fastai.nlp import *\n",
    "\n",
    "import torch.nn as nn"
   ]
  },
  {
   "cell_type": "code",
   "execution_count": 232,
   "metadata": {},
   "outputs": [],
   "source": [
    "class MySimpleNB(nn.Module):\n",
    "    def __init__(self, nf, ny):\n",
    "        super().__init__()\n",
    "        self.w = nn.Embedding(nf, ny)\n",
    "        # self.w = nn.Embedding(nf+1, ny)\n",
    "        # self.w.weight.data.uniform_(-1, 1)\n",
    "        self.w.weight.data = torch.FloatTensor(r.tolist()[0])\n",
    "        self.w.weight.data = self.w.weight.data.reshape(-1, 1)\n",
    "        # self.r = nn.Embedding(nf, ny)\n",
    "        \n",
    "    def forward(self, feat_idx):\n",
    "        # self.w.weight.data[0] = 0\n",
    "        # idx = feat_idx - 1\n",
    "        idx = feat_idx\n",
    "        idx2 = [a for a in idx if a >= 0]\n",
    "        idx3 = np.array(idx2)\n",
    "        v = self.w(V(idx3))\n",
    "        # r = self.r(feat_idx)\n",
    "        # x = ((w+self.w_adj)*r/self.r_adj).sum(1)\n",
    "        # x = w*r\n",
    "        x = v.sum(1)\n",
    "        # return F.softmax(x)\n",
    "        # return x.reshape(1, -1)\n",
    "        return x"
   ]
  },
  {
   "cell_type": "code",
   "execution_count": 47,
   "metadata": {},
   "outputs": [],
   "source": [
    "def binary_loss(pred, y):\n",
    "    # y2 = torch.max(y,axis=1)[0]\n",
    "    y2 = np.argmax(y)\n",
    "    p = torch.exp(pred) / (1+torch.exp(pred))\n",
    "    result = torch.mean(-(y2 * torch.log(p) + (1-y2)*torch.log(1-p)))\n",
    "    # return result.reshape(1, -1)\n",
    "    return result"
   ]
  },
  {
   "cell_type": "code",
   "execution_count": 48,
   "metadata": {},
   "outputs": [
    {
     "data": {
      "text/plain": [
       "(1, 20133)"
      ]
     },
     "execution_count": 48,
     "metadata": {},
     "output_type": "execute_result"
    }
   ],
   "source": [
    "r.shape"
   ]
  },
  {
   "cell_type": "code",
   "execution_count": null,
   "metadata": {},
   "outputs": [],
   "source": []
  },
  {
   "cell_type": "code",
   "execution_count": 49,
   "metadata": {},
   "outputs": [
    {
     "data": {
      "text/plain": [
       "20133"
      ]
     },
     "execution_count": 49,
     "metadata": {},
     "output_type": "execute_result"
    }
   ],
   "source": [
    "len(vocab)"
   ]
  },
  {
   "cell_type": "code",
   "execution_count": 50,
   "metadata": {},
   "outputs": [],
   "source": [
    "net3 = MySimpleNB(len(vocab), 1)"
   ]
  },
  {
   "cell_type": "code",
   "execution_count": 51,
   "metadata": {},
   "outputs": [
    {
     "data": {
      "text/plain": [
       "torch.Size([20133, 1])"
      ]
     },
     "execution_count": 51,
     "metadata": {},
     "output_type": "execute_result"
    }
   ],
   "source": [
    "net3.w.weight.data.shape"
   ]
  },
  {
   "cell_type": "code",
   "execution_count": 52,
   "metadata": {},
   "outputs": [
    {
     "data": {
      "text/plain": [
       "(1, 20133)"
      ]
     },
     "execution_count": 52,
     "metadata": {},
     "output_type": "execute_result"
    }
   ],
   "source": [
    "r.shape"
   ]
  },
  {
   "cell_type": "code",
   "execution_count": 53,
   "metadata": {},
   "outputs": [
    {
     "data": {
      "text/plain": [
       "20133"
      ]
     },
     "execution_count": 53,
     "metadata": {},
     "output_type": "execute_result"
    }
   ],
   "source": [
    "sl=val_term_doc.shape[1]\n",
    "sl"
   ]
  },
  {
   "cell_type": "code",
   "execution_count": 110,
   "metadata": {},
   "outputs": [],
   "source": [
    "sl=val_term_doc.shape[1]\n",
    "md = TextClassifierData.from_bow(\n",
    "    trn_term_doc, trn_y,\n",
    "    val_term_doc, val_y,\n",
    "    200,\n",
    ")"
   ]
  },
  {
   "cell_type": "code",
   "execution_count": 111,
   "metadata": {},
   "outputs": [],
   "source": [
    "# ??TextClassifierData.from_bow"
   ]
  },
  {
   "cell_type": "code",
   "execution_count": 112,
   "metadata": {},
   "outputs": [
    {
     "data": {
      "text/plain": [
       "(1280, 20133)"
      ]
     },
     "execution_count": 112,
     "metadata": {},
     "output_type": "execute_result"
    }
   ],
   "source": [
    "trn_term_doc.shape"
   ]
  },
  {
   "cell_type": "code",
   "execution_count": 113,
   "metadata": {},
   "outputs": [],
   "source": [
    "ii=0"
   ]
  },
  {
   "cell_type": "code",
   "execution_count": 114,
   "metadata": {},
   "outputs": [],
   "source": [
    "net4 = MySimpleNB(len(vocab), 1)\n",
    "# loss = nn.NLLLoss()\n",
    "# loss = torch.nn.CrossEntropyLoss()\n",
    "loss = binary_loss\n",
    "lr = 1e-2\n",
    "losses=[]"
   ]
  },
  {
   "cell_type": "code",
   "execution_count": 115,
   "metadata": {},
   "outputs": [
    {
     "data": {
      "text/plain": [
       "Parameter containing:\n",
       "tensor([[-0.2214],\n",
       "        [-0.0593],\n",
       "        [-0.1898],\n",
       "        ...,\n",
       "        [-0.7288],\n",
       "        [-0.7288],\n",
       "        [-0.7288]], requires_grad=True)"
      ]
     },
     "execution_count": 115,
     "metadata": {},
     "output_type": "execute_result"
    }
   ],
   "source": [
    "net4.w.weight"
   ]
  },
  {
   "cell_type": "code",
   "execution_count": 116,
   "metadata": {},
   "outputs": [],
   "source": [
    "ii=2"
   ]
  },
  {
   "cell_type": "code",
   "execution_count": 117,
   "metadata": {},
   "outputs": [],
   "source": [
    "t = md.trn_ds[ii]\n",
    "ii = ii + 1\n",
    "xt, _a, _b, yt = t"
   ]
  },
  {
   "cell_type": "code",
   "execution_count": 118,
   "metadata": {},
   "outputs": [
    {
     "data": {
      "text/plain": [
       "(array([    0,     0,     0,     0,     0,     0,     0,     0,     0,     0,     0,     0,     0,     0,\n",
       "            0,     0,     0,     0,     0,     0,     0,     0,     0,     0,     0,     0,     0,     0,\n",
       "            0,     0,     0,     0,     0,     0,     0,     0,     0,     0,     0,     0,     0,     0,\n",
       "            0,     0,     0,     0,     0,     0,     0,     0,     0,     0,     0,     0,     0,     0,\n",
       "            0,     0,     0,     0,     0,     0,     0,     0,     0,     0,     0,     0,     0,     0,\n",
       "            0,     0,     0,     0,     0,     0,     0,     0,     0,     0,     0,     0,     0,     0,\n",
       "            0,     0,     0,     0,     0,     0,     0,     0,     0,     0,     0,     0,     0,     0,\n",
       "            0,     0,     0,     0,     0,     0,     0,     0,     0,     0,     0,     0,     0,     0,\n",
       "            0,     7,    12,    14,   293,   611,   759,   903,   929,  1000,  1154,  1346,  1861,  2146,\n",
       "         2153,  2653,  4135,  5372,  5416,  5871,  6309,  6318,  6562,  6620,  6872,  6881,  7813,  8122,\n",
       "         8264,  8289,  8718,  8749,  8882,  9079,  9393,  9419,  9578,  9594,  9604,  9874, 10019, 10554,\n",
       "        10699, 11069, 11328, 11329, 11561, 11877, 11880, 11983, 12264, 12313, 12485, 12563, 12564, 12635,\n",
       "        12704, 12716, 12779, 13458, 13517, 13557, 13561, 13936, 15045, 15414, 15574, 15624, 15632, 17142,\n",
       "        17649, 17952, 17956, 17975, 17986, 18024, 18140, 18185, 18613, 18874, 19124, 19192, 19286, 19492,\n",
       "        19500, 19796, 19889, 20040]),\n",
       " array([0, 0, 0, 0, 0, 0, 0, 0, 0, 0, 0, 0, 0, 0, 0, 0, 0, 0, 0, 0, 0, 0, 0, 0, 0, 0, 0, 0, 0, 0, 0, 0, 0, 0,\n",
       "        0, 0, 0, 0, 0, 0, 0, 0, 0, 0, 0, 0, 0, 0, 0, 0, 0, 0, 0, 0, 0, 0, 0, 0, 0, 0, 0, 0, 0, 0, 0, 0, 0, 0,\n",
       "        0, 0, 0, 0, 0, 0, 0, 0, 0, 0, 0, 0, 0, 0, 0, 0, 0, 0, 0, 0, 0, 0, 0, 0, 0, 0, 0, 0, 0, 0, 0, 0, 0, 0,\n",
       "        0, 0, 0, 0, 0, 0, 0, 0, 0, 0, 0, 1, 1, 1, 1, 1, 1, 1, 1, 1, 1, 1, 1, 1, 1, 1, 1, 1, 1, 1, 1, 1, 1, 1,\n",
       "        1, 1, 1, 1, 1, 1, 1, 1, 1, 1, 1, 1, 1, 1, 1, 1, 1, 1, 1, 1, 1, 1, 1, 1, 1, 1, 1, 1, 1, 1, 1, 1, 1, 1,\n",
       "        1, 1, 1, 1, 1, 1, 1, 1, 1, 1, 1, 1, 1, 1, 1, 1, 1, 1, 1, 1, 1, 1, 1, 1, 1, 1, 1, 1, 1, 1]),\n",
       " 87,\n",
       " array([1., 0.], dtype=float32))"
      ]
     },
     "execution_count": 118,
     "metadata": {},
     "output_type": "execute_result"
    }
   ],
   "source": [
    "t"
   ]
  },
  {
   "cell_type": "code",
   "execution_count": 119,
   "metadata": {},
   "outputs": [
    {
     "data": {
      "text/plain": [
       "((200,), 20133)"
      ]
     },
     "execution_count": 119,
     "metadata": {},
     "output_type": "execute_result"
    }
   ],
   "source": [
    "xt.shape, len(vocab)"
   ]
  },
  {
   "cell_type": "code",
   "execution_count": 120,
   "metadata": {},
   "outputs": [
    {
     "data": {
      "text/plain": [
       "(200,)"
      ]
     },
     "execution_count": 120,
     "metadata": {},
     "output_type": "execute_result"
    }
   ],
   "source": [
    "xt.shape"
   ]
  },
  {
   "cell_type": "code",
   "execution_count": 121,
   "metadata": {},
   "outputs": [
    {
     "data": {
      "text/plain": [
       "('titles', 20133)"
      ]
     },
     "execution_count": 121,
     "metadata": {},
     "output_type": "execute_result"
    }
   ],
   "source": [
    "vocab[18178], len(vocab)"
   ]
  },
  {
   "cell_type": "code",
   "execution_count": 122,
   "metadata": {},
   "outputs": [
    {
     "data": {
      "text/plain": [
       "array([0, 0, 0, 0, 0, 0, 0, 0, 0, 0, 0, 0, 0, 0, 0, 0, 0, 0, 0, 0, 0, 0, 0, 0, 0, 0, 0, 0, 0, 0, 0, 0, 0, 0,\n",
       "       0, 0, 0, 0, 0, 0, 0, 0, 0, 0, 0, 0, 0, 0, 0, 0, 0, 0, 0, 0, 0, 0, 0, 0, 0, 0, 0, 0, 0, 0, 0, 0, 0, 0,\n",
       "       0, 0, 0, 0, 0, 0, 0, 0, 0, 0, 0, 0, 0, 0, 0, 0, 0, 0, 0, 0, 0, 0, 0, 0, 0, 0, 0, 0, 0, 0, 0, 0, 0, 0,\n",
       "       0, 0, 0, 0, 0, 0, 0, 0, 0, 0, 0, 1, 1, 1, 1, 1, 1, 1, 1, 1, 1, 1, 1, 1, 1, 1, 1, 1, 1, 1, 1, 1, 1, 1,\n",
       "       1, 1, 1, 1, 1, 1, 1, 1, 1, 1, 1, 1, 1, 1, 1, 1, 1, 1, 1, 1, 1, 1, 1, 1, 1, 1, 1, 1, 1, 1, 1, 1, 1, 1,\n",
       "       1, 1, 1, 1, 1, 1, 1, 1, 1, 1, 1, 1, 1, 1, 1, 1, 1, 1, 1, 1, 1, 1, 1, 1, 1, 1, 1, 1, 1, 1])"
      ]
     },
     "execution_count": 122,
     "metadata": {},
     "output_type": "execute_result"
    }
   ],
   "source": [
    "_a"
   ]
  },
  {
   "cell_type": "code",
   "execution_count": 123,
   "metadata": {},
   "outputs": [
    {
     "data": {
      "text/plain": [
       "87"
      ]
     },
     "execution_count": 123,
     "metadata": {},
     "output_type": "execute_result"
    }
   ],
   "source": [
    "_a.sum()"
   ]
  },
  {
   "cell_type": "code",
   "execution_count": 124,
   "metadata": {},
   "outputs": [
    {
     "data": {
      "text/plain": [
       "87"
      ]
     },
     "execution_count": 124,
     "metadata": {},
     "output_type": "execute_result"
    }
   ],
   "source": [
    "_b"
   ]
  },
  {
   "cell_type": "code",
   "execution_count": 125,
   "metadata": {},
   "outputs": [
    {
     "data": {
      "text/plain": [
       "array([1., 0.], dtype=float32)"
      ]
     },
     "execution_count": 125,
     "metadata": {},
     "output_type": "execute_result"
    }
   ],
   "source": [
    "yt"
   ]
  },
  {
   "cell_type": "code",
   "execution_count": 126,
   "metadata": {},
   "outputs": [
    {
     "data": {
      "text/plain": [
       "(array([11480, 11635, 11726, 11741, 11836, 11877, 11896, 11941, 11942, 11946, 11966, 11983, 12088, 12126,\n",
       "        12140, 12142, 12184, 12186, 12264, 12332, 12358, 12386, 12430, 12485, 12486, 12508, 12548, 12555,\n",
       "        12561, 12563, 12564, 12596, 12635, 12649, 12652, 12661, 12704, 12706, 12716, 12848, 12935, 12985,\n",
       "        13046, 13062, 13118, 13133, 13139, 13190, 13213, 13341, 13440, 13517, 13557, 13605, 13607, 13938,\n",
       "        13942, 13964, 13973, 13976, 13997, 14082, 14103, 14144, 14195, 14280, 14282, 14299, 14471, 14482,\n",
       "        14483, 14504, 14506, 14507, 14518, 14550, 14610, 14618, 14739, 14851, 15106, 15110, 15123, 15191,\n",
       "        15194, 15231, 15232, 15304, 15390, 15414, 15488, 15561, 15584, 15630, 15719, 15723, 15733, 15804,\n",
       "        15819, 15847, 15863, 15870, 15996, 15997, 16031, 16090, 16097, 16134, 16205, 16211, 16290, 16309,\n",
       "        16406, 16422, 16571, 16635, 16931, 17013, 17189, 17297, 17358, 17436, 17477, 17500, 17565, 17590,\n",
       "        17599, 17611, 17623, 17649, 17694, 17827, 17837, 17947, 17952, 17956, 17968, 17975, 17986, 17996,\n",
       "        18009, 18010, 18024, 18033, 18038, 18039, 18117, 18140, 18155, 18185, 18232, 18288, 18294, 18467,\n",
       "        18489, 18579, 18583, 18613, 18747, 18792, 18795, 18857, 18883, 18978, 19002, 19018, 19078, 19124,\n",
       "        19192, 19219, 19364, 19443, 19448, 19451, 19454, 19504, 19523, 19526, 19530, 19541, 19587, 19624,\n",
       "        19625, 19635, 19641, 19644, 19674, 19676, 19725, 19732, 19796, 19834, 19881, 19895, 19899, 19924,\n",
       "        20007, 20010, 20028, 20033]),\n",
       " array([1, 1, 1, 1, 1, 1, 1, 1, 1, 1, 1, 1, 1, 1, 1, 1, 1, 1, 1, 1, 1, 1, 1, 1, 1, 1, 1, 1, 1, 1, 1, 1, 1, 1,\n",
       "        1, 1, 1, 1, 1, 1, 1, 1, 1, 1, 1, 1, 1, 1, 1, 1, 1, 1, 1, 1, 1, 1, 1, 1, 1, 1, 1, 1, 1, 1, 1, 1, 1, 1,\n",
       "        1, 1, 1, 1, 1, 1, 1, 1, 1, 1, 1, 1, 1, 1, 1, 1, 1, 1, 1, 1, 1, 1, 1, 1, 1, 1, 1, 1, 1, 1, 1, 1, 1, 1,\n",
       "        1, 1, 1, 1, 1, 1, 1, 1, 1, 1, 1, 1, 1, 1, 1, 1, 1, 1, 1, 1, 1, 1, 1, 1, 1, 1, 1, 1, 1, 1, 1, 1, 1, 1,\n",
       "        1, 1, 1, 1, 1, 1, 1, 1, 1, 1, 1, 1, 1, 1, 1, 1, 1, 1, 1, 1, 1, 1, 1, 1, 1, 1, 1, 1, 1, 1, 1, 1, 1, 1,\n",
       "        1, 1, 1, 1, 1, 1, 1, 1, 1, 1, 1, 1, 1, 1, 1, 1, 1, 1, 1, 1, 1, 1, 1, 1, 1, 1, 1, 1, 1, 1]),\n",
       " 200,\n",
       " array([1., 0.], dtype=float32))"
      ]
     },
     "execution_count": 126,
     "metadata": {},
     "output_type": "execute_result"
    }
   ],
   "source": [
    "md.trn_ds[ii]"
   ]
  },
  {
   "cell_type": "code",
   "execution_count": 127,
   "metadata": {},
   "outputs": [
    {
     "data": {
      "text/plain": [
       "(200,)"
      ]
     },
     "execution_count": 127,
     "metadata": {},
     "output_type": "execute_result"
    }
   ],
   "source": [
    "xt.shape"
   ]
  },
  {
   "cell_type": "code",
   "execution_count": 128,
   "metadata": {
    "scrolled": false
   },
   "outputs": [
    {
     "name": "stdout",
     "output_type": "stream",
     "text": [
      "'\n",
      ",\n",
      ".\n",
      "a\n",
      "after\n",
      "all\n",
      "an\n",
      "and\n",
      "another\n",
      "aren\n",
      "at\n",
      "believe\n",
      "blood\n",
      "bloody\n",
      "but\n",
      "couldn\n",
      "does\n",
      "don\n",
      "either\n",
      "even\n",
      "ever\n",
      "eyes\n",
      "fake\n",
      "film\n",
      "films\n",
      "gore\n",
      "had\n",
      "has\n",
      "have\n",
      "horror\n",
      "hour\n",
      "i\n",
      "in\n",
      "intelligence\n",
      "interesting\n",
      "is\n",
      "isn\n",
      "it\n",
      "just\n",
      "killing\n",
      "line\n",
      "looks\n",
      "many\n",
      "meaning\n",
      "meaningful\n",
      "mindless\n",
      "movie\n",
      "movies\n",
      "my\n",
      "no\n",
      "nor\n",
      "of\n",
      "once\n",
      "one\n",
      "or\n",
      "other\n",
      "out\n",
      "overall\n",
      "plain\n",
      "plot\n",
      "point\n",
      "pointless\n",
      "probably\n",
      "revolting\n",
      "s\n",
      "saw\n",
      "scary\n",
      "scenes\n",
      "story\n",
      "t\n",
      "that\n",
      "the\n",
      "then\n",
      "there\n",
      "this\n",
      "time\n",
      "to\n",
      "two\n",
      "unlike\n",
      "ve\n",
      "very\n",
      "violence\n",
      "waste\n",
      "watched\n",
      "with\n",
      "worst\n",
      "your\n"
     ]
    }
   ],
   "source": [
    "for index, idx in enumerate(to_np(xt)):\n",
    "    if idx:\n",
    "        print(vocab[idx-1])"
   ]
  },
  {
   "cell_type": "code",
   "execution_count": 129,
   "metadata": {},
   "outputs": [
    {
     "data": {
      "text/plain": [
       "('!', 20133)"
      ]
     },
     "execution_count": 129,
     "metadata": {},
     "output_type": "execute_result"
    }
   ],
   "source": [
    "vocab[0], len(vocab)"
   ]
  },
  {
   "cell_type": "code",
   "execution_count": 130,
   "metadata": {},
   "outputs": [
    {
     "data": {
      "text/plain": [
       "array([    0,     0,     0,     0,     0,     0,     0,     0,     0,     0,     0,     0,     0,     0,\n",
       "           0,     0,     0,     0,     0,     0,     0,     0,     0,     0,     0,     0,     0,     0,\n",
       "           0,     0,     0,     0,     0,     0,     0,     0,     0,     0,     0,     0,     0,     0,\n",
       "           0,     0,     0,     0,     0,     0,     0,     0,     0,     0,     0,     0,     0,     0,\n",
       "           0,     0,     0,     0,     0,     0,     0,     0,     0,     0,     0,     0,     0,     0,\n",
       "           0,     0,     0,     0,     0,     0,     0,     0,     0,     0,     0,     0,     0,     0,\n",
       "           0,     0,     0,     0,     0,     0,     0,     0,     0,     0,     0,     0,     0,     0,\n",
       "           0,     0,     0,     0,     0,     0,     0,     0,     0,     0,     0,     0,     0,     0,\n",
       "           0,     7,    12,    14,   293,   611,   759,   903,   929,  1000,  1154,  1346,  1861,  2146,\n",
       "        2153,  2653,  4135,  5372,  5416,  5871,  6309,  6318,  6562,  6620,  6872,  6881,  7813,  8122,\n",
       "        8264,  8289,  8718,  8749,  8882,  9079,  9393,  9419,  9578,  9594,  9604,  9874, 10019, 10554,\n",
       "       10699, 11069, 11328, 11329, 11561, 11877, 11880, 11983, 12264, 12313, 12485, 12563, 12564, 12635,\n",
       "       12704, 12716, 12779, 13458, 13517, 13557, 13561, 13936, 15045, 15414, 15574, 15624, 15632, 17142,\n",
       "       17649, 17952, 17956, 17975, 17986, 18024, 18140, 18185, 18613, 18874, 19124, 19192, 19286, 19492,\n",
       "       19500, 19796, 19889, 20040])"
      ]
     },
     "execution_count": 130,
     "metadata": {},
     "output_type": "execute_result"
    }
   ],
   "source": [
    "xt"
   ]
  },
  {
   "cell_type": "code",
   "execution_count": 131,
   "metadata": {},
   "outputs": [
    {
     "data": {
      "text/plain": [
       "tensor(-33.4714, grad_fn=<SumBackward0>)"
      ]
     },
     "execution_count": 131,
     "metadata": {},
     "output_type": "execute_result"
    }
   ],
   "source": [
    "net4.w(V(xt)).sum()"
   ]
  },
  {
   "cell_type": "code",
   "execution_count": 132,
   "metadata": {},
   "outputs": [
    {
     "data": {
      "text/plain": [
       "(200,)"
      ]
     },
     "execution_count": 132,
     "metadata": {},
     "output_type": "execute_result"
    }
   ],
   "source": [
    "xt.shape"
   ]
  },
  {
   "cell_type": "code",
   "execution_count": 133,
   "metadata": {},
   "outputs": [
    {
     "data": {
      "text/plain": [
       "(200,)"
      ]
     },
     "execution_count": 133,
     "metadata": {},
     "output_type": "execute_result"
    }
   ],
   "source": [
    "xt.shape"
   ]
  },
  {
   "cell_type": "code",
   "execution_count": 134,
   "metadata": {},
   "outputs": [
    {
     "name": "stdout",
     "output_type": "stream",
     "text": [
      "tensor([-0.0760, -0.0552, -0.0341, -0.0388,  0.0767, -0.0235,  0.0645, -0.0275,\n",
      "        -0.0251,  0.0597, -0.0600, -0.4709, -0.5952, -0.4709, -0.1311, -0.5952,\n",
      "        -0.1986, -0.4072, -0.9699, -0.4183, -0.2761, -0.0356, -1.2884,  0.0718,\n",
      "         0.3257, -0.6681, -0.2218,  0.0104, -0.1534, -0.4485, -0.7859, -0.1047,\n",
      "        -0.0303, -0.9911, -0.1534, -0.0218, -0.4151, -0.0445, -0.2907, -0.2075,\n",
      "        -0.0856, -0.4631,  0.2298, -0.1410, -1.6451, -0.5056, -0.2012, -0.2192,\n",
      "         0.0652, -0.4351, -0.5152, -0.0539,  0.0166, -0.0466, -0.2279,  0.1096,\n",
      "        -0.0058,  0.3952, -1.0164, -0.5157, -0.2050, -2.2328, -0.0201, -1.4219,\n",
      "         0.0771, -0.2260, -0.1787,  0.0044,  0.1619, -0.2513, -0.0763, -0.0451,\n",
      "        -0.2861, -0.1960, -0.0839, -0.0489, -0.0423,  0.0922,  0.0979, -0.2009,\n",
      "         0.1582,  0.0922, -1.9159,  0.0756, -0.0311, -2.1341, -0.2096],\n",
      "       grad_fn=<SumBackward1>)\n"
     ]
    }
   ],
   "source": [
    "y_pred = net4(V(xt))\n",
    "print(y_pred)\n",
    "l = binary_loss(y_pred, yt)"
   ]
  },
  {
   "cell_type": "code",
   "execution_count": 135,
   "metadata": {},
   "outputs": [
    {
     "data": {
      "text/plain": [
       "tensor([-0.0760, -0.0552, -0.0341, -0.0388,  0.0767, -0.0235,  0.0645, -0.0275,\n",
       "        -0.0251,  0.0597, -0.0600, -0.4709, -0.5952, -0.4709, -0.1311, -0.5952,\n",
       "        -0.1986, -0.4072, -0.9699, -0.4183, -0.2761, -0.0356, -1.2884,  0.0718,\n",
       "         0.3257, -0.6681, -0.2218,  0.0104, -0.1534, -0.4485, -0.7859, -0.1047,\n",
       "        -0.0303, -0.9911, -0.1534, -0.0218, -0.4151, -0.0445, -0.2907, -0.2075,\n",
       "        -0.0856, -0.4631,  0.2298, -0.1410, -1.6451, -0.5056, -0.2012, -0.2192,\n",
       "         0.0652, -0.4351, -0.5152, -0.0539,  0.0166, -0.0466, -0.2279,  0.1096,\n",
       "        -0.0058,  0.3952, -1.0164, -0.5157, -0.2050, -2.2328, -0.0201, -1.4219,\n",
       "         0.0771, -0.2260, -0.1787,  0.0044,  0.1619, -0.2513, -0.0763, -0.0451,\n",
       "        -0.2861, -0.1960, -0.0839, -0.0489, -0.0423,  0.0922,  0.0979, -0.2009,\n",
       "         0.1582,  0.0922, -1.9159,  0.0756, -0.0311, -2.1341, -0.2096],\n",
       "       grad_fn=<SumBackward1>)"
      ]
     },
     "execution_count": 135,
     "metadata": {},
     "output_type": "execute_result"
    }
   ],
   "source": [
    "y_pred"
   ]
  },
  {
   "cell_type": "code",
   "execution_count": 136,
   "metadata": {},
   "outputs": [
    {
     "name": "stdout",
     "output_type": "stream",
     "text": [
      "None\n"
     ]
    }
   ],
   "source": [
    "print(net4.w.weight.grad)"
   ]
  },
  {
   "cell_type": "code",
   "execution_count": 137,
   "metadata": {},
   "outputs": [
    {
     "data": {
      "text/plain": [
       "torch.Size([])"
      ]
     },
     "execution_count": 137,
     "metadata": {},
     "output_type": "execute_result"
    }
   ],
   "source": [
    "l.shape"
   ]
  },
  {
   "cell_type": "code",
   "execution_count": 138,
   "metadata": {},
   "outputs": [],
   "source": [
    "l.backward()"
   ]
  },
  {
   "cell_type": "code",
   "execution_count": 139,
   "metadata": {},
   "outputs": [
    {
     "data": {
      "text/plain": [
       "((200,),\n",
       " array([0, 0, 0, 0, 0, 0, 0, 0, 0, 0, 0, 0, 0, 0, 0, 0, 0, 0, 0, 0, 0, 0, 0, 0, 0, 0, 0, 0, 0, 0, 0, 0, 0, 0,\n",
       "        0, 0, 0, 0, 0, 0, 0, 0, 0, 0, 0, 0, 0, 0, 0, 0, 0, 0, 0, 0, 0, 0, 0, 0, 0, 0, 0, 0, 0, 0, 0, 0, 0, 0,\n",
       "        0, 0, 0, 0, 0, 0, 0, 0, 0, 0, 0, 0, 0, 0, 0, 0, 0, 0, 0, 0, 0, 0, 0, 0, 0, 0, 0, 0, 0, 0, 0, 0, 0, 0,\n",
       "        0, 0, 0, 0, 0, 0, 0, 0, 0, 0, 0, 1, 1, 1, 1, 1, 1, 1, 1, 1, 1, 1, 1, 1, 1, 1, 1, 1, 1, 1, 1, 1, 1, 1,\n",
       "        1, 1, 1, 1, 1, 1, 1, 1, 1, 1, 1, 1, 1, 1, 1, 1, 1, 1, 1, 1, 1, 1, 1, 1, 1, 1, 1, 1, 1, 1, 1, 1, 1, 1,\n",
       "        1, 1, 1, 1, 1, 1, 1, 1, 1, 1, 1, 1, 1, 1, 1, 1, 1, 1, 1, 1, 1, 1, 1, 1, 1, 1, 1, 1, 1, 1]))"
      ]
     },
     "execution_count": 139,
     "metadata": {},
     "output_type": "execute_result"
    }
   ],
   "source": [
    "_a.shape, _a"
   ]
  },
  {
   "cell_type": "code",
   "execution_count": 140,
   "metadata": {},
   "outputs": [
    {
     "name": "stdout",
     "output_type": "stream",
     "text": [
      "6 tensor(0.0055) tensor([-0.0760])\n",
      "11 tensor(0.0056) tensor([-0.0552])\n",
      "13 tensor(0.0056) tensor([-0.0341])\n",
      "292 tensor(0.0056) tensor([-0.0388])\n",
      "610 tensor(0.0060) tensor([0.0767])\n",
      "758 tensor(0.0057) tensor([-0.0235])\n",
      "902 tensor(0.0059) tensor([0.0645])\n",
      "928 tensor(0.0057) tensor([-0.0275])\n",
      "999 tensor(0.0057) tensor([-0.0251])\n",
      "1153 tensor(0.0059) tensor([0.0597])\n",
      "1345 tensor(0.0056) tensor([-0.0600])\n",
      "1860 tensor(0.0044) tensor([-0.4709])\n",
      "2145 tensor(0.0041) tensor([-0.5952])\n",
      "2152 tensor(0.0044) tensor([-0.4709])\n",
      "2652 tensor(0.0054) tensor([-0.1311])\n",
      "4134 tensor(0.0041) tensor([-0.5952])\n",
      "5371 tensor(0.0052) tensor([-0.1986])\n",
      "5415 tensor(0.0046) tensor([-0.4072])\n",
      "5870 tensor(0.0032) tensor([-0.9699])\n",
      "6308 tensor(0.0046) tensor([-0.4183])\n",
      "6317 tensor(0.0050) tensor([-0.2761])\n",
      "6561 tensor(0.0056) tensor([-0.0356])\n",
      "6619 tensor(0.0025) tensor([-1.2884])\n",
      "6871 tensor(0.0060) tensor([0.0718])\n",
      "6880 tensor(0.0067) tensor([0.3257])\n",
      "7812 tensor(0.0039) tensor([-0.6681])\n",
      "8121 tensor(0.0051) tensor([-0.2218])\n",
      "8263 tensor(0.0058) tensor([0.0104])\n",
      "8288 tensor(0.0053) tensor([-0.1534])\n",
      "8717 tensor(0.0045) tensor([-0.4485])\n",
      "8748 tensor(0.0036) tensor([-0.7859])\n",
      "8881 tensor(0.0054) tensor([-0.1047])\n",
      "9078 tensor(0.0057) tensor([-0.0303])\n",
      "9392 tensor(0.0031) tensor([-0.9911])\n",
      "9418 tensor(0.0053) tensor([-0.1534])\n",
      "9577 tensor(0.0057) tensor([-0.0218])\n",
      "9593 tensor(0.0046) tensor([-0.4151])\n",
      "9603 tensor(0.0056) tensor([-0.0445])\n",
      "9873 tensor(0.0049) tensor([-0.2907])\n",
      "10018 tensor(0.0052) tensor([-0.2075])\n",
      "10553 tensor(0.0055) tensor([-0.0856])\n",
      "10698 tensor(0.0044) tensor([-0.4631])\n",
      "11068 tensor(0.0064) tensor([0.2298])\n",
      "11327 tensor(0.0053) tensor([-0.1410])\n",
      "11328 tensor(0.0019) tensor([-1.6451])\n",
      "11560 tensor(0.0043) tensor([-0.5056])\n",
      "11876 tensor(0.0052) tensor([-0.2012])\n",
      "11879 tensor(0.0051) tensor([-0.2192])\n",
      "11982 tensor(0.0059) tensor([0.0652])\n",
      "12263 tensor(0.0045) tensor([-0.4351])\n",
      "12312 tensor(0.0043) tensor([-0.5152])\n",
      "12484 tensor(0.0056) tensor([-0.0539])\n",
      "12562 tensor(0.0058) tensor([0.0166])\n",
      "12563 tensor(0.0056) tensor([-0.0466])\n",
      "12634 tensor(0.0051) tensor([-0.2279])\n",
      "12703 tensor(0.0061) tensor([0.1096])\n",
      "12715 tensor(0.0057) tensor([-0.0058])\n",
      "12778 tensor(0.0069) tensor([0.3952])\n",
      "13457 tensor(0.0031) tensor([-1.0164])\n",
      "13516 tensor(0.0043) tensor([-0.5157])\n",
      "13556 tensor(0.0052) tensor([-0.2050])\n",
      "13560 tensor(0.0011) tensor([-2.2328])\n",
      "13935 tensor(0.0057) tensor([-0.0201])\n",
      "15044 tensor(0.0022) tensor([-1.4219])\n",
      "15413 tensor(0.0060) tensor([0.0771])\n",
      "15573 tensor(0.0051) tensor([-0.2260])\n",
      "15623 tensor(0.0052) tensor([-0.1787])\n",
      "15631 tensor(0.0058) tensor([0.0044])\n",
      "17141 tensor(0.0062) tensor([0.1619])\n",
      "17648 tensor(0.0050) tensor([-0.2513])\n",
      "17951 tensor(0.0055) tensor([-0.0763])\n",
      "17955 tensor(0.0056) tensor([-0.0451])\n",
      "17974 tensor(0.0049) tensor([-0.2861])\n",
      "17985 tensor(0.0052) tensor([-0.1960])\n",
      "18023 tensor(0.0055) tensor([-0.0839])\n",
      "18139 tensor(0.0056) tensor([-0.0489])\n",
      "18184 tensor(0.0056) tensor([-0.0423])\n",
      "18612 tensor(0.0060) tensor([0.0922])\n",
      "18873 tensor(0.0060) tensor([0.0979])\n",
      "19123 tensor(0.0052) tensor([-0.2009])\n",
      "19191 tensor(0.0062) tensor([0.1582])\n",
      "19285 tensor(0.0060) tensor([0.0922])\n",
      "19491 tensor(0.0015) tensor([-1.9159])\n",
      "19499 tensor(0.0060) tensor([0.0756])\n",
      "19795 tensor(0.0057) tensor([-0.0311])\n",
      "19888 tensor(0.0012) tensor([-2.1341])\n",
      "20039 tensor(0.0051) tensor([-0.2096])\n"
     ]
    }
   ],
   "source": [
    "for idx, i in enumerate(net4.w.weight.grad.data):\n",
    "    for j in i:\n",
    "        if j != 0:\n",
    "            print(idx, j, net4.w.weight.data[idx])"
   ]
  },
  {
   "cell_type": "code",
   "execution_count": null,
   "metadata": {},
   "outputs": [],
   "source": []
  },
  {
   "cell_type": "code",
   "execution_count": 141,
   "metadata": {},
   "outputs": [],
   "source": [
    "net4.w.weight.data -= net4.w.weight.grad.data * lr"
   ]
  },
  {
   "cell_type": "code",
   "execution_count": 142,
   "metadata": {},
   "outputs": [
    {
     "data": {
      "text/plain": [
       "0.01"
      ]
     },
     "execution_count": 142,
     "metadata": {},
     "output_type": "execute_result"
    }
   ],
   "source": [
    "lr"
   ]
  },
  {
   "cell_type": "code",
   "execution_count": 143,
   "metadata": {},
   "outputs": [
    {
     "data": {
      "text/plain": [
       "tensor([[-0.2214],\n",
       "        [-0.0593],\n",
       "        [-0.1898],\n",
       "        ...,\n",
       "        [-0.7288],\n",
       "        [-0.7288],\n",
       "        [-0.7288]])"
      ]
     },
     "execution_count": 143,
     "metadata": {},
     "output_type": "execute_result"
    }
   ],
   "source": [
    "net4.w.weight.data"
   ]
  },
  {
   "cell_type": "code",
   "execution_count": 144,
   "metadata": {},
   "outputs": [
    {
     "data": {
      "text/plain": [
       "tensor([[0.],\n",
       "        [0.],\n",
       "        [0.],\n",
       "        ...,\n",
       "        [0.],\n",
       "        [0.],\n",
       "        [0.]])"
      ]
     },
     "execution_count": 144,
     "metadata": {},
     "output_type": "execute_result"
    }
   ],
   "source": [
    "net4.w.weight.grad.data"
   ]
  },
  {
   "cell_type": "code",
   "execution_count": 145,
   "metadata": {},
   "outputs": [
    {
     "name": "stdout",
     "output_type": "stream",
     "text": [
      "tensor(0.0055)\n",
      "tensor(0.0056)\n",
      "tensor(0.0056)\n",
      "tensor(0.0056)\n",
      "tensor(0.0060)\n",
      "tensor(0.0057)\n",
      "tensor(0.0059)\n",
      "tensor(0.0057)\n",
      "tensor(0.0057)\n",
      "tensor(0.0059)\n",
      "tensor(0.0056)\n",
      "tensor(0.0044)\n",
      "tensor(0.0041)\n",
      "tensor(0.0044)\n",
      "tensor(0.0054)\n",
      "tensor(0.0041)\n",
      "tensor(0.0052)\n",
      "tensor(0.0046)\n",
      "tensor(0.0032)\n",
      "tensor(0.0046)\n",
      "tensor(0.0050)\n",
      "tensor(0.0056)\n",
      "tensor(0.0025)\n",
      "tensor(0.0060)\n",
      "tensor(0.0067)\n",
      "tensor(0.0039)\n",
      "tensor(0.0051)\n",
      "tensor(0.0058)\n",
      "tensor(0.0053)\n",
      "tensor(0.0045)\n",
      "tensor(0.0036)\n",
      "tensor(0.0054)\n",
      "tensor(0.0057)\n",
      "tensor(0.0031)\n",
      "tensor(0.0053)\n",
      "tensor(0.0057)\n",
      "tensor(0.0046)\n",
      "tensor(0.0056)\n",
      "tensor(0.0049)\n",
      "tensor(0.0052)\n",
      "tensor(0.0055)\n",
      "tensor(0.0044)\n",
      "tensor(0.0064)\n",
      "tensor(0.0053)\n",
      "tensor(0.0019)\n",
      "tensor(0.0043)\n",
      "tensor(0.0052)\n",
      "tensor(0.0051)\n",
      "tensor(0.0059)\n",
      "tensor(0.0045)\n",
      "tensor(0.0043)\n",
      "tensor(0.0056)\n",
      "tensor(0.0058)\n",
      "tensor(0.0056)\n",
      "tensor(0.0051)\n",
      "tensor(0.0061)\n",
      "tensor(0.0057)\n",
      "tensor(0.0069)\n",
      "tensor(0.0031)\n",
      "tensor(0.0043)\n",
      "tensor(0.0052)\n",
      "tensor(0.0011)\n",
      "tensor(0.0057)\n",
      "tensor(0.0022)\n",
      "tensor(0.0060)\n",
      "tensor(0.0051)\n",
      "tensor(0.0052)\n",
      "tensor(0.0058)\n",
      "tensor(0.0062)\n",
      "tensor(0.0050)\n",
      "tensor(0.0055)\n",
      "tensor(0.0056)\n",
      "tensor(0.0049)\n",
      "tensor(0.0052)\n",
      "tensor(0.0055)\n",
      "tensor(0.0056)\n",
      "tensor(0.0056)\n",
      "tensor(0.0060)\n",
      "tensor(0.0060)\n",
      "tensor(0.0052)\n",
      "tensor(0.0062)\n",
      "tensor(0.0060)\n",
      "tensor(0.0015)\n",
      "tensor(0.0060)\n",
      "tensor(0.0057)\n",
      "tensor(0.0012)\n",
      "tensor(0.0051)\n"
     ]
    }
   ],
   "source": [
    "for i in net4.w.weight.grad.data:\n",
    "    for j in i:\n",
    "        if j != 0:\n",
    "            print(j)"
   ]
  },
  {
   "cell_type": "code",
   "execution_count": 146,
   "metadata": {},
   "outputs": [
    {
     "data": {
      "text/plain": [
       "tensor([[0.],\n",
       "        [0.],\n",
       "        [0.],\n",
       "        ...,\n",
       "        [0.],\n",
       "        [0.],\n",
       "        [0.]])"
      ]
     },
     "execution_count": 146,
     "metadata": {},
     "output_type": "execute_result"
    }
   ],
   "source": [
    "net4.w.weight.grad.data.zero_()"
   ]
  },
  {
   "cell_type": "code",
   "execution_count": null,
   "metadata": {},
   "outputs": [],
   "source": []
  },
  {
   "cell_type": "code",
   "execution_count": 147,
   "metadata": {},
   "outputs": [],
   "source": [
    "from datetime import datetime"
   ]
  },
  {
   "cell_type": "code",
   "execution_count": 148,
   "metadata": {},
   "outputs": [
    {
     "data": {
      "text/plain": [
       "1280"
      ]
     },
     "execution_count": 148,
     "metadata": {},
     "output_type": "execute_result"
    }
   ],
   "source": [
    "len(md.trn_ds)"
   ]
  },
  {
   "cell_type": "code",
   "execution_count": 149,
   "metadata": {},
   "outputs": [],
   "source": [
    "a1, a2, a3, a4 = md.trn_ds[0]"
   ]
  },
  {
   "cell_type": "code",
   "execution_count": 150,
   "metadata": {},
   "outputs": [
    {
     "data": {
      "text/plain": [
       "array([    0,     0,     0,     0,     0,     0,     0,     0,     0,     0,     0,     0,     0,     0,\n",
       "           0,     0,     0,     0,     0,     0,     0,     0,     0,     0,     0,     0,     0,     0,\n",
       "           0,     0,     0,     0,     0,     0,     0,     0,     0,     0,     0,     0,     0,     0,\n",
       "           0,     0,     0,     0,     0,     0,     0,     0,     0,     0,     0,     0,     0,     0,\n",
       "           0,     0,     0,     0,     0,     0,     0,     0,     0,     0,     0,     0,     0,     0,\n",
       "           0,     0,     0,     0,     0,     0,     0,     0,     0,     0,     0,     0,     0,     0,\n",
       "           0,     0,     0,     0,     0,     0,     0,     0,     0,     0,     0,     0,     0,     0,\n",
       "           0,     0,     0,     0,     0,     0,     0,     0,     0,     0,     0,     0,     0,     0,\n",
       "           0,     0,     0,     0,     0,     0,     0,     0,     0,     0,     0,     0,     0,     0,\n",
       "           0,     0,     0,     0,     0,     1,     6,    12,    14,    15,   284,   286,   287,   293,\n",
       "         450,   759,   929,  1861,  2142,  2358,  2505,  2671,  2931,  4183,  5372,  6318,  6859,  7742,\n",
       "        7879,  7922,  7986,  8062,  8142,  8194,  8457,  8527,  8685,  8722,  9285,  9578,  9604, 10021,\n",
       "       10898, 11880, 12026, 12332, 12485, 12533, 12564, 12635, 12716, 13190, 13258, 13495, 13503, 14493,\n",
       "       15456, 16113, 16969, 17956, 17964, 18024, 18185, 18245, 18413, 18978, 19018, 19189, 19669, 19674,\n",
       "       19725, 19796, 19889, 20034])"
      ]
     },
     "execution_count": 150,
     "metadata": {},
     "output_type": "execute_result"
    }
   ],
   "source": [
    "a1"
   ]
  },
  {
   "cell_type": "code",
   "execution_count": 151,
   "metadata": {},
   "outputs": [
    {
     "data": {
      "text/plain": [
       "array([0, 0, 0, 0, 0, 0, 0, 0, 0, 0, 0, 0, 0, 0, 0, 0, 0, 0, 0, 0, 0, 0, 0, 0, 0, 0, 0, 0, 0, 0, 0, 0, 0, 0,\n",
       "       0, 0, 0, 0, 0, 0, 0, 0, 0, 0, 0, 0, 0, 0, 0, 0, 0, 0, 0, 0, 0, 0, 0, 0, 0, 0, 0, 0, 0, 0, 0, 0, 0, 0,\n",
       "       0, 0, 0, 0, 0, 0, 0, 0, 0, 0, 0, 0, 0, 0, 0, 0, 0, 0, 0, 0, 0, 0, 0, 0, 0, 0, 0, 0, 0, 0, 0, 0, 0, 0,\n",
       "       0, 0, 0, 0, 0, 0, 0, 0, 0, 0, 0, 0, 0, 0, 0, 0, 0, 0, 0, 0, 0, 0, 0, 0, 0, 0, 0, 0, 0, 1, 1, 1, 1, 1,\n",
       "       1, 1, 1, 1, 1, 1, 1, 1, 1, 1, 1, 1, 1, 1, 1, 1, 1, 1, 1, 1, 1, 1, 1, 1, 1, 1, 1, 1, 1, 1, 1, 1, 1, 1,\n",
       "       1, 1, 1, 1, 1, 1, 1, 1, 1, 1, 1, 1, 1, 1, 1, 1, 1, 1, 1, 1, 1, 1, 1, 1, 1, 1, 1, 1, 1, 1])"
      ]
     },
     "execution_count": 151,
     "metadata": {},
     "output_type": "execute_result"
    }
   ],
   "source": [
    "a2"
   ]
  },
  {
   "cell_type": "code",
   "execution_count": 152,
   "metadata": {},
   "outputs": [
    {
     "data": {
      "text/plain": [
       "69"
      ]
     },
     "execution_count": 152,
     "metadata": {},
     "output_type": "execute_result"
    }
   ],
   "source": [
    "a3"
   ]
  },
  {
   "cell_type": "code",
   "execution_count": 153,
   "metadata": {},
   "outputs": [
    {
     "data": {
      "text/plain": [
       "(array([1., 0.], dtype=float32), 0)"
      ]
     },
     "execution_count": 153,
     "metadata": {},
     "output_type": "execute_result"
    }
   ],
   "source": [
    "a4, np.argmax(a4)"
   ]
  },
  {
   "cell_type": "code",
   "execution_count": 154,
   "metadata": {},
   "outputs": [
    {
     "data": {
      "text/plain": [
       "tensor(1.)"
      ]
     },
     "execution_count": 154,
     "metadata": {},
     "output_type": "execute_result"
    }
   ],
   "source": [
    "torch.max(V(a4))"
   ]
  },
  {
   "cell_type": "code",
   "execution_count": 155,
   "metadata": {},
   "outputs": [
    {
     "data": {
      "text/plain": [
       "tensor(0.6374, grad_fn=<MeanBackward0>)"
      ]
     },
     "execution_count": 155,
     "metadata": {},
     "output_type": "execute_result"
    }
   ],
   "source": [
    "loss(net4(V(a1)), V(a4))"
   ]
  },
  {
   "cell_type": "code",
   "execution_count": 156,
   "metadata": {},
   "outputs": [
    {
     "data": {
      "text/plain": [
       "tensor([-0.2214,  0.0788, -0.0553, -0.0341, -0.0602, -0.0710, -0.0710, -0.4645,\n",
       "        -0.0389,  0.2911, -0.0235, -0.0276, -0.4710, -0.7288, -0.0710,  0.7182,\n",
       "         0.0455, -0.4411, -0.5056, -0.1986, -0.2762, -0.1534, -0.0734,  0.6575,\n",
       "         0.9760, -0.3721, -0.9111, -1.4219, -0.3039,  0.3699,  0.2307, -0.7288,\n",
       "        -1.5397, -0.7288, -0.0219, -0.0445, -0.4709, -0.0970, -0.2193, -0.5056,\n",
       "        -0.0756, -0.0539,  0.2047, -0.0467, -0.2279, -0.0058, -0.0655, -0.0082,\n",
       "         0.3779, -1.2884, -0.0463, -1.1342, -0.2027,  0.3273, -0.0451,  0.1063,\n",
       "        -0.0840, -0.0423, -0.7288, -0.3233, -0.0497,  0.3146,  0.6575, -0.6036,\n",
       "         0.0523,  0.1341, -0.0311, -2.1341,  0.4963], grad_fn=<SumBackward1>)"
      ]
     },
     "execution_count": 156,
     "metadata": {},
     "output_type": "execute_result"
    }
   ],
   "source": [
    "net4(V(a1))"
   ]
  },
  {
   "cell_type": "code",
   "execution_count": 157,
   "metadata": {},
   "outputs": [],
   "source": [
    "def score2(x, y):\n",
    "    y_pred = to_np(net2(V(x)))\n",
    "    return np.sum(y_pred.argmax(axis=1) == to_np(y).argmax(axis=1))/len(y_pred)"
   ]
  },
  {
   "cell_type": "code",
   "execution_count": 158,
   "metadata": {},
   "outputs": [],
   "source": [
    "def score(x, y):\n",
    "    # print(f'x={x}, y={y}')\n",
    "    y_pred = to_np(net2(V(x))).sum() >= 0\n",
    "    # print(f'y_pred={y_pred}')\n",
    "    y2 = np.argmax(y)\n",
    "    # print(f'y2={y2}')\n",
    "    return np.sum(y_pred == y2)"
   ]
  },
  {
   "cell_type": "code",
   "execution_count": null,
   "metadata": {},
   "outputs": [],
   "source": []
  },
  {
   "cell_type": "code",
   "execution_count": 159,
   "metadata": {},
   "outputs": [],
   "source": [
    "from tqdm import notebook"
   ]
  },
  {
   "cell_type": "code",
   "execution_count": 166,
   "metadata": {},
   "outputs": [
    {
     "data": {
      "text/plain": [
       "datetime.datetime(2020, 1, 5, 19, 33, 26, 461955)"
      ]
     },
     "execution_count": 166,
     "metadata": {},
     "output_type": "execute_result"
    }
   ],
   "source": [
    "datetime.now()"
   ]
  },
  {
   "cell_type": "code",
   "execution_count": 244,
   "metadata": {},
   "outputs": [],
   "source": [
    "net2 = MySimpleNB(len(vocab), 1)\n",
    "# loss = nn.NLLLoss()\n",
    "# loss = torch.nn.CrossEntropyLoss()\n",
    "loss = binary_loss\n",
    "# lr = 1e-0\n",
    "lr = 1e-3\n",
    "train_loss_list = []\n",
    "val_loss_list = []\n",
    "val_acc_list= []\n",
    "loss_list = []"
   ]
  },
  {
   "cell_type": "code",
   "execution_count": 256,
   "metadata": {},
   "outputs": [],
   "source": [
    "??net2.forward"
   ]
  },
  {
   "cell_type": "code",
   "execution_count": 257,
   "metadata": {},
   "outputs": [
    {
     "data": {
      "text/plain": [
       "Embedding(20133, 1)"
      ]
     },
     "execution_count": 257,
     "metadata": {},
     "output_type": "execute_result"
    }
   ],
   "source": [
    "net2.w"
   ]
  },
  {
   "cell_type": "code",
   "execution_count": 258,
   "metadata": {},
   "outputs": [
    {
     "data": {
      "text/plain": [
       "(1, 20133)"
      ]
     },
     "execution_count": 258,
     "metadata": {},
     "output_type": "execute_result"
    }
   ],
   "source": [
    "r.shape"
   ]
  },
  {
   "cell_type": "code",
   "execution_count": 261,
   "metadata": {},
   "outputs": [
    {
     "data": {
      "text/plain": [
       "tensor([[-0.0593],\n",
       "        [-0.1898],\n",
       "        [-0.7776]], grad_fn=<EmbeddingBackward>)"
      ]
     },
     "execution_count": 261,
     "metadata": {},
     "output_type": "execute_result"
    }
   ],
   "source": [
    "net2.w(torch.LongTensor([1,2,3]))"
   ]
  },
  {
   "cell_type": "code",
   "execution_count": 263,
   "metadata": {},
   "outputs": [
    {
     "data": {
      "text/plain": [
       "matrix([[-0.22142, -0.0593 , -0.18976, ..., -0.72876, -0.72876, -0.72876]])"
      ]
     },
     "execution_count": 263,
     "metadata": {},
     "output_type": "execute_result"
    }
   ],
   "source": [
    "r"
   ]
  },
  {
   "cell_type": "code",
   "execution_count": 270,
   "metadata": {},
   "outputs": [],
   "source": [
    "idx = []\n",
    "for index, i in enumerate(trn_term_doc[0].toarray()[0]):\n",
    "    if i == 1:\n",
    "        idx.append(index)"
   ]
  },
  {
   "cell_type": "code",
   "execution_count": 271,
   "metadata": {},
   "outputs": [
    {
     "data": {
      "text/plain": [
       "[0,\n",
       " 5,\n",
       " 11,\n",
       " 13,\n",
       " 14,\n",
       " 283,\n",
       " 285,\n",
       " 286,\n",
       " 292,\n",
       " 449,\n",
       " 758,\n",
       " 928,\n",
       " 1860,\n",
       " 2141,\n",
       " 2357,\n",
       " 2504,\n",
       " 2670,\n",
       " 2930,\n",
       " 4182,\n",
       " 5371,\n",
       " 6317,\n",
       " 6858,\n",
       " 7741,\n",
       " 7878,\n",
       " 7921,\n",
       " 7985,\n",
       " 8061,\n",
       " 8141,\n",
       " 8193,\n",
       " 8456,\n",
       " 8526,\n",
       " 8684,\n",
       " 8721,\n",
       " 9284,\n",
       " 9577,\n",
       " 9603,\n",
       " 10020,\n",
       " 10897,\n",
       " 11879,\n",
       " 12025,\n",
       " 12331,\n",
       " 12484,\n",
       " 12532,\n",
       " 12563,\n",
       " 12634,\n",
       " 12715,\n",
       " 13189,\n",
       " 13257,\n",
       " 13494,\n",
       " 13502,\n",
       " 14492,\n",
       " 15455,\n",
       " 16112,\n",
       " 16968,\n",
       " 17955,\n",
       " 17963,\n",
       " 18023,\n",
       " 18184,\n",
       " 18244,\n",
       " 18412,\n",
       " 18977,\n",
       " 19017,\n",
       " 19188,\n",
       " 19668,\n",
       " 19673,\n",
       " 19724,\n",
       " 19795,\n",
       " 19888,\n",
       " 20033]"
      ]
     },
     "execution_count": 271,
     "metadata": {},
     "output_type": "execute_result"
    }
   ],
   "source": [
    "idx"
   ]
  },
  {
   "cell_type": "code",
   "execution_count": 283,
   "metadata": {},
   "outputs": [
    {
     "data": {
      "text/plain": [
       "array([    0,     5,    11,    13,    14,   283,   285,   286,   292,   449,   758,   928,  1860,  2141,\n",
       "        2357,  2504,  2670,  2930,  4182,  5371,  6317,  6858,  7741,  7878,  7921,  7985,  8061,  8141,\n",
       "        8193,  8456,  8526,  8684,  8721,  9284,  9577,  9603, 10020, 10897, 11879, 12025, 12331, 12484,\n",
       "       12532, 12563, 12634, 12715, 13189, 13257, 13494, 13502, 14492, 15455, 16112, 16968, 17955, 17963,\n",
       "       18023, 18184, 18244, 18412, 18977, 19017, 19188, 19668, 19673, 19724, 19795, 19888, 20033],\n",
       "      dtype=int32)"
      ]
     },
     "execution_count": 283,
     "metadata": {},
     "output_type": "execute_result"
    }
   ],
   "source": [
    "trn_term_doc[0].nonzero()[1]"
   ]
  },
  {
   "cell_type": "code",
   "execution_count": 278,
   "metadata": {},
   "outputs": [
    {
     "data": {
      "text/plain": [
       "['__abs__',\n",
       " '__add__',\n",
       " '__array_priority__',\n",
       " '__bool__',\n",
       " '__class__',\n",
       " '__delattr__',\n",
       " '__dict__',\n",
       " '__dir__',\n",
       " '__div__',\n",
       " '__doc__',\n",
       " '__eq__',\n",
       " '__format__',\n",
       " '__ge__',\n",
       " '__getattr__',\n",
       " '__getattribute__',\n",
       " '__getitem__',\n",
       " '__gt__',\n",
       " '__hash__',\n",
       " '__iadd__',\n",
       " '__idiv__',\n",
       " '__imul__',\n",
       " '__init__',\n",
       " '__init_subclass__',\n",
       " '__isub__',\n",
       " '__iter__',\n",
       " '__itruediv__',\n",
       " '__le__',\n",
       " '__len__',\n",
       " '__lt__',\n",
       " '__matmul__',\n",
       " '__module__',\n",
       " '__mul__',\n",
       " '__ne__',\n",
       " '__neg__',\n",
       " '__new__',\n",
       " '__nonzero__',\n",
       " '__pow__',\n",
       " '__radd__',\n",
       " '__rdiv__',\n",
       " '__reduce__',\n",
       " '__reduce_ex__',\n",
       " '__repr__',\n",
       " '__rmatmul__',\n",
       " '__rmul__',\n",
       " '__rsub__',\n",
       " '__rtruediv__',\n",
       " '__setattr__',\n",
       " '__setitem__',\n",
       " '__sizeof__',\n",
       " '__str__',\n",
       " '__sub__',\n",
       " '__subclasshook__',\n",
       " '__truediv__',\n",
       " '__weakref__',\n",
       " '_add_dense',\n",
       " '_add_sparse',\n",
       " '_arg_min_or_max',\n",
       " '_arg_min_or_max_axis',\n",
       " '_asindices',\n",
       " '_binopt',\n",
       " '_cs_matrix__get_has_canonical_format',\n",
       " '_cs_matrix__get_sorted',\n",
       " '_cs_matrix__set_has_canonical_format',\n",
       " '_cs_matrix__set_sorted',\n",
       " '_deduped_data',\n",
       " '_divide',\n",
       " '_divide_sparse',\n",
       " '_get_arrayXarray',\n",
       " '_get_arrayXint',\n",
       " '_get_arrayXslice',\n",
       " '_get_columnXarray',\n",
       " '_get_dtype',\n",
       " '_get_intXarray',\n",
       " '_get_intXint',\n",
       " '_get_intXslice',\n",
       " '_get_sliceXarray',\n",
       " '_get_sliceXint',\n",
       " '_get_sliceXslice',\n",
       " '_get_submatrix',\n",
       " '_has_canonical_format',\n",
       " '_has_sorted_indices',\n",
       " '_imag',\n",
       " '_inequality',\n",
       " '_insert_many',\n",
       " '_major_index_fancy',\n",
       " '_major_slice',\n",
       " '_maximum_minimum',\n",
       " '_min_or_max',\n",
       " '_min_or_max_axis',\n",
       " '_minor_index_fancy',\n",
       " '_minor_reduce',\n",
       " '_minor_slice',\n",
       " '_mul_multivector',\n",
       " '_mul_scalar',\n",
       " '_mul_sparse_matrix',\n",
       " '_mul_vector',\n",
       " '_prepare_indices',\n",
       " '_process_toarray_args',\n",
       " '_real',\n",
       " '_rsub_dense',\n",
       " '_scalar_binopt',\n",
       " '_set_arrayXarray',\n",
       " '_set_arrayXarray_sparse',\n",
       " '_set_dtype',\n",
       " '_set_intXint',\n",
       " '_set_many',\n",
       " '_set_self',\n",
       " '_setdiag',\n",
       " '_shape',\n",
       " '_sub_dense',\n",
       " '_sub_sparse',\n",
       " '_swap',\n",
       " '_validate_indices',\n",
       " '_with_data',\n",
       " '_zero_many',\n",
       " 'arcsin',\n",
       " 'arcsinh',\n",
       " 'arctan',\n",
       " 'arctanh',\n",
       " 'argmax',\n",
       " 'argmin',\n",
       " 'asformat',\n",
       " 'asfptype',\n",
       " 'astype',\n",
       " 'ceil',\n",
       " 'check_format',\n",
       " 'conj',\n",
       " 'conjugate',\n",
       " 'copy',\n",
       " 'count_nonzero',\n",
       " 'data',\n",
       " 'deg2rad',\n",
       " 'diagonal',\n",
       " 'dot',\n",
       " 'dtype',\n",
       " 'eliminate_zeros',\n",
       " 'expm1',\n",
       " 'floor',\n",
       " 'format',\n",
       " 'getH',\n",
       " 'get_shape',\n",
       " 'getcol',\n",
       " 'getformat',\n",
       " 'getmaxprint',\n",
       " 'getnnz',\n",
       " 'getrow',\n",
       " 'has_canonical_format',\n",
       " 'has_sorted_indices',\n",
       " 'indices',\n",
       " 'indptr',\n",
       " 'log1p',\n",
       " 'max',\n",
       " 'maximum',\n",
       " 'maxprint',\n",
       " 'mean',\n",
       " 'min',\n",
       " 'minimum',\n",
       " 'multiply',\n",
       " 'ndim',\n",
       " 'nnz',\n",
       " 'nonzero',\n",
       " 'power',\n",
       " 'prune',\n",
       " 'rad2deg',\n",
       " 'reshape',\n",
       " 'resize',\n",
       " 'rint',\n",
       " 'set_shape',\n",
       " 'setdiag',\n",
       " 'shape',\n",
       " 'sign',\n",
       " 'sin',\n",
       " 'sinh',\n",
       " 'sort_indices',\n",
       " 'sorted_indices',\n",
       " 'sqrt',\n",
       " 'sum',\n",
       " 'sum_duplicates',\n",
       " 'tan',\n",
       " 'tanh',\n",
       " 'toarray',\n",
       " 'tobsr',\n",
       " 'tocoo',\n",
       " 'tocsc',\n",
       " 'tocsr',\n",
       " 'todense',\n",
       " 'todia',\n",
       " 'todok',\n",
       " 'tolil',\n",
       " 'transpose',\n",
       " 'trunc']"
      ]
     },
     "execution_count": 278,
     "metadata": {},
     "output_type": "execute_result"
    }
   ],
   "source": [
    "dir(trn_term_doc)"
   ]
  },
  {
   "cell_type": "code",
   "execution_count": 275,
   "metadata": {},
   "outputs": [
    {
     "data": {
      "text/plain": [
       "tensor(-12.5095, grad_fn=<SumBackward0>)"
      ]
     },
     "execution_count": 275,
     "metadata": {},
     "output_type": "execute_result"
    }
   ],
   "source": [
    "(net2.w(V(torch.LongTensor(idx)))).sum()"
   ]
  },
  {
   "cell_type": "code",
   "execution_count": 246,
   "metadata": {},
   "outputs": [
    {
     "data": {
      "text/plain": [
       "torch.Size([1, 1])"
      ]
     },
     "execution_count": 246,
     "metadata": {},
     "output_type": "execute_result"
    }
   ],
   "source": [
    "(net2.w(V(trn_term_doc[0].toarray()))).sum(1).shape"
   ]
  },
  {
   "cell_type": "code",
   "execution_count": 267,
   "metadata": {},
   "outputs": [
    {
     "data": {
      "text/plain": [
       "tensor(20133)"
      ]
     },
     "execution_count": 267,
     "metadata": {},
     "output_type": "execute_result"
    }
   ],
   "source": [
    "((net2.w(V(trn_term_doc[0].toarray()))) != 0).sum()"
   ]
  },
  {
   "cell_type": "code",
   "execution_count": 285,
   "metadata": {},
   "outputs": [
    {
     "data": {
      "text/plain": [
       "numpy.ndarray"
      ]
     },
     "execution_count": 285,
     "metadata": {},
     "output_type": "execute_result"
    }
   ],
   "source": [
    "type(trn_term_doc[0].toarray())"
   ]
  },
  {
   "cell_type": "code",
   "execution_count": 290,
   "metadata": {},
   "outputs": [
    {
     "data": {
      "text/plain": [
       "tensor(-12.5095, grad_fn=<SumBackward0>)"
      ]
     },
     "execution_count": 290,
     "metadata": {},
     "output_type": "execute_result"
    }
   ],
   "source": [
    "(net2.w(V(torch.LongTensor(trn_term_doc[0].nonzero()[1])))).sum()"
   ]
  },
  {
   "cell_type": "code",
   "execution_count": 248,
   "metadata": {},
   "outputs": [
    {
     "data": {
      "text/plain": [
       "tensor(-4446.6650, grad_fn=<SumBackward0>)"
      ]
     },
     "execution_count": 248,
     "metadata": {},
     "output_type": "execute_result"
    }
   ],
   "source": [
    "(net2.w(V(trn_term_doc[0].toarray()))).sum()"
   ]
  },
  {
   "cell_type": "code",
   "execution_count": 249,
   "metadata": {},
   "outputs": [
    {
     "data": {
      "text/plain": [
       "(1280, 1)"
      ]
     },
     "execution_count": 249,
     "metadata": {},
     "output_type": "execute_result"
    }
   ],
   "source": [
    "(trn_term_doc @ r.T > 0).shape"
   ]
  },
  {
   "cell_type": "code",
   "execution_count": 250,
   "metadata": {},
   "outputs": [
    {
     "data": {
      "text/plain": [
       "(1, 20133)"
      ]
     },
     "execution_count": 250,
     "metadata": {},
     "output_type": "execute_result"
    }
   ],
   "source": [
    "trn_term_doc[0].shape"
   ]
  },
  {
   "cell_type": "code",
   "execution_count": 251,
   "metadata": {},
   "outputs": [
    {
     "data": {
      "text/plain": [
       "(1, 20133)"
      ]
     },
     "execution_count": 251,
     "metadata": {},
     "output_type": "execute_result"
    }
   ],
   "source": [
    "r.shape"
   ]
  },
  {
   "cell_type": "code",
   "execution_count": 252,
   "metadata": {},
   "outputs": [
    {
     "data": {
      "text/plain": [
       "matrix([[-12.50947]])"
      ]
     },
     "execution_count": 252,
     "metadata": {},
     "output_type": "execute_result"
    }
   ],
   "source": [
    "trn_term_doc[0] @ r.T"
   ]
  },
  {
   "cell_type": "code",
   "execution_count": null,
   "metadata": {},
   "outputs": [],
   "source": []
  },
  {
   "cell_type": "code",
   "execution_count": null,
   "metadata": {},
   "outputs": [],
   "source": [
    "val_scores = []\n",
    "for t in tqdm(md.val_ds, total=len(trn_term_doc)):\n",
    "    x, _a, _b, y = t\n",
    "    val_scores.append(score(x,y))\n",
    "np.mean(to_np(val_scores))"
   ]
  },
  {
   "cell_type": "code",
   "execution_count": 168,
   "metadata": {},
   "outputs": [
    {
     "name": "stdout",
     "output_type": "stream",
     "text": [
      "100%|██████████| 2560/2560 [00:04<00:00, 544.34it/s]\n"
     ]
    },
    {
     "data": {
      "text/plain": [
       "0.791015625"
      ]
     },
     "execution_count": 168,
     "metadata": {},
     "output_type": "execute_result"
    }
   ],
   "source": [
    "val_scores = []\n",
    "for t in tqdm(md.val_ds, total=len(md.val_ds)):\n",
    "    x, _a, _b, y = t\n",
    "    val_scores.append(score(x,y))\n",
    "np.mean(to_np(val_scores))"
   ]
  },
  {
   "cell_type": "code",
   "execution_count": 169,
   "metadata": {},
   "outputs": [],
   "source": [
    "import os\n",
    "filename = 'acc.txt'\n",
    "try:\n",
    "    os.remove(filename)\n",
    "except:\n",
    "    pass"
   ]
  },
  {
   "cell_type": "code",
   "execution_count": 170,
   "metadata": {},
   "outputs": [
    {
     "data": {
      "text/plain": [
       "20"
      ]
     },
     "execution_count": 170,
     "metadata": {},
     "output_type": "execute_result"
    }
   ],
   "source": [
    "len(md.trn_dl)"
   ]
  },
  {
   "cell_type": "code",
   "execution_count": 171,
   "metadata": {
    "lines_to_next_cell": 0,
    "scrolled": false
   },
   "outputs": [
    {
     "name": "stdout",
     "output_type": "stream",
     "text": [
      "lr=0.001\n",
      "\n",
      "epoch: 0\n",
      "time: 2020-01-05 19:33:34.476872\n",
      "100%|██████████| 1280/1280 [00:03<00:00, 406.10it/s]\n",
      "100%|██████████| 1280/1280 [00:02<00:00, 516.51it/s]\n",
      "100%|██████████| 2560/2560 [00:05<00:00, 507.47it/s]\n",
      "100%|██████████| 2560/2560 [00:04<00:00, 566.92it/s]\n",
      "epoch=0, score=0.638769268989563\n",
      "epoch=0, score=0.6729024648666382\n",
      "epoch=0, score=0.791015625\n",
      "\n",
      "epoch: 1\n",
      "time: 2020-01-05 19:33:49.698908\n",
      "100%|██████████| 1280/1280 [00:03<00:00, 388.36it/s]\n",
      "100%|██████████| 1280/1280 [00:02<00:00, 499.01it/s]\n",
      "100%|██████████| 2560/2560 [00:04<00:00, 526.14it/s]\n",
      "100%|██████████| 2560/2560 [00:04<00:00, 559.65it/s]\n",
      "epoch=1, score=0.6387685537338257\n",
      "epoch=1, score=0.6729021668434143\n",
      "epoch=1, score=0.791015625\n",
      "\n",
      "epoch: 2\n",
      "time: 2020-01-05 19:34:05.092335\n",
      "100%|██████████| 1280/1280 [00:03<00:00, 404.71it/s]\n",
      "100%|██████████| 1280/1280 [00:02<00:00, 514.43it/s]\n",
      "100%|██████████| 2560/2560 [00:05<00:00, 494.35it/s]\n",
      "100%|██████████| 2560/2560 [00:04<00:00, 558.21it/s]\n",
      "epoch=2, score=0.6387678384780884\n",
      "epoch=2, score=0.6729018092155457\n",
      "epoch=2, score=0.791015625\n",
      "\n",
      "epoch: 3\n",
      "time: 2020-01-05 19:34:20.599418\n",
      "100%|██████████| 1280/1280 [00:03<00:00, 400.90it/s]\n",
      "100%|██████████| 1280/1280 [00:02<00:00, 524.30it/s]\n",
      "100%|██████████| 2560/2560 [00:04<00:00, 527.72it/s]\n",
      "100%|██████████| 2560/2560 [00:04<00:00, 564.03it/s]\n",
      "epoch=3, score=0.6387671828269958\n",
      "epoch=3, score=0.6729013919830322\n",
      "epoch=3, score=0.791015625\n",
      "\n",
      "epoch: 4\n",
      "time: 2020-01-05 19:34:35.714792\n",
      "100%|██████████| 1280/1280 [00:03<00:00, 405.09it/s]\n",
      "100%|██████████| 1280/1280 [00:02<00:00, 525.96it/s]\n",
      "100%|██████████| 2560/2560 [00:04<00:00, 527.80it/s]\n",
      "100%|██████████| 2560/2560 [00:04<00:00, 569.00it/s]\n",
      "epoch=4, score=0.6387664675712585\n",
      "epoch=4, score=0.6729011535644531\n",
      "epoch=4, score=0.790625\n"
     ]
    }
   ],
   "source": [
    "print(f'lr={lr}')\n",
    "f = open(filename, 'a')\n",
    "\n",
    "for epoch in range(5):\n",
    "    print('')\n",
    "    print('epoch:', epoch)\n",
    "    print('time:', datetime.now())\n",
    "    loss_list = [0]\n",
    "    for index, t in tqdm(enumerate(md.trn_ds), total=len(md.trn_ds)):\n",
    "        xt, _a, _b, yt = t\n",
    "        y_pred = net2(V(xt))\n",
    "        l = loss(y_pred, V(yt))\n",
    "        # l = loss(yt, y_pred)\n",
    "        loss_list.append(l)\n",
    "        # print(f'{index}, {l}, {datetime.now().time()}')\n",
    "\n",
    "        # Backward pass: \n",
    "        # compute gradient of the loss with respect to \n",
    "        # model parameters\n",
    "        l.backward()\n",
    "        net2.w.weight.data -= net2.w.weight.grad.data * lr\n",
    "        # net2.b.data -= net2.b.grad.data * lr\n",
    "        \n",
    "        net2.w.weight.grad.data.zero_()\n",
    "        # net2.b.grad.data.zero_()   \n",
    "\n",
    "    if epoch % 1 == 0:\n",
    "        train_scores = []\n",
    "        for t in tqdm(md.trn_ds, total=len(md.trn_ds)):\n",
    "            x, _a, _b, y = t\n",
    "            train_scores.append(loss(net2(V(x)), V(y)))\n",
    "        l2 = np.mean(to_np(train_scores))\n",
    "        train_loss_list.append(l2)\n",
    "\n",
    "        val_scores = []\n",
    "        for t in tqdm(md.val_ds, total=len(md.val_ds)):\n",
    "            x, _a, _b, y = t\n",
    "            train_scores.append(loss(net2(V(x)), V(y)))\n",
    "        l3 = np.mean(to_np(train_scores))\n",
    "        val_loss_list.append(l3)\n",
    "                \n",
    "        val_scores = []\n",
    "        for t in tqdm(md.val_ds, total=len(md.val_ds)):\n",
    "            x, _a, _b, y = t\n",
    "            val_scores.append(score(x,y))\n",
    "        l4 = np.mean(to_np(val_scores))\n",
    "        val_acc_list.append(l4)\n",
    "\n",
    "        # print(f'epoch={epoch}, score={np.mean(val_scores)}')\n",
    "        print(f'epoch={epoch}, score={l2}')\n",
    "        print(f'epoch={epoch}, score={l3}')\n",
    "        print(f'epoch={epoch}, score={l4}')\n",
    "        f.write(f\"{l2}\\t{l3}\\t{l4}\\n\")\n",
    "        f.flush()\n",
    "f.close()"
   ]
  },
  {
   "cell_type": "code",
   "execution_count": null,
   "metadata": {
    "lines_to_next_cell": 2
   },
   "outputs": [],
   "source": []
  },
  {
   "cell_type": "code",
   "execution_count": 173,
   "metadata": {},
   "outputs": [],
   "source": [
    "import matplotlib.pyplot as plt\n",
    "import pandas as pd"
   ]
  },
  {
   "cell_type": "code",
   "execution_count": 174,
   "metadata": {},
   "outputs": [],
   "source": [
    "length=len(train_loss_list)\n",
    "df = pd.DataFrame({\n",
    "    'train':train_loss_list[:length], \n",
    "    'valid':val_loss_list[:length],\n",
    "    'valid_acc':val_acc_list[:length]\n",
    "})"
   ]
  },
  {
   "cell_type": "code",
   "execution_count": 175,
   "metadata": {},
   "outputs": [
    {
     "data": {
      "text/plain": [
       "array([<matplotlib.axes._subplots.AxesSubplot object at 0x1a2eb416d8>,\n",
       "       <matplotlib.axes._subplots.AxesSubplot object at 0x1a315a8828>,\n",
       "       <matplotlib.axes._subplots.AxesSubplot object at 0x1a300410b8>], dtype=object)"
      ]
     },
     "execution_count": 175,
     "metadata": {},
     "output_type": "execute_result"
    },
    {
     "data": {
      "image/png": "[encoded data removed]",
      "text/plain": [
       "<Figure size 432x288 with 3 Axes>"
      ]
     },
     "metadata": {
      "needs_background": "light"
     },
     "output_type": "display_data"
    }
   ],
   "source": [
    "df.plot(subplots=True)"
   ]
  },
  {
   "cell_type": "code",
   "execution_count": 176,
   "metadata": {},
   "outputs": [
    {
     "data": {
      "text/plain": [
       "[<matplotlib.lines.Line2D at 0x1a301006a0>]"
      ]
     },
     "execution_count": 176,
     "metadata": {},
     "output_type": "execute_result"
    },
    {
     "data": {
      "image/png": "[encoded data removed]",
      "text/plain": [
       "<Figure size 432x288 with 1 Axes>"
      ]
     },
     "metadata": {
      "needs_background": "light"
     },
     "output_type": "display_data"
    }
   ],
   "source": [
    "plt.plot(loss_list)"
   ]
  },
  {
   "cell_type": "code",
   "execution_count": 177,
   "metadata": {},
   "outputs": [
    {
     "data": {
      "text/plain": [
       "[<matplotlib.lines.Line2D at 0x1a301d9d68>]"
      ]
     },
     "execution_count": 177,
     "metadata": {},
     "output_type": "execute_result"
    },
    {
     "data": {
      "image/png": "[encoded data removed]",
      "text/plain": [
       "<Figure size 432x288 with 1 Axes>"
      ]
     },
     "metadata": {
      "needs_background": "light"
     },
     "output_type": "display_data"
    }
   ],
   "source": [
    "plt.plot(val_acc_list)"
   ]
  },
  {
   "cell_type": "markdown",
   "metadata": {
    "heading_collapsed": true
   },
   "source": [
    "## Deep NB"
   ]
  },
  {
   "cell_type": "code",
   "execution_count": null,
   "metadata": {
    "hidden": true
   },
   "outputs": [],
   "source": []
  }
 ],
 "metadata": {
  "jupytext": {
   "cell_metadata_filter": "-all",
   "formats": "ipynb,py:light",
   "notebook_metadata_filter": "-all"
  },
  "kernelspec": {
   "display_name": "Python 3",
   "language": "python",
   "name": "python3"
  },
  "language_info": {
   "codemirror_mode": {
    "name": "ipython",
    "version": 3
   },
   "file_extension": ".py",
   "mimetype": "text/x-python",
   "name": "python",
   "nbconvert_exporter": "python",
   "pygments_lexer": "ipython3",
   "version": "3.6.9"
  }
 },
 "nbformat": 4,
 "nbformat_minor": 2
}
