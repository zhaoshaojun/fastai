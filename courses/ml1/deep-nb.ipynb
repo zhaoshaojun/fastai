{
 "cells": [
  {
   "cell_type": "code",
   "execution_count": 113,
   "metadata": {},
   "outputs": [],
   "source": [
    "%reload_ext autoreload\n",
    "%autoreload 2\n",
    "%matplotlib inline\n",
    "\n",
    "from fastai.nlp import *\n",
    "from sklearn.linear_model import LogisticRegression"
   ]
  },
  {
   "cell_type": "markdown",
   "metadata": {},
   "source": [
    "## create dataset"
   ]
  },
  {
   "cell_type": "code",
   "execution_count": 114,
   "metadata": {},
   "outputs": [],
   "source": [
    "PATH='data/aclImdb/'\n",
    "names = ['neg','pos']\n",
    "names1 = ['neg', 'pos_']\n",
    "names2 = ['neg_', 'pos']"
   ]
  },
  {
   "cell_type": "code",
   "execution_count": 115,
   "metadata": {},
   "outputs": [
    {
     "name": "stdout",
     "output_type": "stream",
     "text": [
      "labeledBow.feat \u001b[34mpos\u001b[m\u001b[m             unsupBow.feat   urls_pos.txt\r\n",
      "\u001b[34mneg\u001b[m\u001b[m             \u001b[34munsup\u001b[m\u001b[m           urls_neg.txt    urls_unsup.txt\r\n"
     ]
    }
   ],
   "source": [
    "! ls {PATH}train"
   ]
  },
  {
   "cell_type": "code",
   "execution_count": 116,
   "metadata": {},
   "outputs": [],
   "source": [
    "trn1,trn1_y = texts_labels_from_folders(f'{PATH}train',names1)\n",
    "val1,val1_y = texts_labels_from_folders(f'{PATH}test',names1)"
   ]
  },
  {
   "cell_type": "code",
   "execution_count": 117,
   "metadata": {},
   "outputs": [],
   "source": [
    "trn2,trn2_y = texts_labels_from_folders(f'{PATH}train',names2)\n",
    "val2,val2_y = texts_labels_from_folders(f'{PATH}test',names2)"
   ]
  },
  {
   "cell_type": "code",
   "execution_count": 118,
   "metadata": {},
   "outputs": [
    {
     "data": {
      "text/plain": [
       "(12500, 12500, 12500, 12500)"
      ]
     },
     "execution_count": 118,
     "metadata": {},
     "output_type": "execute_result"
    }
   ],
   "source": [
    "len(trn1), len(trn1_y), len(trn2), len(trn2_y)"
   ]
  },
  {
   "cell_type": "code",
   "execution_count": 119,
   "metadata": {},
   "outputs": [
    {
     "data": {
      "text/plain": [
       "True"
      ]
     },
     "execution_count": 119,
     "metadata": {},
     "output_type": "execute_result"
    }
   ],
   "source": [
    "assert (trn1_y==0).all()\n",
    "(trn1_y==0).all()"
   ]
  },
  {
   "cell_type": "code",
   "execution_count": 120,
   "metadata": {},
   "outputs": [
    {
     "data": {
      "text/plain": [
       "True"
      ]
     },
     "execution_count": 120,
     "metadata": {},
     "output_type": "execute_result"
    }
   ],
   "source": [
    "assert (trn1_y==0).all()\n",
    "(val1_y==0).all()"
   ]
  },
  {
   "cell_type": "code",
   "execution_count": 121,
   "metadata": {},
   "outputs": [
    {
     "data": {
      "text/plain": [
       "True"
      ]
     },
     "execution_count": 121,
     "metadata": {},
     "output_type": "execute_result"
    }
   ],
   "source": [
    "assert (trn2_y==1).all()\n",
    "(trn2_y==1).all()"
   ]
  },
  {
   "cell_type": "code",
   "execution_count": 122,
   "metadata": {},
   "outputs": [
    {
     "data": {
      "text/plain": [
       "True"
      ]
     },
     "execution_count": 122,
     "metadata": {},
     "output_type": "execute_result"
    }
   ],
   "source": [
    "assert (val2_y==1).all()\n",
    "(val2_y==1).all()"
   ]
  },
  {
   "cell_type": "code",
   "execution_count": 123,
   "metadata": {},
   "outputs": [],
   "source": [
    "def sample_util(data, label, n):\n",
    "    assert len(data) == label.shape[0]\n",
    "    idx = np.random.choice(range(len(data)),n)\n",
    "    data_new = [data[i] for i in idx]\n",
    "    label_new = label[idx]\n",
    "    return data_new, label_new"
   ]
  },
  {
   "cell_type": "code",
   "execution_count": 124,
   "metadata": {},
   "outputs": [],
   "source": [
    "def sample(data1, label1, data2, label2, n):\n",
    "    t1, t2 = sample_util(data1, label1, n)\n",
    "    t3, t4 = sample_util(data2, label2, n)\n",
    "    data = t1 + t3\n",
    "    label = np.concatenate((t2, t4))\n",
    "    return data, label"
   ]
  },
  {
   "cell_type": "code",
   "execution_count": 125,
   "metadata": {},
   "outputs": [],
   "source": [
    "trn, trn_y = sample(trn1, trn1_y, trn2, trn2_y, 64*10)\n",
    "val, val_y = sample(val1, val1_y, val2, val2_y, 64*20)"
   ]
  },
  {
   "cell_type": "code",
   "execution_count": 126,
   "metadata": {},
   "outputs": [],
   "source": [
    "# trn,trn_y = texts_labels_from_folders(f'{PATH}train',names)\n",
    "# val,val_y = texts_labels_from_folders(f'{PATH}test',names)"
   ]
  },
  {
   "cell_type": "markdown",
   "metadata": {},
   "source": [
    "## create vectors and vocab"
   ]
  },
  {
   "cell_type": "code",
   "execution_count": 127,
   "metadata": {},
   "outputs": [],
   "source": [
    "veczr = CountVectorizer(tokenizer=tokenize)"
   ]
  },
  {
   "cell_type": "code",
   "execution_count": 128,
   "metadata": {},
   "outputs": [],
   "source": [
    "trn_term_doc = veczr.fit_transform(trn)"
   ]
  },
  {
   "cell_type": "code",
   "execution_count": 129,
   "metadata": {},
   "outputs": [],
   "source": [
    "val_term_doc = veczr.transform(val)"
   ]
  },
  {
   "cell_type": "code",
   "execution_count": 130,
   "metadata": {},
   "outputs": [
    {
     "data": {
      "text/plain": [
       "['derivitive', 'dermot', 'dern', 'derris', 'derrière']"
      ]
     },
     "execution_count": 130,
     "metadata": {},
     "output_type": "execute_result"
    }
   ],
   "source": [
    "vocab = veczr.get_feature_names(); vocab[5000:5005]"
   ]
  },
  {
   "cell_type": "code",
   "execution_count": 131,
   "metadata": {},
   "outputs": [
    {
     "data": {
      "text/plain": [
       "['!', '\"', '#', '$', '%']"
      ]
     },
     "execution_count": 131,
     "metadata": {},
     "output_type": "execute_result"
    }
   ],
   "source": [
    "vocab[:5]"
   ]
  },
  {
   "cell_type": "code",
   "execution_count": 132,
   "metadata": {},
   "outputs": [
    {
     "data": {
      "text/plain": [
       "20514"
      ]
     },
     "execution_count": 132,
     "metadata": {},
     "output_type": "execute_result"
    }
   ],
   "source": [
    "len(vocab)"
   ]
  },
  {
   "cell_type": "code",
   "execution_count": 133,
   "metadata": {},
   "outputs": [],
   "source": [
    "trn_term_doc = trn_term_doc.sign()"
   ]
  },
  {
   "cell_type": "code",
   "execution_count": 134,
   "metadata": {},
   "outputs": [],
   "source": [
    "val_term_doc = val_term_doc.sign()"
   ]
  },
  {
   "cell_type": "markdown",
   "metadata": {},
   "source": [
    "## Naive Bayes"
   ]
  },
  {
   "cell_type": "markdown",
   "metadata": {},
   "source": [
    "We define the **log-count ratio** $r$ for each word $f$:\n",
    "\n",
    "$r = \\log \\frac{\\text{ratio of feature $f$ in positive documents}}{\\text{ratio of feature $f$ in negative documents}}$\n",
    "\n",
    "where ratio of feature $f$ in positive documents is the number of times a positive document has a feature divided by the number of positive documents."
   ]
  },
  {
   "cell_type": "code",
   "execution_count": 135,
   "metadata": {},
   "outputs": [],
   "source": [
    "def pr(y_i):\n",
    "    p = x[y==y_i].sum(0)\n",
    "    return p+1"
   ]
  },
  {
   "cell_type": "code",
   "execution_count": 136,
   "metadata": {},
   "outputs": [],
   "source": [
    "x=trn_term_doc\n",
    "y=trn_y\n",
    "\n",
    "p = pr(1)/pr(1).sum()\n",
    "q = pr(0)/pr(0).sum()\n",
    "r = np.log(p/q)\n",
    "b = np.log((y==1).mean() / (y==0).mean())"
   ]
  },
  {
   "cell_type": "code",
   "execution_count": 137,
   "metadata": {},
   "outputs": [
    {
     "data": {
      "text/plain": [
       "(2560, 20514)"
      ]
     },
     "execution_count": 137,
     "metadata": {},
     "output_type": "execute_result"
    }
   ],
   "source": [
    "val_term_doc.shape"
   ]
  },
  {
   "cell_type": "code",
   "execution_count": 138,
   "metadata": {},
   "outputs": [
    {
     "data": {
      "text/plain": [
       "20514"
      ]
     },
     "execution_count": 138,
     "metadata": {},
     "output_type": "execute_result"
    }
   ],
   "source": [
    "val_term_doc.shape[1]"
   ]
  },
  {
   "cell_type": "code",
   "execution_count": 139,
   "metadata": {},
   "outputs": [
    {
     "data": {
      "text/plain": [
       "(1280, 20514)"
      ]
     },
     "execution_count": 139,
     "metadata": {},
     "output_type": "execute_result"
    }
   ],
   "source": [
    "x.shape"
   ]
  },
  {
   "cell_type": "code",
   "execution_count": 140,
   "metadata": {},
   "outputs": [
    {
     "data": {
      "text/plain": [
       "(1, 20514)"
      ]
     },
     "execution_count": 140,
     "metadata": {},
     "output_type": "execute_result"
    }
   ],
   "source": [
    "r.shape"
   ]
  },
  {
   "cell_type": "code",
   "execution_count": 141,
   "metadata": {},
   "outputs": [
    {
     "data": {
      "text/plain": [
       "(2560, 1)"
      ]
     },
     "execution_count": 141,
     "metadata": {},
     "output_type": "execute_result"
    }
   ],
   "source": [
    "(val_term_doc @ r.T).shape"
   ]
  },
  {
   "cell_type": "code",
   "execution_count": 142,
   "metadata": {},
   "outputs": [
    {
     "data": {
      "text/plain": [
       "matrix([[-34.33506],\n",
       "        [ -5.6893 ],\n",
       "        [-15.71129],\n",
       "        ...,\n",
       "        [ -1.72221],\n",
       "        [  6.42638],\n",
       "        [  2.96678]])"
      ]
     },
     "execution_count": 142,
     "metadata": {},
     "output_type": "execute_result"
    }
   ],
   "source": [
    "val_term_doc @ r.T"
   ]
  },
  {
   "cell_type": "code",
   "execution_count": 143,
   "metadata": {},
   "outputs": [
    {
     "data": {
      "text/plain": [
       "array([0, 0, 0, ..., 1, 1, 1])"
      ]
     },
     "execution_count": 143,
     "metadata": {},
     "output_type": "execute_result"
    }
   ],
   "source": [
    "val_y"
   ]
  },
  {
   "cell_type": "code",
   "execution_count": 144,
   "metadata": {},
   "outputs": [
    {
     "data": {
      "text/plain": [
       "0.809765625"
      ]
     },
     "execution_count": 144,
     "metadata": {},
     "output_type": "execute_result"
    }
   ],
   "source": [
    "pre_preds = val_term_doc @ r.T + b\n",
    "preds = pre_preds.T>0\n",
    "(preds==val_y).mean()"
   ]
  },
  {
   "cell_type": "code",
   "execution_count": 145,
   "metadata": {},
   "outputs": [],
   "source": [
    "pre_preds = val_term_doc @ np.stack([np.log(p), np.log(q)]).T + b"
   ]
  },
  {
   "cell_type": "code",
   "execution_count": 146,
   "metadata": {},
   "outputs": [
    {
     "data": {
      "text/plain": [
       "matrix([[-1633.44535, -1599.11029],\n",
       "        [ -898.01433,  -892.32503],\n",
       "        [-1161.44244, -1145.73114],\n",
       "        ...,\n",
       "        [ -748.16611,  -746.4439 ],\n",
       "        [ -737.6391 ,  -744.06548],\n",
       "        [ -702.48435,  -705.45113]])"
      ]
     },
     "execution_count": 146,
     "metadata": {},
     "output_type": "execute_result"
    }
   ],
   "source": [
    "pre_preds"
   ]
  },
  {
   "cell_type": "code",
   "execution_count": 147,
   "metadata": {},
   "outputs": [
    {
     "data": {
      "text/plain": [
       "0.809765625"
      ]
     },
     "execution_count": 147,
     "metadata": {},
     "output_type": "execute_result"
    }
   ],
   "source": [
    "preds = pre_preds.T[0] > pre_preds.T[1]\n",
    "(preds==val_y).mean()"
   ]
  },
  {
   "cell_type": "code",
   "execution_count": 148,
   "metadata": {},
   "outputs": [
    {
     "data": {
      "text/plain": [
       "scipy.sparse.csr.csr_matrix"
      ]
     },
     "execution_count": 148,
     "metadata": {},
     "output_type": "execute_result"
    }
   ],
   "source": [
    "type(val_term_doc)"
   ]
  },
  {
   "cell_type": "code",
   "execution_count": 149,
   "metadata": {},
   "outputs": [
    {
     "data": {
      "text/plain": [
       "<1x20514 sparse matrix of type '<class 'numpy.int64'>'\n",
       "\twith 207 stored elements in Compressed Sparse Row format>"
      ]
     },
     "execution_count": 149,
     "metadata": {},
     "output_type": "execute_result"
    }
   ],
   "source": [
    "val_term_doc[0]"
   ]
  },
  {
   "cell_type": "code",
   "execution_count": 150,
   "metadata": {},
   "outputs": [],
   "source": [
    "xx = val_term_doc[0]"
   ]
  },
  {
   "cell_type": "code",
   "execution_count": 151,
   "metadata": {},
   "outputs": [
    {
     "data": {
      "text/plain": [
       "(1, 20514)"
      ]
     },
     "execution_count": 151,
     "metadata": {},
     "output_type": "execute_result"
    }
   ],
   "source": [
    "xx.toarray().shape"
   ]
  },
  {
   "cell_type": "code",
   "execution_count": 152,
   "metadata": {},
   "outputs": [
    {
     "data": {
      "text/plain": [
       "['\"',\n",
       " '&',\n",
       " \"'\",\n",
       " '(',\n",
       " ')',\n",
       " '*',\n",
       " ',',\n",
       " '-',\n",
       " '.',\n",
       " '/',\n",
       " ':',\n",
       " ';',\n",
       " '<',\n",
       " '>',\n",
       " '?',\n",
       " 'a',\n",
       " 'abilities',\n",
       " 'about',\n",
       " 'actors',\n",
       " 'adults',\n",
       " 'all',\n",
       " 'and',\n",
       " 'annoying',\n",
       " 'any',\n",
       " 'appears',\n",
       " 'are',\n",
       " 'aren',\n",
       " 'as',\n",
       " 'ass',\n",
       " 'at',\n",
       " 'average',\n",
       " 'bad',\n",
       " 'badly',\n",
       " 'be',\n",
       " 'becomes',\n",
       " 'before',\n",
       " 'belongs',\n",
       " 'bill',\n",
       " 'bla',\n",
       " 'blame',\n",
       " 'bothersome',\n",
       " 'br',\n",
       " 'brothers',\n",
       " 'caine',\n",
       " 'can',\n",
       " 'cast',\n",
       " 'category',\n",
       " 'century',\n",
       " 'characters',\n",
       " 'clue',\n",
       " 'collection',\n",
       " 'comedic',\n",
       " 'comedies',\n",
       " 'comedy',\n",
       " 'considering',\n",
       " 'convoluted',\n",
       " 'coogan',\n",
       " 'damn',\n",
       " 'death',\n",
       " 'dirty',\n",
       " 'does',\n",
       " 'dumb',\n",
       " 'effort',\n",
       " 'either',\n",
       " 'even',\n",
       " 'falls',\n",
       " 'fan',\n",
       " 'fans',\n",
       " 'far',\n",
       " 'film',\n",
       " 'follow',\n",
       " 'forgot',\n",
       " 'funny',\n",
       " 'futile',\n",
       " 'gambit',\n",
       " 'girl',\n",
       " 'go',\n",
       " 'going',\n",
       " 'good',\n",
       " 'had',\n",
       " 'harry',\n",
       " 'have',\n",
       " 'her',\n",
       " 'here',\n",
       " 'horrible',\n",
       " 'i',\n",
       " 'if',\n",
       " 'in',\n",
       " 'include',\n",
       " 'includes',\n",
       " 'intelligent',\n",
       " 'into',\n",
       " 'is',\n",
       " 'isn',\n",
       " 'it',\n",
       " 'its',\n",
       " 'kid',\n",
       " 'kids',\n",
       " 'latter',\n",
       " 'laugh',\n",
       " 'least',\n",
       " 'like',\n",
       " 'little',\n",
       " 'll',\n",
       " 'lousy',\n",
       " 'love',\n",
       " 'main',\n",
       " 'make',\n",
       " 'managing',\n",
       " 'mega',\n",
       " 'michael',\n",
       " 'miss',\n",
       " 'mission',\n",
       " 'moment',\n",
       " 'more',\n",
       " 'moron',\n",
       " 'morons',\n",
       " 'most',\n",
       " 'much',\n",
       " 'never',\n",
       " 'noises',\n",
       " 'non',\n",
       " 'normal',\n",
       " 'not',\n",
       " 'ny',\n",
       " 'of',\n",
       " 'off',\n",
       " 'ol',\n",
       " 'old',\n",
       " 'on',\n",
       " 'only',\n",
       " 'or',\n",
       " 'out',\n",
       " 'people',\n",
       " 'person',\n",
       " 'point',\n",
       " 'put',\n",
       " 're',\n",
       " 'really',\n",
       " 'reason',\n",
       " 'recall',\n",
       " 'requires',\n",
       " 'richardson',\n",
       " 'rio',\n",
       " 'rotten',\n",
       " 's',\n",
       " 'say',\n",
       " 'scenes',\n",
       " 'script',\n",
       " 'seen',\n",
       " 'she',\n",
       " 'shtick',\n",
       " 'simply',\n",
       " 'single',\n",
       " 'sleuth',\n",
       " 'smart',\n",
       " 'so',\n",
       " 'some',\n",
       " 'someone',\n",
       " 'steve',\n",
       " 'story',\n",
       " 'stupid',\n",
       " 'succeeding',\n",
       " 'succeeds',\n",
       " 'sunshine',\n",
       " 'super',\n",
       " 'supposed',\n",
       " 't',\n",
       " 'talent',\n",
       " 'than',\n",
       " 'that',\n",
       " 'the',\n",
       " 'them',\n",
       " 'then',\n",
       " 'there',\n",
       " 'they',\n",
       " 'thing',\n",
       " 'things',\n",
       " 'think',\n",
       " 'this',\n",
       " 'to',\n",
       " 'too',\n",
       " 'totally',\n",
       " 'truly',\n",
       " 'two',\n",
       " 'unfunny',\n",
       " 'up',\n",
       " 'usually',\n",
       " 'utter',\n",
       " 've',\n",
       " 'very',\n",
       " 'viewer',\n",
       " 'walter',\n",
       " 'was',\n",
       " 'waste',\n",
       " 'we',\n",
       " 'what',\n",
       " 'which',\n",
       " 'whole',\n",
       " 'wise',\n",
       " 'without',\n",
       " 'would',\n",
       " 'writer',\n",
       " 'writing',\n",
       " 'written',\n",
       " 'you',\n",
       " 'your']"
      ]
     },
     "execution_count": 152,
     "metadata": {},
     "output_type": "execute_result"
    }
   ],
   "source": [
    "[vocab[index] for index, i in enumerate(xx.toarray()[0]) if i > 0]"
   ]
  },
  {
   "cell_type": "code",
   "execution_count": 153,
   "metadata": {
    "scrolled": false
   },
   "outputs": [
    {
     "data": {
      "text/plain": [
       "207"
      ]
     },
     "execution_count": 153,
     "metadata": {},
     "output_type": "execute_result"
    }
   ],
   "source": [
    "total = 0\n",
    "for index, i in enumerate(xx.toarray()[0]):\n",
    "    if i:\n",
    "        total += 1\n",
    "total"
   ]
  },
  {
   "cell_type": "markdown",
   "metadata": {},
   "source": [
    "## Logistic regression (sklearn)"
   ]
  },
  {
   "cell_type": "markdown",
   "metadata": {},
   "source": [
    "Here is how we can fit logistic regression where the features are the unigrams."
   ]
  },
  {
   "cell_type": "code",
   "execution_count": 154,
   "metadata": {},
   "outputs": [
    {
     "data": {
      "text/plain": [
       "sklearn.linear_model._logistic.LogisticRegression"
      ]
     },
     "execution_count": 154,
     "metadata": {},
     "output_type": "execute_result"
    }
   ],
   "source": [
    "LogisticRegression"
   ]
  },
  {
   "cell_type": "code",
   "execution_count": 155,
   "metadata": {},
   "outputs": [
    {
     "data": {
      "text/plain": [
       "0.828125"
      ]
     },
     "execution_count": 155,
     "metadata": {},
     "output_type": "execute_result"
    }
   ],
   "source": [
    "m = LogisticRegression(C=1e8, dual=False, max_iter=1000)\n",
    "m.fit(x, y)\n",
    "preds = m.predict(val_term_doc)\n",
    "(preds==val_y).mean()"
   ]
  },
  {
   "cell_type": "markdown",
   "metadata": {},
   "source": [
    "...and the regularized version"
   ]
  },
  {
   "cell_type": "code",
   "execution_count": 156,
   "metadata": {},
   "outputs": [
    {
     "data": {
      "text/plain": [
       "0.8296875"
      ]
     },
     "execution_count": 156,
     "metadata": {},
     "output_type": "execute_result"
    }
   ],
   "source": [
    "m = LogisticRegression(C=1.0, dual=False, max_iter=1000)\n",
    "m.fit(x, y)\n",
    "preds = m.predict(val_term_doc)\n",
    "(preds==val_y).mean()"
   ]
  },
  {
   "cell_type": "markdown",
   "metadata": {},
   "source": [
    "## Logistic regression (PyTorch)"
   ]
  },
  {
   "cell_type": "code",
   "execution_count": 157,
   "metadata": {},
   "outputs": [],
   "source": [
    "from fastai.metrics import *\n",
    "from fastai.model import *\n",
    "from fastai.dataset import *\n",
    "from fastai.nlp import *\n",
    "\n",
    "import torch.nn as nn"
   ]
  },
  {
   "cell_type": "code",
   "execution_count": 158,
   "metadata": {},
   "outputs": [],
   "source": [
    "class MySimpleNB(nn.Module):\n",
    "    def __init__(self, nf, ny):\n",
    "        super().__init__()\n",
    "        self.w = nn.Embedding(nf, ny)\n",
    "        # self.w = nn.Embedding(nf+1, ny)\n",
    "        # self.w.weight.data.uniform_(-1, 1)\n",
    "        self.w.weight.data = torch.FloatTensor(r.tolist()[0])\n",
    "        self.w.weight.data = self.w.weight.data.reshape(-1, 1)\n",
    "        # self.r = nn.Embedding(nf, ny)\n",
    "        \n",
    "    def forward(self, feat_idx):\n",
    "        # self.w.weight.data[0] = 0\n",
    "        idx = feat_idx - 1\n",
    "        idx2 = [a for a in idx if a >= 0]\n",
    "        idx3 = np.array(idx2)\n",
    "        v = self.w(V(idx3))\n",
    "        # r = self.r(feat_idx)\n",
    "        # x = ((w+self.w_adj)*r/self.r_adj).sum(1)\n",
    "        # x = w*r\n",
    "        x = v.sum(1)\n",
    "        # return F.softmax(x)\n",
    "        # return x.reshape(1, -1)\n",
    "        return x"
   ]
  },
  {
   "cell_type": "code",
   "execution_count": 159,
   "metadata": {},
   "outputs": [],
   "source": [
    "def binary_loss(pred, y):\n",
    "    # y2 = torch.max(y,axis=1)[0]\n",
    "    y2 = np.argmax(y)\n",
    "    p = torch.exp(pred) / (1+torch.exp(pred))\n",
    "    result = torch.mean(-(y2 * torch.log(p) + (1-y2)*torch.log(1-p)))\n",
    "    # return result.reshape(1, -1)\n",
    "    return result"
   ]
  },
  {
   "cell_type": "code",
   "execution_count": 160,
   "metadata": {},
   "outputs": [
    {
     "data": {
      "text/plain": [
       "(1, 20514)"
      ]
     },
     "execution_count": 160,
     "metadata": {},
     "output_type": "execute_result"
    }
   ],
   "source": [
    "r.shape"
   ]
  },
  {
   "cell_type": "code",
   "execution_count": null,
   "metadata": {},
   "outputs": [],
   "source": []
  },
  {
   "cell_type": "code",
   "execution_count": 161,
   "metadata": {},
   "outputs": [
    {
     "data": {
      "text/plain": [
       "20514"
      ]
     },
     "execution_count": 161,
     "metadata": {},
     "output_type": "execute_result"
    }
   ],
   "source": [
    "len(vocab)"
   ]
  },
  {
   "cell_type": "code",
   "execution_count": 162,
   "metadata": {},
   "outputs": [],
   "source": [
    "net3 = MySimpleNB(len(vocab), 1)"
   ]
  },
  {
   "cell_type": "code",
   "execution_count": 163,
   "metadata": {},
   "outputs": [
    {
     "data": {
      "text/plain": [
       "torch.Size([20514, 1])"
      ]
     },
     "execution_count": 163,
     "metadata": {},
     "output_type": "execute_result"
    }
   ],
   "source": [
    "net3.w.weight.data.shape"
   ]
  },
  {
   "cell_type": "code",
   "execution_count": 164,
   "metadata": {},
   "outputs": [
    {
     "data": {
      "text/plain": [
       "(1, 20514)"
      ]
     },
     "execution_count": 164,
     "metadata": {},
     "output_type": "execute_result"
    }
   ],
   "source": [
    "r.shape"
   ]
  },
  {
   "cell_type": "code",
   "execution_count": 165,
   "metadata": {},
   "outputs": [
    {
     "data": {
      "text/plain": [
       "20514"
      ]
     },
     "execution_count": 165,
     "metadata": {},
     "output_type": "execute_result"
    }
   ],
   "source": [
    "sl=val_term_doc.shape[1]\n",
    "sl"
   ]
  },
  {
   "cell_type": "code",
   "execution_count": 166,
   "metadata": {},
   "outputs": [],
   "source": [
    "sl=val_term_doc.shape[1]\n",
    "md = TextClassifierData.from_bow(\n",
    "    trn_term_doc, trn_y,\n",
    "    val_term_doc, val_y,\n",
    "    100,\n",
    ")"
   ]
  },
  {
   "cell_type": "code",
   "execution_count": 167,
   "metadata": {},
   "outputs": [],
   "source": [
    "# ??TextClassifierData.from_bow"
   ]
  },
  {
   "cell_type": "code",
   "execution_count": 168,
   "metadata": {},
   "outputs": [
    {
     "data": {
      "text/plain": [
       "(1280, 20514)"
      ]
     },
     "execution_count": 168,
     "metadata": {},
     "output_type": "execute_result"
    }
   ],
   "source": [
    "trn_term_doc.shape"
   ]
  },
  {
   "cell_type": "code",
   "execution_count": 169,
   "metadata": {},
   "outputs": [],
   "source": [
    "ii=0"
   ]
  },
  {
   "cell_type": "code",
   "execution_count": 170,
   "metadata": {},
   "outputs": [],
   "source": [
    "net4 = MySimpleNB(len(vocab), 1)\n",
    "# loss = nn.NLLLoss()\n",
    "# loss = torch.nn.CrossEntropyLoss()\n",
    "loss = binary_loss\n",
    "lr = 1e-2\n",
    "losses=[]"
   ]
  },
  {
   "cell_type": "code",
   "execution_count": 171,
   "metadata": {},
   "outputs": [
    {
     "data": {
      "text/plain": [
       "Parameter containing:\n",
       "tensor([[-0.0197],\n",
       "        [-0.0942],\n",
       "        [-0.3430],\n",
       "        ...,\n",
       "        [ 0.6866],\n",
       "        [ 0.6866],\n",
       "        [ 0.6866]], requires_grad=True)"
      ]
     },
     "execution_count": 171,
     "metadata": {},
     "output_type": "execute_result"
    }
   ],
   "source": [
    "net4.w.weight"
   ]
  },
  {
   "cell_type": "code",
   "execution_count": 172,
   "metadata": {},
   "outputs": [],
   "source": [
    "ii=2"
   ]
  },
  {
   "cell_type": "code",
   "execution_count": 173,
   "metadata": {},
   "outputs": [],
   "source": [
    "t = md.trn_ds[ii]\n",
    "ii = ii + 1\n",
    "xt, _a, _b, yt = t"
   ]
  },
  {
   "cell_type": "code",
   "execution_count": 174,
   "metadata": {},
   "outputs": [
    {
     "data": {
      "text/plain": [
       "(array([    0,     0,     0,     0,     0,     0,     0,     0,     0,     0,     0,     0,     0,     0,\n",
       "            0,     1,     7,    12,    14,   303,   316,   495,   800,   959,  1544,  1575,  1794,  2284,\n",
       "         2674,  3205,  3423,  4453,  4576,  5469,  5581,  6432,  7078,  7734,  7735,  7756,  7860,  8451,\n",
       "         8452,  8474,  8599,  8711,  8922,  9031,  9078,  9760,  9787,  9971, 10292, 10734, 10823, 10840,\n",
       "        11920, 12111, 12129, 12223, 12796, 12802, 12808, 12932, 12992, 13247, 13389, 14649, 14714, 14755,\n",
       "        15086, 15417, 15712, 15808, 16142, 16154, 16441, 16918, 16981, 17744, 17772, 18013, 18054, 18321,\n",
       "        18325, 18391, 18545, 18841, 18895, 19221, 19495, 19748, 19796, 19987, 20163, 20238, 20260, 20265,\n",
       "        20407, 20417]),\n",
       " array([0, 0, 0, 0, 0, 0, 0, 0, 0, 0, 0, 0, 0, 0, 0, 1, 1, 1, 1, 1, 1, 1, 1, 1, 1, 1, 1, 1, 1, 1, 1, 1, 1, 1,\n",
       "        1, 1, 1, 1, 1, 1, 1, 1, 1, 1, 1, 1, 1, 1, 1, 1, 1, 1, 1, 1, 1, 1, 1, 1, 1, 1, 1, 1, 1, 1, 1, 1, 1, 1,\n",
       "        1, 1, 1, 1, 1, 1, 1, 1, 1, 1, 1, 1, 1, 1, 1, 1, 1, 1, 1, 1, 1, 1, 1, 1, 1, 1, 1, 1, 1, 1, 1, 1]),\n",
       " 85,\n",
       " array([1., 0.], dtype=float32))"
      ]
     },
     "execution_count": 174,
     "metadata": {},
     "output_type": "execute_result"
    }
   ],
   "source": [
    "t"
   ]
  },
  {
   "cell_type": "code",
   "execution_count": 175,
   "metadata": {},
   "outputs": [
    {
     "data": {
      "text/plain": [
       "((100,), 20514)"
      ]
     },
     "execution_count": 175,
     "metadata": {},
     "output_type": "execute_result"
    }
   ],
   "source": [
    "xt.shape, len(vocab)"
   ]
  },
  {
   "cell_type": "code",
   "execution_count": 176,
   "metadata": {},
   "outputs": [
    {
     "data": {
      "text/plain": [
       "(100,)"
      ]
     },
     "execution_count": 176,
     "metadata": {},
     "output_type": "execute_result"
    }
   ],
   "source": [
    "xt.shape"
   ]
  },
  {
   "cell_type": "code",
   "execution_count": 177,
   "metadata": {},
   "outputs": [
    {
     "data": {
      "text/plain": [
       "('technicians', 20514)"
      ]
     },
     "execution_count": 177,
     "metadata": {},
     "output_type": "execute_result"
    }
   ],
   "source": [
    "vocab[18178], len(vocab)"
   ]
  },
  {
   "cell_type": "code",
   "execution_count": 178,
   "metadata": {},
   "outputs": [
    {
     "data": {
      "text/plain": [
       "array([0, 0, 0, 0, 0, 0, 0, 0, 0, 0, 0, 0, 0, 0, 0, 1, 1, 1, 1, 1, 1, 1, 1, 1, 1, 1, 1, 1, 1, 1, 1, 1, 1, 1,\n",
       "       1, 1, 1, 1, 1, 1, 1, 1, 1, 1, 1, 1, 1, 1, 1, 1, 1, 1, 1, 1, 1, 1, 1, 1, 1, 1, 1, 1, 1, 1, 1, 1, 1, 1,\n",
       "       1, 1, 1, 1, 1, 1, 1, 1, 1, 1, 1, 1, 1, 1, 1, 1, 1, 1, 1, 1, 1, 1, 1, 1, 1, 1, 1, 1, 1, 1, 1, 1])"
      ]
     },
     "execution_count": 178,
     "metadata": {},
     "output_type": "execute_result"
    }
   ],
   "source": [
    "_a"
   ]
  },
  {
   "cell_type": "code",
   "execution_count": 179,
   "metadata": {},
   "outputs": [
    {
     "data": {
      "text/plain": [
       "85"
      ]
     },
     "execution_count": 179,
     "metadata": {},
     "output_type": "execute_result"
    }
   ],
   "source": [
    "_a.sum()"
   ]
  },
  {
   "cell_type": "code",
   "execution_count": 180,
   "metadata": {},
   "outputs": [
    {
     "data": {
      "text/plain": [
       "85"
      ]
     },
     "execution_count": 180,
     "metadata": {},
     "output_type": "execute_result"
    }
   ],
   "source": [
    "_b"
   ]
  },
  {
   "cell_type": "code",
   "execution_count": 181,
   "metadata": {},
   "outputs": [
    {
     "data": {
      "text/plain": [
       "array([1., 0.], dtype=float32)"
      ]
     },
     "execution_count": 181,
     "metadata": {},
     "output_type": "execute_result"
    }
   ],
   "source": [
    "yt"
   ]
  },
  {
   "cell_type": "code",
   "execution_count": 182,
   "metadata": {},
   "outputs": [
    {
     "data": {
      "text/plain": [
       "(array([ 6725,  7078,  7094,  7257,  7300,  7519,  7540,  7905,  8236,  8451,  8474,  8573,  8675,  8686,\n",
       "         8714,  8717,  8875,  9078,  9237,  9415,  9744,  9760,  9784,  9787,  9797,  9968, 10386, 10501,\n",
       "        10577, 10734, 11231, 11602, 11912, 12126, 12127, 12363, 12384, 12428, 12558, 12634, 12727, 12728,\n",
       "        12772, 12796, 12802, 13224, 13494, 13713, 13766, 13959, 14230, 14682, 14755, 14837, 15497, 15712,\n",
       "        15888, 16059, 16113, 16194, 16467, 16492, 16501, 16513, 16918, 16983, 17076, 17192, 17535, 17559,\n",
       "        17600, 17654, 17718, 18013, 18065, 18094, 18213, 18220, 18314, 18317, 18321, 18325, 18344, 18351,\n",
       "        18367, 18391, 18497, 18545, 19790, 19796, 19884, 19957, 20000, 20008, 20155, 20163, 20238, 20239,\n",
       "        20272, 20407]),\n",
       " array([1, 1, 1, 1, 1, 1, 1, 1, 1, 1, 1, 1, 1, 1, 1, 1, 1, 1, 1, 1, 1, 1, 1, 1, 1, 1, 1, 1, 1, 1, 1, 1, 1, 1,\n",
       "        1, 1, 1, 1, 1, 1, 1, 1, 1, 1, 1, 1, 1, 1, 1, 1, 1, 1, 1, 1, 1, 1, 1, 1, 1, 1, 1, 1, 1, 1, 1, 1, 1, 1,\n",
       "        1, 1, 1, 1, 1, 1, 1, 1, 1, 1, 1, 1, 1, 1, 1, 1, 1, 1, 1, 1, 1, 1, 1, 1, 1, 1, 1, 1, 1, 1, 1, 1]),\n",
       " 100,\n",
       " array([1., 0.], dtype=float32))"
      ]
     },
     "execution_count": 182,
     "metadata": {},
     "output_type": "execute_result"
    }
   ],
   "source": [
    "md.trn_ds[ii]"
   ]
  },
  {
   "cell_type": "code",
   "execution_count": 183,
   "metadata": {},
   "outputs": [
    {
     "data": {
      "text/plain": [
       "(100,)"
      ]
     },
     "execution_count": 183,
     "metadata": {},
     "output_type": "execute_result"
    }
   ],
   "source": [
    "xt.shape"
   ]
  },
  {
   "cell_type": "code",
   "execution_count": 184,
   "metadata": {
    "scrolled": false
   },
   "outputs": [
    {
     "name": "stdout",
     "output_type": "stream",
     "text": [
      "!\n",
      "'\n",
      ",\n",
      ".\n",
      ":\n",
      "a\n",
      "adam\n",
      "all\n",
      "and\n",
      "babes\n",
      "bad\n",
      "because\n",
      "bored\n",
      "but\n",
      "cheezy\n",
      "classic\n",
      "cruise\n",
      "d\n",
      "doesn\n",
      "down\n",
      "ever\n",
      "five\n",
      "gets\n",
      "getting\n",
      "giant\n",
      "go\n",
      "have\n",
      "haven\n",
      "he\n",
      "here\n",
      "hired\n",
      "how\n",
      "i\n",
      "if\n",
      "is\n",
      "it\n",
      "jokes\n",
      "know\n",
      "like\n",
      "little\n",
      "ll\n",
      "models\n",
      "movie\n",
      "ms\n",
      "my\n",
      "on\n",
      "one\n",
      "only\n",
      "other\n",
      "over\n",
      "passenger\n",
      "people\n",
      "ranks\n",
      "re\n",
      "really\n",
      "rent\n",
      "right\n",
      "s\n",
      "sandler\n",
      "see\n",
      "seen\n",
      "ship\n",
      "so\n",
      "some\n",
      "suggest\n",
      "summary\n",
      "t\n",
      "take\n",
      "that\n",
      "the\n",
      "this\n",
      "to\n",
      "tries\n",
      "truly\n",
      "universe\n",
      "ve\n",
      "wait\n",
      "want\n",
      "what\n",
      "with\n",
      "work\n",
      "worse\n",
      "worst\n",
      "you\n",
      "yourself\n"
     ]
    }
   ],
   "source": [
    "for index, idx in enumerate(to_np(xt)):\n",
    "    if idx:\n",
    "        print(vocab[idx-1])"
   ]
  },
  {
   "cell_type": "code",
   "execution_count": 185,
   "metadata": {},
   "outputs": [
    {
     "data": {
      "text/plain": [
       "('!', 20514)"
      ]
     },
     "execution_count": 185,
     "metadata": {},
     "output_type": "execute_result"
    }
   ],
   "source": [
    "vocab[0], len(vocab)"
   ]
  },
  {
   "cell_type": "code",
   "execution_count": 186,
   "metadata": {},
   "outputs": [
    {
     "data": {
      "text/plain": [
       "array([    0,     0,     0,     0,     0,     0,     0,     0,     0,     0,     0,     0,     0,     0,\n",
       "           0,     1,     7,    12,    14,   303,   316,   495,   800,   959,  1544,  1575,  1794,  2284,\n",
       "        2674,  3205,  3423,  4453,  4576,  5469,  5581,  6432,  7078,  7734,  7735,  7756,  7860,  8451,\n",
       "        8452,  8474,  8599,  8711,  8922,  9031,  9078,  9760,  9787,  9971, 10292, 10734, 10823, 10840,\n",
       "       11920, 12111, 12129, 12223, 12796, 12802, 12808, 12932, 12992, 13247, 13389, 14649, 14714, 14755,\n",
       "       15086, 15417, 15712, 15808, 16142, 16154, 16441, 16918, 16981, 17744, 17772, 18013, 18054, 18321,\n",
       "       18325, 18391, 18545, 18841, 18895, 19221, 19495, 19748, 19796, 19987, 20163, 20238, 20260, 20265,\n",
       "       20407, 20417])"
      ]
     },
     "execution_count": 186,
     "metadata": {},
     "output_type": "execute_result"
    }
   ],
   "source": [
    "xt"
   ]
  },
  {
   "cell_type": "code",
   "execution_count": 187,
   "metadata": {},
   "outputs": [
    {
     "data": {
      "text/plain": [
       "tensor(-3.6566, grad_fn=<SumBackward0>)"
      ]
     },
     "execution_count": 187,
     "metadata": {},
     "output_type": "execute_result"
    }
   ],
   "source": [
    "net4.w(V(xt)).sum()"
   ]
  },
  {
   "cell_type": "code",
   "execution_count": 188,
   "metadata": {},
   "outputs": [
    {
     "data": {
      "text/plain": [
       "(100,)"
      ]
     },
     "execution_count": 188,
     "metadata": {},
     "output_type": "execute_result"
    }
   ],
   "source": [
    "xt.shape"
   ]
  },
  {
   "cell_type": "code",
   "execution_count": 189,
   "metadata": {},
   "outputs": [
    {
     "data": {
      "text/plain": [
       "(100,)"
      ]
     },
     "execution_count": 189,
     "metadata": {},
     "output_type": "execute_result"
    }
   ],
   "source": [
    "xt.shape"
   ]
  },
  {
   "cell_type": "code",
   "execution_count": 190,
   "metadata": {},
   "outputs": [
    {
     "name": "stdout",
     "output_type": "stream",
     "text": [
      "tensor([-0.0197, -0.0593, -0.0033, -0.0081, -0.0138,  0.0031,  0.3989, -0.0187,\n",
      "        -0.0066, -0.6997, -1.1371, -0.2042, -0.6426, -0.0365, -0.6997,  0.3219,\n",
      "        -0.5662, -0.3250, -0.4243, -0.1798, -0.1050, -0.5456, -0.0691, -0.1210,\n",
      "         0.9489, -0.2102, -0.2204,  0.2386,  0.1499,  0.0121, -0.1401, -0.0364,\n",
      "        -0.0424, -0.1521,  0.0246, -0.0154, -0.6532, -0.0824, -0.0939,  0.0782,\n",
      "         0.2200, -0.4120, -0.1927,  0.2558,  0.0804, -0.0530, -0.0825, -0.1431,\n",
      "        -0.1858, -0.1378, -0.4120, -0.1145, -0.0066, -0.0704, -0.1962, -0.5944,\n",
      "        -0.0195,  0.0150, -0.0066,  0.0565,  0.0996, -0.5174, -0.1687, -0.1272,\n",
      "        -0.6997, -0.3430, -0.3180, -0.2072, -0.0520, -0.0208, -0.0275, -0.0182,\n",
      "        -0.5087,  0.0804,  0.5531, -0.2460, -0.1784, -0.1756, -0.1366, -0.0199,\n",
      "         0.1204, -1.2795, -2.4728, -0.0407, -0.4294], grad_fn=<SumBackward1>)\n"
     ]
    }
   ],
   "source": [
    "y_pred = net4(V(xt))\n",
    "print(y_pred)\n",
    "l = binary_loss(y_pred, yt)"
   ]
  },
  {
   "cell_type": "code",
   "execution_count": 191,
   "metadata": {},
   "outputs": [
    {
     "data": {
      "text/plain": [
       "tensor([-0.0197, -0.0593, -0.0033, -0.0081, -0.0138,  0.0031,  0.3989, -0.0187,\n",
       "        -0.0066, -0.6997, -1.1371, -0.2042, -0.6426, -0.0365, -0.6997,  0.3219,\n",
       "        -0.5662, -0.3250, -0.4243, -0.1798, -0.1050, -0.5456, -0.0691, -0.1210,\n",
       "         0.9489, -0.2102, -0.2204,  0.2386,  0.1499,  0.0121, -0.1401, -0.0364,\n",
       "        -0.0424, -0.1521,  0.0246, -0.0154, -0.6532, -0.0824, -0.0939,  0.0782,\n",
       "         0.2200, -0.4120, -0.1927,  0.2558,  0.0804, -0.0530, -0.0825, -0.1431,\n",
       "        -0.1858, -0.1378, -0.4120, -0.1145, -0.0066, -0.0704, -0.1962, -0.5944,\n",
       "        -0.0195,  0.0150, -0.0066,  0.0565,  0.0996, -0.5174, -0.1687, -0.1272,\n",
       "        -0.6997, -0.3430, -0.3180, -0.2072, -0.0520, -0.0208, -0.0275, -0.0182,\n",
       "        -0.5087,  0.0804,  0.5531, -0.2460, -0.1784, -0.1756, -0.1366, -0.0199,\n",
       "         0.1204, -1.2795, -2.4728, -0.0407, -0.4294], grad_fn=<SumBackward1>)"
      ]
     },
     "execution_count": 191,
     "metadata": {},
     "output_type": "execute_result"
    }
   ],
   "source": [
    "y_pred"
   ]
  },
  {
   "cell_type": "code",
   "execution_count": 192,
   "metadata": {},
   "outputs": [
    {
     "name": "stdout",
     "output_type": "stream",
     "text": [
      "None\n"
     ]
    }
   ],
   "source": [
    "print(net4.w.weight.grad)"
   ]
  },
  {
   "cell_type": "code",
   "execution_count": 193,
   "metadata": {},
   "outputs": [
    {
     "data": {
      "text/plain": [
       "torch.Size([])"
      ]
     },
     "execution_count": 193,
     "metadata": {},
     "output_type": "execute_result"
    }
   ],
   "source": [
    "l.shape"
   ]
  },
  {
   "cell_type": "code",
   "execution_count": 194,
   "metadata": {},
   "outputs": [],
   "source": [
    "l.backward()"
   ]
  },
  {
   "cell_type": "code",
   "execution_count": 195,
   "metadata": {},
   "outputs": [
    {
     "data": {
      "text/plain": [
       "((100,),\n",
       " array([0, 0, 0, 0, 0, 0, 0, 0, 0, 0, 0, 0, 0, 0, 0, 1, 1, 1, 1, 1, 1, 1, 1, 1, 1, 1, 1, 1, 1, 1, 1, 1, 1, 1,\n",
       "        1, 1, 1, 1, 1, 1, 1, 1, 1, 1, 1, 1, 1, 1, 1, 1, 1, 1, 1, 1, 1, 1, 1, 1, 1, 1, 1, 1, 1, 1, 1, 1, 1, 1,\n",
       "        1, 1, 1, 1, 1, 1, 1, 1, 1, 1, 1, 1, 1, 1, 1, 1, 1, 1, 1, 1, 1, 1, 1, 1, 1, 1, 1, 1, 1, 1, 1, 1]))"
      ]
     },
     "execution_count": 195,
     "metadata": {},
     "output_type": "execute_result"
    }
   ],
   "source": [
    "_a.shape, _a"
   ]
  },
  {
   "cell_type": "code",
   "execution_count": 196,
   "metadata": {},
   "outputs": [
    {
     "name": "stdout",
     "output_type": "stream",
     "text": [
      "0 tensor(0.0058) tensor([-0.0197])\n",
      "6 tensor(0.0057) tensor([-0.0593])\n",
      "11 tensor(0.0059) tensor([-0.0033])\n",
      "13 tensor(0.0059) tensor([-0.0081])\n",
      "302 tensor(0.0058) tensor([-0.0138])\n",
      "315 tensor(0.0059) tensor([0.0031])\n",
      "494 tensor(0.0070) tensor([0.3989])\n",
      "799 tensor(0.0058) tensor([-0.0187])\n",
      "958 tensor(0.0059) tensor([-0.0066])\n",
      "1543 tensor(0.0039) tensor([-0.6997])\n",
      "1574 tensor(0.0029) tensor([-1.1371])\n",
      "1793 tensor(0.0053) tensor([-0.2042])\n",
      "2283 tensor(0.0041) tensor([-0.6426])\n",
      "2673 tensor(0.0058) tensor([-0.0365])\n",
      "3204 tensor(0.0039) tensor([-0.6997])\n",
      "3422 tensor(0.0068) tensor([0.3219])\n",
      "4452 tensor(0.0043) tensor([-0.5662])\n",
      "4575 tensor(0.0049) tensor([-0.3250])\n",
      "5468 tensor(0.0047) tensor([-0.4243])\n",
      "5580 tensor(0.0054) tensor([-0.1798])\n",
      "6431 tensor(0.0056) tensor([-0.1050])\n",
      "7077 tensor(0.0043) tensor([-0.5456])\n",
      "7733 tensor(0.0057) tensor([-0.0691])\n",
      "7734 tensor(0.0055) tensor([-0.1210])\n",
      "7755 tensor(0.0085) tensor([0.9489])\n",
      "7859 tensor(0.0053) tensor([-0.2102])\n",
      "8450 tensor(0.0052) tensor([-0.2204])\n",
      "8451 tensor(0.0066) tensor([0.2386])\n",
      "8473 tensor(0.0063) tensor([0.1499])\n",
      "8598 tensor(0.0059) tensor([0.0121])\n",
      "8710 tensor(0.0055) tensor([-0.1401])\n",
      "8921 tensor(0.0058) tensor([-0.0364])\n",
      "9030 tensor(0.0058) tensor([-0.0424])\n",
      "9077 tensor(0.0054) tensor([-0.1521])\n",
      "9759 tensor(0.0060) tensor([0.0246])\n",
      "9786 tensor(0.0058) tensor([-0.0154])\n",
      "9970 tensor(0.0040) tensor([-0.6532])\n",
      "10291 tensor(0.0056) tensor([-0.0824])\n",
      "10733 tensor(0.0056) tensor([-0.0939])\n",
      "10822 tensor(0.0061) tensor([0.0782])\n",
      "10839 tensor(0.0065) tensor([0.2200])\n",
      "11919 tensor(0.0047) tensor([-0.4120])\n",
      "12110 tensor(0.0053) tensor([-0.1927])\n",
      "12128 tensor(0.0066) tensor([0.2558])\n",
      "12222 tensor(0.0061) tensor([0.0804])\n",
      "12795 tensor(0.0057) tensor([-0.0530])\n",
      "12801 tensor(0.0056) tensor([-0.0825])\n",
      "12807 tensor(0.0055) tensor([-0.1431])\n",
      "12931 tensor(0.0053) tensor([-0.1858])\n",
      "12991 tensor(0.0055) tensor([-0.1378])\n",
      "13246 tensor(0.0047) tensor([-0.4120])\n",
      "13388 tensor(0.0055) tensor([-0.1145])\n",
      "14648 tensor(0.0059) tensor([-0.0066])\n",
      "14713 tensor(0.0057) tensor([-0.0704])\n",
      "14754 tensor(0.0053) tensor([-0.1962])\n",
      "15085 tensor(0.0042) tensor([-0.5944])\n",
      "15416 tensor(0.0058) tensor([-0.0195])\n",
      "15711 tensor(0.0059) tensor([0.0150])\n",
      "15807 tensor(0.0059) tensor([-0.0066])\n",
      "16141 tensor(0.0060) tensor([0.0565])\n",
      "16153 tensor(0.0062) tensor([0.0996])\n",
      "16440 tensor(0.0044) tensor([-0.5174])\n",
      "16917 tensor(0.0054) tensor([-0.1687])\n",
      "16980 tensor(0.0055) tensor([-0.1272])\n",
      "17743 tensor(0.0039) tensor([-0.6997])\n",
      "17771 tensor(0.0049) tensor([-0.3430])\n",
      "18012 tensor(0.0050) tensor([-0.3180])\n",
      "18053 tensor(0.0053) tensor([-0.2072])\n",
      "18320 tensor(0.0057) tensor([-0.0520])\n",
      "18324 tensor(0.0058) tensor([-0.0208])\n",
      "18390 tensor(0.0058) tensor([-0.0275])\n",
      "18544 tensor(0.0058) tensor([-0.0182])\n",
      "18840 tensor(0.0044) tensor([-0.5087])\n",
      "18894 tensor(0.0061) tensor([0.0804])\n",
      "19220 tensor(0.0075) tensor([0.5531])\n",
      "19494 tensor(0.0052) tensor([-0.2460])\n",
      "19747 tensor(0.0054) tensor([-0.1784])\n",
      "19795 tensor(0.0054) tensor([-0.1756])\n",
      "19986 tensor(0.0055) tensor([-0.1366])\n",
      "20162 tensor(0.0058) tensor([-0.0199])\n",
      "20237 tensor(0.0062) tensor([0.1204])\n",
      "20259 tensor(0.0026) tensor([-1.2795])\n",
      "20264 tensor(0.0009) tensor([-2.4728])\n",
      "20406 tensor(0.0058) tensor([-0.0407])\n",
      "20416 tensor(0.0046) tensor([-0.4294])\n"
     ]
    }
   ],
   "source": [
    "for idx, i in enumerate(net4.w.weight.grad.data):\n",
    "    for j in i:\n",
    "        if j != 0:\n",
    "            print(idx, j, net4.w.weight.data[idx])"
   ]
  },
  {
   "cell_type": "code",
   "execution_count": null,
   "metadata": {},
   "outputs": [],
   "source": []
  },
  {
   "cell_type": "code",
   "execution_count": 197,
   "metadata": {},
   "outputs": [],
   "source": [
    "net4.w.weight.data -= net4.w.weight.grad.data * lr"
   ]
  },
  {
   "cell_type": "code",
   "execution_count": 198,
   "metadata": {},
   "outputs": [
    {
     "data": {
      "text/plain": [
       "0.01"
      ]
     },
     "execution_count": 198,
     "metadata": {},
     "output_type": "execute_result"
    }
   ],
   "source": [
    "lr"
   ]
  },
  {
   "cell_type": "code",
   "execution_count": 199,
   "metadata": {},
   "outputs": [
    {
     "data": {
      "text/plain": [
       "tensor([[-0.0198],\n",
       "        [-0.0942],\n",
       "        [-0.3430],\n",
       "        ...,\n",
       "        [ 0.6866],\n",
       "        [ 0.6866],\n",
       "        [ 0.6866]])"
      ]
     },
     "execution_count": 199,
     "metadata": {},
     "output_type": "execute_result"
    }
   ],
   "source": [
    "net4.w.weight.data"
   ]
  },
  {
   "cell_type": "code",
   "execution_count": 200,
   "metadata": {},
   "outputs": [
    {
     "data": {
      "text/plain": [
       "tensor([[0.0058],\n",
       "        [0.0000],\n",
       "        [0.0000],\n",
       "        ...,\n",
       "        [0.0000],\n",
       "        [0.0000],\n",
       "        [0.0000]])"
      ]
     },
     "execution_count": 200,
     "metadata": {},
     "output_type": "execute_result"
    }
   ],
   "source": [
    "net4.w.weight.grad.data"
   ]
  },
  {
   "cell_type": "code",
   "execution_count": 201,
   "metadata": {},
   "outputs": [
    {
     "name": "stdout",
     "output_type": "stream",
     "text": [
      "tensor(0.0058)\n",
      "tensor(0.0057)\n",
      "tensor(0.0059)\n",
      "tensor(0.0059)\n",
      "tensor(0.0058)\n",
      "tensor(0.0059)\n",
      "tensor(0.0070)\n",
      "tensor(0.0058)\n",
      "tensor(0.0059)\n",
      "tensor(0.0039)\n",
      "tensor(0.0029)\n",
      "tensor(0.0053)\n",
      "tensor(0.0041)\n",
      "tensor(0.0058)\n",
      "tensor(0.0039)\n",
      "tensor(0.0068)\n",
      "tensor(0.0043)\n",
      "tensor(0.0049)\n",
      "tensor(0.0047)\n",
      "tensor(0.0054)\n",
      "tensor(0.0056)\n",
      "tensor(0.0043)\n",
      "tensor(0.0057)\n",
      "tensor(0.0055)\n",
      "tensor(0.0085)\n",
      "tensor(0.0053)\n",
      "tensor(0.0052)\n",
      "tensor(0.0066)\n",
      "tensor(0.0063)\n",
      "tensor(0.0059)\n",
      "tensor(0.0055)\n",
      "tensor(0.0058)\n",
      "tensor(0.0058)\n",
      "tensor(0.0054)\n",
      "tensor(0.0060)\n",
      "tensor(0.0058)\n",
      "tensor(0.0040)\n",
      "tensor(0.0056)\n",
      "tensor(0.0056)\n",
      "tensor(0.0061)\n",
      "tensor(0.0065)\n",
      "tensor(0.0047)\n",
      "tensor(0.0053)\n",
      "tensor(0.0066)\n",
      "tensor(0.0061)\n",
      "tensor(0.0057)\n",
      "tensor(0.0056)\n",
      "tensor(0.0055)\n",
      "tensor(0.0053)\n",
      "tensor(0.0055)\n",
      "tensor(0.0047)\n",
      "tensor(0.0055)\n",
      "tensor(0.0059)\n",
      "tensor(0.0057)\n",
      "tensor(0.0053)\n",
      "tensor(0.0042)\n",
      "tensor(0.0058)\n",
      "tensor(0.0059)\n",
      "tensor(0.0059)\n",
      "tensor(0.0060)\n",
      "tensor(0.0062)\n",
      "tensor(0.0044)\n",
      "tensor(0.0054)\n",
      "tensor(0.0055)\n",
      "tensor(0.0039)\n",
      "tensor(0.0049)\n",
      "tensor(0.0050)\n",
      "tensor(0.0053)\n",
      "tensor(0.0057)\n",
      "tensor(0.0058)\n",
      "tensor(0.0058)\n",
      "tensor(0.0058)\n",
      "tensor(0.0044)\n",
      "tensor(0.0061)\n",
      "tensor(0.0075)\n",
      "tensor(0.0052)\n",
      "tensor(0.0054)\n",
      "tensor(0.0054)\n",
      "tensor(0.0055)\n",
      "tensor(0.0058)\n",
      "tensor(0.0062)\n",
      "tensor(0.0026)\n",
      "tensor(0.0009)\n",
      "tensor(0.0058)\n",
      "tensor(0.0046)\n"
     ]
    }
   ],
   "source": [
    "for i in net4.w.weight.grad.data:\n",
    "    for j in i:\n",
    "        if j != 0:\n",
    "            print(j)"
   ]
  },
  {
   "cell_type": "code",
   "execution_count": 202,
   "metadata": {},
   "outputs": [
    {
     "data": {
      "text/plain": [
       "tensor([[0.],\n",
       "        [0.],\n",
       "        [0.],\n",
       "        ...,\n",
       "        [0.],\n",
       "        [0.],\n",
       "        [0.]])"
      ]
     },
     "execution_count": 202,
     "metadata": {},
     "output_type": "execute_result"
    }
   ],
   "source": [
    "net4.w.weight.grad.data.zero_()"
   ]
  },
  {
   "cell_type": "code",
   "execution_count": null,
   "metadata": {},
   "outputs": [],
   "source": []
  },
  {
   "cell_type": "code",
   "execution_count": 203,
   "metadata": {},
   "outputs": [],
   "source": [
    "from datetime import datetime"
   ]
  },
  {
   "cell_type": "code",
   "execution_count": 204,
   "metadata": {},
   "outputs": [
    {
     "data": {
      "text/plain": [
       "1280"
      ]
     },
     "execution_count": 204,
     "metadata": {},
     "output_type": "execute_result"
    }
   ],
   "source": [
    "len(md.trn_ds)"
   ]
  },
  {
   "cell_type": "code",
   "execution_count": 205,
   "metadata": {},
   "outputs": [],
   "source": [
    "a1, a2, a3, a4 = md.trn_ds[0]"
   ]
  },
  {
   "cell_type": "code",
   "execution_count": 206,
   "metadata": {},
   "outputs": [
    {
     "data": {
      "text/plain": [
       "array([ 6992,  7054,  7247,  7257,  7300,  7732,  8216,  8217,  8370,  8451,  8714,  8912,  9017,  9031,\n",
       "        9237,  9307,  9460,  9573,  9650,  9732,  9760,  9787,  9945, 10210, 10653, 10666, 10705, 10713,\n",
       "       10823, 11199, 11507, 11602, 11710, 11733, 11745, 12111, 12135, 12465, 12501, 12558, 12686, 12727,\n",
       "       12796, 12808, 12838, 12871, 13057, 13701, 13839, 14212, 14322, 14425, 14493, 14494, 14737, 15168,\n",
       "       15172, 15888, 16029, 16147, 16252, 16487, 16895, 16918, 16956, 16985, 17096, 18054, 18163, 18321,\n",
       "       18325, 18334, 18344, 18356, 18380, 18391, 18423, 18545, 18650, 18885, 18977, 19052, 19119, 19216,\n",
       "       19281, 19552, 19748, 19838, 20009, 20035, 20074, 20079, 20163, 20169, 20206, 20311, 20349, 20378,\n",
       "       20492, 20493])"
      ]
     },
     "execution_count": 206,
     "metadata": {},
     "output_type": "execute_result"
    }
   ],
   "source": [
    "a1"
   ]
  },
  {
   "cell_type": "code",
   "execution_count": 207,
   "metadata": {},
   "outputs": [
    {
     "data": {
      "text/plain": [
       "array([1, 1, 1, 1, 1, 1, 1, 1, 1, 1, 1, 1, 1, 1, 1, 1, 1, 1, 1, 1, 1, 1, 1, 1, 1, 1, 1, 1, 1, 1, 1, 1, 1, 1,\n",
       "       1, 1, 1, 1, 1, 1, 1, 1, 1, 1, 1, 1, 1, 1, 1, 1, 1, 1, 1, 1, 1, 1, 1, 1, 1, 1, 1, 1, 1, 1, 1, 1, 1, 1,\n",
       "       1, 1, 1, 1, 1, 1, 1, 1, 1, 1, 1, 1, 1, 1, 1, 1, 1, 1, 1, 1, 1, 1, 1, 1, 1, 1, 1, 1, 1, 1, 1, 1])"
      ]
     },
     "execution_count": 207,
     "metadata": {},
     "output_type": "execute_result"
    }
   ],
   "source": [
    "a2"
   ]
  },
  {
   "cell_type": "code",
   "execution_count": 208,
   "metadata": {},
   "outputs": [
    {
     "data": {
      "text/plain": [
       "100"
      ]
     },
     "execution_count": 208,
     "metadata": {},
     "output_type": "execute_result"
    }
   ],
   "source": [
    "a3"
   ]
  },
  {
   "cell_type": "code",
   "execution_count": 209,
   "metadata": {},
   "outputs": [
    {
     "data": {
      "text/plain": [
       "(array([1., 0.], dtype=float32), 0)"
      ]
     },
     "execution_count": 209,
     "metadata": {},
     "output_type": "execute_result"
    }
   ],
   "source": [
    "a4, np.argmax(a4)"
   ]
  },
  {
   "cell_type": "code",
   "execution_count": 210,
   "metadata": {},
   "outputs": [
    {
     "data": {
      "text/plain": [
       "tensor(1.)"
      ]
     },
     "execution_count": 210,
     "metadata": {},
     "output_type": "execute_result"
    }
   ],
   "source": [
    "torch.max(V(a4))"
   ]
  },
  {
   "cell_type": "code",
   "execution_count": 211,
   "metadata": {},
   "outputs": [
    {
     "data": {
      "text/plain": [
       "tensor(0.5857, grad_fn=<MeanBackward0>)"
      ]
     },
     "execution_count": 211,
     "metadata": {},
     "output_type": "execute_result"
    }
   ],
   "source": [
    "loss(net4(V(a1)), V(a4))"
   ]
  },
  {
   "cell_type": "code",
   "execution_count": 212,
   "metadata": {},
   "outputs": [
    {
     "data": {
      "text/plain": [
       "tensor([ 0.0337, -0.4120, -0.3430, -0.0350, -0.3320,  0.0153, -0.6615, -0.5819,\n",
       "        -0.0785, -0.2204,  0.2021, -0.4227, -2.0860, -0.0424,  0.0252, -0.5372,\n",
       "        -1.1052, -0.9621, -0.1376, -0.6997,  0.0246, -0.0154,  0.4942, -0.4314,\n",
       "        -0.2050,  0.2811,  0.3471, -0.4120,  0.0782, -0.4816, -0.0556,  0.0804,\n",
       "        -0.3743, -0.4120, -0.6256, -0.1927, -0.0997,  0.1876, -0.4813, -0.1229,\n",
       "        -0.2297, -0.0115, -0.0530, -0.1432, -1.1052, -0.1988,  0.2547, -1.1052,\n",
       "        -1.2105, -1.7983, -0.6997, -0.6997, -0.0066, -0.6997,  0.1230, -0.5174,\n",
       "        -0.1889, -0.3355, -0.9229,  0.4634, -1.1052, -0.0500, -0.6997, -0.1688,\n",
       "        -0.2579, -0.5174, -0.2023, -0.2073,  0.4288, -0.0521, -0.0208,  0.0146,\n",
       "        -0.3743, -0.2042, -0.1055, -0.0276,  0.1641, -0.0182, -0.2450, -0.6997,\n",
       "         0.0242, -1.2303, -0.2502, -0.6997, -1.3929,  0.2647, -0.1785, -0.0358,\n",
       "        -0.0158,  0.0299,  0.2217, -0.0936, -0.0199, -0.1809, -0.1279, -0.0936,\n",
       "        -0.6997,  0.6711, -0.0066, -0.4120], grad_fn=<SumBackward1>)"
      ]
     },
     "execution_count": 212,
     "metadata": {},
     "output_type": "execute_result"
    }
   ],
   "source": [
    "net4(V(a1))"
   ]
  },
  {
   "cell_type": "code",
   "execution_count": 213,
   "metadata": {},
   "outputs": [],
   "source": [
    "def score2(x, y):\n",
    "    y_pred = to_np(net2(V(x)))\n",
    "    return np.sum(y_pred.argmax(axis=1) == to_np(y).argmax(axis=1))/len(y_pred)"
   ]
  },
  {
   "cell_type": "code",
   "execution_count": 214,
   "metadata": {},
   "outputs": [],
   "source": [
    "def score(x, y):\n",
    "    # print(f'x={x}, y={y}')\n",
    "    y_pred = to_np(net2(V(x))).sum() >= 0\n",
    "    # print(f'y_pred={y_pred}')\n",
    "    y2 = np.argmax(y)\n",
    "    # print(f'y2={y2}')\n",
    "    return np.sum(y_pred == y2)"
   ]
  },
  {
   "cell_type": "code",
   "execution_count": null,
   "metadata": {},
   "outputs": [],
   "source": []
  },
  {
   "cell_type": "code",
   "execution_count": 215,
   "metadata": {},
   "outputs": [],
   "source": [
    "from tqdm import notebook"
   ]
  },
  {
   "cell_type": "code",
   "execution_count": 216,
   "metadata": {},
   "outputs": [
    {
     "data": {
      "text/plain": [
       "datetime.datetime(2020, 1, 5, 2, 55, 41, 139628)"
      ]
     },
     "execution_count": 216,
     "metadata": {},
     "output_type": "execute_result"
    }
   ],
   "source": [
    "datetime.now()"
   ]
  },
  {
   "cell_type": "code",
   "execution_count": 217,
   "metadata": {},
   "outputs": [],
   "source": [
    "net2 = MySimpleNB(len(vocab), 1)\n",
    "# loss = nn.NLLLoss()\n",
    "# loss = torch.nn.CrossEntropyLoss()\n",
    "loss = binary_loss\n",
    "# lr = 1e-0\n",
    "lr = 1e-3\n",
    "train_loss_list = []\n",
    "val_loss_list = []\n",
    "val_acc_list= []\n",
    "loss_list = []"
   ]
  },
  {
   "cell_type": "code",
   "execution_count": 218,
   "metadata": {},
   "outputs": [
    {
     "name": "stdout",
     "output_type": "stream",
     "text": [
      "100%|██████████| 2560/2560 [00:02<00:00, 1005.95it/s]\n"
     ]
    },
    {
     "data": {
      "text/plain": [
       "0.789453125"
      ]
     },
     "execution_count": 218,
     "metadata": {},
     "output_type": "execute_result"
    }
   ],
   "source": [
    "val_scores = []\n",
    "for t in tqdm(md.val_ds, total=len(md.val_ds)):\n",
    "    x, _a, _b, y = t\n",
    "    val_scores.append(score(x,y))\n",
    "np.mean(to_np(val_scores))"
   ]
  },
  {
   "cell_type": "code",
   "execution_count": 237,
   "metadata": {},
   "outputs": [],
   "source": [
    "import os\n",
    "filename = 'acc.txt'\n",
    "try:\n",
    "    os.remove(filename)\n",
    "except:\n",
    "    pass"
   ]
  },
  {
   "cell_type": "code",
   "execution_count": 238,
   "metadata": {},
   "outputs": [
    {
     "data": {
      "text/plain": [
       "20"
      ]
     },
     "execution_count": 238,
     "metadata": {},
     "output_type": "execute_result"
    }
   ],
   "source": [
    "len(md.trn_dl)"
   ]
  },
  {
   "cell_type": "code",
   "execution_count": 233,
   "metadata": {
    "lines_to_next_cell": 0,
    "scrolled": false
   },
   "outputs": [
    {
     "name": "stdout",
     "output_type": "stream",
     "text": [
      "lr=0.01\n",
      "\n",
      "epoch: 0\n",
      "time: 2020-01-05 03:52:08.709056\n",
      "100%|██████████| 1280/1280 [00:01<00:00, 660.05it/s]\n",
      "100%|██████████| 1280/1280 [00:01<00:00, 895.00it/s]\n",
      "100%|██████████| 2560/2560 [00:02<00:00, 905.57it/s]\n",
      "100%|██████████| 2560/2560 [00:02<00:00, 1020.86it/s]\n",
      "epoch=0, score=0.638623833656311\n",
      "epoch=0, score=0.6718730926513672\n",
      "epoch=0, score=0.80859375\n",
      "\n",
      "epoch: 1\n",
      "time: 2020-01-05 03:52:17.470658\n",
      "100%|██████████| 1280/1280 [00:01<00:00, 660.72it/s]\n",
      "100%|██████████| 1280/1280 [00:01<00:00, 900.65it/s]\n",
      "100%|██████████| 2560/2560 [00:02<00:00, 909.08it/s]\n",
      "100%|██████████| 2560/2560 [00:02<00:00, 1021.21it/s]\n",
      "epoch=1, score=0.6386187076568604\n",
      "epoch=1, score=0.6718718409538269\n",
      "epoch=1, score=0.80859375\n",
      "\n",
      "epoch: 2\n",
      "time: 2020-01-05 03:52:26.242163\n",
      "100%|██████████| 1280/1280 [00:01<00:00, 664.64it/s]\n",
      "100%|██████████| 1280/1280 [00:01<00:00, 894.92it/s]\n",
      "100%|██████████| 2560/2560 [00:02<00:00, 904.76it/s]\n",
      "100%|██████████| 2560/2560 [00:02<00:00, 1025.64it/s]\n",
      "epoch=2, score=0.6386136412620544\n",
      "epoch=2, score=0.6718705892562866\n",
      "epoch=2, score=0.808984375\n",
      "\n",
      "epoch: 3\n",
      "time: 2020-01-05 03:52:35.010660\n",
      "100%|██████████| 1280/1280 [00:01<00:00, 662.23it/s]\n",
      "100%|██████████| 1280/1280 [00:01<00:00, 902.17it/s]\n",
      "100%|██████████| 2560/2560 [00:02<00:00, 905.19it/s]\n",
      "100%|██████████| 2560/2560 [00:02<00:00, 1011.58it/s]\n",
      "epoch=3, score=0.6386085748672485\n",
      "epoch=3, score=0.6718693375587463\n",
      "epoch=3, score=0.809375\n",
      "\n",
      "epoch: 4\n",
      "time: 2020-01-05 03:52:43.810049\n",
      "100%|██████████| 1280/1280 [00:01<00:00, 661.18it/s]\n",
      "100%|██████████| 1280/1280 [00:01<00:00, 896.83it/s]\n",
      "100%|██████████| 2560/2560 [00:02<00:00, 904.89it/s]\n",
      "100%|██████████| 2560/2560 [00:02<00:00, 1022.79it/s]\n",
      "epoch=4, score=0.6386035084724426\n",
      "epoch=4, score=0.6718681454658508\n",
      "epoch=4, score=0.809375\n",
      "\n",
      "epoch: 5\n",
      "time: 2020-01-05 03:52:52.591315\n",
      "100%|██████████| 1280/1280 [00:01<00:00, 663.28it/s]\n",
      "100%|██████████| 1280/1280 [00:01<00:00, 899.06it/s]\n",
      "100%|██████████| 2560/2560 [00:02<00:00, 901.64it/s]\n",
      "100%|██████████| 2560/2560 [00:02<00:00, 1013.83it/s]\n",
      "epoch=5, score=0.6385985612869263\n",
      "epoch=5, score=0.6718670129776001\n",
      "epoch=5, score=0.809375\n",
      "\n",
      "epoch: 6\n",
      "time: 2020-01-05 03:53:01.394405\n",
      "100%|██████████| 1280/1280 [00:01<00:00, 659.39it/s]\n",
      "100%|██████████| 1280/1280 [00:01<00:00, 899.45it/s]\n",
      "100%|██████████| 2560/2560 [00:02<00:00, 892.50it/s]\n",
      " 40%|████      | 1029/2560 [00:01<00:01, 979.14it/s] \n"
     ]
    },
    {
     "ename": "KeyboardInterrupt",
     "evalue": "",
     "output_type": "error",
     "traceback": [
      "\u001b[0;31m---------------------------------------------------------------------------\u001b[0m",
      "\u001b[0;31mKeyboardInterrupt\u001b[0m                         Traceback (most recent call last)",
      "\u001b[0;32m<ipython-input-233-342e7f60d768>\u001b[0m in \u001b[0;36m<module>\u001b[0;34m\u001b[0m\n\u001b[1;32m     43\u001b[0m         \u001b[0;32mfor\u001b[0m \u001b[0mt\u001b[0m \u001b[0;32min\u001b[0m \u001b[0mtqdm\u001b[0m\u001b[0;34m(\u001b[0m\u001b[0mmd\u001b[0m\u001b[0;34m.\u001b[0m\u001b[0mval_ds\u001b[0m\u001b[0;34m,\u001b[0m \u001b[0mtotal\u001b[0m\u001b[0;34m=\u001b[0m\u001b[0mlen\u001b[0m\u001b[0;34m(\u001b[0m\u001b[0mmd\u001b[0m\u001b[0;34m.\u001b[0m\u001b[0mval_ds\u001b[0m\u001b[0;34m)\u001b[0m\u001b[0;34m)\u001b[0m\u001b[0;34m:\u001b[0m\u001b[0;34m\u001b[0m\u001b[0;34m\u001b[0m\u001b[0m\n\u001b[1;32m     44\u001b[0m             \u001b[0mx\u001b[0m\u001b[0;34m,\u001b[0m \u001b[0m_a\u001b[0m\u001b[0;34m,\u001b[0m \u001b[0m_b\u001b[0m\u001b[0;34m,\u001b[0m \u001b[0my\u001b[0m \u001b[0;34m=\u001b[0m \u001b[0mt\u001b[0m\u001b[0;34m\u001b[0m\u001b[0;34m\u001b[0m\u001b[0m\n\u001b[0;32m---> 45\u001b[0;31m             \u001b[0mval_scores\u001b[0m\u001b[0;34m.\u001b[0m\u001b[0mappend\u001b[0m\u001b[0;34m(\u001b[0m\u001b[0mscore\u001b[0m\u001b[0;34m(\u001b[0m\u001b[0mx\u001b[0m\u001b[0;34m,\u001b[0m\u001b[0my\u001b[0m\u001b[0;34m)\u001b[0m\u001b[0;34m)\u001b[0m\u001b[0;34m\u001b[0m\u001b[0;34m\u001b[0m\u001b[0m\n\u001b[0m\u001b[1;32m     46\u001b[0m         \u001b[0ml4\u001b[0m \u001b[0;34m=\u001b[0m \u001b[0mnp\u001b[0m\u001b[0;34m.\u001b[0m\u001b[0mmean\u001b[0m\u001b[0;34m(\u001b[0m\u001b[0mto_np\u001b[0m\u001b[0;34m(\u001b[0m\u001b[0mval_scores\u001b[0m\u001b[0;34m)\u001b[0m\u001b[0;34m)\u001b[0m\u001b[0;34m\u001b[0m\u001b[0;34m\u001b[0m\u001b[0m\n\u001b[1;32m     47\u001b[0m         \u001b[0mval_acc_list\u001b[0m\u001b[0;34m.\u001b[0m\u001b[0mappend\u001b[0m\u001b[0;34m(\u001b[0m\u001b[0ml4\u001b[0m\u001b[0;34m)\u001b[0m\u001b[0;34m\u001b[0m\u001b[0;34m\u001b[0m\u001b[0m\n",
      "\u001b[0;32m<ipython-input-214-e6fc8e2f1bfc>\u001b[0m in \u001b[0;36mscore\u001b[0;34m(x, y)\u001b[0m\n\u001b[1;32m      1\u001b[0m \u001b[0;32mdef\u001b[0m \u001b[0mscore\u001b[0m\u001b[0;34m(\u001b[0m\u001b[0mx\u001b[0m\u001b[0;34m,\u001b[0m \u001b[0my\u001b[0m\u001b[0;34m)\u001b[0m\u001b[0;34m:\u001b[0m\u001b[0;34m\u001b[0m\u001b[0;34m\u001b[0m\u001b[0m\n\u001b[1;32m      2\u001b[0m     \u001b[0;31m# print(f'x={x}, y={y}')\u001b[0m\u001b[0;34m\u001b[0m\u001b[0;34m\u001b[0m\u001b[0;34m\u001b[0m\u001b[0m\n\u001b[0;32m----> 3\u001b[0;31m     \u001b[0my_pred\u001b[0m \u001b[0;34m=\u001b[0m \u001b[0mto_np\u001b[0m\u001b[0;34m(\u001b[0m\u001b[0mnet2\u001b[0m\u001b[0;34m(\u001b[0m\u001b[0mV\u001b[0m\u001b[0;34m(\u001b[0m\u001b[0mx\u001b[0m\u001b[0;34m)\u001b[0m\u001b[0;34m)\u001b[0m\u001b[0;34m)\u001b[0m\u001b[0;34m.\u001b[0m\u001b[0msum\u001b[0m\u001b[0;34m(\u001b[0m\u001b[0;34m)\u001b[0m \u001b[0;34m>=\u001b[0m \u001b[0;36m0\u001b[0m\u001b[0;34m\u001b[0m\u001b[0;34m\u001b[0m\u001b[0m\n\u001b[0m\u001b[1;32m      4\u001b[0m     \u001b[0;31m# print(f'y_pred={y_pred}')\u001b[0m\u001b[0;34m\u001b[0m\u001b[0;34m\u001b[0m\u001b[0;34m\u001b[0m\u001b[0m\n\u001b[1;32m      5\u001b[0m     \u001b[0my2\u001b[0m \u001b[0;34m=\u001b[0m \u001b[0mnp\u001b[0m\u001b[0;34m.\u001b[0m\u001b[0margmax\u001b[0m\u001b[0;34m(\u001b[0m\u001b[0my\u001b[0m\u001b[0;34m)\u001b[0m\u001b[0;34m\u001b[0m\u001b[0;34m\u001b[0m\u001b[0m\n",
      "\u001b[0;32m~/opt/anaconda3/lib/python3.6/site-packages/torch/nn/modules/module.py\u001b[0m in \u001b[0;36m__call__\u001b[0;34m(self, *input, **kwargs)\u001b[0m\n\u001b[1;32m    539\u001b[0m             \u001b[0mresult\u001b[0m \u001b[0;34m=\u001b[0m \u001b[0mself\u001b[0m\u001b[0;34m.\u001b[0m\u001b[0m_slow_forward\u001b[0m\u001b[0;34m(\u001b[0m\u001b[0;34m*\u001b[0m\u001b[0minput\u001b[0m\u001b[0;34m,\u001b[0m \u001b[0;34m**\u001b[0m\u001b[0mkwargs\u001b[0m\u001b[0;34m)\u001b[0m\u001b[0;34m\u001b[0m\u001b[0;34m\u001b[0m\u001b[0m\n\u001b[1;32m    540\u001b[0m         \u001b[0;32melse\u001b[0m\u001b[0;34m:\u001b[0m\u001b[0;34m\u001b[0m\u001b[0;34m\u001b[0m\u001b[0m\n\u001b[0;32m--> 541\u001b[0;31m             \u001b[0mresult\u001b[0m \u001b[0;34m=\u001b[0m \u001b[0mself\u001b[0m\u001b[0;34m.\u001b[0m\u001b[0mforward\u001b[0m\u001b[0;34m(\u001b[0m\u001b[0;34m*\u001b[0m\u001b[0minput\u001b[0m\u001b[0;34m,\u001b[0m \u001b[0;34m**\u001b[0m\u001b[0mkwargs\u001b[0m\u001b[0;34m)\u001b[0m\u001b[0;34m\u001b[0m\u001b[0;34m\u001b[0m\u001b[0m\n\u001b[0m\u001b[1;32m    542\u001b[0m         \u001b[0;32mfor\u001b[0m \u001b[0mhook\u001b[0m \u001b[0;32min\u001b[0m \u001b[0mself\u001b[0m\u001b[0;34m.\u001b[0m\u001b[0m_forward_hooks\u001b[0m\u001b[0;34m.\u001b[0m\u001b[0mvalues\u001b[0m\u001b[0;34m(\u001b[0m\u001b[0;34m)\u001b[0m\u001b[0;34m:\u001b[0m\u001b[0;34m\u001b[0m\u001b[0;34m\u001b[0m\u001b[0m\n\u001b[1;32m    543\u001b[0m             \u001b[0mhook_result\u001b[0m \u001b[0;34m=\u001b[0m \u001b[0mhook\u001b[0m\u001b[0;34m(\u001b[0m\u001b[0mself\u001b[0m\u001b[0;34m,\u001b[0m \u001b[0minput\u001b[0m\u001b[0;34m,\u001b[0m \u001b[0mresult\u001b[0m\u001b[0;34m)\u001b[0m\u001b[0;34m\u001b[0m\u001b[0;34m\u001b[0m\u001b[0m\n",
      "\u001b[0;32m<ipython-input-158-39044bc1436b>\u001b[0m in \u001b[0;36mforward\u001b[0;34m(self, feat_idx)\u001b[0m\n\u001b[1;32m     13\u001b[0m         \u001b[0midx\u001b[0m \u001b[0;34m=\u001b[0m \u001b[0mfeat_idx\u001b[0m \u001b[0;34m-\u001b[0m \u001b[0;36m1\u001b[0m\u001b[0;34m\u001b[0m\u001b[0;34m\u001b[0m\u001b[0m\n\u001b[1;32m     14\u001b[0m         \u001b[0midx2\u001b[0m \u001b[0;34m=\u001b[0m \u001b[0;34m[\u001b[0m\u001b[0ma\u001b[0m \u001b[0;32mfor\u001b[0m \u001b[0ma\u001b[0m \u001b[0;32min\u001b[0m \u001b[0midx\u001b[0m \u001b[0;32mif\u001b[0m \u001b[0ma\u001b[0m \u001b[0;34m>=\u001b[0m \u001b[0;36m0\u001b[0m\u001b[0;34m]\u001b[0m\u001b[0;34m\u001b[0m\u001b[0;34m\u001b[0m\u001b[0m\n\u001b[0;32m---> 15\u001b[0;31m         \u001b[0midx3\u001b[0m \u001b[0;34m=\u001b[0m \u001b[0mnp\u001b[0m\u001b[0;34m.\u001b[0m\u001b[0marray\u001b[0m\u001b[0;34m(\u001b[0m\u001b[0midx2\u001b[0m\u001b[0;34m)\u001b[0m\u001b[0;34m\u001b[0m\u001b[0;34m\u001b[0m\u001b[0m\n\u001b[0m\u001b[1;32m     16\u001b[0m         \u001b[0mv\u001b[0m \u001b[0;34m=\u001b[0m \u001b[0mself\u001b[0m\u001b[0;34m.\u001b[0m\u001b[0mw\u001b[0m\u001b[0;34m(\u001b[0m\u001b[0mV\u001b[0m\u001b[0;34m(\u001b[0m\u001b[0midx3\u001b[0m\u001b[0;34m)\u001b[0m\u001b[0;34m)\u001b[0m\u001b[0;34m\u001b[0m\u001b[0;34m\u001b[0m\u001b[0m\n\u001b[1;32m     17\u001b[0m         \u001b[0;31m# r = self.r(feat_idx)\u001b[0m\u001b[0;34m\u001b[0m\u001b[0;34m\u001b[0m\u001b[0;34m\u001b[0m\u001b[0m\n",
      "\u001b[0;31mKeyboardInterrupt\u001b[0m: "
     ]
    }
   ],
   "source": [
    "print(f'lr={lr}')\n",
    "f = open(filename, 'a')\n",
    "\n",
    "for epoch in range(5000):\n",
    "    print('')\n",
    "    print('epoch:', epoch)\n",
    "    print('time:', datetime.now())\n",
    "    loss_list = [0]\n",
    "    for index, t in tqdm(enumerate(md.trn_ds), total=len(md.trn_ds)):\n",
    "        xt, _a, _b, yt = t\n",
    "        y_pred = net2(V(xt))\n",
    "        l = loss(y_pred, V(yt))\n",
    "        # l = loss(yt, y_pred)\n",
    "        loss_list.append(l)\n",
    "        # print(f'{index}, {l}, {datetime.now().time()}')\n",
    "\n",
    "        # Backward pass: \n",
    "        # compute gradient of the loss with respect to \n",
    "        # model parameters\n",
    "        l.backward()\n",
    "        net2.w.weight.data -= net2.w.weight.grad.data * lr\n",
    "        # net2.b.data -= net2.b.grad.data * lr\n",
    "        \n",
    "        net2.w.weight.grad.data.zero_()\n",
    "        # net2.b.grad.data.zero_()   \n",
    "\n",
    "    if epoch % 1 == 0:\n",
    "        train_scores = []\n",
    "        for t in tqdm(md.trn_ds, total=len(md.trn_ds)):\n",
    "            x, _a, _b, y = t\n",
    "            train_scores.append(loss(net2(V(x)), V(y)))\n",
    "        l2 = np.mean(to_np(train_scores))\n",
    "        train_loss_list.append(l2)\n",
    "\n",
    "        val_scores = []\n",
    "        for t in tqdm(md.val_ds, total=len(md.val_ds)):\n",
    "            x, _a, _b, y = t\n",
    "            train_scores.append(loss(net2(V(x)), V(y)))\n",
    "        l3 = np.mean(to_np(train_scores))\n",
    "        val_loss_list.append(l3)\n",
    "                \n",
    "        val_scores = []\n",
    "        for t in tqdm(md.val_ds, total=len(md.val_ds)):\n",
    "            x, _a, _b, y = t\n",
    "            val_scores.append(score(x,y))\n",
    "        l4 = np.mean(to_np(val_scores))\n",
    "        val_acc_list.append(l4)\n",
    "\n",
    "        # print(f'epoch={epoch}, score={np.mean(val_scores)}')\n",
    "        print(f'epoch={epoch}, score={l2}')\n",
    "        print(f'epoch={epoch}, score={l3}')\n",
    "        print(f'epoch={epoch}, score={l4}')\n",
    "        f.write(f\"{l2}\\t{l3}\\t{l4}\\n\")\n",
    "        f.flush()\n",
    "f.close()"
   ]
  },
  {
   "cell_type": "code",
   "execution_count": null,
   "metadata": {
    "lines_to_next_cell": 2
   },
   "outputs": [],
   "source": []
  },
  {
   "cell_type": "code",
   "execution_count": 221,
   "metadata": {},
   "outputs": [],
   "source": [
    "import matplotlib.pyplot as plt\n",
    "import pandas as pd"
   ]
  },
  {
   "cell_type": "code",
   "execution_count": 222,
   "metadata": {},
   "outputs": [],
   "source": [
    "length=20\n",
    "df = pd.DataFrame({\n",
    "    'train':train_loss_list[:length], \n",
    "    'valid':val_loss_list[:length],\n",
    "    'valid_acc':val_acc_list[:length]\n",
    "})"
   ]
  },
  {
   "cell_type": "code",
   "execution_count": 223,
   "metadata": {},
   "outputs": [
    {
     "data": {
      "text/plain": [
       "array([<matplotlib.axes._subplots.AxesSubplot object at 0x1a36431518>,\n",
       "       <matplotlib.axes._subplots.AxesSubplot object at 0x1a364ae9e8>,\n",
       "       <matplotlib.axes._subplots.AxesSubplot object at 0x1a36cb5a58>], dtype=object)"
      ]
     },
     "execution_count": 223,
     "metadata": {},
     "output_type": "execute_result"
    },
    {
     "data": {
      "image/png": "[encoded data removed]",
      "text/plain": [
       "<Figure size 432x288 with 3 Axes>"
      ]
     },
     "metadata": {
      "needs_background": "light"
     },
     "output_type": "display_data"
    }
   ],
   "source": [
    "df.plot(subplots=True)"
   ]
  },
  {
   "cell_type": "code",
   "execution_count": 224,
   "metadata": {},
   "outputs": [
    {
     "data": {
      "text/plain": [
       "[<matplotlib.lines.Line2D at 0x1a36c95a20>]"
      ]
     },
     "execution_count": 224,
     "metadata": {},
     "output_type": "execute_result"
    },
    {
     "data": {
      "image/png": "[encoded data removed]",
      "text/plain": [
       "<Figure size 432x288 with 1 Axes>"
      ]
     },
     "metadata": {
      "needs_background": "light"
     },
     "output_type": "display_data"
    }
   ],
   "source": [
    "plt.plot(loss_list)"
   ]
  },
  {
   "cell_type": "code",
   "execution_count": 227,
   "metadata": {},
   "outputs": [
    {
     "data": {
      "text/plain": [
       "[<matplotlib.lines.Line2D at 0x1a38687320>]"
      ]
     },
     "execution_count": 227,
     "metadata": {},
     "output_type": "execute_result"
    },
    {
     "data": {
      "image/png": "[encoded data removed]",
      "text/plain": [
       "<Figure size 432x288 with 1 Axes>"
      ]
     },
     "metadata": {
      "needs_background": "light"
     },
     "output_type": "display_data"
    }
   ],
   "source": [
    "plt.plot(val_acc_list)"
   ]
  },
  {
   "cell_type": "markdown",
   "metadata": {
    "heading_collapsed": true
   },
   "source": [
    "## Deep NB"
   ]
  },
  {
   "cell_type": "code",
   "execution_count": null,
   "metadata": {
    "hidden": true
   },
   "outputs": [],
   "source": []
  }
 ],
 "metadata": {
  "jupytext": {
   "cell_metadata_filter": "-all",
   "formats": "ipynb,py:light",
   "notebook_metadata_filter": "-all"
  },
  "kernelspec": {
   "display_name": "Python 3",
   "language": "python",
   "name": "python3"
  },
  "language_info": {
   "codemirror_mode": {
    "name": "ipython",
    "version": 3
   },
   "file_extension": ".py",
   "mimetype": "text/x-python",
   "name": "python",
   "nbconvert_exporter": "python",
   "pygments_lexer": "ipython3",
   "version": "3.6.9"
  }
 },
 "nbformat": 4,
 "nbformat_minor": 2
}
