{
 "cells": [
  {
   "cell_type": "markdown",
   "metadata": {
    "toc": "true"
   },
   "source": [
    "# Table of Contents\n",
    " <p><div class=\"lev1 toc-item\"><a href=\"#Linear-Regression-problem\" data-toc-modified-id=\"Linear-Regression-problem-1\"><span class=\"toc-item-num\">1&nbsp;&nbsp;</span>Linear Regression problem</a></div><div class=\"lev1 toc-item\"><a href=\"#Gradient-Descent\" data-toc-modified-id=\"Gradient-Descent-2\"><span class=\"toc-item-num\">2&nbsp;&nbsp;</span>Gradient Descent</a></div><div class=\"lev1 toc-item\"><a href=\"#Gradient-descent-with-numpy\" data-toc-modified-id=\"Gradient-descent-with-numpy-3\"><span class=\"toc-item-num\">3&nbsp;&nbsp;</span>Gradient descent with numpy</a></div>"
   ]
  },
  {
   "cell_type": "code",
   "execution_count": 1,
   "metadata": {
    "collapsed": true
   },
   "outputs": [],
   "source": [
    "%matplotlib inline\n",
    "from fastai.learner import *\n",
    "from matplotlib import rcParams, animation, rc\n",
    "from ipywidgets import interact, interactive, fixed\n",
    "from ipywidgets.widgets import *\n",
    "rc('animation', html='html5')\n",
    "rcParams['figure.figsize'] = 3, 3"
   ]
  },
  {
   "cell_type": "markdown",
   "metadata": {},
   "source": [
    "In this part of the lecture we explain Stochastic Gradient Descent (SGD) which is an **optimization** method commonly used in neural networks. We will illustrate the concepts with concrete examples."
   ]
  },
  {
   "cell_type": "markdown",
   "metadata": {},
   "source": [
    "#  Linear Regression problem"
   ]
  },
  {
   "cell_type": "markdown",
   "metadata": {},
   "source": [
    "The goal of linear regression is to fit a line to a set of points."
   ]
  },
  {
   "cell_type": "code",
   "execution_count": 2,
   "metadata": {
    "collapsed": true
   },
   "outputs": [],
   "source": [
    "# Here we generate some fake data\n",
    "def lin(a,b,x): return a*x+b\n",
    "\n",
    "def gen_fake_data(n, a, b):\n",
    "    x = s = np.random.uniform(0,1,n) \n",
    "    y = lin(a,b,x) + 0.1 * np.random.normal(0,3,n)\n",
    "    return x, y\n",
    "\n",
    "x, y = gen_fake_data(50, 3., 8.)"
   ]
  },
  {
   "cell_type": "code",
   "execution_count": 3,
   "metadata": {},
   "outputs": [
    {
     "data": {
      "image/png": "[encoded data removed]",
      "text/plain": [
       "<matplotlib.figure.Figure at 0x7fef474cddd8>"
      ]
     },
     "metadata": {},
     "output_type": "display_data"
    }
   ],
   "source": [
    "plt.scatter(x,y, s=8); plt.xlabel(\"x\"); plt.ylabel(\"y\"); "
   ]
  },
  {
   "cell_type": "markdown",
   "metadata": {},
   "source": [
    "You want to find **parameters** (weights) $a$ and $b$ such that you minimize the *error* between the points and the line $a\\cdot x + b$. Note that here $a$ and $b$ are unknown. For a regression problem the most common *error function* or *loss function* is the **mean squared error**. "
   ]
  },
  {
   "cell_type": "code",
   "execution_count": 4,
   "metadata": {
    "collapsed": true
   },
   "outputs": [],
   "source": [
    "def mse(y_hat, y): return ((y_hat - y) ** 2).mean()"
   ]
  },
  {
   "cell_type": "markdown",
   "metadata": {},
   "source": [
    "Suppose we believe $a = 10$ and $b = 5$ then we can compute `y_hat` which is our *prediction* and then compute our error."
   ]
  },
  {
   "cell_type": "code",
   "execution_count": 5,
   "metadata": {},
   "outputs": [
    {
     "data": {
      "text/plain": [
       "4.5521476938590215"
      ]
     },
     "execution_count": 5,
     "metadata": {},
     "output_type": "execute_result"
    }
   ],
   "source": [
    "y_hat = lin(10,5,x)\n",
    "mse(y_hat, y)"
   ]
  },
  {
   "cell_type": "code",
   "execution_count": 6,
   "metadata": {
    "collapsed": true
   },
   "outputs": [],
   "source": [
    "def mse_loss(a, b, x, y): return mse(lin(a,b,x), y)"
   ]
  },
  {
   "cell_type": "code",
   "execution_count": 7,
   "metadata": {},
   "outputs": [
    {
     "data": {
      "text/plain": [
       "4.5521476938590215"
      ]
     },
     "execution_count": 7,
     "metadata": {},
     "output_type": "execute_result"
    }
   ],
   "source": [
    "mse_loss(10, 5, x, y)"
   ]
  },
  {
   "cell_type": "markdown",
   "metadata": {},
   "source": [
    "So far we have specified the *model* (linear regression) and the *evaluation criteria* (or *loss function*). Now we need to handle *optimization*; that is, how do we find the best values for $a$ and $b$? How do we find the best *fitting* linear regression."
   ]
  },
  {
   "cell_type": "markdown",
   "metadata": {},
   "source": [
    "# Gradient Descent"
   ]
  },
  {
   "cell_type": "markdown",
   "metadata": {},
   "source": [
    "For a fixed dataset $x$ and $y$ `mse_loss(a,b)` is a function of $a$ and $b$. We would like to find the values of $a$ and $b$ that minimize that function.\n",
    "\n",
    "**Gradient descent** is an algorithm that minimizes functions. Given a function defined by a set of parameters, gradient descent starts with an initial set of parameter values and iteratively moves toward a set of parameter values that minimize the function. This iterative minimization is achieved by taking steps in the negative direction of the function gradient.\n",
    "\n",
    "Here is gradient descent implemented in [PyTorch](http://pytorch.org/)."
   ]
  },
  {
   "cell_type": "code",
   "execution_count": 8,
   "metadata": {},
   "outputs": [
    {
     "data": {
      "text/plain": [
       "((10000,), (10000,))"
      ]
     },
     "execution_count": 8,
     "metadata": {},
     "output_type": "execute_result"
    }
   ],
   "source": [
    "# generate some more data\n",
    "x, y = gen_fake_data(10000, 3., 8.)\n",
    "x.shape, y.shape"
   ]
  },
  {
   "cell_type": "code",
   "execution_count": 9,
   "metadata": {
    "collapsed": true
   },
   "outputs": [],
   "source": [
    "x,y = V(x),V(y)"
   ]
  },
  {
   "cell_type": "code",
   "execution_count": 10,
   "metadata": {},
   "outputs": [
    {
     "data": {
      "text/plain": [
       "(Variable containing:\n",
       " -0.4157\n",
       " [torch.FloatTensor of size 1], Variable containing:\n",
       " -1.6447\n",
       " [torch.FloatTensor of size 1])"
      ]
     },
     "execution_count": 10,
     "metadata": {},
     "output_type": "execute_result"
    }
   ],
   "source": [
    "# Create random weights a and b, and wrap them in Variables.\n",
    "a = V(np.random.randn(1), requires_grad=True)\n",
    "b = V(np.random.randn(1), requires_grad=True)\n",
    "a,b"
   ]
  },
  {
   "cell_type": "code",
   "execution_count": 11,
   "metadata": {},
   "outputs": [
    {
     "name": "stdout",
     "output_type": "stream",
     "text": [
      "129.85772705078125\n",
      "1.0177007913589478\n",
      "0.18388353288173676\n",
      "0.15836361050605774\n",
      "0.14253872632980347\n",
      "0.1303476244211197\n",
      "0.12093732506036758\n",
      "0.11367354542016983\n",
      "0.10806647688150406\n",
      "0.10373842716217041\n"
     ]
    }
   ],
   "source": [
    "learning_rate = 1e-3\n",
    "for t in range(10000):\n",
    "    # Forward pass: compute predicted y using operations on Variables\n",
    "    loss = mse_loss(a,b,x,y)\n",
    "    if t % 1000 == 0: print(loss.data[0])\n",
    "    \n",
    "    # Computes the gradient of loss with respect to all Variables with requires_grad=True.\n",
    "    # After this call a.grad and b.grad will be Variables holding the gradient\n",
    "    # of the loss with respect to a and b respectively\n",
    "    loss.backward()\n",
    "    \n",
    "    # Update a and b using gradient descent; a.data and b.data are Tensors,\n",
    "    # a.grad and b.grad are Variables and a.grad.data and b.grad.data are Tensors\n",
    "    a.data -= learning_rate * a.grad.data\n",
    "    b.data -= learning_rate * b.grad.data\n",
    "    \n",
    "    # Zero the gradients\n",
    "    a.grad.data.zero_()\n",
    "    b.grad.data.zero_()    "
   ]
  },
  {
   "cell_type": "markdown",
   "metadata": {},
   "source": [
    "Nearly all of deep learning is powered by one very important algorithm: **stochastic gradient descent (SGD)**. SGD can be seeing as an approximation of **gradient descent** (GD). In GD you have to run through *all* the samples in your training set to do a single itaration. In SGD you use *only one* or *a subset*  of training samples to do the update for a parameter in a particular iteration. The subset use in every iteration is called a **batch** or **minibatch**."
   ]
  },
  {
   "cell_type": "markdown",
   "metadata": {},
   "source": [
    "# Gradient descent with numpy"
   ]
  },
  {
   "cell_type": "code",
   "execution_count": 21,
   "metadata": {
    "collapsed": true
   },
   "outputs": [],
   "source": [
    "x, y = gen_fake_data(50, 3., 8.)"
   ]
  },
  {
   "cell_type": "code",
   "execution_count": 22,
   "metadata": {
    "collapsed": true
   },
   "outputs": [],
   "source": [
    "def rmse_loss(y,a,b,x): return np.sqrt(mse_loss(y,a,b,x))"
   ]
  },
  {
   "cell_type": "code",
   "execution_count": 23,
   "metadata": {},
   "outputs": [
    {
     "data": {
      "text/plain": [
       "8.1018254840122399"
      ]
     },
     "execution_count": 23,
     "metadata": {},
     "output_type": "execute_result"
    }
   ],
   "source": [
    "a_guess,b_guess = -1., 1.\n",
    "rmse_loss(y, a_guess, b_guess, x)"
   ]
  },
  {
   "cell_type": "code",
   "execution_count": 24,
   "metadata": {
    "collapsed": true
   },
   "outputs": [],
   "source": [
    "lr=0.01\n",
    "def upd():\n",
    "    global a_guess, b_guess\n",
    "    y_pred = lin(a_guess, b_guess, x)\n",
    "    dydb = 2 * (y_pred - y)\n",
    "    dyda = x*dydb\n",
    "    a_guess -= lr*dyda.mean()\n",
    "    b_guess -= lr*dydb.mean()"
   ]
  },
  {
   "cell_type": "code",
   "execution_count": 25,
   "metadata": {},
   "outputs": [
    {
     "data": {
      "text/html": [
       "<video width=\"500\" height=\"400\" controls autoplay loop>\n",
       "  <source type=\"video/mp4\" src=\"data:video/mp4;base64,AAAAHGZ0eXBNNFYgAAACAGlzb21pc28yYXZjMQAAAAhmcmVlAABB721kYXQAAAKvBgX//6vcRem9\n",
       "5tlIt5Ys2CDZI+7veDI2NCAtIGNvcmUgMTQ4IHIyNjk5IGE1ZTA2YjkgLSBILjI2NC9NUEVHLTQg\n",
       "QVZDIGNvZGVjIC0gQ29weWxlZnQgMjAwMy0yMDE2IC0gaHR0cDovL3d3dy52aWRlb2xhbi5vcmcv\n",
       "eDI2NC5odG1sIC0gb3B0aW9uczogY2FiYWM9MSByZWY9MyBkZWJsb2NrPTE6MDowIGFuYWx5c2U9\n",
       "MHgzOjB4MTEzIG1lPWhleCBzdWJtZT03IHBzeT0xIHBzeV9yZD0xLjAwOjAuMDAgbWl4ZWRfcmVm\n",
       "PTEgbWVfcmFuZ2U9MTYgY2hyb21hX21lPTEgdHJlbGxpcz0xIDh4OGRjdD0xIGNxbT0wIGRlYWR6\n",
       "b25lPTIxLDExIGZhc3RfcHNraXA9MSBjaHJvbWFfcXBfb2Zmc2V0PS0yIHRocmVhZHM9MTIgbG9v\n",
       "a2FoZWFkX3RocmVhZHM9MiBzbGljZWRfdGhyZWFkcz0wIG5yPTAgZGVjaW1hdGU9MSBpbnRlcmxh\n",
       "Y2VkPTAgYmx1cmF5X2NvbXBhdD0wIGNvbnN0cmFpbmVkX2ludHJhPTAgYmZyYW1lcz0zIGJfcHly\n",
       "YW1pZD0yIGJfYWRhcHQ9MSBiX2JpYXM9MCBkaXJlY3Q9MSB3ZWlnaHRiPTEgb3Blbl9nb3A9MCB3\n",
       "ZWlnaHRwPTIga2V5aW50PTI1MCBrZXlpbnRfbWluPTEwIHNjZW5lY3V0PTQwIGludHJhX3JlZnJl\n",
       "c2g9MCByY19sb29rYWhlYWQ9NDAgcmM9Y3JmIG1idHJlZT0xIGNyZj0yMy4wIHFjb21wPTAuNjAg\n",
       "cXBtaW49MCBxcG1heD02OSBxcHN0ZXA9NCBpcF9yYXRpbz0xLjQwIGFxPTE6MS4wMACAAAAam2WI\n",
       "hAAQ//73gb8yy18iuslx+ed9LKzPPOQ8cl2JrrjQAAADAAADAnTFsu53XQ2mHYAAArSFfhEKDmAT\n",
       "8c31q7DCF4DTgTflrH78nYf2Gf82bqDzR/4u3NBhdTwGmKtTEZrVuuBeXF71n92V57Fj8+7sejmU\n",
       "/cUL+wX1NQlGwOHdbVcqrckILNeaJPrqlBQ5t/I9hexQOh/f52cWwJYz/fO5N8bX4D9N2DbUT5+U\n",
       "L9m/0VWdm2vbJkquzSdj4wEPQr0EQy3dUUVGMsR3/veV7MQEiJcg1FezE7vel0nJEhKYHwFvs4Lt\n",
       "mF6CafJB8gcYQ4QB1mU78K7vV/zJ6FEqJoAAVIrLvLXhujwG5VtNpz/82rvfa/6zCzEZd5WbbiO/\n",
       "p3hRe0+OGzZr3t17asytnu3o/0Fn/NVAiQUwXhSwx2ZdPnQGx6fx99Hphooqb3JFsF8jqdESM/oY\n",
       "cgxs6CQoaThWaKp8yV5MhEqJqCKr3CZpNEVTKCcq5aWkfmgbVLnN1zHqAvUTNbFIPNQ72OVfdMeA\n",
       "Etp7KrhMrXY3Qe1y5X+yNWC4R1k6hjYYqXy/OcSmLI/6BBL2aP9pL6g+l0k5rxGqiquP0CEalG6/\n",
       "nephO2OJYJXDLW87bjdJZRpTp0lv/ZX0RMK1xeYbm+/01CrfM8JovRhm4Up4nyHeN+O725JUUMdH\n",
       "ajedmujz29GhRN9GXetVsSMIsnbNJkzbwr7lXyIEWoRDUHcIUt6bOkiy3p6kyRQ5GtG/zItTlLwc\n",
       "J0SfmKsA0VlxxnkRIzpMV7SZzfcoXTjHWD7PUgmButXA5bDms8Zuedvx9XhabAnAdM9OGZ3KneH4\n",
       "2KSsXVH66BhnUqEmXjteDRId02N8xC3kqCre/v7ptZh6McGW6kj056ssh2wBbkW5DW8OikLmvysf\n",
       "Eho8lReyuoTMu3bZfwtUshWxYUE2PUb4QYEjheLZ7tidi+aD/qxpficD//E4xMHsZUr34yRYYN6E\n",
       "Bah7otYcGGJv5MZges/1izTZikOxCooX6Yj8u8J2pUFHDf0TTcqYwFVYbwHA6NoWjKiLv2QTG1yj\n",
       "W6yaMVe0RuAWXNzaTU1wCqSrg8gHjxFLTXGQw30nJ9+StgW1Si4yaVmXTQwfSOBbE/G8vhxTRC5s\n",
       "S2f5HWD9qd/fGQiqEwvScgOciwSEfUco6vLuMzp4vwHx08G0tlqZcS7E/BPm5ICu5/VKmrEZWy3J\n",
       "T3qDbChEJzymkG3uVMhSFBBqoU9yW3eeTHI1oAMfQJabb3qGi9HNMEXTZCW1Lss8IdDEImAKxYaO\n",
       "DnyeoOcuZzMohBU7js1q0tqJhnBpe3ftDxsoOuZuxABox6gq/NXoRe+2W5grfEDQL+jyPZPMOhpC\n",
       "uUINMWBIlDCJf1yRujEwxC/j0oUcs5BWxchbaX8trBRI1pVGWvGD02MfrziAYxQY/YMsl0GdrdT3\n",
       "8UBAOWrAR2kMWApzUWD9zhVZFVDqRz4leL9UKkvBfG1QvQXSqXGLSF+3AhD6aTw8o40U3xizwAQP\n",
       "AQ8loDS88ZwE9p+aAw5X7mBJW844YvQTtvuTayGunDFB+gfD6M2z/2buB8Rv8frKuIH7h8UZrhD1\n",
       "LQNC7/olmWEuYY257FKiA07ARcq9XibQXtCj/UCb2U9uftB6gfzA8D3rtCE883gRgxhv3HuXly/P\n",
       "Bv/kSCP5P5QPGr3IpDm71TstFSAYoXX2+3zT+gSTJxlVQgmDFgTRUWqvql5I/bJN1z84hg4atVge\n",
       "iXG5n59Vujj9eeTFkLa+ZnjW0BqN+qKd01Vq69kF2HiV1fip0JJW+zd4Rh2JF2DALkI35KO1FGGL\n",
       "56m6+aGEdp7Tyj65Qj/QbJWeUOd/Ep8UmYGcgqsvjIhLPGGQPll226cHc2WwnNmWU8rrlYmDkYu6\n",
       "dDHxUtwoQGeGDx1DF7PAyva95pmcd1f5GSl5f+mmDbZklkMgSaU9e7NOnyDNf8GVYiDi+qEQ7+Fd\n",
       "Dh9qDyk06/XHAuKo72fcpERXdKM0HEGhcD8HoFG630MMgdzqhD6Tz938+dcilxL36EIOa3cYu15c\n",
       "lcQuYHj3WKBHtmpGiFgNVxsgfGJVN08fGKTg+0yoxW4PkfJnoJfJLFn8ol6p3dvL7l+cLPsgjY2N\n",
       "lWR6SFN5tjz42NNktzOyOuEDCiQiKorZ17vuB8/t/LI1NvpY8JE3uAxovN83pnVBiX/jF2JeLM9e\n",
       "e1N5E1o3RaTESH5P2lRHPmS4AbQLbqDwaI6LlFtlYXh3i3jK7L2MgQPmaOZt/Yo9hVeNZGODJQHS\n",
       "dt4ifC74MUmMbbMgvPGZtcwWX0DcxE2kfOPRFvaPcQFYcZ5GfxuUBN6X3kAaEuR5j1+p3aFbSoby\n",
       "h+8dRjeOLykBoGWFCByAuAWE30BCF2gVdLoHb06lQSG6mcW4FGhQAnzNoVsGYV1UxVxXU6kHg7Jh\n",
       "VWLclNlVWl0zxQ7mkih8IXwvxjzlWpDX9gVEc0DmyJktdwD1s13i0trLaPVpbHnGKnSaijYtYkdc\n",
       "+oDwcGdub/9s1m62czKrZGjg5Jg8NlypKPKRdhYrP0xJitDzYt2TMMdO5N0tkrpOHLCI2w6apMX0\n",
       "i1Ag2fPyFVSQA4gXTITeS187ulnjwwwCV8ch9bLFk/taHXSZuVAlONYzWJG2KETZNDGUCUBVsC1I\n",
       "jXzyT9Mz2QvngxODUVwFjPsqUCNnQfGxIfd5srkl8ipNp6IY1OzGBTEfeNnS+LB0htDTUy0FS+2m\n",
       "PWt3FtpWUc9tSgDUq/EdtYwXdRRBA/fSka92GM+r4+l+06pB8QHJnUobZQ8ZofvUVckEdch/3Rg6\n",
       "isFmVzgMFOIedLP9+E7U4gPqy2CSMPsRR7sJkSwESsVz7R8y6VW0kqIOSlLwR2D7qDtjSR3X9RTE\n",
       "GjYZS4T0OFzqXi7dnDctNzfKE2ve0hW604x/bedXY/6/fgmtBz8shHpN6P9oLhqn8Ogw0qeavkKs\n",
       "jQs3rrjof2nEmYuyI5vaf1wEbV+Gk+Sdfo1xkqdkRks/xQPNbbDGr4keTkAA/gfp3sNy7n/QOg6f\n",
       "kUni0diguDWuqv7v2xPUV896J508lz9YF7eEaMlQNVJywJP1FMR983vYohS3clHdaceqzyb/e/xv\n",
       "RAyfU+VHKBu+ZUxbaavErE7rH8inA8zBlXkbxA21NvL/E2W6wygfDgZdE04a8jZRxTRrHsCVN1to\n",
       "kddjI6aPHxd7mcVgb4IYJH1VGYVqh1VbxkyuEerbLqoFe0CUEkToDPCHxz/in1eJF0VqA3pl8eV5\n",
       "Zn5ah6WYouwDCFS9LjFUpiHunM3L2kacHk9RieLML+VlfZdyeRVsyyZsLS1xfjnyy7M8spnKvuqD\n",
       "z7ha8oszPJO1Z8sWjNPboQPktgSqWFLTI7/Y1alGxj9ZQ52GlG15NKIFXpI/GeHGKFVE5IC27dg4\n",
       "O84xcpydr6XW0xkeRrrCe7UbZahdiIqWSaoU2I3Wjk6+qzx2GOYOmZ3EiNH5QpWfT8aVQnrtBeQ4\n",
       "y9IgGneKyGnCdmZ0pKkL4bqzvA2J1QNbPxEeDEm8dyj4SDXd6cXym9rEIxWQLm9BzVtmpR2w/V2+\n",
       "iMwQ8YrblCdQKDnLA5ulMyVJeew2NbCP5BZUw9egbR01L17u7E2v4usXlavL98a3XNQNxMpTsUoZ\n",
       "SM0Cp01XbRD3LGGkdLXe/meBjXg+3pjaCiTkvEJoYtWk+x8PBEg05Elx2+jOoGb9EWOZBCORj4rj\n",
       "gH8PHdrcaMhzCxAb+/JaGTw4eQtsEENybT1OAFybAwGbo9dsZo0KLGsTKKYEU3p8WgayP7j3QQyv\n",
       "7YCqbGUIsHEL4qu1nAKHWAVaqEXeqUYgeRMdvgfV6w7MfHdx8TqCcPOWfK9G/7JuuVHd0YgYIuh5\n",
       "8EpM12l7HR9IZ8Gs+8vy5CJZGtv/15mmt9Vk6DOD2+nB4EB6F9wHLnCg3dNRJdUoazQxrsOY1f4H\n",
       "w9q/19hovrUIX8km4Rl4z57he7UypO/Ws1Np21XCS1N8z9Q5PJEzh/ObHqv7jxgano0Lw1eO9kIt\n",
       "VpDVVRjAbHyHtmaEvAiJs0LmUaN1xVGT6Ie3GwAXheFy5EdXXEokS62FzvNQ2f5xiinxTDUe3J/v\n",
       "j+ZEeh4YoruT3AJtmafZ+rKhHih5EM5R4kzExtfNazbJNJqPBmQUTA1Z/4bnO3LsfmerSoQCE0o7\n",
       "LRtHQVY6iifZDqS3/svKebmKL/2U+QI3sM1R/covbt7+smEPpxnO4UALE9Bc0fIwRKkMDeBdTIdj\n",
       "hq1HZt3Urxx/3gwViOVz1yH1I9/AQH8WUI5pxATkQ2mSOAI7mthsU/eszdaESG831l7UXhXSsOyg\n",
       "5IVfn5Rh4enqG22zZXv5CZJGtgqQULdSNqP+OAe0hVqmf7Hs5xze8qZCSNmytqxHD/os0QrIp4qr\n",
       "VrQtOUD+wJz6X63S9z1/bBbJ62tnrZH2DvBU4KgXhgOGUKAmSFnYaWzPQmMJk1Q8kntrDb/s/0bh\n",
       "9aifHRXVngZrXvz6d6FJrKV7uDsbhmXSstn94u+4OzpRrbRYNdsmKJ3psIybpUz8JKzHv5zIwpBy\n",
       "R67S62jBMrInoQf3vZTH0rF26BjMT4FHCzyGokdamjTI6Eyqd8tP9f9J3dGBiPa0Ex7t4xsOycyj\n",
       "ixRmQuAGWDkgyWp9iNPt6lWTYgmkxclQIJQtFTOpcnbc901+GLOZA6MLnizY96NTKJ/K6xTeePNK\n",
       "AIc6CbruXE2R7+CesPyPSR/rpmZPKbiG8cD13vzJBO1NgPiQTSm+SJhjxKumwDqfq+ruNDd6NXZZ\n",
       "s1l8LaU6635TBWNuarAlPbXaFHMF2Bnmb7Hm89hADbDkkJ7pZE3gfiFxzgr+HoGM5+GJclYCC5iJ\n",
       "tcqXjPYSaKGPpTx7TGmiTLDeRENE+E7tudaNdVtVY/hyzyqz7weFSZFiyTL41LDnvtxbqR4BRlHo\n",
       "zASDiNtdPLdCfI427JtCwpd4jGnbIPb4MUcI3ZNy1Z5auCtk7XXG2/COVTjTC2Rgo+laWNe1oN+q\n",
       "6pLB2SH/oXAYb7473Ve31xtHyimaNJBe3cRI4a3q9qY3WLQ4YKFi9SEvP3fy+LepytuUq54EjoXd\n",
       "Oeghp2yszQ7YrcifBJ0Rv4NrHs0yzlaDsW4wxiys0oGkOh+XgcLYCj39x97stQPq0jGNFUPYWowq\n",
       "ImLjAd9gsmzSyICM1kAykvn92/F/p8P0mauSuYP6sJusZZfwtaVwko1q09nRnJQtckY+fLdoDht9\n",
       "n9o/ug4QUOj51x/BwWCLfrxpyvSB0gbqTM0N3sFlkiAmwWbZIf16nh25oNw33tLapYLwjeN6pQ3j\n",
       "O/CAy4kcyMTFNWw9cnWlFwr+eMsaUxrZ6d68PsnXmET3NiJfulAoJnbBvvQ3YV15gGtaL6OhYItt\n",
       "mEC1r0ZuSRleZHpUrBnczeateIcqQeHnkbXY76X2qXM0QcKJhwVAqFMlDUX8NVxZWFbAIJ5BFP3H\n",
       "4pTOgvbTYjkQ7xDP4ETT1/bkR6Pbmwh51oOwSYZBXgaXnzNhxdQAf14mEInjvQ9KnJaLL3tCuEaS\n",
       "DgCS+EcvxUKKEkiAVlBlaAD1WQfMUa9cBOXgzWvhD5BTwdTJG9W7CoFDQoZ+yWPOw4Rrw2Us1zjb\n",
       "Yk6khoaEVGipayUgeettYl5k6tOJxTdsvz5ZUoIfkmkxLqvluj0DifYPh9AWRMu8pT6lgrth6SfG\n",
       "H/Dhy6O1Qkg+br/XaDLIA0REYuu6vJRh52wBqIlURH6qy/hk1DBkO+NeOtTgusMdv2UJnUjfqUPG\n",
       "Wc/IgZxbjk4LkEtexKyZJUj1KNIkwlKbhc+wHkYIJqdrciBEdj4XcZ7fSx3fxjNdDg7y966BUL+v\n",
       "WzkrM319kxlmL3m4B4PUKFMj7zo66XyYJfE/CBXheWVFQ9x7jlZepR1dyoRbhki19mFmVq4hu47d\n",
       "v+P8Xnb6lg5ZvIjAW7/zMLeFqjgNQC9BiVHg9H2Qx1B1ci2NeEg03q51ZChZ/MUuwbRVyIoNr+KZ\n",
       "/2xliHpOInyG4Vb79agzcMswysI0iVsoSM7j8dP8uK/hSDbaDPoXr/yK3tkY9odDKRvJaJVXLzvm\n",
       "bNX4cX6P0a7y6T/DL+f+O9kD4xPyXbLo5btH1/qcF20BFmACgnoD5vgaPjxhaOBwRUF8VU5JCRad\n",
       "NYc/wHI9t2bbNfU+rNp8iqs5U8KHjEmNPcAh5GNqkHxVV/4gXqs8VZch4vX047TCMa00XTSfgvlL\n",
       "dmRJ0M0O9+1Ogejbbwx5B6ltwHuQV6h8stgHPfeSR/YSNKl5wlyVwbNakpg/LIeHE5jo5FQSsJuj\n",
       "AsD3Y4FkrLwR2N8zupFpOYq7ppVrMx2k2JCqMDvofYOKPmqOTNnL7XQM8j/uKRWP4cUf52cHFZQ4\n",
       "j2sYzCHv9N1tKhDzJ+99o/Z27AqNGM/xUIdmOE+lONVtdLPGZqmbw0oErmp4ro58bcTZ3MIDKGw+\n",
       "dyfH1mM0rDLD9XNG4Jo4B4lfrYuT7eIzemspM11DbfPQIRebWM7Pyx4yBUoVT2md6o+w+XjLY6EB\n",
       "5Wad77nl5DzQgOQnmhQH6PU58HZa9yXWgLYzHdIBbWL58n//yGwWbIP3JZWtrMbEdGkVJ1nzi0To\n",
       "Pg+InND3FkTXNJfswFAvrHmirvGeDE2y/MdKpUuS5vz8w+AqxbNgxuRWV1s8kOrgYvvafp4uVhHY\n",
       "V4rNe+L275E+svvBUHeKCw7MRFBtyhBTeFF2svGKMLzKYQ696q31cXWrXSkqhpyJerhASe+NrKYu\n",
       "9UEq7Pizg13ueLunUjPY+WqpP9/8S5Xb1JhztVDlM7+GGkU3By6gwiMHA7n2f4V/oOB1gVlP6Zhl\n",
       "RpdnW90MUgztuuOt2Eo0FBMFewhqUWt9UZ/ciTD0nXm6/g11ovLS/YaOyJr91vpcbvt/yreDNkhb\n",
       "blRDwAAMWT8JaeKoaKrhTat6lJkuaEL4gLL9HAoukEoO51oTFDiUwL3t5lPqIFercCXSxGZHY7fq\n",
       "dadEMjLI7e+8aLF0MGEKQvmR+fpeggA/dMA2BtUIAeewDgGb8+q+OkSzDOCsH/hINq/c2040uY9s\n",
       "mvCXss7Xk7oAKA1/QDQM4WF6MX+A+QA/C1MU4B+gsSSZAkJtLE8SgkStg7RdgVt1vcbChRVoX0xR\n",
       "ZC7/adsXeaPkQ/c1djkPhIQKFu9t4XTkdJknMa3xO+GHIwk0GXrqomxQPSWa7YpiAAa4dNGAgjyh\n",
       "KH2kFzj0klJd6IElV1X3s7v0S3erWqc2MvFLYEAD0R3WeMdmGIpdl2yQ2G8UjEwoIJH5VQNZvuAj\n",
       "a+8DUVc6C5ZoIrOxgB96S1wmHQRLPhw4DC0JhPmsDISM6D2sczyFGGuCDjpLU36ulvLXdSZXgj0o\n",
       "bulnu9Y3Im9EDaxzPIUsOpcREMAonLW2gZR6uwB78Go74bL0lZe5r9XQN2Y3+TaDY32V0bxXll2s\n",
       "a/br5tLLzEVILD1EpGyaXp6y4GjnpDq1imuZFCfl/RnBm5rMZlRnqo7yWYwqgp5CQ15yLyfEkm6X\n",
       "Y86ZxO1WJpbbjNs8WDPqOe1y5lGAudyIkgwCvAMNoWC4mls0306VQTz9yT8ULq+mY4x8BFrEV7Ev\n",
       "QjQgDFMm6DICqtBiNJZVmQ+HNK3reRpoREO+++RLHva/4m+X5a3nZDBH0pF+q3IpmV4MyJFzMvFK\n",
       "zoz2thKXNhEPhW6l0n5yYBIOOxLA4B2H1/wWoXo4XisVPzTJCPnV46vmoy6OdcMsVMyUKPgHCkeF\n",
       "S9i96JinT6yTLSTCGh64lz+3dg9xOQi0f+xRPsv0BKsicNLF2fmXgS4ByNIwzdPUmBIMpxS6r1EW\n",
       "B6tZ9zpjU7cJC5pmuyAoG4oiRaJDLCvmhlGvso5SxJ7hhzkdAocrgJAErkWwyrNPtx7CPyRviDj8\n",
       "TCsoMsTL5uxkJRJ9nqKYaqWVvOuQc1sJ5+RJUluQV4R+ukl/0ubwxAL70Qtq3SkAINI5XP7u/5ux\n",
       "xryoZvP3lmO0h9T/xZd2MU0SqP1AHtr9Ax595VZ3mebF5x9R5gSpM1sbY2M4PM996KoWXOdAdWgp\n",
       "KdTYRBUwJMLxOdvnz7fdMAoYTep8xCFzqVXvYmQetY4WYLJM9vdboV47E2kG52mwqegkDRvLXDLD\n",
       "ShIOQy3zJvVnC7xLpgqE+bZD38tnHHYT61PAwmZESoGXXxJsLW4oXb+ObGdEnYtu5fA9PDt10E4r\n",
       "FOT4DTDQad67iswVGQZwc+Fu0fWc5hvtmRx/nlC+ULYxCVB41whxvWG+0owpQLWND+4xnNsttyhI\n",
       "VSHYv5cS0wcLdd7NCbkgPeygvplyFoHvoHI/0RQL0wVS8LOcsGNVmnrMtdAx8eIy4odHMRz55WfA\n",
       "d7CXBi4fUI6nCGCZSUV3Gl+6cri3NsaYgVJUHHQrUJ9Y6qEuK76Vv6WvGDzFgksjuzpLBhMCqpsh\n",
       "NmF74v7Tf+KugpfygntwfkmvqG8lEhND9BXP7LVKtf/mn/v9ivBnKIf8YdbHjc8Ajc95CJSQ5QWb\n",
       "jVAIpaKkxSRCWWSAySBD3eLznu0dxobjNgJMN7Gbz7PMPNF4BOfSF3Ir7s7WO2KNNQlKw1awNhuf\n",
       "FPSYRMwvM+mkLejPMStmbv7QiLHEalrVb+yeUSi834Atgup7LvC5BY9Obn01oIWAA5AzeBNARI64\n",
       "aoxgBjW1Vvn2jPscw7IRfXKw/Nluk6sYF1yNGiWr1wmXCysBWij32HiiXxYXpEP0DD6hlIH99L0K\n",
       "bX/94JRmL/NFesOaNkNghTMIjuO5sHm7TQorVGQDIjpLyrFnzOwh0/BgPUF4s2U/lJ6XqV2HQGAw\n",
       "/vh/XswKOSmmREQYLGPypABvpwj4yj+iI12r9y1XAJsxgGWuL8tJBHb6D+H9hhwymAi/0FJ6FKnf\n",
       "KUbAQS0Bh21Kak7Q4cSM/rOz9ME2Shg7e8q75XZtIvjJjqG76pAoPGMxkGPHBWnMtckx+0ULm39b\n",
       "+rbSwv1NCJjrDWVRm1o3Hf+lV6HP5HCIMrr6cgwz5BzIiTNe66gKod466xSWTXQHuCOyLFbFazFf\n",
       "NCyVurqr85vFmat+Wm15cZjIx9gAAAMADakAAAVAQZohbEEP/qpVAApRY1pAA357Mm8B3zv/YJeH\n",
       "sVnDYUz64eoj70fweEkfW/Tj44MQhBjO/sN7dsxr8UIKCmxjOWkHHqnM0mLcoAbtwOf+UYqXrIky\n",
       "sS30Up03I8WFv4qGBbu2cD05+3BtNM9GElmQ65twqETEeBbgaDD85d7RO7LB7R2EmL1jr6lL/EL/\n",
       "NxO9/d2iUCVj+6j1QvCy/0iFlI9U2fVan2K64/3FGlsK3VIaopI93JOI84kGtcBJWFuuCtckOpoq\n",
       "usVtdI2Lf24XAsqzsuInMgM05eLpUrgasu9lN1NhsorL+U8Jkvl4O3d3+53O3nuW5PeWi4xVivt4\n",
       "BqzLiTYgHcKiJ6uwMzeijZYL2BxKa8X1gaeXdo0549iae2PJq1Q/MsLC4btJ59U6BX6z7TpijaHz\n",
       "Or/0r6zM4TYMpVSYxkWCSSssi5xbOXraLSri2vi1aldqXvWwByikLj27BOZCezW+OPIxNGW2j06C\n",
       "7D5qoD8Z1H59Ef3Q+BmZ6YQXThqGX1IGVQdrBZ60hWuMrDbPy2rTdbAwe2V8eePTbY4VIw3C1jkf\n",
       "Y2ZDQJEIDKPW0xICYqGaIrBiLW0v5Iu0lpbQ9uzTpSLHrAXITj0WGGsxbDUvgTbbcILESWeStcdl\n",
       "eA+TPeO7CuYW/R3AD49LxQIgsjMidx+DlOmZRTxky4jhDccKWAK6n4zzhomQ9B1rBcfF2LtS7dA0\n",
       "hsD/3atGZIbHn58Vgc7u7/k9gRyZL1o0hp/WDUfU2ew2jU5W8VbvWOBfo9gidbpQbZia5b/KUBuG\n",
       "gMwPyXSxlf3AkE04h9/UqtxDDWmIZC2/1zZMTjE1zfGZsZFLKyJ7igxNm1c0ZXU2kcWukP4KLo9+\n",
       "ZldrsjIHtiqkOK7D2ChkzNqoAs3KAWdG7PptlOdLe/ANND/hIUdMhOmh51k9q5bHygmxiI00yfWK\n",
       "lBAi6zHVtFyh6U5oUJE74RVGQq+pHAWv0X3clXAZLpWPhtS6ze17LOeY7Yy3I23zQAaObT4k9qgI\n",
       "YQPtGcHxc8aqryFdVyg2Fh/wrkA2JUiYL/fZ1E4/q48k6nSrSws2siAAD+DzC45E0sY8hqCcr2oK\n",
       "uHbrcjc4rRNaPz/oEa2rdmLpUzj3TfcUT+XrsxcFc6a9D9ylrKvXcJ7Ghi+nTO3c29TWspgEm39l\n",
       "gzN81SzvJDaj0L+KGwBggIMgQRqVB+NfwAq848+VZJ2R+wNYlIY+zqEf8mP5NhUAgVl5EZCkfSm0\n",
       "qQpFYrsZEEizMd8ooQMG3TOfmJGHOzryxgTCqqyAO93YJ0Mgo77GgYA4BXroNIWktfGQt1wsPT/D\n",
       "Q1jDzmspK8PJxEtfGVsVSuY2Vb+wiDXIzq3xmLH2oFnhYxyT8m9RJCMnxA5vdcChG8XPSkzGsohR\n",
       "zBSWM6WFIHjYvoR7IjYk1FF7sqgwlEaR3zDOF5mXHs4QapJqwTENylLkL75zfdVlvwLwG6JaslR+\n",
       "Vr/BCqifAyaqk7LJto5GUiev8aijsN8rfYxKR/2n9NRuZl85ogItHMlvP1KzAYiB6T0T9xhzek8L\n",
       "Cm/rjkk16o/AyK3SuMCkq1UVIMSZoyoEvnoN0NkbV2/X1b8/EOx6iqGnZvIKD22GUpg+N9U8V2Y5\n",
       "f+kOsh8L6U7ECNkbBOo03Kjxn/9UojSeG/7GBvikzx770in0G/ckdsauoPuT9Cqd22Z6GHokubn8\n",
       "jue+ofaHrfkPfqBOYAcY4AdocAAD2X45chZgLrqLM5/3xl762VwY4rjTvQp37f7uT+ZLy1Wa63WM\n",
       "CWVIFnoaAAAGc0GaRTwhkymEEP/+qlUABQv6uA+VaDAfIOAUpWn06KqePiW19IfcDBS0vr+7fyBa\n",
       "FHyVJxzJwM5jwdp641i+8TvP/rF9i3GR7d0y3lRckZnn1giXe3YjR127eljC9bART+cXC4P0dJfg\n",
       "Nhxx7+k40/phoJV2GT70FNlUYWiLTT9yuUYSMy7AocduitHnmhKoYQb208uXRxxZMiSJPKmxWCw1\n",
       "SDzanaxBM2axhXRx5e4VkzasC8GoDNLoXCnRaqwq2bWhqVElMqZV++3Z76JRxoOWd/y7mj1QU7Cv\n",
       "54/WpmukI9FFHjaf2XITiY1IWY0UkB1k//fgQ5GS0RnSGGu9dRp3jU6Gxv3J4o+T8lfXJEGH1vWC\n",
       "ITTE7EVoMVrZYc4dDAGuEKtBC+9ixtsHjGNgGXJrZamSDAwjWA7stCy/0tm/nPgOnPu/+I5QTu/H\n",
       "f7XRxBjlYvajmIYFzFw9whcal7UriDEHx/bbwtAGL7Yru18/8L7ITWIBPmkkrADhvcOjFuAsDg2p\n",
       "xnAHGtx8n3KB75CtrYAXo6ACcVkN6pyI+iVw2FStuBknUlJGsQd4AGg8s91zucrO1AdF3hORE1MU\n",
       "2PmtMCr3ELfBXHdQ9vIgs6aSmZvo+DmdqcTWO4iCzr7MR2AsreGWk/9PjJGCNopDdFESattZbDiy\n",
       "Kyu5Qrn0DAk3Q4BLrjasJwTAy5CXQvupW9HR1KdKQHaJrppW7fk2ssCQf4Q7uxj2nqjZNU0cI/Ut\n",
       "xdy4EjKGes/4Pm0A6DQHmuJc/GEz2PHD4ALZrRoVtOUCMU/Ft7ByQh+jdxY6NCsG1SwQ1Vkhii3x\n",
       "NJyQc2cXBxpv8OdU52OmAtlzyaX3kkCPYJkc2GSEsgXgO9Sg0i4YIXnxdyp7ufN4TUNNXfoeDWnz\n",
       "P+KJTdVCjeIYXGpmL5Ca0ZwI2zlzuaHxFwDnpIuCQtlmw6gu6VEtcMKhhwgVLAxdGIcwKqppjvdj\n",
       "s6XRSqTW7MmgfJqhOK5SVRWOt4Azh51UoNLH3GFBENVgaD5NL078des2B5MPp3vc81t0U6/w5V6f\n",
       "fLdJykkjkeKcn1qr9YAp2H/F4Jyj9dkN0iXeBptE+C/icBqXaLMpOnpfwXLWe4EQD04UEh66uQeo\n",
       "71jgVBgjA9K4N1WwesjPG4bJJ9Om71Q8ZohfkN/z3Cp3dlFXLtdYGEArKXSgXpHaXXBJnXBvFqka\n",
       "KyagzfAgO11qAVv+GsgrRYL0ZAVHKFGu9yOHv0YlUElRKIL1jcXj7Aq/xHhVx+CImpeBlZ4W27Kk\n",
       "DOkZTsosHbsssB9Z38e4onlP6bdw03Jq3rLdW7wWVKxdlKHvkHpIupKttdkcHSrtPkaWfF2Ucr31\n",
       "cuuxyaOS2Wx6LB0m8u91diuJL1dvpxSEXuwKYAlpTayyMSTKd9zwne5R6zPvV6ePIrzG4SSZRYbC\n",
       "503xUupeUkoMU+5hzYdqgPb0ndRvIEiOgA0ADafy2Lwd//9tKP/lmcVgUT8EtftHcmCxhOaSR2os\n",
       "2segfcOWbbEUnbTVw+/6jirvlKelj+NplC6xs4/C53K4MAuC7qeZF5TGv6geJpPPTLYSI8fh1y04\n",
       "Gj9TYp3Usjpgh0qp6RTXovvhRlWX3jiHtiHsjy3aCob18LBSVr65IJ9YN58GnBmMf0x7IvoEpulo\n",
       "LWFti6ACTT2/+JScLcV6urOlvtb3cGCrNuC4hALGp3TTrr25aYgSdCa0scMIjhkIvIxs3afT7wC2\n",
       "OGh4YC6c6BDYW5ZLiQwfLAzvWy8RQ2nTYV2Fqp8Gya3tX+2IPUAscL32AJFId+v1sPodQbo8g4MD\n",
       "3aL4Z5+4/GCuzwjnnIjYNqXzKvxq4CzLb+3Pl84OKPGGhy8WK3QMDbsCq+BJqXUG82nTvgkbumNS\n",
       "5Gd218GuyYepPiX1hssD+cGhmRyU6GMbKt/cmr9DhP8Tpbq83UBoO5EZEwQk2NtkRAVStciEd15K\n",
       "qcyVQBGTeOA5FLCTgfbW40biBVWHz6JuwqCD1o63P1WAKJ4b9wj2YbgEMSy08akdIu14amjti53U\n",
       "wHP72YHNZ7xs7/8kCAs9xJ/uRoqdF95b0B0A4ql5+aoFgrouSsM0ooxYw4fHxtbCRIOD8yeSP2po\n",
       "PbbkvJJamIey5fljnwNptXut3+2W2WReMnpJKCZGDQ9UGWiZUgGsJZVxON4wzRgEvWv/wjeN1AqG\n",
       "yErDfSSACHkAAAPhQZ5jalPDvwAKfi+7R+TCClIFEQvjhnVvT6MAB2aESufWDCSSnSx2m8ECWeoF\n",
       "xyOTqVFoBWlS+a7kBxsnp6daGG4RAPwaLwFfzXkW6E6z9WfQNXW6XJjbRVvddLXggFZB0MSTcHcG\n",
       "jLLk59aVOu8MMM4XPVr4NNzd4vUMjG3aOGsPGAbwHfw5H8z9Oqb9rvgnWSDqAgm6qjshoOSlo9eR\n",
       "S75LNu1fjVOhHGRtC/8g2lD3yyiFDlrMM+59zq79PBhKdf/2/ZDCaRDFyVdGDF11i3nPDST3gQRV\n",
       "JbcTlie0fSPdlVD5UTNI75oiVgZ76uI9Qv9EiR6DvtGgLsu9/60fU0QsdyhDZh+J6IRDGrhJx+D4\n",
       "f3kIQ8FiVTv6LBvVreoNTHBJqnV40NQBR/iYFRMfeuj0kMptDObb/thBhkhgsaESskqGhtKbshGh\n",
       "PFozbPsB6YsbYuV6fvtZxKraP8o7ux7axWlka6i9boRxOKmowx5ixLQ79Ff67C3v3U4d58dYx2dr\n",
       "4/q05tPHW+QRjopPAR4mAObkGGOczatuZOxaAt/zox42EcJLs//mwfKtqE3bw6r4EQIX7adFwXv/\n",
       "NY2eLHcNv64l/eWxQFT2oMQf6wce61jE52E+3aGJQ3MxjOfDO8Y01SK+2+JMFdJAjmzuwd9Ds+2l\n",
       "QgTGCte3RCCNt1tzRHVCRD8opyCA8VGo3VGMF3ogY6KRYARtHrmtd2vr6mxB/roNIKAmjoR0VL/h\n",
       "p+Bdmi3pyKuLkmNMDnaH5jf2xGLhZkqaNF21HwqbmyWBc1qmrX9+7EFxGlKQfHuD2JXM1uxYi7Uf\n",
       "iUwO3DH5PMAmhc3RIhgrDa8uOpSl02mYmo+1UbtipzCSbIj4Wm+sCE9trVAEcYNLNw5Wdn1AQk3q\n",
       "Ew6a1AGCKmeX0uyojKx99epccdsbL02IAHOfrKCB6oDMmuzqYBBYc1cLDIhy7Qaf3uvQ7taSPJJU\n",
       "PayzejdFXuWyZVBpaMy4MSsiVtEe98Ru+qdTFDVMEInwo4XpneuJ3bfSkSbUmQ14L2fARt3ULS4O\n",
       "E8Z6HwcFO/SBmW8J8WFNXlMU/54fqalgSNiwQgDR9AK8U72VG19ihpClymy9Fhc5BLJFRyMyP1jm\n",
       "4Ur4FodxZHoWeaB226OaYDDt0c8UH9gZuKMYdpd6Psna0BCfdsUqqtCJ2IUG7/SaApbe41K5szYf\n",
       "0siieA/W8LuvoAgXrlFI+OLQi2svEZENncW8lg5p/Jpkz53+Em0ovBIMScwiaQliyLJxBwyx4IkT\n",
       "a//FSVAIk4Uyr+VnIImvO1AUIA7hgDgIKfalVlvDtCScQBXwAAAEkQGegnRDfwAO1ptMFdC3+k7v\n",
       "FIPqCHPzjt6MzABdJ//Vhns/m59RTMWnyD2/r5pk+t9co5OIYEpAONcp+y2hn4N8K0wM4gVKP3IN\n",
       "V4r3Cnm9C1a9KrfD42s7R9f3xbpD+kHvTN9Jtr0AoSPtZFkif8lBVT9ImKRMezkQwO2/oXuANH1T\n",
       "D0sj4d02xkDJPHw8Uma/6LAKKOGq68l3xLKJZqwCP6v6H6XP73R2C0fwF9h2oxjKFVFMsu4ZrHo3\n",
       "VKr4MPDXlgjQ5mL3OzSFH8aV+zMmqAcXK/ohVg5V7jFYEm1qqf2OyTKyliMvZQJMApuC3HlnW1EI\n",
       "OHB4x40tfQrjLkB5DC/lYmnSv5lN/bZ1FwaCS7RUb8xbcBAkdUYSDUm+pywvRhe7L5sIMqGCL0+C\n",
       "ni2fiRBoPdtdx6n/IPexVCkP9aEFsf83IRmdmpJB1xmm17bwaBJzeDohhk3YdTUaXs/LkxrYzBVD\n",
       "bj2sArsCjAESUgqaGRPWQYvC/i6XY962n4SuaQVpOqt+zmFI05qWx2PEgbUn58hEjJz98rggOtiR\n",
       "jNGZd6otDP9GchgozgQ6aPe6+gIsk0IBiwe6SQcr7YKQ5nqqu6gXDL3cskj7cTSnIT9kNZiyVjCY\n",
       "PT2K47U8hO1DoWlhf5ivMYNhUqp3L1W/j7NuopYgAWMntcQooqxhwBivrWBoJpZhi9jyWxCMxBGF\n",
       "pT22LWy+Q7dXF/IJmewKttz0X76jzHniVj5slXfvrfPyqBCAW8WR0c8Ny1SQo5i8J4W6Z0F/OGrI\n",
       "UG79UmBHcptKYNif68jhctLDo+xtXvKbZYEMAFMC9k7UDETFB79QjXZpPBSBLcMN8QyS3f3xF1U9\n",
       "qQByNrCa25kLYynzAvvk7lJT65Qgb4bQwE7XqoOJaPuIQhymwV8a1pqvxl2ZUQEDFhqpllKwT4s+\n",
       "KpkJcvM2LnbZuc269jLeMY8FHM/rYR01WaMdbdSmQoBxG1pNqYVjBlR24U8ApesgWkgH7LYxBrJm\n",
       "jSh4fCtl8vOfUF+msciE8TgEdkKlqsxusZn9A0cgHuPfCn7skUbtWGqQ2e0rs1ZEPMVDF6QLeFaI\n",
       "eohmG/TEQKbxPaCRWbfp5Kc6X8q2Uh1Lr0dP6I1IyP5vmqiVTmsCgZjDA22MyBw6g28MQta+79pv\n",
       "bA6JDaRpg3oX9ovBFqmf6+C4N/dBQdoPr5TImUGV4BcNv/0FHPrjEbPw/BMBYO0jpqhfuKXVyNkF\n",
       "Xm3J1fxeSrT5R1D+opMxkbcPZUDmgnIYp+Zx+/2jpru+EbUIrxtwaq1wlamCiBgTrsue0VExCATp\n",
       "EKAdyN/SyNy7MpolgIGRrXKgX+AqY7dwocOE+cM2iGkam15Sj9it14hjt0XtmnwEJGMIm1dO0MlL\n",
       "hUUeBEdh/bMx8NAibf9iffupvGGmAngjEwVMK/U9YNMlIOMlgK/pNtZMjfykk5613aVxu2ikjY6+\n",
       "QtmC+ch3KjqE71X/rrauGDnPJLtrfvfwpx+4vtxeDAU/gz5q9XNoP2fuLyipaOvkWCpIH0T78C6V\n",
       "BA71lanGl9qQAAP9AAACfQGehGpDfwAO2UIDnSIaWT7f8X6t9NAAnb20aftcGBfJmR+tX58cbjPQ\n",
       "B27z9xAgYbupJZAzoD/2KfXJWY672//Q+4UsDzV9Bcif/Zg00GUFKW0+fFhUuSyEik2/yZ0tjPRA\n",
       "C5Ge2fHHm2Xho/tkpjnakWvhivErCcD2GpNnC4e8HTmAvpP9Qpdcp9dSnE/7Y+HPbVAwq9p+YJm7\n",
       "AcxZgDBBbPMgMOacivDAJWK4USCBAIMIOj8i47muyrqW5u6kJ1GAzeZgOeHLlgwf6vUqMIZhRPAT\n",
       "93+Ytn7397ThBtYWQURfK2rxA5Hd/aeqzIRW9b+Y5ruVrIJ/Cjt54BwjdfVeESc3wVrKKs+bWqjL\n",
       "M2969GafjMinWOHhLhEJcR8QwkSKOQvNzpvhW03u2dR5LvxAUwG7BgsVIpm0lWmccfbEsarYcIvN\n",
       "jWn1DXDKYhVwEhY722gsNHB8y/ANAoN2OqTTV3wLpQGG2pORqTAWVdD6HpGyXc77Fw8jFe9A1Ho5\n",
       "lOfGR2CIXmeJLpUwMFQ+ee2WWOC+LJ2mzXrwBEMjoKNDruVHsgB3yXkjaELo/+6MYccEJdTlqxg6\n",
       "k0zNMCZXx72kxUmeXd385fGpD/txdUOf356kdvsR2seYFC03/Y6o8KtnpmpC6sVCv7vldQ6kxYah\n",
       "Sv/8rau1sSMOQCXBHhbsz2+QMYdMrJzrY4z0tlFPLGXiYISNWA76K4dLgr83U+9AtwDpPZeculxI\n",
       "mksc6mwWjACm2loy4iAn5v+zkGgGZGJGAgtia7fWYFdj7MmUaG4uarngGMYcu35h5fET5FLBfuDD\n",
       "In+Tg6Y3j83mjBy6ryp2dxIjNkNhiRwAi4EAAAO3QZqGSahBaJlMCCH//qpVAAUDkjnwACgItyII\n",
       "2bXiZ3QoyL9HCUPaPxqWzGr1TA+aqXvIqtBCqvJvO49/dHS9O21FTpb1fbKux/n9eNI5cKVsf2OK\n",
       "IH8fW4Hwlx6vtZuwUC0Jx7PkpchCjTuBRv2QXoW16MqVCED00xtaSwnAteFkZgbQmFiBR7jsVd9Z\n",
       "EqV3nXCqE1EwxmHIBdVBR0zwjbOIAX4JaHJmsskGmhi7O146rn7XNtJOuZFuECJsv+BvRsv63Czo\n",
       "d60gVsstL15J1qRsIHCuOsr2F/AB2nTIXzGlvQ7wjeaRRptVHdihiRThTsBK3z9IDluZu7wYPbg0\n",
       "XQK3c90cQAuJH/niu2isDZLu/0wE3wlQZPMJqMvwY7X+XfNga4QYlUNmtlOGP8tFsueMfIaPCXBP\n",
       "+C0H4+tpGn20GliT7QuwoQyFsj5ULj6gEtUeQ7KCVFOwieFoZfP92foO46Vl8baDNoEiQZXIOpy0\n",
       "do0eZANO+IT6BlVHc1st1jF0IKSu10WSOR5He/xJvSu2+c5wG8HSzlaQrOR5+R+Rsx8sUwDnnXsN\n",
       "KzJ0aHqmPGOZ/Gokq6xsdhSA1ztOPvp//pQyXz7zrbs0OoAapulPwBYywgWWIOElHWCuRtd8LBcG\n",
       "0yfe9E7kYJ2HBqPUkwQhrjiOZGQr/2E48VEWSd1jqQ3zE2+m3RbhTjnaDgVV6Ilpn+5bOJwtJTfn\n",
       "pvWJgu8ah6YOGPOCfHYaANduGdwU9IDnZcYRfPDKBp/pAOfFoRyAlNLzxD4ic8qayhrB04jjVfJJ\n",
       "RQr5/EOXgg2opoqkSQnC65/+YQCKQzQ1W3/q2MgPqAbo9555N/YeTDhHAk0kcsf4vmKCf/052qFL\n",
       "F4ajOKzJAS+N7rMXECRj0RiD8EHVGIwql0Ho9suCESPh3Wurtv7QQshrXU1d6W2xPE+gLdp9iTFB\n",
       "/0n1lSWMasfM7+r1cDGO40ewHYiGhGNGW0QC5ITz2tBgAc0sZI66ZB/tUmB5weu+YU+Y7A45ouI0\n",
       "wHSZxIpiOos2txUCBlTM6CPzedw0dIsCE4M9KA4uUWOpUuKCl0aE8AAgb4D8PEZCcvyFWPKxnlE0\n",
       "AePqr6uvcQuLALB8TQ1PyQpI2JRdq5EGMAs9hzyRUpTj5/IbFF3tTogFn4MBiocw/VYxXzBdz0ur\n",
       "1znvMgtUcFYjMXyVdt9JsjZXZA7OKtH9uopXOczs8j4zTBh9XxiMF1VRkyZ1rML90Pr4cD1OKjDg\n",
       "Wud+XdUp9B/EAFlBAAADiUGaqEnhClJlMFESwQ/+qlUABQXvDtJZMXc/ADdWSWdaaRTnznyyvCZk\n",
       "D8WvtOSaVmwhXf3/Uk4I+qhbv5DqEPE2iJP7w1bNUVI4wyhBEnVaT5drf6Ol6pcIFbSiZJEQaAdK\n",
       "oq/Xeg+SdiSTZ5kPfy3BfgYBh4+enAbJ7OYOl7WaVEYeveP9NstedL07kSGLokYINGUTB8TvTixY\n",
       "3fhjLq3ppLMK4djPAuCUftrv99gC6h+9xluyNJ0lxKAmQEssvszjIF8jnrAcwnsxKwFyCQl66Li2\n",
       "UD+p9+ozLD6ZvH47PwwzZnsmciT2TjQQcZ11fckWwCieYbNNGDJgaGrnkj/VPTguahO2b0Hvpi2A\n",
       "sCDO8LoZ+6UeE7P34CKxxSwvfTS7JCbGYFQ5qy9tIYOCRV8RRu+3Zs0FBoGd5z/dmJNv4PL/15iS\n",
       "pGRg1AJPM26bjV5P0TH6nr9LEt/MOalX+2PgI7WfWsY1PJx8jNO5PWoSyD8Nlm/xDNNmHjVuX0JM\n",
       "i9F4N2opCfamWheGDGzQVOahUPEm0WeNzAR+00t7fd2SMCuF3TDrGfTBhbS7LzhteQ9IgFp27NTF\n",
       "HprL6f7+2Zba/l/3bZae8HA6Hc8eRBfR/76cTGp0TNo97qEuoqATgSi8dU76KNv9J6mUbgaTjDpd\n",
       "KPHXktXyss2FX1Bnn5B9RnC56L7IhZZyFPuz0Ur1quoKOA85sDtSYpDZp0GwNUETZb/tXhcamH8Y\n",
       "Vr8SMoiGUNIa3zeXpW1IUu5nin3iP8tSkj51+JUKAqghYJHOxK3baRvy9V//GlcV2m7ucooBZ12V\n",
       "cn9aTh4Ij8eROBm4BDjqLiDsBPUd7XPqCcfLuZkPlIK5mm4xAnFRc415p/KcLmBatTiLle99tUhk\n",
       "3jlstU9E90M/TK4CLIqFihnUAPdSDOznnM8sRr26/FzqkhpEttxfh5VrsnEKcRXJoq8o6i+s6WNo\n",
       "/epfoJYCyKw1hD4lUfptKJxq64MNm+xdsqgc8GhOOx8+b/FX0p/NuxI1PTfKtb4osYoyNViv6CaY\n",
       "D0YPXGZM2koGvrK7JGKVIvZTn6P8sB1v9/tVMDIbRM9irQKmAS1nCkxO8840yEPql2dyCqqehYsf\n",
       "RrSP6Mm8HihRof5DgFlLlbNTIbybqjWu/74B8GG2CNuR86urRIv74OKTeC3pJ47STVou///hwQmD\n",
       "o4n5ZjfR2ga9AAABEAGex2pDfwAOWqqXsrtXlwQ5QAIPWQVFTpx9giWBP/4NbNgLY1ea6jlLWSm8\n",
       "mwYwZiXyJQZV4txV/yyKxy59XJ68SEsrHnBYNb0PN278zKZO/tYYFeHgpQW+M76d5yAOU4V79sL6\n",
       "5bqm8NcFzBQDvFHA7Da2kCzsT4xZ/cJQBOrg8tRJRnHPpDB8k0U91rZeKrWlHTVkH/TRnX7OsuV3\n",
       "YAjH3B9bQf+qwrQQNsYJ5s5hf38+nximXIIf3Zgk6Z9aaIkcGvlvTR31UAAJHbLHf+dWMlHSVwCn\n",
       "XpdSOAUtc+F8r8KeRo5LvBtCqE/8wXFLg1rYhOR0LVTMdoWRrfVWlP0y4v94ajJYcM1T2X7yABNw\n",
       "AAABUEGayUnhDomUwII//rUqgAKCRFyAA4zYjhLGA7D3cDuOHkjXrxcaBs33VYXNUzzO+xW3stfy\n",
       "NEqKwlFQ3YXHhP8Mvp/rVpd9nUN88fkX2eLaHNwzBUorYUZII289jtX/h7mt23gapaPYQ0gLdL2L\n",
       "FJTqBvLHzvOo1+fSG4OjJvKQKYzKFQLwZDoDYMPMVEl2EDOSxWAhgvEflMFlG/sd8NLTt6A3TzKD\n",
       "p1CQPwOhag0t4K8L/PdSrjWQF1x889pHk3GT4RkM1XV39c6+ipbaZPD5XPV2HIGaj8RdYhVEbDPV\n",
       "C4dTovN1myD0NCJJbsgnGeps/ew0mjJiIjZIS0wi8vDuDjw2YbS/jxCNlxuJkG0TVjxW37lp9Rgq\n",
       "Neg5CMRlqoUaLCCVv/NmdKWGMtm91OOyT59lgR2anUuqHwBBfg2JONLh6KYqp7DwQ3036EABFwAA\n",
       "AVtBmu1J4Q8mUwIIf/6qVQAFBfKHvRqm4uugAa+L9V7EOqwNav77mJ2aA2SMH3FfH9c1FqLKHotT\n",
       "PfG95ohCTPdcNP1nIDTh02aSDIAgxU9xF4cvHQAqdwKB3wLLZKeNvOLERI2UE3hCPmoReitLG8GL\n",
       "fEhtdjSABIrywKC6vcDYbFHDtvKZWBPViHYfueCua0Z8U3+D2XZdODVlBC1dNUUP+CnbvvWIXz9V\n",
       "bTHPHmO33CZqiUXTmQ5iYFGVOmOjGlxIL1I5cysUgrOxsThMaXCtp4zBNGyTLqGpuz4OxJ6NEixL\n",
       "mdJcnxs6hAWCamnQc198Fc6/yNTNXVw4rwDBzFf/nlnT14pkI8gaT/j/PGpR1N7RSzgxxibP04qf\n",
       "LaxCooG+LcIIrvJYoJ52nyiR8Hz5rpmI+DH7tCpMrBX+E7FyTNS6Ey8uFgtUFLDgltjt5g6BarM8\n",
       "cXjlmMACpwAAAEpBnwtFETw7/wAKNjCMDhzmy3Gc4L/DLACAORqYABLav+7P7Asc7aFrax0jCCPE\n",
       "ri3Bn9+V/YcGXAEHRaUELTH5YJ3sj4PM0UBSQAAAACsBnyp0Q38ADn6goC6YvedKKd01lZaOlSUO\n",
       "6lsIROBaeVju6oC05g/wAA9IAAAAJgGfLGpDfwAOgUahG49fvpxiZdPHDTWvusaWKGHlSz8naSSV\n",
       "ABFxAAAA/kGbMEmoQWiZTAh///6plgAUv4V2zFfNDU0gBc6p4GbOal1fbLmLx1g6GFs+napfKzlh\n",
       "Smj6kl4zY0enUYsNcBlPLwMqDS7AhyS4dKuEVtLnMiSNdT7gsdxQkN06GSwrUchtL4NriseeDNJA\n",
       "QukysrniMpjU4ucedR5W8cLmLnXlj8YAEjvpS713t04lp9zwGmwX+I/YOKd7mBbqEt7wXogBJhKe\n",
       "8tuxq1RwQcQhmFsC8fwuqjHDa3KGvPHNb/mcInsgchTGnJOP3IaJiXdav8e1nvmNgoXmi+/smQvx\n",
       "+0jVAoucPRNPJSZiXcJjXMqzDRVRhUZ+8T16gnKEgAHHAAAAKUGfTkURLDf/AA6ClfHd6dXk9RiZ\n",
       "CIWyUBHaCGikE62CkKhrrwkcADPhAAAAHwGfb2pDfwAOgUadl3ja65Ezy9I0ofYXjIwzosYAIOAA\n",
       "AACJQZtzSahBbJlMCG///qeEACbPUEkgUTEU+Rk0AG1XJfoO7aem1j1gOKw5Tj5ZtlXqgZFhTmo/\n",
       "In8H+fj7u59sOgMFoq9DSn++7uQdxetuc57yf/uLyKXiqHLpdBun4iujg91WgjJQEUAlfBKDYx1W\n",
       "qJojzAE7A+Qs3ZuE5Arjj23xSqYsqmQAKmAAAAAiQZ+RRRUsN/8ADoKVUC18Lhj+m0yaSpjBkRIE\n",
       "BlG8UQAGVQAAACABn7JqQ38ADoFGYRfXRtZR1vwf93WfIKM6sa5SnIAGzAAABAdtb292AAAAbG12\n",
       "aGQAAAAAAAAAAAAAAAAAAAPoAAAH0AABAAABAAAAAAAAAAAAAAAAAQAAAAAAAAAAAAAAAAAAAAEA\n",
       "AAAAAAAAAAAAAAAAAEAAAAAAAAAAAAAAAAAAAAAAAAAAAAAAAAAAAAAAAAACAAADMXRyYWsAAABc\n",
       "dGtoZAAAAAMAAAAAAAAAAAAAAAEAAAAAAAAH0AAAAAAAAAAAAAAAAAAAAAAAAQAAAAAAAAAAAAAA\n",
       "AAAAAAEAAAAAAAAAAAAAAAAAAEAAAAAB9AAAAZAAAAAAACRlZHRzAAAAHGVsc3QAAAAAAAAAAQAA\n",
       "B9AAAAgAAAEAAAAAAqltZGlhAAAAIG1kaGQAAAAAAAAAAAAAAAAAACgAAABQAFXEAAAAAAAtaGRs\n",
       "cgAAAAAAAAAAdmlkZQAAAAAAAAAAAAAAAFZpZGVvSGFuZGxlcgAAAAJUbWluZgAAABR2bWhkAAAA\n",
       "AQAAAAAAAAAAAAAAJGRpbmYAAAAcZHJlZgAAAAAAAAABAAAADHVybCAAAAABAAACFHN0YmwAAAC0\n",
       "c3RzZAAAAAAAAAABAAAApGF2YzEAAAAAAAAAAQAAAAAAAAAAAAAAAAAAAAAB9AGQAEgAAABIAAAA\n",
       "AAAAAAEAAAAAAAAAAAAAAAAAAAAAAAAAAAAAAAAAAAAAAAAAAAAY//8AAAAyYXZjQwFkABb/4QAZ\n",
       "Z2QAFqzZQIAz5+EAAAMAAQAAAwAUDxYtlgEABmjr48siwAAAABx1dWlka2hA8l8kT8W6OaUbzwMj\n",
       "8wAAAAAAAAAYc3R0cwAAAAAAAAABAAAAFAAABAAAAAAUc3RzcwAAAAAAAAABAAAAAQAAAJhjdHRz\n",
       "AAAAAAAAABEAAAACAAAIAAAAAAEAABQAAAAAAQAACAAAAAABAAAAAAAAAAEAAAQAAAAAAQAACAAA\n",
       "AAABAAAMAAAAAAEAAAQAAAAAAQAACAAAAAABAAAUAAAAAAEAAAgAAAAAAQAAAAAAAAABAAAEAAAA\n",
       "AAEAABAAAAAAAgAABAAAAAABAAAQAAAAAAIAAAQAAAAAHHN0c2MAAAAAAAAAAQAAAAEAAAAUAAAA\n",
       "AQAAAGRzdHN6AAAAAAAAAAAAAAAUAAAdUgAABUQAAAZ3AAAD5QAABJUAAAKBAAADuwAAA40AAAEU\n",
       "AAABVAAAAV8AAABOAAAALwAAACoAAAECAAAALQAAACMAAACNAAAAJgAAACQAAAAUc3RjbwAAAAAA\n",
       "AAABAAAALAAAAGJ1ZHRhAAAAWm1ldGEAAAAAAAAAIWhkbHIAAAAAAAAAAG1kaXJhcHBsAAAAAAAA\n",
       "AAAAAAAALWlsc3QAAAAlqXRvbwAAAB1kYXRhAAAAAQAAAABMYXZmNTcuMjUuMTAw\n",
       "\">\n",
       "  Your browser does not support the video tag.\n",
       "</video>"
      ],
      "text/plain": [
       "<matplotlib.animation.FuncAnimation at 0x7fef3a264898>"
      ]
     },
     "execution_count": 25,
     "metadata": {},
     "output_type": "execute_result"
    }
   ],
   "source": [
    "fig = plt.figure(dpi=100, figsize=(5, 4))\n",
    "plt.scatter(x,y)\n",
    "line, = plt.plot(x,lin(a_guess,b_guess,x))\n",
    "plt.close()\n",
    "\n",
    "def animate(i):\n",
    "    line.set_ydata(lin(a_guess,b_guess,x))\n",
    "    for i in range(30): upd()\n",
    "    return line,\n",
    "\n",
    "ani = animation.FuncAnimation(fig, animate, np.arange(0, 20), interval=100)\n",
    "ani"
   ]
  },
  {
   "cell_type": "code",
   "execution_count": null,
   "metadata": {
    "collapsed": true
   },
   "outputs": [],
   "source": []
  }
 ],
 "metadata": {
  "kernelspec": {
   "display_name": "Python 3",
   "language": "python",
   "name": "python3"
  },
  "language_info": {
   "codemirror_mode": {
    "name": "ipython",
    "version": 3
   },
   "file_extension": ".py",
   "mimetype": "text/x-python",
   "name": "python",
   "nbconvert_exporter": "python",
   "pygments_lexer": "ipython3",
   "version": "3.6.2"
  },
  "nav_menu": {},
  "toc": {
   "colors": {
    "hover_highlight": "#DAA520",
    "navigate_num": "#000000",
    "navigate_text": "#333333",
    "running_highlight": "#FF0000",
    "selected_highlight": "#FFD700",
    "sidebar_border": "#EEEEEE",
    "wrapper_background": "#FFFFFF"
   },
   "moveMenuLeft": true,
   "nav_menu": {
    "height": "116px",
    "width": "251px"
   },
   "navigate_menu": true,
   "number_sections": true,
   "sideBar": true,
   "threshold": 4,
   "toc_cell": true,
   "toc_section_display": "block",
   "toc_window_display": false,
   "widenNotebook": false
  },
  "widgets": {
   "state": {},
   "version": "1.1.2"
  }
 },
 "nbformat": 4,
 "nbformat_minor": 1
}
