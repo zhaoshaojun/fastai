{
 "cells": [
  {
   "cell_type": "markdown",
   "metadata": {},
   "source": [
    "## AdamW benchmarking"
   ]
  },
  {
   "cell_type": "markdown",
   "metadata": {},
   "source": [
    "This is to benchmark an implementation of https://arxiv.org/abs/1711.05101"
   ]
  },
  {
   "cell_type": "code",
   "execution_count": 1,
   "metadata": {},
   "outputs": [],
   "source": [
    "%matplotlib inline\n",
    "%reload_ext autoreload\n",
    "%autoreload 2"
   ]
  },
  {
   "cell_type": "code",
   "execution_count": 2,
   "metadata": {},
   "outputs": [],
   "source": [
    "# This file contains all the main external libs we'll use\n",
    "from fastai.imports import *\n",
    "from fastai.transforms import *\n",
    "from fastai.conv_learner import *\n",
    "from fastai.model import *\n",
    "from fastai.dataset import *\n",
    "from fastai.sgdr import *\n",
    "from fastai.plots import *\n",
    "import fastai.optim.adamw as adamwlib\n",
    "import fastai.optim.sgdw as sgdwlib\n",
    "import matplotlib.pyplot as plt\n",
    "%matplotlib inline"
   ]
  },
  {
   "cell_type": "markdown",
   "metadata": {},
   "source": [
    "### Common stuff for all experiments"
   ]
  },
  {
   "cell_type": "code",
   "execution_count": 3,
   "metadata": {},
   "outputs": [],
   "source": [
    "def Get_SGD_Momentum(momentum=0.9):\n",
    "    return lambda *args, **kwargs: optim.SGD(*args, momentum=momentum, **kwargs)\n",
    "\n",
    "def Get_Adam():\n",
    "    return lambda *args, **kwargs: optim.Adam(*args, **kwargs)\n",
    "\n",
    "def Get_AdamW():\n",
    "    # In this Adam, the weight will get decayed\n",
    "    return lambda *args, **kwargs: adamwlib.AdamW(*args, **kwargs)\n",
    "\n",
    "def Get_SGDW(momentum=0.9):\n",
    "    # In this Adam, the weight will get decayed\n",
    "    return lambda *args, **kwargs: sgdwlib.SGDW(*args, momentum=momentum, **kwargs)\n"
   ]
  },
  {
   "cell_type": "code",
   "execution_count": 4,
   "metadata": {},
   "outputs": [],
   "source": [
    "import pickle\n",
    "\n",
    "def save_list(fname, l):\n",
    "    with open(fname, \"wb\") as fp:\n",
    "        pickle.dump(l, fp)\n",
    "        \n",
    "def read_list(fname):\n",
    "    with open(fname, \"rb\") as fp:\n",
    "        return pickle.load(fp)"
   ]
  },
  {
   "cell_type": "markdown",
   "metadata": {},
   "source": [
    "### This is a common function which does the training. \n",
    "\n",
    "The only thing it asks for is the optimizer, and the initial LR for that optimizer. Hence we are comparing optimizers keeping all things same."
   ]
  },
  {
   "cell_type": "code",
   "execution_count": 5,
   "metadata": {},
   "outputs": [],
   "source": [
    "def experiment(optimizer, lr=1e-3, find_lr=False, use_wd_schedule=False):\n",
    "    sz = 224\n",
    "    bs = 24\n",
    "    arch=resnet152\n",
    "    cycle_len=2\n",
    "    cycle_mult=2\n",
    "    num_cycles = 2\n",
    "    lr = lr\n",
    "    weight_decay = 0.025 # As used in the paper https://arxiv.org/abs/1711.05101\n",
    "    PATH = \"/home/as/datasets/fastai.dogscats\"\n",
    "    \n",
    "    tfms = tfms_from_model(arch, sz, aug_tfms=transforms_side_on, max_zoom=1.1)\n",
    "    data = ImageClassifierData.from_paths(PATH, tfms=tfms, bs=bs)\n",
    "   \n",
    "    \n",
    "    if find_lr:\n",
    "        learn = ConvLearner.pretrained(arch, data, precompute=True, opt_fn=optimizer)\n",
    "        lrf=learn.lr_find()\n",
    "        learn.sched.plot()\n",
    "        return\n",
    "    \n",
    "    learn = ConvLearner.pretrained(arch, data, precompute=True, opt_fn=optimizer)\n",
    "    learn.fit(lr, 1, wds=weight_decay, use_wd_schedule=use_wd_schedule)\n",
    "    print('Now with precompute as False')\n",
    "    learn.precompute=False\n",
    "    learn.fit(lr, num_cycles, wds=weight_decay, use_wd_schedule=use_wd_schedule, cycle_len=cycle_len, cycle_mult=cycle_mult)\n",
    "    \n",
    "    loss = learn.sched.losses\n",
    "    fig = plt.figure(figsize=(10, 5))\n",
    "    plt.plot(loss)\n",
    "    plt.show()\n",
    "    learn.sched.plot_lr()\n",
    "    \n",
    "    return learn.sched.losses"
   ]
  },
  {
   "cell_type": "markdown",
   "metadata": {},
   "source": [
    "### SGDR with restarts"
   ]
  },
  {
   "cell_type": "code",
   "execution_count": null,
   "metadata": {},
   "outputs": [],
   "source": [
    "sgdm = Get_SGD_Momentum()\n",
    "loss_sgdm = experiment(sgdm, find_lr=True)"
   ]
  },
  {
   "cell_type": "code",
   "execution_count": null,
   "metadata": {},
   "outputs": [],
   "source": [
    "sgdm = Get_SGD_Momentum()\n",
    "loss_sgdm = experiment(sgdm, lr=1e-3)\n",
    "save_list('sgdm_loss.txt', loss_sgdm)"
   ]
  },
  {
   "cell_type": "markdown",
   "metadata": {},
   "source": [
    "### Vanilla Adam with fixed weight decay and restarts"
   ]
  },
  {
   "cell_type": "code",
   "execution_count": null,
   "metadata": {},
   "outputs": [],
   "source": [
    "adam = Get_Adam()\n",
    "loss_adam = experiment(adam, find_lr=True)"
   ]
  },
  {
   "cell_type": "markdown",
   "metadata": {},
   "source": [
    "**Train**"
   ]
  },
  {
   "cell_type": "code",
   "execution_count": null,
   "metadata": {},
   "outputs": [],
   "source": [
    "adam = Get_Adam()\n",
    "loss_adam = experiment(adam, 1e-4)\n",
    "save_list('adam_loss.txt', loss_adam)"
   ]
  },
  {
   "cell_type": "markdown",
   "metadata": {},
   "source": [
    "### AdamW with dynamic weight decay and restarts"
   ]
  },
  {
   "cell_type": "code",
   "execution_count": null,
   "metadata": {},
   "outputs": [],
   "source": [
    "adamw = Get_AdamW()\n",
    "loss_adamw = experiment(adamw, find_lr=True, use_wd_schedule=True)"
   ]
  },
  {
   "cell_type": "code",
   "execution_count": null,
   "metadata": {},
   "outputs": [],
   "source": [
    "adamw = Get_AdamW()\n",
    "loss_adamw = experiment(adamw, 1e-4, use_wd_schedule=True)\n",
    "save_list('adam_lossw.txt', loss_adamw)"
   ]
  },
  {
   "cell_type": "markdown",
   "metadata": {},
   "source": [
    "### SGDW with dynamic weight decay and restarts"
   ]
  },
  {
   "cell_type": "code",
   "execution_count": null,
   "metadata": {},
   "outputs": [],
   "source": [
    "sgdw = Get_SGDW(0.9)\n",
    "loss_sgdw = experiment(sgdw, find_lr=True, use_wd_schedule=True)"
   ]
  },
  {
   "cell_type": "code",
   "execution_count": null,
   "metadata": {},
   "outputs": [],
   "source": [
    "sgdw = Get_SGDW(0.9)\n",
    "loss_sgdw = experiment(sgdw, 1e-3, use_wd_schedule=True)\n",
    "save_list('loss_sgdw.txt', loss_sgdw)"
   ]
  },
  {
   "cell_type": "markdown",
   "metadata": {},
   "source": [
    "### Plot all of them"
   ]
  },
  {
   "cell_type": "code",
   "execution_count": null,
   "metadata": {},
   "outputs": [],
   "source": [
    "fig=plt.figure(figsize=(15, 10))\n",
    "plt.plot(loss_adam, c='red', label='Adam')\n",
    "plt.plot(loss_sgdm, c='blue', label='SGDM')\n",
    "plt.plot(loss_adamw, c='green', label='AdamW')\n",
    "plt.plot(loss_sgdw, c='black', label='SGDW')\n",
    "plt.legend()\n",
    "plt.show()"
   ]
  },
  {
   "cell_type": "markdown",
   "metadata": {},
   "source": [
    "### Scratch"
   ]
  },
  {
   "cell_type": "code",
   "execution_count": null,
   "metadata": {},
   "outputs": [],
   "source": [
    "\"\"\"\n",
    "adamw = Get_AdamW()\n",
    "\n",
    "sz = 32\n",
    "bs = 64\n",
    "PATH = \"/home/as/datasets/fastai.dogscats\"\n",
    "tfms = tfms_from_model(resnet34, sz, aug_tfms=transforms_side_on, max_zoom=1.1)\n",
    "arch=resnet34\n",
    "data = ImageClassifierData.from_paths(PATH, tfms=tfms, bs=bs)\n",
    "\n",
    "learn_adam = ConvLearner.pretrained(arch, data, precompute=True, opt_fn=adamw)\n",
    "lrf=learn_adam.lr_find()\n",
    "learn_adam.sched.plot()\n",
    "\n",
    "lr = 1e-3\n",
    "wds=0.025\n",
    "cycle_len=1\n",
    "cycle_mult=1\n",
    "num_cycles = 1\n",
    "\n",
    "data = ImageClassifierData.from_paths(PATH, tfms=tfms, bs=bs)\n",
    "learn_adam = ConvLearner.pretrained(arch, data, precompute=True, opt_fn=adamw\n",
    "                                   )\n",
    "learn_adam.fit(lr, 1, wds=wds)\n",
    "print('Now with precompute as False')\n",
    "learn_adam.precompute=False\n",
    "learn_adam.fit(lr, num_cycles, wds=wds, cycle_len=cycle_len, cycle_mult=cycle_mult)\n",
    "\"\"\""
   ]
  }
 ],
 "metadata": {
  "kernelspec": {
   "display_name": "Python 3",
   "language": "python",
   "name": "python3"
  },
  "language_info": {
   "codemirror_mode": {
    "name": "ipython",
    "version": 3
   },
   "file_extension": ".py",
   "mimetype": "text/x-python",
   "name": "python",
   "nbconvert_exporter": "python",
   "pygments_lexer": "ipython3",
   "version": "3.6.3"
  },
  "toc": {
   "colors": {
    "hover_highlight": "#DAA520",
    "navigate_num": "#000000",
    "navigate_text": "#333333",
    "running_highlight": "#FF0000",
    "selected_highlight": "#FFD700",
    "sidebar_border": "#EEEEEE",
    "wrapper_background": "#FFFFFF"
   },
   "moveMenuLeft": true,
   "nav_menu": {
    "height": "266px",
    "width": "252px"
   },
   "navigate_menu": true,
   "number_sections": true,
   "sideBar": true,
   "threshold": 4,
   "toc_cell": false,
   "toc_section_display": "block",
   "toc_window_display": false,
   "widenNotebook": false
  }
 },
 "nbformat": 4,
 "nbformat_minor": 2
}
