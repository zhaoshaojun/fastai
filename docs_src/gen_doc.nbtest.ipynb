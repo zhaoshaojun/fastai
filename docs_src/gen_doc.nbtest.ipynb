{
 "cells": [
  {
   "cell_type": "markdown",
   "metadata": {},
   "source": [
    "## gen_doc.nbtest"
   ]
  },
  {
   "cell_type": "markdown",
   "metadata": {},
   "source": [
    "Notebook functions to search for api tests"
   ]
  },
  {
   "cell_type": "code",
   "execution_count": null,
   "metadata": {
    "hide_input": true
   },
   "outputs": [],
   "source": [
    "from fastai.gen_doc.nbdoc import *\n",
    "from fastai.gen_doc.nbtest import * "
   ]
  },
  {
   "cell_type": "markdown",
   "metadata": {},
   "source": [
    "## Find tests for any function/class"
   ]
  },
  {
   "cell_type": "markdown",
   "metadata": {},
   "source": [
    "[`show_test`](/gen_doc.nbtest.html#show_test) and [`doctest`](/gen_doc.nbtest.html#doctest) searches for any implemented tests for a given fastai class or function  \n",
    "\n",
    "For test writers:  \n",
    "* Use this module to search for tests and get a better idea on which parts of the fastai api need more functional tests\n",
    "\n",
    "For fastai users:  \n",
    "* Usage is similar to [`nbdoc.show_doc`](/gen_doc.nbdoc.html#show_doc) and [`nbdoc.doc`](/gen_doc.nbdoc.html#doc).  \n",
    "* It's here to help you find associated tests for a given function can help understand usage. \n"
   ]
  },
  {
   "cell_type": "markdown",
   "metadata": {},
   "source": [
    "## Usage:"
   ]
  },
  {
   "cell_type": "code",
   "execution_count": null,
   "metadata": {
    "hide_input": true
   },
   "outputs": [
    {
     "data": {
      "text/markdown": [
       "<h4 id=\"show_test\"><code>show_test</code><a href=\"https://github.com/fastai/fastai/blob/master/fastai/gen_doc/nbtest.py#L23\" class=\"source_link\">[source]</a></h4>\n",
       "\n",
       "> <code>show_test</code>(**`elt`**, **`search`**=***`True`***, **`markdown`**:`bool`=***`True`***) → `str`\n",
       "\n",
       "Show associated tests for a fastai function/class  "
      ],
      "text/plain": [
       "<IPython.core.display.Markdown object>"
      ]
     },
     "metadata": {},
     "output_type": "display_data"
    }
   ],
   "source": [
    "show_doc(show_test)"
   ]
  },
  {
   "cell_type": "markdown",
   "metadata": {},
   "source": [
    "**Show tests from function**"
   ]
  },
  {
   "cell_type": "code",
   "execution_count": null,
   "metadata": {},
   "outputs": [
    {
     "data": {
      "text/markdown": [
       "Tests found for `fit`:\n",
       "\n",
       "This tests:\n",
       " * `pytest -sv -k test_fit tests/test_train.py` [\\[source\\]](https://github.com/fastai/fastai/blob/master/tests/test_train.py#L27)"
      ],
      "text/plain": [
       "<IPython.core.display.Markdown object>"
      ]
     },
     "metadata": {},
     "output_type": "display_data"
    }
   ],
   "source": [
    "from fastai.basic_train import Learner\n",
    "show_test(Learner.fit)"
   ]
  },
  {
   "cell_type": "markdown",
   "metadata": {},
   "source": [
    "**Show tests from a Class**"
   ]
  },
  {
   "cell_type": "code",
   "execution_count": null,
   "metadata": {},
   "outputs": [
    {
     "data": {
      "text/markdown": [
       "Tests found for `DataBunch`:\n",
       "\n",
       "Direct tests:\n",
       " * `pytest -sv -k test_DataBunch_onebatch tests/test_basic_data.py` [\\[source\\]](https://github.com/fastai/fastai/blob/master/tests/test_basic_data.py#L30)\n",
       " * `pytest -sv -k test_DataBunch_show_batch tests/test_basic_data.py` [\\[source\\]](https://github.com/fastai/fastai/blob/master/tests/test_basic_data.py#L45)\n",
       " * `pytest -sv -k test_DataBunch_oneitem tests/test_basic_data.py` [\\[source\\]](https://github.com/fastai/fastai/blob/master/tests/test_basic_data.py#L38)\n",
       " * `pytest -sv -k test_DataBunch_Create tests/test_basic_data.py` [\\[source\\]](https://github.com/fastai/fastai/blob/master/tests/test_basic_data.py#L17)"
      ],
      "text/plain": [
       "<IPython.core.display.Markdown object>"
      ]
     },
     "metadata": {},
     "output_type": "display_data"
    }
   ],
   "source": [
    "from fastai.basic_data import DataBunch\n",
    "show_test(DataBunch)"
   ]
  },
  {
   "cell_type": "code",
   "execution_count": null,
   "metadata": {},
   "outputs": [
    {
     "data": {
      "text/markdown": [
       "Tests found for `TextList`:\n",
       "\n",
       "Related tests:\n",
       " * `pytest -sv -k test_from_folder tests/test_text_data.py` [\\[source\\]](https://github.com/fastai/fastai/blob/master/tests/test_text_data.py#L28)\n",
       " * `pytest -sv -k test_regression tests/test_text_data.py` [\\[source\\]](https://github.com/fastai/fastai/blob/master/tests/test_text_data.py#L161)\n",
       " * `pytest -sv -k test_filter_classes tests/test_text_data.py` [\\[source\\]](https://github.com/fastai/fastai/blob/master/tests/test_text_data.py#L39)"
      ],
      "text/plain": [
       "<IPython.core.display.Markdown object>"
      ]
     },
     "metadata": {},
     "output_type": "display_data"
    }
   ],
   "source": [
    "from fastai.text.data import TextList\n",
    "show_test(TextList)"
   ]
  },
  {
   "cell_type": "markdown",
   "metadata": {},
   "source": [
    "## Different test types"
   ]
  },
  {
   "cell_type": "markdown",
   "metadata": {},
   "source": [
    "Above, you will see 3 different test types: `This tests`, `Direct tests`, and `Related tests`\n",
    "\n",
    "* `This tests` - Searches for function matches in `test_api_db.json`. This json file is populated from `doctest.this_tests` calls.\n",
    "* `Direct tests` - Searches for any test function whose name contains the fastai function call\n",
    "* `Related tests` - Returns any test function where the fastai function in called inside the body"
   ]
  },
  {
   "cell_type": "markdown",
   "metadata": {},
   "source": [
    "## Show in notebook inline:"
   ]
  },
  {
   "cell_type": "code",
   "execution_count": null,
   "metadata": {
    "hide_input": true
   },
   "outputs": [
    {
     "data": {
      "text/markdown": [
       "<h4 id=\"doctest\"><code>doctest</code><a href=\"https://github.com/fastai/fastai/blob/master/fastai/gen_doc/nbtest.py#L53\" class=\"source_link\">[source]</a></h4>\n",
       "\n",
       "> <code>doctest</code>(**`elt`**)\n",
       "\n",
       "Inline notebook popup for [`show_test`](/gen_doc.nbtest.html#show_test)  "
      ],
      "text/plain": [
       "<IPython.core.display.Markdown object>"
      ]
     },
     "metadata": {},
     "output_type": "display_data"
    }
   ],
   "source": [
    "show_doc(doctest)"
   ]
  },
  {
   "cell_type": "markdown",
   "metadata": {},
   "source": [
    "## Internal search methods"
   ]
  },
  {
   "cell_type": "code",
   "execution_count": null,
   "metadata": {
    "hide_input": true
   },
   "outputs": [
    {
     "data": {
      "text/markdown": [
       "<h4 id=\"find_tests\"><code>find_tests</code><a href=\"https://github.com/fastai/fastai/blob/master/fastai/gen_doc/nbtest.py#L71\" class=\"source_link\">[source]</a></h4>\n",
       "\n",
       "> <code>find_tests</code>(**`elt`**) → `Tuple`\\[`List`\\[`Dict`\\[`KT`, `VT`\\]\\], `List`\\[`Dict`\\[`KT`, `VT`\\]\\]\\]\n",
       "\n",
       "Searches `fastai/tests` folder for any test functions related to `elt`  "
      ],
      "text/plain": [
       "<IPython.core.display.Markdown object>"
      ]
     },
     "metadata": {},
     "output_type": "display_data"
    }
   ],
   "source": [
    "show_doc(find_tests)"
   ]
  },
  {
   "cell_type": "markdown",
   "metadata": {},
   "source": [
    "[`find_tests`](/gen_doc.nbtest.html#find_tests)"
   ]
  },
  {
   "cell_type": "code",
   "execution_count": null,
   "metadata": {
    "hide_input": true
   },
   "outputs": [
    {
     "data": {
      "text/markdown": [
       "<h4 id=\"lookup_db\"><code>lookup_db</code><a href=\"https://github.com/fastai/fastai/blob/master/fastai/gen_doc/nbtest.py#L60\" class=\"source_link\">[source]</a></h4>\n",
       "\n",
       "> <code>lookup_db</code>(**`elt`**) → `List`\\[`Dict`\\[`KT`, `VT`\\]\\]\n",
       "\n",
       "Finds `this_test` entries from test_api_db.json  "
      ],
      "text/plain": [
       "<IPython.core.display.Markdown object>"
      ]
     },
     "metadata": {},
     "output_type": "display_data"
    }
   ],
   "source": [
    "show_doc(lookup_db)"
   ]
  },
  {
   "cell_type": "markdown",
   "metadata": {},
   "source": [
    "[`lookup_db`](/gen_doc.nbtest.html#lookup_db)"
   ]
  },
  {
   "cell_type": "code",
   "execution_count": null,
   "metadata": {
    "hide_input": true
   },
   "outputs": [
    {
     "data": {
      "text/markdown": [
       "<h4 id=\"find_test_matches\"><code>find_test_matches</code><a href=\"https://github.com/fastai/fastai/blob/master/fastai/gen_doc/nbtest.py#L112\" class=\"source_link\">[source]</a></h4>\n",
       "\n",
       "> <code>find_test_matches</code>(**`elt`**, **`test_file`**:`Path`) → `Tuple`\\[`List`\\[`Dict`\\[`KT`, `VT`\\]\\], `List`\\[`Dict`\\[`KT`, `VT`\\]\\]\\]\n",
       "\n",
       "Find all functions in `test_file` related to `elt`  "
      ],
      "text/plain": [
       "<IPython.core.display.Markdown object>"
      ]
     },
     "metadata": {},
     "output_type": "display_data"
    }
   ],
   "source": [
    "show_doc(find_test_matches)"
   ]
  },
  {
   "cell_type": "markdown",
   "metadata": {},
   "source": [
    "[`find_test_matches`](/gen_doc.nbtest.html#find_test_matches)"
   ]
  },
  {
   "cell_type": "code",
   "execution_count": null,
   "metadata": {
    "hide_input": true
   },
   "outputs": [
    {
     "data": {
      "text/markdown": [
       "<h4 id=\"find_test_files\"><code>find_test_files</code><a href=\"https://github.com/fastai/fastai/blob/master/fastai/gen_doc/nbtest.py#L91\" class=\"source_link\">[source]</a></h4>\n",
       "\n",
       "> <code>find_test_files</code>(**`elt`**, **`exact_match`**:`bool`=***`False`***) → `List`\\[`Path`\\]\n",
       "\n",
       "Searches in `fastai/tests` directory for module tests  "
      ],
      "text/plain": [
       "<IPython.core.display.Markdown object>"
      ]
     },
     "metadata": {},
     "output_type": "display_data"
    }
   ],
   "source": [
    "show_doc(find_test_files)"
   ]
  },
  {
   "cell_type": "markdown",
   "metadata": {},
   "source": [
    "[`find_test_files`](/gen_doc.nbtest.html#find_test_files)"
   ]
  },
  {
   "cell_type": "code",
   "execution_count": null,
   "metadata": {
    "hide_input": true
   },
   "outputs": [
    {
     "data": {
      "text/markdown": [
       "<h4 id=\"direct_test_match\"><code>direct_test_match</code><a href=\"https://github.com/fastai/fastai/blob/master/fastai/gen_doc/nbtest.py#L120\" class=\"source_link\">[source]</a></h4>\n",
       "\n",
       "> <code>direct_test_match</code>(**`elt`**, **`lines`**:`List`\\[`Dict`\\[`KT`, `VT`\\]\\], **`rel_path`**:`str`) → `List`\\[[`TestFunctionMatch`](/gen_doc.nbtest.html#TestFunctionMatch)\\]\n",
       "\n",
       "Any `def test_function_name():` where test name contains function/class name  "
      ],
      "text/plain": [
       "<IPython.core.display.Markdown object>"
      ]
     },
     "metadata": {},
     "output_type": "display_data"
    }
   ],
   "source": [
    "show_doc(direct_test_match)"
   ]
  },
  {
   "cell_type": "markdown",
   "metadata": {},
   "source": [
    "[`direct_test_match`](/gen_doc.nbtest.html#direct_test_match)"
   ]
  },
  {
   "cell_type": "code",
   "execution_count": null,
   "metadata": {
    "hide_input": true
   },
   "outputs": [
    {
     "data": {
      "text/markdown": [
       "<h4 id=\"fuzzy_test_match\"><code>fuzzy_test_match</code><a href=\"https://github.com/fastai/fastai/blob/master/fastai/gen_doc/nbtest.py#L129\" class=\"source_link\">[source]</a></h4>\n",
       "\n",
       "> <code>fuzzy_test_match</code>(**`elt`**, **`lines`**:`List`\\[`Dict`\\[`KT`, `VT`\\]\\], **`rel_path`**:`str`) → `List`\\[[`TestFunctionMatch`](/gen_doc.nbtest.html#TestFunctionMatch)\\]\n",
       "\n",
       "Find any lines where `elt` is called and return the parent test function  "
      ],
      "text/plain": [
       "<IPython.core.display.Markdown object>"
      ]
     },
     "metadata": {},
     "output_type": "display_data"
    }
   ],
   "source": [
    "show_doc(fuzzy_test_match)"
   ]
  },
  {
   "cell_type": "markdown",
   "metadata": {},
   "source": [
    "[`fuzzy_test_match`](/gen_doc.nbtest.html#fuzzy_test_match)"
   ]
  },
  {
   "cell_type": "markdown",
   "metadata": {},
   "source": [
    "## Undocumented Methods - Methods moved below this line will intentionally be hidden"
   ]
  }
 ],
 "metadata": {
  "jekyll": {
   "keywords": "fastai",
   "summary": "Helper functions to search for api tests",
   "title": "gen_doc.nbtest"
  },
  "kernelspec": {
   "display_name": "Python 3",
   "language": "python",
   "name": "python3"
  }
 },
 "nbformat": 4,
 "nbformat_minor": 2
}
