{
 "cells": [
  {
   "cell_type": "code",
   "execution_count": null,
   "metadata": {},
   "outputs": [],
   "source": [
    "from fastai import *        # Quick accesss to most common functionality\n",
    "from fastai.text import *   # Quick accesss to NLP functionality"
   ]
  },
  {
   "cell_type": "code",
   "execution_count": null,
   "metadata": {},
   "outputs": [
    {
     "data": {
      "text/plain": [
       "PosixPath('/home/ubuntu/.fastai/data/imdb_sample')"
      ]
     },
     "execution_count": null,
     "metadata": {},
     "output_type": "execute_result"
    }
   ],
   "source": [
    "path = untar_data(URLs.IMDB_SAMPLE)\n",
    "path"
   ]
  },
  {
   "cell_type": "code",
   "execution_count": null,
   "metadata": {},
   "outputs": [],
   "source": [
    "data_lm = (TextList.from_csv(path, 'texts.csv', create_func=None, col='text')#, processor=TextProcessor())\n",
    "                   .random_split_by_pct()\n",
    "                   .label_for_lm()\n",
    "                   .databunch())"
   ]
  },
  {
   "cell_type": "code",
   "execution_count": null,
   "metadata": {},
   "outputs": [
    {
     "data": {
      "text/html": [
       "<table>  <col width='5%'>  <col width='95%'>  <tr>\n",
       "    <th>idx</th>\n",
       "    <th>text</th>\n",
       "  </tr>\n",
       "  <tr>\n",
       "    <th>0</th>\n",
       "    <th>xxfld 1 i really like this film ... when i started to watch it i thought i would get bored pretty soon , but it surprised me ... i thought it was a great film and have seen it a few times now . the characters are believable and i have to say that i fell in love with brian xxunk green all over again ( the first time being beverly hills xxunk ) . i would recommend this film if you are a fan of his , but i do agree with another comment</th>\n",
       "  </tr>\n",
       "  <tr>\n",
       "    <th>1</th>\n",
       "    <th>get the crown xxunk to fit him yet . \\n\\n - to xxunk the actors ' return to their day jobs waiting tables , none were required to change their xxunk at all . the variety of hair included xxunk , xxunk , buzz cuts and a mullet and at least served to xxunk from the dialog . to prove it was a multi - national cast , all were encouraged to xxunk whatever accent they chose . \\n\\n - as is typical with this type of movie ( at least since mad max )</th>\n",
       "  </tr>\n",
       "  <tr>\n",
       "    <th>2</th>\n",
       "    <th>actually made her seem even more xxunk evil , to be xxunk at xxunk 's possibly dying . \\n\\n another character who helps this stand out is the xxunk . his look was a great cross between horrific and comedic xxunk - ball . hardly a character i would choose to meet in a dark xxunk or , for that matter anywhere . i would have preferred a bit of true xxunk mystery in this , but hey , when a short is this good , who 's going to complain . not xxunk xxfld</th>\n",
       "  </tr>\n",
       "  <tr>\n",
       "    <th>3</th>\n",
       "    <th>many xxunk between a xxunk xxunk and cooper . to top it off , you did n't get the normal feel - good ending which is what the public wants . i guess they learned after this movie . xxfld 1 there are no people like \" show people \" xxunk davies ( as xxunk xxunk ) and william haines ( as billy xxunk ) . my introduction to ms . davies was a \" clip \" from this film ; the xxunk xxunk one in which she xxunk a xxunk to reveal different emotions</th>\n",
       "  </tr>\n",
       "  <tr>\n",
       "    <th>4</th>\n",
       "    <th>so faithful as to include the sequence that features xxunk music from xxunk 's ballet \" the sleeping beauty \" - as marie xxunk xxunk , falls asleep on the sofa , and dreams that xxunk is \" xxunk \" the broken nutcracker ( this sequence was , of course , never included in xxunk 's original ballet --- it is the only sequence in this production which features music from a work other than \" the nutcracker \" ) . \\n\\n those who have missed out on this film , or those who xxunk</th>\n",
       "  </tr>\n",
       "  <tr>\n",
       "    <th>5</th>\n",
       "    <th>to remember that they are self supporting in their xxunk and this particular one xxunk a special xxunk of which boyer happens to be the one with the secret . the xxunk will have to xxunk it 's xxunk if boyer leaves . the xxunk are a xxunk xxunk group , but from the head man charles xxunk on down they 've a right to be a little concerned with some self interest . \\n\\n anyway a whole lot of religious xxunk get said here by a pair of leads that really are not suited</th>\n",
       "  </tr>\n",
       "  <tr>\n",
       "    <th>6</th>\n",
       "    <th>like it . i could be wrong . xxfld 1 loved the movie . i even liked most of the actors in it . but , for me ms . davis ' very poor attempt at an accent , and her stiff acting really makes an otherwise compelling movie very hard to watch . seriously if any other modern actor played the same role with the same style as ms . davis they would be laughed off the screen . \\n\\n i really think she ' xxunk this one in ' . now if it</th>\n",
       "  </tr>\n",
       "  <tr>\n",
       "    <th>7</th>\n",
       "    <th>the mix of both is mixed . i thought it was funny , but as with most all comedies , it was n't xxup that funny . i had my mom and little sister watch it with me and the jokes we made about it were funnier than the jokes scripted . there were moments of utter genius , but there were also moments of pure boredom . \\n\\n i xxunk hope that other movies take this kind of over - the - top risk and original ideas . i just ca n't say it</th>\n",
       "  </tr>\n",
       "  <tr>\n",
       "    <th>8</th>\n",
       "    <th>more than makes up for in acting and realism . it 's a quiet film about the bonds of friendship and shared experience . we even get romance ( not gratuitous -- just another very real piece of this story ) . it 's well worth seeing . xxfld 1 xxup before xxup the xxup devil xxup knows xxup you 're xxup dead starts off xxunk , setting up a simple xxunk that goes awry , told from varying xxunk ( in xxup xxunk style ) . at around the hour mark , sidney lumet</th>\n",
       "  </tr>\n",
       "  <tr>\n",
       "    <th>9</th>\n",
       "    <th>act without xxunk and a great supporting cast ( harvey xxunk , warren oates , valerie xxunk ) , tony richardson directing ( although he was pretty much a spent force by then )  but now it does n't even turn up on tv . the material certainly offers a rich xxunk of possibilities for comment on the 80s american dreams of xxunk and xxunk xxunk , with nicholson 's border xxunk turning a blind eye to the odd drug deal or bit of people xxunk to xxunk his wife 's xxunk xxunk ,</th>\n",
       "  </tr>\n",
       "</table>\n"
      ],
      "text/plain": [
       "<IPython.core.display.HTML object>"
      ]
     },
     "metadata": {},
     "output_type": "display_data"
    }
   ],
   "source": [
    "data_lm.show_batch()"
   ]
  },
  {
   "cell_type": "code",
   "execution_count": null,
   "metadata": {},
   "outputs": [
    {
     "data": {
      "text/plain": [
       "(6085, 6085)"
      ]
     },
     "execution_count": null,
     "metadata": {},
     "output_type": "execute_result"
    }
   ],
   "source": [
    "len(data_lm.train_ds.vocab.itos), len(data_lm.valid_ds.vocab.itos)"
   ]
  },
  {
   "cell_type": "code",
   "execution_count": null,
   "metadata": {},
   "outputs": [],
   "source": [
    "data_clas = (TextList.from_csv(path, 'texts.csv', create_func=None, col='text', vocab=data_lm.vocab)\n",
    "                     .random_split_by_pct()\n",
    "                     .label_from_df(cols=0)\n",
    "                     .databunch())"
   ]
  },
  {
   "cell_type": "code",
   "execution_count": null,
   "metadata": {},
   "outputs": [
    {
     "data": {
      "text/html": [
       "<table>  <col width='90%'>  <col width='10%'>  <tr>\n",
       "    <th>text</th>\n",
       "    <th>label</th>\n",
       "  </tr>\n",
       "  <tr>\n",
       "    <th>xxfld 1 xxunk victor xxunk : a review \\n\\n you know , xxunk victor xxunk is like sticking your hands into a big , xxunk xxunk of xxunk . it 's warm and xxunk , but you 're not sure if it feels right . try as i might ,</th>\n",
       "    <th>negative</th>\n",
       "  </tr>\n",
       "  <tr>\n",
       "    <th>xxfld 1 now that che(2008 ) has finished its relatively short australian cinema run ( extremely limited xxunk screen in xxunk , after xxunk ) , i can xxunk join both xxunk of \" at the movies \" in taking steven soderbergh to task . \\n\\n it 's usually satisfying</th>\n",
       "    <th>negative</th>\n",
       "  </tr>\n",
       "  <tr>\n",
       "    <th>xxfld 1 many xxunk that this is n't just a classic due to the fact that it 's the first 3d game , or even the first xxunk - up . it 's also one of the first xxunk games , one of the xxunk definitely the first ) truly</th>\n",
       "    <th>positive</th>\n",
       "  </tr>\n",
       "  <tr>\n",
       "    <th>xxfld 1 this film sat on my xxunk for weeks before i watched it . i xxunk a self - indulgent xxunk flick about relationships gone bad . i was wrong ; this was an xxunk xxunk into the xxunk - up xxunk of new xxunk . \\n\\n the format</th>\n",
       "    <th>positive</th>\n",
       "  </tr>\n",
       "  <tr>\n",
       "    <th>xxfld 1 \\n\\n i 'm sure things did n't exactly go the same way in the real life of xxunk xxunk as they did in the film adaptation of his book , rocket boys , but the movie \" xxunk sky \" ( an xxunk of the book 's title</th>\n",
       "    <th>positive</th>\n",
       "  </tr>\n",
       "</table>\n"
      ],
      "text/plain": [
       "<IPython.core.display.HTML object>"
      ]
     },
     "metadata": {},
     "output_type": "display_data"
    }
   ],
   "source": [
    "data_clas.show_batch()"
   ]
  },
  {
   "cell_type": "code",
   "execution_count": null,
   "metadata": {},
   "outputs": [],
   "source": [
    "learn = language_model_learner(data_lm, pretrained_model=URLs.WT103)"
   ]
  },
  {
   "cell_type": "code",
   "execution_count": null,
   "metadata": {},
   "outputs": [
    {
     "name": "stdout",
     "output_type": "stream",
     "text": [
      "Total time: 00:00\n",
      "\n"
     ]
    },
    {
     "data": {
      "text/plain": [
       "'Jeremy Howard is xxunk xxunk xxunk xxunk'"
      ]
     },
     "execution_count": null,
     "metadata": {},
     "output_type": "execute_result"
    }
   ],
   "source": [
    "learn.predict('Jeremy Howard is', 4)"
   ]
  },
  {
   "cell_type": "code",
   "execution_count": null,
   "metadata": {},
   "outputs": [],
   "source": [
    "learn = text_classifier_learner(data_clas)"
   ]
  },
  {
   "cell_type": "code",
   "execution_count": null,
   "metadata": {},
   "outputs": [
    {
     "data": {
      "text/plain": [
       "('negative', tensor(0), tensor([0.5415, 0.4585]))"
      ]
     },
     "execution_count": null,
     "metadata": {},
     "output_type": "execute_result"
    }
   ],
   "source": [
    "learn.predict('I really liked this movie!')"
   ]
  },
  {
   "cell_type": "code",
   "execution_count": null,
   "metadata": {},
   "outputs": [],
   "source": []
  }
 ],
 "metadata": {
  "kernelspec": {
   "display_name": "Python 3",
   "language": "python",
   "name": "python3"
  }
 },
 "nbformat": 4,
 "nbformat_minor": 2
}
