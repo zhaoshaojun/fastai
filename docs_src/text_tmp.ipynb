{
 "cells": [
  {
   "cell_type": "code",
   "execution_count": null,
   "metadata": {},
   "outputs": [],
   "source": [
    "from fastai import *        # Quick accesss to most common functionality\n",
    "from fastai.text import *   # Quick accesss to NLP functionality"
   ]
  },
  {
   "cell_type": "code",
   "execution_count": null,
   "metadata": {},
   "outputs": [
    {
     "data": {
      "text/plain": [
       "PosixPath('/home/ubuntu/.fastai/data/imdb_sample')"
      ]
     },
     "execution_count": null,
     "metadata": {},
     "output_type": "execute_result"
    }
   ],
   "source": [
    "path = untar_data(URLs.IMDB_SAMPLE)\n",
    "path"
   ]
  },
  {
   "cell_type": "code",
   "execution_count": null,
   "metadata": {},
   "outputs": [],
   "source": [
    "data_lm = (TextList.from_csv(path, 'texts.csv', create_func=None, col='text')#, processor=TextProcessor())\n",
    "                   .random_split_by_pct()\n",
    "                   .label_for_lm()\n",
    "                   .databunch())"
   ]
  },
  {
   "cell_type": "code",
   "execution_count": null,
   "metadata": {},
   "outputs": [
    {
     "data": {
      "text/html": [
       "<table>  <col width='5%'>  <col width='95%'>  <tr>\n",
       "    <th>idx</th>\n",
       "    <th>text</th>\n",
       "  </tr>\n",
       "  <tr>\n",
       "    <th>0</th>\n",
       "    <th>xxfld 1 if you want scream or anything like the big - studio horror product that we get forced on us these days do n't bother . this well - written film kept me up thinking about all it had to say . importance of xxunk in our lives to make it make sense , how children xxunk the world ( and the violence in it ) , our xxunk of the environment and ignorance of its history and legends .. all here , but not xxunk on the surface . you could technically call</th>\n",
       "  </tr>\n",
       "  <tr>\n",
       "    <th>1</th>\n",
       "    <th>their heads examined . who would take the idea of watching a xxunk little boy wreak havoc on others and xxunk it funny ? the movie is not funny , ever , in any way , beginning to end . it wants to be a cartoon , but the writers do n't realize that slapstick is n't funny when people get attacked by bears , or hit with baseball xxunk . it may be funny in cartoons , but not in a motion picture . \\n\\n the film 's young hero is junior ( michael</th>\n",
       "  </tr>\n",
       "  <tr>\n",
       "    <th>2</th>\n",
       "    <th>prove its lies were nothing but lies . \\n\\n  xxup liberal xxup xxunk ! an to think that they show this in school proves that the media has xxunk us into believing this garbage ! xxfld 1 this movie has always been a favorite of mine since first seeing it as a 12 year old kid in xxunk when it was shown on a los angeles television station 's \" late show \" . the characters are very engaging from the start of the picture , and it is too bad that the movie has</th>\n",
       "  </tr>\n",
       "  <tr>\n",
       "    <th>3</th>\n",
       "    <th>. \\n\\n the acting leaves something to be xxunk , though you can not quite place your finger on what it is . \\n\\n this is one of those that you watch on late night tv , perhaps on xxup usa , simply because you can not get to sleep . watch it if you want but do not expect too much from it . xxfld 1 even by xxunk standards of movie - making the setup which xxup her xxup cardboard xxup lover presents was dated to the extreme . the xxunk of one</th>\n",
       "  </tr>\n",
       "  <tr>\n",
       "    <th>4</th>\n",
       "    <th>xxunk times . the american version of the 1950s was justified to some xxunk - xxunk did not even exist yet . there were xxunk circumstances then . \\n\\n 4 out of 10 ( 1 point is given from the start , 1 point goes for the recklessness , and 2 points for the last part of the serial . thanks for attention . xxfld 1 \\n\\n i saw this on the sci - fi channel . it came on right after the first one . for some reason this movie kept me interested .</th>\n",
       "  </tr>\n",
       "  <tr>\n",
       "    <th>5</th>\n",
       "    <th>'s xxunk xxunk and the hero 's xxunk staring down bullets in a truck no less ! all of this might have been acceptable in the 80s when there was a xxunk in movie quality and bad movies like xxunk and xxunk xxunk xxunk became big hits , but movie - making has xxunk have xxunk subtle and thoughtful of late . \\n\\n xxunk xxunk is a capable director and i appreciate that he wants to give a social message in every movie he makes but maybe he simply does not know how to do</th>\n",
       "  </tr>\n",
       "  <tr>\n",
       "    <th>6</th>\n",
       "    <th>\\n\\n and we follow nick , who xxunk his xxunk to an older woman who he meets on a park xxunk , joey ( carol kane ) . joey is sort of weird and child - like , but is a good audience for nick , who needs a sympathetic ear . the two of them go to xxunk island at night , and look at the stars . nick falls under joey 's spell , despite the age difference between them . they go back to joey 's apartment , and nick gradually realizes</th>\n",
       "  </tr>\n",
       "  <tr>\n",
       "    <th>7</th>\n",
       "    <th>it is the artistic study of film noir taken to their visual xxunk of its philosophy , and nothing before has ever shared quite the same execution of this visual concept . \\n\\n all the characters in this decent xxunk film seem as if to have been walk off with purely from a gothic comic book in black xxunk , but all together their physical xxunk , their motions and the xxunk of their facial expressions look xxunk within a clear humanity . normally , films that try out new developments in animation allow their</th>\n",
       "  </tr>\n",
       "  <tr>\n",
       "    <th>8</th>\n",
       "    <th>xxunk biko 's word , he and his family begin living under threat of attack , and they are finally forced to xxunk the country . the last scene gut - xxunk shows police firing on xxunk . \\n\\n as one of two movies ( along with \" a world apart \" ) that helped xxunk the anti - apartheid movement , \" cry freedom \" stands out as possibly the best ever work for all involved . xxfld 1 this film is about a family trying to come to terms with the death of</th>\n",
       "  </tr>\n",
       "  <tr>\n",
       "    <th>9</th>\n",
       "    <th>a fake xxunk ! perhaps my expectations would have been met had this been in the comedy section . i 'm all for low - budget indie horror but this one takes the crap - cake . give five across the eyes ( or xxup fate ; get it ? ) a pass . \\n\\n xxunk gives xxup fate 1 xxunk out of five / xxfld 1 she is such an extraordinary singer , who cares about anything else xxrep 4 ! that final scene is one of the best moments in all of show</th>\n",
       "  </tr>\n",
       "</table>\n"
      ],
      "text/plain": [
       "<IPython.core.display.HTML object>"
      ]
     },
     "metadata": {},
     "output_type": "display_data"
    }
   ],
   "source": [
    "data_lm.show_batch()"
   ]
  },
  {
   "cell_type": "code",
   "execution_count": null,
   "metadata": {},
   "outputs": [
    {
     "data": {
      "text/plain": [
       "(6108, 6108)"
      ]
     },
     "execution_count": null,
     "metadata": {},
     "output_type": "execute_result"
    }
   ],
   "source": [
    "len(data_lm.train_ds.vocab.itos), len(data_lm.valid_ds.vocab.itos)"
   ]
  },
  {
   "cell_type": "code",
   "execution_count": null,
   "metadata": {},
   "outputs": [],
   "source": [
    "data_clas = (TextList.from_csv(path, 'texts.csv', create_func=None, col='text', vocab=data_lm.vocab)\n",
    "                     .random_split_by_pct()\n",
    "                     .label_from_df(cols=0)\n",
    "                     .databunch())"
   ]
  },
  {
   "cell_type": "code",
   "execution_count": null,
   "metadata": {},
   "outputs": [
    {
     "data": {
      "text/html": [
       "<table>  <col width='90%'>  <col width='10%'>  <tr>\n",
       "    <th>text</th>\n",
       "    <th>label</th>\n",
       "  </tr>\n",
       "  <tr>\n",
       "    <th>xxfld 1 xxunk victor xxunk : a review \\n\\n you know , xxunk victor xxunk is like sticking your hands into a big , xxunk xxunk of xxunk . it 's warm and xxunk , but you 're not sure if it feels right . try as i might ,</th>\n",
       "    <th>negative</th>\n",
       "  </tr>\n",
       "  <tr>\n",
       "    <th>xxfld 1 now that che(2008 ) has finished its relatively short australian cinema run ( extremely limited xxunk screen in xxunk , after xxunk ) , i can xxunk join both xxunk of \" at the movies \" in taking steven soderbergh to task . \\n\\n it 's usually satisfying</th>\n",
       "    <th>negative</th>\n",
       "  </tr>\n",
       "  <tr>\n",
       "    <th>xxfld 1 many xxunk that this is n't just a classic due to the fact that it 's the first 3d game , or even the first xxunk - up . it 's also one of the first xxunk games , one of the xxunk definitely the first ) truly</th>\n",
       "    <th>positive</th>\n",
       "  </tr>\n",
       "  <tr>\n",
       "    <th>xxfld 1 this film sat on my xxunk for weeks before i watched it . i xxunk a self - indulgent xxunk flick about relationships gone bad . i was wrong ; this was an xxunk xxunk into the xxunk - up xxunk of new xxunk . \\n\\n the format</th>\n",
       "    <th>positive</th>\n",
       "  </tr>\n",
       "  <tr>\n",
       "    <th>xxfld 1 \\n\\n i 'm sure things did n't exactly go the same way in the real life of xxunk xxunk as they did in the film adaptation of his book , rocket boys , but the movie \" xxunk sky \" ( an xxunk of the book 's title</th>\n",
       "    <th>positive</th>\n",
       "  </tr>\n",
       "</table>\n"
      ],
      "text/plain": [
       "<IPython.core.display.HTML object>"
      ]
     },
     "metadata": {},
     "output_type": "display_data"
    }
   ],
   "source": [
    "data_clas.show_batch()"
   ]
  },
  {
   "cell_type": "code",
   "execution_count": null,
   "metadata": {},
   "outputs": [],
   "source": [
    "learn = language_model_learner(data_lm, pretrained_model=URLs.WT103)"
   ]
  },
  {
   "cell_type": "code",
   "execution_count": null,
   "metadata": {},
   "outputs": [
    {
     "name": "stdout",
     "output_type": "stream",
     "text": [
      "Total time: 00:00\n",
      "\n"
     ]
    },
    {
     "data": {
      "text/plain": [
       "\"Jeremy Howard is . dressing 's -\""
      ]
     },
     "execution_count": null,
     "metadata": {},
     "output_type": "execute_result"
    }
   ],
   "source": [
    "learn.predict('Jeremy Howard is', 4)"
   ]
  },
  {
   "cell_type": "code",
   "execution_count": null,
   "metadata": {},
   "outputs": [],
   "source": [
    "path = untar_data(URLs.IMDB)\n",
    "path.ls()"
   ]
  },
  {
   "cell_type": "code",
   "execution_count": null,
   "metadata": {},
   "outputs": [],
   "source": [
    "data_clas = (TextFilesList.from_folder(path)\n",
    "             #grap all the text files in path\n",
    "            .split_by_folder(valid='test')\n",
    "             #label them all with their folder (that only keeps 'train' and 'test' so no need to filter)\n",
    "            .label_from_folder(classes=['neg', 'pos']))"
   ]
  }
 ],
 "metadata": {
  "kernelspec": {
   "display_name": "Python 3",
   "language": "python",
   "name": "python3"
  }
 },
 "nbformat": 4,
 "nbformat_minor": 2
}
