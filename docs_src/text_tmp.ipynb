{
 "cells": [
  {
   "cell_type": "code",
   "execution_count": null,
   "metadata": {},
   "outputs": [],
   "source": [
    "from fastai import *        # Quick accesss to most common functionality\n",
    "from fastai.text import *   # Quick accesss to NLP functionality"
   ]
  },
  {
   "cell_type": "code",
   "execution_count": null,
   "metadata": {},
   "outputs": [
    {
     "data": {
      "text/plain": [
       "PosixPath('/home/ubuntu/.fastai/data/imdb_sample')"
      ]
     },
     "execution_count": null,
     "metadata": {},
     "output_type": "execute_result"
    }
   ],
   "source": [
    "path = untar_data(URLs.IMDB_SAMPLE)\n",
    "path"
   ]
  },
  {
   "cell_type": "code",
   "execution_count": null,
   "metadata": {},
   "outputs": [],
   "source": [
    "data_lm = (TextList.from_csv(path, 'texts.csv', create_func=None, col='text')\n",
    "                   .random_split_by_pct()\n",
    "                   .label_for_lm()\n",
    "                   .preprocess()\n",
    "                   .databunch())"
   ]
  },
  {
   "cell_type": "code",
   "execution_count": null,
   "metadata": {},
   "outputs": [
    {
     "data": {
      "text/html": [
       "<table>  <col width='5%'>  <col width='95%'>  <tr>\n",
       "    <th>idx</th>\n",
       "    <th>text</th>\n",
       "  </tr>\n",
       "  <tr>\n",
       "    <th>0</th>\n",
       "    <th>xxfld 1 this movie is the first of the six infamous xxunk xxunk movies and is one of the best . at the same time , it looks realistic and unrealistic , just knowing that the movie is fake . the story is about a woman who got captured and is tortured in a lot of different ways . a man in the beginning of the story xxunk a letter without a return address , and it includes a manga video , showing the torture . the men who capture her are testing the limits</th>\n",
       "  </tr>\n",
       "  <tr>\n",
       "    <th>1</th>\n",
       "    <th>senses and xxunk his guilt willing to face the music and then , after his three year sentence is up , get his life back together . \\n\\n * * * xxup spoiler xxup xxunk * * * hearing rumors from fellow convicts that rose and his best friend fred were having an affair behind his back jimmy broke out of prison ending up a xxunk from the law . it 's at fred 's circus , where he works as both xxunk and barker , that jimmy in seeing that rose as well as</th>\n",
       "  </tr>\n",
       "  <tr>\n",
       "    <th>2</th>\n",
       "    <th>film has no victims , except lily 's childhood , which was destroyed by an abusive exploitative father . the destructive relationship with her father suggests lily 's hidden xxunk for using men to xxunk without regard for their fate . while lily is cynical and obvious in her approach , the men she xxunk xxunk xxunk wives and xxunk to trade jobs for sexual xxunk . perhaps the bank failures in the 1930 's xxunk less to xxunk than to morally corrupt executives xxunk by ambitious women . \\n\\n the plot moves fast ,</th>\n",
       "  </tr>\n",
       "  <tr>\n",
       "    <th>3</th>\n",
       "    <th>, it is less than clear why would she burn phillip 's money ( xxunk intended different in his novel ) . after all , she could as well steal it and drunk xxunk of champagne . \\n\\n for modern standards the film is a bit outdated , but each subsequent time you watch it , you can reveal new interesting details due to superior acting , fascinating music and original editing , so it does deserve the highest possible mark . xxfld 1 i was surprised , that ' ' the secret fury ''</th>\n",
       "  </tr>\n",
       "  <tr>\n",
       "    <th>4</th>\n",
       "    <th>did get off slightly better than poor old bela lugosi but not by much . \\n\\n boris does his best and give him credit for trying to hold this mess together . the xxunk background music does n't help and xxunk from any xxunk moment . apart from boris , the rest of the mexican cast are dubbed into some strange , xxunk , english xxunk that is reminiscent of the type used in porn films of the late seventies . \\n\\n at a guess i think it 's edgar allen poe 's ' house</th>\n",
       "  </tr>\n",
       "  <tr>\n",
       "    <th>5</th>\n",
       "    <th>, but felt that it would be unfair . there was a representation of a storm , but where in your mind do you xxunk a small boy xxunk over a toy boat ? it is symbolic of what ? i continued another ten minutes my finger xxunk over the ' off ' button , somewhere something would capture my interest . this is not shakespeare , it is not cinema . there is a time and place for it , but i will not waste my time and there is no place for it</th>\n",
       "  </tr>\n",
       "  <tr>\n",
       "    <th>6</th>\n",
       "    <th>peters , followed a long - standing tradition of xxunk who should be watched with the xxunk turned completely down . \\n\\n - the xxunk focus of the movie was a repeating , compound xxunk with xxunk xxunk . it never needed to be loaded and even had a xxunk when fired . it managed to shred the laws of physics , the integrity of the original legend , historical fact and plot suspense all by itself . \\n\\n - xxunk 's palace , xxunk , rather than being a xxunk long hall , apparently</th>\n",
       "  </tr>\n",
       "  <tr>\n",
       "    <th>7</th>\n",
       "    <th>somewhere a long way from a cinema . \\n\\n paul greengrass 's xxunk style worked exceptionally well on united xxunk which was a sentiment xxunk desperate to happen , but on bourne and his xxunk xxunk it just has the effect of xxunk the audience from involvement with the character . he runs . he jumps . he punches . he gets blown up . he xxunk tall buildings . yada yada yada . above all - he xxup survives . he survives like a plastic action man survives , which only makes the ridiculous</th>\n",
       "  </tr>\n",
       "  <tr>\n",
       "    <th>8</th>\n",
       "    <th>of the 1950s was justified to some xxunk - xxunk did not even exist yet . there were xxunk circumstances then . \\n\\n 4 out of 10 ( 1 point is given from the start , 1 point goes for the recklessness , and 2 points for the last part of the serial . thanks for attention . xxfld 1 this movie had good intentions and a good story to work with . the director and screenwriter of this movie failed miserably and created a dull , boring xxunk that made me feel like i</th>\n",
       "  </tr>\n",
       "  <tr>\n",
       "    <th>9</th>\n",
       "    <th>the things that immediately jump out at me : 1 . the woods were more like hills in los angeles with a couple trees and xxunk . not scary whatsoever . news flash , if you are filming in the southern california area , big bear is only an hour away . they actually have trees there . \\n\\n 2 . the writing was absolutely without a doubt the worst dialogue i have ever experienced . every possible line in the movie was xxunk , cliché , or just plain stupid . for instance the</th>\n",
       "  </tr>\n",
       "</table>\n"
      ],
      "text/plain": [
       "<IPython.core.display.HTML object>"
      ]
     },
     "metadata": {},
     "output_type": "display_data"
    }
   ],
   "source": [
    "data_lm.show_batch()"
   ]
  },
  {
   "cell_type": "code",
   "execution_count": null,
   "metadata": {},
   "outputs": [],
   "source": [
    "data_clas = (TextList.from_csv(path, 'texts.csv', create_func=None, col='text')\n",
    "                     .random_split_by_pct()\n",
    "                     .label_from_df(cols=0)\n",
    "                     .preprocess()\n",
    "                     .databunch())"
   ]
  },
  {
   "cell_type": "code",
   "execution_count": null,
   "metadata": {},
   "outputs": [
    {
     "data": {
      "text/html": [
       "<table>  <col width='90%'>  <col width='10%'>  <tr>\n",
       "    <th>text</th>\n",
       "    <th>label</th>\n",
       "  </tr>\n",
       "  <tr>\n",
       "    <th>xxfld 1 raising victor vargas : a review \\n\\n you know , raising victor vargas is like sticking your hands into a big , xxunk bowl of xxunk . it 's warm and gooey , but you 're not sure if it feels right . try as i might ,</th>\n",
       "    <th>negative</th>\n",
       "  </tr>\n",
       "  <tr>\n",
       "    <th>xxfld 1 xxup the xxup shop xxup around xxup the xxup corner is one of the xxunk and most feel - good romantic comedies ever made . there 's just no getting around that , and it 's hard to actually put one 's feeling for this film into words</th>\n",
       "    <th>positive</th>\n",
       "  </tr>\n",
       "  <tr>\n",
       "    <th>xxfld 1 now that che(2008 ) has finished its relatively short australian cinema run ( extremely limited xxunk screen in xxunk , after xxunk ) , i can xxunk join both xxunk of \" at the movies \" in taking steven soderbergh to task . \\n\\n it 's usually satisfying</th>\n",
       "    <th>negative</th>\n",
       "  </tr>\n",
       "  <tr>\n",
       "    <th>xxfld 1 many xxunk that this is n't just a classic due to the fact that it 's the first 3d game , or even the first xxunk - up . it 's also one of the first xxunk games , one of the xxunk definitely the first ) truly</th>\n",
       "    <th>positive</th>\n",
       "  </tr>\n",
       "  <tr>\n",
       "    <th>xxfld 1 i really wanted to love this show . i truly , honestly did . \\n\\n for the first time , gay viewers get their own version of the \" the bachelor \" . with the help of his obligatory \" hag \" xxunk , james , a good</th>\n",
       "    <th>negative</th>\n",
       "  </tr>\n",
       "</table>\n"
      ],
      "text/plain": [
       "<IPython.core.display.HTML object>"
      ]
     },
     "metadata": {},
     "output_type": "display_data"
    }
   ],
   "source": [
    "data_clas.show_batch()"
   ]
  },
  {
   "cell_type": "code",
   "execution_count": null,
   "metadata": {},
   "outputs": [
    {
     "data": {
      "text/plain": [
       "tensor([[  42,    1,    1,  ...,    1,    1,    1],\n",
       "        [  40,    1,    1,  ...,    1,    1,    1],\n",
       "        [2462,    1,    1,  ...,    1,    1,    1],\n",
       "        ...,\n",
       "        [   0,  886,  118,  ...,  310,    2,   35],\n",
       "        [   4,   96,  164,  ...,   54,  146,  143],\n",
       "        [  19,    4,   26,  ...,    4,   50,    4]], device='cuda:0')"
      ]
     },
     "execution_count": null,
     "metadata": {},
     "output_type": "execute_result"
    }
   ],
   "source": [
    "x,y = next(iter(data_clas.train_dl));\n",
    "x"
   ]
  },
  {
   "cell_type": "code",
   "execution_count": null,
   "metadata": {},
   "outputs": [],
   "source": [
    "learn = language_model_learner(data_lm)"
   ]
  },
  {
   "cell_type": "code",
   "execution_count": null,
   "metadata": {},
   "outputs": [],
   "source": [
    "learn = text_classifier_learner(data_clas)"
   ]
  },
  {
   "cell_type": "code",
   "execution_count": null,
   "metadata": {},
   "outputs": [],
   "source": [
    "def open_text(fn:PathOrStr):\n",
    "    with open(fn,'r') as f: return ''.join(f.readlines())"
   ]
  },
  {
   "cell_type": "code",
   "execution_count": null,
   "metadata": {},
   "outputs": [],
   "source": [
    "def _treat_html(o:str)->str:\n",
    "    return o.replace('\\n','\\\\n')\n",
    "\n",
    "def _text2html_table(items:Collection[Collection[str]], widths:Collection[int])->str:\n",
    "    html_code = f\"<table>\"\n",
    "    for w in widths: html_code += f\"  <col width='{w}%'>\"\n",
    "    for line in items:\n",
    "        html_code += \"  <tr>\\n\"\n",
    "        html_code += \"\\n\".join([f\"    <th>{_treat_html(o)}</th>\" for o in line if len(o) >= 1])\n",
    "        html_code += \"\\n  </tr>\\n\"\n",
    "    return html_code + \"</table>\\n\""
   ]
  },
  {
   "cell_type": "code",
   "execution_count": null,
   "metadata": {},
   "outputs": [],
   "source": [
    "class Text(ItemBase):\n",
    "    def __init__(self, ids, text): self.data,self.text = ids,text\n",
    "    def __str__(self):  return str(self.text)\n",
    "    \n",
    "    def show_batch(self, idxs:Collection[int], rows:int, ds:Dataset, figsize:Tuple[int,int]=(9,10))->None:\n",
    "        from IPython.display import display, HTML\n",
    "        items = [['text', 'label']]\n",
    "        for i in idxs[:rows]:\n",
    "            x,y = ds[i]\n",
    "            items.append([str(x), str(y)])\n",
    "        display(HTML(_text2html_table(items, [90,10])))\n",
    "\n",
    "class NumericalizedTextList(ItemList):\n",
    "    def __init__(self, items:Iterator, vocab:Vocab=None, create_func:Callable=None, path:PathOrStr='.', xtra=None):\n",
    "        super().__init__(items, create_func=create_func, path=path, xtra=xtra)\n",
    "        self.vocab = vocab\n",
    "        \n",
    "    def new(self, items:Iterator, xtra:Any=None)->'NumericalizedTextList':\n",
    "        return super().new(items=items, vocab=self.vocab, xtra=xtra)\n",
    "    \n",
    "    def get(self, i):\n",
    "        o = super().get(i)\n",
    "        return Text(o, self.vocab.textify(o))\n",
    "    \n",
    "class TokenizedTextList(NumericalizedTextList):\n",
    "    def preprocess(self, vocab:Vocab=None, max_vocab:int=60000, min_freq:int=2):\n",
    "        self.vocab = ifnone(vocab, Vocab.create(self.items, max_vocab, min_freq))\n",
    "        self.preprocess_kwargs = {'vocab': self.vocab}\n",
    "        self.items = np.array([self.vocab.numericalize(t) for t in self.items])\n",
    "    \n",
    "class TextList(TokenizedTextList):\n",
    "    def preprocess(self, tokenizer:Tokenizer=None, chunksize:int=10000, vocab:Vocab=None, \n",
    "                   max_vocab:int=60000, min_freq:int=2):\n",
    "        tokenizer = ifnone(tokenizer, Tokenizer())\n",
    "        tokens = []\n",
    "        for i in progress_bar(range(0,len(self.items),chunksize), leave=False):\n",
    "            tokens += tokenizer.process_all(self.items[i:i+chunksize])\n",
    "        self.items = tokens\n",
    "        super().preprocess(vocab, max_vocab, min_freq)\n",
    "    \n",
    "class TextFilesList(TextList):\n",
    "    def __init__(self, items:Iterator, create_func:Callable=None, path:PathOrStr='.'):\n",
    "        texts = [open_text(fn) for fn in items]\n",
    "        super().__init__(texts, create_func, path)"
   ]
  },
  {
   "cell_type": "code",
   "execution_count": null,
   "metadata": {},
   "outputs": [
    {
     "ename": "TypeError",
     "evalue": "label_for_lm() got an unexpected keyword argument 'template'",
     "output_type": "error",
     "traceback": [
      "\u001b[0;31m---------------------------------------------------------------------------\u001b[0m",
      "\u001b[0;31mTypeError\u001b[0m                                 Traceback (most recent call last)",
      "\u001b[0;32m<ipython-input-3-6dbf0461b165>\u001b[0m in \u001b[0;36m<module>\u001b[0;34m()\u001b[0m\n\u001b[0;32m----> 1\u001b[0;31m data_lm = (TextList.from_csv(path, 'texts.csv', create_func=None, col='text')\n\u001b[0m\u001b[1;32m      2\u001b[0m                    \u001b[0;34m.\u001b[0m\u001b[0mrandom_split_by_pct\u001b[0m\u001b[0;34m(\u001b[0m\u001b[0;34m)\u001b[0m\u001b[0;34m\u001b[0m\u001b[0m\n\u001b[1;32m      3\u001b[0m                    \u001b[0;34m.\u001b[0m\u001b[0mlabel_for_lm\u001b[0m\u001b[0;34m(\u001b[0m\u001b[0;34m)\u001b[0m\u001b[0;34m\u001b[0m\u001b[0m\n\u001b[1;32m      4\u001b[0m                    \u001b[0;34m.\u001b[0m\u001b[0mpreprocess\u001b[0m\u001b[0;34m(\u001b[0m\u001b[0;34m)\u001b[0m\u001b[0;34m\u001b[0m\u001b[0m\n\u001b[1;32m      5\u001b[0m                    .databunch())\n",
      "\u001b[0;32m~/fastai/fastai/data_block.py\u001b[0m in \u001b[0;36m_inner\u001b[0;34m(*args, **kwargs)\u001b[0m\n\u001b[1;32m    222\u001b[0m             \u001b[0mself\u001b[0m\u001b[0;34m.\u001b[0m\u001b[0mtrain\u001b[0m \u001b[0;34m=\u001b[0m \u001b[0mft\u001b[0m\u001b[0;34m(\u001b[0m\u001b[0;34m*\u001b[0m\u001b[0margs\u001b[0m\u001b[0;34m,\u001b[0m \u001b[0;34m**\u001b[0m\u001b[0mkwargs\u001b[0m\u001b[0;34m)\u001b[0m\u001b[0;34m\u001b[0m\u001b[0m\n\u001b[1;32m    223\u001b[0m             \u001b[0;32massert\u001b[0m \u001b[0misinstance\u001b[0m\u001b[0;34m(\u001b[0m\u001b[0mself\u001b[0m\u001b[0;34m.\u001b[0m\u001b[0mtrain\u001b[0m\u001b[0;34m,\u001b[0m \u001b[0mLabelList\u001b[0m\u001b[0;34m)\u001b[0m\u001b[0;34m\u001b[0m\u001b[0m\n\u001b[0;32m--> 224\u001b[0;31m             \u001b[0mself\u001b[0m\u001b[0;34m.\u001b[0m\u001b[0mvalid\u001b[0m \u001b[0;34m=\u001b[0m \u001b[0mfv\u001b[0m\u001b[0;34m(\u001b[0m\u001b[0;34m*\u001b[0m\u001b[0margs\u001b[0m\u001b[0;34m,\u001b[0m \u001b[0mtemplate\u001b[0m\u001b[0;34m=\u001b[0m\u001b[0mself\u001b[0m\u001b[0;34m.\u001b[0m\u001b[0mtrain\u001b[0m\u001b[0;34m.\u001b[0m\u001b[0my\u001b[0m\u001b[0;34m,\u001b[0m \u001b[0;34m**\u001b[0m\u001b[0mkwargs\u001b[0m\u001b[0;34m)\u001b[0m\u001b[0;34m\u001b[0m\u001b[0m\n\u001b[0m\u001b[1;32m    225\u001b[0m             \u001b[0mself\u001b[0m\u001b[0;34m.\u001b[0m\u001b[0m__class__\u001b[0m \u001b[0;34m=\u001b[0m \u001b[0mLabelLists\u001b[0m\u001b[0;34m\u001b[0m\u001b[0m\n\u001b[1;32m    226\u001b[0m             \u001b[0;32mreturn\u001b[0m \u001b[0mself\u001b[0m\u001b[0;34m\u001b[0m\u001b[0m\n",
      "\u001b[0;31mTypeError\u001b[0m: label_for_lm() got an unexpected keyword argument 'template'"
     ]
    }
   ],
   "source": [
    "data_lm = (TextList.from_csv(path, 'texts.csv', create_func=None, col='text')\n",
    "                   .random_split_by_pct()\n",
    "                   .label_for_lm()\n",
    "                   .preprocess()\n",
    "                   .databunch())"
   ]
  },
  {
   "cell_type": "code",
   "execution_count": null,
   "metadata": {},
   "outputs": [],
   "source": [
    "il = (TextList.from_csv(path, 'texts.csv', create_func=None, col='text')\n",
    "        .random_split_by_pct()\n",
    "        .label_from_df(cols=0)\n",
    "     )"
   ]
  },
  {
   "cell_type": "code",
   "execution_count": null,
   "metadata": {},
   "outputs": [],
   "source": [
    "sd = il.preprocess()"
   ]
  },
  {
   "cell_type": "code",
   "execution_count": null,
   "metadata": {},
   "outputs": [
    {
     "data": {
      "text/plain": [
       "(6020, 6020)"
      ]
     },
     "execution_count": null,
     "metadata": {},
     "output_type": "execute_result"
    }
   ],
   "source": [
    "len(sd.valid.vocab.itos), len(sd.train.vocab.itos)"
   ]
  },
  {
   "cell_type": "code",
   "execution_count": null,
   "metadata": {},
   "outputs": [
    {
     "data": {
      "text/html": [
       "<div>\n",
       "<style scoped>\n",
       "    .dataframe tbody tr th:only-of-type {\n",
       "        vertical-align: middle;\n",
       "    }\n",
       "\n",
       "    .dataframe tbody tr th {\n",
       "        vertical-align: top;\n",
       "    }\n",
       "\n",
       "    .dataframe thead th {\n",
       "        text-align: right;\n",
       "    }\n",
       "</style>\n",
       "<table border=\"1\" class=\"dataframe\">\n",
       "  <thead>\n",
       "    <tr style=\"text-align: right;\">\n",
       "      <th></th>\n",
       "      <th>label</th>\n",
       "      <th>text</th>\n",
       "      <th>is_valid</th>\n",
       "    </tr>\n",
       "  </thead>\n",
       "  <tbody>\n",
       "    <tr>\n",
       "      <th>0</th>\n",
       "      <td>negative</td>\n",
       "      <td>Un-bleeping-believable! Meg Ryan doesn't even ...</td>\n",
       "      <td>False</td>\n",
       "    </tr>\n",
       "    <tr>\n",
       "      <th>1</th>\n",
       "      <td>positive</td>\n",
       "      <td>This is a extremely well-made film. The acting...</td>\n",
       "      <td>False</td>\n",
       "    </tr>\n",
       "    <tr>\n",
       "      <th>2</th>\n",
       "      <td>negative</td>\n",
       "      <td>Every once in a long while a movie will come a...</td>\n",
       "      <td>False</td>\n",
       "    </tr>\n",
       "    <tr>\n",
       "      <th>3</th>\n",
       "      <td>positive</td>\n",
       "      <td>Name just says it all. I watched this movie wi...</td>\n",
       "      <td>False</td>\n",
       "    </tr>\n",
       "    <tr>\n",
       "      <th>4</th>\n",
       "      <td>negative</td>\n",
       "      <td>This movie succeeds at being one of the most u...</td>\n",
       "      <td>False</td>\n",
       "    </tr>\n",
       "  </tbody>\n",
       "</table>\n",
       "</div>"
      ],
      "text/plain": [
       "      label                                               text  is_valid\n",
       "0  negative  Un-bleeping-believable! Meg Ryan doesn't even ...     False\n",
       "1  positive  This is a extremely well-made film. The acting...     False\n",
       "2  negative  Every once in a long while a movie will come a...     False\n",
       "3  positive  Name just says it all. I watched this movie wi...     False\n",
       "4  negative  This movie succeeds at being one of the most u...     False"
      ]
     },
     "execution_count": null,
     "metadata": {},
     "output_type": "execute_result"
    }
   ],
   "source": [
    "df = pd.read_csv(path/'texts.csv')\n",
    "df.head()"
   ]
  },
  {
   "cell_type": "code",
   "execution_count": null,
   "metadata": {},
   "outputs": [
    {
     "ename": "AttributeError",
     "evalue": "'TextList' object has no attribute 'pp_kwargs'",
     "output_type": "error",
     "traceback": [
      "\u001b[0;31m---------------------------------------------------------------------------\u001b[0m",
      "\u001b[0;31mAttributeError\u001b[0m                            Traceback (most recent call last)",
      "\u001b[0;32m<ipython-input-12-4b08a34841cd>\u001b[0m in \u001b[0;36m<module>\u001b[0;34m()\u001b[0m\n\u001b[0;32m----> 1\u001b[0;31m \u001b[0msd\u001b[0m\u001b[0;34m.\u001b[0m\u001b[0mvalid\u001b[0m\u001b[0;34m.\u001b[0m\u001b[0mx\u001b[0m\u001b[0;34m.\u001b[0m\u001b[0mpp_kwargs\u001b[0m\u001b[0;34m\u001b[0m\u001b[0m\n\u001b[0m",
      "\u001b[0;31mAttributeError\u001b[0m: 'TextList' object has no attribute 'pp_kwargs'"
     ]
    }
   ],
   "source": [
    "sd.valid"
   ]
  },
  {
   "cell_type": "code",
   "execution_count": null,
   "metadata": {},
   "outputs": [
    {
     "data": {
      "text/plain": [
       "LabelLists;\n",
       "Train: LabelList\n",
       "y: CategoryList (800 items)\n",
       "['negative' 'positive' 'negative' 'positive' ... 'positive' 'negative' 'negative' 'positive']\n",
       "Path: .\n",
       "x: TextList (800 items)\n",
       "[list([4619, 18, 0, 18, 977, 48, 3775, 1704, 87, 30, 73, 183, 60, 943, 0, 2449, 476, 11, 14, 4, 80, 1999, 187, 83, 3776, 60, 1705, 0, 124, 0, 3, 235, 8, 274, 71, 17, 2, 1706, 28, 14, 1020, 3, 1057, 1464, 3777, 88, 57, 236, 7, 1559, 1707, 58, 36, 824, 100, 28, 61, 0, 89, 0, 48, 48, 48, 528, 14, 17, 649, 43, 2, 244, 47, 82, 214, 0, 61, 237, 38, 6, 3778, 7, 0, 18, 381, 408, 3, 0, 48])\n",
       " list([14, 9, 6, 634, 85, 18, 105, 25, 3, 2, 124, 4, 250, 5, 370, 18, 194, 33, 40, 99, 18, 1113, 3, 2, 287, 9, 62, 4, 115, 4, 164, 10, 9, 599, 382, 11, 2, 25, 4, 66, 215, 33, 151, 2768, 0, 3, 49, 33, 68, 74, 0, 11, 2, 209, 4, 164, 581, 1560, 90, 38, 1465, 3, 2, 413, 209, 87, 42, 355, 338, 23, 2, 250, 3, 19, 24, 10, 9, 235, 8, 119, 4, 97, 49, 9, 68, 62, 147, 8, 6, 1058, 44, 2, 37, 1843, 3, 10, 9, 171, 0, 8, 1844, 2, 744, 20, 944, 4620, 5, 3194, 458, 251, 102, 4, 5, 101, 0, 0, 108, 84, 112, 2769, 3, 49, 9, 56, 3195, 11, 14, 582, 4, 24, 10, 16, 91, 226, 13, 68, 37, 718, 4620, 5, 3194, 11, 2, 4621, 8, 0, 251, 102, 21, 39, 82, 184, 2, 72, 7, 0, 3, 10, 200, 63, 2000, 13, 2, 744, 266, 238, 2, 0, 173, 2, 0, 5, 70, 1169, 196, 8, 0, 108, 8, 69, 205, 615, 3, 19, 2, 1466, 9, 13, 49, 9, 93, 3779, 5, 4622, 11, 2, 1058, 5, 14, 9, 64, 4623, 8, 398, 5, 8, 81, 28, 2, 305, 3, 24, 10, 9, 116, 3196, 21, 6, 317, 18, 5, 18, 511, 371, 3, 49, 9, 0, 5, 0, 28, 203, 2450, 4, 5, 91, 2, 492, 20, 635, 11, 2, 2179, 2001, 3, 19, 49, 9, 1845, 7, 6, 485, 4, 11, 2, 147, 4, 66, 0, 58, 8, 111, 6, 235, 1561, 173, 6, 128, 47, 58, 2002, 60, 125, 4, 24, 91, 428, 583, 60, 4, 5, 60, 222, 80, 58, 0, 60, 4, 101, 306, 233, 279, 20, 60, 3, 24, 43, 13, 191, 4, 71, 58, 68, 0, 13, 9, 207, 104, 849, 20, 60, 3, 19, 14, 25, 3197, 2, 719, 13, 203, 3194, 5, 4620, 34, 69, 1708, 4624, 4, 5, 91, 13, 203, 77, 38, 0, 5, 3198, 96, 3, 2, 745, 7, 0, 187, 13, 0, 40, 2, 63, 3780, 4, 283, 49, 77, 116, 38, 167, 0, 676, 2, 4625, 110, 0, 1846, 3, 11, 13, 267, 4, 10, 9, 650, 8, 15, 467, 189, 2770, 0, 15, 3, 19, 11, 2, 147, 4, 86, 70, 1235, 8, 34, 123, 2, 25, 4, 73, 164, 2, 2180, 17, 4626, 3, 53, 2, 2771, 5, 211, 98, 804, 23, 69, 205, 0, 7, 1562, 23, 14, 236, 7, 0, 4, 39, 67, 477, 38, 134, 145, 3])\n",
       " list([216, 302, 11, 6, 253, 155, 6, 22, 90, 233, 376, 13, 90, 38, 46, 450, 13, 12, 239, 2451, 8, 2181, 96, 3, 53, 12, 3199, 40, 75, 546, 5, 12, 77, 651, 24, 37, 1388, 45, 174, 14, 22, 4, 103, 104, 90, 38, 75, 2772, 3, 19, 121, 8, 805, 75, 4627, 7, 849, 3, 20, 0, 4, 49, 17, 6, 876, 4628, 216, 478, 243, 3, 49, 17, 68, 130, 1309, 3, 216, 130, 17, 6, 3781, 3, 86, 78, 0, 244, 4, 1467, 244, 47, 3200, 4629, 4, 3201, 1847, 244, 4, 512, 3, 2, 250, 414, 21, 53, 10, 70, 126, 429, 21, 2, 22, 17, 126, 271, 3, 2, 324, 1114, 17, 46, 825, 387, 13, 10, 414, 44, 12, 17, 174, 6, 1563, 333, 346, 3202, 3, 34, 2, 1059, 4, 1060, 4, 512, 3, 139, 73, 123, 6, 22, 160, 61, 0, 9, 404, 415, 5, 415, 23, 216, 168, 3782, 3, 2, 945, 20, 14, 22, 3783, 46, 182, 3, 103, 98, 26, 149, 362, 23, 2003, 4630, 5, 6, 3203, 7, 513, 4631, 172, 3, 24, 2182, 83, 66, 12, 141, 14, 4, 215, 541, 362, 4, 31, 64, 31, 362, 3])\n",
       " list([405, 52, 438, 10, 40, 3, 12, 322, 14, 22, 23, 75, 978, 66, 10, 394, 55, 5, 299, 2183, 11, 0, 35, 78, 104, 4632, 20, 2, 128, 3, 2, 2004, 165, 51, 14, 25, 9, 13, 10, 79, 0, 28, 6, 406, 1061, 7, 2, 128, 16, 125, 18, 3204, 196, 2, 128, 16, 413, 125, 67, 34, 105, 152, 42, 1236, 4633, 18, 0, 13, 10, 9, 4634, 8, 773, 2, 2452, 20, 324, 3, 19, 56, 4635, 0, 8, 2, 2184, 0, 51, 2, 128, 4, 80, 33, 547, 720, 3, 2, 694, 7, 2, 22, 15, 2453, 4, 3205, 4, 652, 15, 33, 32, 52, 2454, 746, 0, 45, 2, 2455, 7, 6, 333, 18, 0, 2185, 18, 10, 9, 2, 774, 0, 7, 37, 128, 16, 908, 0, 8, 36, 652, 3, 19, 2456, 0, 126, 2, 3206, 13, 35, 17, 0, 6, 134, 1468, 7, 2, 128, 3, 35, 87, 6, 104, 338, 850, 2, 0, 616, 0, 23, 2, 0, 514, 7, 2, 128, 3])\n",
       " ...\n",
       " list([302, 591, 6, 72, 381, 1712, 402, 18, 190, 4, 2697, 18, 1038, 113, 207, 2327, 857, 4, 0, 4, 5, 585, 18, 0, 469, 3, 154, 113, 1021, 0, 138, 1249, 68, 3376, 138, 1202, 3, 2, 2928, 0, 127, 45, 2, 2076, 3, 39, 3520, 2, 177, 1328, 5, 2297, 2, 177, 0, 3, 283, 2, 1713, 4, 2, 25, 1261, 58, 180, 93, 429, 145, 2697, 18, 1038, 113, 20, 2552, 3, 696, 4, 564, 3729, 884, 0, 883, 0, 7, 0, 1899, 20, 69, 1343, 0, 4, 5771, 2805, 23, 5534, 5817, 4, 0, 18, 0, 339, 4, 5, 0, 18, 0, 0, 3, 154, 5083, 0, 2, 2016, 173, 2697, 18, 1038, 113, 5, 156, 1038, 332, 5816, 50, 5271, 3, 19, 3698, 4, 206, 321, 881, 0, 4, 47, 5124, 3406, 20, 0, 0, 16, 15, 6, 540, 212, 15, 29, 4601, 27, 5, 15, 0, 11, 2, 3105, 7, 62, 5, 542, 15, 29, 0, 27, 4, 1854, 6, 436, 502, 23, 14, 2697, 18, 1038, 4, 239, 18, 62, 4, 727, 18, 0, 7, 6, 1305, 1236, 13, 32, 79, 0, 960, 16, 590, 1570, 72, 1417, 4, 24, 91, 0, 2, 0, 1584, 7, 2, 498, 3, 1796, 4, 15, 2, 2763, 15, 2261, 2, 0, 506, 0, 5361, 15, 2, 1550, 15, 51, 42, 158, 18, 72, 0, 47, 187, 6, 0, 3, 1248, 15, 2, 1550, 4, 15, 15, 2, 2763, 15, 0, 0, 4, 339, 4, 5, 469, 3, 19, 5826, 4, 0, 1514, 0, 389, 6, 167, 18, 125, 2490, 3, 873, 3170, 59, 0, 4, 15, 2, 5822, 2763, 88, 214, 18, 4531, 1278, 45, 6, 433, 18, 393, 244, 4, 15, 2183, 21, 2, 2599, 20, 4199, 15, 1487, 0, 15, 27, 892, 16, 0, 4, 0, 0, 18, 408, 889, 51, 511, 4, 789, 18, 1003, 0, 3, 3170, 0, 36, 882, 66, 35, 0, 28, 2, 0, 21, 6, 2520, 0, 11, 4257, 3, 295, 10, 87, 30, 4452, 11, 2, 177, 4531, 23, 2, 0, 508, 2666, 400, 15, 2, 5644, 76, 15, 29, 5671, 27, 4, 15, 2, 2763, 15, 4423, 21, 2, 236, 7, 22, 13, 381, 2342, 187, 2539, 97, 884, 176, 108, 0, 3, 19, 0, 5, 892, 0, 69, 611, 0, 0, 11, 6, 0, 7, 0, 3, 6, 0, 2677, 0, 4713, 112, 2171, 4674, 162, 11, 2, 4781, 8, 0, 6, 928, 1697, 85, 3, 0, 39, 34, 2124, 69, 3462, 28, 42, 1715, 18, 0, 1394, 4, 2, 2158, 0, 2, 0, 5108, 23, 1074, 0, 5, 0, 0, 3, 0, 16, 5984, 3144, 7, 3607, 2506, 59, 8, 0, 3, 2, 85, 0, 48, 2, 393, 7, 214, 673, 0, 4, 5, 0, 0, 41, 0, 66, 39, 33, 30, 0, 1613, 11, 2, 5108, 3, 2, 1584, 7, 1305, 0, 45, 2, 628, 44, 0, 3, 2104, 4, 163, 306, 4, 2, 2096, 3, 2437, 87, 30, 375, 873, 3170, 4, 0, 3, 4, 29, 1380, 0, 7, 15, 0, 15, 27, 5, 36, 222, 11, 37, 281, 253, 160, 0, 108, 3, 2, 3590, 732, 312, 6, 0, 28, 873, 1563, 3, 873, 16, 978, 261, 127, 2844, 5, 0, 1305, 3, 19, 2093, 4, 873, 58, 1305, 11, 36, 504, 4, 196, 46, 13, 66, 35, 4162, 6, 333, 444, 1502, 1256, 16, 338, 11, 36, 1697, 0, 4, 35, 0, 6, 1305, 764, 3, 44, 2, 2327, 18, 4978, 15, 95, 1680, 3360, 4, 15, 15, 2, 2763, 15, 5886, 873, 16, 0, 41, 1335, 3631, 84, 0, 3, 3170, 0, 2, 764, 53, 39, 1540, 2, 0, 0, 4, 35, 90, 345, 55, 20, 6, 1210, 1305, 764, 3, 0, 4, 3170, 59, 1031, 4610, 69, 147, 7, 2, 5999, 3, 41, 570, 4494, 4, 873, 0, 2, 214, 4531, 0, 66, 35, 0, 0, 41, 3680, 1583, 18, 3660, 18, 497, 48, 15, 2, 2763, 15, 116, 0, 55, 3])\n",
       " list([0, 17, 104, 23, 1965, 1368, 0, 54, 30, 140, 103, 35, 394, 65, 23, 14, 25, 48, 2, 326, 7, 729, 2, 1058, 118, 0, 5, 2, 582, 7, 318, 777, 9, 0, 4, 13, 187, 10, 293, 55, 7, 0, 14, 9, 32, 6, 0, 13, 2, 146, 252, 77, 54, 23, 6, 104, 0, 928, 18, 2919, 0, 33, 725, 215, 169, 28, 11, 789, 2919, 5, 10, 9, 52, 0, 28, 2, 305, 7, 6, 31, 4578, 185, 23, 2, 3139, 7, 42, 0, 260, 47, 9, 166, 41, 2, 684, 7, 0, 71, 9, 52, 5650, 51, 2, 0, 133, 33, 32, 85, 0, 2, 107, 725, 165, 9, 2, 326, 13, 9, 424, 23, 1839, 9, 827, 182, 8, 0, 2, 298, 157, 0, 438, 1849, 52, 38, 2030, 5, 345, 8, 0, 2, 1280, 287, 438, 15, 89, 12, 90, 0, 165, 9, 32, 51, 1839, 0, 10, 615, 65, 23, 0, 26, 33, 2072, 2073, 81, 2, 866, 53, 26, 52, 461, 138, 446, 5, 0, 2838, 33, 395, 3132, 28, 2, 0, 52, 13, 1894, 661, 8, 81, 10, 3, 5523, 88, 15, 75, 436, 9, 32, 6, 0, 9, 0, 79, 165, 13, 223, 159, 55, 7, 159, 9, 13, 0, 10, 9, 1445, 505, 14, 25, 247, 3, 29, 43, 2, 117, 131, 21, 15, 252, 15, 895, 1923, 4, 0, 2084, 234, 128, 33, 32, 2084, 4, 39, 33, 52, 2, 15, 385, 15, 5, 2, 15, 3607, 15, 656, 47, 1663, 65, 20, 2, 907, 11, 334, 7, 62, 0, 80, 9, 32, 2028, 43, 2, 1148, 48, 27])\n",
       " list([295, 6, 25, 23, 4113, 5424, 9, 259, 288, 174, 4, 26, 134, 1433, 14, 37, 3, 12, 322, 14, 37, 28, 901, 4, 46, 12, 82, 30, 34, 8, 0, 188, 4479, 20, 10, 3, 3582, 83, 3, 19, 2, 132, 2337, 1592, 4, 64, 1592, 3, 295, 2, 99, 856, 243, 50, 46, 33, 193, 977, 4, 10, 223, 63, 5, 63, 1549, 852, 2, 147, 3, 10, 9, 578, 0, 4, 53, 6, 0, 2362, 44, 0, 3, 5094, 67, 0, 1647, 2374, 3, 5, 73, 53, 35, 67, 4, 53, 2, 280, 7, 36, 0, 67, 3, 39, 140, 35, 1213, 108, 11, 1647, 2276, 4, 5, 39, 140, 39, 90, 477, 801, 53, 39, 647, 114, 4, 24, 57, 2, 1807, 4, 35, 9, 286, 0, 3, 46, 335, 16, 54, 57, 35, 438, 29, 434, 2, 1647, 2374, 4, 398, 27, 3, 19, 151, 4, 49, 33, 56, 327, 144, 11, 14, 22, 3, 39, 513, 651, 6, 1578, 4, 121, 2, 908, 3539, 9, 126, 0, 43, 2, 3774, 3, 85, 4, 39, 651, 6, 2973, 0, 50, 46, 4, 2, 280, 17, 395, 443, 3, 2, 769, 179, 7, 10, 4, 13, 39, 82, 246, 2, 0, 80, 2, 3774, 269, 505, 3, 39, 328, 149, 28, 2140, 3, 310, 97, 2, 5976, 33, 0, 4, 24, 49, 17, 68, 1791, 20, 10, 3, 479, 3, 12, 120, 14, 17, 57, 3250, 2, 22, 2, 37, 191, 12, 552, 10, 3, 19, 57, 105, 14, 22, 42, 2188, 8, 2, 1576, 5, 2250, 380, 1549, 9, 13, 6, 543, 7, 728, 1359, 77, 386, 7, 46, 122, 3774, 207, 126, 1643, 50, 443, 572, 3, 79, 691, 2, 147, 39, 1805, 6, 195, 0, 3, 5, 13, 9, 79, 97, 39, 34, 8, 627, 7, 42, 907, 7, 561, 4566, 50, 63, 3, 77, 26, 274, 13, 61, 19, 39, 627, 7, 42, 907, 7, 46, 122, 4, 386, 2440, 7, 108, 4, 5, 79, 1805, 6, 195, 7, 572, 3, 5, 39, 34, 0, 5, 1785, 7, 4556, 3, 116, 502, 55, 7, 10, 3, 0, 5, 0, 3773, 4, 42, 31, 0, 1633, 941, 5, 73, 42, 31, 0, 3, 121, 54, 39, 94, 14, 624, 3, 2466, 10, 184, 50, 57, 61, 39, 73, 217, 6, 0, 80, 261, 108, 2, 5515, 7, 1541, 3774, 3, 5, 14, 0, 58, 6, 0, 80, 268, 28, 20, 546, 3, 74, 61, 47, 120, 65, 14, 515, 3, 19, 12, 587, 53, 26, 416, 145, 138, 1576, 380, 5, 1509, 13, 2, 3774, 33, 6, 536, 7, 3792, 4, 26, 240, 14, 22, 6, 333, 697, 3, 53, 32, 4, 1433, 14, 37, 3, 10, 4123, 26, 72, 3])\n",
       " list([6, 1493, 4, 1238, 4, 4499, 4, 5, 0, 2011, 224, 25, 13, 2550, 28, 2, 1263, 1916, 7, 849, 1685, 43, 1927, 18, 15, 0, 15, 9, 6, 25, 13, 541, 481, 18, 2, 18, 4616, 897, 8, 106, 629, 7, 0, 97, 4, 2150, 4, 2, 25, 9, 46, 1605, 11, 106, 0, 4, 13, 53, 10, 78, 100, 638, 0, 4, 10, 213, 34, 1645, 437, 8, 56, 688, 3211, 871, 3, 19, 2, 25, 863, 8, 38, 2357, 20, 4, 32, 79, 106, 496, 1118, 4, 5, 32, 79, 20, 106, 753, 507, 5, 1797, 408, 18, 24, 107, 7, 40, 20, 106, 366, 3, 0, 6019, 9, 427, 1155, 4, 1939, 196, 5872, 5, 196, 0, 8, 111, 37, 4, 32, 2121, 8, 4, 24, 763, 14, 0, 128, 23, 6, 2737, 1273, 28, 36, 5895, 23, 32, 79, 2, 329, 35, 0, 4, 24, 91, 2, 0, 0, 774, 862, 36, 205, 476, 3, 10, 16, 6, 693, 290, 13, 9, 46, 1930, 4, 3881, 4, 5, 1037, 28, 6019, 16, 179, 3, 5, 235, 8, 699, 3, 19, 220, 4, 2, 4343, 9, 0, 3091, 4, 793, 290, 137, 9, 42, 2610, 0, 3, 6, 3691, 18, 562, 18, 1302, 7, 658, 736, 0, 4, 5, 37, 7, 2, 107, 1478, 4, 285, 1332, 18, 21, 18, 77, 18, 38, 366, 11, 193, 56, 72, 3, 155, 3091, 9, 123, 11, 56, 62, 693, 366, 11, 56, 104, 18, 8, 18, 95, 129, 4, 71, 2851, 137, 71, 58, 57, 10, 312, 8, 1637, 56, 2615, 5200, 5, 732, 366, 4, 0, 5, 0, 3, 19, 37, 7, 2, 146, 129, 7, 106, 307, 29, 5, 4215, 17, 6, 688, 37, 27, 18, 78, 14, 3526, 5, 1064, 25, 532, 1138, 550, 4, 12, 67, 38, 1735, 0, 20, 10, 4, 21, 85, 21, 3091, 5, 6019, 3, 115, 95, 10, 17, 117, 115, 3712, 20, 6, 0, 1199, 3, 129, 44, 14, 1497, 134, 48])]\n",
       "Path: /home/ubuntu/.fastai/data/imdb_sample;\n",
       "Valid: LabelList\n",
       "y: CategoryList (200 items)\n",
       "['positive' 'negative' 'positive' 'negative' ... 'positive' 'negative' 'positive' 'negative']\n",
       "Path: .\n",
       "x: TextList (200 items)\n",
       "[list([15, 11, 0, 0, 4, 2, 5165, 7, 0, 0, 8, 0, 0, 1911, 0, 4, 23, 42, 0, 7, 0, 0, 1829, 8, 0, 2, 0, 3, 0, 0, 551, 2, 99, 15, 1911, 15, 0, 3, 10, 82, 32, 4, 220, 4, 4234, 41, 106, 210, 1529, 11, 2, 0, 5511, 3, 11, 0, 4, 10, 1872, 0, 928, 45, 2, 15, 0, 521, 15, 8, 6, 168, 2404, 28, 0, 0, 3, 66, 0, 0, 5546, 0, 16, 206, 4, 4281, 0, 4, 11, 0, 4, 35, 3786, 114, 57, 236, 7, 0, 17, 8, 38, 1314, 41, 2, 168, 2404, 3, 66, 0, 1904, 6, 1212, 18, 937, 0, 0, 41, 37, 18, 0, 2, 843, 7, 2, 0, 0, 0, 481, 1231, 41, 0, 0, 4, 0, 0, 10, 67, 38, 0, 53, 0, 555, 2, 0, 0, 1231, 5, 0, 2, 0, 0, 0, 41, 37, 18, 0, 0, 3, 2, 1188, 1850, 3480, 0, 3, 15, 19, 2, 0, 4060, 378, 0, 8, 5541, 2, 0, 11, 1642, 7, 2432, 5067, 3, 10, 17, 1314, 373, 8, 2, 0, 843, 4060, 4, 80, 2028, 2, 2014, 0, 3, 93, 350, 0, 92, 0, 4, 2, 0, 4060, 17, 3742, 188, 118, 2, 320, 3, 19, 1770, 13, 2, 0, 3364, 0, 0, 5873, 242, 456, 115, 0, 4, 0, 0, 6, 0, 7, 0, 0, 4, 5, 347, 6, 0, 2339, 8, 0, 0, 4, 35, 0, 23, 2619, 0, 4, 4705, 7, 0, 189, 0, 4, 6, 0, 7, 2591, 0, 5176, 41, 0, 0, 4, 2, 2717, 7, 2, 911, 0, 0, 7, 2, 0, 3, 19, 1678, 2618, 29, 7, 0, 27, 0, 11, 1184, 5, 4075, 2, 795, 0, 29, 0, 27, 3, 4000, 4, 23, 1678, 2618, 7, 0, 1834, 8, 2, 0, 7, 772, 5, 106, 0, 69, 70, 395, 2602, 23, 2, 0, 7, 168, 772, 23, 1778, 0, 3, 2, 0, 29, 0, 110, 1650, 27, 4, 15, 0, 0, 16, 3318, 0, 41, 2, 0, 0, 3, 0, 4, 168, 665, 3, 683, 41, 2, 1898, 575, 7, 1678, 2618, 16, 0, 4, 5, 2, 2764, 7, 2, 4972, 1929, 3, 15, 53, 0, 679, 7, 154, 2014, 0, 8, 0, 0, 101, 57, 17, 2, 0, 7, 2, 0, 31, 0, 5, 31, 3012, 3, 2, 435, 7, 0, 1187, 12, 0, 61, 19, 1462, 4, 82, 2, 0, 7, 4718, 0, 0, 20, 6, 1778, 2152, 4, 50, 6, 1137, 1354, 4, 490, 28, 2, 3568, 0, 7, 0, 0, 61, 97, 1504, 69, 70, 68, 2730, 4, 5, 2, 656, 47, 70, 861, 11, 2910, 0, 8, 38, 3855, 3, 7, 2, 0, 128, 5023, 764, 2, 2730, 47, 70, 1717, 70, 3855, 481, 2374, 7, 2, 795, 907, 458, 0, 4, 5, 0, 2661, 7, 2, 1054, 7, 2236, 3, 19, 2, 0, 68, 3, 0, 110, 0, 0, 0, 3, 31, 0, 110, 0, 4, 0, 0, 4, 0, 0, 3, 0, 4, 29, 0, 27, 0, 5569, 131, 3325, 7, 4172, 68, 3, 0, 4, 967, 7, 2096, 3, 2330, 7, 0, 4, 0, 226, 1097, 0, 655, 4, 0, 31, 0, 0, 4818, 0, 4, 0, 4, 0, 41, 2, 2096, 3, 1911, 0, 3, 19, 2, 31, 0, 777, 0, 0, 0, 0, 3, 4, 0, 0, 4, 0, 0])\n",
       " list([22, 82, 30, 34, 93, 132, 5, 17, 2759, 3, 696, 26, 1672, 6, 197, 7, 72, 174, 96, 1989, 3, 91, 10, 16, 64, 784, 8, 1046, 50, 763, 2, 451, 175, 0, 97, 7, 2, 2434, 4, 24, 91, 97, 746, 33, 0, 3])\n",
       " list([5752, 153, 0, 0, 16, 15, 1553, 4, 15, 6, 319, 28, 60, 0, 1430, 6, 621, 2696, 11, 60, 0, 88, 15, 77, 26, 352, 83, 121, 75, 125, 541, 61, 15, 2, 468, 98, 38, 4169, 1138, 4, 24, 2, 319, 1130, 10, 9, 5994, 3028, 4, 0, 10, 23, 1674, 3051, 4, 5, 2, 973, 2667, 138, 613, 55, 3, 19, 72, 5, 198, 4, 2, 25, 490, 28, 5765, 0, 16, 538, 5030, 0, 5, 0, 4, 10, 2393, 809, 4, 3655, 5194, 366, 4, 5, 0, 1037, 3370, 21, 195, 1152, 113, 34, 3, 23, 79, 1325, 1183, 7, 2, 307, 782, 4, 49, 33, 171, 112, 1292, 4, 3057, 4, 1891, 129, 11, 0, 4, 2, 102, 4, 7, 255, 4, 126, 0, 0, 16, 15, 221, 45, 60, 3, 15, 381, 242, 34, 606, 15, 1553, 15, 84, 6, 0, 2201, 2169, 23, 106, 112, 0, 7, 167, 18, 125, 0, 5, 1972, 18, 5994, 3028, 5, 4942, 0, 4, 5, 2935, 3609, 5, 0, 0, 3, 0, 9, 3028, 16, 597, 11, 2, 25, 29, 23, 6, 604, 309, 43, 1788, 0, 27, 4, 5, 0, 389, 3609, 16, 2179, 476, 4, 155, 3028, 16, 3443, 4491, 9, 1702, 2443, 3, 19, 847, 5223, 461, 4, 0, 0, 4, 1982, 0, 4, 3470, 2745, 4, 5, 6, 883, 209, 18, 420, 4, 10, 98, 34, 606, 84, 6, 4483, 296, 0, 3, 331, 4, 0, 18, 2, 640, 5795, 0, 7, 15, 0, 4, 15, 5, 206, 7, 15, 0, 15, 18, 1141, 6, 1478, 4115, 194, 23, 6, 15, 0, 239, 4, 15, 2, 76, 913, 281, 11, 6, 333, 18, 777, 0, 2783, 4, 11, 2, 546, 740, 65, 8, 6, 1819, 13, 9, 0, 23, 1180, 3, 19, 998, 4881, 4, 362, 3244, 4, 5, 0, 0, 23, 971, 5, 222, 0, 1079, 193, 6, 3055, 3525, 4, 24, 2, 435, 7, 2, 489, 4, 0, 16, 507, 4, 5, 0, 124, 4298, 15, 1553, 15, 117, 731, 13, 684, 4, 84, 2, 2, 0, 1005, 7, 465, 4, 730, 29, 5, 6, 195, 318, 27, 222, 0, 45, 6, 1196, 160, 106, 1970, 944, 3, 19, 1930, 1185, 173, 0, 5, 1972, 4, 173, 374, 5, 1426, 4, 23, 2, 1676, 7, 6, 784, 0, 40, 233, 676, 735, 4, 0, 4, 0, 3, 2490, 3112, 33, 5158, 84, 6, 0, 3, 19, 5, 285, 4, 23, 2, 40, 2, 0, 3496, 28, 4115, 5, 0, 366, 4, 2, 392, 7, 15, 1553, 15, 151, 0, 153, 4, 3028, 4, 0, 4, 0, 29, 42, 2074, 168, 5733, 4, 279, 0, 44, 60, 516, 4, 24, 6, 64, 343, 776, 27, 4, 2443, 2466, 107, 7, 2, 4639, 18, 411, 3609, 261, 65, 11, 2, 636, 447, 5, 4, 7, 255, 4, 2302, 2, 143, 3, 0, 5, 2745, 33, 85, 288, 2, 2571, 7, 0, 115, 3, 19, 21, 23, 15, 221, 45, 60, 4, 15, 15, 1553, 15, 1508, 23, 26, 41, 1876, 4, 0, 6, 672, 18, 545, 106, 76, 5, 133, 4, 5, 672, 18, 3389, 2, 1202, 10, 0, 3, 41, 112, 702, 4, 2, 25, 993, 6, 218, 253, 4, 24, 2, 117, 10, 1508, 23, 26, 0, 9, 2821, 1010, 2, 122, 113, 13, 149, 1555, 253, 160, 138, 2777, 3])\n",
       " list([12, 54, 30, 140, 231, 7, 2, 674, 16, 50, 2, 206, 16, 968, 194, 46, 12, 78, 30, 1218, 109, 0, 8, 2, 25, 3, 490, 28, 2, 1432, 3888, 7, 2, 132, 11, 249, 0, 12, 208, 10, 242, 38, 230, 3, 19, 24, 0, 17, 0, 591, 0, 3, 251, 416, 7, 2, 132, 488, 8, 38, 42, 1341, 8, 3889, 11, 63, 0, 4, 2009, 1634, 4, 50, 313, 275, 3, 19, 2, 605, 17, 1210, 5, 0, 0, 200, 44, 6, 486, 776, 24, 2, 280, 17, 63, 92, 2004, 3, 10, 17, 4736, 0, 3, 19, 12, 90, 32, 149, 153, 2, 0, 7, 2, 1144, 24, 12, 227, 240, 42, 701, 7, 57, 12, 120, 7, 21, 42, 4426, 7, 1928, 585, 3, 19, 1342, 0, 268, 8, 42, 0, 0, 369, 5, 2604, 2, 3863, 770, 7, 36, 968, 1932, 29, 0, 27, 55, 7, 2, 774, 0, 3, 0, 78, 443, 0, 43, 0, 6, 0, 55, 7, 36, 5548, 3, 171, 35, 705, 35, 237, 3710, 2, 1290, 7, 36, 3370, 11, 0, 16, 0, 3, 29, 57, 33, 2, 2126, 169, 8, 54, 4, 0, 36, 5477, 0, 61, 27, 0, 0, 0, 16, 487, 5, 5548, 45, 2, 0, 5317, 10, 16, 11, 4, 312, 42, 0, 4, 5, 989, 8, 0, 145, 0, 16, 487, 3, 0, 3, 0, 3, 0, 3, 2, 218, 7, 2, 0, 1025, 0, 221, 41, 0, 16, 5548, 3, 2, 1005, 9, 1441, 23, 0, 7, 2523, 3863, 2841, 4, 37, 7, 80, 0, 28, 0, 16, 487, 3, 29, 35, 0, 10, 145, 66, 35, 16, 258, 3, 27, 0, 101, 312, 2, 3863, 487, 893, 8, 6, 433, 903, 35, 16, 1314, 3, 35, 2363, 2, 487, 28, 2, 1533, 4, 0, 373, 8, 10, 4, 312, 55, 56, 0, 7, 6, 319, 35, 16, 52, 443, 4, 5, 261, 108, 8, 0, 16, 487, 3, 15, 398, 60, 61, 86, 98, 34, 74, 105, 10, 53, 10, 78, 30, 100, 20, 26, 509, 4, 15, 35, 579, 2, 487, 3, 15, 4402, 4, 26, 178, 259, 336, 0, 4, 34, 30, 26, 61, 15, 35, 1430, 3, 101, 35, 1449, 2, 487, 28, 2, 903, 3, 86, 79, 94, 6, 2296, 7, 10, 2780, 24, 86, 77, 1046, 2, 1467, 0, 11, 2, 0, 3, 19, 12, 54, 30, 192, 14, 485, 7, 1266, 8, 38, 0, 3, 12, 161, 79, 1220, 47, 3067, 466, 14, 624, 3, 19, 49, 16, 68, 360, 8, 149, 28, 23, 2, 280, 7, 2, 22, 3, 85, 4, 12, 227, 819, 37, 701, 7, 42, 15, 0, 4, 15, 283, 12, 1218, 2, 326, 65, 3, 0, 58, 100, 2244, 5, 2629, 11, 6, 496, 4570, 0, 3, 35, 620, 35, 16, 169, 8, 38, 0, 340, 8, 356, 11, 2, 1374, 546, 3, 29, 35, 16, 1264, 0, 2, 0, 8, 54, 10, 3, 27, 57, 67, 26, 54, 11, 14, 0, 18, 44, 1058, 61, 137, 16, 57, 0, 87, 28, 57, 213, 416, 55, 8, 38, 2, 245, 403, 7, 36, 125, 3, 35, 641, 6, 0, 0, 23, 6, 0, 18, 65, 260, 28, 10, 5, 0, 29, 2901, 27, 3, 240, 13, 128, 2, 0, 7, 1556, 48, 19, 6, 733, 47, 265, 44, 0, 2, 0, 9, 1099, 84, 56, 1620, 2632, 3, 2, 370, 9, 453, 425, 2021, 5, 0, 3, 2, 706, 58, 439, 44, 4, 15, 125, 9, 6, 388, 7, 0, 50, 384, 10, 16, 2, 146, 7, 40, 680, 2843, 3, 10, 0, 28, 138, 191, 7, 582, 3, 15, 383, 9, 105, 7, 6, 3243, 4995, 0, 13, 643, 1947, 1560, 84, 0, 0, 3, 6, 369, 0, 65, 11, 42, 5730, 0, 41, 2, 147, 155, 2, 625, 4, 0, 4, 0, 852, 211, 11, 2, 0, 3, 19, 56, 625, 35, 9, 4, 115, 3, 35, 99, 964, 6, 128, 20, 1368, 0, 43, 4457, 114, 136, 2, 487, 581, 263, 23, 6, 1212, 0, 4, 101, 6, 0, 4060, 4, 160, 528, 0, 6, 0, 136, 1300, 2, 770, 3, 29, 14, 0, 114, 6, 127, 4, 24, 32, 196, 8, 375, 114, 45, 0, 28, 0, 3, 27, 101, 4, 12, 492, 12, 34, 2, 560, 739, 4, 35, 964, 0, 43, 0, 55, 179, 7, 36, 5548, 3, 101, 35, 964, 2, 308, 7, 36, 99, 1932, 43, 1860, 5, 3213, 2, 0, 20, 10, 4, 295, 43, 204, 109, 1641, 0, 39, 78, 170, 8, 54, 23, 10, 3, 373, 35, 1303, 2, 487, 0, 29, 3670, 27, 950, 3, 101, 4, 299, 0, 2, 112, 4748, 0, 4, 35, 2050, 0, 108, 65, 4, 164, 37, 7, 108, 9, 30, 1737, 0, 3, 5, 86, 186, 358, 8, 38, 0, 20, 0, 3, 19, 154, 33, 30, 975, 2916, 44, 156, 11, 2, 1415, 3145, 113, 332, 175, 5132, 5132, 5, 26, 186, 529, 3, 154, 33, 666, 5, 1263, 3, 2, 99, 37, 175, 2, 689, 20, 1368, 0, 175, 9, 258, 0, 196, 8, 5919, 57, 242, 797, 11, 167, 125, 3, 10, 9, 30, 74, 860, 8, 386, 181, 432, 126, 4, 21, 4666, 78, 0, 11, 3742, 0, 3, 24, 13, 157, 685, 8, 68, 281, 7, 109, 2989, 3, 19, 56, 96, 242, 430, 14, 4, 311, 156, 234, 196, 8, 120, 13, 849, 5, 356, 33, 215, 13, 797, 79, 11, 113, 3, 56, 0, 624, 28, 305, 137, 3])\n",
       " ...\n",
       " list([11, 2, 826, 157, 4, 2, 544, 0, 1474, 0, 703, 0, 58, 6, 2692, 0, 4, 24, 66, 35, 1269, 4403, 84, 2, 0, 4, 35, 16, 623, 23, 6, 0, 136, 36, 0, 544, 3, 13, 16, 52, 37, 7, 2, 122, 1664, 0, 11, 14, 0, 59, 3829, 59, 786, 4, 24, 328, 92, 0, 45, 2, 409, 4, 10, 1500, 6, 313, 0, 8, 2, 0, 3, 19, 181, 4286, 66, 0, 643, 11, 36, 301, 529, 2471, 4, 39, 34, 8, 38, 5661, 20, 69, 4708, 18, 15, 26, 52, 199, 30, 773, 103, 122, 2733, 0, 86, 34, 11, 286, 393, 15, 3, 1216, 118, 4, 4291, 29, 0, 0, 27, 261, 65, 8, 0, 36, 0, 23, 68, 63, 92, 6, 445, 2775, 11, 425, 3, 19, 21, 20, 2, 25, 16, 0, 4403, 0, 29, 1034, 2682, 27, 4, 35, 16, 623, 23, 36, 0, 0, 28, 36, 232, 5, 269, 3476, 391, 2, 22, 118, 0, 941, 0, 23, 4291, 1374, 2, 0, 0, 3, 4403, 16, 3142, 20, 2779, 0, 41, 36, 2839, 16, 0, 4, 24, 90, 34, 8, 0, 36, 356, 41, 2, 1094, 7, 0, 308, 0, 29, 0, 0, 27, 5, 60, 0, 569, 0, 29, 1623, 0, 27, 3, 10, 312, 56, 72, 404, 49, 4, 24, 10, 16, 6, 241, 2554, 23, 37, 7, 2, 146, 287, 0, 28, 1835, 3, 21, 20, 13, 0, 627, 4, 12, 217, 6, 2189, 55, 7, 2, 2199, 2193, 396, 275, 216, 72, 6, 0, 3797, 3, 19, 598, 20, 56, 63, 76, 0, 61, 1374, 2, 4755, 23, 0, 2, 99, 72, 4, 4403, 0, 6, 433, 1296, 7, 504, 45, 36, 4819, 80, 35, 1221, 8, 0, 0, 16, 413, 495, 23, 3, 2896, 4, 66, 0, 0, 184, 127, 0, 306, 11, 2, 25, 35, 87, 30, 814, 114, 4, 24, 43, 2, 72, 4403, 0, 4, 0, 16, 495, 9, 5710, 23, 504, 3, 19, 15, 4403, 0, 15, 9, 228, 37, 7, 2, 146, 7, 2, 526, 13, 87, 30, 34, 0, 0, 11, 10, 3, 21, 4403, 4, 1034, 2682, 9, 6, 0, 0, 870, 11, 24, 207, 2, 0, 0, 3, 4291, 488, 8, 38, 6, 0, 20, 2, 2979, 881, 1830, 0, 130, 4, 207, 126, 6, 908, 95, 244, 3, 41, 99, 2, 1486, 0, 173, 4291, 5, 4403, 82, 30, 351, 8, 111, 267, 4, 24, 10, 40, 4237, 289, 43, 2, 72, 2, 25, 1206, 3, 26, 679, 251, 0, 67, 2575, 65, 404, 36, 897, 131, 0, 72, 20, 251, 17, 179, 7, 2, 0, 3, 19, 11, 371, 26, 186, 1220, 4, 2, 397, 625, 58, 170, 8, 54, 23, 2, 3706, 0, 130, 45, 2, 400, 249, 786, 15, 2, 3304, 15, 3, 11, 14, 25, 4, 4403, 217, 36, 405, 45, 6, 0, 35, 78, 11, 0, 302, 3, 19, 349, 2, 107, 909, 3001, 7, 2, 76, 78, 8, 54, 23, 2, 117, 10, 4237, 215, 65, 23, 2, 542, 0, 47, 2118, 2, 0, 505, 2, 144, 391, 3, 118, 1029, 4291, 71, 3324, 6, 0, 0, 160, 4403, 77, 94, 36, 1022, 3, 151, 950, 4, 10, 265, 44, 4291, 626, 8, 1621, 60, 5, 0, 4, 24, 10, 87, 30, 246, 253, 20, 4403, 5, 0, 8, 1240, 60, 84, 2, 0, 121, 71, 0, 207, 937, 18, 4291, 4897, 20, 60, 0, 3])\n",
       " list([2, 132, 7, 14, 22, 0, 28, 37, 725, 191, 88, 13, 14, 0, 17, 91, 6, 1364, 4, 1604, 4, 3198, 368, 3, 32, 13, 126, 6, 368, 5, 6, 0, 9, 1376, 3, 24, 14, 128, 9, 623, 0, 6, 1648, 260, 207, 0, 50, 360, 5, 207, 1229, 3, 14, 260, 17, 252, 16, 597, 3, 12, 54, 30, 120, 6, 368, 47, 3253, 46, 93, 51, 36, 205, 597, 98, 34, 100, 46, 1555, 18, 5418, 8, 252, 384, 16, 597, 3, 50, 4, 0, 4, 98, 34, 100, 46, 1555, 5418, 5, 285, 2286, 51, 5, 598, 20, 36, 205, 597, 3, 5, 2, 326, 13, 6, 5813, 0, 67, 166, 859, 36, 1932, 16, 828, 8, 246, 11, 5, 598, 20, 36, 597, 9, 646, 2974, 3, 19, 13, 323, 4, 2, 133, 70, 1124, 23, 3892, 43, 2, 172, 3, 12, 208, 2927, 1136, 0, 16, 544, 1416, 82, 111, 114, 351, 63, 1555, 5, 4820, 92, 35, 630, 9, 3, 26, 98, 30, 81, 84, 36, 446, 41, 40, 3])\n",
       " list([45, 2, 1250, 47, 1218, 211, 2, 4818, 7, 2, 0, 4, 12, 587, 13, 394, 23, 834, 7, 1209, 20, 2, 2403, 5, 2, 499, 3, 45, 2, 2197, 4871, 7, 2, 935, 4565, 8, 2, 5051, 0, 11, 2727, 4, 2, 1144, 171, 812, 179, 648, 5, 179, 3743, 645, 4, 80, 579, 7, 2, 1659, 173, 2, 112, 0, 133, 4, 0, 2, 2403, 5, 106, 1659, 23, 2, 499, 47, 0, 10, 4, 309, 43, 0, 0, 18, 0, 3, 19, 2, 76, 16, 2150, 193, 912, 4, 5, 41, 263, 14, 22, 67, 34, 898, 44, 2, 122, 750, 113, 80, 471, 18, 0, 1777, 5427, 6, 1659, 118, 2, 1309, 7, 2182, 4, 5, 103, 39, 149, 51, 1906, 184, 251, 102, 4, 1902, 23, 2819, 0, 5, 2, 1170, 3, 137, 4, 2, 499, 984, 2, 4607, 2403, 691, 60, 436, 65, 11, 2, 5467, 4, 80, 1987, 20, 834, 7, 348, 409, 18, 3989, 540, 720, 13, 6, 0, 90, 34, 8, 149, 84, 0, 8, 1806, 3, 19, 24, 155, 86, 0, 11, 0, 1406, 4, 2, 133, 54, 30, 94, 8, 0, 13, 684, 7, 2182, 45, 2, 0, 4, 5, 86, 34, 8, 1295, 6, 195, 0, 8, 449, 4, 5, 3512, 243, 84, 2, 25, 4, 160, 39, 176, 6, 0, 11, 1073, 3, 2, 499, 0, 1111, 41, 5427, 6, 1656, 23, 2, 5398, 7, 0, 2, 1765, 20, 60, 205, 0, 4, 24, 2, 2403, 4, 85, 4, 21, 102, 4687, 7, 255, 3, 155, 12, 208, 2, 1144, 17, 180, 844, 4, 1248, 4818, 7, 2, 0, 80, 58, 13, 432, 1144, 2863, 7, 57, 16, 1491, 28, 305, 4, 57, 0, 137, 70, 2, 648, 1190, 7, 2, 22, 4, 0, 2, 125, 5, 263, 7, 2, 2403, 21, 203, 6, 0, 4, 5, 6, 4790, 3, 19, 173, 2, 112, 4, 63, 961, 5, 452, 17, 424, 8, 2, 1399, 4, 311, 66, 1902, 23, 2148, 0, 44, 6007, 4, 5, 2203, 4, 156, 837, 70, 1069, 3484, 311, 66, 2, 499, 217, 0, 11, 10, 3, 995, 4, 10, 17, 1011, 0, 5, 193, 6, 2297, 21, 2, 112, 7, 108, 149, 51, 69, 440, 23, 251, 102, 4, 11, 720, 13, 26, 140, 34, 0, 56, 22, 1742, 791, 3, 49, 70, 1219, 496, 447, 11, 2, 22, 13, 70, 30, 74, 193, 0, 20, 471, 4, 21, 156, 11, 2, 177, 1883, 0, 8, 10, 43, 0, 69, 446, 55, 914, 4, 46, 828, 4, 26, 242, 192, 8, 246, 965, 5, 32, 335, 138, 0, 0, 2, 280, 7, 2, 22, 4264, 3, 19, 21, 6, 25, 4, 12, 67, 178, 5514, 14, 8, 38, 6, 717, 648, 0, 2, 4818, 7, 2, 0, 4, 24, 12, 587, 2, 117, 10, 17, 0, 4, 228, 78, 2, 5398, 7, 1513, 211, 32, 8, 0, 23, 633, 4, 5, 13, 56, 215, 33, 52, 32, 1015, 8, 38, 4, 5, 142, 833, 21, 152, 3, 486, 22, 13, 0, 28, 2, 2318, 7, 2, 1502, 173, 0, 0, 0, 4, 5, 2, 4483, 0, 13, 309, 0, 3])\n",
       " list([99, 4, 335, 16, 94, 10, 55, 7, 2, 117, 3, 3, 3, 1431, 4, 14, 25, 2302, 6, 31, 197, 45, 59, 4366, 751, 59, 29, 4829, 27, 3, 2, 132, 20, 59, 4366, 751, 59, 268, 148, 44, 14, 88, 2, 0, 3743, 4, 6, 4870, 319, 47, 5227, 60, 495, 897, 8, 0, 964, 96, 47, 183, 41, 60, 55, 7, 1022, 3, 11, 59, 2, 0, 3743, 59, 29, 5245, 27, 4, 2, 3794, 0, 3743, 29, 47, 4, 1431, 4, 5227, 60, 495, 27, 0, 60, 3844, 5159, 28, 52, 51, 304, 3, 6, 127, 115, 650, 8, 38, 0, 3, 19, 24, 4, 57, 237, 38, 3786, 9, 14, 88, 53, 26, 186, 169, 8, 5631, 2141, 2, 1898, 132, 45, 6, 22, 4, 150, 2119, 148, 21, 1518, 21, 59, 4366, 751, 59, 61, 291, 10, 105, 6, 195, 3462, 41, 2, 952, 967, 4, 24, 13, 17, 2637, 20, 2, 1069, 838, 1138, 817, 2, 25, 2396, 3, 6, 387, 18, 401, 4, 739, 18, 8, 18, 346, 22, 90, 32, 34, 13, 177, 954, 3, 5, 10, 82, 30, 3, 19, 21, 12, 322, 2, 826, 1255, 18, 1030, 243, 7, 2, 25, 4, 75, 1209, 166, 1074, 3, 49, 488, 8, 38, 41, 225, 31, 56, 324, 1114, 3, 2, 76, 82, 30, 351, 363, 4, 52, 4058, 0, 145, 3, 449, 2, 99, 157, 4, 86, 94, 42, 838, 209, 7, 133, 667, 42, 1230, 18, 1105, 23, 5572, 29, 309, 43, 13, 244, 47, 265, 44, 6, 0, 27, 5, 56, 1085, 0, 1983, 29, 0, 45, 0, 16, 59, 4321, 7, 224, 88, 0, 59, 27, 3, 118, 156, 195, 243, 4, 220, 4, 2, 25, 52, 1592, 268, 188, 2, 0, 3, 10, 2247, 40, 2, 957, 584, 2457, 667, 4, 24, 32, 1042, 8, 88, 56, 1142, 158, 442, 23, 42, 0, 1513, 4, 2, 0, 2860, 0, 4, 2, 0, 4, 5, 2, 0, 23, 2, 613, 18, 7, 18, 1581, 3, 19, 37, 7, 2, 1597, 568, 14, 25, 78, 17, 106, 0, 8, 851, 23, 6, 0, 282, 3, 10, 16, 236, 7, 44, 2, 1250, 445, 8, 635, 2, 1078, 20, 798, 130, 17, 28, 305, 41, 2, 72, 3, 66, 2, 2552, 70, 28, 305, 4, 10, 78, 6, 63, 3729, 239, 3, 66, 296, 29, 2, 0, 27, 5, 0, 29, 2, 0, 27, 70, 28, 305, 4, 2, 451, 541, 188, 8, 6, 63, 422, 4, 0, 0, 4, 684, 3, 66, 2, 530, 17, 28, 305, 4, 10, 414, 44, 42, 455, 7, 59, 33, 26, 1740, 7, 2, 496, 61, 59, 3, 3, 3, 79, 350, 664, 3, 19, 2301, 4, 2, 25, 9, 40, 136, 2, 281, 3, 2, 2032, 4460, 45, 1069, 62, 8, 1011, 357, 3, 2, 489, 9, 0, 4, 21, 9, 2, 124, 20, 2, 107, 179, 3, 28, 2, 1057, 514, 4, 49, 16, 56, 3970, 585, 41, 421, 29, 667, 6, 1069, 794, 29, 285, 3295, 951, 27, 27, 0, 157, 5, 6, 180, 5503, 0, 157, 3, 91, 4, 53, 26, 186, 279, 20, 6, 218, 7, 2, 1429, 624, 4, 49, 16, 6, 1432, 2688, 157, 29, 24, 53, 26, 192, 8, 81, 14, 2628, 2688, 4, 49, 33, 134, 129, 8, 54, 13, 27, 3, 102, 92, 13, 4, 49, 16, 32, 93, 8, 1120, 23, 66, 10, 272, 8, 14, 25, 3, 19, 53, 26, 186, 6, 687, 359, 7, 59, 4366, 751, 59, 29, 54, 156, 3688, 61, 27, 4, 310, 26, 77, 1121, 10, 55, 8, 81, 2, 76, 258, 11, 6, 343, 117, 3, 3, 3, 24, 4, 13, 16, 51, 2, 79, 360, 12, 77, 176, 8, 81, 14, 37, 3, 19, 636, 4715, 88, 390, 110, 159, 18, 31, 0])]\n",
       "Path: /home/ubuntu/.fastai/data/imdb_sample;\n",
       "Test: LabelList\n",
       "y: CategoryList (1000 items)\n",
       "[Category negative Category negative Category negative Category negative ... Category negative Category negative\n",
       " Category negative Category negative]\n",
       "Path: .\n",
       "x: TextList (1000 items)\n",
       "[list([4619, 18, 0, 18, 977, 48, 3775, 1704, 87, 30, 73, 183, 60, 943, 0, 2449, 476, 11, 14, 4, 80, 1999, 187, 83, 3776, 60, 1705, 0, 124, 0, 3, 235, 8, 274, 71, 17, 2, 1706, 28, 14, 1020, 3, 1057, 1464, 3777, 88, 57, 236, 7, 1559, 1707, 58, 36, 824, 100, 28, 61, 0, 89, 0, 48, 48, 48, 528, 14, 17, 649, 43, 2, 244, 47, 82, 214, 0, 61, 237, 38, 6, 3778, 7, 0, 18, 381, 408, 3, 0, 48])\n",
       " list([14, 9, 6, 634, 85, 18, 105, 25, 3, 2, 124, 4, 250, 5, 370, 18, 194, 33, 40, 99, 18, 1113, 3, 2, 287, 9, 62, 4, 115, 4, 164, 10, 9, 599, 382, 11, 2, 25, 4, 66, 215, 33, 151, 2768, 0, 3, 49, 33, 68, 74, 0, 11, 2, 209, 4, 164, 581, 1560, 90, 38, 1465, 3, 2, 413, 209, 87, 42, 355, 338, 23, 2, 250, 3, 19, 24, 10, 9, 235, 8, 119, 4, 97, 49, 9, 68, 62, 147, 8, 6, 1058, 44, 2, 37, 1843, 3, 10, 9, 171, 0, 8, 1844, 2, 744, 20, 944, 4620, 5, 3194, 458, 251, 102, 4, 5, 101, 0, 0, 108, 84, 112, 2769, 3, 49, 9, 56, 3195, 11, 14, 582, 4, 24, 10, 16, 91, 226, 13, 68, 37, 718, 4620, 5, 3194, 11, 2, 4621, 8, 0, 251, 102, 21, 39, 82, 184, 2, 72, 7, 0, 3, 10, 200, 63, 2000, 13, 2, 744, 266, 238, 2, 0, 173, 2, 0, 5, 70, 1169, 196, 8, 0, 108, 8, 69, 205, 615, 3, 19, 2, 1466, 9, 13, 49, 9, 93, 3779, 5, 4622, 11, 2, 1058, 5, 14, 9, 64, 4623, 8, 398, 5, 8, 81, 28, 2, 305, 3, 24, 10, 9, 116, 3196, 21, 6, 317, 18, 5, 18, 511, 371, 3, 49, 9, 0, 5, 0, 28, 203, 2450, 4, 5, 91, 2, 492, 20, 635, 11, 2, 2179, 2001, 3, 19, 49, 9, 1845, 7, 6, 485, 4, 11, 2, 147, 4, 66, 0, 58, 8, 111, 6, 235, 1561, 173, 6, 128, 47, 58, 2002, 60, 125, 4, 24, 91, 428, 583, 60, 4, 5, 60, 222, 80, 58, 0, 60, 4, 101, 306, 233, 279, 20, 60, 3, 24, 43, 13, 191, 4, 71, 58, 68, 0, 13, 9, 207, 104, 849, 20, 60, 3, 19, 14, 25, 3197, 2, 719, 13, 203, 3194, 5, 4620, 34, 69, 1708, 4624, 4, 5, 91, 13, 203, 77, 38, 0, 5, 3198, 96, 3, 2, 745, 7, 0, 187, 13, 0, 40, 2, 63, 3780, 4, 283, 49, 77, 116, 38, 167, 0, 676, 2, 4625, 110, 0, 1846, 3, 11, 13, 267, 4, 10, 9, 650, 8, 15, 467, 189, 2770, 0, 15, 3, 19, 11, 2, 147, 4, 86, 70, 1235, 8, 34, 123, 2, 25, 4, 73, 164, 2, 2180, 17, 4626, 3, 53, 2, 2771, 5, 211, 98, 804, 23, 69, 205, 0, 7, 1562, 23, 14, 236, 7, 0, 4, 39, 67, 477, 38, 134, 145, 3])\n",
       " list([216, 302, 11, 6, 253, 155, 6, 22, 90, 233, 376, 13, 90, 38, 46, 450, 13, 12, 239, 2451, 8, 2181, 96, 3, 53, 12, 3199, 40, 75, 546, 5, 12, 77, 651, 24, 37, 1388, 45, 174, 14, 22, 4, 103, 104, 90, 38, 75, 2772, 3, 19, 121, 8, 805, 75, 4627, 7, 849, 3, 20, 0, 4, 49, 17, 6, 876, 4628, 216, 478, 243, 3, 49, 17, 68, 130, 1309, 3, 216, 130, 17, 6, 3781, 3, 86, 78, 0, 244, 4, 1467, 244, 47, 3200, 4629, 4, 3201, 1847, 244, 4, 512, 3, 2, 250, 414, 21, 53, 10, 70, 126, 429, 21, 2, 22, 17, 126, 271, 3, 2, 324, 1114, 17, 46, 825, 387, 13, 10, 414, 44, 12, 17, 174, 6, 1563, 333, 346, 3202, 3, 34, 2, 1059, 4, 1060, 4, 512, 3, 139, 73, 123, 6, 22, 160, 61, 0, 9, 404, 415, 5, 415, 23, 216, 168, 3782, 3, 2, 945, 20, 14, 22, 3783, 46, 182, 3, 103, 98, 26, 149, 362, 23, 2003, 4630, 5, 6, 3203, 7, 513, 4631, 172, 3, 24, 2182, 83, 66, 12, 141, 14, 4, 215, 541, 362, 4, 31, 64, 31, 362, 3])\n",
       " list([405, 52, 438, 10, 40, 3, 12, 322, 14, 22, 23, 75, 978, 66, 10, 394, 55, 5, 299, 2183, 11, 0, 35, 78, 104, 4632, 20, 2, 128, 3, 2, 2004, 165, 51, 14, 25, 9, 13, 10, 79, 0, 28, 6, 406, 1061, 7, 2, 128, 16, 125, 18, 3204, 196, 2, 128, 16, 413, 125, 67, 34, 105, 152, 42, 1236, 4633, 18, 0, 13, 10, 9, 4634, 8, 773, 2, 2452, 20, 324, 3, 19, 56, 4635, 0, 8, 2, 2184, 0, 51, 2, 128, 4, 80, 33, 547, 720, 3, 2, 694, 7, 2, 22, 15, 2453, 4, 3205, 4, 652, 15, 33, 32, 52, 2454, 746, 0, 45, 2, 2455, 7, 6, 333, 18, 0, 2185, 18, 10, 9, 2, 774, 0, 7, 37, 128, 16, 908, 0, 8, 36, 652, 3, 19, 2456, 0, 126, 2, 3206, 13, 35, 17, 0, 6, 134, 1468, 7, 2, 128, 3, 35, 87, 6, 104, 338, 850, 2, 0, 616, 0, 23, 2, 0, 514, 7, 2, 128, 3])\n",
       " ...\n",
       " list([302, 591, 6, 72, 381, 1712, 402, 18, 190, 4, 2697, 18, 1038, 113, 207, 2327, 857, 4, 0, 4, 5, 585, 18, 0, 469, 3, 154, 113, 1021, 0, 138, 1249, 68, 3376, 138, 1202, 3, 2, 2928, 0, 127, 45, 2, 2076, 3, 39, 3520, 2, 177, 1328, 5, 2297, 2, 177, 0, 3, 283, 2, 1713, 4, 2, 25, 1261, 58, 180, 93, 429, 145, 2697, 18, 1038, 113, 20, 2552, 3, 696, 4, 564, 3729, 884, 0, 883, 0, 7, 0, 1899, 20, 69, 1343, 0, 4, 5771, 2805, 23, 5534, 5817, 4, 0, 18, 0, 339, 4, 5, 0, 18, 0, 0, 3, 154, 5083, 0, 2, 2016, 173, 2697, 18, 1038, 113, 5, 156, 1038, 332, 5816, 50, 5271, 3, 19, 3698, 4, 206, 321, 881, 0, 4, 47, 5124, 3406, 20, 0, 0, 16, 15, 6, 540, 212, 15, 29, 4601, 27, 5, 15, 0, 11, 2, 3105, 7, 62, 5, 542, 15, 29, 0, 27, 4, 1854, 6, 436, 502, 23, 14, 2697, 18, 1038, 4, 239, 18, 62, 4, 727, 18, 0, 7, 6, 1305, 1236, 13, 32, 79, 0, 960, 16, 590, 1570, 72, 1417, 4, 24, 91, 0, 2, 0, 1584, 7, 2, 498, 3, 1796, 4, 15, 2, 2763, 15, 2261, 2, 0, 506, 0, 5361, 15, 2, 1550, 15, 51, 42, 158, 18, 72, 0, 47, 187, 6, 0, 3, 1248, 15, 2, 1550, 4, 15, 15, 2, 2763, 15, 0, 0, 4, 339, 4, 5, 469, 3, 19, 5826, 4, 0, 1514, 0, 389, 6, 167, 18, 125, 2490, 3, 873, 3170, 59, 0, 4, 15, 2, 5822, 2763, 88, 214, 18, 4531, 1278, 45, 6, 433, 18, 393, 244, 4, 15, 2183, 21, 2, 2599, 20, 4199, 15, 1487, 0, 15, 27, 892, 16, 0, 4, 0, 0, 18, 408, 889, 51, 511, 4, 789, 18, 1003, 0, 3, 3170, 0, 36, 882, 66, 35, 0, 28, 2, 0, 21, 6, 2520, 0, 11, 4257, 3, 295, 10, 87, 30, 4452, 11, 2, 177, 4531, 23, 2, 0, 508, 2666, 400, 15, 2, 5644, 76, 15, 29, 5671, 27, 4, 15, 2, 2763, 15, 4423, 21, 2, 236, 7, 22, 13, 381, 2342, 187, 2539, 97, 884, 176, 108, 0, 3, 19, 0, 5, 892, 0, 69, 611, 0, 0, 11, 6, 0, 7, 0, 3, 6, 0, 2677, 0, 4713, 112, 2171, 4674, 162, 11, 2, 4781, 8, 0, 6, 928, 1697, 85, 3, 0, 39, 34, 2124, 69, 3462, 28, 42, 1715, 18, 0, 1394, 4, 2, 2158, 0, 2, 0, 5108, 23, 1074, 0, 5, 0, 0, 3, 0, 16, 5984, 3144, 7, 3607, 2506, 59, 8, 0, 3, 2, 85, 0, 48, 2, 393, 7, 214, 673, 0, 4, 5, 0, 0, 41, 0, 66, 39, 33, 30, 0, 1613, 11, 2, 5108, 3, 2, 1584, 7, 1305, 0, 45, 2, 628, 44, 0, 3, 2104, 4, 163, 306, 4, 2, 2096, 3, 2437, 87, 30, 375, 873, 3170, 4, 0, 3, 4, 29, 1380, 0, 7, 15, 0, 15, 27, 5, 36, 222, 11, 37, 281, 253, 160, 0, 108, 3, 2, 3590, 732, 312, 6, 0, 28, 873, 1563, 3, 873, 16, 978, 261, 127, 2844, 5, 0, 1305, 3, 19, 2093, 4, 873, 58, 1305, 11, 36, 504, 4, 196, 46, 13, 66, 35, 4162, 6, 333, 444, 1502, 1256, 16, 338, 11, 36, 1697, 0, 4, 35, 0, 6, 1305, 764, 3, 44, 2, 2327, 18, 4978, 15, 95, 1680, 3360, 4, 15, 15, 2, 2763, 15, 5886, 873, 16, 0, 41, 1335, 3631, 84, 0, 3, 3170, 0, 2, 764, 53, 39, 1540, 2, 0, 0, 4, 35, 90, 345, 55, 20, 6, 1210, 1305, 764, 3, 0, 4, 3170, 59, 1031, 4610, 69, 147, 7, 2, 5999, 3, 41, 570, 4494, 4, 873, 0, 2, 214, 4531, 0, 66, 35, 0, 0, 41, 3680, 1583, 18, 3660, 18, 497, 48, 15, 2, 2763, 15, 116, 0, 55, 3])\n",
       " list([0, 17, 104, 23, 1965, 1368, 0, 54, 30, 140, 103, 35, 394, 65, 23, 14, 25, 48, 2, 326, 7, 729, 2, 1058, 118, 0, 5, 2, 582, 7, 318, 777, 9, 0, 4, 13, 187, 10, 293, 55, 7, 0, 14, 9, 32, 6, 0, 13, 2, 146, 252, 77, 54, 23, 6, 104, 0, 928, 18, 2919, 0, 33, 725, 215, 169, 28, 11, 789, 2919, 5, 10, 9, 52, 0, 28, 2, 305, 7, 6, 31, 4578, 185, 23, 2, 3139, 7, 42, 0, 260, 47, 9, 166, 41, 2, 684, 7, 0, 71, 9, 52, 5650, 51, 2, 0, 133, 33, 32, 85, 0, 2, 107, 725, 165, 9, 2, 326, 13, 9, 424, 23, 1839, 9, 827, 182, 8, 0, 2, 298, 157, 0, 438, 1849, 52, 38, 2030, 5, 345, 8, 0, 2, 1280, 287, 438, 15, 89, 12, 90, 0, 165, 9, 32, 51, 1839, 0, 10, 615, 65, 23, 0, 26, 33, 2072, 2073, 81, 2, 866, 53, 26, 52, 461, 138, 446, 5, 0, 2838, 33, 395, 3132, 28, 2, 0, 52, 13, 1894, 661, 8, 81, 10, 3, 5523, 88, 15, 75, 436, 9, 32, 6, 0, 9, 0, 79, 165, 13, 223, 159, 55, 7, 159, 9, 13, 0, 10, 9, 1445, 505, 14, 25, 247, 3, 29, 43, 2, 117, 131, 21, 15, 252, 15, 895, 1923, 4, 0, 2084, 234, 128, 33, 32, 2084, 4, 39, 33, 52, 2, 15, 385, 15, 5, 2, 15, 3607, 15, 656, 47, 1663, 65, 20, 2, 907, 11, 334, 7, 62, 0, 80, 9, 32, 2028, 43, 2, 1148, 48, 27])\n",
       " list([295, 6, 25, 23, 4113, 5424, 9, 259, 288, 174, 4, 26, 134, 1433, 14, 37, 3, 12, 322, 14, 37, 28, 901, 4, 46, 12, 82, 30, 34, 8, 0, 188, 4479, 20, 10, 3, 3582, 83, 3, 19, 2, 132, 2337, 1592, 4, 64, 1592, 3, 295, 2, 99, 856, 243, 50, 46, 33, 193, 977, 4, 10, 223, 63, 5, 63, 1549, 852, 2, 147, 3, 10, 9, 578, 0, 4, 53, 6, 0, 2362, 44, 0, 3, 5094, 67, 0, 1647, 2374, 3, 5, 73, 53, 35, 67, 4, 53, 2, 280, 7, 36, 0, 67, 3, 39, 140, 35, 1213, 108, 11, 1647, 2276, 4, 5, 39, 140, 39, 90, 477, 801, 53, 39, 647, 114, 4, 24, 57, 2, 1807, 4, 35, 9, 286, 0, 3, 46, 335, 16, 54, 57, 35, 438, 29, 434, 2, 1647, 2374, 4, 398, 27, 3, 19, 151, 4, 49, 33, 56, 327, 144, 11, 14, 22, 3, 39, 513, 651, 6, 1578, 4, 121, 2, 908, 3539, 9, 126, 0, 43, 2, 3774, 3, 85, 4, 39, 651, 6, 2973, 0, 50, 46, 4, 2, 280, 17, 395, 443, 3, 2, 769, 179, 7, 10, 4, 13, 39, 82, 246, 2, 0, 80, 2, 3774, 269, 505, 3, 39, 328, 149, 28, 2140, 3, 310, 97, 2, 5976, 33, 0, 4, 24, 49, 17, 68, 1791, 20, 10, 3, 479, 3, 12, 120, 14, 17, 57, 3250, 2, 22, 2, 37, 191, 12, 552, 10, 3, 19, 57, 105, 14, 22, 42, 2188, 8, 2, 1576, 5, 2250, 380, 1549, 9, 13, 6, 543, 7, 728, 1359, 77, 386, 7, 46, 122, 3774, 207, 126, 1643, 50, 443, 572, 3, 79, 691, 2, 147, 39, 1805, 6, 195, 0, 3, 5, 13, 9, 79, 97, 39, 34, 8, 627, 7, 42, 907, 7, 561, 4566, 50, 63, 3, 77, 26, 274, 13, 61, 19, 39, 627, 7, 42, 907, 7, 46, 122, 4, 386, 2440, 7, 108, 4, 5, 79, 1805, 6, 195, 7, 572, 3, 5, 39, 34, 0, 5, 1785, 7, 4556, 3, 116, 502, 55, 7, 10, 3, 0, 5, 0, 3773, 4, 42, 31, 0, 1633, 941, 5, 73, 42, 31, 0, 3, 121, 54, 39, 94, 14, 624, 3, 2466, 10, 184, 50, 57, 61, 39, 73, 217, 6, 0, 80, 261, 108, 2, 5515, 7, 1541, 3774, 3, 5, 14, 0, 58, 6, 0, 80, 268, 28, 20, 546, 3, 74, 61, 47, 120, 65, 14, 515, 3, 19, 12, 587, 53, 26, 416, 145, 138, 1576, 380, 5, 1509, 13, 2, 3774, 33, 6, 536, 7, 3792, 4, 26, 240, 14, 22, 6, 333, 697, 3, 53, 32, 4, 1433, 14, 37, 3, 10, 4123, 26, 72, 3])\n",
       " list([6, 1493, 4, 1238, 4, 4499, 4, 5, 0, 2011, 224, 25, 13, 2550, 28, 2, 1263, 1916, 7, 849, 1685, 43, 1927, 18, 15, 0, 15, 9, 6, 25, 13, 541, 481, 18, 2, 18, 4616, 897, 8, 106, 629, 7, 0, 97, 4, 2150, 4, 2, 25, 9, 46, 1605, 11, 106, 0, 4, 13, 53, 10, 78, 100, 638, 0, 4, 10, 213, 34, 1645, 437, 8, 56, 688, 3211, 871, 3, 19, 2, 25, 863, 8, 38, 2357, 20, 4, 32, 79, 106, 496, 1118, 4, 5, 32, 79, 20, 106, 753, 507, 5, 1797, 408, 18, 24, 107, 7, 40, 20, 106, 366, 3, 0, 6019, 9, 427, 1155, 4, 1939, 196, 5872, 5, 196, 0, 8, 111, 37, 4, 32, 2121, 8, 4, 24, 763, 14, 0, 128, 23, 6, 2737, 1273, 28, 36, 5895, 23, 32, 79, 2, 329, 35, 0, 4, 24, 91, 2, 0, 0, 774, 862, 36, 205, 476, 3, 10, 16, 6, 693, 290, 13, 9, 46, 1930, 4, 3881, 4, 5, 1037, 28, 6019, 16, 179, 3, 5, 235, 8, 699, 3, 19, 220, 4, 2, 4343, 9, 0, 3091, 4, 793, 290, 137, 9, 42, 2610, 0, 3, 6, 3691, 18, 562, 18, 1302, 7, 658, 736, 0, 4, 5, 37, 7, 2, 107, 1478, 4, 285, 1332, 18, 21, 18, 77, 18, 38, 366, 11, 193, 56, 72, 3, 155, 3091, 9, 123, 11, 56, 62, 693, 366, 11, 56, 104, 18, 8, 18, 95, 129, 4, 71, 2851, 137, 71, 58, 57, 10, 312, 8, 1637, 56, 2615, 5200, 5, 732, 366, 4, 0, 5, 0, 3, 19, 37, 7, 2, 146, 129, 7, 106, 307, 29, 5, 4215, 17, 6, 688, 37, 27, 18, 78, 14, 3526, 5, 1064, 25, 532, 1138, 550, 4, 12, 67, 38, 1735, 0, 20, 10, 4, 21, 85, 21, 3091, 5, 6019, 3, 115, 95, 10, 17, 117, 115, 3712, 20, 6, 0, 1199, 3, 129, 44, 14, 1497, 134, 48])]\n",
       "Path: /home/ubuntu/.fastai/data/imdb_sample"
      ]
     },
     "execution_count": null,
     "metadata": {},
     "output_type": "execute_result"
    }
   ],
   "source": [
    "sd.add_test(df['text'].values)"
   ]
  },
  {
   "cell_type": "code",
   "execution_count": null,
   "metadata": {},
   "outputs": [
    {
     "data": {
      "text/plain": [
       "(5961, 5961, 5961)"
      ]
     },
     "execution_count": null,
     "metadata": {},
     "output_type": "execute_result"
    }
   ],
   "source": [
    "len(sd.valid.vocab.itos), len(sd.train.vocab.itos), len(sd.test.vocab.itos)"
   ]
  },
  {
   "cell_type": "code",
   "execution_count": null,
   "metadata": {},
   "outputs": [],
   "source": [
    "data = sd.databunch()"
   ]
  },
  {
   "cell_type": "code",
   "execution_count": null,
   "metadata": {},
   "outputs": [
    {
     "data": {
      "text/html": [
       "<table>  <col width='90%'>  <col width='10%'>  <tr>\n",
       "    <th>text</th>\n",
       "    <th>label</th>\n",
       "  </tr>\n",
       "  <tr>\n",
       "    <th>this film has a rotting core of xxunk morality , and yet a xxunk sense of justice . so many of the regular xxunk among us would love to \" stick it to the xxup man \" . the \" xxup man \" in this case is represented by several different characters . mr . keller , who xxunk reports to at her office . later , paul xxunk 70 large to mr . xxunk the club owner . and then there is paul 's xxunk officer . there seems to be so much question about this last character 's side story . reviewers point it out as a weakness in an otherwise well crafted xxunk game of xxunk - xxunk between our two protagonists , escalating xxunk - for - xxunk until their lives change dramatically . they are xxunk to each agent of the \" xxup man \" . one or both could be fired , killed , or xxunk if they do n't do as they are told . \\n\\n the film has a sense of relief at the end . xxunk finally gets laid . her boss is forced out for being a jerk . mr . club owner is a xxunk mess in his own bathroom . they get the $ xxunk and ... they need not worry about xxunk in to the xxunk officer , because xxup his moral weakness leads him to xxunk his xxunk wife in the basement ( or whatever the police found to xxunk him ) . it is a critical xxunk xxunk to the lock xxunk that wound us up so tight . never mind that someone else may get paul 's file later to xxunk his release ; for the moment they are free ! they might even get away with it ! \\n\\n xxunk ... \\n\\n they xxup stuck it to xxup the xxup man !</th>\n",
       "    <th>positive</th>\n",
       "  </tr>\n",
       "  <tr>\n",
       "    <th>all i have to say is if you do n't like it then there is something wrong with you . plus jessica is just all kinds of hot xxrep 5 ! the only reason you may not like it is because it is set in the future where xxunk has gone to hell . that and you my not like it cause the future they show could very well happen .</th>\n",
       "    <th>positive</th>\n",
       "  </tr>\n",
       "  <tr>\n",
       "    <th>i saw the film and i got xxunk , because the film was foolish and boring . i thought xxunk xxunk xxunk will justify his work but unfortunately he failed and the whole film got spoiled and they spoiled \" xxunk \" . the cast and crew was bad . the whole theater slept while watching the movie some people ran away in the middle . xxunk xxunk 's acting is poor , i thought this movie will be greatest hit of the year but this film will be the greatest flop of the year , sure . nobody did justice to their work , including xxunk xxunk . this film do n't deserve any audiences . i bet that this film will flop . \\n\\n \" xxup finally xxup this xxup movie xxup sucks \"</th>\n",
       "    <th>negative</th>\n",
       "  </tr>\n",
       "  <tr>\n",
       "    <th>i managed to grab a viewing of this with the aid of xxup mst3k , and oh boy , even with the xxunk this movie was excruciatingly bad . imagine someone whose xxunk with a camera could be out done by a monkey . \\n\\n the highlights ( what little there were ) came from the special effects , which were \" ok \" . the acting for the most part was also \" ok \" ; though nothing special , it was of a higher quality than other b - movies i have seen in the past . \\n\\n the rest of this movie is xxunk bad , the camera work often looks like they 've just put the camera man on roller xxunk and pushed him along . the story ( if it can be called that ) is so full of holes it 's almost funny , it never really explains why the hell he survived in the first place , or needs human flesh in order to survive . the script is poorly written and the dialogue xxunk on just plane stupid . the climax to movie ( if there is one ) is absolutely laughable . \\n\\n if you ca n't find the xxup mst3k version , avoid this at all costs .</th>\n",
       "    <th>negative</th>\n",
       "  </tr>\n",
       "  <tr>\n",
       "    <th>\" atlantis : the lost xxunk \" was everything the previews xxunk it would be . it is not often you find that . most of the time , the previews show only the best parts and then the rest of the movie is terrible . not so with this one . i was pleased with the original plot , even though the sub - plots were not . the animation was not break through like \" shrek \" but it was good , none the less . the plot and the story line were well presented and there were only a few slow spots in them . this keeps you interested . i found myself enjoying this one . \" atlantis \" gets and keeps your attention . you also have to think a little bit , but not too much . once you think about it a little , you can figure out what needs to happen but you really do n't know for sure how it is going to happen . \\n\\n the casting was also good . michael j. fox , as xxunk was an excellent choice . his personality fits nicely . the gruff xxunk commander rourke was also well chosen with james xxunk . his character reminded me of his performance in \" xxunk \" which i also liked . i really liked the casting of xxunk christian as xxunk xxunk . her ability to play a no nonsense personality makes the film more interesting . it 's just too bad she is a villain . \\n\\n over all , definitely worth you while ( 8 out of 10 ) .</th>\n",
       "    <th>positive</th>\n",
       "  </tr>\n",
       "  <tr>\n",
       "    <th>this is one of my all - time favorite films , and while it may move too slowly for some , it 's well worth seeing . a corporate lawyer ( richard xxunk ) is dragged into a case involving \" city \" aborigines , and this is no ordinary case . ok , a man has died but it was n't exactly a normal killing . there has also been a greater than average amount of rain lately , and the atmosphere of most of the film is somewhat claustrophobic & xxunk . the aborigines are xxunk a secret and refuse to xxunk the xxunk . this has a lot to do with white men making xxunk about \" city \" vs. \" xxunk \" aborigines , and of course no xxunk in the big city would practice xxunk ways . xxunk huh . xxunk is having strange dreams and he is somehow the key to what 's happening , although no matter how many times i 've seen this i ca n't quite grasp the exact connection . this is a very eerie and creepy film , and is a fine example of peter xxunk 's ability to create tension out of nothing . the ending is a little xxunk but i take it literally , it 's the xxunk way out and the scariest . 10 out of 10 and highly recommended .</th>\n",
       "    <th>positive</th>\n",
       "  </tr>\n",
       "  <tr>\n",
       "    <th>this movie is witty , watchable and utterly touching . and now often do you get to see jean harlow ( or any actress of this era , for that matter ) give another woman a xxunk punch in the xxunk ? ( twice ! ) \\n\\n after harlow 's ruby is sent to a xxunk after getting mixed up with gable 's edward hall ( he of that cheesy yet endearing xxunk smile ) , her xxunk becomes all the more complicated when she discovers that she is pregnant , and she 's convinced that this xxunk has abandoned her , but in fact , her love has xxunk him and he comes to see her , despite the fact that he will be arrested , and from the help of a xxunk , are married . \\n\\n the wonderful relationship that harlow shares with her fellow xxunk is second only to her electric chemistry with gable , who was her most frequent leading man . her cynical character is a perfect match for gable 's smooth - talking xxunk . what 's not to like ? \\n\\n \" you know , you would n't be a bad looking dame - if it was n't for your face ! \" ruby xxunk remarks to gypsy , her xxunk . \" if you 're going to get that close to me , i 'll have to open the other window ! \" \\n\\n priceless ! ! !</th>\n",
       "    <th>positive</th>\n",
       "  </tr>\n",
       "  <tr>\n",
       "    <th>douglas sirk directs this over - acted drama about the unhappy xxunk . kyle xxunk xxunk mitch xxunk hudson ) are xxunk friends with different looks on life . kyle is the xxunk son of an oil xxunk ; mitch works for the hadley oil company . both fall in love with the same woman , lucy moore ; but it is kyle that has the means to wow her off her feet and marry her . sister xxunk xxunk to be the town 's xxunk and carrying a xxunk for mitch , who always seems to be the one to clean up the hadley 's xxunk . ambitious with pretension ; a little over the top , but the stars make it a movie to see . i was most impressed with malone . rounding out the cast : robert keith , edward xxunk , john xxunk and robert j. xxunk .</th>\n",
       "    <th>positive</th>\n",
       "  </tr>\n",
       "</table>\n"
      ],
      "text/plain": [
       "<IPython.core.display.HTML object>"
      ]
     },
     "metadata": {},
     "output_type": "display_data"
    }
   ],
   "source": [
    "data.show_batch()"
   ]
  },
  {
   "cell_type": "code",
   "execution_count": null,
   "metadata": {},
   "outputs": [],
   "source": []
  }
 ],
 "metadata": {
  "kernelspec": {
   "display_name": "Python 3",
   "language": "python",
   "name": "python3"
  }
 },
 "nbformat": 4,
 "nbformat_minor": 2
}
