{
 "cells": [
  {
   "cell_type": "code",
   "execution_count": null,
   "metadata": {},
   "outputs": [],
   "source": [
    "from fastai import *        # Quick accesss to most common functionality\n",
    "from fastai.text import *   # Quick accesss to NLP functionality"
   ]
  },
  {
   "cell_type": "code",
   "execution_count": null,
   "metadata": {},
   "outputs": [
    {
     "data": {
      "text/plain": [
       "PosixPath('/home/ubuntu/.fastai/data/imdb_sample')"
      ]
     },
     "execution_count": null,
     "metadata": {},
     "output_type": "execute_result"
    }
   ],
   "source": [
    "path = untar_data(URLs.IMDB_SAMPLE)\n",
    "path"
   ]
  },
  {
   "cell_type": "code",
   "execution_count": null,
   "metadata": {},
   "outputs": [],
   "source": [
    "data_lm = (TextList.from_csv(path, 'texts.csv', create_func=None, col='text')#, processor=TextProcessor())\n",
    "                   .random_split_by_pct()\n",
    "                   .label_for_lm()\n",
    "                   .databunch())"
   ]
  },
  {
   "cell_type": "code",
   "execution_count": null,
   "metadata": {},
   "outputs": [
    {
     "data": {
      "text/html": [
       "<table>  <col width='5%'>  <col width='95%'>  <tr>\n",
       "    <th>idx</th>\n",
       "    <th>text</th>\n",
       "  </tr>\n",
       "  <tr>\n",
       "    <th>0</th>\n",
       "    <th>xxfld 1 george lopez never caught my interest in his stand up comedy and he still does n't . but this show is a work of art . it 's not ever show where the jokes keep you laughing every time you remember it ( and jokes that re memorable at that ) . this show just has an xxunk look to it and the characters range from an old , short drunk to an xxunk teenager . i do n't know who writes this show but that person does a great job . if</th>\n",
       "  </tr>\n",
       "  <tr>\n",
       "    <th>1</th>\n",
       "    <th>, but the gore effects are quite xxunk film was made by xxup xxunk film students stephen carpenter and jeffrey xxunk for next to xxunk a dreamy ambiance kicks in , very similar to the xxunk xxunk of jeff xxunk 's fantastic \" just before xxunk out of xxunk great to see xxunk xxunk of \" the xxunk \" fame run over few times by a car . xxfld 1 to be honest i had heard this was pretty bad before i decided to watch it , but i 'm never one to let others</th>\n",
       "  </tr>\n",
       "  <tr>\n",
       "    <th>2</th>\n",
       "    <th>and more plot holes than a xxunk course and this film hits a new personal low . and i like bad movies ! avoid like the xxunk . xxfld 1 xxrep 4 * do n't read this review if you want the shocking conclusion of \" the crater lake monster \" to be a total surprise xxrep 4 * \\n\\n a claymation xxunk rises from the xxunk of crater lake to wreak havoc on a group of local rednecks , not to mention your fast forward button . to call \" the crater lake monster</th>\n",
       "  </tr>\n",
       "  <tr>\n",
       "    <th>3</th>\n",
       "    <th>thoughts about o'brien xxup before he made contact with him . in the movie , they just jump the gun . \\n\\n  but that about sums up why this movie was a terrible adaption : because its impossible xxup not to jump the gun and xxunk characters in less than two hours . how could anyone think this movie was watchable if it was under two hours ? at the very least , the movie demands 3 hours to be able to capture some of the important xxunk and connections . anything less is just</th>\n",
       "  </tr>\n",
       "  <tr>\n",
       "    <th>4</th>\n",
       "    <th>, everyone can see that this movie was made by xxunk , so there is no xxunk . all ' ' professionals '' who were xxunk are not professionals at all . some guy only read a book written by some radical serbian , the other one is genocide xxunk xxunk . \\n\\n even slovenians were xxunk in this xxunk the whole war in slovenia lasted for few days , and only because slovenians were xxunk were n't many serbs in slovenia , and xxup yna could n't reach slovenia xxunk xxunk ( after xxunk</th>\n",
       "  </tr>\n",
       "  <tr>\n",
       "    <th>5</th>\n",
       "    <th>they 're xxunk , then they 're in a small town that looks like it has mountains nearby . the town is run by a sheriff who likes to watch and has a personal xxunk against xxunk doctor boy . the xxunk hospital is run by a really xxunk guy with a nice thick mustache and the wife looks like mary xxunk moore or xxunk xxunk . there 's no dramatic tension and the ending will leave you filled with anger . special effects and makeup xxunk xxunk winston did the effects for this movie</th>\n",
       "  </tr>\n",
       "  <tr>\n",
       "    <th>6</th>\n",
       "    <th>make the dream world work for her and her xxunk friend marc ( elliot xxunk ) . both charlotte burke and elliot xxunk do a magnificent job throughout , i find the xxunk comment on xxunk about it being \" xxunk acting \" quite xxunk -- i found every aspect of paperhouse to be xxunk . even in minor scenes of brilliance like when charlotte and the girl in the xxunk are staring at each other through the glass on a door , it 's quite powerful . \\n\\n you do n't have to be</th>\n",
       "  </tr>\n",
       "  <tr>\n",
       "    <th>7</th>\n",
       "    <th>arthur , photographed in a xxunk , movie - magazine fashion , either wants xxunk from ex - husband william powell or another shot at marriage , but i never felt for her because the character is just a string of xxunk ( she 's the type of heroine prone to comical xxunk , but once inside a morgue -- like all women in these ' 30 's comedies -- she xxunk ) . william powell xxunk had a high time working with miss arthur , but you 'd never know it from the end</th>\n",
       "  </tr>\n",
       "  <tr>\n",
       "    <th>8</th>\n",
       "    <th>still felt some sense of responsibility for each other , set in the lush green victorian ( the australian state , not the era ) countryside . \\n\\n writer and director xxunk evidently has further xxunk in both xxunk , and this multiple award - winning xxunk short is a fine beginning to her reel . xxfld 1 this film sat on my xxunk for weeks before i watched it . i xxunk a self - indulgent xxunk flick about relationships gone bad . i was wrong ; this was an xxunk xxunk into the</th>\n",
       "  </tr>\n",
       "  <tr>\n",
       "    <th>9</th>\n",
       "    <th>hour giving it more suspense and moving plot . xxfld 1 this is , in my opinion , a very good film , especially for michael jackson lovers . it contains a message on drugs , stunning special effects , and an awesome music video . \\n\\n the main film is centered around the song and music video ' smooth criminal . ' unlike the four - minute music video , it is normal speed and , in my opinion , much easier to watch . \\n\\n the plot is rather weird , however .</th>\n",
       "  </tr>\n",
       "</table>\n"
      ],
      "text/plain": [
       "<IPython.core.display.HTML object>"
      ]
     },
     "metadata": {},
     "output_type": "display_data"
    }
   ],
   "source": [
    "data_lm.show_batch()"
   ]
  },
  {
   "cell_type": "code",
   "execution_count": null,
   "metadata": {},
   "outputs": [
    {
     "data": {
      "text/plain": [
       "(6036, 6036)"
      ]
     },
     "execution_count": null,
     "metadata": {},
     "output_type": "execute_result"
    }
   ],
   "source": [
    "len(data_lm.train_ds.vocab.itos), len(data_lm.valid_ds.vocab.itos)"
   ]
  },
  {
   "cell_type": "code",
   "execution_count": null,
   "metadata": {},
   "outputs": [],
   "source": [
    "data_clas = (TextList.from_csv(path, 'texts.csv', create_func=None, col='text', vocab=data_lm.vocab)\n",
    "                     .random_split_by_pct()\n",
    "                     .label_from_df(cols=0)\n",
    "                     .databunch())"
   ]
  },
  {
   "cell_type": "code",
   "execution_count": null,
   "metadata": {},
   "outputs": [
    {
     "data": {
      "text/html": [
       "<table>  <col width='90%'>  <col width='10%'>  <tr>\n",
       "    <th>text</th>\n",
       "    <th>label</th>\n",
       "  </tr>\n",
       "  <tr>\n",
       "    <th>xxfld 1 xxunk victor xxunk : a review \\n\\n you know , xxunk victor xxunk is like sticking your hands into a big , xxunk xxunk of xxunk . it 's warm and xxunk , but you 're not sure if it feels right . try as i might ,</th>\n",
       "    <th>negative</th>\n",
       "  </tr>\n",
       "  <tr>\n",
       "    <th>xxfld 1 xxup the xxup shop xxup around xxup the xxup corner is one of the xxunk and most feel - good romantic comedies ever made . there 's just no getting around that , and it 's hard to actually put one 's feeling for this film into words</th>\n",
       "    <th>positive</th>\n",
       "  </tr>\n",
       "  <tr>\n",
       "    <th>xxfld 1 now that che(2008 ) has finished its relatively short australian cinema run ( extremely limited xxunk screen in xxunk , after xxunk ) , i can xxunk join both xxunk of \" at the movies \" in taking steven soderbergh to task . \\n\\n it 's usually satisfying</th>\n",
       "    <th>negative</th>\n",
       "  </tr>\n",
       "  <tr>\n",
       "    <th>xxfld 1 many xxunk that this is n't just a classic due to the fact that it 's the first 3d game , or even the first xxunk - up . it 's also one of the first xxunk games , one of the xxunk definitely the first ) truly</th>\n",
       "    <th>positive</th>\n",
       "  </tr>\n",
       "  <tr>\n",
       "    <th>xxfld 1 this film sat on my xxunk for weeks before i watched it . i xxunk a self - indulgent xxunk flick about relationships gone bad . i was wrong ; this was an xxunk xxunk into the screwed - up xxunk of new xxunk . \\n\\n the format</th>\n",
       "    <th>positive</th>\n",
       "  </tr>\n",
       "</table>\n"
      ],
      "text/plain": [
       "<IPython.core.display.HTML object>"
      ]
     },
     "metadata": {},
     "output_type": "display_data"
    }
   ],
   "source": [
    "data_clas.show_batch()"
   ]
  },
  {
   "cell_type": "code",
   "execution_count": null,
   "metadata": {},
   "outputs": [],
   "source": [
    "learn = language_model_learner(data_lm, pretrained_model=URLs.WT103)"
   ]
  },
  {
   "cell_type": "code",
   "execution_count": null,
   "metadata": {},
   "outputs": [
    {
     "name": "stdout",
     "output_type": "stream",
     "text": [
      "Total time: 00:00\n",
      "\n"
     ]
    },
    {
     "data": {
      "text/plain": [
       "'jeremy howard is the'"
      ]
     },
     "execution_count": null,
     "metadata": {},
     "output_type": "execute_result"
    }
   ],
   "source": [
    "learn.predict('Jeremy Howard is')"
   ]
  },
  {
   "cell_type": "code",
   "execution_count": null,
   "metadata": {},
   "outputs": [],
   "source": [
    "learn = text_classifier_learner(data_clas)"
   ]
  },
  {
   "cell_type": "code",
   "execution_count": null,
   "metadata": {},
   "outputs": [],
   "source": []
  },
  {
   "cell_type": "code",
   "execution_count": null,
   "metadata": {},
   "outputs": [],
   "source": []
  },
  {
   "cell_type": "code",
   "execution_count": null,
   "metadata": {},
   "outputs": [],
   "source": [
    "data_lm = (TextFilesList.from_folder(path)\n",
    "           .split_by_folder(valid='test')\n",
    "           .label_for_lm()           \n",
    "           .databunch())\n",
    "data_lm.save('tmp_lm')"
   ]
  }
 ],
 "metadata": {
  "kernelspec": {
   "display_name": "Python 3",
   "language": "python",
   "name": "python3"
  }
 },
 "nbformat": 4,
 "nbformat_minor": 2
}
