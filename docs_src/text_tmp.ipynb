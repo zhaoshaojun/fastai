{
 "cells": [
  {
   "cell_type": "code",
   "execution_count": null,
   "metadata": {},
   "outputs": [],
   "source": [
    "from fastai import *        # Quick accesss to most common functionality\n",
    "from fastai.text import *   # Quick accesss to NLP functionality"
   ]
  },
  {
   "cell_type": "code",
   "execution_count": null,
   "metadata": {},
   "outputs": [
    {
     "data": {
      "text/plain": [
       "PosixPath('/home/ubuntu/notebooks/data/imdb_sample')"
      ]
     },
     "execution_count": null,
     "metadata": {},
     "output_type": "execute_result"
    }
   ],
   "source": [
    "path = untar_data(URLs.IMDB_SAMPLE)\n",
    "path"
   ]
  },
  {
   "cell_type": "code",
   "execution_count": null,
   "metadata": {},
   "outputs": [],
   "source": [
    "def open_text(fn:PathOrStr):\n",
    "    with open(fn,'r') as f: return ''.join(f.readlines())"
   ]
  },
  {
   "cell_type": "code",
   "execution_count": null,
   "metadata": {},
   "outputs": [],
   "source": [
    "class Category(ItemBase):\n",
    "    def __init__(self, idx, cat): self.data,self.cat = idx,cat\n",
    "    def __str__(self):  return str(self.cat)\n",
    "\n",
    "class CategoryList(ItemList):\n",
    "    def __init__(self, items:Iterator, classes:Collection=None):\n",
    "        super().__init__(items)\n",
    "        if classes is None: classes = uniqueify(items)\n",
    "        self.classes = classes\n",
    "        self.class2idx = {v:k for k,v in enumerate(self.classes)}\n",
    "        \n",
    "    def new(self, items):\n",
    "        return self.__class__(items, self.classes)\n",
    "    \n",
    "    def get(self, o): return Category(self.class2idx[o], o)"
   ]
  },
  {
   "cell_type": "code",
   "execution_count": null,
   "metadata": {},
   "outputs": [],
   "source": [
    "class MultiCategory(Category):\n",
    "    def __str__(self):  return ';'.join(map(str, self.cat))\n",
    "\n",
    "class MultiCategoryList(CategoryList):\n",
    "    def __init__(self, items:Iterator, classes:Collection=None, sep=None):\n",
    "        if sep is not None: items = array(list(csv.reader(items, delimiter=sep)))\n",
    "        if classes is None: classes = uniqueify(np.concatenate(items))\n",
    "        super().__init__(items, classes)\n",
    "    \n",
    "    def get(self, o):\n",
    "        return MultiCategory([self.class2idx[it] for it in o], o)"
   ]
  },
  {
   "cell_type": "code",
   "execution_count": null,
   "metadata": {},
   "outputs": [],
   "source": [
    "def _treat_html(o:str)->str:\n",
    "    return o.replace('\\n','\\\\n')\n",
    "\n",
    "def _text2html_table(items:Collection[Collection[str]], widths:Collection[int])->str:\n",
    "    html_code = f\"<table>\"\n",
    "    for w in widths: html_code += f\"  <col width='{w}%'>\"\n",
    "    for line in items:\n",
    "        html_code += \"  <tr>\\n\"\n",
    "        html_code += \"\\n\".join([f\"    <th>{_treat_html(o)}</th>\" for o in line if len(o) >= 1])\n",
    "        html_code += \"\\n  </tr>\\n\"\n",
    "    return html_code + \"</table>\\n\""
   ]
  },
  {
   "cell_type": "code",
   "execution_count": null,
   "metadata": {},
   "outputs": [],
   "source": [
    "class Text(ItemBase):\n",
    "    def __init__(self, ids, text): self.data,self.text = ids,text\n",
    "    def __str__(self):  return str(self.text)\n",
    "    \n",
    "    def show_batch(self, idxs:Collection[int], rows:int, ds:Dataset, figsize:Tuple[int,int]=(9,10))->None:\n",
    "        from IPython.display import clear_output, display, HTML\n",
    "        items = [['text', 'label']]\n",
    "        for i in idxs[:rows]:\n",
    "            x,y = ds[i]\n",
    "            items.append([str(x), str(y)])\n",
    "        display(HTML(_text2html_table(items, [90,10])))\n",
    "\n",
    "class NumericalizedTextList(ItemList):\n",
    "    def __init__(self, items:Iterator, vocab:Vocab=None, create_func:Callable=None, path:PathOrStr='.'):\n",
    "        super().__init__(items, create_func, path)\n",
    "        self.vocab = vocab\n",
    "        \n",
    "    def new(self, items):\n",
    "        return self.__class__(items, self.vocab)\n",
    "    \n",
    "    def get(self, o): return Text(o, self.vocab.textify(o))\n",
    "    \n",
    "class TokenizedTextList(NumericalizedTextList):\n",
    "    \n",
    "    def preprocess(self, vocab:Vocab=None, max_vocab:int=60000, min_freq:int=2):\n",
    "        self.vocab = ifnone(vocab, Vocab.create(self.items, max_vocab, min_freq))\n",
    "        self.preprocess_kwargs = {'vocab': self.vocab}\n",
    "        self.items = np.array([self.vocab.numericalize(t) for t in self.items])\n",
    "    \n",
    "class TextList(TokenizedTextList):\n",
    "    def preprocess(self, tokenizer:Tokenizer=None, chunksize:int=10000, vocab:Vocab=None, \n",
    "                 max_vocab:int=60000, min_freq:int=2):\n",
    "        tokenizer = ifnone(tokenizer, Tokenizer())\n",
    "        tokens = []\n",
    "        for i in progress_bar(range(0,len(self.items),chunksize), leave=False):\n",
    "            tokens += tokenizer.process_all(self.items[i:i+chunksize])\n",
    "        self.items = tokens\n",
    "        super().preprocess(vocab, max_vocab, min_freq)\n",
    "    \n",
    "class TextFilesList(TextList):\n",
    "    def __init__(self, items:Iterator, create_func:Callable=None, path:PathOrStr='.'):\n",
    "        texts = [open_text(fn) for fn in items]\n",
    "        super().__init__(texts, create_func, path)"
   ]
  },
  {
   "cell_type": "code",
   "execution_count": null,
   "metadata": {},
   "outputs": [],
   "source": [
    "il = TextList.from_csv(path, 'texts.csv', create_func=None, col='text')"
   ]
  },
  {
   "cell_type": "code",
   "execution_count": null,
   "metadata": {},
   "outputs": [],
   "source": [
    "ll = il.label_from_df(CategoryList, cols=0)"
   ]
  },
  {
   "cell_type": "code",
   "execution_count": null,
   "metadata": {},
   "outputs": [],
   "source": [
    "sd = ll.random_split_by_pct()"
   ]
  },
  {
   "cell_type": "code",
   "execution_count": null,
   "metadata": {},
   "outputs": [],
   "source": [
    "sd = sd.preprocess()"
   ]
  },
  {
   "cell_type": "code",
   "execution_count": null,
   "metadata": {},
   "outputs": [],
   "source": [
    "data = sd.databunch()"
   ]
  },
  {
   "cell_type": "code",
   "execution_count": null,
   "metadata": {},
   "outputs": [
    {
     "data": {
      "text/html": [
       "<table>  <col width='90%'>  <col width='10%'>  <tr>\n",
       "    <th>text</th>\n",
       "    <th>label</th>\n",
       "  </tr>\n",
       "  <tr>\n",
       "    <th>sam mraovich should never be allowed to touch a camera again . if he does he should be arrested on the spot ... at the very least for petty xxunk . anybody who pays even a dime to rent any of his garbage should file a claim and be xxunk . this was innocently my first viewing of his \" xxunk ... and it will my last . ed wood looks awfully good to me right now . \\n\\n when i return this piece of crap to the video store , i will personally ask that it be taken off the shelf . an active xxunk of gay cinema , i am xxunk and xxunk that this warped , xxunk xxunk man - child be allowed to xxunk and xxunk something like this , with a xxunk pretty boy on the cover ( jamie xxunk xxunk , who , thankfully , has no other acting credits in imdb ) and an interesting synopsis on the back used as bait , and then market it as a \" movie \" rental . trust me , this has no place being on any rack anywhere ; it is simply not a movie in any sense of the word . offensive , irresponsible junk such as this can only be detrimental to the efforts being made to promote and support gay cinema ( hell , gay rights in general ! ) for those xxunk to rent this out because of the cover , you xxup will be disappointed . xxunk is not as xxunk to look at on film as he is on the cover , and he appears once or twice without a shirt -- that 's it . instead , the xxunk xxunk xxunk on us his own disgusting , sorry - looking xxunk - boy xxunk . \\n\\n this \" thing \" he \" xxunk \" is a xxunk xxunk project for mraovich . both he and his friend michael xxunk ( who , i understand , puts out similar sleazy garbage ) are terrible in this . mraovich is xxunk posing as a complete no - talent ( in all fields ) , desperate to grab onto any \" loser \" attention he can for himself . he is to be xxunk .</th>\n",
       "    <th>negative</th>\n",
       "  </tr>\n",
       "  <tr>\n",
       "    <th>director / writer michael winner 's feature is a better than expected xxunk supernatural horror film ( although still schlock xxunk xxunk for ) , which really does by go xxunk . sure it might borrow ideas from other similar xxunk horror movies of this period , but still manages to bring its own psychological xxunk to the xxunk material ( of good vs. evil ) and a unique vision that has a fair share of impressively xxunk , if somewhat xxunk set - pieces . as a whole it 's xxunk , however remains intriguing by xxunk an ominous charge without going gang - xxunk with the scares . actually there 's always something going on amongst its busy xxunk , but it 's rather down - played with its xxunk xxunk to xxunk patterns and atmospheric xxunk , up until its vividly xxunk and grisly climax with a downbeat revelation . winner 's dressed up xxunk might feel xxunk , however it 's the ensemble cast that really holds it together ",
       "  as you try to spot the faces . there 's plenty too . some having more to do with the scheme of things than others , but there 's no doubts every one of them are committed , despite the xxunk crude nature of it all . it 's interesting to see names like xxunk miles ( who 's significantly creepy ! ) , beverly xxunk ( likewise ) , xxunk xxunk , xxunk xxunk , christopher walken , william xxunk ( a neat xxunk ) , jeff goldblum , jerry orbach and tom xxunk in bit parts . then you got a mild - mannered chris xxunk and xxunk gorgeous cristina raines in the leads . offering able support xxunk xxunk , martin xxunk , xxunk xxunk , john carradine , xxunk xxunk and arthur kennedy . the script does throw around many characters , as well as notions but gets xxunk xxunk by trying to xxunk all of it in . however it 's xxunk air works in its favour in establishing the xxunk and xxunk of what 's really going on here . is there a reason for all of this , and why is it surrounding raines ' character ? the emphasis is mainly built upon that moody angle , as it begins to slowly shed light of her inner xxunk and that of the strange / worrying experiences she encounters when she 's moves into her new apartment . this is where winner tries to pull out the xxunk shades , which projects some xxunk moments . xxunk xxunk was the man responsible for the grand , xxunk xxunk score that never misses a xxunk and richard xxunk xxunk xxunk the sweeping , xxunk - like photography .</th>\n",
       "    <th>positive</th>\n",
       "  </tr>\n",
       "  <tr>\n",
       "    <th>this movie is witty , watchable and utterly touching . and now often do you get to see jean harlow ( or any actress of this era , for that matter ) give another woman a swift punch in the xxunk ? ( twice ! ) \\n\\n after harlow 's ruby is sent to a xxunk after getting mixed up with gable 's edward hall ( he of that cheesy yet endearing crooked smile ) , her xxunk becomes all the more complicated when she discovers that she is pregnant , and she 's convinced that this xxunk has abandoned her , but in fact , her love has xxunk him and he comes to see her , despite the fact that he will be arrested , and from the help of a xxunk , are married . \\n\\n the wonderful relationship that harlow shares with her fellow xxunk is second only to her electric chemistry with gable , who was her most frequent leading man . her cynical character is a perfect match for gable 's smooth - talking xxunk . what 's not to like ? \\n\\n \" you know , you would n't be a bad looking dame - if it was n't for your face ! \" ruby xxunk remarks to gypsy , her xxunk . \" if you 're going to get that close to me , i 'll have to open the other window ! \" \\n\\n priceless ! ! !</th>\n",
       "    <th>positive</th>\n",
       "  </tr>\n",
       "  <tr>\n",
       "    <th>i 've seen a movie that s sort of like this , were a xxunk drugs woman and he then picks there nose with a knife and xxunk there nose to xxunk . he then xxunk there tongue and eats it . \\n\\n the most gruesome part of the movie is were he cuts there left eye out and starts dancing with it . he then starts to eat the woman naked . \\n\\n ( i 'm not sure what the movies called but i know it 's a cult movie and that it was made in germany ) . \\n\\n anyway xxup the xxup nose xxup xxunk is fairly crap . \\n\\n its a crap movie and the picture and xxunk quality is very rubbish . \\n\\n please do n't waste you 're time buying and watching this movie its totally crap . \\n\\n i prefer xxup day of xxup the xxup woman also known as i xxup spit on xxup your xxup grave ( its one of the best cult movies ever ) check out this link xxunk : / / xxunk / title / xxunk /</th>\n",
       "    <th>negative</th>\n",
       "  </tr>\n",
       "  <tr>\n",
       "    <th>i wo n't waste a whole lot of time of this one because as far as i 'm concerned it is n't really a movie to start with , just a xxunk xxunk - xxunk of borrowed footage and embarrassingly amateurish new footage made solely for the purpose of xxunk the whole mess together and call it a \" boogeyman \" sequel . literally 80 % of this film is stolen from its far superior predecessor \" the boogeyman \" , a film that the writers of this garbage apparently did n't even bother to watch because they could n't even get actress xxunk love 's original character 's name ( xxunk ) right . and to add insult to xxunk the killer is invisible in the original footage and xxunk in the new footage , apparently they think their audience is as stupid as they are . 0 out of 10 and i wish imdb 's rating system went that low , the most xxunk and xxunk attempt to rip off people 's money i 've even seen , xxup you xxup have xxup been xxup warned !</th>\n",
       "    <th>negative</th>\n",
       "  </tr>\n",
       "  <tr>\n",
       "    <th>come on . the new twist is nearly ok , but from xxunk the elm street children freddy is just killing people now . more of the same : special effects with no actual character development or anything . simply bad and xxunk . xxup scary .. ? nope . not at all . just bad .</th>\n",
       "    <th>negative</th>\n",
       "  </tr>\n",
       "  <tr>\n",
       "    <th>someone has already mentioned \" being at the right time at the right place \" it was so true for this documentary that i had doubts about the xxunk of the scenes and thought it included perhaps some acting but it is not . it is all real . the story is nothing new for the people of the developing and / or poor countries . it xxunk light on the xxunk of the people by xxunk media , the xxunk , the artificial xxunk of the people by deliberately creating tension on the streets , sometimes to the point that the army , intelligence xxunk or even the xxunk believe , led by the us ) uses agents who attack \" any \" side to provoke the masses into violence and therefore xxunk their coups . a xxunk officer in the film mentions this also . that they wanted to see the peoples confront on the streets . all of these scenarios have been played in turkey ( xxup usa 's pet dog in the middle east ) throughout its history who has experienced 3 coups and xxunk , secret plans made by the xxunk army have been exposed , ironically through a pro - government religious / conservative media xxunk the a - religious xxunk of the army , in which a very important xxunk is xxunk by an army agent to provoke the people etc . \\n\\n what makes this film unique is that they were filming from inside , perhaps by chance , when the events have happened . it is clear that the directors are pro chavez . whether or not this caused the directors to xxunk and xxunk the events and the information , i would not know . \\n\\n and whether chavez will be xxunk the people of xxunk against the xxunk of us and the global economy without xxunk any xxunk thought with force and in the end becoming a self - indulgent xxunk , history will tell . \\n\\n but at least chavez is hope and i believe it is worth taking the chance .</th>\n",
       "    <th>positive</th>\n",
       "  </tr>\n",
       "  <tr>\n",
       "    <th>what can i say , this is a piece of brilliant film - making that should have won an oscar . a copy should be kept safe in a secure xxunk for xxunk . it should be required viewing for all high school students across the world . sam mraovich is a genius , perhaps the most genius writer / director / producer / xxunk / xxunk / xxunk xxunk to ever grace the cinema world with his art . \\n\\n where do i begin with this one ? every xxunk of ben and arthur was so completely breathtaking ! and mraovich as arthur , wow , he is so attractive i 'm surprised he did n't go for mr . universe . i could n't contain myself during the nude scene . i xxunk this movie to my brother and he called me on the phone saying how arthur 's nude scene turned him gay . i am totally supportive of course , because of this film and it 's beautifully crafted lessons in xxunk . why just yesterday i burned down a church and i wrote \" for sam and arthur \" in its xxunk xxunk . \\n\\n the cinematography was the best thing about this film . when that fed - ex plane took to the xxunk xxunk the palm trees of xxunk , i xxunk ! why , i never even knew they had palm trees in xxunk or that people could travel on fed - ex xxunk before this film . it opened my eyes to a new realm of possibilities . this film inspired me to xxunk in sam mraovich 's school of screen writing , acting , directing , xxunk , casting , producing , production design and real estate . i just want to say , \" thank you , mr . mraovich . thank you for bringing this creation into the world . we can never re - pay you enough . \"</th>\n",
       "    <th>negative</th>\n",
       "  </tr>\n",
       "</table>\n"
      ],
      "text/plain": [
       "<IPython.core.display.HTML object>"
      ]
     },
     "metadata": {},
     "output_type": "display_data"
    }
   ],
   "source": [
    "data.show_batch()"
   ]
  },
  {
   "cell_type": "code",
   "execution_count": null,
   "metadata": {},
   "outputs": [],
   "source": []
  }
 ],
 "metadata": {
  "kernelspec": {
   "display_name": "Python 3",
   "language": "python",
   "name": "python3"
  }
 },
 "nbformat": 4,
 "nbformat_minor": 2
}
