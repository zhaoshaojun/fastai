{
 "cells": [
  {
   "cell_type": "code",
   "execution_count": null,
   "metadata": {},
   "outputs": [],
   "source": [
    "from fastai import *          # Quick accesss to most common functionality\n",
    "from fastai.tabular import *  # Quick accesss to tabular functionality     # Access to example data provided with fastai"
   ]
  },
  {
   "cell_type": "markdown",
   "metadata": {},
   "source": [
    "# Tabular example"
   ]
  },
  {
   "cell_type": "markdown",
   "metadata": {},
   "source": [
    "Tabular data should be in a Pandas `DataFrame`."
   ]
  },
  {
   "cell_type": "code",
   "execution_count": null,
   "metadata": {},
   "outputs": [],
   "source": [
    "def remove_last_line(t:str):\n",
    "    return '\\n'.join(t.split('\\n')[:-1])"
   ]
  },
  {
   "cell_type": "code",
   "execution_count": null,
   "metadata": {},
   "outputs": [],
   "source": [
    "def codes(df, idx):\n",
    "    return [df[c].iloc[[idx]].cat.codes.iloc[0] + 1 for c in df.columns]"
   ]
  },
  {
   "cell_type": "code",
   "execution_count": null,
   "metadata": {},
   "outputs": [],
   "source": [
    "def def_emb_sz(df, n, sz_dict):\n",
    "    col = df[n]\n",
    "    n_cat = len(col.cat.categories)+1  # extra cat for NA\n",
    "    sz = sz_dict.get(n, min(50, (n_cat//2)+1))  # rule of thumb\n",
    "    return n_cat,sz"
   ]
  },
  {
   "cell_type": "code",
   "execution_count": null,
   "metadata": {},
   "outputs": [],
   "source": [
    "class TabularLine(ItemBase):\n",
    "    def __init__(self, cats, codes, conts): \n",
    "        self.cats,self.conts = cats,conts\n",
    "        self.data = [codes, conts.values]\n",
    "    def __str__(self):  return f'{remove_last_line(str(self.cats))}\\n{remove_last_line(str(self.conts))}'\n",
    "    \n",
    "    def show_batch(self, idxs:Collection[int], rows:int, ds:Dataset, figsize:Tuple[int,int]=(9,10))->None:\n",
    "        from IPython.display import clear_output, display, HTML\n",
    "        items = [['text', 'label']]\n",
    "        for i in idxs[:rows]:\n",
    "            x,y = ds[i]\n",
    "            items.append([str(x), str(y)])\n",
    "        display(HTML(_text2html_table(items, [90,10])))\n",
    "\n",
    "class TabularList(ItemList):\n",
    "    def __init__(self, items:Iterator, cat_names:OptStrList=None, cont_names:OptStrList=None, create_func:Callable=None, \n",
    "                 path:PathOrStr='.', xtra=None):\n",
    "        #dataframe is in xtra, items is just a range of index\n",
    "        assert xtra is not None and len(xtra)==len(items), \"Use from_df or from_csv\"\n",
    "        super().__init__(range(len(items)), create_func=create_func, path=path, xtra=xtra)\n",
    "        self.cat_names,self.cont_names = cat_names,cont_names\n",
    "    \n",
    "    @classmethod\n",
    "    def from_df(cls, df:DataFrame, path:PathOrStr='.', create_func:Callable=None, cat_names:OptStrList=None, \n",
    "                cont_names:OptStrList=None)->'ItemList':\n",
    "        \"Get the list of inputs in the `col` of `path/csv_name`.\"\n",
    "        res = cls(create_func=create_func, items=range(len(df)), path=path, xtra=df,\n",
    "                  cat_names=cat_names, cont_names=cont_names)\n",
    "        return res\n",
    "    \n",
    "    def new(self, items:Iterator, xtra:Any=None)->'TabularList':\n",
    "        return self.__class__(items=items, cat_names=self.cat_names, cont_names=self.cont_names,\n",
    "                              create_func=self.create_func, path=self.path, xtra=xtra)\n",
    "    \n",
    "    def get(self, o): \n",
    "        return TabularLine(self.xtra[self.cat_names].iloc[o],\n",
    "                           codes(self.xtra[self.cat_names], o),\n",
    "                           self.xtra[self.cont_names].iloc[o])\n",
    "    \n",
    "    def get_emb_szs(self, sz_dict): return [def_emb_sz(self.xtra, n, sz_dict) for n in self.cat_names]\n",
    "    \n",
    "    def preprocess(self, tfms=None):\n",
    "        tfms,new_tfms = ifnone(tfms,[]),[]\n",
    "        for tfm in tfms:\n",
    "            if isinstance(tfm, TabularTransform): tfm(self.xtra, test=True)\n",
    "            else:\n",
    "                #cat and cont names may have been changed by transform (like Fill_NA)\n",
    "                tfm = tfm(self.cat_names, self.cont_names)\n",
    "                tfm(self.xtra)\n",
    "                new_tfms.append(tfm)\n",
    "                self.cat_names, self.cont_names = tfm.cat_names, tfm.cont_names\n",
    "        self.preprocess_kwargs = {'tfms':new_tfms}"
   ]
  },
  {
   "cell_type": "code",
   "execution_count": null,
   "metadata": {},
   "outputs": [],
   "source": [
    "class Normalize(TabularTransform):\n",
    "    \"Transform the categorical variables to that type.\"\n",
    "\n",
    "    def apply_train(self, df:DataFrame):\n",
    "        self.means,self.stds = {},{}\n",
    "        for n in self.cont_names:\n",
    "            self.means[n],self.stds[n] = df.loc[:,n].mean(),df.loc[:,n].std()\n",
    "            df.loc[:,n] = (df.loc[:,n]-self.means[n]) / (1e-7 + self.stds[n])\n",
    "\n",
    "    def apply_test(self, df:DataFrame):\n",
    "        for n in self.cont_names:\n",
    "            df.loc[:,n] = (df.loc[:,n]-self.means[n]) / (1e-7 + self.stds[n])\n"
   ]
  },
  {
   "cell_type": "code",
   "execution_count": null,
   "metadata": {},
   "outputs": [],
   "source": [
    "path = untar_data(URLs.ADULT_SAMPLE)\n",
    "df = pd.read_csv(path/'adult.csv')"
   ]
  },
  {
   "cell_type": "code",
   "execution_count": null,
   "metadata": {},
   "outputs": [],
   "source": [
    "dep_var = '>=50k'\n",
    "cat_names = ['workclass', 'education', 'marital-status', 'occupation', 'relationship', 'race']\n",
    "cont_names = ['age', 'fnlwgt', 'education-num']"
   ]
  },
  {
   "cell_type": "code",
   "execution_count": null,
   "metadata": {},
   "outputs": [],
   "source": [
    "sl = (TabularList.from_df(df, path, cat_names=cat_names, cont_names=cont_names)\n",
    "      .random_split_by_pct()\n",
    "      .label_from_df(CategoryList, dep_var))"
   ]
  },
  {
   "cell_type": "code",
   "execution_count": null,
   "metadata": {},
   "outputs": [],
   "source": [
    "slp = sl.preprocess(tfms=[FillMissing, Categorify, Normalize])"
   ]
  },
  {
   "cell_type": "code",
   "execution_count": null,
   "metadata": {},
   "outputs": [],
   "source": [
    "data = slp.databunch()"
   ]
  },
  {
   "cell_type": "code",
   "execution_count": null,
   "metadata": {},
   "outputs": [],
   "source": [
    "x,y = next(iter(data.train_dl))"
   ]
  },
  {
   "cell_type": "code",
   "execution_count": null,
   "metadata": {},
   "outputs": [
    {
     "data": {
      "text/plain": [
       "[[tensor([5, 6, 2, 5, 5, 5, 5, 5, 8, 3, 3, 8, 5, 5, 1, 5, 5, 5, 5, 5, 8, 5, 5, 7,\n",
       "          5, 8, 5, 8, 5, 2, 5, 8, 7, 5, 5, 5, 5, 7, 5, 5, 5, 5, 5, 5, 7, 7, 5, 5,\n",
       "          5, 1, 5, 5, 5, 5, 5, 5, 5, 5, 5, 7, 5, 1, 5, 2], device='cuda:0'),\n",
       "  tensor([12,  8, 12, 16, 16, 10, 16, 13, 11, 12,  1, 16,  5, 12,  2, 12,  9, 15,\n",
       "          16, 13, 12, 12, 16, 12, 10, 12, 16, 13, 16, 10,  1, 10, 12, 10, 12, 11,\n",
       "           7, 15, 12, 16, 10, 12,  9,  9,  6,  8, 10, 12, 10, 16, 10, 12, 10, 12,\n",
       "           1, 16, 16, 12, 16, 15, 12,  8, 12, 16], device='cuda:0'),\n",
       "  tensor([3, 1, 1, 5, 5, 1, 7, 7, 3, 3, 3, 5, 3, 4, 5, 5, 1, 3, 5, 5, 1, 5, 5, 3,\n",
       "          5, 3, 5, 3, 3, 5, 5, 3, 3, 5, 3, 3, 3, 1, 3, 1, 5, 1, 5, 3, 3, 3, 5, 5,\n",
       "          3, 5, 5, 7, 5, 1, 3, 1, 3, 7, 1, 3, 3, 4, 5, 1], device='cuda:0'),\n",
       "  tensor([ 9,  5,  2,  4,  2,  5,  8, 13, 11, 11,  9,  9,  8,  9,  1,  4,  2,  5,\n",
       "          15,  5,  5, 13,  2,  6, 14, 12,  9, 11,  4, 11,  4,  9,  0, 11,  8, 11,\n",
       "           4, 11,  5,  2,  2,  2, 14,  8, 13, 13, 13,  4, 11,  1,  2,  9,  5, 10,\n",
       "          15,  2, 15,  8,  7, 11,  2,  1,  9,  7], device='cuda:0'),\n",
       "  tensor([1, 5, 2, 2, 4, 2, 5, 2, 1, 1, 1, 2, 6, 5, 4, 2, 2, 1, 2, 2, 5, 2, 4, 1,\n",
       "          2, 1, 2, 1, 1, 2, 2, 1, 1, 2, 1, 1, 1, 5, 1, 5, 2, 2, 2, 1, 1, 1, 2, 2,\n",
       "          1, 4, 4, 2, 4, 5, 1, 5, 1, 5, 3, 1, 1, 2, 4, 2], device='cuda:0'),\n",
       "  tensor([5, 5, 4, 3, 5, 5, 5, 5, 3, 5, 5, 5, 5, 3, 5, 5, 5, 5, 5, 5, 5, 5, 3, 5,\n",
       "          3, 5, 2, 3, 5, 5, 5, 5, 3, 3, 5, 5, 5, 5, 5, 5, 5, 5, 5, 5, 5, 5, 5, 5,\n",
       "          5, 5, 5, 3, 5, 5, 5, 5, 5, 3, 3, 5, 5, 5, 5, 5], device='cuda:0'),\n",
       "  tensor([1, 1, 1, 1, 1, 1, 1, 1, 1, 1, 1, 1, 1, 1, 1, 1, 1, 1, 1, 1, 1, 1, 1, 1,\n",
       "          1, 1, 1, 1, 1, 1, 1, 1, 1, 1, 1, 1, 1, 1, 1, 1, 1, 1, 1, 1, 1, 1, 1, 1,\n",
       "          1, 1, 1, 1, 1, 1, 1, 1, 1, 1, 1, 1, 1, 1, 1, 1], device='cuda:0')],\n",
       " tensor([[-0.3384,  0.6740, -0.4215],\n",
       "         [-0.0446,  1.7906,  0.7530],\n",
       "         [-0.7055,  0.4918, -0.4215],\n",
       "         [-0.8524, -1.5914, -0.0300],\n",
       "         [ 0.2491, -0.0503, -0.0300],\n",
       "         [ 0.0288, -0.7149,  1.1445],\n",
       "         [ 1.3507, -0.1566, -0.0300],\n",
       "         [ 1.4241, -0.7499,  1.5360],\n",
       "         [ 2.6725, -0.7213,  2.3189],\n",
       "         [ 0.3960, -1.1820, -0.4215],\n",
       "         [ 1.0569,  0.1637, -1.5959],\n",
       "         [ 0.3226,  0.6116, -0.0300],\n",
       "         [ 0.2491,  0.7949, -2.7704],\n",
       "         [-0.4118,  0.9334, -0.4215],\n",
       "         [-1.5133, -0.7081, -1.2044],\n",
       "         [-1.3665, -0.7100, -0.4215],\n",
       "         [ 0.2491,  1.4692,  0.3615],\n",
       "         [ 1.2038, -0.6160,  1.9275],\n",
       "         [-0.1915, -0.1305, -0.0300],\n",
       "         [ 0.2491, -0.3663,  1.5360],\n",
       "         [ 0.1757, -1.5208, -0.4215],\n",
       "         [ 0.9835, -0.1669, -0.4215],\n",
       "         [-0.4852, -0.5886, -0.0300],\n",
       "         [-0.1915,  0.9928, -0.4215],\n",
       "         [-1.1462, -0.0101,  1.1445],\n",
       "         [-0.4852,  2.3964, -0.4215],\n",
       "         [-0.9993, -0.6114, -0.0300],\n",
       "         [ 0.3960, -0.1496,  1.5360],\n",
       "         [-0.1181, -0.4055, -0.0300],\n",
       "         [ 0.1023, -0.2546,  1.1445],\n",
       "         [-0.7055,  0.7701, -1.5959],\n",
       "         [ 0.6163, -0.2162,  1.1445],\n",
       "         [-0.8524,  0.6594, -0.4215],\n",
       "         [ 0.1757,  0.3389,  1.1445],\n",
       "         [-0.0446,  0.1613, -0.4215],\n",
       "         [-0.4118, -0.4357,  2.3189],\n",
       "         [ 1.6444,  0.0676, -1.9874],\n",
       "         [ 0.6897,  1.3094,  1.9275],\n",
       "         [ 0.1023,  2.4137, -0.4215],\n",
       "         [ 0.2491, -0.5103, -0.0300],\n",
       "         [-0.6321,  0.7784,  1.1445],\n",
       "         [ 0.9100, -0.5765, -0.4215],\n",
       "         [-1.1462,  0.7522,  0.3615],\n",
       "         [ 0.1757,  0.0425,  0.3615],\n",
       "         [ 1.7178, -0.2029, -2.3789],\n",
       "         [ 0.9100, -0.1314,  0.7530],\n",
       "         [ 0.1023,  0.4557,  1.1445],\n",
       "         [ 0.4694,  1.4864, -0.4215],\n",
       "         [-0.7055, -0.5315,  1.1445],\n",
       "         [-1.4399, -0.2281, -0.0300],\n",
       "         [-1.1462, -0.6882,  1.1445],\n",
       "         [ 2.8928, -0.0677, -0.4215],\n",
       "         [-0.9993, -0.6397,  1.1445],\n",
       "         [ 0.5429,  0.0033, -0.4215],\n",
       "         [ 0.1757, -0.7341, -1.5959],\n",
       "         [-0.1915, -0.4135, -0.0300],\n",
       "         [ 0.5429, -0.2364, -0.0300],\n",
       "         [ 0.0288,  1.2680, -0.4215],\n",
       "         [ 0.6897,  1.9408, -0.0300],\n",
       "         [ 1.6444, -0.1246,  1.9275],\n",
       "         [ 2.1585,  0.3188, -0.4215],\n",
       "         [ 1.2038,  0.3505,  0.7530],\n",
       "         [-1.5133, -0.1887, -0.4215],\n",
       "         [ 1.0569, -0.0800, -0.0300]], device='cuda:0', dtype=torch.float64)]"
      ]
     },
     "execution_count": null,
     "metadata": {},
     "output_type": "execute_result"
    }
   ],
   "source": [
    "x"
   ]
  },
  {
   "cell_type": "code",
   "execution_count": null,
   "metadata": {},
   "outputs": [
    {
     "ename": "AttributeError",
     "evalue": "'CategoryList' object has no attribute 'c'",
     "output_type": "error",
     "traceback": [
      "\u001b[0;31m---------------------------------------------------------------------------\u001b[0m",
      "\u001b[0;31mAttributeError\u001b[0m                            Traceback (most recent call last)",
      "\u001b[0;32m<ipython-input-138-480eb9caae1a>\u001b[0m in \u001b[0;36m<module>\u001b[0;34m()\u001b[0m\n\u001b[0;32m----> 1\u001b[0;31m \u001b[0mlearn\u001b[0m \u001b[0;34m=\u001b[0m \u001b[0mget_tabular_learner\u001b[0m\u001b[0;34m(\u001b[0m\u001b[0mdata\u001b[0m\u001b[0;34m,\u001b[0m \u001b[0mlayers\u001b[0m\u001b[0;34m=\u001b[0m\u001b[0;34m[\u001b[0m\u001b[0;36m200\u001b[0m\u001b[0;34m,\u001b[0m\u001b[0;36m100\u001b[0m\u001b[0;34m]\u001b[0m\u001b[0;34m,\u001b[0m \u001b[0mmetrics\u001b[0m\u001b[0;34m=\u001b[0m\u001b[0maccuracy\u001b[0m\u001b[0;34m)\u001b[0m\u001b[0;34m\u001b[0m\u001b[0m\n\u001b[0m\u001b[1;32m      2\u001b[0m \u001b[0mlearn\u001b[0m\u001b[0;34m.\u001b[0m\u001b[0mfit\u001b[0m\u001b[0;34m(\u001b[0m\u001b[0;36m1\u001b[0m\u001b[0;34m,\u001b[0m \u001b[0;36m1e-2\u001b[0m\u001b[0;34m)\u001b[0m\u001b[0;34m\u001b[0m\u001b[0m\n",
      "\u001b[0;32m~/fastai/fastai/tabular/data.py\u001b[0m in \u001b[0;36mget_tabular_learner\u001b[0;34m(data, layers, emb_szs, metrics, ps, emb_drop, y_range, use_bn, **kwargs)\u001b[0m\n\u001b[1;32m     94\u001b[0m     \u001b[0;34m\"Get a `Learner` using `data`, with `metrics`, including a `TabularModel` created using the remaining params.\"\u001b[0m\u001b[0;34m\u001b[0m\u001b[0m\n\u001b[1;32m     95\u001b[0m     \u001b[0memb_szs\u001b[0m \u001b[0;34m=\u001b[0m \u001b[0mdata\u001b[0m\u001b[0;34m.\u001b[0m\u001b[0mget_emb_szs\u001b[0m\u001b[0;34m(\u001b[0m\u001b[0mifnone\u001b[0m\u001b[0;34m(\u001b[0m\u001b[0memb_szs\u001b[0m\u001b[0;34m,\u001b[0m \u001b[0;34m{\u001b[0m\u001b[0;34m}\u001b[0m\u001b[0;34m)\u001b[0m\u001b[0;34m)\u001b[0m\u001b[0;34m\u001b[0m\u001b[0m\n\u001b[0;32m---> 96\u001b[0;31m     model = TabularModel(emb_szs, len(data.cont_names), out_sz=data.c, layers=layers, ps=ps, emb_drop=emb_drop,\n\u001b[0m\u001b[1;32m     97\u001b[0m                          y_range=y_range, use_bn=use_bn)\n\u001b[1;32m     98\u001b[0m     \u001b[0;32mreturn\u001b[0m \u001b[0mLearner\u001b[0m\u001b[0;34m(\u001b[0m\u001b[0mdata\u001b[0m\u001b[0;34m,\u001b[0m \u001b[0mmodel\u001b[0m\u001b[0;34m,\u001b[0m \u001b[0mmetrics\u001b[0m\u001b[0;34m=\u001b[0m\u001b[0mmetrics\u001b[0m\u001b[0;34m,\u001b[0m \u001b[0;34m**\u001b[0m\u001b[0mkwargs\u001b[0m\u001b[0;34m)\u001b[0m\u001b[0;34m\u001b[0m\u001b[0m\n",
      "\u001b[0;32m~/fastai/fastai/basic_data.py\u001b[0m in \u001b[0;36m__getattr__\u001b[0;34m(self, k)\u001b[0m\n\u001b[1;32m    163\u001b[0m         \u001b[0;32mreturn\u001b[0m \u001b[0mcls\u001b[0m\u001b[0;34m(\u001b[0m\u001b[0;34m*\u001b[0m\u001b[0mdls\u001b[0m\u001b[0;34m,\u001b[0m \u001b[0mpath\u001b[0m\u001b[0;34m=\u001b[0m\u001b[0mpath\u001b[0m\u001b[0;34m,\u001b[0m \u001b[0mdevice\u001b[0m\u001b[0;34m=\u001b[0m\u001b[0mdevice\u001b[0m\u001b[0;34m,\u001b[0m \u001b[0mtfms\u001b[0m\u001b[0;34m=\u001b[0m\u001b[0mtfms\u001b[0m\u001b[0;34m,\u001b[0m \u001b[0mcollate_fn\u001b[0m\u001b[0;34m=\u001b[0m\u001b[0mcollate_fn\u001b[0m\u001b[0;34m)\u001b[0m\u001b[0;34m\u001b[0m\u001b[0m\n\u001b[1;32m    164\u001b[0m \u001b[0;34m\u001b[0m\u001b[0m\n\u001b[0;32m--> 165\u001b[0;31m     \u001b[0;32mdef\u001b[0m \u001b[0m__getattr__\u001b[0m\u001b[0;34m(\u001b[0m\u001b[0mself\u001b[0m\u001b[0;34m,\u001b[0m\u001b[0mk\u001b[0m\u001b[0;34m:\u001b[0m\u001b[0mint\u001b[0m\u001b[0;34m)\u001b[0m\u001b[0;34m->\u001b[0m\u001b[0mAny\u001b[0m\u001b[0;34m:\u001b[0m \u001b[0;32mreturn\u001b[0m \u001b[0mgetattr\u001b[0m\u001b[0;34m(\u001b[0m\u001b[0mself\u001b[0m\u001b[0;34m.\u001b[0m\u001b[0mtrain_dl\u001b[0m\u001b[0;34m,\u001b[0m \u001b[0mk\u001b[0m\u001b[0;34m)\u001b[0m\u001b[0;34m\u001b[0m\u001b[0m\n\u001b[0m\u001b[1;32m    166\u001b[0m     \u001b[0;32mdef\u001b[0m \u001b[0mdl\u001b[0m\u001b[0;34m(\u001b[0m\u001b[0mself\u001b[0m\u001b[0;34m,\u001b[0m \u001b[0mds_type\u001b[0m\u001b[0;34m:\u001b[0m\u001b[0mDatasetType\u001b[0m\u001b[0;34m=\u001b[0m\u001b[0mDatasetType\u001b[0m\u001b[0;34m.\u001b[0m\u001b[0mValid\u001b[0m\u001b[0;34m)\u001b[0m\u001b[0;34m->\u001b[0m\u001b[0mDeviceDataLoader\u001b[0m\u001b[0;34m:\u001b[0m\u001b[0;34m\u001b[0m\u001b[0m\n\u001b[1;32m    167\u001b[0m         \u001b[0;34m\"Returns appropriate `Dataset` for validation, training, or test (`ds_type`).\"\u001b[0m\u001b[0;34m\u001b[0m\u001b[0m\n",
      "\u001b[0;32m~/fastai/fastai/basic_data.py\u001b[0m in \u001b[0;36m__getattr__\u001b[0;34m(self, k)\u001b[0m\n\u001b[1;32m     91\u001b[0m \u001b[0;34m\u001b[0m\u001b[0m\n\u001b[1;32m     92\u001b[0m     \u001b[0;32mdef\u001b[0m \u001b[0m__len__\u001b[0m\u001b[0;34m(\u001b[0m\u001b[0mself\u001b[0m\u001b[0;34m)\u001b[0m\u001b[0;34m->\u001b[0m\u001b[0mint\u001b[0m\u001b[0;34m:\u001b[0m \u001b[0;32mreturn\u001b[0m \u001b[0mlen\u001b[0m\u001b[0;34m(\u001b[0m\u001b[0mself\u001b[0m\u001b[0;34m.\u001b[0m\u001b[0mdl\u001b[0m\u001b[0;34m)\u001b[0m\u001b[0;34m\u001b[0m\u001b[0m\n\u001b[0;32m---> 93\u001b[0;31m     \u001b[0;32mdef\u001b[0m \u001b[0m__getattr__\u001b[0m\u001b[0;34m(\u001b[0m\u001b[0mself\u001b[0m\u001b[0;34m,\u001b[0m\u001b[0mk\u001b[0m\u001b[0;34m:\u001b[0m\u001b[0mstr\u001b[0m\u001b[0;34m)\u001b[0m\u001b[0;34m->\u001b[0m\u001b[0mAny\u001b[0m\u001b[0;34m:\u001b[0m \u001b[0;32mreturn\u001b[0m \u001b[0mgetattr\u001b[0m\u001b[0;34m(\u001b[0m\u001b[0mself\u001b[0m\u001b[0;34m.\u001b[0m\u001b[0mdl\u001b[0m\u001b[0;34m,\u001b[0m \u001b[0mk\u001b[0m\u001b[0;34m)\u001b[0m\u001b[0;34m\u001b[0m\u001b[0m\n\u001b[0m\u001b[1;32m     94\u001b[0m \u001b[0;34m\u001b[0m\u001b[0m\n\u001b[1;32m     95\u001b[0m     \u001b[0;34m@\u001b[0m\u001b[0mproperty\u001b[0m\u001b[0;34m\u001b[0m\u001b[0m\n",
      "\u001b[0;32m~/fastai/fastai/basic_data.py\u001b[0m in \u001b[0;36mDataLoader___getattr__\u001b[0;34m(dl, k)\u001b[0m\n\u001b[1;32m     75\u001b[0m     \u001b[0;32mdef\u001b[0m \u001b[0m__init__\u001b[0m\u001b[0;34m(\u001b[0m\u001b[0mself\u001b[0m\u001b[0;34m,\u001b[0m \u001b[0mclasses\u001b[0m\u001b[0;34m)\u001b[0m\u001b[0;34m:\u001b[0m \u001b[0msuper\u001b[0m\u001b[0;34m(\u001b[0m\u001b[0;34m)\u001b[0m\u001b[0;34m.\u001b[0m\u001b[0m__init__\u001b[0m\u001b[0;34m(\u001b[0m\u001b[0mclasses\u001b[0m\u001b[0;34m=\u001b[0m\u001b[0mclasses\u001b[0m\u001b[0;34m)\u001b[0m\u001b[0;34m\u001b[0m\u001b[0m\n\u001b[1;32m     76\u001b[0m \u001b[0;34m\u001b[0m\u001b[0m\n\u001b[0;32m---> 77\u001b[0;31m \u001b[0;32mdef\u001b[0m \u001b[0mDataLoader___getattr__\u001b[0m\u001b[0;34m(\u001b[0m\u001b[0mdl\u001b[0m\u001b[0;34m,\u001b[0m \u001b[0mk\u001b[0m\u001b[0;34m:\u001b[0m\u001b[0mstr\u001b[0m\u001b[0;34m)\u001b[0m\u001b[0;34m->\u001b[0m\u001b[0mAny\u001b[0m\u001b[0;34m:\u001b[0m \u001b[0;32mreturn\u001b[0m \u001b[0mgetattr\u001b[0m\u001b[0;34m(\u001b[0m\u001b[0mdl\u001b[0m\u001b[0;34m.\u001b[0m\u001b[0mdataset\u001b[0m\u001b[0;34m,\u001b[0m \u001b[0mk\u001b[0m\u001b[0;34m)\u001b[0m\u001b[0;34m\u001b[0m\u001b[0m\n\u001b[0m\u001b[1;32m     78\u001b[0m \u001b[0mDataLoader\u001b[0m\u001b[0;34m.\u001b[0m\u001b[0m__getattr__\u001b[0m \u001b[0;34m=\u001b[0m \u001b[0mDataLoader___getattr__\u001b[0m\u001b[0;34m\u001b[0m\u001b[0m\n\u001b[1;32m     79\u001b[0m \u001b[0;34m\u001b[0m\u001b[0m\n",
      "\u001b[0;32m~/fastai/fastai/data_block.py\u001b[0m in \u001b[0;36m__getattr__\u001b[0;34m(self, k)\u001b[0m\n\u001b[1;32m    284\u001b[0m     \u001b[0;32mdef\u001b[0m \u001b[0m__getattr__\u001b[0m\u001b[0;34m(\u001b[0m\u001b[0mself\u001b[0m\u001b[0;34m,\u001b[0m\u001b[0mk\u001b[0m\u001b[0;34m:\u001b[0m\u001b[0mstr\u001b[0m\u001b[0;34m)\u001b[0m\u001b[0;34m->\u001b[0m\u001b[0mAny\u001b[0m\u001b[0;34m:\u001b[0m\u001b[0;34m\u001b[0m\u001b[0m\n\u001b[1;32m    285\u001b[0m         \u001b[0mres\u001b[0m \u001b[0;34m=\u001b[0m \u001b[0mgetattr\u001b[0m\u001b[0;34m(\u001b[0m\u001b[0mself\u001b[0m\u001b[0;34m.\u001b[0m\u001b[0mx\u001b[0m\u001b[0;34m,\u001b[0m \u001b[0mk\u001b[0m\u001b[0;34m,\u001b[0m \u001b[0;32mNone\u001b[0m\u001b[0;34m)\u001b[0m\u001b[0;34m\u001b[0m\u001b[0m\n\u001b[0;32m--> 286\u001b[0;31m         \u001b[0;32mreturn\u001b[0m \u001b[0mres\u001b[0m \u001b[0;32mif\u001b[0m \u001b[0mres\u001b[0m \u001b[0;32mis\u001b[0m \u001b[0;32mnot\u001b[0m \u001b[0;32mNone\u001b[0m \u001b[0;32melse\u001b[0m \u001b[0mgetattr\u001b[0m\u001b[0;34m(\u001b[0m\u001b[0mself\u001b[0m\u001b[0;34m.\u001b[0m\u001b[0my\u001b[0m\u001b[0;34m,\u001b[0m \u001b[0mk\u001b[0m\u001b[0;34m)\u001b[0m\u001b[0;34m\u001b[0m\u001b[0m\n\u001b[0m\u001b[1;32m    287\u001b[0m \u001b[0;34m\u001b[0m\u001b[0m\n\u001b[1;32m    288\u001b[0m     \u001b[0;32mdef\u001b[0m \u001b[0m__getitem__\u001b[0m\u001b[0;34m(\u001b[0m\u001b[0mself\u001b[0m\u001b[0;34m,\u001b[0m\u001b[0midxs\u001b[0m\u001b[0;34m:\u001b[0m\u001b[0mUnion\u001b[0m\u001b[0;34m[\u001b[0m\u001b[0mint\u001b[0m\u001b[0;34m,\u001b[0m\u001b[0mnp\u001b[0m\u001b[0;34m.\u001b[0m\u001b[0mndarray\u001b[0m\u001b[0;34m]\u001b[0m\u001b[0;34m)\u001b[0m\u001b[0;34m->\u001b[0m\u001b[0;34m'LabelList'\u001b[0m\u001b[0;34m:\u001b[0m\u001b[0;34m\u001b[0m\u001b[0m\n",
      "\u001b[0;31mAttributeError\u001b[0m: 'CategoryList' object has no attribute 'c'"
     ]
    }
   ],
   "source": [
    "learn = get_tabular_learner(data, layers=[200,100], metrics=accuracy)\n",
    "learn.fit(1, 1e-2)"
   ]
  }
 ],
 "metadata": {
  "kernelspec": {
   "display_name": "Python 3",
   "language": "python",
   "name": "python3"
  }
 },
 "nbformat": 4,
 "nbformat_minor": 2
}
