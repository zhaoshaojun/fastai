{
 "cells": [
  {
   "cell_type": "code",
   "execution_count": null,
   "metadata": {},
   "outputs": [],
   "source": [
    "from fastai import *          # Quick accesss to most common functionality\n",
    "from fastai.tabular import *  # Quick accesss to tabular functionality     # Access to example data provided with fastai"
   ]
  },
  {
   "cell_type": "markdown",
   "metadata": {},
   "source": [
    "# Tabular example"
   ]
  },
  {
   "cell_type": "markdown",
   "metadata": {},
   "source": [
    "Tabular data should be in a Pandas `DataFrame`."
   ]
  },
  {
   "cell_type": "code",
   "execution_count": null,
   "metadata": {},
   "outputs": [],
   "source": [
    "path = untar_data(URLs.ADULT_SAMPLE)\n",
    "df = pd.read_csv(path/'adult.csv')"
   ]
  },
  {
   "cell_type": "code",
   "execution_count": null,
   "metadata": {},
   "outputs": [],
   "source": [
    "dep_var = '>=50k'\n",
    "cat_names = ['workclass', 'education', 'marital-status', 'occupation', 'relationship', 'race']\n",
    "cont_names = ['age', 'fnlwgt', 'education-num']\n",
    "tfms=[FillMissing, Categorify, Normalize]"
   ]
  },
  {
   "cell_type": "code",
   "execution_count": null,
   "metadata": {},
   "outputs": [],
   "source": [
    "test = TabularList.from_df(df.iloc[800:1000].copy(), path=path, cat_names=cat_names, cont_names=cont_names)"
   ]
  },
  {
   "cell_type": "code",
   "execution_count": null,
   "metadata": {},
   "outputs": [],
   "source": [
    "data = (TabularList.from_df(df, path=path, cat_names=cat_names, cont_names=cont_names, processor=TabularProcessor(tfms=tfms))\n",
    "                           .split_by_idx(list(range(800,1000)))\n",
    "                           .label_from_df(cols=dep_var)\n",
    "                           .add_test(test, label=0)\n",
    "                           .databunch())"
   ]
  },
  {
   "cell_type": "code",
   "execution_count": null,
   "metadata": {},
   "outputs": [
    {
     "data": {
      "text/html": [
       "<table>  <col width='10px'>  <col width='10px'>  <col width='10px'>  <col width='10px'>  <col width='10px'>  <col width='10px'>  <col width='10px'>  <col width='10px'>  <col width='10px'>  <col width='10px'>  <tr>\n",
       "    <th>workclass</th>\n",
       "    <th>education</th>\n",
       "    <th>marital-status</th>\n",
       "    <th>occupation</th>\n",
       "    <th>relationship</th>\n",
       "    <th>race</th>\n",
       "    <th>education-num_na</th>\n",
       "    <th>age</th>\n",
       "    <th>fnlwgt</th>\n",
       "    <th>education-num</th>\n",
       "  </tr>\n",
       "  <tr>\n",
       "    <th> Self-emp-not-inc</th>\n",
       "    <th> 7th-8th</th>\n",
       "    <th> Married-civ-spouse</th>\n",
       "    <th> Transport-moving</th>\n",
       "    <th> Husband</th>\n",
       "    <th> White</th>\n",
       "    <th>False</th>\n",
       "    <th>1.4962</th>\n",
       "    <th>-0.1831</th>\n",
       "    <th>-2.3781</th>\n",
       "  </tr>\n",
       "  <tr>\n",
       "    <th> Federal-gov</th>\n",
       "    <th> Bachelors</th>\n",
       "    <th> Never-married</th>\n",
       "    <th> Prof-specialty</th>\n",
       "    <th> Not-in-family</th>\n",
       "    <th> White</th>\n",
       "    <th>False</th>\n",
       "    <th>1.4229</th>\n",
       "    <th>0.5139</th>\n",
       "    <th>1.1422</th>\n",
       "  </tr>\n",
       "  <tr>\n",
       "    <th> Private</th>\n",
       "    <th> HS-grad</th>\n",
       "    <th> Never-married</th>\n",
       "    <th> Adm-clerical</th>\n",
       "    <th> Not-in-family</th>\n",
       "    <th> White</th>\n",
       "    <th>False</th>\n",
       "    <th>1.7161</th>\n",
       "    <th>-0.9589</th>\n",
       "    <th>-0.4224</th>\n",
       "  </tr>\n",
       "  <tr>\n",
       "    <th> Self-emp-not-inc</th>\n",
       "    <th> HS-grad</th>\n",
       "    <th> Divorced</th>\n",
       "    <th> Craft-repair</th>\n",
       "    <th> Not-in-family</th>\n",
       "    <th> White</th>\n",
       "    <th>False</th>\n",
       "    <th>-0.5561</th>\n",
       "    <th>-0.7239</th>\n",
       "    <th>-0.4224</th>\n",
       "  </tr>\n",
       "  <tr>\n",
       "    <th> Private</th>\n",
       "    <th> Assoc-acdm</th>\n",
       "    <th> Married-civ-spouse</th>\n",
       "    <th> Other-service</th>\n",
       "    <th> Wife</th>\n",
       "    <th> White</th>\n",
       "    <th>False</th>\n",
       "    <th>-0.1163</th>\n",
       "    <th>0.2437</th>\n",
       "    <th>0.7511</th>\n",
       "  </tr>\n",
       "  <tr>\n",
       "    <th> Private</th>\n",
       "    <th> Bachelors</th>\n",
       "    <th> Married-civ-spouse</th>\n",
       "    <th> Exec-managerial</th>\n",
       "    <th> Husband</th>\n",
       "    <th> White</th>\n",
       "    <th>False</th>\n",
       "    <th>0.3968</th>\n",
       "    <th>0.1844</th>\n",
       "    <th>1.1422</th>\n",
       "  </tr>\n",
       "  <tr>\n",
       "    <th> Private</th>\n",
       "    <th> HS-grad</th>\n",
       "    <th> Divorced</th>\n",
       "    <th> Adm-clerical</th>\n",
       "    <th> Own-child</th>\n",
       "    <th> White</th>\n",
       "    <th>False</th>\n",
       "    <th>0.5434</th>\n",
       "    <th>-0.2398</th>\n",
       "    <th>-0.4224</th>\n",
       "  </tr>\n",
       "  <tr>\n",
       "    <th> Private</th>\n",
       "    <th> Some-college</th>\n",
       "    <th> Married-civ-spouse</th>\n",
       "    <th> Machine-op-inspct</th>\n",
       "    <th> Husband</th>\n",
       "    <th> White</th>\n",
       "    <th>False</th>\n",
       "    <th>-0.1163</th>\n",
       "    <th>1.1874</th>\n",
       "    <th>-0.0312</th>\n",
       "  </tr>\n",
       "  <tr>\n",
       "    <th> Private</th>\n",
       "    <th> Bachelors</th>\n",
       "    <th> Widowed</th>\n",
       "    <th> Priv-house-serv</th>\n",
       "    <th> Unmarried</th>\n",
       "    <th> White</th>\n",
       "    <th>False</th>\n",
       "    <th>0.6166</th>\n",
       "    <th>-0.8707</th>\n",
       "    <th>1.1422</th>\n",
       "  </tr>\n",
       "  <tr>\n",
       "    <th> Private</th>\n",
       "    <th> Some-college</th>\n",
       "    <th> Never-married</th>\n",
       "    <th> Adm-clerical</th>\n",
       "    <th> Own-child</th>\n",
       "    <th> White</th>\n",
       "    <th>False</th>\n",
       "    <th>-1.3624</th>\n",
       "    <th>1.7632</th>\n",
       "    <th>-0.0312</th>\n",
       "  </tr>\n",
       "</table>\n"
      ],
      "text/plain": [
       "<IPython.core.display.HTML object>"
      ]
     },
     "metadata": {},
     "output_type": "display_data"
    }
   ],
   "source": [
    "data.show_batch(rows=10)"
   ]
  },
  {
   "cell_type": "code",
   "execution_count": null,
   "metadata": {},
   "outputs": [
    {
     "name": "stdout",
     "output_type": "stream",
     "text": [
      "Total time: 00:04\n",
      "epoch  train_loss  valid_loss  accuracy\n",
      "1      0.367361    0.383780    0.795000  (00:04)\n",
      "\n"
     ]
    }
   ],
   "source": [
    "learn = get_tabular_learner(data, layers=[200,100], metrics=accuracy)\n",
    "learn.fit(1, 1e-2)"
   ]
  },
  {
   "cell_type": "code",
   "execution_count": null,
   "metadata": {},
   "outputs": [],
   "source": [
    "def test_accuracy(learn):\n",
    "    assert learn.validate()[1] > 0.7\n",
    "\n",
    "def test_same_categories(learn):\n",
    "    x_train,y_train = learn.data.train_ds[0]\n",
    "    x_valid,y_valid = learn.data.valid_ds[0]\n",
    "    x_test,y_test = learn.data.test_ds[0]\n",
    "    assert x_train.classes.keys() == x_valid.classes.keys()\n",
    "    assert x_train.classes.keys() == x_test.classes.keys()\n",
    "    for key in x_train.classes.keys():\n",
    "        assert np.all(x_train.classes[key] == x_valid.classes[key])\n",
    "        assert np.all(x_train.classes[key] == x_test.classes[key])\n",
    "        \n",
    "def test_same_fill_nan(learn):\n",
    "    df = pd.read_csv(path/'adult.csv')\n",
    "    nan_idx = np.where(df['education-num'].isnull())\n",
    "    val = None\n",
    "    for i in nan_idx[0]:\n",
    "        x,y = (learn.data.train_ds[i] if i < 800 else learn.data.valid_ds[i-800])\n",
    "        j = x.names.index('education-num') - len(x.cats)\n",
    "        if val is None: val = x.conts[j]\n",
    "        else: assert val == x.conts[j]\n",
    "        if i >= 800:\n",
    "            x,y = learn.data.test_ds[i-800]\n",
    "            assert val == x.conts[j]\n",
    "            \n",
    "def test_normalize(learn):\n",
    "    df = pd.read_csv(path/'adult.csv')\n",
    "    train_df = df.iloc[0:800].append(df.iloc[1000:])\n",
    "    c = 'age'\n",
    "    mean, std = train_df[c].mean(), train_df[c].std()\n",
    "    for i in np.random.randint(0,799, (20,)):\n",
    "        x,y = learn.data.train_ds[i]\n",
    "        assert np.abs(x.conts[0] - (df.loc[i, c] - mean) / (1e-7 + std)) < 1e-6\n",
    "    for i in np.random.randint(800,1000, (20,)):\n",
    "        x,y = learn.data.valid_ds[i-800]\n",
    "        assert np.abs(x.conts[0] - (df.loc[i, c] - mean) / (1e-7 + std)) < 1e-6\n",
    "    for i in np.random.randint(800,1000, (20,)):\n",
    "        x,y = learn.data.test_ds[i-800]\n",
    "        assert np.abs(x.conts[0] - (df.loc[i, c] - mean) / (1e-7 + std)) < 1e-6"
   ]
  },
  {
   "cell_type": "code",
   "execution_count": null,
   "metadata": {},
   "outputs": [],
   "source": [
    "test_accuracy(learn)"
   ]
  },
  {
   "cell_type": "code",
   "execution_count": null,
   "metadata": {},
   "outputs": [],
   "source": [
    "test_same_categories(learn)"
   ]
  },
  {
   "cell_type": "code",
   "execution_count": null,
   "metadata": {},
   "outputs": [],
   "source": [
    "test_same_fill_nan(learn)"
   ]
  },
  {
   "cell_type": "code",
   "execution_count": null,
   "metadata": {},
   "outputs": [],
   "source": [
    "test_normalize(learn)"
   ]
  },
  {
   "cell_type": "code",
   "execution_count": null,
   "metadata": {},
   "outputs": [],
   "source": []
  }
 ],
 "metadata": {
  "kernelspec": {
   "display_name": "Python 3",
   "language": "python",
   "name": "python3"
  }
 },
 "nbformat": 4,
 "nbformat_minor": 2
}
