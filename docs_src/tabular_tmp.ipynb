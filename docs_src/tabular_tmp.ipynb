{
 "cells": [
  {
   "cell_type": "code",
   "execution_count": null,
   "metadata": {},
   "outputs": [],
   "source": [
    "from fastai import *          # Quick accesss to most common functionality\n",
    "from fastai.tabular import *  # Quick accesss to tabular functionality     # Access to example data provided with fastai"
   ]
  },
  {
   "cell_type": "markdown",
   "metadata": {},
   "source": [
    "# Tabular example"
   ]
  },
  {
   "cell_type": "markdown",
   "metadata": {},
   "source": [
    "Tabular data should be in a Pandas `DataFrame`."
   ]
  },
  {
   "cell_type": "code",
   "execution_count": null,
   "metadata": {},
   "outputs": [],
   "source": [
    "def def_emb_sz(df, n, sz_dict):\n",
    "    col = df[n]\n",
    "    n_cat = len(col.cat.categories)+1  # extra cat for NA\n",
    "    sz = sz_dict.get(n, min(50, (n_cat//2)+1))  # rule of thumb\n",
    "    return n_cat,sz"
   ]
  },
  {
   "cell_type": "code",
   "execution_count": null,
   "metadata": {},
   "outputs": [],
   "source": [
    "def _text2html_table(items:Collection[Collection[str]], widths:Collection[int])->str:\n",
    "    html_code = f\"<table>\"\n",
    "    for w in widths: html_code += f\"  <col width='{w}px'>\"\n",
    "    for line in items:\n",
    "        html_code += \"  <tr>\\n\"\n",
    "        html_code += \"\\n\".join([f\"    <th>{o}</th>\" for o in line if len(o) >= 1])\n",
    "        html_code += \"\\n  </tr>\\n\"\n",
    "    return html_code + \"</table>\\n\""
   ]
  },
  {
   "cell_type": "code",
   "execution_count": null,
   "metadata": {},
   "outputs": [],
   "source": [
    "class TabularLine(ItemBase):\n",
    "    def __init__(self, cats, conts, classes, names): \n",
    "        self.cats,self.conts,self.classes,self.names = cats,conts,classes,names\n",
    "        self.data = [tensor(cats), tensor(conts)]\n",
    "        \n",
    "    def __str__(self):  \n",
    "        res = ''\n",
    "        for c, n in zip(self.cats, self.names[:len(self.cats)]):\n",
    "            res += f\"{n} {(self.classes[n][c-1] if c != 0 else 'nan')}\\n\"\n",
    "        for c,n in zip(self.conts, self.names[len(self.cats):]):\n",
    "            res += f'{n} {c:.4f}\\n'\n",
    "        return res\n",
    "    \n",
    "    def show_batch(self, idxs:Collection[int], rows:int, ds:Dataset, figsize:Tuple[int,int]=(9,10))->None:\n",
    "        from IPython.display import display, HTML\n",
    "        x,y = ds[0]\n",
    "        items = [x.names]\n",
    "        for i in idxs[:rows]:\n",
    "            x,y = ds[i]\n",
    "            res = []\n",
    "            for c, n in zip(x.cats, self.names[:len(x.cats)]):\n",
    "                res.append(str(x.classes[n][c-1]) if c != 0 else 'nan')\n",
    "            res += [f'{c:.4f}' for c in x.conts] \n",
    "            items.append(res)\n",
    "        display(HTML(_text2html_table(items, [10] * len(items[0]))))\n",
    "\n",
    "class TabularList(ItemList):\n",
    "    def __init__(self, items:Iterator, cat_names:OptStrList=None, cont_names:OptStrList=None, create_func:Callable=None, \n",
    "                 path:PathOrStr='.', xtra=None):\n",
    "        #dataframe is in xtra, items is just a range of index\n",
    "        assert xtra is not None and len(xtra)==len(items), \"Use from_df or from_csv\"\n",
    "        super().__init__(range(len(items)), create_func=create_func, path=path, xtra=xtra)\n",
    "        self.cat_names,self.cont_names = cat_names,cont_names\n",
    "    \n",
    "    @classmethod\n",
    "    def from_df(cls, df:DataFrame, path:PathOrStr='.', create_func:Callable=None, cat_names:OptStrList=None, \n",
    "                cont_names:OptStrList=None)->'ItemList':\n",
    "        \"Get the list of inputs in the `col` of `path/csv_name`.\"\n",
    "        res = cls(create_func=create_func, items=range(len(df)), path=path, xtra=df,\n",
    "                  cat_names=cat_names, cont_names=cont_names)\n",
    "        return res\n",
    "    \n",
    "    def new(self, items:Iterator, xtra:Any=None)->'TabularList':\n",
    "        return self.__class__(items=items, cat_names=self.cat_names, cont_names=self.cont_names,\n",
    "                              create_func=self.create_func, path=self.path, xtra=xtra)\n",
    "    \n",
    "    def get(self, o): \n",
    "        return TabularLine(self.codes[o], self.conts[o], self.classes, self.col_names)\n",
    "    \n",
    "    def get_emb_szs(self, sz_dict): return [def_emb_sz(self.xtra, n, sz_dict) for n in self.cat_names]\n",
    "    \n",
    "    def preprocess(self, tfms=None):\n",
    "        tfms,new_tfms = ifnone(tfms,[]),[]\n",
    "        for tfm in tfms:\n",
    "            if isinstance(tfm, TabularTransform): tfm(self.xtra, test=True)\n",
    "            else:\n",
    "                #cat and cont names may have been changed by transform (like Fill_NA)\n",
    "                tfm = tfm(self.cat_names, self.cont_names)\n",
    "                tfm(self.xtra)\n",
    "                new_tfms.append(tfm)\n",
    "                self.cat_names, self.cont_names = tfm.cat_names, tfm.cont_names\n",
    "        self.codes = np.stack([c.cat.codes.values for n,c in self.xtra[self.cat_names].items()], 1).astype(np.int64) + 1\n",
    "        self.conts = np.stack([c.astype('float32').values for n,c in self.xtra[self.cont_names].items()], 1)\n",
    "        self.classes = {n:c.cat.categories.values for n,c in self.xtra[self.cat_names].items()}\n",
    "        self.col_names = list(self.xtra[self.cat_names].columns.values) \n",
    "        self.col_names += list(self.xtra[self.cont_names].columns.values)\n",
    "        self.preprocess_kwargs = {'tfms':new_tfms}"
   ]
  },
  {
   "cell_type": "code",
   "execution_count": null,
   "metadata": {},
   "outputs": [],
   "source": [
    "class Normalize(TabularTransform):\n",
    "    \"Transform the categorical variables to that type.\"\n",
    "\n",
    "    def apply_train(self, df:DataFrame):\n",
    "        self.means,self.stds = {},{}\n",
    "        for n in self.cont_names:\n",
    "            self.means[n],self.stds[n] = df.loc[:,n].mean(),df.loc[:,n].std()\n",
    "            df.loc[:,n] = (df.loc[:,n]-self.means[n]) / (1e-7 + self.stds[n])\n",
    "\n",
    "    def apply_test(self, df:DataFrame):\n",
    "        for n in self.cont_names:\n",
    "            df.loc[:,n] = (df.loc[:,n]-self.means[n]) / (1e-7 + self.stds[n])"
   ]
  },
  {
   "cell_type": "code",
   "execution_count": null,
   "metadata": {},
   "outputs": [],
   "source": [
    "path = untar_data(URLs.ADULT_SAMPLE)\n",
    "df = pd.read_csv(path/'adult.csv')"
   ]
  },
  {
   "cell_type": "code",
   "execution_count": null,
   "metadata": {},
   "outputs": [],
   "source": [
    "dep_var = '>=50k'\n",
    "cat_names = ['workclass', 'education', 'marital-status', 'occupation', 'relationship', 'race']\n",
    "cont_names = ['age', 'fnlwgt', 'education-num']\n",
    "tfms=[FillMissing, Categorify, Normalize]"
   ]
  },
  {
   "cell_type": "code",
   "execution_count": null,
   "metadata": {},
   "outputs": [],
   "source": [
    "data = (TabularList.from_df(df, path, cat_names=cat_names, cont_names=cont_names)\n",
    "                           .split_by_idx(list(range(200)))\n",
    "                           .label_from_df(cols=dep_var)\n",
    "                           .preprocess(tfms=tfms)\n",
    "                           .databunch())"
   ]
  },
  {
   "cell_type": "code",
   "execution_count": null,
   "metadata": {},
   "outputs": [
    {
     "data": {
      "text/html": [
       "<table>  <col width='10px'>  <col width='10px'>  <col width='10px'>  <col width='10px'>  <col width='10px'>  <col width='10px'>  <col width='10px'>  <col width='10px'>  <col width='10px'>  <col width='10px'>  <tr>\n",
       "    <th>workclass</th>\n",
       "    <th>education</th>\n",
       "    <th>marital-status</th>\n",
       "    <th>occupation</th>\n",
       "    <th>relationship</th>\n",
       "    <th>race</th>\n",
       "    <th>education-num_na</th>\n",
       "    <th>age</th>\n",
       "    <th>fnlwgt</th>\n",
       "    <th>education-num</th>\n",
       "  </tr>\n",
       "  <tr>\n",
       "    <th> ?</th>\n",
       "    <th> 7th-8th</th>\n",
       "    <th> Widowed</th>\n",
       "    <th> ?</th>\n",
       "    <th> Other-relative</th>\n",
       "    <th> White</th>\n",
       "    <th>False</th>\n",
       "    <th>2.3744</th>\n",
       "    <th>0.0387</th>\n",
       "    <th>-2.3756</th>\n",
       "  </tr>\n",
       "  <tr>\n",
       "    <th> Federal-gov</th>\n",
       "    <th> Some-college</th>\n",
       "    <th> Divorced</th>\n",
       "    <th> Adm-clerical</th>\n",
       "    <th> Own-child</th>\n",
       "    <th> White</th>\n",
       "    <th>False</th>\n",
       "    <th>1.3486</th>\n",
       "    <th>0.0235</th>\n",
       "    <th>-0.0301</th>\n",
       "  </tr>\n",
       "  <tr>\n",
       "    <th> Private</th>\n",
       "    <th> HS-grad</th>\n",
       "    <th> Divorced</th>\n",
       "    <th> Craft-repair</th>\n",
       "    <th> Other-relative</th>\n",
       "    <th> White</th>\n",
       "    <th>False</th>\n",
       "    <th>0.6892</th>\n",
       "    <th>-1.4696</th>\n",
       "    <th>-0.4210</th>\n",
       "  </tr>\n",
       "  <tr>\n",
       "    <th> Self-emp-not-inc</th>\n",
       "    <th> Prof-school</th>\n",
       "    <th> Married-civ-spouse</th>\n",
       "    <th> Prof-specialty</th>\n",
       "    <th> Husband</th>\n",
       "    <th> White</th>\n",
       "    <th>False</th>\n",
       "    <th>2.0813</th>\n",
       "    <th>0.0151</th>\n",
       "    <th>1.9246</th>\n",
       "  </tr>\n",
       "  <tr>\n",
       "    <th> Self-emp-not-inc</th>\n",
       "    <th> 11th</th>\n",
       "    <th> Married-civ-spouse</th>\n",
       "    <th> Exec-managerial</th>\n",
       "    <th> Husband</th>\n",
       "    <th> White</th>\n",
       "    <th>False</th>\n",
       "    <th>3.0338</th>\n",
       "    <th>-0.8348</th>\n",
       "    <th>-1.2028</th>\n",
       "  </tr>\n",
       "  <tr>\n",
       "    <th> Private</th>\n",
       "    <th> 7th-8th</th>\n",
       "    <th> Divorced</th>\n",
       "    <th> Sales</th>\n",
       "    <th> Not-in-family</th>\n",
       "    <th> White</th>\n",
       "    <th>False</th>\n",
       "    <th>1.7882</th>\n",
       "    <th>-0.3659</th>\n",
       "    <th>-2.3756</th>\n",
       "  </tr>\n",
       "  <tr>\n",
       "    <th> Private</th>\n",
       "    <th> 10th</th>\n",
       "    <th> Never-married</th>\n",
       "    <th> Handlers-cleaners</th>\n",
       "    <th> Other-relative</th>\n",
       "    <th> White</th>\n",
       "    <th>False</th>\n",
       "    <th>-1.5821</th>\n",
       "    <th>0.1586</th>\n",
       "    <th>-1.5938</th>\n",
       "  </tr>\n",
       "  <tr>\n",
       "    <th> Private</th>\n",
       "    <th> Assoc-acdm</th>\n",
       "    <th> Married-civ-spouse</th>\n",
       "    <th> Craft-repair</th>\n",
       "    <th> Husband</th>\n",
       "    <th> White</th>\n",
       "    <th>False</th>\n",
       "    <th>-0.1900</th>\n",
       "    <th>2.0892</th>\n",
       "    <th>0.7518</th>\n",
       "  </tr>\n",
       "  <tr>\n",
       "    <th> Private</th>\n",
       "    <th> Bachelors</th>\n",
       "    <th> Never-married</th>\n",
       "    <th> Sales</th>\n",
       "    <th> Not-in-family</th>\n",
       "    <th> White</th>\n",
       "    <th>False</th>\n",
       "    <th>0.3229</th>\n",
       "    <th>1.5347</th>\n",
       "    <th>1.1427</th>\n",
       "  </tr>\n",
       "  <tr>\n",
       "    <th> Private</th>\n",
       "    <th> 11th</th>\n",
       "    <th> Married-civ-spouse</th>\n",
       "    <th>nan</th>\n",
       "    <th> Husband</th>\n",
       "    <th> White</th>\n",
       "    <th>True</th>\n",
       "    <th>-0.6296</th>\n",
       "    <th>3.9839</th>\n",
       "    <th>-0.0301</th>\n",
       "  </tr>\n",
       "</table>\n"
      ],
      "text/plain": [
       "<IPython.core.display.HTML object>"
      ]
     },
     "metadata": {},
     "output_type": "display_data"
    }
   ],
   "source": [
    "data.show_batch(rows=10)"
   ]
  },
  {
   "cell_type": "code",
   "execution_count": null,
   "metadata": {},
   "outputs": [
    {
     "name": "stdout",
     "output_type": "stream",
     "text": [
      "Total time: 00:03\n",
      "epoch  train_loss  valid_loss  accuracy\n",
      "1      0.364976    0.361980    0.832770  (00:03)\n",
      "\n"
     ]
    }
   ],
   "source": [
    "learn = get_tabular_learner(data, layers=[200,100], metrics=accuracy)\n",
    "learn.fit(1, 1e-2)"
   ]
  },
  {
   "cell_type": "code",
   "execution_count": null,
   "metadata": {},
   "outputs": [],
   "source": []
  }
 ],
 "metadata": {
  "kernelspec": {
   "display_name": "Python 3",
   "language": "python",
   "name": "python3"
  }
 },
 "nbformat": 4,
 "nbformat_minor": 2
}
