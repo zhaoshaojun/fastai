{
 "cells": [
  {
   "cell_type": "markdown",
   "metadata": {
    "hide_input": true
   },
   "source": [
    "## Conversion notebook to HTML"
   ]
  },
  {
   "cell_type": "markdown",
   "metadata": {
    "hide_input": true
   },
   "source": [
    "This is the module to convert a jupyter notebook to an html page. It will normally render everything the way it was in the notebooks, including suppressing the input of the code cells with input cells masked, and converting the links between notebooks in links between the html pages."
   ]
  },
  {
   "cell_type": "code",
   "execution_count": null,
   "metadata": {
    "hide_input": true
   },
   "outputs": [],
   "source": [
    "from fastai.gen_doc.nbdoc import * \n",
    "from fastai.gen_doc.convert2html import * "
   ]
  },
  {
   "cell_type": "markdown",
   "metadata": {},
   "source": [
    "## Functions"
   ]
  },
  {
   "cell_type": "code",
   "execution_count": null,
   "metadata": {
    "hide_input": true
   },
   "outputs": [
    {
     "name": "stdout",
     "output_type": "stream",
     "text": [
      "Could not find fastai/tests folder. If you installed from conda, please install developer build instead.\n"
     ]
    },
    {
     "data": {
      "text/markdown": [
       "<h4 id=\"convert_nb\"><code>convert_nb</code><a href=\"https://github.com/fastai/fastai/blob/master/fastai/gen_doc/convert2html.py#L31\" class=\"source_link\" style=\"float:right\">[source]</a><a class=\"source_link\" data-toggle=\"collapse\" data-target=\"#convert_nb-pytest\" style=\"float:right; padding-right:10px\">[test]</a></h4>\n",
       "\n",
       "> <code>convert_nb</code>(**`fname`**, **`dest_path`**=***`'.'`***)\n",
       "\n",
       "Convert a notebook `fname` to html file in `dest_path`.  \n",
       "\n",
       "<div class=\"collapse\" id=\"convert_nb-pytest\"><div class=\"card card-body pytest_card\"><a type=\"button\" data-toggle=\"collapse\" data-target=\"#convert_nb-pytest\" class=\"close\" aria-label=\"Close\"><span aria-hidden=\"true\">&times;</span></a><p>No tests found for <code>convert_nb</code></p></div></div><div style=\"height:1px\"></div>"
      ],
      "text/plain": [
       "<IPython.core.display.Markdown object>"
      ]
     },
     "metadata": {},
     "output_type": "display_data"
    }
   ],
   "source": [
    "show_doc(convert_nb)"
   ]
  },
  {
   "cell_type": "code",
   "execution_count": null,
   "metadata": {
    "hide_input": true
   },
   "outputs": [
    {
     "name": "stdout",
     "output_type": "stream",
     "text": [
      "Could not find fastai/tests folder. If you installed from conda, please install developer build instead.\n"
     ]
    },
    {
     "data": {
      "text/markdown": [
       "<h4 id=\"convert_all\"><code>convert_all</code><a href=\"https://github.com/fastai/fastai/blob/master/fastai/gen_doc/convert2html.py#L44\" class=\"source_link\" style=\"float:right\">[source]</a><a class=\"source_link\" data-toggle=\"collapse\" data-target=\"#convert_all-pytest\" style=\"float:right; padding-right:10px\">[test]</a></h4>\n",
       "\n",
       "> <code>convert_all</code>(**`folder`**, **`dest_path`**=***`'.'`***, **`force_all`**=***`False`***)\n",
       "\n",
       "Convert modified notebooks in `folder` to html pages in `dest_path`.  \n",
       "\n",
       "<div class=\"collapse\" id=\"convert_all-pytest\"><div class=\"card card-body pytest_card\"><a type=\"button\" data-toggle=\"collapse\" data-target=\"#convert_all-pytest\" class=\"close\" aria-label=\"Close\"><span aria-hidden=\"true\">&times;</span></a><p>No tests found for <code>convert_all</code></p></div></div><div style=\"height:1px\"></div>"
      ],
      "text/plain": [
       "<IPython.core.display.Markdown object>"
      ]
     },
     "metadata": {},
     "output_type": "display_data"
    }
   ],
   "source": [
    "show_doc(convert_all)"
   ]
  },
  {
   "cell_type": "markdown",
   "metadata": {},
   "source": [
    "Here's an example to convert all the docs in this folder:\n",
    "\n",
    "``` python\n",
    "convert_all('.', '../docs')\n",
    "```"
   ]
  },
  {
   "cell_type": "markdown",
   "metadata": {},
   "source": [
    "## Undocumented Methods - Methods moved below this line will intentionally be hidden"
   ]
  },
  {
   "cell_type": "markdown",
   "metadata": {},
   "source": [
    "## New Methods - Please document or move to the undocumented section"
   ]
  },
  {
   "cell_type": "code",
   "execution_count": null,
   "metadata": {
    "hide_input": true
   },
   "outputs": [
    {
     "name": "stdout",
     "output_type": "stream",
     "text": [
      "Could not find fastai/tests folder. If you installed from conda, please install developer build instead.\n"
     ]
    },
    {
     "data": {
      "text/markdown": [
       "<h4 id=\"read_nb\"><code>read_nb</code><a href=\"https://github.com/fastai/fastai/blob/master/fastai/gen_doc/convert2html.py#L27\" class=\"source_link\" style=\"float:right\">[source]</a><a class=\"source_link\" data-toggle=\"collapse\" data-target=\"#read_nb-pytest\" style=\"float:right; padding-right:10px\">[test]</a></h4>\n",
       "\n",
       "> <code>read_nb</code>(**`fname`**)\n",
       "\n",
       "Read the notebook in `fname`.  \n",
       "\n",
       "<div class=\"collapse\" id=\"read_nb-pytest\"><div class=\"card card-body pytest_card\"><a type=\"button\" data-toggle=\"collapse\" data-target=\"#read_nb-pytest\" class=\"close\" aria-label=\"Close\"><span aria-hidden=\"true\">&times;</span></a><p>No tests found for <code>read_nb</code></p></div></div><div style=\"height:1px\"></div>"
      ],
      "text/plain": [
       "<IPython.core.display.Markdown object>"
      ]
     },
     "metadata": {},
     "output_type": "display_data"
    }
   ],
   "source": [
    "show_doc(read_nb)"
   ]
  }
 ],
 "metadata": {
  "jekyll": {
   "keywords": "fastai",
   "summary": "Converting the documentation notebooks to HTML pages",
   "title": "gen_doc.convert2html"
  },
  "kernelspec": {
   "display_name": "Python 3",
   "language": "python",
   "name": "python3"
  }
 },
 "nbformat": 4,
 "nbformat_minor": 2
}
