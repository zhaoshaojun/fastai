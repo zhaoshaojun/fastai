{
 "cells": [
  {
   "cell_type": "code",
   "execution_count": null,
   "metadata": {},
   "outputs": [],
   "source": [
    "from fastai.text import *   # Quick access to NLP functionality"
   ]
  },
  {
   "cell_type": "markdown",
   "metadata": {},
   "source": [
    "# Text example"
   ]
  },
  {
   "cell_type": "markdown",
   "metadata": {},
   "source": [
    "An example of creating a language model and then transfering to a classifier."
   ]
  },
  {
   "cell_type": "code",
   "execution_count": null,
   "metadata": {},
   "outputs": [
    {
     "data": {
      "text/plain": [
       "PosixPath('/home/sgugger/.fastai/data/imdb_sample')"
      ]
     },
     "execution_count": null,
     "metadata": {},
     "output_type": "execute_result"
    }
   ],
   "source": [
    "path = untar_data(URLs.IMDB_SAMPLE)\n",
    "path"
   ]
  },
  {
   "cell_type": "markdown",
   "metadata": {},
   "source": [
    "Open and view the independent and dependent variables:"
   ]
  },
  {
   "cell_type": "code",
   "execution_count": null,
   "metadata": {},
   "outputs": [
    {
     "data": {
      "text/html": [
       "<div>\n",
       "<style scoped>\n",
       "    .dataframe tbody tr th:only-of-type {\n",
       "        vertical-align: middle;\n",
       "    }\n",
       "\n",
       "    .dataframe tbody tr th {\n",
       "        vertical-align: top;\n",
       "    }\n",
       "\n",
       "    .dataframe thead th {\n",
       "        text-align: right;\n",
       "    }\n",
       "</style>\n",
       "<table border=\"1\" class=\"dataframe\">\n",
       "  <thead>\n",
       "    <tr style=\"text-align: right;\">\n",
       "      <th></th>\n",
       "      <th>label</th>\n",
       "      <th>text</th>\n",
       "      <th>is_valid</th>\n",
       "    </tr>\n",
       "  </thead>\n",
       "  <tbody>\n",
       "    <tr>\n",
       "      <td>0</td>\n",
       "      <td>negative</td>\n",
       "      <td>Un-bleeping-believable! Meg Ryan doesn't even ...</td>\n",
       "      <td>False</td>\n",
       "    </tr>\n",
       "    <tr>\n",
       "      <td>1</td>\n",
       "      <td>positive</td>\n",
       "      <td>This is a extremely well-made film. The acting...</td>\n",
       "      <td>False</td>\n",
       "    </tr>\n",
       "    <tr>\n",
       "      <td>2</td>\n",
       "      <td>negative</td>\n",
       "      <td>Every once in a long while a movie will come a...</td>\n",
       "      <td>False</td>\n",
       "    </tr>\n",
       "    <tr>\n",
       "      <td>3</td>\n",
       "      <td>positive</td>\n",
       "      <td>Name just says it all. I watched this movie wi...</td>\n",
       "      <td>False</td>\n",
       "    </tr>\n",
       "    <tr>\n",
       "      <td>4</td>\n",
       "      <td>negative</td>\n",
       "      <td>This movie succeeds at being one of the most u...</td>\n",
       "      <td>False</td>\n",
       "    </tr>\n",
       "  </tbody>\n",
       "</table>\n",
       "</div>"
      ],
      "text/plain": [
       "      label                                               text  is_valid\n",
       "0  negative  Un-bleeping-believable! Meg Ryan doesn't even ...     False\n",
       "1  positive  This is a extremely well-made film. The acting...     False\n",
       "2  negative  Every once in a long while a movie will come a...     False\n",
       "3  positive  Name just says it all. I watched this movie wi...     False\n",
       "4  negative  This movie succeeds at being one of the most u...     False"
      ]
     },
     "execution_count": null,
     "metadata": {},
     "output_type": "execute_result"
    }
   ],
   "source": [
    "df = pd.read_csv(path/'texts.csv')\n",
    "df.head()"
   ]
  },
  {
   "cell_type": "markdown",
   "metadata": {},
   "source": [
    "Create a `DataBunch` for each of the language model and the classifier:"
   ]
  },
  {
   "cell_type": "code",
   "execution_count": null,
   "metadata": {},
   "outputs": [],
   "source": [
    "data_lm = TextLMDataBunch.from_csv(path, 'texts.csv')\n",
    "data_clas = TextClasDataBunch.from_csv(path, 'texts.csv', vocab=data_lm.train_ds.vocab, bs=42)"
   ]
  },
  {
   "cell_type": "markdown",
   "metadata": {},
   "source": [
    "We'll fine-tune the language model. [fast.ai](http://www.fast.ai/) has a pre-trained English model available that we can download, we just have to specify it like this:"
   ]
  },
  {
   "cell_type": "code",
   "execution_count": null,
   "metadata": {},
   "outputs": [],
   "source": [
    "moms = (0.8,0.7)"
   ]
  },
  {
   "cell_type": "code",
   "execution_count": null,
   "metadata": {},
   "outputs": [
    {
     "data": {
      "text/html": [
       "<table border=\"1\" class=\"dataframe\">\n",
       "  <thead>\n",
       "    <tr style=\"text-align: left;\">\n",
       "      <th>epoch</th>\n",
       "      <th>train_loss</th>\n",
       "      <th>valid_loss</th>\n",
       "      <th>accuracy</th>\n",
       "      <th>time</th>\n",
       "    </tr>\n",
       "  </thead>\n",
       "  <tbody>\n",
       "    <tr>\n",
       "      <td>0</td>\n",
       "      <td>4.427422</td>\n",
       "      <td>3.872353</td>\n",
       "      <td>0.290179</td>\n",
       "      <td>00:04</td>\n",
       "    </tr>\n",
       "    <tr>\n",
       "      <td>1</td>\n",
       "      <td>4.153738</td>\n",
       "      <td>3.806826</td>\n",
       "      <td>0.294167</td>\n",
       "      <td>00:04</td>\n",
       "    </tr>\n",
       "    <tr>\n",
       "      <td>2</td>\n",
       "      <td>3.835191</td>\n",
       "      <td>3.787578</td>\n",
       "      <td>0.295491</td>\n",
       "      <td>00:04</td>\n",
       "    </tr>\n",
       "    <tr>\n",
       "      <td>3</td>\n",
       "      <td>3.566909</td>\n",
       "      <td>3.791415</td>\n",
       "      <td>0.296696</td>\n",
       "      <td>00:04</td>\n",
       "    </tr>\n",
       "  </tbody>\n",
       "</table>"
      ],
      "text/plain": [
       "<IPython.core.display.HTML object>"
      ]
     },
     "metadata": {},
     "output_type": "display_data"
    }
   ],
   "source": [
    "learn = language_model_learner(data_lm, AWD_LSTM)\n",
    "learn.unfreeze()\n",
    "learn.fit_one_cycle(4, slice(1e-2), moms=moms)"
   ]
  },
  {
   "cell_type": "markdown",
   "metadata": {},
   "source": [
    "Save our language model's encoder:"
   ]
  },
  {
   "cell_type": "code",
   "execution_count": null,
   "metadata": {},
   "outputs": [],
   "source": [
    "learn.save_encoder('enc')"
   ]
  },
  {
   "cell_type": "markdown",
   "metadata": {},
   "source": [
    "Fine tune it to create a classifier:"
   ]
  },
  {
   "cell_type": "code",
   "execution_count": null,
   "metadata": {},
   "outputs": [
    {
     "data": {
      "text/html": [
       "<table border=\"1\" class=\"dataframe\">\n",
       "  <thead>\n",
       "    <tr style=\"text-align: left;\">\n",
       "      <th>epoch</th>\n",
       "      <th>train_loss</th>\n",
       "      <th>valid_loss</th>\n",
       "      <th>accuracy</th>\n",
       "      <th>time</th>\n",
       "    </tr>\n",
       "  </thead>\n",
       "  <tbody>\n",
       "    <tr>\n",
       "      <td>0</td>\n",
       "      <td>0.676608</td>\n",
       "      <td>0.588255</td>\n",
       "      <td>0.791045</td>\n",
       "      <td>00:05</td>\n",
       "    </tr>\n",
       "    <tr>\n",
       "      <td>1</td>\n",
       "      <td>0.640127</td>\n",
       "      <td>0.512341</td>\n",
       "      <td>0.796020</td>\n",
       "      <td>00:05</td>\n",
       "    </tr>\n",
       "    <tr>\n",
       "      <td>2</td>\n",
       "      <td>0.583452</td>\n",
       "      <td>0.452867</td>\n",
       "      <td>0.796020</td>\n",
       "      <td>00:05</td>\n",
       "    </tr>\n",
       "    <tr>\n",
       "      <td>3</td>\n",
       "      <td>0.550518</td>\n",
       "      <td>0.450967</td>\n",
       "      <td>0.786070</td>\n",
       "      <td>00:05</td>\n",
       "    </tr>\n",
       "  </tbody>\n",
       "</table>"
      ],
      "text/plain": [
       "<IPython.core.display.HTML object>"
      ]
     },
     "metadata": {},
     "output_type": "display_data"
    }
   ],
   "source": [
    "learn = text_classifier_learner(data_clas, AWD_LSTM)\n",
    "learn.load_encoder('enc')\n",
    "learn.fit_one_cycle(4, moms=moms)"
   ]
  },
  {
   "cell_type": "code",
   "execution_count": null,
   "metadata": {},
   "outputs": [],
   "source": [
    "learn.save('stage1-clas')"
   ]
  },
  {
   "cell_type": "code",
   "execution_count": null,
   "metadata": {},
   "outputs": [
    {
     "data": {
      "text/html": [
       "<table border=\"1\" class=\"dataframe\">\n",
       "  <thead>\n",
       "    <tr style=\"text-align: left;\">\n",
       "      <th>epoch</th>\n",
       "      <th>train_loss</th>\n",
       "      <th>valid_loss</th>\n",
       "      <th>accuracy</th>\n",
       "      <th>time</th>\n",
       "    </tr>\n",
       "  </thead>\n",
       "  <tbody>\n",
       "    <tr>\n",
       "      <td>0</td>\n",
       "      <td>0.502358</td>\n",
       "      <td>0.430561</td>\n",
       "      <td>0.800995</td>\n",
       "      <td>00:08</td>\n",
       "    </tr>\n",
       "    <tr>\n",
       "      <td>1</td>\n",
       "      <td>0.475305</td>\n",
       "      <td>0.442821</td>\n",
       "      <td>0.796020</td>\n",
       "      <td>00:08</td>\n",
       "    </tr>\n",
       "    <tr>\n",
       "      <td>2</td>\n",
       "      <td>0.468599</td>\n",
       "      <td>0.427160</td>\n",
       "      <td>0.805970</td>\n",
       "      <td>00:07</td>\n",
       "    </tr>\n",
       "    <tr>\n",
       "      <td>3</td>\n",
       "      <td>0.462368</td>\n",
       "      <td>0.384489</td>\n",
       "      <td>0.845771</td>\n",
       "      <td>00:08</td>\n",
       "    </tr>\n",
       "    <tr>\n",
       "      <td>4</td>\n",
       "      <td>0.462626</td>\n",
       "      <td>0.379667</td>\n",
       "      <td>0.845771</td>\n",
       "      <td>00:07</td>\n",
       "    </tr>\n",
       "    <tr>\n",
       "      <td>5</td>\n",
       "      <td>0.444405</td>\n",
       "      <td>0.380510</td>\n",
       "      <td>0.835821</td>\n",
       "      <td>00:07</td>\n",
       "    </tr>\n",
       "    <tr>\n",
       "      <td>6</td>\n",
       "      <td>0.422357</td>\n",
       "      <td>0.372341</td>\n",
       "      <td>0.860696</td>\n",
       "      <td>00:08</td>\n",
       "    </tr>\n",
       "    <tr>\n",
       "      <td>7</td>\n",
       "      <td>0.416024</td>\n",
       "      <td>0.380486</td>\n",
       "      <td>0.830846</td>\n",
       "      <td>00:07</td>\n",
       "    </tr>\n",
       "  </tbody>\n",
       "</table>"
      ],
      "text/plain": [
       "<IPython.core.display.HTML object>"
      ]
     },
     "metadata": {},
     "output_type": "display_data"
    }
   ],
   "source": [
    "learn.unfreeze()\n",
    "learn.fit_one_cycle(8, slice(1e-5,1e-3), moms=moms)"
   ]
  },
  {
   "cell_type": "code",
   "execution_count": null,
   "metadata": {},
   "outputs": [],
   "source": [
    "learn.save('stage2-clas')"
   ]
  },
  {
   "cell_type": "code",
   "execution_count": null,
   "metadata": {},
   "outputs": [],
   "source": [
    "learn.load('stage1-clas');"
   ]
  },
  {
   "cell_type": "code",
   "execution_count": null,
   "metadata": {},
   "outputs": [
    {
     "data": {
      "text/plain": [
       "[Parameter containing:\n",
       " tensor([[ 0.0739,  0.0123,  0.0579,  ...,  0.0617,  0.0304,  0.0275],\n",
       "         [-0.0487,  0.0562,  0.0039,  ...,  0.0523, -0.0193,  0.0294],\n",
       "         [-0.0179, -0.1158,  0.1973,  ...,  0.0256, -0.0063, -0.0337],\n",
       "         ...,\n",
       "         [ 0.0111, -0.0447, -0.0007,  ..., -0.0460, -0.0016,  0.0070],\n",
       "         [-0.0272,  0.0378,  0.0377,  ..., -0.0205,  0.1363, -0.0199],\n",
       "         [-0.0088, -0.0115, -0.0832,  ..., -0.0684,  0.1311, -0.0668]],\n",
       "        device='cuda:0', requires_grad=True), Parameter containing:\n",
       " tensor([[-0.0664, -0.1465, -0.0776,  ...,  0.1152,  0.0886,  0.0717],\n",
       "         [ 0.0177,  0.1248, -0.0452,  ..., -0.0159, -0.0884, -0.0310],\n",
       "         [ 0.0828, -0.0289, -0.0932,  ...,  0.1441,  0.1289,  0.0946],\n",
       "         ...,\n",
       "         [-0.1123, -0.0756,  0.3082,  ..., -0.0644, -0.0201,  0.0431],\n",
       "         [ 0.0530,  0.0738,  0.0781,  ...,  0.0096,  0.2213, -0.0149],\n",
       "         [ 0.2115, -0.0221,  0.0563,  ..., -0.2186,  0.0302, -0.0570]],\n",
       "        device='cuda:0', requires_grad=True), Parameter containing:\n",
       " tensor([0.2707, 0.1091, 0.1264,  ..., 0.2405, 0.1249, 0.3700], device='cuda:0',\n",
       "        requires_grad=True), Parameter containing:\n",
       " tensor([0.2707, 0.1091, 0.1264,  ..., 0.2405, 0.1249, 0.3700], device='cuda:0',\n",
       "        requires_grad=True)]"
      ]
     },
     "execution_count": null,
     "metadata": {},
     "output_type": "execute_result"
    }
   ],
   "source": [
    "list(learn.model[0].module.rnns[-1].parameters())"
   ]
  },
  {
   "cell_type": "code",
   "execution_count": null,
   "metadata": {},
   "outputs": [],
   "source": [
    "learn.load('stage2-clas');"
   ]
  },
  {
   "cell_type": "code",
   "execution_count": null,
   "metadata": {},
   "outputs": [
    {
     "data": {
      "text/plain": [
       "[('weight_hh_l0_raw', Parameter containing:\n",
       "  tensor([[ 7.0162e-02,  1.2104e-02,  5.8028e-02,  ...,  6.0046e-02,\n",
       "            3.0242e-02,  2.7227e-02],\n",
       "          [-4.6466e-02,  5.5549e-02,  5.8688e-03,  ...,  5.3150e-02,\n",
       "           -1.5318e-02,  2.5991e-02],\n",
       "          [-1.2340e-02, -1.1872e-01,  1.9423e-01,  ...,  2.8058e-02,\n",
       "           -1.0008e-02, -3.6459e-02],\n",
       "          ...,\n",
       "          [ 1.4048e-02, -4.4230e-02, -1.3452e-03,  ..., -4.7389e-02,\n",
       "           -2.4187e-05,  5.1805e-03],\n",
       "          [-2.0523e-02,  3.7637e-02,  4.2203e-02,  ..., -2.0026e-02,\n",
       "            1.4004e-01, -1.9072e-02],\n",
       "          [-8.9586e-03, -6.4311e-03, -8.2364e-02,  ..., -6.6814e-02,\n",
       "            1.3448e-01, -6.9005e-02]], device='cuda:0', requires_grad=True)),\n",
       " ('module.weight_ih_l0', Parameter containing:\n",
       "  tensor([[-0.0669, -0.1461, -0.0792,  ...,  0.1177,  0.0882,  0.0660],\n",
       "          [ 0.0178,  0.1236, -0.0439,  ..., -0.0163, -0.0862, -0.0382],\n",
       "          [ 0.0770, -0.0259, -0.0918,  ...,  0.1413,  0.1248,  0.0883],\n",
       "          ...,\n",
       "          [-0.1126, -0.0728,  0.3100,  ..., -0.0681, -0.0215,  0.0429],\n",
       "          [ 0.0536,  0.0708,  0.0750,  ...,  0.0100,  0.2192, -0.0167],\n",
       "          [ 0.2099, -0.0273,  0.0531,  ..., -0.2179,  0.0290, -0.0598]],\n",
       "         device='cuda:0', requires_grad=True)),\n",
       " ('module.bias_ih_l0', Parameter containing:\n",
       "  tensor([0.2622, 0.0981, 0.1163,  ..., 0.2334, 0.1223, 0.3612], device='cuda:0',\n",
       "         requires_grad=True)),\n",
       " ('module.bias_hh_l0', Parameter containing:\n",
       "  tensor([0.2622, 0.0981, 0.1163,  ..., 0.2334, 0.1223, 0.3612], device='cuda:0',\n",
       "         requires_grad=True))]"
      ]
     },
     "execution_count": null,
     "metadata": {},
     "output_type": "execute_result"
    }
   ],
   "source": [
    "list(learn.model[0].module.rnns[-1].named_parameters())"
   ]
  },
  {
   "cell_type": "code",
   "execution_count": null,
   "metadata": {},
   "outputs": [],
   "source": []
  }
 ],
 "metadata": {
  "kernelspec": {
   "display_name": "Python 3",
   "language": "python",
   "name": "python3"
  }
 },
 "nbformat": 4,
 "nbformat_minor": 2
}
